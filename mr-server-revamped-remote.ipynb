{
 "cells": [
  {
   "cell_type": "code",
   "execution_count": 1,
   "metadata": {
    "collapsed": true
   },
   "outputs": [],
   "source": [
    "# Created: 5-Jul-2018\n",
    "# This is a code version of the original MR but will receive detection\n",
    "# information so that we can separate the processing whether it is \n",
    "# OpenCV-based (i.e. SIFT, ORB, classical, etc.) or TF-based.\n"
   ]
  },
  {
   "cell_type": "code",
   "execution_count": 2,
   "metadata": {
    "collapsed": true
   },
   "outputs": [],
   "source": [
    "# coding: utf-8\n",
    "\n",
    "# In[1]:\n",
    "\n",
    "\n",
    "#!/usr/bin/env python\n",
    "\n",
    "import cv2\n",
    "import numpy as np\n",
    "import sys\n",
    "import time\n",
    "import requests\n",
    "import math\n",
    "\n",
    "import os\n",
    "import six.moves.urllib as urllib\n",
    "import tensorflow as tf\n",
    "import zipfile\n",
    "import collections\n",
    "import warnings\n",
    "warnings.filterwarnings(\"ignore\")\n",
    "\n",
    "from xml.etree.ElementTree import Element, SubElement, Comment, tostring, ElementTree\n",
    "from http.server import BaseHTTPRequestHandler, HTTPServer\n",
    "from collections import defaultdict\n",
    "from io import StringIO, BytesIO\n",
    "from matplotlib import pyplot as plt\n",
    "from PIL import Image"
   ]
  },
  {
   "cell_type": "code",
   "execution_count": 3,
   "metadata": {
    "collapsed": true
   },
   "outputs": [],
   "source": [
    "# This is needed to add the tf-object detecton api modules\n",
    "#sys.path.append(\"/Users/deg032/models/research\")\n",
    "sys.path.append(\"/home/ec2-user/models/research\")\n",
    "from object_detection.utils import ops as utils_ops\n",
    "from object_detection.utils import label_map_util\n",
    "from object_detection.utils import visualization_utils as vis_util\n",
    "\n",
    "if tf.__version__ < '1.4.0':\n",
    "  raise ImportError('Please upgrade your tensorflow installation to v1.4.* or later!')"
   ]
  },
  {
   "cell_type": "code",
   "execution_count": null,
   "metadata": {
    "collapsed": true
   },
   "outputs": [],
   "source": [
    "from ar_markers.hamming.detect import detect_markers"
   ]
  },
  {
   "cell_type": "code",
   "execution_count": 4,
   "metadata": {
    "collapsed": true,
    "scrolled": true
   },
   "outputs": [],
   "source": [
    "# Global parameters\n",
    "detection_mode = \"SIFT\" #default to SIFT\n",
    "\n",
    "# OpenCV parameters\n",
    "search_params = dict(checks = 20) # this is for the flann-based matcher\n",
    "largest = {4032, 3024}\n",
    "\n",
    "ref = \"res/unsw.png\"\n",
    "ref_img = cv2.imread(ref, 0)\n",
    "\n",
    "# SIFT parameters\n",
    "siftDetector = cv2.xfeatures2d.SIFT_create()\n",
    "FLANN_INDEX_KDTREE = 0\n",
    "index_params = dict(algorithm = FLANN_INDEX_KDTREE, tree = 5)\n",
    "siftMatcher = cv2.FlannBasedMatcher(index_params, search_params)\n",
    "rsKP, rsDES = siftDetector.detectAndCompute(ref_img, None)\n",
    "\n",
    "# ORB parameters\n",
    "orbDetector = cv2.ORB_create()\n",
    "#descriptor = cv2.xfeatures2d.SIFT_create()\n",
    "orbMatcher = cv2.BFMatcher(cv2.NORM_HAMMING, crossCheck=True) # for ORB keypoints\n",
    "roKP, roDES = orbDetector.detectAndCompute(ref_img,None)"
   ]
  },
  {
   "cell_type": "code",
   "execution_count": 5,
   "metadata": {
    "collapsed": true
   },
   "outputs": [],
   "source": [
    "# Main tasks\n",
    "\n",
    "# What model to use.\n",
    "MODEL_NAME = 'ssd_mobilenet_v1_coco_2017_11_17'\n",
    "#MODEL_FILE = MODEL_NAME + '.tar.gz'\n",
    "#OBJ_API_BASE = '/Users/deg032/models/research/object_detection/'\n",
    "OBJ_API_BASE = '/home/ec2-user/models/research/object_detection/'\n",
    "\n",
    "# Path to frozen detection graph. This is the actual model that is used for the object detection.\n",
    "PATH_TO_CKPT = MODEL_NAME + '/frozen_inference_graph.pb'\n",
    "\n",
    "# List of the strings that is used to add correct label for each box.\n",
    "PATH_TO_LABELS = os.path.join('data', 'mscoco_label_map.pbtxt')\n",
    "\n",
    "NUM_CLASSES = 90"
   ]
  },
  {
   "cell_type": "code",
   "execution_count": 6,
   "metadata": {
    "collapsed": true
   },
   "outputs": [],
   "source": [
    "detection_graph = tf.Graph()\n",
    "with detection_graph.as_default():\n",
    "  od_graph_def = tf.GraphDef()\n",
    "  with tf.gfile.GFile(OBJ_API_BASE + PATH_TO_CKPT, 'rb') as fid:\n",
    "    serialized_graph = fid.read()\n",
    "    od_graph_def.ParseFromString(serialized_graph)\n",
    "    tf.import_graph_def(od_graph_def, name='')\n",
    "    \n",
    "label_map = label_map_util.load_labelmap(OBJ_API_BASE + PATH_TO_LABELS)\n",
    "categories = label_map_util.convert_label_map_to_categories(label_map, max_num_classes=NUM_CLASSES, use_display_name=True)\n",
    "category_index = label_map_util.create_category_index(categories)"
   ]
  },
  {
   "cell_type": "code",
   "execution_count": 7,
   "metadata": {
    "collapsed": true
   },
   "outputs": [],
   "source": [
    "def get_object_locations(\n",
    "    boxes,\n",
    "    classes,\n",
    "    scores,\n",
    "    category_index,\n",
    "    instance_masks=None,\n",
    "    instance_boundaries=None,\n",
    "    keypoints=None,\n",
    "    use_normalized_coordinates=False,\n",
    "    max_boxes_to_draw=20,\n",
    "    min_score_thresh=.5,\n",
    "    agnostic_mode=False,\n",
    "    line_thickness=4,\n",
    "    groundtruth_box_visualization_color='black',\n",
    "    skip_scores=False,\n",
    "    skip_labels=False):\n",
    "  \"\"\"This is an adaptation of the function from the visualization_utils\n",
    "  named 'visualize_boxes_and_labels_on_image_array' but does not embed the\n",
    "  masks to the image directly but just extract the relative position of\n",
    "  objects within the view. This is to prevent sharing raw visual informa-\n",
    "  tion to intended third parties interested to know the detected objects.\n",
    "  \n",
    "  Overlay labeled boxes on an image with formatted scores and label names.\n",
    "\n",
    "  This function groups boxes that correspond to the same location\n",
    "  and creates a display string for each detection and overlays these\n",
    "  on the image. Note that this function modifies the image in place, and returns\n",
    "  that same image.\n",
    "\n",
    "  Args:\n",
    "    image: uint8 numpy array with shape (img_height, img_width, 3)\n",
    "    boxes: a numpy array of shape [N, 4]\n",
    "    classes: a numpy array of shape [N]. Note that class indices are 1-based,\n",
    "      and match the keys in the label map.\n",
    "    scores: a numpy array of shape [N] or None.  If scores=None, then\n",
    "      this function assumes that the boxes to be plotted are groundtruth\n",
    "      boxes and plot all boxes as black with no classes or scores.\n",
    "    category_index: a dict containing category dictionaries (each holding\n",
    "      category index `id` and category name `name`) keyed by category indices.\n",
    "    instance_masks: a numpy array of shape [N, image_height, image_width] with\n",
    "      values ranging between 0 and 1, can be None.\n",
    "    instance_boundaries: a numpy array of shape [N, image_height, image_width]\n",
    "      with values ranging between 0 and 1, can be None.\n",
    "    keypoints: a numpy array of shape [N, num_keypoints, 2], can\n",
    "      be None\n",
    "    use_normalized_coordinates: whether boxes is to be interpreted as\n",
    "      normalized coordinates or not.\n",
    "    max_boxes_to_draw: maximum number of boxes to visualize.  If None, draw\n",
    "      all boxes.\n",
    "    min_score_thresh: minimum score threshold for a box to be visualized\n",
    "    agnostic_mode: boolean (default: False) controlling whether to evaluate in\n",
    "      class-agnostic mode or not.  This mode will display scores but ignore\n",
    "      classes.\n",
    "    line_thickness: integer (default: 4) controlling line width of the boxes.\n",
    "    groundtruth_box_visualization_color: box color for visualizing groundtruth\n",
    "      boxes\n",
    "    skip_scores: whether to skip score when drawing a single detection\n",
    "    skip_labels: whether to skip label when drawing a single detection\n",
    "\n",
    "  Returns:\n",
    "    uint8 numpy array with shape (img_height, img_width, 3) with overlaid boxes.\n",
    "  \"\"\"\n",
    "  # Create a display string (and color) for every box location, group any boxes\n",
    "  # that correspond to the same location.\n",
    "  box_to_display_str_map = collections.defaultdict(list)\n",
    "  box_to_color_map = collections.defaultdict(str)\n",
    "  box_to_instance_masks_map = {}\n",
    "  box_to_instance_boundaries_map = {}\n",
    "  box_to_keypoints_map = collections.defaultdict(list)\n",
    "  if not max_boxes_to_draw:\n",
    "    max_boxes_to_draw = boxes.shape[0]\n",
    "  for i in range(min(max_boxes_to_draw, boxes.shape[0])):\n",
    "    if scores is None or scores[i] > min_score_thresh:\n",
    "      box = tuple(boxes[i].tolist())\n",
    "      if instance_masks is not None:\n",
    "        box_to_instance_masks_map[box] = instance_masks[i]\n",
    "      if instance_boundaries is not None:\n",
    "        box_to_instance_boundaries_map[box] = instance_boundaries[i]\n",
    "      if keypoints is not None:\n",
    "        box_to_keypoints_map[box].extend(keypoints[i])\n",
    "      if scores is None:\n",
    "        box_to_color_map[box] = groundtruth_box_visualization_color\n",
    "      else:\n",
    "        display_str = ''\n",
    "        if not skip_labels:\n",
    "          if not agnostic_mode:\n",
    "            if classes[i] in category_index.keys():\n",
    "              class_name = category_index[classes[i]]['name']\n",
    "            else:\n",
    "              class_name = 'N/A'\n",
    "            display_str = str(class_name)\n",
    "        if not skip_scores:\n",
    "          if not display_str:\n",
    "            display_str = '{}%'.format(int(100*scores[i]))\n",
    "          else:\n",
    "            display_str = '{}: {}%'.format(display_str, int(100*scores[i]))\n",
    "        box_to_display_str_map[box].append(display_str)\n",
    "  return box_to_display_str_map"
   ]
  },
  {
   "cell_type": "code",
   "execution_count": 8,
   "metadata": {
    "collapsed": true
   },
   "outputs": [],
   "source": [
    "def load_image_into_numpy_array(image):\n",
    "  (im_width, im_height) = image.size\n",
    "  return np.array(image.getdata()).reshape(\n",
    "      (im_height, im_width, 3)).astype(np.uint8)"
   ]
  },
  {
   "cell_type": "code",
   "execution_count": 9,
   "metadata": {
    "collapsed": true
   },
   "outputs": [],
   "source": [
    "def run_inference_for_single_image(image, graph):\n",
    "  with graph.as_default():\n",
    "    with tf.Session() as sess:\n",
    "      # Get handles to input and output tensors\n",
    "      ops = tf.get_default_graph().get_operations()\n",
    "      all_tensor_names = {output.name for op in ops for output in op.outputs}\n",
    "      tensor_dict = {}\n",
    "      for key in [\n",
    "          'num_detections', 'detection_boxes', 'detection_scores',\n",
    "          'detection_classes', 'detection_masks'\n",
    "      ]:\n",
    "        tensor_name = key + ':0'\n",
    "        if tensor_name in all_tensor_names:\n",
    "          tensor_dict[key] = tf.get_default_graph().get_tensor_by_name(\n",
    "              tensor_name)\n",
    "      if 'detection_masks' in tensor_dict:\n",
    "        # The following processing is only for single image\n",
    "        detection_boxes = tf.squeeze(tensor_dict['detection_boxes'], [0])\n",
    "        detection_masks = tf.squeeze(tensor_dict['detection_masks'], [0])\n",
    "        # Reframe is required to translate mask from box coordinates to image coordinates and fit the image size.\n",
    "        real_num_detection = tf.cast(tensor_dict['num_detections'][0], tf.int32)\n",
    "        detection_boxes = tf.slice(detection_boxes, [0, 0], [real_num_detection, -1])\n",
    "        detection_masks = tf.slice(detection_masks, [0, 0, 0], [real_num_detection, -1, -1])\n",
    "        detection_masks_reframed = utils_ops.reframe_box_masks_to_image_masks(\n",
    "            detection_masks, detection_boxes, image.shape[0], image.shape[1])\n",
    "        detection_masks_reframed = tf.cast(\n",
    "            tf.greater(detection_masks_reframed, 0.5), tf.uint8)\n",
    "        # Follow the convention by adding back the batch dimension\n",
    "        tensor_dict['detection_masks'] = tf.expand_dims(\n",
    "            detection_masks_reframed, 0)\n",
    "      image_tensor = tf.get_default_graph().get_tensor_by_name('image_tensor:0')\n",
    "\n",
    "      # Run inference\n",
    "      output_dict = sess.run(tensor_dict,\n",
    "                             feed_dict={image_tensor: np.expand_dims(image, 0)})\n",
    "\n",
    "      # all outputs are float32 numpy arrays, so convert types as appropriate\n",
    "      output_dict['num_detections'] = int(output_dict['num_detections'][0])\n",
    "      output_dict['detection_classes'] = output_dict[\n",
    "          'detection_classes'][0].astype(np.uint8)\n",
    "      output_dict['detection_boxes'] = output_dict['detection_boxes'][0]\n",
    "      output_dict['detection_scores'] = output_dict['detection_scores'][0]\n",
    "      if 'detection_masks' in output_dict:\n",
    "        output_dict['detection_masks'] = output_dict['detection_masks'][0]\n",
    "  return output_dict"
   ]
  },
  {
   "cell_type": "code",
   "execution_count": 10,
   "metadata": {
    "collapsed": true
   },
   "outputs": [],
   "source": [
    "def tf_process_img(payload):\n",
    "\n",
    "    # the array based representation of the image will be used later in order to prepare the\n",
    "    # result image with boxes and labels on it.\n",
    "    t0 = time.clock()\n",
    "    \n",
    "    image = Image.open(BytesIO(payload))\n",
    "    image_np = load_image_into_numpy_array(image)\n",
    "    \n",
    "    #image_np = np.array(payload)\n",
    "    #image_np_expanded = np.expand_dims(image_np, axis=0)\n",
    "    \n",
    "    # Actual detection.\n",
    "    t0_5 = time.clock()\n",
    "    output_dict = run_inference_for_single_image(image_np, detection_graph)\n",
    "    # Visualization of the results of a detection.\n",
    "    results = get_object_locations(\n",
    "        output_dict['detection_boxes'],\n",
    "        output_dict['detection_classes'],\n",
    "        output_dict['detection_scores'],\n",
    "        category_index,\n",
    "        instance_masks=output_dict.get('detection_masks'),\n",
    "        min_score_thresh = .6,\n",
    "        use_normalized_coordinates=True,\n",
    "        line_thickness=8)\n",
    "\n",
    "    t1 = time.clock()\n",
    "    \n",
    "    tf_detect = t0_5 - t0\n",
    "    tf_io = t1-t0\n",
    "    #print(\"Time to TF detect:\", t0_5-t0, \", overall time to TF detect\", t1-t0)\n",
    "\n",
    "    return results, tf_detect, tf_io"
   ]
  },
  {
   "cell_type": "code",
   "execution_count": 11,
   "metadata": {
    "collapsed": true
   },
   "outputs": [],
   "source": [
    "# In[2]:\n",
    "\n",
    "def cv_process_img(payload):\n",
    "    \n",
    "    nparr = np.fromstring(payload, np.uint8)\n",
    "    image = cv2.imdecode(nparr, cv2.IMREAD_COLOR)\n",
    "            \n",
    "    result = []    \n",
    "    MIN_MATCH_COUNT = math.ceil(30/(max(largest)/max(image.shape)))*10 # very relaxed matching at 10 matches minimum\n",
    "    #print(\"MIN_MATCH_COUNT:\", MIN_MATCH_COUNT)\n",
    "    #print(\"Image size:\",image.shape)\n",
    "    query_img = image\n",
    "    \n",
    "    t0 = time.clock()\n",
    "\n",
    "    if \"ORB\" in detection_mode:\n",
    "        \n",
    "        rKP, rDES = roKP, roDES\n",
    "        qKP, qDES = orbDetector.detectAndCompute(query_img, None)\n",
    "        \n",
    "        try:\n",
    "            good = orbMatcher.match(rDES,qDESA)\n",
    "        except:\n",
    "            state = \"Matching Error: not enough query points.\"\n",
    "            result.append(state)\n",
    "            result.append(query_img)\n",
    "            result.append(np.array([]))\n",
    "            t1 = time.clock()\n",
    "            cv_time = t1-t0 #print(state,\"Time to process:\", t1-t0)\n",
    "            result.append((t1-t0))\n",
    "            return result \n",
    "        \n",
    "    else:\n",
    "        # Default to SIFT if non-TF\n",
    "        \n",
    "        rKP, rDES = rsKP, rsDES\n",
    "        qKP, qDES = siftDetector.detectAndCompute(query_img, None)\n",
    "        \n",
    "        try:\n",
    "            matches = siftMatcher.knnMatch(rDES,qDES,k=2)\n",
    "        except:\n",
    "            state = \"Matching Error: not enough query points.\"\n",
    "            result.append(state)\n",
    "            result.append(query_img)\n",
    "            result.append(np.array([]))\n",
    "            t1 = time.clock()\n",
    "            cv_time = t1-t0 #print(state,\"Time to process:\", t1-t0)\n",
    "            result.append((t1-t0))\n",
    "            return result    \n",
    "\n",
    "        # store all the good matches as per Lowe's ratio test.\n",
    "        good = []\n",
    "        distances = []\n",
    "\n",
    "        for m,n in matches:\n",
    "            distances.append(m.distance)\n",
    "            if m.distance < 0.75*n.distance:\n",
    "                good.append(m)\n",
    "                \n",
    "    good = sorted(good, key = lambda x:x.distance)\n",
    "\n",
    "    if len(good)>MIN_MATCH_COUNT:\n",
    "        state = \"Enough matches: object is propbably in view.\"\n",
    "        # extract location of points in both images\n",
    "        src_pts = np.float32([ rKP[m.queryIdx].pt for m in good ]).reshape(-1,1,2)\n",
    "        dst_pts = np.float32([ qKP[m.trainIdx].pt for m in good ]).reshape(-1,1,2)\n",
    "\n",
    "        # find the perspective transform\n",
    "        M, mask = cv2.findHomography(src_pts, dst_pts, cv2.RANSAC,5.0)\n",
    "        matchesMask = mask.ravel().tolist()\n",
    "\n",
    "        # get the transform points in the (captured) query image\n",
    "        h,w = ref_img.shape\n",
    "        pts = np.float32([ [0,0],[0,h-1],[w-1,h-1],[w-1,0] ]).reshape(-1,1,2)\n",
    "\n",
    "        try:\n",
    "            dst = cv2.perspectiveTransform(pts,M)\n",
    "            # draw the transformed image\n",
    "            result.append(state)\n",
    "            result.append(cv2.drawContours(query_img,[np.int32(dst)],-1,(255,0,0),6))\n",
    "            result.append(dst)\n",
    "        except:\n",
    "            state = \"Error getting perspective transform.\"\n",
    "            result.append(state)\n",
    "            result.append(query_img)\n",
    "            result.append(np.array([]))\n",
    "        finally:\n",
    "            t1 = time.clock()\n",
    "            cv_time = t1-t0 #print(state,\"Time to CV process:\", t1-t0)\n",
    "            result.append((t1-t0))\n",
    "\n",
    "    else:\n",
    "        state = \"Not enough matches:\"+ str(len(good))\n",
    "        result.append(state)\n",
    "        result.append(query_img)\n",
    "        result.append(np.array([]))\n",
    "        t1 = time.clock()\n",
    "        cv_time = t1-t0 #print(state,\"Time to CV process:\", t1-t0)\n",
    "        result.append((t1-t0))\n",
    "\n",
    "    return result, cv_time"
   ]
  },
  {
   "cell_type": "code",
   "execution_count": null,
   "metadata": {
    "collapsed": true
   },
   "outputs": [],
   "source": [
    "def marker_process(payload):\n",
    "    \n",
    "    t0 = time.time()\n",
    "    nparr = np.fromstring(payload, np.uint8)\n",
    "    image = cv2.imdecode(nparr, cv2.IMREAD_COLOR)\n",
    "    \n",
    "    plt.imshow(image)\n",
    "    \n",
    "    markers = detect_markers(image)\n",
    "    \n",
    "    t1 = time.time() - t0\n",
    "    return markers, t1"
   ]
  },
  {
   "cell_type": "code",
   "execution_count": 12,
   "metadata": {
    "collapsed": true
   },
   "outputs": [],
   "source": [
    "def resultsToTree(tf_result, cv_result, marker_result):\n",
    "    mr_objects = Element(\"mr_objects\")\n",
    "    #print(\"Goes before check.\")\n",
    "\n",
    "    if tf_result:\n",
    "        #print(\"Goes inside TF check.\")\n",
    "        # Adding the results from the TF operation to the XmlTree\n",
    "        #print(len(tf_result),\"TF object/s\")\n",
    "        for box, name in tf_result.items():\n",
    "            ymin, xmin, ymax, xmax = box\n",
    "            object = SubElement(mr_objects,\"object\")\n",
    "            SubElement(object, \"type\").text = \"TF\"\n",
    "            SubElement(object, \"name\").text = str(name)\n",
    "            SubElement(object, \"ymin\").text = str(ymin)\n",
    "            SubElement(object, \"xmin\").text = str(xmin)\n",
    "            SubElement(object, \"ymax\").text = str(ymax)\n",
    "            SubElement(object, \"xmax\").text = str(xmax)\n",
    "  \n",
    "    if cv_result:\n",
    "        cv_result_list = []\n",
    "        #print(\"Goes inside CV check.\")\n",
    "        for point in cv_result:\n",
    "            cv_result_list.append(point[0])\n",
    "        cv_exes = sorted(cv_result_list, key=lambda x: x[0])\n",
    "        cv_eyes = sorted(cv_result_list, key=lambda x: x[1])\n",
    "        # Adding the cv_results from the CV detection to the XmlTree\n",
    "        object = SubElement(mr_objects,\"object\")\n",
    "        SubElement(object, \"type\").text = \"CV\"\n",
    "        SubElement(object, \"name\").text = \"cv\"\n",
    "        SubElement(object, \"ymin\").text = str(cv_result_list[0][1])\n",
    "        SubElement(object, \"xmin\").text = str(cv_result_list[0][0])\n",
    "        SubElement(object, \"ymax\").text = str(cv_result_list[3][1])\n",
    "        SubElement(object, \"xmax\").text = str(cv_result_list[3][0])\n",
    "        \n",
    "    if marker_result:\n",
    "        for marker in marker_result:\n",
    "            object = SubElement(mr_objects,\"object\")\n",
    "            SubElement(object, \"type\").text = \"MARKER\"\n",
    "            SubElement(object, \"name\").text = str(marker.id)\n",
    "            exes = [marker.contours[0][0][0],marker.contours[1][0][0],marker.contours[2][0][0],marker.contours[3][0][0]]\n",
    "            eyes = [marker.contours[0][0][1],marker.contours[1][0][1],marker.contours[2][0][1],marker.contours[3][0][1]]\n",
    "            exes.sort()\n",
    "            eyes.sort()\n",
    "            SubElement(object, \"ymin\").text = str(eyes[0])\n",
    "            SubElement(object, \"xmin\").text = str(exes[0])\n",
    "            SubElement(object, \"ymax\").text = str(eyes[-1])\n",
    "            SubElement(object, \"xmax\").text = str(exes[-1])\n",
    "\n",
    "    tree = ElementTree(mr_objects)\n",
    "    \n",
    "    return tree"
   ]
  },
  {
   "cell_type": "code",
   "execution_count": 13,
   "metadata": {
    "collapsed": true
   },
   "outputs": [],
   "source": [
    "# In[3]:\n",
    "\n",
    "# HTTPRequestHandler class\n",
    "class testHTTPServer_RequestHandler(BaseHTTPRequestHandler):\n",
    "\n",
    "  # GET\n",
    "    def do_GET(self):\n",
    "        # Send response status code\n",
    "        self.send_response(200)\n",
    "\n",
    "        # Send headers\n",
    "        self.send_header('Content-type','text/html')\n",
    "        self.end_headers()\n",
    "\n",
    "        # Send message back to client\n",
    "        message = \"Hello world!\"\n",
    "        # Write content as utf-8 data\n",
    "        self.wfile.write(bytes(message, \"utf8\"))\n",
    "        return\n",
    "    \n",
    "    \n",
    "    def do_POST(self):\n",
    "        #print( \"incoming http: \", self.path )\n",
    "        t0 = time.time()\n",
    "        tf_detect = 0\n",
    "        tf_io = 0\n",
    "        cv_time = 0\n",
    "\n",
    "        # Gets the parameters of the data\n",
    "        detection_mode = self.headers['Detection-mode']\n",
    "        content_length = int(self.headers['Content-Length'])\n",
    "        content_type = self.headers['Content-type']\n",
    "                \n",
    "        if \"image\" in content_type:\n",
    "            \n",
    "            # Gets the data itself. Also, we over-catch by 16 bytes.\n",
    "            post_data = self.rfile.read(content_length+16)\n",
    "\n",
    "            #print(\"Length of content:\", len(post_data))\n",
    "            #print(\"Before pruning\\n\", post_data)\n",
    "\n",
    "            # We remove the first set of bytes up until the first\n",
    "            # carraige return and newline.\n",
    "            for b in np.arange(len(post_data)):\n",
    "               # Checking where the first newline is\n",
    "                if post_data[b] == 13:\n",
    "                    post_data = post_data[b+2:]\n",
    "                    break\n",
    "                else:\n",
    "                    continue\n",
    "\n",
    "            #stream = BytesIO(post_data)\n",
    "            #tmp = 'tmp.jpg'\n",
    "            #with open('tmp.jpg','wb') as out:\n",
    "            #    out.write(post_data)\n",
    "\n",
    "            #out.close()\n",
    "            # Converting the byte buffer to an numpy array for opencv and tf\n",
    "            #nparr = np.fromstring(post_data, np.uint8)\n",
    "            #img_np = cv2.imdecode(nparr, cv2.IMREAD_COLOR)\n",
    "            marker_time = 0\n",
    "            cv_time = 0\n",
    "            tf_detect = 0\n",
    "            tf_io = 0\n",
    "            try:\n",
    "                if \"TF\" in detection_mode:\n",
    "                    tf_result, tf_detect, tf_io = tf_process_img(post_data)         \n",
    "                    t1 = time.time()\n",
    "                    resultTree = resultsToTree(tf_result,[],[])\n",
    "\n",
    "                elif \"MARKER\" in detection_mode:\n",
    "                    marker_result, marker_time = marker_process(post_data)                        \n",
    "                    t1 = time.time()\n",
    "                    resultTree = resultsToTree([],[],marker_result)\n",
    "\n",
    "                else:\n",
    "                    cv_result, cv_time = cv_process_img(post_data)\n",
    "                    t1 = time.time()\n",
    "                    resultTree = resultsToTree([],cv_result[2],[])\n",
    "                \n",
    "                print(\"Successful results.\")\n",
    "                resultTree.write(\"result.xml\")\n",
    "\n",
    "                # Send message back to client\n",
    "                # Write content as utf-8 data\n",
    "                #print(len(final_img))\n",
    "                #if len(final_img)>3:\n",
    "                #    message = bytes(str(cv_result[3])+ \"\\n\" + np.array2string(final_img[2],precision=0,separator=','), \"utf8\")\n",
    "                #    print(str(message))\n",
    "                #else:\n",
    "                #    message = bytes(str(cv_result[3])+ \"\\n\" + cv_result[0], \"utf8\")\n",
    "\n",
    "                t2 = time.time()\n",
    "                result = 'result.xml'\n",
    "                payload = open(result,'rb')\n",
    "\n",
    "                # Send response\n",
    "                self.send_response(200)\n",
    "                # Send headers\n",
    "                self.send_header('Content-type','text/xml')\n",
    "                self.send_header('Content-length',str(os.path.getsize(result)))\n",
    "                self.end_headers()\n",
    "\n",
    "                self.wfile.write(payload.readline())\n",
    "                #self.wfile.write(bytes(payload, \"utf8\"))\n",
    "                payload.close()\n",
    "            except Exception as e:\n",
    "                t1 = time.time()\n",
    "                #print(e)\n",
    "                print(\"Failed results: \", e)\n",
    "                t2 = time.time()\n",
    "                self.send_response(200)\n",
    "                message = 'Detection Error'\n",
    "                self.send_header('Content-type','text/html')\n",
    "                self.end_headers()\n",
    "                self.wfile.write(bytes(message, \"utf8\"))\n",
    "            finally:\n",
    "                t3 = time.time()                \n",
    "                print(detection_mode,\":\",(cv_time*1000), \",\",(marker_time*1000), \",\", (tf_detect*1000),\",\",(tf_io*1000),\",\", (t1-t0)*1000,\",\",(t3-t1)*1000,\",\",(t3-t0)*1000)\n",
    "                #print(\"XML/Tree operation:\",t2-t1)\n",
    "                #print(\"Sending output\", t3-t2)\n",
    "                #print(\"Overall time:\",t3-t0)            \n",
    "\n",
    "        else:\n",
    "            print(\"Content-type is \", content_type,\". Should be image.\")\n",
    "            self.send_response(200)\n",
    "            self.send_header('Content-type','text/html')\n",
    "            self.end_headers()\n",
    "\n",
    "            # Send message back to client\n",
    "            message = \"Object not detected.\"\n",
    "            # Write content as utf-8 data\n",
    "            self.wfile.write(bytes(message, \"utf8\"))\n",
    "\n",
    "        self.close_connection\n",
    "        return\n",
    "        #client.close()"
   ]
  },
  {
   "cell_type": "code",
   "execution_count": 14,
   "metadata": {
    "collapsed": true
   },
   "outputs": [],
   "source": [
    "# In[4]:\n",
    "\n",
    "def run():\n",
    "    print('starting server...')\n",
    " \n",
    "  # Server settings\n",
    "  # Choose port 8080, for port 80, which is normally used for a http server, you need root access\n",
    "    server_address = ('0.0.0.0', 8081)\n",
    "    httpd = HTTPServer(server_address, testHTTPServer_RequestHandler)\n",
    "    print('running server...')\n",
    "    print(\"CV_Time, Marker_Time, TF_Detect, TF_IO, Overall_Detection, XML_Output, Overall (ms)\")\n",
    "    httpd.serve_forever()"
   ]
  },
  {
   "cell_type": "code",
   "execution_count": 15,
   "metadata": {
    "scrolled": true
   },
   "outputs": [
    {
     "name": "stdout",
     "output_type": "stream",
     "text": [
      "starting server...\n",
      "running server...\n",
      "CV_Time, TF_Detect, TF_IO, Overall_Detection, XML_Output, Overall (ms)\n"
     ]
    },
    {
     "name": "stderr",
     "output_type": "stream",
     "text": [
      "150.229.118.214 - - [09/Jul/2018 15:35:22] \"POST / HTTP/1.1\" 200 -\n"
     ]
    },
    {
     "name": "stdout",
     "output_type": "stream",
     "text": [
      "TF : 0 , 61.20599999999943 , 2105.5329999999994 , 2106.7520000000004 , 0.5109999999994841 , 2107.2629999999995\n"
     ]
    },
    {
     "name": "stderr",
     "output_type": "stream",
     "text": [
      "150.229.118.214 - - [09/Jul/2018 15:35:24] \"POST / HTTP/1.1\" 200 -\n"
     ]
    },
    {
     "name": "stdout",
     "output_type": "stream",
     "text": [
      "TF : 0 , 41.19500000000009 , 1990.4510000000002 , 1990.9770000000008 , 0.2949999999994901 , 1991.2720000000004\n"
     ]
    },
    {
     "name": "stderr",
     "output_type": "stream",
     "text": [
      "150.229.118.214 - - [09/Jul/2018 15:35:25] \"POST / HTTP/1.1\" 200 -\n"
     ]
    },
    {
     "name": "stdout",
     "output_type": "stream",
     "text": [
      "TF : 0 , 40.47699999999921 , 1972.9200000000003 , 1973.592 , 0.34699999999965314 , 1973.9389999999996\n"
     ]
    },
    {
     "name": "stderr",
     "output_type": "stream",
     "text": [
      "150.229.118.214 - - [09/Jul/2018 15:35:27] \"POST / HTTP/1.1\" 200 -\n"
     ]
    },
    {
     "name": "stdout",
     "output_type": "stream",
     "text": [
      "TF : 0 , 40.794 , 1997.4129999999998 , 1998.5990000000004 , 0.22700000000064335 , 1998.8260000000012\n"
     ]
    },
    {
     "name": "stderr",
     "output_type": "stream",
     "text": [
      "150.229.118.214 - - [09/Jul/2018 15:35:29] \"POST / HTTP/1.1\" 200 -\n"
     ]
    },
    {
     "name": "stdout",
     "output_type": "stream",
     "text": [
      "TF : 0 , 40.75900000000132 , 1980.8700000000013 , 1982.0209999999995 , 0.2589999999997872 , 1982.2799999999993\n"
     ]
    },
    {
     "name": "stderr",
     "output_type": "stream",
     "text": [
      "150.229.118.214 - - [09/Jul/2018 15:35:31] \"POST / HTTP/1.1\" 200 -\n"
     ]
    },
    {
     "name": "stdout",
     "output_type": "stream",
     "text": [
      "TF : 0 , 41.74399999999956 , 1975.9449999999995 , 1976.7969999999996 , 0.26599999999987745 , 1977.0629999999994\n"
     ]
    },
    {
     "name": "stderr",
     "output_type": "stream",
     "text": [
      "150.229.118.214 - - [09/Jul/2018 15:35:33] \"POST / HTTP/1.1\" 200 -\n"
     ]
    },
    {
     "name": "stdout",
     "output_type": "stream",
     "text": [
      "TF : 0 , 40.22300000000101 , 1961.4780000000032 , 1962.7430000000031 , 0.3379999999992833 , 1963.0810000000024\n"
     ]
    },
    {
     "name": "stderr",
     "output_type": "stream",
     "text": [
      "150.229.118.214 - - [09/Jul/2018 15:35:35] \"POST / HTTP/1.1\" 200 -\n"
     ]
    },
    {
     "name": "stdout",
     "output_type": "stream",
     "text": [
      "TF : 0 , 43.374000000000024 , 1974.3499999999976 , 1975.2679999999998 , 0.26199999999931833 , 1975.529999999999\n"
     ]
    },
    {
     "name": "stderr",
     "output_type": "stream",
     "text": [
      "150.229.118.214 - - [09/Jul/2018 15:35:37] \"POST / HTTP/1.1\" 200 -\n"
     ]
    },
    {
     "name": "stdout",
     "output_type": "stream",
     "text": [
      "TF : 0 , 41.37400000000113 , 1978.1380000000013 , 1979.0719999999985 , 0.3470000000014295 , 1979.419\n"
     ]
    },
    {
     "name": "stderr",
     "output_type": "stream",
     "text": [
      "150.229.118.214 - - [09/Jul/2018 15:35:39] \"POST / HTTP/1.1\" 200 -\n"
     ]
    },
    {
     "name": "stdout",
     "output_type": "stream",
     "text": [
      "TF : 0 , 41.87300000000249 , 1971.6510000000014 , 1972.6609999999987 , 0.27000000000043656 , 1972.9309999999991\n"
     ]
    },
    {
     "name": "stderr",
     "output_type": "stream",
     "text": [
      "150.229.118.214 - - [09/Jul/2018 15:35:40] \"POST / HTTP/1.1\" 200 -\n"
     ]
    },
    {
     "name": "stdout",
     "output_type": "stream",
     "text": [
      "TF : 0 , 41.976999999999265 , 1984.1809999999996 , 1985.1670000000006 , 0.2630000000003463 , 1985.430000000001\n"
     ]
    },
    {
     "name": "stderr",
     "output_type": "stream",
     "text": [
      "150.229.118.214 - - [09/Jul/2018 15:35:42] \"POST / HTTP/1.1\" 200 -\n"
     ]
    },
    {
     "name": "stdout",
     "output_type": "stream",
     "text": [
      "TF : 0 , 40.36699999999982 , 1987.331000000001 , 1988.7659999999983 , 0.25300000000072487 , 1989.0189999999989\n"
     ]
    },
    {
     "name": "stderr",
     "output_type": "stream",
     "text": [
      "150.229.118.214 - - [09/Jul/2018 15:35:44] \"POST / HTTP/1.1\" 200 -\n"
     ]
    },
    {
     "name": "stdout",
     "output_type": "stream",
     "text": [
      "TF : 0 , 43.969999999998066 , 1981.0850000000003 , 1981.9369999999985 , 0.2980000000007976 , 1982.2349999999992\n"
     ]
    },
    {
     "name": "stderr",
     "output_type": "stream",
     "text": [
      "150.229.118.214 - - [09/Jul/2018 15:35:46] \"POST / HTTP/1.1\" 200 -\n"
     ]
    },
    {
     "name": "stdout",
     "output_type": "stream",
     "text": [
      "TF : 0 , 41.202999999999435 , 1962.9350000000018 , 1964.0550000000019 , 0.2629999999967936 , 1964.3179999999986\n"
     ]
    },
    {
     "name": "stderr",
     "output_type": "stream",
     "text": [
      "150.229.118.214 - - [09/Jul/2018 15:35:48] \"POST / HTTP/1.1\" 200 -\n"
     ]
    },
    {
     "name": "stdout",
     "output_type": "stream",
     "text": [
      "TF : 0 , 40.32899999999984 , 1972.6640000000018 , 1973.7480000000005 , 0.3470000000049822 , 1974.0950000000055\n"
     ]
    },
    {
     "name": "stderr",
     "output_type": "stream",
     "text": [
      "150.229.118.214 - - [09/Jul/2018 15:35:50] \"POST / HTTP/1.1\" 200 -\n"
     ]
    },
    {
     "name": "stdout",
     "output_type": "stream",
     "text": [
      "TF : 0 , 40.43099999999811 , 1972.5439999999992 , 1973.545999999999 , 0.3570000000010509 , 1973.903\n"
     ]
    },
    {
     "name": "stderr",
     "output_type": "stream",
     "text": [
      "150.229.118.214 - - [09/Jul/2018 15:35:52] \"POST / HTTP/1.1\" 200 -\n"
     ]
    },
    {
     "name": "stdout",
     "output_type": "stream",
     "text": [
      "TF : 0 , 39.93799999999936 , 1982.3400000000006 , 1983.317999999997 , 0.35000000000451337 , 1983.6680000000015\n"
     ]
    },
    {
     "name": "stderr",
     "output_type": "stream",
     "text": [
      "150.229.118.214 - - [09/Jul/2018 15:35:54] \"POST / HTTP/1.1\" 200 -\n"
     ]
    },
    {
     "name": "stdout",
     "output_type": "stream",
     "text": [
      "TF : 0 , 44.088000000002125 , 1978.8250000000005 , 1979.7309999999939 , 0.2650000000059549 , 1979.9959999999999\n"
     ]
    },
    {
     "name": "stderr",
     "output_type": "stream",
     "text": [
      "150.229.118.214 - - [09/Jul/2018 15:35:55] \"POST / HTTP/1.1\" 200 -\n"
     ]
    },
    {
     "name": "stdout",
     "output_type": "stream",
     "text": [
      "TF : 0 , 40.98499999999916 , 1982.1839999999966 , 1983.308000000001 , 0.301999999997804 , 1983.6099999999988\n"
     ]
    },
    {
     "name": "stderr",
     "output_type": "stream",
     "text": [
      "150.229.118.214 - - [09/Jul/2018 15:35:57] \"POST / HTTP/1.1\" 200 -\n"
     ]
    },
    {
     "name": "stdout",
     "output_type": "stream",
     "text": [
      "TF : 0 , 41.28700000000407 , 2007.4870000000046 , 2008.623 , 0.2899999999996794 , 2008.9129999999998\n"
     ]
    },
    {
     "name": "stderr",
     "output_type": "stream",
     "text": [
      "150.229.118.214 - - [09/Jul/2018 15:36:58] \"POST / HTTP/1.1\" 200 -\n"
     ]
    },
    {
     "name": "stdout",
     "output_type": "stream",
     "text": [
      "TF : 0 , 56.99099999999646 , 2008.4370000000008 , 2009.1919999999986 , 0.26400000000137425 , 2009.4560000000001\n"
     ]
    },
    {
     "name": "stderr",
     "output_type": "stream",
     "text": [
      "150.229.118.214 - - [09/Jul/2018 15:36:59] \"POST / HTTP/1.1\" 200 -\n"
     ]
    },
    {
     "name": "stdout",
     "output_type": "stream",
     "text": [
      "TF : 0 , 58.59800000000348 , 2016.463999999999 , 2017.4419999999955 , 0.2570000000048367 , 2017.6990000000003\n"
     ]
    },
    {
     "name": "stderr",
     "output_type": "stream",
     "text": [
      "150.229.118.214 - - [09/Jul/2018 15:37:01] \"POST / HTTP/1.1\" 200 -\n"
     ]
    },
    {
     "name": "stdout",
     "output_type": "stream",
     "text": [
      "TF : 0 , 56.47899999999595 , 2108.924000000002 , 2110.1310000000026 , 0.2599999999972624 , 2110.391\n"
     ]
    },
    {
     "name": "stderr",
     "output_type": "stream",
     "text": [
      "150.229.118.214 - - [09/Jul/2018 15:37:04] \"POST / HTTP/1.1\" 200 -\n"
     ]
    },
    {
     "name": "stdout",
     "output_type": "stream",
     "text": [
      "TF : 0 , 60.80699999999695 , 2155.903000000002 , 2156.6639999999993 , 0.25800000000231194 , 2156.9220000000014\n"
     ]
    },
    {
     "name": "stderr",
     "output_type": "stream",
     "text": [
      "150.229.118.214 - - [09/Jul/2018 15:37:06] \"POST / HTTP/1.1\" 200 -\n"
     ]
    },
    {
     "name": "stdout",
     "output_type": "stream",
     "text": [
      "TF : 0 , 59.80799999999675 , 2132.1809999999955 , 2133.299000000001 , 0.26199999999931833 , 2133.561\n"
     ]
    },
    {
     "name": "stderr",
     "output_type": "stream",
     "text": [
      "150.229.118.214 - - [09/Jul/2018 15:37:07] \"POST / HTTP/1.1\" 200 -\n"
     ]
    },
    {
     "name": "stdout",
     "output_type": "stream",
     "text": [
      "TF : 0 , 57.03499999999906 , 2005.141000000002 , 2005.9840000000052 , 0.26199999999931833 , 2006.2460000000044\n"
     ]
    },
    {
     "name": "stderr",
     "output_type": "stream",
     "text": [
      "150.229.118.214 - - [09/Jul/2018 15:37:09] \"POST / HTTP/1.1\" 200 -\n"
     ]
    },
    {
     "name": "stdout",
     "output_type": "stream",
     "text": [
      "TF : 0 , 56.93099999999873 , 2005.6069999999977 , 2006.682000000005 , 0.2579999999952065 , 2006.94\n"
     ]
    },
    {
     "name": "stderr",
     "output_type": "stream",
     "text": [
      "150.229.118.214 - - [09/Jul/2018 15:37:11] \"POST / HTTP/1.1\" 200 -\n"
     ]
    },
    {
     "name": "stdout",
     "output_type": "stream",
     "text": [
      "TF : 0 , 58.16799999999489 , 1996.4590000000017 , 1997.7549999999978 , 0.2820000000056666 , 1998.0370000000037\n"
     ]
    },
    {
     "name": "stderr",
     "output_type": "stream",
     "text": [
      "150.229.118.214 - - [09/Jul/2018 15:37:13] \"POST / HTTP/1.1\" 200 -\n"
     ]
    },
    {
     "name": "stdout",
     "output_type": "stream",
     "text": [
      "TF : 0 , 59.130000000003236 , 2051.673000000001 , 2053.1229999999996 , 0.2589999999997872 , 2053.381999999999\n"
     ]
    },
    {
     "name": "stderr",
     "output_type": "stream",
     "text": [
      "150.229.118.214 - - [09/Jul/2018 15:37:15] \"POST / HTTP/1.1\" 200 -\n"
     ]
    },
    {
     "name": "stdout",
     "output_type": "stream",
     "text": [
      "TF : 0 , 59.10300000000035 , 2041.674999999998 , 2042.772999999997 , 0.27000000000043656 , 2043.0429999999974\n"
     ]
    },
    {
     "name": "stderr",
     "output_type": "stream",
     "text": [
      "150.229.118.214 - - [09/Jul/2018 15:37:17] \"POST / HTTP/1.1\" 200 -\n"
     ]
    },
    {
     "name": "stdout",
     "output_type": "stream",
     "text": [
      "TF : 0 , 61.5669999999966 , 2054.752999999991 , 2056.064000000006 , 0.26400000000137425 , 2056.3280000000077\n"
     ]
    },
    {
     "name": "stderr",
     "output_type": "stream",
     "text": [
      "150.229.118.214 - - [09/Jul/2018 15:37:19] \"POST / HTTP/1.1\" 200 -\n"
     ]
    },
    {
     "name": "stdout",
     "output_type": "stream",
     "text": [
      "TF : 0 , 58.03299999999467 , 2043.9159999999958 , 2045.1340000000046 , 0.2939999999966858 , 2045.4280000000012\n"
     ]
    },
    {
     "name": "stderr",
     "output_type": "stream",
     "text": [
      "150.229.118.214 - - [09/Jul/2018 15:37:21] \"POST / HTTP/1.1\" 200 -\n"
     ]
    },
    {
     "name": "stdout",
     "output_type": "stream",
     "text": [
      "TF : 0 , 58.49800000000016 , 2036.9039999999927 , 2038.0639999999914 , 0.3030000000023847 , 2038.3669999999938\n"
     ]
    },
    {
     "name": "stderr",
     "output_type": "stream",
     "text": [
      "150.229.118.214 - - [09/Jul/2018 15:37:23] \"POST / HTTP/1.1\" 200 -\n"
     ]
    },
    {
     "name": "stdout",
     "output_type": "stream",
     "text": [
      "TF : 0 , 58.345000000002756 , 2036.0820000000076 , 2037.5910000000063 , 0.23600000000101318 , 2037.827000000007\n"
     ]
    },
    {
     "name": "stderr",
     "output_type": "stream",
     "text": [
      "150.229.118.214 - - [09/Jul/2018 15:37:25] \"POST / HTTP/1.1\" 200 -\n"
     ]
    },
    {
     "name": "stdout",
     "output_type": "stream",
     "text": [
      "TF : 0 , 60.31999999999016 , 2041.2249999999972 , 2042.9170000000026 , 0.2520000000032496 , 2043.169000000006\n"
     ]
    },
    {
     "name": "stderr",
     "output_type": "stream",
     "text": [
      "150.229.118.214 - - [09/Jul/2018 15:37:27] \"POST / HTTP/1.1\" 200 -\n"
     ]
    },
    {
     "name": "stdout",
     "output_type": "stream",
     "text": [
      "TF : 0 , 58.1680000000091 , 2021.6570000000047 , 2022.7529999999945 , 0.3279999999961092 , 2023.0809999999906\n"
     ]
    },
    {
     "name": "stderr",
     "output_type": "stream",
     "text": [
      "150.229.118.214 - - [09/Jul/2018 15:37:29] \"POST / HTTP/1.1\" 200 -\n"
     ]
    },
    {
     "name": "stdout",
     "output_type": "stream",
     "text": [
      "TF : 0 , 57.86700000000167 , 2055.024000000003 , 2056.5500000000015 , 0.26400000000137425 , 2056.814000000003\n"
     ]
    },
    {
     "name": "stderr",
     "output_type": "stream",
     "text": [
      "150.229.118.214 - - [09/Jul/2018 15:37:30] \"POST / HTTP/1.1\" 200 -\n"
     ]
    },
    {
     "name": "stdout",
     "output_type": "stream",
     "text": [
      "TF : 0 , 57.738999999997986 , 2061.085999999989 , 2062.0309999999904 , 0.3750000000053433 , 2062.405999999996\n"
     ]
    },
    {
     "name": "stderr",
     "output_type": "stream",
     "text": [
      "150.229.118.214 - - [09/Jul/2018 15:37:32] \"POST / HTTP/1.1\" 200 -\n"
     ]
    },
    {
     "name": "stdout",
     "output_type": "stream",
     "text": [
      "TF : 0 , 61.04700000000207 , 2051.4089999999924 , 2052.619000000007 , 0.263000000003899 , 2052.882000000011\n"
     ]
    },
    {
     "name": "stderr",
     "output_type": "stream",
     "text": [
      "150.229.118.214 - - [09/Jul/2018 15:37:34] \"POST / HTTP/1.1\" 200 -\n"
     ]
    },
    {
     "name": "stdout",
     "output_type": "stream",
     "text": [
      "TF : 0 , 58.02300000000571 , 2042.7980000000048 , 2043.83 , 0.29899999999827287 , 2044.128999999998\n"
     ]
    },
    {
     "name": "stderr",
     "output_type": "stream",
     "text": [
      "150.229.118.214 - - [09/Jul/2018 15:38:44] \"POST / HTTP/1.1\" 200 -\n"
     ]
    },
    {
     "name": "stdout",
     "output_type": "stream",
     "text": [
      "TF : 0 , 71.13700000000733 , 2029.1280000000002 , 2030.8130000000092 , 0.263000000003899 , 2031.076000000013\n"
     ]
    },
    {
     "name": "stderr",
     "output_type": "stream",
     "text": [
      "150.229.118.214 - - [09/Jul/2018 15:38:46] \"POST / HTTP/1.1\" 200 -\n"
     ]
    },
    {
     "name": "stdout",
     "output_type": "stream",
     "text": [
      "TF : 0 , 73.62899999999684 , 2069.1360000000004 , 2070.3960000000025 , 0.2579999999881011 , 2070.6539999999904\n"
     ]
    },
    {
     "name": "stderr",
     "output_type": "stream",
     "text": [
      "150.229.118.214 - - [09/Jul/2018 15:38:48] \"POST / HTTP/1.1\" 200 -\n"
     ]
    },
    {
     "name": "stdout",
     "output_type": "stream",
     "text": [
      "TF : 0 , 73.51799999999287 , 2058.943999999997 , 2059.8889999999983 , 0.704999999996403 , 2060.5939999999946\n"
     ]
    },
    {
     "name": "stderr",
     "output_type": "stream",
     "text": [
      "150.229.118.214 - - [09/Jul/2018 15:38:50] \"POST / HTTP/1.1\" 200 -\n"
     ]
    },
    {
     "name": "stdout",
     "output_type": "stream",
     "text": [
      "TF : 0 , 73.76999999999612 , 2058.00099999999 , 2059.4449999999965 , 0.2800000000036107 , 2059.7250000000004\n"
     ]
    },
    {
     "name": "stderr",
     "output_type": "stream",
     "text": [
      "150.229.118.214 - - [09/Jul/2018 15:38:52] \"POST / HTTP/1.1\" 200 -\n"
     ]
    },
    {
     "name": "stdout",
     "output_type": "stream",
     "text": [
      "TF : 0 , 76.71200000000056 , 2084.4979999999964 , 2085.9459999999926 , 0.2750000000020236 , 2086.220999999995\n"
     ]
    },
    {
     "name": "stderr",
     "output_type": "stream",
     "text": [
      "150.229.118.214 - - [09/Jul/2018 15:38:54] \"POST / HTTP/1.1\" 200 -\n"
     ]
    },
    {
     "name": "stdout",
     "output_type": "stream",
     "text": [
      "TF : 0 , 73.94499999999482 , 2088.8109999999924 , 2090.094999999991 , 0.25800000000231194 , 2090.3529999999932\n"
     ]
    },
    {
     "name": "stderr",
     "output_type": "stream",
     "text": [
      "150.229.118.214 - - [09/Jul/2018 15:38:56] \"POST / HTTP/1.1\" 200 -\n"
     ]
    },
    {
     "name": "stdout",
     "output_type": "stream",
     "text": [
      "TF : 0 , 72.02900000000056 , 2049.9570000000062 , 2051.276999999999 , 0.2510000000057744 , 2051.528000000005\n"
     ]
    },
    {
     "name": "stderr",
     "output_type": "stream",
     "text": [
      "150.229.118.214 - - [09/Jul/2018 15:38:58] \"POST / HTTP/1.1\" 200 -\n"
     ]
    },
    {
     "name": "stdout",
     "output_type": "stream",
     "text": [
      "TF : 0 , 73.61399999999207 , 2083.399 , 2084.540000000004 , 0.2479999999991378 , 2084.788000000003\n"
     ]
    },
    {
     "name": "stderr",
     "output_type": "stream",
     "text": [
      "150.229.118.214 - - [09/Jul/2018 15:39:00] \"POST / HTTP/1.1\" 200 -\n"
     ]
    },
    {
     "name": "stdout",
     "output_type": "stream",
     "text": [
      "TF : 0 , 75.22599999998647 , 2062.973999999997 , 2064.453999999998 , 0.3229999999945221 , 2064.7769999999923\n"
     ]
    },
    {
     "name": "stderr",
     "output_type": "stream",
     "text": [
      "150.229.118.214 - - [09/Jul/2018 15:39:02] \"POST / HTTP/1.1\" 200 -\n"
     ]
    },
    {
     "name": "stdout",
     "output_type": "stream",
     "text": [
      "TF : 0 , 76.55499999999904 , 2064.2589999999927 , 2065.94299999999 , 0.2570000000048367 , 2066.199999999995\n"
     ]
    },
    {
     "name": "stderr",
     "output_type": "stream",
     "text": [
      "150.229.118.214 - - [09/Jul/2018 15:39:04] \"POST / HTTP/1.1\" 200 -\n"
     ]
    },
    {
     "name": "stdout",
     "output_type": "stream",
     "text": [
      "TF : 0 , 73.79400000000658 , 2059.3230000000062 , 2060.247000000004 , 0.24999999999408828 , 2060.496999999998\n"
     ]
    },
    {
     "name": "stderr",
     "output_type": "stream",
     "text": [
      "150.229.118.214 - - [09/Jul/2018 15:39:06] \"POST / HTTP/1.1\" 200 -\n"
     ]
    },
    {
     "name": "stdout",
     "output_type": "stream",
     "text": [
      "TF : 0 , 73.0259999999987 , 2066.647000000003 , 2068.1849999999995 , 0.2610000000089485 , 2068.4460000000086\n"
     ]
    },
    {
     "name": "stderr",
     "output_type": "stream",
     "text": [
      "150.229.118.214 - - [09/Jul/2018 15:39:08] \"POST / HTTP/1.1\" 200 -\n"
     ]
    },
    {
     "name": "stdout",
     "output_type": "stream",
     "text": [
      "TF : 0 , 73.77699999999265 , 2060.16799999999 , 2061.245999999997 , 0.25699999999062584 , 2061.502999999988\n"
     ]
    },
    {
     "name": "stderr",
     "output_type": "stream",
     "text": [
      "150.229.118.214 - - [09/Jul/2018 15:39:10] \"POST / HTTP/1.1\" 200 -\n"
     ]
    },
    {
     "name": "stdout",
     "output_type": "stream",
     "text": [
      "TF : 0 , 71.45500000000027 , 2060.6229999999923 , 2061.4499999999935 , 0.2510000000057744 , 2061.700999999999\n"
     ]
    },
    {
     "name": "stderr",
     "output_type": "stream",
     "text": [
      "150.229.118.214 - - [09/Jul/2018 15:39:12] \"POST / HTTP/1.1\" 200 -\n"
     ]
    },
    {
     "name": "stdout",
     "output_type": "stream",
     "text": [
      "TF : 0 , 71.59599999999955 , 2041.121000000004 , 2042.476999999991 , 0.25600000000736145 , 2042.7329999999984\n"
     ]
    },
    {
     "name": "stderr",
     "output_type": "stream",
     "text": [
      "150.229.118.214 - - [09/Jul/2018 15:39:14] \"POST / HTTP/1.1\" 200 -\n"
     ]
    },
    {
     "name": "stdout",
     "output_type": "stream",
     "text": [
      "TF : 0 , 72.29199999999025 , 2076.498000000001 , 2077.652999999998 , 0.3379999999992833 , 2077.9909999999973\n"
     ]
    },
    {
     "name": "stderr",
     "output_type": "stream",
     "text": [
      "150.229.118.214 - - [09/Jul/2018 15:39:16] \"POST / HTTP/1.1\" 200 -\n"
     ]
    },
    {
     "name": "stdout",
     "output_type": "stream",
     "text": [
      "TF : 0 , 74.73099999999988 , 2061.04400000001 , 2062.4729999999972 , 0.30999999999892225 , 2062.782999999996\n"
     ]
    },
    {
     "name": "stderr",
     "output_type": "stream",
     "text": [
      "150.229.118.214 - - [09/Jul/2018 15:39:18] \"POST / HTTP/1.1\" 200 -\n"
     ]
    },
    {
     "name": "stdout",
     "output_type": "stream",
     "text": [
      "TF : 0 , 73.4690000000029 , 2048.757000000009 , 2050.6460000000006 , 0.29899999999827287 , 2050.944999999999\n"
     ]
    },
    {
     "name": "stderr",
     "output_type": "stream",
     "text": [
      "150.229.118.214 - - [09/Jul/2018 15:39:20] \"POST / HTTP/1.1\" 200 -\n"
     ]
    },
    {
     "name": "stdout",
     "output_type": "stream",
     "text": [
      "TF : 0 , 73.20900000000563 , 2044.393999999997 , 2046.040000000005 , 0.32500000000368345 , 2046.3650000000086\n"
     ]
    },
    {
     "name": "stderr",
     "output_type": "stream",
     "text": [
      "150.229.118.214 - - [09/Jul/2018 15:39:22] \"POST / HTTP/1.1\" 200 -\n"
     ]
    },
    {
     "name": "stdout",
     "output_type": "stream",
     "text": [
      "TF : 0 , 72.93500000000108 , 2057.3329999999996 , 2058.7409999999977 , 0.25499999999567535 , 2058.9959999999933\n"
     ]
    },
    {
     "name": "stderr",
     "output_type": "stream",
     "text": [
      "150.229.118.214 - - [09/Jul/2018 15:39:58] \"POST / HTTP/1.1\" 200 -\n"
     ]
    },
    {
     "name": "stdout",
     "output_type": "stream",
     "text": [
      "TF : 0 , 89.91299999999569 , 2037.985000000006 , 2039.332999999985 , 0.2920000000017353 , 2039.6249999999868\n"
     ]
    },
    {
     "name": "stderr",
     "output_type": "stream",
     "text": [
      "150.229.118.214 - - [09/Jul/2018 15:40:00] \"POST / HTTP/1.1\" 200 -\n"
     ]
    },
    {
     "name": "stdout",
     "output_type": "stream",
     "text": [
      "TF : 0 , 91.09499999999571 , 2054.4910000000127 , 2059.113999999994 , 0.36900000000628097 , 2059.483\n"
     ]
    },
    {
     "name": "stderr",
     "output_type": "stream",
     "text": [
      "150.229.118.214 - - [09/Jul/2018 15:40:02] \"POST / HTTP/1.1\" 200 -\n"
     ]
    },
    {
     "name": "stdout",
     "output_type": "stream",
     "text": [
      "TF : 0 , 93.47099999999386 , 2038.3850000000052 , 2040.588999999983 , 0.2589999999997872 , 2040.8479999999827\n"
     ]
    },
    {
     "name": "stderr",
     "output_type": "stream",
     "text": [
      "150.229.118.214 - - [09/Jul/2018 15:40:04] \"POST / HTTP/1.1\" 200 -\n"
     ]
    },
    {
     "name": "stdout",
     "output_type": "stream",
     "text": [
      "TF : 0 , 91.89299999999889 , 2070.2640000000088 , 2071.99 , 0.2750000000162345 , 2072.265000000016\n"
     ]
    },
    {
     "name": "stderr",
     "output_type": "stream",
     "text": [
      "150.229.118.214 - - [09/Jul/2018 15:40:06] \"POST / HTTP/1.1\" 200 -\n"
     ]
    },
    {
     "name": "stdout",
     "output_type": "stream",
     "text": [
      "TF : 0 , 92.64699999999948 , 2071.8359999999902 , 2073.3549999999923 , 0.29499999999416104 , 2073.6499999999864\n"
     ]
    },
    {
     "name": "stderr",
     "output_type": "stream",
     "text": [
      "150.229.118.214 - - [09/Jul/2018 15:40:08] \"POST / HTTP/1.1\" 200 -\n"
     ]
    },
    {
     "name": "stdout",
     "output_type": "stream",
     "text": [
      "TF : 0 , 92.98999999998614 , 2090.5349999999885 , 2092.0549999999876 , 0.3379999999992833 , 2092.3929999999873\n"
     ]
    },
    {
     "name": "stderr",
     "output_type": "stream",
     "text": [
      "150.229.118.214 - - [09/Jul/2018 15:40:10] \"POST / HTTP/1.1\" 200 -\n"
     ]
    },
    {
     "name": "stdout",
     "output_type": "stream",
     "text": [
      "TF : 0 , 93.59200000000101 , 2061.8120000000035 , 2063.6810000000023 , 0.3010000000074342 , 2063.98200000001\n"
     ]
    },
    {
     "name": "stderr",
     "output_type": "stream",
     "text": [
      "150.229.118.214 - - [09/Jul/2018 15:40:12] \"POST / HTTP/1.1\" 200 -\n"
     ]
    },
    {
     "name": "stdout",
     "output_type": "stream",
     "text": [
      "TF : 0 , 93.6839999999961 , 2068.815999999998 , 2071.1319999999773 , 0.33200000001443186 , 2071.4639999999918\n"
     ]
    },
    {
     "name": "stderr",
     "output_type": "stream",
     "text": [
      "150.229.118.214 - - [09/Jul/2018 15:40:14] \"POST / HTTP/1.1\" 200 -\n"
     ]
    },
    {
     "name": "stdout",
     "output_type": "stream",
     "text": [
      "TF : 0 , 100.52000000001726 , 2125.6230000000187 , 2126.9400000000187 , 0.2589999999997872 , 2127.1990000000187\n"
     ]
    },
    {
     "name": "stderr",
     "output_type": "stream",
     "text": [
      "150.229.118.214 - - [09/Jul/2018 15:40:16] \"POST / HTTP/1.1\" 200 -\n"
     ]
    },
    {
     "name": "stdout",
     "output_type": "stream",
     "text": [
      "TF : 0 , 92.61300000000006 , 2074.815000000001 , 2076.7079999999964 , 0.30000000000995897 , 2077.008000000006\n"
     ]
    },
    {
     "name": "stderr",
     "output_type": "stream",
     "text": [
      "150.229.118.214 - - [09/Jul/2018 15:40:18] \"POST / HTTP/1.1\" 200 -\n"
     ]
    },
    {
     "name": "stdout",
     "output_type": "stream",
     "text": [
      "TF : 0 , 92.86199999999667 , 2089.8709999999883 , 2091.413000000017 , 0.252999999986514 , 2091.666000000004\n"
     ]
    },
    {
     "name": "stderr",
     "output_type": "stream",
     "text": [
      "150.229.118.214 - - [09/Jul/2018 15:40:20] \"POST / HTTP/1.1\" 200 -\n"
     ]
    },
    {
     "name": "stdout",
     "output_type": "stream",
     "text": [
      "TF : 0 , 93.56900000000223 , 2076.418999999987 , 2078.437000000008 , 0.30200000000490945 , 2078.739000000013\n"
     ]
    },
    {
     "name": "stderr",
     "output_type": "stream",
     "text": [
      "150.229.118.214 - - [09/Jul/2018 15:40:22] \"POST / HTTP/1.1\" 200 -\n"
     ]
    },
    {
     "name": "stdout",
     "output_type": "stream",
     "text": [
      "TF : 0 , 92.32200000002422 , 2084.3480000000054 , 2086.383000000012 , 0.2619999999922129 , 2086.645000000004\n"
     ]
    },
    {
     "name": "stderr",
     "output_type": "stream",
     "text": [
      "150.229.118.214 - - [09/Jul/2018 15:40:24] \"POST / HTTP/1.1\" 200 -\n"
     ]
    },
    {
     "name": "stdout",
     "output_type": "stream",
     "text": [
      "TF : 0 , 91.98500000002241 , 2096.0950000000194 , 2097.99000000001 , 0.23300000000858745 , 2098.2230000000186\n"
     ]
    },
    {
     "name": "stderr",
     "output_type": "stream",
     "text": [
      "150.229.118.214 - - [09/Jul/2018 15:40:26] \"POST / HTTP/1.1\" 200 -\n"
     ]
    },
    {
     "name": "stdout",
     "output_type": "stream",
     "text": [
      "TF : 0 , 89.56500000002166 , 2257.3830000000044 , 2258.489999999995 , 0.36399999999048305 , 2258.8539999999853\n"
     ]
    },
    {
     "name": "stderr",
     "output_type": "stream",
     "text": [
      "150.229.118.214 - - [09/Jul/2018 15:40:28] \"POST / HTTP/1.1\" 200 -\n"
     ]
    },
    {
     "name": "stdout",
     "output_type": "stream",
     "text": [
      "TF : 0 , 95.77199999998243 , 2427.0630000000037 , 2428.0939999999873 , 0.319000000018832 , 2428.413000000006\n"
     ]
    },
    {
     "name": "stderr",
     "output_type": "stream",
     "text": [
      "150.229.118.214 - - [09/Jul/2018 15:40:30] \"POST / HTTP/1.1\" 200 -\n"
     ]
    },
    {
     "name": "stdout",
     "output_type": "stream",
     "text": [
      "TF : 0 , 100.60699999999656 , 2170.168999999987 , 2171.3060000000155 , 0.2709999999979118 , 2171.5770000000134\n"
     ]
    },
    {
     "name": "stderr",
     "output_type": "stream",
     "text": [
      "150.229.118.214 - - [09/Jul/2018 15:40:32] \"POST / HTTP/1.1\" 200 -\n"
     ]
    },
    {
     "name": "stdout",
     "output_type": "stream",
     "text": [
      "TF : 0 , 91.62599999999088 , 2081.4210000000057 , 2082.896000000005 , 0.40799999999308056 , 2083.3039999999983\n"
     ]
    },
    {
     "name": "stderr",
     "output_type": "stream",
     "text": [
      "150.229.118.214 - - [09/Jul/2018 15:40:34] \"POST / HTTP/1.1\" 200 -\n"
     ]
    },
    {
     "name": "stdout",
     "output_type": "stream",
     "text": [
      "TF : 0 , 95.01499999998941 , 2075.5880000000107 , 2076.9240000000195 , 0.33899999999675856 , 2077.2630000000163\n"
     ]
    },
    {
     "name": "stderr",
     "output_type": "stream",
     "text": [
      "150.229.118.214 - - [09/Jul/2018 15:40:36] \"POST / HTTP/1.1\" 200 -\n"
     ]
    },
    {
     "name": "stdout",
     "output_type": "stream",
     "text": [
      "TF : 0 , 94.02000000000044 , 2072.130999999985 , 2074.2309999999975 , 0.25399999998398926 , 2074.4849999999815\n"
     ]
    },
    {
     "name": "stderr",
     "output_type": "stream",
     "text": [
      "150.229.118.214 - - [09/Jul/2018 15:40:55] \"POST / HTTP/1.1\" 200 -\n"
     ]
    },
    {
     "name": "stdout",
     "output_type": "stream",
     "text": [
      "TF : 0 , 163.61599999999044 , 2101.621999999992 , 2104.0279999999993 , 0.32300000000873297 , 2104.3510000000083\n"
     ]
    },
    {
     "name": "stderr",
     "output_type": "stream",
     "text": [
      "150.229.118.214 - - [09/Jul/2018 15:40:57] \"POST / HTTP/1.1\" 200 -\n"
     ]
    },
    {
     "name": "stdout",
     "output_type": "stream",
     "text": [
      "TF : 0 , 176.6230000000064 , 2157.7539999999826 , 2160.0090000000023 , 0.26099999999473766 , 2160.269999999997\n"
     ]
    },
    {
     "name": "stderr",
     "output_type": "stream",
     "text": [
      "150.229.118.214 - - [09/Jul/2018 15:40:59] \"POST / HTTP/1.1\" 200 -\n"
     ]
    },
    {
     "name": "stdout",
     "output_type": "stream",
     "text": [
      "TF : 0 , 169.37699999999722 , 2157.3929999999846 , 2159.6329999999853 , 0.26300000001810986 , 2159.8960000000034\n"
     ]
    },
    {
     "name": "stderr",
     "output_type": "stream",
     "text": [
      "150.229.118.214 - - [09/Jul/2018 15:41:01] \"POST / HTTP/1.1\" 200 -\n"
     ]
    },
    {
     "name": "stdout",
     "output_type": "stream",
     "text": [
      "TF : 0 , 166.20800000001168 , 2161.535000000015 , 2165.5759999999873 , 0.3070000000207074 , 2165.883000000008\n"
     ]
    },
    {
     "name": "stderr",
     "output_type": "stream",
     "text": [
      "150.229.118.214 - - [09/Jul/2018 15:41:03] \"POST / HTTP/1.1\" 200 -\n"
     ]
    },
    {
     "name": "stdout",
     "output_type": "stream",
     "text": [
      "TF : 0 , 171.17300000001023 , 2136.9300000000067 , 2138.9010000000044 , 0.26299999998968815 , 2139.163999999994\n"
     ]
    },
    {
     "name": "stderr",
     "output_type": "stream",
     "text": [
      "150.229.118.214 - - [09/Jul/2018 15:41:05] \"POST / HTTP/1.1\" 200 -\n"
     ]
    },
    {
     "name": "stdout",
     "output_type": "stream",
     "text": [
      "TF : 0 , 177.78200000000766 , 2166.2819999999956 , 2168.592999999987 , 0.2710000000263335 , 2168.864000000013\n"
     ]
    },
    {
     "name": "stderr",
     "output_type": "stream",
     "text": [
      "150.229.118.214 - - [09/Jul/2018 15:41:07] \"POST / HTTP/1.1\" 200 -\n"
     ]
    },
    {
     "name": "stdout",
     "output_type": "stream",
     "text": [
      "TF : 0 , 169.16599999998994 , 2136.141000000009 , 2138.5369999999853 , 0.5400000000008731 , 2139.076999999986\n"
     ]
    },
    {
     "name": "stderr",
     "output_type": "stream",
     "text": [
      "150.229.118.214 - - [09/Jul/2018 15:41:09] \"POST / HTTP/1.1\" 200 -\n"
     ]
    },
    {
     "name": "stdout",
     "output_type": "stream",
     "text": [
      "TF : 0 , 170.89500000000157 , 2141.7280000000005 , 2147.4289999999883 , 0.26300000001810986 , 2147.6920000000064\n"
     ]
    },
    {
     "name": "stderr",
     "output_type": "stream",
     "text": [
      "150.229.118.214 - - [09/Jul/2018 15:41:11] \"POST / HTTP/1.1\" 200 -\n"
     ]
    },
    {
     "name": "stdout",
     "output_type": "stream",
     "text": [
      "TF : 0 , 167.9110000000037 , 2157.3980000000006 , 2159.5800000000054 , 0.30399999999985994 , 2159.8840000000055\n"
     ]
    },
    {
     "name": "stderr",
     "output_type": "stream",
     "text": [
      "150.229.118.214 - - [09/Jul/2018 15:41:13] \"POST / HTTP/1.1\" 200 -\n"
     ]
    },
    {
     "name": "stdout",
     "output_type": "stream",
     "text": [
      "TF : 0 , 167.26099999999633 , 2127.4029999999866 , 2130.106000000012 , 0.3579999999772099 , 2130.463999999989\n"
     ]
    },
    {
     "name": "stderr",
     "output_type": "stream",
     "text": [
      "150.229.118.214 - - [09/Jul/2018 15:41:15] \"POST / HTTP/1.1\" 200 -\n"
     ]
    },
    {
     "name": "stdout",
     "output_type": "stream",
     "text": [
      "TF : 0 , 165.65099999999688 , 2139.712000000003 , 2142.001000000022 , 0.2599999999972624 , 2142.261000000019\n"
     ]
    },
    {
     "name": "stderr",
     "output_type": "stream",
     "text": [
      "150.229.118.214 - - [09/Jul/2018 15:41:17] \"POST / HTTP/1.1\" 200 -\n"
     ]
    },
    {
     "name": "stdout",
     "output_type": "stream",
     "text": [
      "TF : 0 , 165.79199999998195 , 2130.899999999997 , 2133.52900000001 , 0.2639999999871634 , 2133.792999999997\n"
     ]
    },
    {
     "name": "stderr",
     "output_type": "stream",
     "text": [
      "150.229.118.214 - - [09/Jul/2018 15:41:19] \"POST / HTTP/1.1\" 200 -\n"
     ]
    },
    {
     "name": "stdout",
     "output_type": "stream",
     "text": [
      "TF : 0 , 171.07200000000944 , 2154.637000000008 , 2157.432 , 0.30000000000995897 , 2157.73200000001\n"
     ]
    },
    {
     "name": "stderr",
     "output_type": "stream",
     "text": [
      "150.229.118.214 - - [09/Jul/2018 15:41:21] \"POST / HTTP/1.1\" 200 -\n"
     ]
    },
    {
     "name": "stdout",
     "output_type": "stream",
     "text": [
      "TF : 0 , 171.1169999999811 , 2139.595999999983 , 2142.386999999985 , 0.26099999999473766 , 2142.64799999998\n"
     ]
    },
    {
     "name": "stderr",
     "output_type": "stream",
     "text": [
      "150.229.118.214 - - [09/Jul/2018 15:41:24] \"POST / HTTP/1.1\" 200 -\n"
     ]
    },
    {
     "name": "stdout",
     "output_type": "stream",
     "text": [
      "TF : 0 , 166.90500000001407 , 2141.928000000007 , 2144.2790000000114 , 0.275999999985288 , 2144.5549999999967\n"
     ]
    },
    {
     "name": "stderr",
     "output_type": "stream",
     "text": [
      "150.229.118.214 - - [09/Jul/2018 15:41:26] \"POST / HTTP/1.1\" 200 -\n"
     ]
    },
    {
     "name": "stdout",
     "output_type": "stream",
     "text": [
      "TF : 0 , 167.66699999999446 , 2138.35899999998 , 2140.1520000000005 , 0.2509999999915635 , 2140.402999999992\n"
     ]
    },
    {
     "name": "stderr",
     "output_type": "stream",
     "text": [
      "150.229.118.214 - - [09/Jul/2018 15:41:28] \"POST / HTTP/1.1\" 200 -\n"
     ]
    },
    {
     "name": "stdout",
     "output_type": "stream",
     "text": [
      "TF : 0 , 164.98300000000654 , 2176.014000000009 , 2178.8930000000164 , 0.298999999984062 , 2179.1920000000005\n"
     ]
    },
    {
     "name": "stderr",
     "output_type": "stream",
     "text": [
      "150.229.118.214 - - [09/Jul/2018 15:41:30] \"POST / HTTP/1.1\" 200 -\n"
     ]
    },
    {
     "name": "stdout",
     "output_type": "stream",
     "text": [
      "TF : 0 , 168.73999999998546 , 2162.0100000000093 , 2164.6379999999963 , 0.2750000000162345 , 2164.9130000000127\n"
     ]
    },
    {
     "name": "stderr",
     "output_type": "stream",
     "text": [
      "150.229.118.214 - - [09/Jul/2018 15:41:32] \"POST / HTTP/1.1\" 200 -\n"
     ]
    },
    {
     "name": "stdout",
     "output_type": "stream",
     "text": [
      "TF : 0 , 164.6069999999895 , 2154.0660000000003 , 2158.6079999999865 , 0.25400000001241096 , 2158.861999999999\n"
     ]
    },
    {
     "name": "stderr",
     "output_type": "stream",
     "text": [
      "150.229.118.214 - - [09/Jul/2018 15:41:34] \"POST / HTTP/1.1\" 200 -\n"
     ]
    },
    {
     "name": "stdout",
     "output_type": "stream",
     "text": [
      "TF : 0 , 168.8389999999913 , 2173.7540000000026 , 2176.1140000000123 , 0.3579999999772099 , 2176.4719999999897\n"
     ]
    },
    {
     "name": "stderr",
     "output_type": "stream",
     "text": [
      "150.229.118.214 - - [09/Jul/2018 15:41:52] \"POST / HTTP/1.1\" 200 -\n",
      "150.229.118.214 - - [09/Jul/2018 15:41:52] \"POST / HTTP/1.1\" 200 -\n"
     ]
    },
    {
     "name": "stdout",
     "output_type": "stream",
     "text": [
      "ORB : 117.80100000001426 , 0 , 0 , 137.15299999998365 , 2.439000000009628 , 139.59199999999328\n",
      "ORB : 124.75499999999329 , 0 , 0 , 140.6120000000044 , 1.697000000007165 , 142.30900000001157\n"
     ]
    },
    {
     "name": "stderr",
     "output_type": "stream",
     "text": [
      "150.229.118.214 - - [09/Jul/2018 15:41:52] \"POST / HTTP/1.1\" 200 -\n"
     ]
    },
    {
     "name": "stdout",
     "output_type": "stream",
     "text": [
      "ORB : 107.46299999999565 , 0 , 0 , 127.03399999998055 , 1.90000000000623 , 128.93399999998678\n"
     ]
    },
    {
     "name": "stderr",
     "output_type": "stream",
     "text": [
      "150.229.118.214 - - [09/Jul/2018 15:41:52] \"POST / HTTP/1.1\" 200 -\n"
     ]
    },
    {
     "name": "stdout",
     "output_type": "stream",
     "text": [
      "ORB : 123.67899999998144 , 0 , 0 , 142.8500000000099 , 2.669999999994843 , 145.52000000000476\n"
     ]
    },
    {
     "name": "stderr",
     "output_type": "stream",
     "text": [
      "150.229.118.214 - - [09/Jul/2018 15:41:52] \"POST / HTTP/1.1\" 200 -\n",
      "150.229.118.214 - - [09/Jul/2018 15:41:53] \"POST / HTTP/1.1\" 200 -\n"
     ]
    },
    {
     "name": "stdout",
     "output_type": "stream",
     "text": [
      "ORB : 135.69000000001097 , 0 , 0 , 155.63900000000785 , 1.972999999992453 , 157.6120000000003\n",
      "ORB : 138.43700000001036 , 0 , 0 , 157.29400000000737 , 1.6899999999964166 , 158.9840000000038"
     ]
    },
    {
     "name": "stderr",
     "output_type": "stream",
     "text": [
      "150.229.118.214 - - [09/Jul/2018 15:41:53] \"POST / HTTP/1.1\" 200 -\n"
     ]
    },
    {
     "name": "stdout",
     "output_type": "stream",
     "text": [
      "\n",
      "ORB : 152.87499999999454 , 0 , 0 , 172.30899999998428 , 2.10200000000782 , 174.4109999999921\n"
     ]
    },
    {
     "name": "stderr",
     "output_type": "stream",
     "text": [
      "150.229.118.214 - - [09/Jul/2018 15:41:53] \"POST / HTTP/1.1\" 200 -\n"
     ]
    },
    {
     "name": "stdout",
     "output_type": "stream",
     "text": [
      "ORB : 156.6270000000145 , 0 , 0 , 177.30500000001825 , 1.815999999990936 , 179.1210000000092\n"
     ]
    },
    {
     "name": "stderr",
     "output_type": "stream",
     "text": [
      "150.229.118.214 - - [09/Jul/2018 15:41:53] \"POST / HTTP/1.1\" 200 -\n"
     ]
    },
    {
     "name": "stdout",
     "output_type": "stream",
     "text": [
      "ORB : 147.13199999999915 , 0 , 0 , 167.9849999999874 , 2.544000000000324 , 170.52899999998772\n"
     ]
    },
    {
     "name": "stderr",
     "output_type": "stream",
     "text": [
      "150.229.118.214 - - [09/Jul/2018 15:41:54] \"POST / HTTP/1.1\" 200 -\n"
     ]
    },
    {
     "name": "stdout",
     "output_type": "stream",
     "text": [
      "ORB : 153.85100000000307 , 0 , 0 , 174.58299999998417 , 1.834999999999809 , 176.41799999998398\n"
     ]
    },
    {
     "name": "stderr",
     "output_type": "stream",
     "text": [
      "150.229.118.214 - - [09/Jul/2018 15:41:54] \"POST / HTTP/1.1\" 200 -\n"
     ]
    },
    {
     "name": "stdout",
     "output_type": "stream",
     "text": [
      "ORB : 160.94499999999812 , 0 , 0 , 181.37000000001535 , 3.221999999993841 , 184.5920000000092\n"
     ]
    },
    {
     "name": "stderr",
     "output_type": "stream",
     "text": [
      "150.229.118.214 - - [09/Jul/2018 15:41:54] \"POST / HTTP/1.1\" 200 -\n"
     ]
    },
    {
     "name": "stdout",
     "output_type": "stream",
     "text": [
      "ORB : 151.3010000000179 , 0 , 0 , 172.6539999999943 , 1.9389999999930296 , 174.59299999998734\n"
     ]
    },
    {
     "name": "stderr",
     "output_type": "stream",
     "text": [
      "150.229.118.214 - - [09/Jul/2018 15:41:54] \"POST / HTTP/1.1\" 200 -\n"
     ]
    },
    {
     "name": "stdout",
     "output_type": "stream",
     "text": [
      "ORB : 130.25899999999524 , 0 , 0 , 154.90599999998267 , 1.7899999999997362 , 156.6959999999824\n"
     ]
    },
    {
     "name": "stderr",
     "output_type": "stream",
     "text": [
      "150.229.118.214 - - [09/Jul/2018 15:41:54] \"POST / HTTP/1.1\" 200 -\n",
      "150.229.118.214 - - [09/Jul/2018 15:41:55] \"POST / HTTP/1.1\" 200 -\n"
     ]
    },
    {
     "name": "stdout",
     "output_type": "stream",
     "text": [
      "ORB : 118.68400000000179 , 0 , 0 , 141.4139999999975 , 1.8799999999998818 , 143.29399999999737\n",
      "ORB : 101.13400000000183 , 0 , 0 , 120.9479999999985 , 2.3860000000013315 , 123.33399999999983\n"
     ]
    },
    {
     "name": "stderr",
     "output_type": "stream",
     "text": [
      "150.229.118.214 - - [09/Jul/2018 15:41:55] \"POST / HTTP/1.1\" 200 -\n"
     ]
    },
    {
     "name": "stdout",
     "output_type": "stream",
     "text": [
      "ORB : 200.13499999998885 , 0 , 0 , 222.63300000000186 , 1.8289999999865358 , 224.4619999999884\n"
     ]
    },
    {
     "name": "stderr",
     "output_type": "stream",
     "text": [
      "150.229.118.214 - - [09/Jul/2018 15:41:55] \"POST / HTTP/1.1\" 200 -\n"
     ]
    },
    {
     "name": "stdout",
     "output_type": "stream",
     "text": [
      "ORB : 155.42000000002076 , 0 , 0 , 178.15400000000636 , 2.0030000000019754 , 180.15700000000834\n"
     ]
    },
    {
     "name": "stderr",
     "output_type": "stream",
     "text": [
      "150.229.118.214 - - [09/Jul/2018 15:41:56] \"POST / HTTP/1.1\" 200 -\n"
     ]
    },
    {
     "name": "stdout",
     "output_type": "stream",
     "text": [
      "ORB : 148.11199999999758 , 0 , 0 , 170.33499999999435 , 3.276999999997088 , 173.61199999999144\n"
     ]
    },
    {
     "name": "stderr",
     "output_type": "stream",
     "text": [
      "150.229.118.214 - - [09/Jul/2018 15:41:56] \"POST / HTTP/1.1\" 200 -\n"
     ]
    },
    {
     "name": "stdout",
     "output_type": "stream",
     "text": [
      "ORB : 127.95799999997826 , 0 , 0 , 149.92599999999356 , 1.9249999999999545 , 151.85099999999352\n"
     ]
    },
    {
     "name": "stderr",
     "output_type": "stream",
     "text": [
      "150.229.118.214 - - [09/Jul/2018 15:41:56] \"POST / HTTP/1.1\" 200 -\n"
     ]
    },
    {
     "name": "stdout",
     "output_type": "stream",
     "text": [
      "ORB : 160.89399999998477 , 0 , 0 , 183.0630000000042 , 2.116000000000895 , 185.1790000000051\n"
     ]
    },
    {
     "name": "stderr",
     "output_type": "stream",
     "text": [
      "150.229.118.214 - - [09/Jul/2018 15:42:26] \"POST / HTTP/1.1\" 200 -\n"
     ]
    },
    {
     "name": "stdout",
     "output_type": "stream",
     "text": [
      "TF : 0 , 264.7220000000061 , 2192.882999999995 , 2194.9260000000095 , 0.29299999999921056 , 2195.2190000000087\n"
     ]
    },
    {
     "name": "stderr",
     "output_type": "stream",
     "text": [
      "150.229.118.214 - - [09/Jul/2018 15:42:29] \"POST / HTTP/1.1\" 200 -\n"
     ]
    },
    {
     "name": "stdout",
     "output_type": "stream",
     "text": [
      "TF : 0 , 264.44100000000503 , 2327.584999999999 , 2330.9050000000016 , 0.2639999999871634 , 2331.1689999999885\n"
     ]
    },
    {
     "name": "stderr",
     "output_type": "stream",
     "text": [
      "150.229.118.214 - - [09/Jul/2018 15:42:31] \"POST / HTTP/1.1\" 200 -\n"
     ]
    },
    {
     "name": "stdout",
     "output_type": "stream",
     "text": [
      "TF : 0 , 272.8219999999908 , 2471.728999999982 , 2477.400000000017 , 0.35699999997973464 , 2477.756999999997\n"
     ]
    },
    {
     "name": "stderr",
     "output_type": "stream",
     "text": [
      "150.229.118.214 - - [09/Jul/2018 15:42:33] \"POST / HTTP/1.1\" 200 -\n"
     ]
    },
    {
     "name": "stdout",
     "output_type": "stream",
     "text": [
      "TF : 0 , 286.46999999998 , 2342.145999999985 , 2344.6109999999862 , 0.2509999999915635 , 2344.861999999978\n"
     ]
    },
    {
     "name": "stderr",
     "output_type": "stream",
     "text": [
      "150.229.118.214 - - [09/Jul/2018 15:42:36] \"POST / HTTP/1.1\" 200 -\n"
     ]
    },
    {
     "name": "stdout",
     "output_type": "stream",
     "text": [
      "TF : 0 , 287.9289999999912 , 2450.163000000003 , 2453.0579999999986 , 0.3030000000023847 , 2453.361000000001\n"
     ]
    },
    {
     "name": "stderr",
     "output_type": "stream",
     "text": [
      "150.229.118.214 - - [09/Jul/2018 15:42:38] \"POST / HTTP/1.1\" 200 -\n"
     ]
    },
    {
     "name": "stdout",
     "output_type": "stream",
     "text": [
      "TF : 0 , 261.2699999999961 , 2235.137000000009 , 2238.743999999997 , 0.2639999999871634 , 2239.0079999999843\n"
     ]
    },
    {
     "name": "stderr",
     "output_type": "stream",
     "text": [
      "150.229.118.214 - - [09/Jul/2018 15:42:40] \"POST / HTTP/1.1\" 200 -\n"
     ]
    },
    {
     "name": "stdout",
     "output_type": "stream",
     "text": [
      "TF : 0 , 257.1010000000058 , 2208.3709999999996 , 2214.4440000000145 , 0.30899999998723615 , 2214.7530000000015\n"
     ]
    },
    {
     "name": "stderr",
     "output_type": "stream",
     "text": [
      "150.229.118.214 - - [09/Jul/2018 15:42:42] \"POST / HTTP/1.1\" 200 -\n"
     ]
    },
    {
     "name": "stdout",
     "output_type": "stream",
     "text": [
      "TF : 0 , 267.06299999997896 , 2245.7519999999818 , 2248.6959999999954 , 0.25800000000231194 , 2248.953999999998\n"
     ]
    },
    {
     "name": "stderr",
     "output_type": "stream",
     "text": [
      "150.229.118.214 - - [09/Jul/2018 15:42:45] \"POST / HTTP/1.1\" 200 -\n"
     ]
    },
    {
     "name": "stdout",
     "output_type": "stream",
     "text": [
      "TF : 0 , 261.5480000000048 , 2227.969000000002 , 2230.6330000000116 , 0.2639999999871634 , 2230.896999999999\n"
     ]
    },
    {
     "name": "stderr",
     "output_type": "stream",
     "text": [
      "150.229.118.214 - - [09/Jul/2018 15:42:47] \"POST / HTTP/1.1\" 200 -\n"
     ]
    },
    {
     "name": "stdout",
     "output_type": "stream",
     "text": [
      "TF : 0 , 265.78399999999647 , 2212.136000000015 , 2215.7009999999955 , 0.25800000000231194 , 2215.958999999998\n"
     ]
    },
    {
     "name": "stderr",
     "output_type": "stream",
     "text": [
      "150.229.118.214 - - [09/Jul/2018 15:42:49] \"POST / HTTP/1.1\" 200 -\n"
     ]
    },
    {
     "name": "stdout",
     "output_type": "stream",
     "text": [
      "TF : 0 , 256.9829999999911 , 2241.0360000000082 , 2246.127999999999 , 0.26299999998968815 , 2246.3909999999887\n"
     ]
    },
    {
     "name": "stderr",
     "output_type": "stream",
     "text": [
      "150.229.118.214 - - [09/Jul/2018 15:42:51] \"POST / HTTP/1.1\" 200 -\n"
     ]
    },
    {
     "name": "stdout",
     "output_type": "stream",
     "text": [
      "TF : 0 , 261.7970000000014 , 2240.842999999984 , 2243.727000000007 , 0.25399999998398926 , 2243.9809999999907\n"
     ]
    },
    {
     "name": "stderr",
     "output_type": "stream",
     "text": [
      "150.229.118.214 - - [09/Jul/2018 15:42:53] \"POST / HTTP/1.1\" 200 -\n"
     ]
    },
    {
     "name": "stdout",
     "output_type": "stream",
     "text": [
      "TF : 0 , 259.70399999999927 , 2243.1339999999977 , 2248.073999999974 , 0.26500000001306034 , 2248.338999999987\n"
     ]
    },
    {
     "name": "stderr",
     "output_type": "stream",
     "text": [
      "150.229.118.214 - - [09/Jul/2018 15:42:56] \"POST / HTTP/1.1\" 200 -\n"
     ]
    },
    {
     "name": "stdout",
     "output_type": "stream",
     "text": [
      "TF : 0 , 263.09499999999275 , 2244.6180000000027 , 2246.8629999999903 , 0.26000000002568413 , 2247.123000000016\n"
     ]
    },
    {
     "name": "stderr",
     "output_type": "stream",
     "text": [
      "150.229.118.214 - - [09/Jul/2018 15:42:58] \"POST / HTTP/1.1\" 200 -\n"
     ]
    },
    {
     "name": "stdout",
     "output_type": "stream",
     "text": [
      "TF : 0 , 275.2700000000061 , 2277.5380000000214 , 2280.604000000011 , 0.30399999999985994 , 2280.908000000011\n"
     ]
    },
    {
     "name": "stderr",
     "output_type": "stream",
     "text": [
      "150.229.118.214 - - [09/Jul/2018 15:43:00] \"POST / HTTP/1.1\" 200 -\n"
     ]
    },
    {
     "name": "stdout",
     "output_type": "stream",
     "text": [
      "TF : 0 , 266.26200000001177 , 2248.176000000001 , 2252.348000000012 , 0.2589999999997872 , 2252.607000000012\n"
     ]
    },
    {
     "name": "stderr",
     "output_type": "stream",
     "text": [
      "150.229.118.214 - - [09/Jul/2018 15:43:02] \"POST / HTTP/1.1\" 200 -\n"
     ]
    },
    {
     "name": "stdout",
     "output_type": "stream",
     "text": [
      "TF : 0 , 267.8369999999859 , 2244.4519999999957 , 2247.4079999999785 , 0.2610000000231594 , 2247.6690000000017\n"
     ]
    },
    {
     "name": "stderr",
     "output_type": "stream",
     "text": [
      "150.229.118.214 - - [09/Jul/2018 15:43:04] \"POST / HTTP/1.1\" 200 -\n"
     ]
    },
    {
     "name": "stdout",
     "output_type": "stream",
     "text": [
      "TF : 0 , 259.19700000000034 , 2246.6369999999924 , 2251.4829999999793 , 0.30200000003333116 , 2251.7850000000126\n"
     ]
    },
    {
     "name": "stderr",
     "output_type": "stream",
     "text": [
      "150.229.118.214 - - [09/Jul/2018 15:43:07] \"POST / HTTP/1.1\" 200 -\n"
     ]
    },
    {
     "name": "stdout",
     "output_type": "stream",
     "text": [
      "TF : 0 , 266.01599999997916 , 2275.6299999999783 , 2278.863000000001 , 0.3070000000207074 , 2279.170000000022\n"
     ]
    },
    {
     "name": "stderr",
     "output_type": "stream",
     "text": [
      "150.229.118.214 - - [09/Jul/2018 15:43:09] \"POST / HTTP/1.1\" 200 -\n"
     ]
    },
    {
     "name": "stdout",
     "output_type": "stream",
     "text": [
      "TF : 0 , 262.40000000001373 , 2235.570999999993 , 2238.516000000004 , 0.2599999999688407 , 2238.775999999973\n"
     ]
    },
    {
     "name": "stderr",
     "output_type": "stream",
     "text": [
      "150.229.118.214 - - [09/Jul/2018 15:43:11] \"POST / HTTP/1.1\" 200 -\n"
     ]
    },
    {
     "name": "stdout",
     "output_type": "stream",
     "text": [
      "TF : 0 , 265.2720000000386 , 2243.239000000017 , 2246.4279999999803 , 0.40500000000065484 , 2246.832999999981\n"
     ]
    },
    {
     "name": "stderr",
     "output_type": "stream",
     "text": [
      "150.229.118.214 - - [09/Jul/2018 15:43:29] \"POST / HTTP/1.1\" 200 -\n"
     ]
    },
    {
     "name": "stdout",
     "output_type": "stream",
     "text": [
      "TF : 0 , 446.69099999998707 , 2392.1530000000075 , 2395.6440000000043 , 0.302999999973963 , 2395.9469999999783\n"
     ]
    },
    {
     "name": "stderr",
     "output_type": "stream",
     "text": [
      "150.229.118.214 - - [09/Jul/2018 15:43:31] \"POST / HTTP/1.1\" 200 -\n"
     ]
    },
    {
     "name": "stdout",
     "output_type": "stream",
     "text": [
      "TF : 0 , 432.5850000000173 , 2395.4269999999838 , 2400.9790000000066 , 0.2579999999738902 , 2401.2369999999805\n"
     ]
    },
    {
     "name": "stderr",
     "output_type": "stream",
     "text": [
      "150.229.118.214 - - [09/Jul/2018 15:43:34] \"POST / HTTP/1.1\" 200 -\n"
     ]
    },
    {
     "name": "stdout",
     "output_type": "stream",
     "text": [
      "TF : 0 , 427.0779999999945 , 2391.7220000000157 , 2397.064999999998 , 0.29699999998911153 , 2397.361999999987\n"
     ]
    },
    {
     "name": "stderr",
     "output_type": "stream",
     "text": [
      "150.229.118.214 - - [09/Jul/2018 15:43:36] \"POST / HTTP/1.1\" 200 -\n"
     ]
    },
    {
     "name": "stdout",
     "output_type": "stream",
     "text": [
      "TF : 0 , 429.68000000001894 , 2407.7159999999935 , 2411.6169999999784 , 0.31799999999293505 , 2411.9349999999713\n"
     ]
    },
    {
     "name": "stderr",
     "output_type": "stream",
     "text": [
      "150.229.118.214 - - [09/Jul/2018 15:43:39] \"POST / HTTP/1.1\" 200 -\n"
     ]
    },
    {
     "name": "stdout",
     "output_type": "stream",
     "text": [
      "TF : 0 , 428.13999999998487 , 2426.4269999999897 , 2432.664999999986 , 0.27199999999538704 , 2432.9369999999813\n"
     ]
    },
    {
     "name": "stderr",
     "output_type": "stream",
     "text": [
      "150.229.118.214 - - [09/Jul/2018 15:43:41] \"POST / HTTP/1.1\" 200 -\n"
     ]
    },
    {
     "name": "stdout",
     "output_type": "stream",
     "text": [
      "TF : 0 , 427.71999999996524 , 2426.513 , 2433.2130000000234 , 0.30199999997648774 , 2433.515\n"
     ]
    },
    {
     "name": "stderr",
     "output_type": "stream",
     "text": [
      "150.229.118.214 - - [09/Jul/2018 15:43:43] \"POST / HTTP/1.1\" 200 -\n"
     ]
    },
    {
     "name": "stdout",
     "output_type": "stream",
     "text": [
      "TF : 0 , 433.8920000000144 , 2407.576000000006 , 2411.7769999999723 , 0.28800000001183435 , 2412.064999999984\n"
     ]
    },
    {
     "name": "stderr",
     "output_type": "stream",
     "text": [
      "150.229.118.214 - - [09/Jul/2018 15:43:46] \"POST / HTTP/1.1\" 200 -\n"
     ]
    },
    {
     "name": "stdout",
     "output_type": "stream",
     "text": [
      "TF : 0 , 429.3749999999932 , 2414.113000000043 , 2418.4720000000084 , 0.26099999996631595 , 2418.7329999999747\n"
     ]
    },
    {
     "name": "stderr",
     "output_type": "stream",
     "text": [
      "150.229.118.214 - - [09/Jul/2018 15:43:48] \"POST / HTTP/1.1\" 200 -\n"
     ]
    },
    {
     "name": "stdout",
     "output_type": "stream",
     "text": [
      "TF : 0 , 438.37500000000773 , 2403.520999999955 , 2407.889999999952 , 0.26500000001306034 , 2408.154999999965\n"
     ]
    },
    {
     "name": "stderr",
     "output_type": "stream",
     "text": [
      "150.229.118.214 - - [09/Jul/2018 15:43:51] \"POST / HTTP/1.1\" 200 -\n"
     ]
    },
    {
     "name": "stdout",
     "output_type": "stream",
     "text": [
      "TF : 0 , 428.0849999999532 , 2411.470999999949 , 2415.3119999999717 , 0.26300000001810986 , 2415.57499999999\n"
     ]
    },
    {
     "name": "stderr",
     "output_type": "stream",
     "text": [
      "150.229.118.214 - - [09/Jul/2018 15:43:53] \"POST / HTTP/1.1\" 200 -\n"
     ]
    },
    {
     "name": "stdout",
     "output_type": "stream",
     "text": [
      "TF : 0 , 426.744000000042 , 2393.7060000000088 , 2399.9150000000213 , 0.2479999999991378 , 2400.1630000000205\n"
     ]
    },
    {
     "name": "stderr",
     "output_type": "stream",
     "text": [
      "150.229.118.214 - - [09/Jul/2018 15:43:55] \"POST / HTTP/1.1\" 200 -\n"
     ]
    },
    {
     "name": "stdout",
     "output_type": "stream",
     "text": [
      "TF : 0 , 425.90099999995346 , 2381.2149999999974 , 2385.253999999975 , 0.25800000003073364 , 2385.5120000000056\n"
     ]
    },
    {
     "name": "stderr",
     "output_type": "stream",
     "text": [
      "150.229.118.214 - - [09/Jul/2018 15:43:58] \"POST / HTTP/1.1\" 200 -\n"
     ]
    },
    {
     "name": "stdout",
     "output_type": "stream",
     "text": [
      "TF : 0 , 439.91499999998496 , 2427.5499999999965 , 2432.6829999999973 , 0.29799999998658677 , 2432.980999999984\n"
     ]
    },
    {
     "name": "stderr",
     "output_type": "stream",
     "text": [
      "150.229.118.214 - - [09/Jul/2018 15:44:00] \"POST / HTTP/1.1\" 200 -\n"
     ]
    },
    {
     "name": "stdout",
     "output_type": "stream",
     "text": [
      "TF : 0 , 430.9839999999667 , 2415.2219999999716 , 2420.501999999999 , 0.275999999985288 , 2420.7779999999843\n"
     ]
    },
    {
     "name": "stderr",
     "output_type": "stream",
     "text": [
      "150.229.118.214 - - [09/Jul/2018 15:44:03] \"POST / HTTP/1.1\" 200 -\n"
     ]
    },
    {
     "name": "stdout",
     "output_type": "stream",
     "text": [
      "TF : 0 , 428.5249999999792 , 2468.3899999999994 , 2474.9929999999836 , 0.27199999999538704 , 2475.264999999979\n"
     ]
    },
    {
     "name": "stderr",
     "output_type": "stream",
     "text": [
      "150.229.118.214 - - [09/Jul/2018 15:44:05] \"POST / HTTP/1.1\" 200 -\n"
     ]
    },
    {
     "name": "stdout",
     "output_type": "stream",
     "text": [
      "TF : 0 , 573.5230000000229 , 2620.634999999993 , 2623.1329999999957 , 0.2549999999814645 , 2623.387999999977\n"
     ]
    },
    {
     "name": "stderr",
     "output_type": "stream",
     "text": [
      "150.229.118.214 - - [09/Jul/2018 15:44:07] \"POST / HTTP/1.1\" 200 -\n"
     ]
    },
    {
     "name": "stdout",
     "output_type": "stream",
     "text": [
      "TF : 0 , 431.982000000005 , 2404.5360000000073 , 2409.197000000006 , 0.27399999999033753 , 2409.4709999999964\n"
     ]
    },
    {
     "name": "stderr",
     "output_type": "stream",
     "text": [
      "150.229.118.214 - - [09/Jul/2018 15:44:10] \"POST / HTTP/1.1\" 200 -\n"
     ]
    },
    {
     "name": "stdout",
     "output_type": "stream",
     "text": [
      "TF : 0 , 441.5230000000179 , 2414.359999999988 , 2418.851000000018 , 0.3030000000308064 , 2419.1540000000487\n"
     ]
    },
    {
     "name": "stderr",
     "output_type": "stream",
     "text": [
      "150.229.118.214 - - [09/Jul/2018 15:44:12] \"POST / HTTP/1.1\" 200 -\n"
     ]
    },
    {
     "name": "stdout",
     "output_type": "stream",
     "text": [
      "TF : 0 , 427.03599999998687 , 2416.2279999999896 , 2420.737000000031 , 0.3189999999904103 , 2421.0560000000214\n"
     ]
    },
    {
     "name": "stderr",
     "output_type": "stream",
     "text": [
      "150.229.118.214 - - [09/Jul/2018 15:44:15] \"POST / HTTP/1.1\" 200 -\n"
     ]
    },
    {
     "name": "stdout",
     "output_type": "stream",
     "text": [
      "TF : 0 , 427.882000000011 , 2397.3399999999856 , 2403.250000000014 , 0.26700000000801083 , 2403.517000000022\n"
     ]
    },
    {
     "name": "stderr",
     "output_type": "stream",
     "text": [
      "150.229.118.214 - - [09/Jul/2018 15:44:51] \"POST / HTTP/1.1\" 200 -\n"
     ]
    },
    {
     "name": "stdout",
     "output_type": "stream",
     "text": [
      "TF : 0 , 670.7160000000272 , 2625.4800000000387 , 2631.95300000001 , 0.27000000000043656 , 2632.2230000000104\n"
     ]
    },
    {
     "name": "stderr",
     "output_type": "stream",
     "text": [
      "150.229.118.214 - - [09/Jul/2018 15:44:54] \"POST / HTTP/1.1\" 200 -\n"
     ]
    },
    {
     "name": "stdout",
     "output_type": "stream",
     "text": [
      "TF : 0 , 677.7409999999691 , 2682.8649999999925 , 2691.143000000011 , 0.3099999999562897 , 2691.4529999999672\n"
     ]
    },
    {
     "name": "stderr",
     "output_type": "stream",
     "text": [
      "150.229.118.214 - - [09/Jul/2018 15:44:56] \"POST / HTTP/1.1\" 200 -\n"
     ]
    },
    {
     "name": "stdout",
     "output_type": "stream",
     "text": [
      "TF : 0 , 676.1240000000157 , 2650.5710000000136 , 2655.418999999995 , 0.3379999999992833 , 2655.756999999994\n"
     ]
    },
    {
     "name": "stderr",
     "output_type": "stream",
     "text": [
      "150.229.118.214 - - [09/Jul/2018 15:44:59] \"POST / HTTP/1.1\" 200 -\n"
     ]
    },
    {
     "name": "stdout",
     "output_type": "stream",
     "text": [
      "TF : 0 , 691.9300000000135 , 2697.5270000000364 , 2706.043999999963 , 0.2640000000155851 , 2706.3079999999786\n"
     ]
    },
    {
     "name": "stderr",
     "output_type": "stream",
     "text": [
      "150.229.118.214 - - [09/Jul/2018 15:45:02] \"POST / HTTP/1.1\" 200 -\n"
     ]
    },
    {
     "name": "stdout",
     "output_type": "stream",
     "text": [
      "TF : 0 , 683.5649999999873 , 2932.849000000033 , 2940.690000000018 , 0.2570000000332584 , 2940.947000000051\n"
     ]
    },
    {
     "name": "stderr",
     "output_type": "stream",
     "text": [
      "150.229.118.214 - - [09/Jul/2018 15:45:05] \"POST / HTTP/1.1\" 200 -\n"
     ]
    },
    {
     "name": "stdout",
     "output_type": "stream",
     "text": [
      "TF : 0 , 742.2829999999863 , 3029.880999999989 , 3035.4469999999765 , 0.27000000000043656 , 3035.716999999977\n"
     ]
    },
    {
     "name": "stderr",
     "output_type": "stream",
     "text": [
      "150.229.118.214 - - [09/Jul/2018 15:45:08] \"POST / HTTP/1.1\" 200 -\n"
     ]
    },
    {
     "name": "stdout",
     "output_type": "stream",
     "text": [
      "TF : 0 , 760.2759999999762 , 2906.817999999987 , 2914.7760000000176 , 0.2660000000105356 , 2915.042000000028\n"
     ]
    },
    {
     "name": "stderr",
     "output_type": "stream",
     "text": [
      "150.229.118.214 - - [09/Jul/2018 15:45:11] \"POST / HTTP/1.1\" 200 -\n"
     ]
    },
    {
     "name": "stdout",
     "output_type": "stream",
     "text": [
      "TF : 0 , 732.4439999999868 , 2825.66300000002 , 2829.710999999975 , 0.2620000000206346 , 2829.9729999999954\n"
     ]
    },
    {
     "name": "stderr",
     "output_type": "stream",
     "text": [
      "150.229.118.214 - - [09/Jul/2018 15:45:14] \"POST / HTTP/1.1\" 200 -\n"
     ]
    },
    {
     "name": "stdout",
     "output_type": "stream",
     "text": [
      "TF : 0 , 731.6739999999982 , 2941.5309999999977 , 2950.2820000000156 , 0.39399999997158375 , 2950.675999999987\n"
     ]
    },
    {
     "name": "stderr",
     "output_type": "stream",
     "text": [
      "150.229.118.214 - - [09/Jul/2018 15:45:17] \"POST / HTTP/1.1\" 200 -\n"
     ]
    },
    {
     "name": "stdout",
     "output_type": "stream",
     "text": [
      "TF : 0 , 718.9730000000054 , 2728.523999999993 , 2732.0950000000153 , 0.2640000000155851 , 2732.359000000031\n"
     ]
    },
    {
     "name": "stderr",
     "output_type": "stream",
     "text": [
      "150.229.118.214 - - [09/Jul/2018 15:45:20] \"POST / HTTP/1.1\" 200 -\n"
     ]
    },
    {
     "name": "stdout",
     "output_type": "stream",
     "text": [
      "TF : 0 , 767.7869999999984 , 2935.8589999999936 , 2943.160999999975 , 0.25600000003578316 , 2943.417000000011\n"
     ]
    },
    {
     "name": "stderr",
     "output_type": "stream",
     "text": [
      "150.229.118.214 - - [09/Jul/2018 15:45:23] \"POST / HTTP/1.1\" 200 -\n"
     ]
    },
    {
     "name": "stdout",
     "output_type": "stream",
     "text": [
      "TF : 0 , 697.3730000000273 , 2948.9580000000046 , 2959.026999999992 , 0.39100000003600144 , 2959.418000000028\n"
     ]
    },
    {
     "name": "stderr",
     "output_type": "stream",
     "text": [
      "150.229.118.214 - - [09/Jul/2018 15:45:27] \"POST / HTTP/1.1\" 200 -\n"
     ]
    },
    {
     "name": "stdout",
     "output_type": "stream",
     "text": [
      "TF : 0 , 909.197000000006 , 3658.6790000000065 , 3663.8039999999705 , 0.24400000000923683 , 3664.0479999999798\n"
     ]
    },
    {
     "name": "stderr",
     "output_type": "stream",
     "text": [
      "150.229.118.214 - - [09/Jul/2018 15:45:30] \"POST / HTTP/1.1\" 200 -\n"
     ]
    },
    {
     "name": "stdout",
     "output_type": "stream",
     "text": [
      "TF : 0 , 801.1369999999829 , 2836.1509999999726 , 2845.5040000000054 , 0.2570000000332584 , 2845.7610000000386\n"
     ]
    },
    {
     "name": "stderr",
     "output_type": "stream",
     "text": [
      "150.229.118.214 - - [09/Jul/2018 15:45:33] \"POST / HTTP/1.1\" 200 -\n"
     ]
    },
    {
     "name": "stdout",
     "output_type": "stream",
     "text": [
      "TF : 0 , 704.2660000000183 , 3007.380000000012 , 3015.241000000003 , 0.25399999998398926 , 3015.494999999987\n"
     ]
    },
    {
     "name": "stderr",
     "output_type": "stream",
     "text": [
      "150.229.118.214 - - [09/Jul/2018 15:45:37] \"POST / HTTP/1.1\" 200 -\n"
     ]
    },
    {
     "name": "stdout",
     "output_type": "stream",
     "text": [
      "TF : 0 , 832.0449999999937 , 3427.2850000000403 , 3432.271999999955 , 0.3420000000460277 , 3432.614000000001\n"
     ]
    },
    {
     "name": "stderr",
     "output_type": "stream",
     "text": [
      "150.229.118.214 - - [09/Jul/2018 15:45:41] \"POST / HTTP/1.1\" 200 -\n"
     ]
    },
    {
     "name": "stdout",
     "output_type": "stream",
     "text": [
      "TF : 0 , 1021.8540000000189 , 3628.3670000000257 , 3632.6540000000023 , 0.25599999997893974 , 3632.909999999981\n"
     ]
    },
    {
     "name": "stderr",
     "output_type": "stream",
     "text": [
      "150.229.118.214 - - [09/Jul/2018 15:45:44] \"POST / HTTP/1.1\" 200 -\n"
     ]
    },
    {
     "name": "stdout",
     "output_type": "stream",
     "text": [
      "TF : 0 , 863.3690000000342 , 3109.718999999984 , 3114.7750000000087 , 0.34499999998161 , 3115.1199999999903\n"
     ]
    },
    {
     "name": "stderr",
     "output_type": "stream",
     "text": [
      "150.229.118.214 - - [09/Jul/2018 15:45:48] \"POST / HTTP/1.1\" 200 -\n"
     ]
    },
    {
     "name": "stdout",
     "output_type": "stream",
     "text": [
      "TF : 0 , 728.1229999999823 , 3187.4819999999886 , 3193.25299999997 , 0.25600000003578316 , 3193.509000000006\n"
     ]
    },
    {
     "name": "stderr",
     "output_type": "stream",
     "text": [
      "150.229.118.214 - - [09/Jul/2018 15:45:52] \"POST / HTTP/1.1\" 200 -\n"
     ]
    },
    {
     "name": "stdout",
     "output_type": "stream",
     "text": [
      "TF : 0 , 782.5859999999807 , 3391.662999999994 , 3397.987999999998 , 0.31300000000555883 , 3398.3010000000036\n"
     ]
    },
    {
     "name": "stderr",
     "output_type": "stream",
     "text": [
      "150.229.118.214 - - [09/Jul/2018 15:46:20] \"POST / HTTP/1.1\" 200 -\n"
     ]
    },
    {
     "name": "stdout",
     "output_type": "stream",
     "text": [
      "TF : 0 , 1062.9450000000134 , 3021.2399999999775 , 3028.2829999999876 , 0.26800000000548607 , 3028.550999999993\n"
     ]
    },
    {
     "name": "stderr",
     "output_type": "stream",
     "text": [
      "150.229.118.214 - - [09/Jul/2018 15:46:23] \"POST / HTTP/1.1\" 200 -\n"
     ]
    },
    {
     "name": "stdout",
     "output_type": "stream",
     "text": [
      "TF : 0 , 1160.410000000013 , 3151.063000000022 , 3160.8249999999884 , 0.27699999998276326 , 3161.101999999971\n"
     ]
    },
    {
     "name": "stderr",
     "output_type": "stream",
     "text": [
      "150.229.118.214 - - [09/Jul/2018 15:46:26] \"POST / HTTP/1.1\" 200 -\n"
     ]
    },
    {
     "name": "stdout",
     "output_type": "stream",
     "text": [
      "TF : 0 , 1078.7199999999757 , 3027.9160000000047 , 3037.4820000000113 , 0.27499999998781277 , 3037.756999999999\n"
     ]
    },
    {
     "name": "stderr",
     "output_type": "stream",
     "text": [
      "150.229.118.214 - - [09/Jul/2018 15:46:29] \"POST / HTTP/1.1\" 200 -\n"
     ]
    },
    {
     "name": "stdout",
     "output_type": "stream",
     "text": [
      "TF : 0 , 1101.3110000000097 , 3038.24400000002 , 3047.8610000000117 , 0.32299999998031126 , 3048.183999999992\n"
     ]
    },
    {
     "name": "stderr",
     "output_type": "stream",
     "text": [
      "150.229.118.214 - - [09/Jul/2018 15:46:32] \"POST / HTTP/1.1\" 200 -\n"
     ]
    },
    {
     "name": "stdout",
     "output_type": "stream",
     "text": [
      "TF : 0 , 1088.5240000000067 , 3031.5479999999866 , 3042.0460000000276 , 0.2690000000029613 , 3042.3150000000305\n"
     ]
    },
    {
     "name": "stderr",
     "output_type": "stream",
     "text": [
      "150.229.118.214 - - [09/Jul/2018 15:46:36] \"POST / HTTP/1.1\" 200 -\n"
     ]
    },
    {
     "name": "stdout",
     "output_type": "stream",
     "text": [
      "TF : 0 , 1097.8509999999915 , 3112.496999999962 , 3122.208999999998 , 0.3030000000308064 , 3122.512000000029\n"
     ]
    },
    {
     "name": "stderr",
     "output_type": "stream",
     "text": [
      "150.229.118.214 - - [09/Jul/2018 15:46:39] \"POST / HTTP/1.1\" 200 -\n"
     ]
    },
    {
     "name": "stdout",
     "output_type": "stream",
     "text": [
      "TF : 0 , 1077.8099999999995 , 3040.5759999999873 , 3048.484999999971 , 0.2660000000105356 , 3048.7509999999816\n"
     ]
    },
    {
     "name": "stderr",
     "output_type": "stream",
     "text": [
      "150.229.118.214 - - [09/Jul/2018 15:46:42] \"POST / HTTP/1.1\" 200 -\n"
     ]
    },
    {
     "name": "stdout",
     "output_type": "stream",
     "text": [
      "TF : 0 , 1091.4000000000215 , 3060.512000000017 , 3069.08599999997 , 0.31100000001060835 , 3069.396999999981\n"
     ]
    },
    {
     "name": "stderr",
     "output_type": "stream",
     "text": [
      "150.229.118.214 - - [09/Jul/2018 15:46:45] \"POST / HTTP/1.1\" 200 -\n"
     ]
    },
    {
     "name": "stdout",
     "output_type": "stream",
     "text": [
      "TF : 0 , 1102.630999999974 , 3056.716999999992 , 3062.8110000000106 , 0.302999999973963 , 3063.1139999999846\n"
     ]
    },
    {
     "name": "stderr",
     "output_type": "stream",
     "text": [
      "150.229.118.214 - - [09/Jul/2018 15:46:48] \"POST / HTTP/1.1\" 200 -\n"
     ]
    },
    {
     "name": "stdout",
     "output_type": "stream",
     "text": [
      "TF : 0 , 1075.3479999999627 , 3037.234000000012 , 3045.5949999999916 , 0.3379999999992833 , 3045.932999999991\n"
     ]
    },
    {
     "name": "stderr",
     "output_type": "stream",
     "text": [
      "150.229.118.214 - - [09/Jul/2018 15:46:51] \"POST / HTTP/1.1\" 200 -\n"
     ]
    },
    {
     "name": "stdout",
     "output_type": "stream",
     "text": [
      "TF : 0 , 1089.5949999999743 , 3062.432000000001 , 3070.1720000000137 , 0.28199999997013947 , 3070.453999999984\n"
     ]
    },
    {
     "name": "stderr",
     "output_type": "stream",
     "text": [
      "150.229.118.214 - - [09/Jul/2018 15:46:54] \"POST / HTTP/1.1\" 200 -\n"
     ]
    },
    {
     "name": "stdout",
     "output_type": "stream",
     "text": [
      "TF : 0 , 1077.1090000000072 , 3029.008000000033 , 3035.5390000000284 , 0.2690000000029613 , 3035.8080000000314\n"
     ]
    },
    {
     "name": "stderr",
     "output_type": "stream",
     "text": [
      "150.229.118.214 - - [09/Jul/2018 15:46:57] \"POST / HTTP/1.1\" 200 -\n"
     ]
    },
    {
     "name": "stdout",
     "output_type": "stream",
     "text": [
      "TF : 0 , 1092.3099999999977 , 3082.4080000000436 , 3089.1399999999862 , 0.27199999999538704 , 3089.4119999999816\n"
     ]
    },
    {
     "name": "stderr",
     "output_type": "stream",
     "text": [
      "150.229.118.214 - - [09/Jul/2018 15:47:01] \"POST / HTTP/1.1\" 200 -\n"
     ]
    },
    {
     "name": "stdout",
     "output_type": "stream",
     "text": [
      "TF : 0 , 1087.003999999979 , 3063.34099999998 , 3070.623000000012 , 0.24500000000671207 , 3070.8680000000186\n"
     ]
    },
    {
     "name": "stderr",
     "output_type": "stream",
     "text": [
      "150.229.118.214 - - [09/Jul/2018 15:47:04] \"POST / HTTP/1.1\" 200 -\n"
     ]
    },
    {
     "name": "stdout",
     "output_type": "stream",
     "text": [
      "TF : 0 , 1077.7070000000322 , 3050.988000000018 , 3058.8319999999953 , 0.31300000000555883 , 3059.145000000001\n"
     ]
    },
    {
     "name": "stderr",
     "output_type": "stream",
     "text": [
      "150.229.118.214 - - [09/Jul/2018 15:47:07] \"POST / HTTP/1.1\" 200 -\n"
     ]
    },
    {
     "name": "stdout",
     "output_type": "stream",
     "text": [
      "TF : 0 , 1084.2660000000137 , 3051.8749999999955 , 3060.640000000035 , 0.2689999999461179 , 3060.908999999981\n"
     ]
    },
    {
     "name": "stderr",
     "output_type": "stream",
     "text": [
      "150.229.118.214 - - [09/Jul/2018 15:47:10] \"POST / HTTP/1.1\" 200 -\n"
     ]
    },
    {
     "name": "stdout",
     "output_type": "stream",
     "text": [
      "TF : 0 , 1075.9939999999801 , 3044.4820000000163 , 3051.70499999997 , 0.28300000002445813 , 3051.9879999999944\n"
     ]
    },
    {
     "name": "stderr",
     "output_type": "stream",
     "text": [
      "150.229.118.214 - - [09/Jul/2018 15:47:13] \"POST / HTTP/1.1\" 200 -\n"
     ]
    },
    {
     "name": "stdout",
     "output_type": "stream",
     "text": [
      "TF : 0 , 1083.4189999999921 , 3061.394000000007 , 3070.8680000000186 , 0.34999999996898623 , 3071.2179999999876\n"
     ]
    },
    {
     "name": "stderr",
     "output_type": "stream",
     "text": [
      "150.229.118.214 - - [09/Jul/2018 15:47:16] \"POST / HTTP/1.1\" 200 -\n"
     ]
    },
    {
     "name": "stdout",
     "output_type": "stream",
     "text": [
      "TF : 0 , 1078.1989999999837 , 3044.388999999967 , 3053.988000000004 , 0.2640000000155851 , 3054.2520000000195\n"
     ]
    },
    {
     "name": "stderr",
     "output_type": "stream",
     "text": [
      "150.229.118.214 - - [09/Jul/2018 15:47:19] \"POST / HTTP/1.1\" 200 -\n"
     ]
    },
    {
     "name": "stdout",
     "output_type": "stream",
     "text": [
      "TF : 0 , 1096.5140000000133 , 3063.9580000000137 , 3072.3820000000046 , 0.2649999999562169 , 3072.646999999961\n"
     ]
    },
    {
     "name": "stderr",
     "output_type": "stream",
     "text": [
      "150.229.118.214 - - [09/Jul/2018 15:47:45] \"POST / HTTP/1.1\" 200 -\n"
     ]
    },
    {
     "name": "stdout",
     "output_type": "stream",
     "text": [
      "TF : 0 , 1745.5989999999701 , 3718.755999999985 , 3725.671000000034 , 0.41699999997035775 , 3726.0880000000043\n"
     ]
    },
    {
     "name": "stderr",
     "output_type": "stream",
     "text": [
      "150.229.118.214 - - [09/Jul/2018 15:47:49] \"POST / HTTP/1.1\" 200 -\n"
     ]
    },
    {
     "name": "stdout",
     "output_type": "stream",
     "text": [
      "TF : 0 , 1756.147999999996 , 3755.8119999999917 , 3767.8169999999795 , 0.25899999997136547 , 3768.075999999951\n"
     ]
    },
    {
     "name": "stderr",
     "output_type": "stream",
     "text": [
      "150.229.118.214 - - [09/Jul/2018 15:47:53] \"POST / HTTP/1.1\" 200 -\n"
     ]
    },
    {
     "name": "stdout",
     "output_type": "stream",
     "text": [
      "TF : 0 , 1757.6690000000212 , 3769.5700000000443 , 3780.7960000000094 , 0.302999999973963 , 3781.0989999999833\n"
     ]
    },
    {
     "name": "stderr",
     "output_type": "stream",
     "text": [
      "150.229.118.214 - - [09/Jul/2018 15:47:57] \"POST / HTTP/1.1\" 200 -\n"
     ]
    },
    {
     "name": "stdout",
     "output_type": "stream",
     "text": [
      "TF : 0 , 1773.0909999999653 , 3738.4759999999915 , 3752.654000000007 , 0.2869999999575157 , 3752.9409999999643\n"
     ]
    },
    {
     "name": "stderr",
     "output_type": "stream",
     "text": [
      "150.229.118.214 - - [09/Jul/2018 15:48:01] \"POST / HTTP/1.1\" 200 -\n"
     ]
    },
    {
     "name": "stdout",
     "output_type": "stream",
     "text": [
      "TF : 0 , 1787.1880000000147 , 3767.6529999999957 , 3781.8730000000187 , 0.2690000000029613 , 3782.1420000000217\n"
     ]
    },
    {
     "name": "stderr",
     "output_type": "stream",
     "text": [
      "150.229.118.214 - - [09/Jul/2018 15:48:05] \"POST / HTTP/1.1\" 200 -\n"
     ]
    },
    {
     "name": "stdout",
     "output_type": "stream",
     "text": [
      "TF : 0 , 1767.8409999999758 , 3772.7669999999875 , 3787.365999999963 , 0.2590000000282089 , 3787.6249999999914\n"
     ]
    },
    {
     "name": "stderr",
     "output_type": "stream",
     "text": [
      "150.229.118.214 - - [09/Jul/2018 15:48:09] \"POST / HTTP/1.1\" 200 -\n"
     ]
    },
    {
     "name": "stdout",
     "output_type": "stream",
     "text": [
      "TF : 0 , 1778.0890000000227 , 3772.4640000000136 , 3789.7480000000314 , 0.2959999999916363 , 3790.044000000023\n"
     ]
    },
    {
     "name": "stderr",
     "output_type": "stream",
     "text": [
      "150.229.118.214 - - [09/Jul/2018 15:48:13] \"POST / HTTP/1.1\" 200 -\n"
     ]
    },
    {
     "name": "stdout",
     "output_type": "stream",
     "text": [
      "TF : 0 , 1835.6069999999818 , 3829.893000000027 , 3842.932000000019 , 0.26599999995369217 , 3843.1979999999726\n"
     ]
    },
    {
     "name": "stderr",
     "output_type": "stream",
     "text": [
      "150.229.118.214 - - [09/Jul/2018 15:48:17] \"POST / HTTP/1.1\" 200 -\n"
     ]
    },
    {
     "name": "stdout",
     "output_type": "stream",
     "text": [
      "TF : 0 , 1763.8469999999984 , 3762.376999999958 , 3772.777000000019 , 0.29799999998658677 , 3773.0750000000057\n"
     ]
    },
    {
     "name": "stderr",
     "output_type": "stream",
     "text": [
      "150.229.118.214 - - [09/Jul/2018 15:48:21] \"POST / HTTP/1.1\" 200 -\n"
     ]
    },
    {
     "name": "stdout",
     "output_type": "stream",
     "text": [
      "TF : 0 , 1770.0169999999957 , 3756.6550000000234 , 3767.0399999999518 , 0.2590000000282089 , 3767.29899999998\n"
     ]
    },
    {
     "name": "stderr",
     "output_type": "stream",
     "text": [
      "150.229.118.214 - - [09/Jul/2018 15:48:25] \"POST / HTTP/1.1\" 200 -\n"
     ]
    },
    {
     "name": "stdout",
     "output_type": "stream",
     "text": [
      "TF : 0 , 1809.8339999999666 , 3832.5949999999693 , 3844.7969999999714 , 0.26500000001306034 , 3845.0619999999844\n"
     ]
    },
    {
     "name": "stderr",
     "output_type": "stream",
     "text": [
      "150.229.118.214 - - [09/Jul/2018 15:48:29] \"POST / HTTP/1.1\" 200 -\n"
     ]
    },
    {
     "name": "stdout",
     "output_type": "stream",
     "text": [
      "TF : 0 , 1802.9089999999997 , 3799.541999999974 , 3810.5840000000057 , 0.27199999999538704 , 3810.856000000001\n"
     ]
    },
    {
     "name": "stderr",
     "output_type": "stream",
     "text": [
      "150.229.118.214 - - [09/Jul/2018 15:48:33] \"POST / HTTP/1.1\" 200 -\n"
     ]
    },
    {
     "name": "stdout",
     "output_type": "stream",
     "text": [
      "TF : 0 , 1769.249000000002 , 3756.0290000000123 , 3769.0230000000042 , 0.23800000002438537 , 3769.2610000000286\n"
     ]
    },
    {
     "name": "stderr",
     "output_type": "stream",
     "text": [
      "150.229.118.214 - - [09/Jul/2018 15:48:38] \"POST / HTTP/1.1\" 200 -\n"
     ]
    },
    {
     "name": "stdout",
     "output_type": "stream",
     "text": [
      "TF : 0 , 1764.848000000029 , 3846.7899999999986 , 3861.6690000000062 , 0.279999999975189 , 3861.9489999999814\n"
     ]
    },
    {
     "name": "stderr",
     "output_type": "stream",
     "text": [
      "150.229.118.214 - - [09/Jul/2018 15:48:42] \"POST / HTTP/1.1\" 200 -\n"
     ]
    },
    {
     "name": "stdout",
     "output_type": "stream",
     "text": [
      "TF : 0 , 1790.0250000000142 , 3789.4749999999817 , 3807.513999999969 , 0.24400000000923683 , 3807.7579999999784\n"
     ]
    },
    {
     "name": "stderr",
     "output_type": "stream",
     "text": [
      "150.229.118.214 - - [09/Jul/2018 15:48:46] \"POST / HTTP/1.1\" 200 -\n"
     ]
    },
    {
     "name": "stdout",
     "output_type": "stream",
     "text": [
      "TF : 0 , 1780.5339999999887 , 3892.0589999999606 , 3904.547999999977 , 0.36899999997785926 , 3904.916999999955\n"
     ]
    },
    {
     "name": "stderr",
     "output_type": "stream",
     "text": [
      "150.229.118.214 - - [09/Jul/2018 15:48:50] \"POST / HTTP/1.1\" 200 -\n"
     ]
    },
    {
     "name": "stdout",
     "output_type": "stream",
     "text": [
      "TF : 0 , 1830.8230000000094 , 3969.48500000002 , 3979.7720000000254 , 0.2579999999738902 , 3980.0299999999993\n"
     ]
    },
    {
     "name": "stderr",
     "output_type": "stream",
     "text": [
      "150.229.118.214 - - [09/Jul/2018 15:48:55] \"POST / HTTP/1.1\" 200 -\n"
     ]
    },
    {
     "name": "stdout",
     "output_type": "stream",
     "text": [
      "TF : 0 , 1890.3859999999781 , 3995.64799999996 , 4005.972999999983 , 0.27400000004718095 , 4006.2470000000303\n"
     ]
    },
    {
     "name": "stderr",
     "output_type": "stream",
     "text": [
      "150.229.118.214 - - [09/Jul/2018 15:48:59] \"POST / HTTP/1.1\" 200 -\n"
     ]
    },
    {
     "name": "stdout",
     "output_type": "stream",
     "text": [
      "TF : 0 , 1805.7019999999966 , 3776.943000000017 , 3790.4499999999643 , 0.26800000000548607 , 3790.71799999997\n"
     ]
    },
    {
     "name": "stderr",
     "output_type": "stream",
     "text": [
      "150.229.118.214 - - [09/Jul/2018 15:49:03] \"POST / HTTP/1.1\" 200 -\n"
     ]
    },
    {
     "name": "stdout",
     "output_type": "stream",
     "text": [
      "TF : 0 , 1778.3039999999914 , 3771.0309999999936 , 3781.3990000000217 , 0.2619999999637912 , 3781.6609999999855\n"
     ]
    },
    {
     "name": "stderr",
     "output_type": "stream",
     "text": [
      "150.229.118.214 - - [09/Jul/2018 15:49:22] \"POST / HTTP/1.1\" 200 -\n"
     ]
    },
    {
     "name": "stdout",
     "output_type": "stream",
     "text": [
      "TF : 0 , 2842.5339999999437 , 4935.222000000011 , 4951.669000000038 , 0.2599999999119973 , 4951.92899999995\n"
     ]
    },
    {
     "name": "stderr",
     "output_type": "stream",
     "text": [
      "150.229.118.214 - - [09/Jul/2018 15:49:27] \"POST / HTTP/1.1\" 200 -\n"
     ]
    },
    {
     "name": "stdout",
     "output_type": "stream",
     "text": [
      "TF : 0 , 2841.701999999941 , 4867.208000000005 , 4891.88200000001 , 0.27000000000043656 , 4892.15200000001\n"
     ]
    },
    {
     "name": "stderr",
     "output_type": "stream",
     "text": [
      "150.229.118.214 - - [09/Jul/2018 15:49:33] \"POST / HTTP/1.1\" 200 -\n"
     ]
    },
    {
     "name": "stdout",
     "output_type": "stream",
     "text": [
      "TF : 0 , 2832.4680000000626 , 4870.445000000018 , 4895.298999999909 , 0.2860000000737273 , 4895.584999999983\n"
     ]
    },
    {
     "name": "stderr",
     "output_type": "stream",
     "text": [
      "150.229.118.214 - - [09/Jul/2018 15:49:38] \"POST / HTTP/1.1\" 200 -\n"
     ]
    },
    {
     "name": "stdout",
     "output_type": "stream",
     "text": [
      "TF : 0 , 2841.150999999968 , 4885.748999999919 , 4911.310999999955 , 0.28800000006867776 , 4911.599000000024\n"
     ]
    },
    {
     "name": "stderr",
     "output_type": "stream",
     "text": [
      "150.229.118.214 - - [09/Jul/2018 15:49:45] \"POST / HTTP/1.1\" 200 -\n"
     ]
    },
    {
     "name": "stdout",
     "output_type": "stream",
     "text": [
      "TF : 0 , 2846.702999999934 , 4889.099999999985 , 4905.100999999945 , 0.2640000000155851 , 4905.364999999961\n"
     ]
    },
    {
     "name": "stderr",
     "output_type": "stream",
     "text": [
      "150.229.118.214 - - [09/Jul/2018 15:49:50] \"POST / HTTP/1.1\" 200 -\n"
     ]
    },
    {
     "name": "stdout",
     "output_type": "stream",
     "text": [
      "TF : 0 , 2874.6929999999793 , 4893.3399999999665 , 4915.461999999934 , 0.33600000006117625 , 4915.797999999995\n"
     ]
    },
    {
     "name": "stderr",
     "output_type": "stream",
     "text": [
      "150.229.118.214 - - [09/Jul/2018 15:49:56] \"POST / HTTP/1.1\" 200 -\n"
     ]
    },
    {
     "name": "stdout",
     "output_type": "stream",
     "text": [
      "TF : 0 , 2828.508000000056 , 4851.464000000078 , 4885.65600000004 , 0.31100000001060835 , 4885.967000000051\n"
     ]
    },
    {
     "name": "stderr",
     "output_type": "stream",
     "text": [
      "150.229.118.214 - - [09/Jul/2018 15:50:01] \"POST / HTTP/1.1\" 200 -\n"
     ]
    },
    {
     "name": "stdout",
     "output_type": "stream",
     "text": [
      "TF : 0 , 2861.9730000000345 , 4908.862999999997 , 4931.598000000008 , 0.3140000000030341 , 4931.912000000011\n"
     ]
    },
    {
     "name": "stderr",
     "output_type": "stream",
     "text": [
      "150.229.118.214 - - [09/Jul/2018 15:50:06] \"POST / HTTP/1.1\" 200 -\n"
     ]
    },
    {
     "name": "stdout",
     "output_type": "stream",
     "text": [
      "TF : 0 , 2848.8269999999147 , 4884.0490000000045 , 4902.860000000032 , 0.2599999999119973 , 4903.119999999944\n"
     ]
    },
    {
     "name": "stderr",
     "output_type": "stream",
     "text": [
      "150.229.118.214 - - [09/Jul/2018 15:50:12] \"POST / HTTP/1.1\" 200 -\n"
     ]
    },
    {
     "name": "stdout",
     "output_type": "stream",
     "text": [
      "TF : 0 , 2859.3419999999696 , 4893.266999999923 , 4914.074000000028 , 0.2619999999069478 , 4914.335999999935\n"
     ]
    },
    {
     "name": "stderr",
     "output_type": "stream",
     "text": [
      "150.229.118.214 - - [09/Jul/2018 15:50:17] \"POST / HTTP/1.1\" 200 -\n"
     ]
    },
    {
     "name": "stdout",
     "output_type": "stream",
     "text": [
      "TF : 0 , 2838.8259999999264 , 4854.287999999997 , 4882.991000000061 , 0.3580000000056316 , 4883.349000000067\n"
     ]
    },
    {
     "name": "stderr",
     "output_type": "stream",
     "text": [
      "150.229.118.214 - - [09/Jul/2018 15:50:23] \"POST / HTTP/1.1\" 200 -\n"
     ]
    },
    {
     "name": "stdout",
     "output_type": "stream",
     "text": [
      "TF : 0 , 2836.5210000000616 , 4865.905999999995 , 4897.867000000019 , 0.25800000003073364 , 4898.12500000005\n"
     ]
    },
    {
     "name": "stderr",
     "output_type": "stream",
     "text": [
      "150.229.118.214 - - [09/Jul/2018 15:50:28] \"POST / HTTP/1.1\" 200 -\n"
     ]
    },
    {
     "name": "stdout",
     "output_type": "stream",
     "text": [
      "TF : 0 , 2844.8720000000094 , 4873.793999999975 , 4898.1520000000955 , 0.25199999993219535 , 4898.404000000028\n"
     ]
    },
    {
     "name": "stderr",
     "output_type": "stream",
     "text": [
      "150.229.118.214 - - [09/Jul/2018 15:50:34] \"POST / HTTP/1.1\" 200 -\n"
     ]
    },
    {
     "name": "stdout",
     "output_type": "stream",
     "text": [
      "TF : 0 , 2850.176000000033 , 4879.4430000000375 , 4894.404000000009 , 0.24499999994986865 , 4894.6489999999585\n"
     ]
    },
    {
     "name": "stderr",
     "output_type": "stream",
     "text": [
      "150.229.118.214 - - [09/Jul/2018 15:50:39] \"POST / HTTP/1.1\" 200 -\n"
     ]
    },
    {
     "name": "stdout",
     "output_type": "stream",
     "text": [
      "TF : 0 , 2829.923000000008 , 4853.740000000016 , 4871.758999999997 , 0.2610000000231594 , 4872.02000000002\n"
     ]
    },
    {
     "name": "stderr",
     "output_type": "stream",
     "text": [
      "150.229.118.214 - - [09/Jul/2018 15:50:46] \"POST / HTTP/1.1\" 200 -\n"
     ]
    },
    {
     "name": "stdout",
     "output_type": "stream",
     "text": [
      "TF : 0 , 2831.142 , 4862.948999999958 , 4884.2200000000275 , 0.2620000000206346 , 4884.482000000048\n"
     ]
    },
    {
     "name": "stderr",
     "output_type": "stream",
     "text": [
      "150.229.118.214 - - [09/Jul/2018 15:50:51] \"POST / HTTP/1.1\" 200 -\n"
     ]
    },
    {
     "name": "stdout",
     "output_type": "stream",
     "text": [
      "TF : 0 , 2863.426000000004 , 4899.66400000003 , 4917.183000000023 , 0.2709999999979118 , 4917.454000000021\n"
     ]
    },
    {
     "name": "stderr",
     "output_type": "stream",
     "text": [
      "150.229.118.214 - - [09/Jul/2018 15:50:56] \"POST / HTTP/1.1\" 200 -\n"
     ]
    },
    {
     "name": "stdout",
     "output_type": "stream",
     "text": [
      "TF : 0 , 2844.5910000000367 , 4874.777999999992 , 4892.374000000018 , 0.3540000000157306 , 4892.728000000034\n"
     ]
    },
    {
     "name": "stderr",
     "output_type": "stream",
     "text": [
      "150.229.118.214 - - [09/Jul/2018 15:51:02] \"POST / HTTP/1.1\" 200 -\n"
     ]
    },
    {
     "name": "stdout",
     "output_type": "stream",
     "text": [
      "TF : 0 , 2860.8010000000377 , 4911.1520000000155 , 4934.369999999944 , 0.26300000001810986 , 4934.6329999999625\n"
     ]
    },
    {
     "name": "stderr",
     "output_type": "stream",
     "text": [
      "150.229.118.214 - - [09/Jul/2018 15:51:07] \"POST / HTTP/1.1\" 200 -\n"
     ]
    },
    {
     "name": "stdout",
     "output_type": "stream",
     "text": [
      "TF : 0 , 2883.8250000000016 , 4903.1980000000885 , 4921.0239999999885 , 0.2520000000458822 , 4921.276000000034\n"
     ]
    },
    {
     "name": "stderr",
     "output_type": "stream",
     "text": [
      "150.229.118.214 - - [09/Jul/2018 15:51:39] \"POST / HTTP/1.1\" 200 -\n"
     ]
    },
    {
     "name": "stdout",
     "output_type": "stream",
     "text": [
      "TF : 0 , 4331.23999999998 , 6416.8280000000095 , 6437.877999999955 , 0.2610000000231594 , 6438.138999999978\n"
     ]
    },
    {
     "name": "stderr",
     "output_type": "stream",
     "text": [
      "150.229.118.214 - - [09/Jul/2018 15:51:46] \"POST / HTTP/1.1\" 200 -\n"
     ]
    },
    {
     "name": "stdout",
     "output_type": "stream",
     "text": [
      "TF : 0 , 4332.691999999952 , 6399.372999999969 , 6423.316 , 0.24799999994229438 , 6423.563999999942\n"
     ]
    },
    {
     "name": "stderr",
     "output_type": "stream",
     "text": [
      "150.229.118.214 - - [09/Jul/2018 15:51:54] \"POST / HTTP/1.1\" 200 -\n"
     ]
    },
    {
     "name": "stdout",
     "output_type": "stream",
     "text": [
      "TF : 0 , 4377.940999999964 , 6433.840999999916 , 6456.892999999923 , 0.2640000000155851 , 6457.156999999938\n"
     ]
    },
    {
     "name": "stderr",
     "output_type": "stream",
     "text": [
      "150.229.118.214 - - [09/Jul/2018 15:52:01] \"POST / HTTP/1.1\" 200 -\n"
     ]
    },
    {
     "name": "stdout",
     "output_type": "stream",
     "text": [
      "TF : 0 , 4406.196000000023 , 6467.142999999965 , 6493.82700000001 , 0.27000000000043656 , 6494.097000000011\n"
     ]
    },
    {
     "name": "stderr",
     "output_type": "stream",
     "text": [
      "150.229.118.214 - - [09/Jul/2018 15:52:09] \"POST / HTTP/1.1\" 200 -\n"
     ]
    },
    {
     "name": "stdout",
     "output_type": "stream",
     "text": [
      "TF : 0 , 4349.022999999988 , 6484.713000000056 , 6512.385999999992 , 0.31100000001060835 , 6512.697000000003\n"
     ]
    },
    {
     "name": "stderr",
     "output_type": "stream",
     "text": [
      "150.229.118.214 - - [09/Jul/2018 15:52:16] \"POST / HTTP/1.1\" 200 -\n"
     ]
    },
    {
     "name": "stdout",
     "output_type": "stream",
     "text": [
      "TF : 0 , 4322.05799999997 , 6379.3210000000045 , 6401.711999999975 , 0.25600000003578316 , 6401.968000000011\n"
     ]
    },
    {
     "name": "stderr",
     "output_type": "stream",
     "text": [
      "150.229.118.214 - - [09/Jul/2018 15:52:23] \"POST / HTTP/1.1\" 200 -\n"
     ]
    },
    {
     "name": "stdout",
     "output_type": "stream",
     "text": [
      "TF : 0 , 4328.757999999993 , 6380.633999999986 , 6406.006999999931 , 0.2620000000206346 , 6406.268999999952\n"
     ]
    },
    {
     "name": "stderr",
     "output_type": "stream",
     "text": [
      "150.229.118.214 - - [09/Jul/2018 15:52:30] \"POST / HTTP/1.1\" 200 -\n"
     ]
    },
    {
     "name": "stdout",
     "output_type": "stream",
     "text": [
      "TF : 0 , 4339.456000000041 , 6409.882000000039 , 6436.113000000091 , 0.262999999904423 , 6436.375999999996\n"
     ]
    },
    {
     "name": "stderr",
     "output_type": "stream",
     "text": [
      "150.229.118.214 - - [09/Jul/2018 15:52:37] \"POST / HTTP/1.1\" 200 -\n"
     ]
    },
    {
     "name": "stdout",
     "output_type": "stream",
     "text": [
      "TF : 0 , 4334.026999999992 , 6400.445999999988 , 6430.4369999999835 , 0.26500000001306034 , 6430.701999999997\n"
     ]
    },
    {
     "name": "stderr",
     "output_type": "stream",
     "text": [
      "150.229.118.214 - - [09/Jul/2018 15:52:44] \"POST / HTTP/1.1\" 200 -\n"
     ]
    },
    {
     "name": "stdout",
     "output_type": "stream",
     "text": [
      "TF : 0 , 4332.823000000076 , 6411.228000000051 , 6429.546999999957 , 0.3400000000510772 , 6429.887000000008\n"
     ]
    },
    {
     "name": "stderr",
     "output_type": "stream",
     "text": [
      "150.229.118.214 - - [09/Jul/2018 15:52:52] \"POST / HTTP/1.1\" 200 -\n"
     ]
    },
    {
     "name": "stdout",
     "output_type": "stream",
     "text": [
      "TF : 0 , 4322.823999999969 , 6410.754999999995 , 6434.522000000015 , 0.26800000000548607 , 6434.790000000021\n"
     ]
    },
    {
     "name": "stderr",
     "output_type": "stream",
     "text": [
      "150.229.118.214 - - [09/Jul/2018 15:52:59] \"POST / HTTP/1.1\" 200 -\n"
     ]
    },
    {
     "name": "stdout",
     "output_type": "stream",
     "text": [
      "TF : 0 , 4353.643000000034 , 6452.50800000008 , 6477.995999999962 , 0.26500000001306034 , 6478.260999999975\n"
     ]
    },
    {
     "name": "stderr",
     "output_type": "stream",
     "text": [
      "150.229.118.214 - - [09/Jul/2018 15:53:06] \"POST / HTTP/1.1\" 200 -\n"
     ]
    },
    {
     "name": "stdout",
     "output_type": "stream",
     "text": [
      "TF : 0 , 4365.530000000035 , 6467.26799999999 , 6494.7630000000345 , 0.2590000000282089 , 6495.022000000063\n"
     ]
    },
    {
     "name": "stderr",
     "output_type": "stream",
     "text": [
      "150.229.118.214 - - [09/Jul/2018 15:53:13] \"POST / HTTP/1.1\" 200 -\n"
     ]
    },
    {
     "name": "stdout",
     "output_type": "stream",
     "text": [
      "TF : 0 , 4380.3049999999075 , 6477.8219999999465 , 6505.763000000002 , 0.2590000000282089 , 6506.02200000003\n"
     ]
    },
    {
     "name": "stderr",
     "output_type": "stream",
     "text": [
      "150.229.118.214 - - [09/Jul/2018 15:53:20] \"POST / HTTP/1.1\" 200 -\n"
     ]
    },
    {
     "name": "stdout",
     "output_type": "stream",
     "text": [
      "TF : 0 , 4318.345000000022 , 6371.753000000012 , 6393.131000000039 , 0.2549999999246211 , 6393.385999999964\n"
     ]
    },
    {
     "name": "stderr",
     "output_type": "stream",
     "text": [
      "150.229.118.214 - - [09/Jul/2018 15:53:28] \"POST / HTTP/1.1\" 200 -\n"
     ]
    },
    {
     "name": "stdout",
     "output_type": "stream",
     "text": [
      "TF : 0 , 4317.03200000004 , 6395.078000000012 , 6419.387999999913 , 0.25600000003578316 , 6419.643999999948\n"
     ]
    },
    {
     "name": "stderr",
     "output_type": "stream",
     "text": [
      "150.229.118.214 - - [09/Jul/2018 15:53:35] \"POST / HTTP/1.1\" 200 -\n"
     ]
    },
    {
     "name": "stdout",
     "output_type": "stream",
     "text": [
      "TF : 0 , 4359.387999999967 , 6434.541999999965 , 6458.624999999984 , 0.2640000000155851 , 6458.888999999999\n"
     ]
    },
    {
     "name": "stderr",
     "output_type": "stream",
     "text": [
      "150.229.118.214 - - [09/Jul/2018 15:53:42] \"POST / HTTP/1.1\" 200 -\n"
     ]
    },
    {
     "name": "stdout",
     "output_type": "stream",
     "text": [
      "TF : 0 , 4345.679000000018 , 6400.623999999993 , 6427.728999999999 , 0.2570000000332584 , 6427.986000000033\n"
     ]
    },
    {
     "name": "stderr",
     "output_type": "stream",
     "text": [
      "150.229.118.214 - - [09/Jul/2018 15:53:49] \"POST / HTTP/1.1\" 200 -\n"
     ]
    },
    {
     "name": "stdout",
     "output_type": "stream",
     "text": [
      "TF : 0 , 4346.7130000000225 , 6400.974000000019 , 6423.991000000001 , 0.2620000000206346 , 6424.2530000000215\n"
     ]
    },
    {
     "name": "stderr",
     "output_type": "stream",
     "text": [
      "150.229.118.214 - - [09/Jul/2018 15:53:57] \"POST / HTTP/1.1\" 200 -\n"
     ]
    },
    {
     "name": "stdout",
     "output_type": "stream",
     "text": [
      "TF : 0 , 4280.940999999984 , 6360.276999999996 , 6395.062000000053 , 0.31100000001060835 , 6395.373000000063\n"
     ]
    },
    {
     "name": "stderr",
     "output_type": "stream",
     "text": [
      "150.229.118.214 - - [09/Jul/2018 15:54:23] \"POST / HTTP/1.1\" 200 -\n"
     ]
    },
    {
     "name": "stdout",
     "output_type": "stream",
     "text": [
      "TF : 0 , 6638.591000000019 , 8758.856000000036 , 8785.74100000003 , 0.2590000000282089 , 8786.000000000058\n"
     ]
    },
    {
     "name": "stderr",
     "output_type": "stream",
     "text": [
      "150.229.118.214 - - [09/Jul/2018 15:54:33] \"POST / HTTP/1.1\" 200 -\n"
     ]
    },
    {
     "name": "stdout",
     "output_type": "stream",
     "text": [
      "TF : 0 , 6657.353000000057 , 8793.813 , 8827.63 , 0.2690000000029613 , 8827.899000000001\n"
     ]
    },
    {
     "name": "stderr",
     "output_type": "stream",
     "text": [
      "150.229.118.214 - - [09/Jul/2018 15:54:43] \"POST / HTTP/1.1\" 200 -\n"
     ]
    },
    {
     "name": "stdout",
     "output_type": "stream",
     "text": [
      "TF : 0 , 6650.725999999963 , 8796.643999999902 , 8833.769999999959 , 0.27199999999538704 , 8834.041999999954\n"
     ]
    },
    {
     "name": "stderr",
     "output_type": "stream",
     "text": [
      "150.229.118.214 - - [09/Jul/2018 15:54:52] \"POST / HTTP/1.1\" 200 -\n"
     ]
    },
    {
     "name": "stdout",
     "output_type": "stream",
     "text": [
      "TF : 0 , 6635.7439999999315 , 8764.364000000001 , 8798.778999999968 , 0.33800000005612674 , 8799.117000000024\n"
     ]
    },
    {
     "name": "stderr",
     "output_type": "stream",
     "text": [
      "150.229.118.214 - - [09/Jul/2018 15:55:02] \"POST / HTTP/1.1\" 200 -\n"
     ]
    },
    {
     "name": "stdout",
     "output_type": "stream",
     "text": [
      "TF : 0 , 6755.407000000105 , 8962.392000000022 , 8997.9229999999 , 0.26500000001306034 , 8998.187999999915\n"
     ]
    },
    {
     "name": "stderr",
     "output_type": "stream",
     "text": [
      "150.229.118.214 - - [09/Jul/2018 15:55:12] \"POST / HTTP/1.1\" 200 -\n"
     ]
    },
    {
     "name": "stdout",
     "output_type": "stream",
     "text": [
      "TF : 0 , 6635.514000000057 , 8782.975999999962 , 8814.232999999946 , 0.293000000056054 , 8814.526000000002\n"
     ]
    },
    {
     "name": "stderr",
     "output_type": "stream",
     "text": [
      "150.229.118.214 - - [09/Jul/2018 15:55:29] \"POST / HTTP/1.1\" 200 -\n"
     ]
    },
    {
     "name": "stdout",
     "output_type": "stream",
     "text": [
      "TF : 0 , 6663.259999999923 , 8806.52699999996 , 8966.87899999995 , 0.25100000004840695 , 8967.129999999997\n"
     ]
    },
    {
     "name": "stderr",
     "output_type": "stream",
     "text": [
      "150.229.118.214 - - [09/Jul/2018 15:55:39] \"POST / HTTP/1.1\" 200 -\n"
     ]
    },
    {
     "name": "stdout",
     "output_type": "stream",
     "text": [
      "TF : 0 , 6634.5079999999825 , 8782.196 , 8848.552999999923 , 0.31300000000555883 , 8848.865999999929\n"
     ]
    },
    {
     "name": "stderr",
     "output_type": "stream",
     "text": [
      "150.229.118.214 - - [09/Jul/2018 15:55:49] \"POST / HTTP/1.1\" 200 -\n"
     ]
    },
    {
     "name": "stdout",
     "output_type": "stream",
     "text": [
      "TF : 0 , 6756.032000000005 , 8960.817999999905 , 9008.141000000023 , 0.2779999999802385 , 9008.419000000004\n"
     ]
    },
    {
     "name": "stderr",
     "output_type": "stream",
     "text": [
      "150.229.118.214 - - [09/Jul/2018 15:55:59] \"POST / HTTP/1.1\" 200 -\n"
     ]
    },
    {
     "name": "stdout",
     "output_type": "stream",
     "text": [
      "TF : 0 , 6778.759000000036 , 9026.450000000068 , 9068.806999999993 , 0.339000000053602 , 9069.146000000046\n"
     ]
    },
    {
     "name": "stderr",
     "output_type": "stream",
     "text": [
      "150.229.118.214 - - [09/Jul/2018 15:56:10] \"POST / HTTP/1.1\" 200 -\n"
     ]
    },
    {
     "name": "stdout",
     "output_type": "stream",
     "text": [
      "TF : 0 , 7362.822000000051 , 9642.915000000015 , 9684.438 , 0.3100000000131331 , 9684.748000000014\n"
     ]
    },
    {
     "name": "stderr",
     "output_type": "stream",
     "text": [
      "150.229.118.214 - - [09/Jul/2018 15:56:20] \"POST / HTTP/1.1\" 200 -\n"
     ]
    },
    {
     "name": "stdout",
     "output_type": "stream",
     "text": [
      "TF : 0 , 6790.6169999999975 , 8944.18799999994 , 8977.558000000045 , 0.29999999992469384 , 8977.85799999997\n"
     ]
    },
    {
     "name": "stderr",
     "output_type": "stream",
     "text": [
      "150.229.118.214 - - [09/Jul/2018 15:56:30] \"POST / HTTP/1.1\" 200 -\n"
     ]
    },
    {
     "name": "stdout",
     "output_type": "stream",
     "text": [
      "TF : 0 , 6662.41500000001 , 8806.654000000093 , 8843.903000000068 , 0.26599999989684875 , 8844.168999999965\n"
     ]
    },
    {
     "name": "stderr",
     "output_type": "stream",
     "text": [
      "150.229.118.214 - - [09/Jul/2018 15:56:39] \"POST / HTTP/1.1\" 200 -\n"
     ]
    },
    {
     "name": "stdout",
     "output_type": "stream",
     "text": [
      "TF : 0 , 6700.034000000073 , 8845.296000000075 , 8884.852000000024 , 0.26500000001306034 , 8885.117000000037\n"
     ]
    },
    {
     "name": "stderr",
     "output_type": "stream",
     "text": [
      "150.229.118.214 - - [09/Jul/2018 15:56:49] \"POST / HTTP/1.1\" 200 -\n"
     ]
    },
    {
     "name": "stdout",
     "output_type": "stream",
     "text": [
      "TF : 0 , 6646.36100000007 , 8808.016000000065 , 8847.420000000056 , 0.26099999990947254 , 8847.680999999966\n"
     ]
    },
    {
     "name": "stderr",
     "output_type": "stream",
     "text": [
      "150.229.118.214 - - [09/Jul/2018 15:56:59] \"POST / HTTP/1.1\" 200 -\n"
     ]
    },
    {
     "name": "stdout",
     "output_type": "stream",
     "text": [
      "TF : 0 , 6635.773000000086 , 8778.083000000039 , 8808.682999999974 , 0.28199999997013947 , 8808.964999999944\n"
     ]
    },
    {
     "name": "stderr",
     "output_type": "stream",
     "text": [
      "150.229.118.214 - - [09/Jul/2018 15:57:08] \"POST / HTTP/1.1\" 200 -\n"
     ]
    },
    {
     "name": "stdout",
     "output_type": "stream",
     "text": [
      "TF : 0 , 6671.611999999982 , 8840.790999999968 , 8880.33800000005 , 0.262999999904423 , 8880.600999999955\n"
     ]
    },
    {
     "name": "stderr",
     "output_type": "stream",
     "text": [
      "150.229.118.214 - - [09/Jul/2018 15:57:18] \"POST / HTTP/1.1\" 200 -\n"
     ]
    },
    {
     "name": "stdout",
     "output_type": "stream",
     "text": [
      "TF : 0 , 6656.597999999917 , 8806.28399999989 , 8837.70800000002 , 0.27699999998276326 , 8837.985000000004\n"
     ]
    },
    {
     "name": "stderr",
     "output_type": "stream",
     "text": [
      "150.229.118.214 - - [09/Jul/2018 15:57:28] \"POST / HTTP/1.1\" 200 -\n"
     ]
    },
    {
     "name": "stdout",
     "output_type": "stream",
     "text": [
      "TF : 0 , 7095.588999999904 , 9493.626999999946 , 9528.086999999914 , 0.2640000000155851 , 9528.35099999993\n"
     ]
    },
    {
     "name": "stderr",
     "output_type": "stream",
     "text": [
      "150.229.118.214 - - [09/Jul/2018 15:57:38] \"POST / HTTP/1.1\" 200 -\n"
     ]
    },
    {
     "name": "stdout",
     "output_type": "stream",
     "text": [
      "TF : 0 , 6682.682999999997 , 8843.464999999924 , 8876.387000000022 , 0.26300000001810986 , 8876.650000000041\n"
     ]
    },
    {
     "name": "stderr",
     "output_type": "stream",
     "text": [
      "150.229.118.214 - - [09/Jul/2018 15:58:03] \"POST / HTTP/1.1\" 200 -\n"
     ]
    },
    {
     "name": "stdout",
     "output_type": "stream",
     "text": [
      "TF : 0 , 6772.336999999993 , 8931.228999999916 , 8969.049999999925 , 0.2660000000105356 , 8969.315999999935\n"
     ]
    },
    {
     "name": "stderr",
     "output_type": "stream",
     "text": [
      "150.229.118.214 - - [09/Jul/2018 15:58:13] \"POST / HTTP/1.1\" 200 -\n"
     ]
    },
    {
     "name": "stdout",
     "output_type": "stream",
     "text": [
      "TF : 0 , 6741.737999999941 , 8899.10199999997 , 8929.177999999978 , 0.3070000000207074 , 8929.485\n"
     ]
    },
    {
     "name": "stderr",
     "output_type": "stream",
     "text": [
      "150.229.118.214 - - [09/Jul/2018 15:58:23] \"POST / HTTP/1.1\" 200 -\n"
     ]
    },
    {
     "name": "stdout",
     "output_type": "stream",
     "text": [
      "TF : 0 , 6704.68500000004 , 8858.098000000042 , 8888.29999999996 , 0.24899999993976962 , 8888.548999999897\n"
     ]
    },
    {
     "name": "stderr",
     "output_type": "stream",
     "text": [
      "150.229.118.214 - - [09/Jul/2018 15:58:33] \"POST / HTTP/1.1\" 200 -\n"
     ]
    },
    {
     "name": "stdout",
     "output_type": "stream",
     "text": [
      "TF : 0 , 6758.005000000026 , 8927.12700000004 , 8955.944000000045 , 0.2620000000206346 , 8956.206000000066\n"
     ]
    },
    {
     "name": "stderr",
     "output_type": "stream",
     "text": [
      "150.229.118.214 - - [09/Jul/2018 15:58:43] \"POST / HTTP/1.1\" 200 -\n"
     ]
    },
    {
     "name": "stdout",
     "output_type": "stream",
     "text": [
      "TF : 0 , 6714.689000000021 , 8859.668000000056 , 8888.793999999962 , 0.2620000000206346 , 8889.055999999982\n"
     ]
    },
    {
     "name": "stderr",
     "output_type": "stream",
     "text": [
      "150.229.118.214 - - [09/Jul/2018 15:58:53] \"POST / HTTP/1.1\" 200 -\n"
     ]
    },
    {
     "name": "stdout",
     "output_type": "stream",
     "text": [
      "TF : 0 , 6721.402000000012 , 8863.652000000002 , 8903.610000000072 , 0.26700000000801083 , 8903.87700000008\n"
     ]
    },
    {
     "name": "stderr",
     "output_type": "stream",
     "text": [
      "150.229.118.214 - - [09/Jul/2018 15:59:03] \"POST / HTTP/1.1\" 200 -\n"
     ]
    },
    {
     "name": "stdout",
     "output_type": "stream",
     "text": [
      "TF : 0 , 6739.00900000001 , 8896.95100000006 , 8932.336999999961 , 0.2869999999575157 , 8932.62399999992\n"
     ]
    },
    {
     "name": "stderr",
     "output_type": "stream",
     "text": [
      "150.229.118.214 - - [09/Jul/2018 15:59:13] \"POST / HTTP/1.1\" 200 -\n"
     ]
    },
    {
     "name": "stdout",
     "output_type": "stream",
     "text": [
      "TF : 0 , 6757.589000000053 , 8915.400999999974 , 8948.43800000001 , 0.28100000008635106 , 8948.719000000096\n"
     ]
    },
    {
     "name": "stderr",
     "output_type": "stream",
     "text": [
      "150.229.118.214 - - [09/Jul/2018 15:59:23] \"POST / HTTP/1.1\" 200 -\n"
     ]
    },
    {
     "name": "stdout",
     "output_type": "stream",
     "text": [
      "TF : 0 , 6702.8029999999035 , 8833.333999999923 , 8868.085000000065 , 0.3059999999095453 , 8868.390999999974\n"
     ]
    },
    {
     "name": "stderr",
     "output_type": "stream",
     "text": [
      "150.229.118.214 - - [09/Jul/2018 15:59:34] \"POST / HTTP/1.1\" 200 -\n"
     ]
    },
    {
     "name": "stdout",
     "output_type": "stream",
     "text": [
      "TF : 0 , 6757.6460000000225 , 8893.922999999973 , 8945.352000000072 , 0.4109999999855063 , 8945.763000000057\n"
     ]
    },
    {
     "name": "stderr",
     "output_type": "stream",
     "text": [
      "150.229.118.214 - - [09/Jul/2018 15:59:44] \"POST / HTTP/1.1\" 200 -\n"
     ]
    },
    {
     "name": "stdout",
     "output_type": "stream",
     "text": [
      "TF : 0 , 6732.179999999971 , 8921.902000000046 , 8951.857000000018 , 0.2729999999928623 , 8952.130000000012\n"
     ]
    },
    {
     "name": "stderr",
     "output_type": "stream",
     "text": [
      "150.229.118.214 - - [09/Jul/2018 15:59:53] \"POST / HTTP/1.1\" 200 -\n"
     ]
    },
    {
     "name": "stdout",
     "output_type": "stream",
     "text": [
      "TF : 0 , 6709.01200000003 , 8841.74900000005 , 8870.437000000038 , 0.26000000002568413 , 8870.697000000064\n"
     ]
    },
    {
     "name": "stderr",
     "output_type": "stream",
     "text": [
      "150.229.118.214 - - [09/Jul/2018 16:00:03] \"POST / HTTP/1.1\" 200 -\n"
     ]
    },
    {
     "name": "stdout",
     "output_type": "stream",
     "text": [
      "TF : 0 , 6728.947999999946 , 8883.342999999968 , 8913.25999999981 , 0.2750000001014996 , 8913.53499999991\n"
     ]
    },
    {
     "name": "stderr",
     "output_type": "stream",
     "text": [
      "150.229.118.214 - - [09/Jul/2018 16:00:13] \"POST / HTTP/1.1\" 200 -\n"
     ]
    },
    {
     "name": "stdout",
     "output_type": "stream",
     "text": [
      "TF : 0 , 6732.383000000027 , 8880.129000000125 , 8916.06499999989 , 0.2880000001823646 , 8916.353000000072\n"
     ]
    },
    {
     "name": "stderr",
     "output_type": "stream",
     "text": [
      "150.229.118.214 - - [09/Jul/2018 16:00:23] \"POST / HTTP/1.1\" 200 -\n"
     ]
    },
    {
     "name": "stdout",
     "output_type": "stream",
     "text": [
      "TF : 0 , 6810.150999999905 , 8962.354999999889 , 8991.676000000098 , 0.2910000000611035 , 8991.967000000159\n"
     ]
    },
    {
     "name": "stderr",
     "output_type": "stream",
     "text": [
      "150.229.118.214 - - [09/Jul/2018 16:00:33] \"POST / HTTP/1.1\" 200 -\n"
     ]
    },
    {
     "name": "stdout",
     "output_type": "stream",
     "text": [
      "TF : 0 , 6749.706999999944 , 8916.987999999947 , 8955.962 , 0.2549999999246211 , 8956.216999999924\n"
     ]
    },
    {
     "name": "stderr",
     "output_type": "stream",
     "text": [
      "150.229.118.214 - - [09/Jul/2018 16:00:43] \"POST / HTTP/1.1\" 200 -\n"
     ]
    },
    {
     "name": "stdout",
     "output_type": "stream",
     "text": [
      "TF : 0 , 6722.778999999946 , 8868.11200000011 , 8897.453999999925 , 0.2640000000155851 , 8897.71799999994\n"
     ]
    },
    {
     "name": "stderr",
     "output_type": "stream",
     "text": [
      "150.229.118.214 - - [09/Jul/2018 16:00:53] \"POST / HTTP/1.1\" 200 -\n"
     ]
    },
    {
     "name": "stdout",
     "output_type": "stream",
     "text": [
      "TF : 0 , 6863.763000000063 , 9033.09000000013 , 9066.474999999855 , 0.28500000007625204 , 9066.759999999931\n"
     ]
    },
    {
     "name": "stderr",
     "output_type": "stream",
     "text": [
      "150.229.118.214 - - [09/Jul/2018 16:01:04] \"POST / HTTP/1.1\" 200 -\n"
     ]
    },
    {
     "name": "stdout",
     "output_type": "stream",
     "text": [
      "TF : 0 , 6754.498000000012 , 8919.497999999976 , 8968.769000000066 , 0.3430000001571898 , 8969.112000000223\n"
     ]
    },
    {
     "name": "stderr",
     "output_type": "stream",
     "text": [
      "150.229.118.214 - - [09/Jul/2018 16:01:14] \"POST / HTTP/1.1\" 200 -\n"
     ]
    },
    {
     "name": "stdout",
     "output_type": "stream",
     "text": [
      "TF : 0 , 6785.168999999996 , 8925.246000000016 , 8969.22399999994 , 0.26700000012169767 , 8969.491000000062\n"
     ]
    },
    {
     "ename": "KeyboardInterrupt",
     "evalue": "",
     "output_type": "error",
     "traceback": [
      "\u001b[0;31m---------------------------------------------------------------------------\u001b[0m",
      "\u001b[0;31mKeyboardInterrupt\u001b[0m                         Traceback (most recent call last)",
      "\u001b[0;32m<ipython-input-15-790fb882ee82>\u001b[0m in \u001b[0;36m<module>\u001b[0;34m()\u001b[0m\n\u001b[1;32m      1\u001b[0m \u001b[0;31m# In[5]:\u001b[0m\u001b[0;34m\u001b[0m\u001b[0;34m\u001b[0m\u001b[0m\n\u001b[1;32m      2\u001b[0m \u001b[0;34m\u001b[0m\u001b[0m\n\u001b[0;32m----> 3\u001b[0;31m \u001b[0mrun\u001b[0m\u001b[0;34m(\u001b[0m\u001b[0;34m)\u001b[0m\u001b[0;34m\u001b[0m\u001b[0m\n\u001b[0m",
      "\u001b[0;32m<ipython-input-14-5feae35c8eda>\u001b[0m in \u001b[0;36mrun\u001b[0;34m()\u001b[0m\n\u001b[1;32m     10\u001b[0m     \u001b[0mprint\u001b[0m\u001b[0;34m(\u001b[0m\u001b[0;34m'running server...'\u001b[0m\u001b[0;34m)\u001b[0m\u001b[0;34m\u001b[0m\u001b[0m\n\u001b[1;32m     11\u001b[0m     \u001b[0mprint\u001b[0m\u001b[0;34m(\u001b[0m\u001b[0;34m\"CV_Time, TF_Detect, TF_IO, Overall_Detection, XML_Output, Overall (ms)\"\u001b[0m\u001b[0;34m)\u001b[0m\u001b[0;34m\u001b[0m\u001b[0m\n\u001b[0;32m---> 12\u001b[0;31m     \u001b[0mhttpd\u001b[0m\u001b[0;34m.\u001b[0m\u001b[0mserve_forever\u001b[0m\u001b[0;34m(\u001b[0m\u001b[0;34m)\u001b[0m\u001b[0;34m\u001b[0m\u001b[0m\n\u001b[0m",
      "\u001b[0;32m~/anaconda3/envs/mr-environment/lib/python3.6/socketserver.py\u001b[0m in \u001b[0;36mserve_forever\u001b[0;34m(self, poll_interval)\u001b[0m\n\u001b[1;32m    234\u001b[0m \u001b[0;34m\u001b[0m\u001b[0m\n\u001b[1;32m    235\u001b[0m                 \u001b[0;32mwhile\u001b[0m \u001b[0;32mnot\u001b[0m \u001b[0mself\u001b[0m\u001b[0;34m.\u001b[0m\u001b[0m__shutdown_request\u001b[0m\u001b[0;34m:\u001b[0m\u001b[0;34m\u001b[0m\u001b[0m\n\u001b[0;32m--> 236\u001b[0;31m                     \u001b[0mready\u001b[0m \u001b[0;34m=\u001b[0m \u001b[0mselector\u001b[0m\u001b[0;34m.\u001b[0m\u001b[0mselect\u001b[0m\u001b[0;34m(\u001b[0m\u001b[0mpoll_interval\u001b[0m\u001b[0;34m)\u001b[0m\u001b[0;34m\u001b[0m\u001b[0m\n\u001b[0m\u001b[1;32m    237\u001b[0m                     \u001b[0;32mif\u001b[0m \u001b[0mready\u001b[0m\u001b[0;34m:\u001b[0m\u001b[0;34m\u001b[0m\u001b[0m\n\u001b[1;32m    238\u001b[0m                         \u001b[0mself\u001b[0m\u001b[0;34m.\u001b[0m\u001b[0m_handle_request_noblock\u001b[0m\u001b[0;34m(\u001b[0m\u001b[0;34m)\u001b[0m\u001b[0;34m\u001b[0m\u001b[0m\n",
      "\u001b[0;32m~/anaconda3/envs/mr-environment/lib/python3.6/selectors.py\u001b[0m in \u001b[0;36mselect\u001b[0;34m(self, timeout)\u001b[0m\n\u001b[1;32m    374\u001b[0m             \u001b[0mready\u001b[0m \u001b[0;34m=\u001b[0m \u001b[0;34m[\u001b[0m\u001b[0;34m]\u001b[0m\u001b[0;34m\u001b[0m\u001b[0m\n\u001b[1;32m    375\u001b[0m             \u001b[0;32mtry\u001b[0m\u001b[0;34m:\u001b[0m\u001b[0;34m\u001b[0m\u001b[0m\n\u001b[0;32m--> 376\u001b[0;31m                 \u001b[0mfd_event_list\u001b[0m \u001b[0;34m=\u001b[0m \u001b[0mself\u001b[0m\u001b[0;34m.\u001b[0m\u001b[0m_poll\u001b[0m\u001b[0;34m.\u001b[0m\u001b[0mpoll\u001b[0m\u001b[0;34m(\u001b[0m\u001b[0mtimeout\u001b[0m\u001b[0;34m)\u001b[0m\u001b[0;34m\u001b[0m\u001b[0m\n\u001b[0m\u001b[1;32m    377\u001b[0m             \u001b[0;32mexcept\u001b[0m \u001b[0mInterruptedError\u001b[0m\u001b[0;34m:\u001b[0m\u001b[0;34m\u001b[0m\u001b[0m\n\u001b[1;32m    378\u001b[0m                 \u001b[0;32mreturn\u001b[0m \u001b[0mready\u001b[0m\u001b[0;34m\u001b[0m\u001b[0m\n",
      "\u001b[0;31mKeyboardInterrupt\u001b[0m: "
     ]
    }
   ],
   "source": [
    "# In[5]:\n",
    "\n",
    "run()"
   ]
  },
  {
   "cell_type": "code",
   "execution_count": null,
   "metadata": {
    "collapsed": true
   },
   "outputs": [],
   "source": []
  }
 ],
 "metadata": {
  "kernelspec": {
   "display_name": "Python 3",
   "language": "python",
   "name": "python3"
  },
  "language_info": {
   "codemirror_mode": {
    "name": "ipython",
    "version": 3
   },
   "file_extension": ".py",
   "mimetype": "text/x-python",
   "name": "python",
   "nbconvert_exporter": "python",
   "pygments_lexer": "ipython3",
   "version": "3.6.3"
  }
 },
 "nbformat": 4,
 "nbformat_minor": 2
}
