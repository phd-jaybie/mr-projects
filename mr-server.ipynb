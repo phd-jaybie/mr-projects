{
 "cells": [
  {
   "cell_type": "code",
   "execution_count": 1,
   "metadata": {
    "collapsed": true
   },
   "outputs": [],
   "source": [
    "# coding: utf-8\n",
    "\n",
    "# In[1]:\n",
    "\n",
    "\n",
    "#!/usr/bin/env python\n",
    "\n",
    "import cv2\n",
    "import numpy as np\n",
    "import sys\n",
    "import time\n",
    "import requests\n",
    "import math\n",
    "\n",
    "import os\n",
    "import six.moves.urllib as urllib\n",
    "import tensorflow as tf\n",
    "import zipfile\n",
    "import collections\n",
    "import warnings\n",
    "warnings.filterwarnings(\"ignore\")\n",
    "\n",
    "from xml.etree.ElementTree import Element, SubElement, Comment, tostring, ElementTree\n",
    "from http.server import BaseHTTPRequestHandler, HTTPServer\n",
    "from collections import defaultdict\n",
    "from io import StringIO, BytesIO\n",
    "from matplotlib import pyplot as plt\n",
    "from PIL import Image"
   ]
  },
  {
   "cell_type": "code",
   "execution_count": 2,
   "metadata": {
    "collapsed": true
   },
   "outputs": [],
   "source": [
    "# This is needed to add the tf-object detecton api modules\n",
    "sys.path.append(\"/Users/deg032/models/research\")\n",
    "from object_detection.utils import ops as utils_ops\n",
    "from object_detection.utils import label_map_util\n",
    "from object_detection.utils import visualization_utils as vis_util\n",
    "\n",
    "if tf.__version__ < '1.4.0':\n",
    "  raise ImportError('Please upgrade your tensorflow installation to v1.4.* or later!')"
   ]
  },
  {
   "cell_type": "code",
   "execution_count": 3,
   "metadata": {
    "collapsed": true
   },
   "outputs": [],
   "source": [
    "# OpenCV parameters below\n",
    "search_params = dict(checks = 20) # this is for the flann-based matcher\n",
    "largest = {4032, 3024}\n",
    "detector = cv2.xfeatures2d.SIFT_create()\n",
    "FLANN_INDEX_KDTREE = 0\n",
    "index_params = dict(algorithm = FLANN_INDEX_KDTREE, tree = 5)\n",
    "matcher = cv2.FlannBasedMatcher(index_params, search_params)\n",
    "\n",
    "ref = \"res/unsw.png\"\n",
    "\n",
    "ref_img = cv2.imread(ref, 0)\n",
    "\n",
    "rKP, rDES = detector.detectAndCompute(ref_img, None)        "
   ]
  },
  {
   "cell_type": "code",
   "execution_count": 4,
   "metadata": {
    "collapsed": true
   },
   "outputs": [],
   "source": [
    "# Main tasks\n",
    "\n",
    "# What model to use.\n",
    "MODEL_NAME = 'ssd_mobilenet_v1_coco_2017_11_17'\n",
    "#MODEL_FILE = MODEL_NAME + '.tar.gz'\n",
    "OBJ_API_BASE = '/Users/deg032/models/research/object_detection/'\n",
    "\n",
    "# Path to frozen detection graph. This is the actual model that is used for the object detection.\n",
    "PATH_TO_CKPT = MODEL_NAME + '/frozen_inference_graph.pb'\n",
    "\n",
    "# List of the strings that is used to add correct label for each box.\n",
    "PATH_TO_LABELS = os.path.join('data', 'mscoco_label_map.pbtxt')\n",
    "\n",
    "NUM_CLASSES = 90"
   ]
  },
  {
   "cell_type": "code",
   "execution_count": 5,
   "metadata": {
    "collapsed": true
   },
   "outputs": [],
   "source": [
    "detection_graph = tf.Graph()\n",
    "with detection_graph.as_default():\n",
    "  od_graph_def = tf.GraphDef()\n",
    "  with tf.gfile.GFile(OBJ_API_BASE + PATH_TO_CKPT, 'rb') as fid:\n",
    "    serialized_graph = fid.read()\n",
    "    od_graph_def.ParseFromString(serialized_graph)\n",
    "    tf.import_graph_def(od_graph_def, name='')\n",
    "    \n",
    "label_map = label_map_util.load_labelmap(OBJ_API_BASE + PATH_TO_LABELS)\n",
    "categories = label_map_util.convert_label_map_to_categories(label_map, max_num_classes=NUM_CLASSES, use_display_name=True)\n",
    "category_index = label_map_util.create_category_index(categories)"
   ]
  },
  {
   "cell_type": "code",
   "execution_count": 6,
   "metadata": {
    "collapsed": true
   },
   "outputs": [],
   "source": [
    "def get_object_locations(\n",
    "    boxes,\n",
    "    classes,\n",
    "    scores,\n",
    "    category_index,\n",
    "    instance_masks=None,\n",
    "    instance_boundaries=None,\n",
    "    keypoints=None,\n",
    "    use_normalized_coordinates=False,\n",
    "    max_boxes_to_draw=20,\n",
    "    min_score_thresh=.5,\n",
    "    agnostic_mode=False,\n",
    "    line_thickness=4,\n",
    "    groundtruth_box_visualization_color='black',\n",
    "    skip_scores=False,\n",
    "    skip_labels=False):\n",
    "  \"\"\"This is an adaptation of the function from the visualization_utils\n",
    "  named 'visualize_boxes_and_labels_on_image_array' but does not embed the\n",
    "  masks to the image directly but just extract the relative position of\n",
    "  objects within the view. This is to prevent sharing raw visual informa-\n",
    "  tion to intended third parties interested to know the detected objects.\n",
    "  \n",
    "  Overlay labeled boxes on an image with formatted scores and label names.\n",
    "\n",
    "  This function groups boxes that correspond to the same location\n",
    "  and creates a display string for each detection and overlays these\n",
    "  on the image. Note that this function modifies the image in place, and returns\n",
    "  that same image.\n",
    "\n",
    "  Args:\n",
    "    image: uint8 numpy array with shape (img_height, img_width, 3)\n",
    "    boxes: a numpy array of shape [N, 4]\n",
    "    classes: a numpy array of shape [N]. Note that class indices are 1-based,\n",
    "      and match the keys in the label map.\n",
    "    scores: a numpy array of shape [N] or None.  If scores=None, then\n",
    "      this function assumes that the boxes to be plotted are groundtruth\n",
    "      boxes and plot all boxes as black with no classes or scores.\n",
    "    category_index: a dict containing category dictionaries (each holding\n",
    "      category index `id` and category name `name`) keyed by category indices.\n",
    "    instance_masks: a numpy array of shape [N, image_height, image_width] with\n",
    "      values ranging between 0 and 1, can be None.\n",
    "    instance_boundaries: a numpy array of shape [N, image_height, image_width]\n",
    "      with values ranging between 0 and 1, can be None.\n",
    "    keypoints: a numpy array of shape [N, num_keypoints, 2], can\n",
    "      be None\n",
    "    use_normalized_coordinates: whether boxes is to be interpreted as\n",
    "      normalized coordinates or not.\n",
    "    max_boxes_to_draw: maximum number of boxes to visualize.  If None, draw\n",
    "      all boxes.\n",
    "    min_score_thresh: minimum score threshold for a box to be visualized\n",
    "    agnostic_mode: boolean (default: False) controlling whether to evaluate in\n",
    "      class-agnostic mode or not.  This mode will display scores but ignore\n",
    "      classes.\n",
    "    line_thickness: integer (default: 4) controlling line width of the boxes.\n",
    "    groundtruth_box_visualization_color: box color for visualizing groundtruth\n",
    "      boxes\n",
    "    skip_scores: whether to skip score when drawing a single detection\n",
    "    skip_labels: whether to skip label when drawing a single detection\n",
    "\n",
    "  Returns:\n",
    "    uint8 numpy array with shape (img_height, img_width, 3) with overlaid boxes.\n",
    "  \"\"\"\n",
    "  # Create a display string (and color) for every box location, group any boxes\n",
    "  # that correspond to the same location.\n",
    "  box_to_display_str_map = collections.defaultdict(list)\n",
    "  box_to_color_map = collections.defaultdict(str)\n",
    "  box_to_instance_masks_map = {}\n",
    "  box_to_instance_boundaries_map = {}\n",
    "  box_to_keypoints_map = collections.defaultdict(list)\n",
    "  if not max_boxes_to_draw:\n",
    "    max_boxes_to_draw = boxes.shape[0]\n",
    "  for i in range(min(max_boxes_to_draw, boxes.shape[0])):\n",
    "    if scores is None or scores[i] > min_score_thresh:\n",
    "      box = tuple(boxes[i].tolist())\n",
    "      if instance_masks is not None:\n",
    "        box_to_instance_masks_map[box] = instance_masks[i]\n",
    "      if instance_boundaries is not None:\n",
    "        box_to_instance_boundaries_map[box] = instance_boundaries[i]\n",
    "      if keypoints is not None:\n",
    "        box_to_keypoints_map[box].extend(keypoints[i])\n",
    "      if scores is None:\n",
    "        box_to_color_map[box] = groundtruth_box_visualization_color\n",
    "      else:\n",
    "        display_str = ''\n",
    "        if not skip_labels:\n",
    "          if not agnostic_mode:\n",
    "            if classes[i] in category_index.keys():\n",
    "              class_name = category_index[classes[i]]['name']\n",
    "            else:\n",
    "              class_name = 'N/A'\n",
    "            display_str = str(class_name)\n",
    "        if not skip_scores:\n",
    "          if not display_str:\n",
    "            display_str = '{}%'.format(int(100*scores[i]))\n",
    "          else:\n",
    "            display_str = '{}: {}%'.format(display_str, int(100*scores[i]))\n",
    "        box_to_display_str_map[box].append(display_str)\n",
    "  return box_to_display_str_map"
   ]
  },
  {
   "cell_type": "code",
   "execution_count": 7,
   "metadata": {
    "collapsed": true
   },
   "outputs": [],
   "source": [
    "def load_image_into_numpy_array(image):\n",
    "  (im_width, im_height) = image.size\n",
    "  return np.array(image.getdata()).reshape(\n",
    "      (im_height, im_width, 3)).astype(np.uint8)"
   ]
  },
  {
   "cell_type": "code",
   "execution_count": 8,
   "metadata": {
    "collapsed": true
   },
   "outputs": [],
   "source": [
    "def run_inference_for_single_image(image, graph):\n",
    "  with graph.as_default():\n",
    "    with tf.Session() as sess:\n",
    "      # Get handles to input and output tensors\n",
    "      ops = tf.get_default_graph().get_operations()\n",
    "      all_tensor_names = {output.name for op in ops for output in op.outputs}\n",
    "      tensor_dict = {}\n",
    "      for key in [\n",
    "          'num_detections', 'detection_boxes', 'detection_scores',\n",
    "          'detection_classes', 'detection_masks'\n",
    "      ]:\n",
    "        tensor_name = key + ':0'\n",
    "        if tensor_name in all_tensor_names:\n",
    "          tensor_dict[key] = tf.get_default_graph().get_tensor_by_name(\n",
    "              tensor_name)\n",
    "      if 'detection_masks' in tensor_dict:\n",
    "        # The following processing is only for single image\n",
    "        detection_boxes = tf.squeeze(tensor_dict['detection_boxes'], [0])\n",
    "        detection_masks = tf.squeeze(tensor_dict['detection_masks'], [0])\n",
    "        # Reframe is required to translate mask from box coordinates to image coordinates and fit the image size.\n",
    "        real_num_detection = tf.cast(tensor_dict['num_detections'][0], tf.int32)\n",
    "        detection_boxes = tf.slice(detection_boxes, [0, 0], [real_num_detection, -1])\n",
    "        detection_masks = tf.slice(detection_masks, [0, 0, 0], [real_num_detection, -1, -1])\n",
    "        detection_masks_reframed = utils_ops.reframe_box_masks_to_image_masks(\n",
    "            detection_masks, detection_boxes, image.shape[0], image.shape[1])\n",
    "        detection_masks_reframed = tf.cast(\n",
    "            tf.greater(detection_masks_reframed, 0.5), tf.uint8)\n",
    "        # Follow the convention by adding back the batch dimension\n",
    "        tensor_dict['detection_masks'] = tf.expand_dims(\n",
    "            detection_masks_reframed, 0)\n",
    "      image_tensor = tf.get_default_graph().get_tensor_by_name('image_tensor:0')\n",
    "\n",
    "      # Run inference\n",
    "      output_dict = sess.run(tensor_dict,\n",
    "                             feed_dict={image_tensor: np.expand_dims(image, 0)})\n",
    "\n",
    "      # all outputs are float32 numpy arrays, so convert types as appropriate\n",
    "      output_dict['num_detections'] = int(output_dict['num_detections'][0])\n",
    "      output_dict['detection_classes'] = output_dict[\n",
    "          'detection_classes'][0].astype(np.uint8)\n",
    "      output_dict['detection_boxes'] = output_dict['detection_boxes'][0]\n",
    "      output_dict['detection_scores'] = output_dict['detection_scores'][0]\n",
    "      if 'detection_masks' in output_dict:\n",
    "        output_dict['detection_masks'] = output_dict['detection_masks'][0]\n",
    "  return output_dict"
   ]
  },
  {
   "cell_type": "code",
   "execution_count": 9,
   "metadata": {
    "collapsed": true
   },
   "outputs": [],
   "source": [
    "def tf_process_img(payload):\n",
    "\n",
    "    # the array based representation of the image will be used later in order to prepare the\n",
    "    # result image with boxes and labels on it.\n",
    "    t0 = time.clock()\n",
    "    \n",
    "    image = Image.open(BytesIO(payload))\n",
    "    image_np = load_image_into_numpy_array(image)\n",
    "    \n",
    "    #image_np = np.array(payload)\n",
    "    #image_np_expanded = np.expand_dims(image_np, axis=0)\n",
    "    \n",
    "    # Actual detection.\n",
    "    t0_5 = time.clock()\n",
    "    output_dict = run_inference_for_single_image(image_np, detection_graph)\n",
    "    # Visualization of the results of a detection.\n",
    "    results = get_object_locations(\n",
    "        output_dict['detection_boxes'],\n",
    "        output_dict['detection_classes'],\n",
    "        output_dict['detection_scores'],\n",
    "        category_index,\n",
    "        instance_masks=output_dict.get('detection_masks'),\n",
    "        min_score_thresh = .6,\n",
    "        use_normalized_coordinates=True,\n",
    "        line_thickness=8)\n",
    "\n",
    "    t1 = time.clock()\n",
    "    print(\"Time to TF detect:\", t0_5-t0, \", overall time to TF detect\", t1-t0)\n",
    "\n",
    "    return results"
   ]
  },
  {
   "cell_type": "code",
   "execution_count": 10,
   "metadata": {
    "collapsed": true
   },
   "outputs": [],
   "source": [
    "# In[2]:\n",
    "\n",
    "def cv_process_img(payload):\n",
    "    \n",
    "    nparr = np.fromstring(payload, np.uint8)\n",
    "    image = cv2.imdecode(nparr, cv2.IMREAD_COLOR)\n",
    "            \n",
    "    result = []    \n",
    "    MIN_MATCH_COUNT = math.ceil(30/(max(largest)/max(image.shape)))*10 # very relaxed matching at 10 matches minimum\n",
    "    print(\"MIN_MATCH_COUNT:\", MIN_MATCH_COUNT)\n",
    "    print(\"Image size:\",image.shape)\n",
    "    query_img = image\n",
    "    \n",
    "    t0 = time.clock()\n",
    "    qKP, qDES = detector.detectAndCompute(query_img, None)\n",
    "\n",
    "    try:\n",
    "        matches = matcher.knnMatch(rDES,qDES,k=2)\n",
    "    except:\n",
    "        state = \"Matching Error: not enough query points.\"\n",
    "        result.append(state)\n",
    "        result.append(query_img)\n",
    "        result.append(np.array([]))\n",
    "        t1 = time.clock()\n",
    "        print(state,\"Time to process:\", t1-t0)\n",
    "        result.append((t1-t0))\n",
    "        return result    \n",
    "\n",
    "    # store all the good matches as per Lowe's ratio test.\n",
    "    good = []\n",
    "    distances = []\n",
    "\n",
    "    for m,n in matches:\n",
    "        distances.append(m.distance)\n",
    "        if m.distance < 0.75*n.distance:\n",
    "            good.append(m)\n",
    "\n",
    "    good = sorted(good, key = lambda x:x.distance)\n",
    "    \n",
    "    if len(good)>MIN_MATCH_COUNT:\n",
    "        state = \"Enough matches: object is propbably in view.\"\n",
    "        # extract location of points in both images\n",
    "        src_pts = np.float32([ rKP[m.queryIdx].pt for m in good ]).reshape(-1,1,2)\n",
    "        dst_pts = np.float32([ qKP[m.trainIdx].pt for m in good ]).reshape(-1,1,2)\n",
    "\n",
    "        # find the perspective transform\n",
    "        M, mask = cv2.findHomography(src_pts, dst_pts, cv2.RANSAC,5.0)\n",
    "        matchesMask = mask.ravel().tolist()\n",
    "\n",
    "        # get the transform points in the (captured) query image\n",
    "        h,w = ref_img.shape\n",
    "        pts = np.float32([ [0,0],[0,h-1],[w-1,h-1],[w-1,0] ]).reshape(-1,1,2)\n",
    "        \n",
    "        try:\n",
    "            dst = cv2.perspectiveTransform(pts,M)\n",
    "            # draw the transformed image\n",
    "            result.append(state)\n",
    "            result.append(cv2.drawContours(query_img,[np.int32(dst)],-1,(255,0,0),6))\n",
    "            result.append(dst)\n",
    "        except:\n",
    "            state = \"Error getting perspective transform.\"\n",
    "            result.append(state)\n",
    "            result.append(query_img)\n",
    "            result.append(np.array([]))\n",
    "        finally:\n",
    "            t1 = time.clock()\n",
    "            print(state,\"Time to CV process:\", t1-t0)\n",
    "            result.append((t1-t0))\n",
    "\n",
    "    else:\n",
    "        state = \"Not enough matches:\"+ str(len(good))\n",
    "        result.append(state)\n",
    "        result.append(query_img)\n",
    "        result.append(np.array([]))\n",
    "        t1 = time.clock()\n",
    "        print(state,\"Time to CV process:\", t1-t0)\n",
    "        result.append((t1-t0))\n",
    "\n",
    "    return result"
   ]
  },
  {
   "cell_type": "code",
   "execution_count": 11,
   "metadata": {
    "collapsed": true
   },
   "outputs": [],
   "source": [
    "def resultsToTree(tf_result, cv_result):\n",
    "    mr_objects = Element(\"mr_objects\")\n",
    "\n",
    "    if tf_result:\n",
    "        # Adding the results from the TF operation to the XmlTree\n",
    "        print(len(tf_result),\"TF object/s\")\n",
    "        for box, name in tf_result.items():\n",
    "            ymin, xmin, ymax, xmax = box\n",
    "            object = SubElement(mr_objects,\"object\")\n",
    "            SubElement(object, \"type\").text = \"TF\"\n",
    "            SubElement(object, \"name\").text = str(name)\n",
    "            SubElement(object, \"ymin\").text = str(ymin)\n",
    "            SubElement(object, \"xmin\").text = str(xmin)\n",
    "            SubElement(object, \"ymax\").text = str(ymax)\n",
    "            SubElement(object, \"xmax\").text = str(xmax)\n",
    "  \n",
    "    if cv_result:\n",
    "        cv_result_list = []\n",
    "        for point in cv_result:\n",
    "            cv_result_list.append(point[0])\n",
    "        cv_exes = sorted(cv_result_list, key=lambda x: x[0])\n",
    "        cv_eyes = sorted(cv_result_list, key=lambda x: x[1])\n",
    "        # Adding the cv_results from the CV detection to the XmlTree\n",
    "        object = SubElement(mr_objects,\"object\")\n",
    "        SubElement(object, \"type\").text = \"CV\"\n",
    "        SubElement(object, \"name\").text = \"cv\"\n",
    "        SubElement(object, \"ymin\").text = str(cv_result_list[0][1]/300)\n",
    "        SubElement(object, \"xmin\").text = str(cv_result_list[0][0]/300)\n",
    "        SubElement(object, \"ymax\").text = str(cv_result_list[3][1]/300)\n",
    "        SubElement(object, \"xmax\").text = str(cv_result_list[3][0]/300)\n",
    "\n",
    "    tree = ElementTree(mr_objects)\n",
    "    \n",
    "    return tree"
   ]
  },
  {
   "cell_type": "code",
   "execution_count": 12,
   "metadata": {
    "collapsed": true
   },
   "outputs": [],
   "source": [
    "# In[3]:\n",
    "\n",
    "# HTTPRequestHandler class\n",
    "class testHTTPServer_RequestHandler(BaseHTTPRequestHandler):\n",
    "\n",
    "  # GET\n",
    "    def do_GET(self):\n",
    "        # Send response status code\n",
    "        self.send_response(200)\n",
    "\n",
    "        # Send headers\n",
    "        self.send_header('Content-type','text/html')\n",
    "        self.end_headers()\n",
    "\n",
    "        # Send message back to client\n",
    "        message = \"Hello world!\"\n",
    "        # Write content as utf-8 data\n",
    "        self.wfile.write(bytes(message, \"utf8\"))\n",
    "        return\n",
    "    \n",
    "    \n",
    "    def do_POST(self):\n",
    "        print( \"incoming http: \", self.path )\n",
    "        t0 = time.clock()\n",
    "\n",
    "        # Gets the size of data\n",
    "        content_length = int(self.headers['Content-Length'])\n",
    "        content_type = self.headers['Content-type']\n",
    "                \n",
    "        if \"image\" in content_type:\n",
    "            \n",
    "            # Gets the data itself. Also, we over-catch by 16 bytes.\n",
    "            post_data = self.rfile.read(content_length+16)\n",
    "\n",
    "            #print(\"Length of content:\", len(post_data))\n",
    "            #print(\"Before pruning\\n\", post_data)\n",
    "\n",
    "            # We remove the first set of bytes up until the first\n",
    "            # carraige return and newline.\n",
    "            for b in np.arange(len(post_data)):\n",
    "               # Checking where the first newline is\n",
    "                if post_data[b] == 13:\n",
    "                    post_data = post_data[b+2:]\n",
    "                    break\n",
    "                else:\n",
    "                    continue\n",
    "\n",
    "            #stream = BytesIO(post_data)\n",
    "            #tmp = 'tmp.jpg'\n",
    "            #with open('tmp.jpg','wb') as out:\n",
    "            #    out.write(post_data)\n",
    "\n",
    "            #out.close()\n",
    "            # Converting the byte buffer to an numpy array for opencv and tf\n",
    "            #nparr = np.fromstring(post_data, np.uint8)\n",
    "            #img_np = cv2.imdecode(nparr, cv2.IMREAD_COLOR)\n",
    "\n",
    "            try:\n",
    "                cv_result = cv_process_img(post_data)\n",
    "                tf_result = tf_process_img(post_data)#post_data)#\n",
    "                \n",
    "                t1 = time.clock()\n",
    "                resultTree = resultsToTree(tf_result,cv_result[2].tolist())\n",
    "                resultTree.write(\"result.xml\")\n",
    "\n",
    "                # Send message back to client\n",
    "                # Write content as utf-8 data\n",
    "                #print(len(final_img))\n",
    "                #if len(final_img)>3:\n",
    "                #    message = bytes(str(cv_result[3])+ \"\\n\" + np.array2string(final_img[2],precision=0,separator=','), \"utf8\")\n",
    "                #    print(str(message))\n",
    "                #else:\n",
    "                #    message = bytes(str(cv_result[3])+ \"\\n\" + cv_result[0], \"utf8\")\n",
    "\n",
    "                t2 = time.clock()\n",
    "                result = 'result.xml'\n",
    "                payload = open(result,'rb')\n",
    "\n",
    "                # Send response\n",
    "                self.send_response(200)\n",
    "                # Send headers\n",
    "                self.send_header('Content-type','text/xml')\n",
    "                self.send_header('Content-length',str(os.path.getsize(result)))\n",
    "                self.end_headers()\n",
    "\n",
    "                self.wfile.write(payload.readline())\n",
    "                #self.wfile.write(bytes(payload, \"utf8\"))\n",
    "                payload.close()\n",
    "            except Exception as e:\n",
    "                t1 = time.clock()\n",
    "                print(e)\n",
    "                t2 = time.clock()\n",
    "                self.send_response(200)\n",
    "                message = 'Detection Error'\n",
    "                self.send_header('Content-type','text/html')\n",
    "                self.end_headers()\n",
    "                self.wfile.write(bytes(message, \"utf8\"))\n",
    "            finally:\n",
    "                t3 = time.clock()                \n",
    "                print(\"Detection time:\", t1-t0)\n",
    "                print(\"XML/Tree operation:\",t2-t1)\n",
    "                print(\"Sending output\", t3-t2)\n",
    "                print(\"Overall time:\",t3-t0)            \n",
    "\n",
    "        else:\n",
    "            print(\"Content-type is \", content_type,\". Should be image.\")\n",
    "            self.send_response(200)\n",
    "            self.send_header('Content-type','text/html')\n",
    "            self.end_headers()\n",
    "\n",
    "            # Send message back to client\n",
    "            message = \"Object not detected.\"\n",
    "            # Write content as utf-8 data\n",
    "            self.wfile.write(bytes(message, \"utf8\"))\n",
    "\n",
    "        self.close_connection\n",
    "        return\n",
    "        #client.close()"
   ]
  },
  {
   "cell_type": "code",
   "execution_count": null,
   "metadata": {
    "collapsed": true
   },
   "outputs": [],
   "source": [
    "# In[4]:\n",
    "\n",
    "def run():\n",
    "    print('starting server...')\n",
    " \n",
    "  # Server settings\n",
    "  # Choose port 8080, for port 80, which is normally used for a http server, you need root access\n",
    "    server_address = ('0.0.0.0', 8081)\n",
    "    httpd = HTTPServer(server_address, testHTTPServer_RequestHandler)\n",
    "    print('running server...')\n",
    "    httpd.serve_forever()"
   ]
  },
  {
   "cell_type": "code",
   "execution_count": null,
   "metadata": {
    "scrolled": true
   },
   "outputs": [
    {
     "name": "stdout",
     "output_type": "stream",
     "text": [
      "starting server...\n",
      "running server...\n",
      "incoming http:  /\n",
      "MIN_MATCH_COUNT: 30\n",
      "Image size: (300, 300, 3)\n",
      "Enough matches: object is propbably in view. Time to CV process: 0.05059900000000006\n",
      "Time to TF detect: 0.07624299999999984 , overall time to TF detect 2.219069\n",
      "Detection time: 2.279916\n",
      "XML/Tree operation: 0.0020260000000007494\n",
      "Sending output 0.0010409999999998476\n",
      "Overall time: 2.2829830000000007\n",
      "incoming http:  /\n",
      "MIN_MATCH_COUNT: 30\n",
      "Image size: (300, 300, 3)\n"
     ]
    },
    {
     "name": "stderr",
     "output_type": "stream",
     "text": [
      "150.229.118.245 - - [22/Mar/2018 13:00:15] \"POST / HTTP/1.1\" 200 -\n"
     ]
    },
    {
     "name": "stdout",
     "output_type": "stream",
     "text": [
      "Enough matches: object is propbably in view. Time to CV process: 0.05215499999999995\n",
      "Time to TF detect: 0.07106700000000021 , overall time to TF detect 2.1475349999999995\n",
      "Detection time: 2.209777999999999\n",
      "XML/Tree operation: 0.0011790000000004852\n",
      "Sending output 0.0011740000000006745\n",
      "Overall time: 2.2121310000000003\n"
     ]
    },
    {
     "name": "stderr",
     "output_type": "stream",
     "text": [
      "150.229.118.245 - - [22/Mar/2018 13:00:17] \"POST / HTTP/1.1\" 200 -\n"
     ]
    },
    {
     "name": "stdout",
     "output_type": "stream",
     "text": [
      "incoming http:  /\n",
      "MIN_MATCH_COUNT: 30\n",
      "Image size: (300, 300, 3)\n",
      "Enough matches: object is propbably in view. Time to CV process: 0.052680000000000504\n",
      "Time to TF detect: 0.06370599999999982 , overall time to TF detect 2.1755329999999997\n",
      "Detection time: 2.238069000000001\n",
      "XML/Tree operation: 0.0009019999999999584\n",
      "Sending output 0.0016959999999990316\n",
      "Overall time: 2.240667\n"
     ]
    },
    {
     "name": "stderr",
     "output_type": "stream",
     "text": [
      "150.229.118.245 - - [22/Mar/2018 13:00:20] \"POST / HTTP/1.1\" 200 -\n"
     ]
    },
    {
     "name": "stdout",
     "output_type": "stream",
     "text": [
      "incoming http:  /\n",
      "MIN_MATCH_COUNT: 30\n",
      "Image size: (300, 300, 3)\n",
      "Enough matches: object is propbably in view. Time to CV process: 0.044793000000000305\n",
      "Time to TF detect: 0.06984499999999905 , overall time to TF detect 2.1968479999999992\n",
      "Detection time: 2.25188\n",
      "XML/Tree operation: 0.0014510000000012013\n",
      "Sending output 0.0006099999999999994\n",
      "Overall time: 2.253941000000001\n"
     ]
    },
    {
     "name": "stderr",
     "output_type": "stream",
     "text": [
      "150.229.118.245 - - [22/Mar/2018 13:00:22] \"POST / HTTP/1.1\" 200 -\n"
     ]
    },
    {
     "name": "stdout",
     "output_type": "stream",
     "text": [
      "incoming http:  /\n",
      "MIN_MATCH_COUNT: 30\n",
      "Image size: (300, 300, 3)\n",
      "Enough matches: object is propbably in view. Time to CV process: 0.043189999999999173\n",
      "Time to TF detect: 0.06722400000000128 , overall time to TF detect 2.222265\n",
      "Detection time: 2.273071\n",
      "XML/Tree operation: 0.0010799999999981935\n",
      "Sending output 0.001229000000002145\n",
      "Overall time: 2.27538\n",
      "incoming http:  /\n"
     ]
    },
    {
     "name": "stderr",
     "output_type": "stream",
     "text": [
      "150.229.118.245 - - [22/Mar/2018 13:00:24] \"POST / HTTP/1.1\" 200 -\n"
     ]
    },
    {
     "name": "stdout",
     "output_type": "stream",
     "text": [
      "MIN_MATCH_COUNT: 30\n",
      "Image size: (300, 300, 3)\n",
      "Enough matches: object is propbably in view. Time to CV process: 0.041087000000000984\n",
      "Time to TF detect: 0.06415600000000055 , overall time to TF detect 2.219865000000002\n",
      "Detection time: 2.272285\n",
      "XML/Tree operation: 0.0032840000000007308\n",
      "Sending output 0.0005680000000012342\n",
      "Overall time: 2.276137000000002\n",
      "incoming http:  /\n",
      "MIN_MATCH_COUNT: 30\n",
      "Image size: (300, 300, 3)\n"
     ]
    },
    {
     "name": "stderr",
     "output_type": "stream",
     "text": [
      "150.229.118.245 - - [22/Mar/2018 13:00:26] \"POST / HTTP/1.1\" 200 -\n"
     ]
    },
    {
     "name": "stdout",
     "output_type": "stream",
     "text": [
      "Enough matches: object is propbably in view. Time to CV process: 0.04521400000000142\n",
      "Time to TF detect: 0.06413699999999878 , overall time to TF detect 2.1971360000000004\n",
      "Detection time: 2.2520430000000005\n",
      "XML/Tree operation: 0.0010919999999998709\n",
      "Sending output 0.0018330000000013058\n",
      "Overall time: 2.2549680000000016\n"
     ]
    },
    {
     "name": "stderr",
     "output_type": "stream",
     "text": [
      "150.229.118.245 - - [22/Mar/2018 13:00:29] \"POST / HTTP/1.1\" 200 -\n"
     ]
    },
    {
     "name": "stdout",
     "output_type": "stream",
     "text": [
      "incoming http:  /\n",
      "MIN_MATCH_COUNT: 30\n",
      "Image size: (300, 300, 3)\n",
      "Enough matches: object is propbably in view. Time to CV process: 0.04174799999999834\n",
      "Time to TF detect: 0.0618540000000003 , overall time to TF detect 2.186961\n",
      "Detection time: 2.238564\n",
      "XML/Tree operation: 0.001174999999999926\n",
      "Sending output 0.001100000000000989\n",
      "Overall time: 2.240839000000001\n",
      "incoming http:  "
     ]
    },
    {
     "name": "stderr",
     "output_type": "stream",
     "text": [
      "150.229.118.245 - - [22/Mar/2018 13:00:31] \"POST / HTTP/1.1\" 200 -\n"
     ]
    },
    {
     "name": "stdout",
     "output_type": "stream",
     "text": [
      "/\n",
      "MIN_MATCH_COUNT: 30\n",
      "Image size: (300, 300, 3)\n",
      "Not enough matches:27 Time to CV process: 0.042595999999999634\n",
      "Time to TF detect: 0.06259999999999977 , overall time to TF detect 2.1834489999999995\n",
      "Detection time: 2.235254000000001\n",
      "XML/Tree operation: 0.0012559999999979254\n",
      "Sending output 0.0011790000000004852\n",
      "Overall time: 2.2376889999999996\n",
      "incoming http:  /\n",
      "MIN_MATCH_COUNT: 30\n",
      "Image size: (300, 300, 3)\n",
      "Enough matches: object is propbably in view. Time to CV process: 0.044627999999999446\n"
     ]
    },
    {
     "name": "stderr",
     "output_type": "stream",
     "text": [
      "150.229.118.245 - - [22/Mar/2018 13:00:33] \"POST / HTTP/1.1\" 200 -\n"
     ]
    },
    {
     "name": "stdout",
     "output_type": "stream",
     "text": [
      "Time to TF detect: 0.06641600000000025 , overall time to TF detect 2.229745000000001\n",
      "Detection time: 2.282823999999998\n",
      "XML/Tree operation: 0.0012159999999994398\n",
      "Sending output 0.0012199999999999989\n",
      "Overall time: 2.2852599999999974\n",
      "incoming http:  /\n",
      "MIN_MATCH_COUNT: 30\n",
      "Image size: (300, 300, 3)\n"
     ]
    },
    {
     "name": "stderr",
     "output_type": "stream",
     "text": [
      "150.229.118.245 - - [22/Mar/2018 13:00:35] \"POST / HTTP/1.1\" 200 -\n"
     ]
    },
    {
     "name": "stdout",
     "output_type": "stream",
     "text": [
      "Enough matches: object is propbably in view. Time to CV process: 0.04185500000000175\n",
      "Time to TF detect: 0.06501300000000043 , overall time to TF detect 2.2092610000000015\n",
      "Detection time: 2.2605879999999985\n",
      "XML/Tree operation: 0.0013730000000009568\n",
      "Sending output 0.00165399999999849\n",
      "Overall time: 2.263614999999998\n",
      "incoming http:  /\n",
      "MIN_MATCH_COUNT: 30\n",
      "Image size: (300, 300, 3)\n"
     ]
    },
    {
     "name": "stderr",
     "output_type": "stream",
     "text": [
      "150.229.118.245 - - [22/Mar/2018 13:00:37] \"POST / HTTP/1.1\" 200 -\n"
     ]
    },
    {
     "name": "stdout",
     "output_type": "stream",
     "text": [
      "Enough matches: object is propbably in view. Time to CV process: 0.048839000000000965\n",
      "Time to TF detect: 0.06843100000000035 , overall time to TF detect 2.219086000000001\n",
      "Detection time: 2.2773920000000025\n",
      "XML/Tree operation: 0.0018209999999996285\n",
      "Sending output 0.0019469999999977006\n",
      "Overall time: 2.28116\n",
      "incoming http:  /\n",
      "MIN_MATCH_COUNT: 30\n",
      "Image size: (300, 300, 3)\n"
     ]
    },
    {
     "name": "stderr",
     "output_type": "stream",
     "text": [
      "150.229.118.245 - - [22/Mar/2018 13:00:40] \"POST / HTTP/1.1\" 200 -\n"
     ]
    },
    {
     "name": "stdout",
     "output_type": "stream",
     "text": [
      "Enough matches: object is propbably in view. Time to CV process: 0.04431200000000146\n",
      "Time to TF detect: 0.06742800000000315 , overall time to TF detect 2.2274369999999983\n",
      "1 TF object/s\n",
      "Detection time: 2.281067\n",
      "XML/Tree operation: 0.002496999999998195\n",
      "Sending output 0.001561000000002366\n",
      "Overall time: 2.2851250000000007\n",
      "incoming http:  /\n",
      "MIN_MATCH_COUNT: 30\n",
      "Image size: (300, 300, 3)\n"
     ]
    },
    {
     "name": "stderr",
     "output_type": "stream",
     "text": [
      "150.229.118.245 - - [22/Mar/2018 13:00:42] \"POST / HTTP/1.1\" 200 -\n"
     ]
    },
    {
     "name": "stdout",
     "output_type": "stream",
     "text": [
      "Enough matches: object is propbably in view. Time to CV process: 0.045414000000000954\n",
      "Time to TF detect: 0.06417799999999829 , overall time to TF detect 2.228499999999997\n",
      "Detection time: 2.283274999999996\n",
      "XML/Tree operation: 0.001148000000000593\n",
      "Sending output 0.001282000000003336\n",
      "Overall time: 2.285705\n",
      "incoming http:  /\n",
      "MIN_MATCH_COUNT: 30\n",
      "Image size: (300, 300, 3)\n",
      "Enough matches: object is propbably in view. Time to CV process: 0.04370399999999819\n"
     ]
    },
    {
     "name": "stderr",
     "output_type": "stream",
     "text": [
      "150.229.118.245 - - [22/Mar/2018 13:00:44] \"POST / HTTP/1.1\" 200 -\n"
     ]
    },
    {
     "name": "stdout",
     "output_type": "stream",
     "text": [
      "Time to TF detect: 0.061191000000000884 , overall time to TF detect 2.215430000000005\n",
      "1 TF object/s\n",
      "Detection time: 2.268611\n",
      "XML/Tree operation: 0.0011879999999990787\n",
      "Sending output 0.0013939999999976749\n",
      "Overall time: 2.2711929999999967\n"
     ]
    },
    {
     "name": "stderr",
     "output_type": "stream",
     "text": [
      "150.229.118.245 - - [22/Mar/2018 13:00:46] \"POST / HTTP/1.1\" 200 -\n"
     ]
    },
    {
     "name": "stdout",
     "output_type": "stream",
     "text": [
      "incoming http:  /\n",
      "MIN_MATCH_COUNT: 30\n",
      "Image size: (300, 300, 3)\n",
      "Not enough matches:19 Time to CV process: 0.04244599999999821\n",
      "Time to TF detect: 0.06480799999999931 , overall time to TF detect 2.1850549999999984\n",
      "Detection time: 2.2374379999999974\n",
      "XML/Tree operation: 0.0011750000000034788\n",
      "Sending output 0.0010550000000009163\n",
      "Overall time: 2.2396680000000018\n",
      "incoming http:  /\n",
      "MIN_MATCH_COUNT: 30\n",
      "Image size: (300, 300, 3)\n",
      "Enough matches: object is propbably in view. Time to CV process: 0.050235000000000696\n"
     ]
    },
    {
     "name": "stderr",
     "output_type": "stream",
     "text": [
      "150.229.118.245 - - [22/Mar/2018 13:00:49] \"POST / HTTP/1.1\" 200 -\n"
     ]
    },
    {
     "name": "stdout",
     "output_type": "stream",
     "text": [
      "Time to TF detect: 0.06142899999999685 , overall time to TF detect 2.1418449999999964\n",
      "Detection time: 2.2017270000000053\n",
      "XML/Tree operation: 0.0017919999999946867\n",
      "Sending output 0.00038800000000094315\n",
      "Overall time: 2.203907000000001\n"
     ]
    },
    {
     "name": "stderr",
     "output_type": "stream",
     "text": [
      "150.229.118.245 - - [22/Mar/2018 13:00:51] \"POST / HTTP/1.1\" 200 -\n"
     ]
    },
    {
     "name": "stdout",
     "output_type": "stream",
     "text": [
      "incoming http:  /\n",
      "MIN_MATCH_COUNT: 30\n",
      "Image size: (300, 300, 3)\n",
      "Enough matches: object is propbably in view. Time to CV process: 0.04111699999999985\n",
      "Time to TF detect: 0.0598409999999987 , overall time to TF detect 2.2024789999999967\n",
      "Detection time: 2.252615999999996\n",
      "XML/Tree operation: 0.0012180000000014957\n",
      "Sending output 0.0011769999999984293\n",
      "Overall time: 2.255010999999996\n",
      "incoming http:  /\n",
      "MIN_MATCH_COUNT: 30\n",
      "Image size: (300, 300, 3)\n",
      "Not enough matches:24 Time to CV process: 0.040009999999995216\n"
     ]
    },
    {
     "name": "stderr",
     "output_type": "stream",
     "text": [
      "150.229.118.245 - - [22/Mar/2018 13:00:53] \"POST / HTTP/1.1\" 200 -\n"
     ]
    },
    {
     "name": "stdout",
     "output_type": "stream",
     "text": [
      "Time to TF detect: 0.06122500000000031 , overall time to TF detect 2.179780000000001\n",
      "Detection time: 2.228607000000004\n",
      "XML/Tree operation: 0.0010789999999971656\n",
      "Sending output 0.0010759999999976344\n",
      "Overall time: 2.2307619999999986\n",
      "incoming http:  /\n",
      "MIN_MATCH_COUNT: 30\n",
      "Image size: (300, 300, 3)\n",
      "Enough matches: object is propbably in view. Time to CV process: 0.04425700000000177\n"
     ]
    },
    {
     "name": "stderr",
     "output_type": "stream",
     "text": [
      "150.229.118.245 - - [22/Mar/2018 13:00:55] \"POST / HTTP/1.1\" 200 -\n"
     ]
    },
    {
     "name": "stdout",
     "output_type": "stream",
     "text": [
      "Time to TF detect: 0.06596100000000149 , overall time to TF detect 2.257150000000003\n",
      "Detection time: 2.3100730000000027\n",
      "XML/Tree operation: 0.0012800000000012801\n",
      "Sending output 0.001401999999998793\n",
      "Overall time: 2.312755000000003\n",
      "incoming http:  /\n"
     ]
    },
    {
     "name": "stderr",
     "output_type": "stream",
     "text": [
      "150.229.118.245 - - [22/Mar/2018 13:00:57] \"POST / HTTP/1.1\" 200 -\n"
     ]
    },
    {
     "name": "stdout",
     "output_type": "stream",
     "text": [
      "MIN_MATCH_COUNT: 30\n",
      "Image size: (300, 300, 3)\n",
      "Enough matches: object is propbably in view. Time to CV process: 0.04930800000000346\n",
      "Time to TF detect: 0.06603699999999435 , overall time to TF detect 2.2039729999999977\n",
      "Detection time: 2.2640710000000013\n",
      "XML/Tree operation: 0.0034890000000018517\n",
      "Sending output 0.0008729999999985694\n",
      "Overall time: 2.2684330000000017\n",
      "incoming http:  /\n"
     ]
    },
    {
     "name": "stderr",
     "output_type": "stream",
     "text": [
      "150.229.118.245 - - [22/Mar/2018 13:01:00] \"POST / HTTP/1.1\" 200 -\n"
     ]
    },
    {
     "name": "stdout",
     "output_type": "stream",
     "text": [
      "MIN_MATCH_COUNT: 30\n",
      "Image size: (300, 300, 3)\n",
      "Enough matches: object is propbably in view. Time to CV process: 0.0537610000000015\n",
      "Time to TF detect: 0.0650579999999934 , overall time to TF detect 2.212097\n",
      "Detection time: 2.275576000000001\n",
      "XML/Tree operation: 0.0011379999999974189\n",
      "Sending output 0.0010830000000012774\n",
      "Overall time: 2.2777969999999996\n",
      "incoming http:  /\n",
      "MIN_MATCH_COUNT: 30\n",
      "Image size: (300, 300, 3)\n"
     ]
    },
    {
     "name": "stderr",
     "output_type": "stream",
     "text": [
      "150.229.118.245 - - [22/Mar/2018 13:01:02] \"POST / HTTP/1.1\" 200 -\n"
     ]
    },
    {
     "name": "stdout",
     "output_type": "stream",
     "text": [
      "Enough matches: object is propbably in view. Time to CV process: 0.04201900000000336\n",
      "Time to TF detect: 0.06787600000000538 , overall time to TF detect 2.243872000000003\n",
      "Detection time: 2.294446999999998\n",
      "XML/Tree operation: 0.0012529999999983943\n",
      "Sending output 0.0012619999999969878\n",
      "Overall time: 2.2969619999999935\n",
      "incoming http:  /\n",
      "MIN_MATCH_COUNT: 30\n",
      "Image size: (300, 300, 3)\n"
     ]
    },
    {
     "name": "stderr",
     "output_type": "stream",
     "text": [
      "150.229.118.245 - - [22/Mar/2018 13:01:04] \"POST / HTTP/1.1\" 200 -\n"
     ]
    },
    {
     "name": "stdout",
     "output_type": "stream",
     "text": [
      "Enough matches: object is propbably in view. Time to CV process: 0.07707600000000525\n",
      "Time to TF detect: 0.06744600000000389 , overall time to TF detect 2.1399700000000053\n",
      "Detection time: 2.2269939999999977\n",
      "XML/Tree operation: 0.0010849999999962279\n",
      "Sending output 0.0012410000000002697\n",
      "Overall time: 2.229319999999994\n"
     ]
    },
    {
     "name": "stderr",
     "output_type": "stream",
     "text": [
      "150.229.118.245 - - [22/Mar/2018 13:01:06] \"POST / HTTP/1.1\" 200 -\n"
     ]
    },
    {
     "name": "stdout",
     "output_type": "stream",
     "text": [
      "incoming http:  /\n",
      "MIN_MATCH_COUNT: 30\n",
      "Image size: (300, 300, 3)\n",
      "Enough matches: object is propbably in view. Time to CV process: 0.06056499999999687\n",
      "Time to TF detect: 0.06361899999999565 , overall time to TF detect 2.159785999999997\n",
      "1 TF object/s\n",
      "Detection time: 2.230609000000001\n",
      "XML/Tree operation: 0.0015339999999994802\n",
      "Sending output 0.0015619999999998413\n",
      "Overall time: 2.2337050000000005\n",
      "incoming http:  /\n",
      "MIN_MATCH_COUNT: 30\n",
      "Image size: (300, 300, 3)\n"
     ]
    },
    {
     "name": "stderr",
     "output_type": "stream",
     "text": [
      "150.229.118.245 - - [22/Mar/2018 13:01:09] \"POST / HTTP/1.1\" 200 -\n"
     ]
    },
    {
     "name": "stdout",
     "output_type": "stream",
     "text": [
      "Enough matches: object is propbably in view. Time to CV process: 0.1025149999999968\n",
      "Time to TF detect: 0.06485200000000191 , overall time to TF detect 2.1842299999999994\n",
      "1 TF object/s\n",
      "Detection time: 2.296803000000004\n",
      "XML/Tree operation: 0.001447999999996341\n",
      "Sending output 0.0013649999999998386\n",
      "Overall time: 2.2996160000000003\n",
      "incoming http:  /\n",
      "MIN_MATCH_COUNT: 30\n",
      "Image size: (300, 300, 3)\n"
     ]
    },
    {
     "name": "stderr",
     "output_type": "stream",
     "text": [
      "150.229.118.245 - - [22/Mar/2018 13:01:11] \"POST / HTTP/1.1\" 200 -\n"
     ]
    },
    {
     "name": "stdout",
     "output_type": "stream",
     "text": [
      "Not enough matches:24 Time to CV process: 0.06511199999999917\n",
      "Time to TF detect: 0.06987900000000025 , overall time to TF detect 2.1849259999999973\n",
      "1 TF object/s\n",
      "Detection time: 2.261266000000006\n",
      "XML/Tree operation: 0.0015199999999992997\n",
      "Sending output 0.0013160000000027594\n",
      "Overall time: 2.2641020000000083\n",
      "incoming http:  /\n"
     ]
    },
    {
     "name": "stderr",
     "output_type": "stream",
     "text": [
      "150.229.118.245 - - [22/Mar/2018 13:01:13] \"POST / HTTP/1.1\" 200 -\n"
     ]
    },
    {
     "name": "stdout",
     "output_type": "stream",
     "text": [
      "MIN_MATCH_COUNT: 30\n",
      "Image size: (300, 300, 3)\n",
      "Enough matches: object is propbably in view. Time to CV process: 0.06697900000000345\n",
      "Time to TF detect: 0.061095999999992046 , overall time to TF detect 2.1844090000000023\n",
      "1 TF object/s\n",
      "Detection time: 2.2630820000000114\n",
      "XML/Tree operation: 0.0016599999999868942\n",
      "Sending output 0.0014240000000000919\n",
      "Overall time: 2.2661659999999983\n"
     ]
    },
    {
     "name": "stderr",
     "output_type": "stream",
     "text": [
      "150.229.118.245 - - [22/Mar/2018 13:01:15] \"POST / HTTP/1.1\" 200 -\n"
     ]
    },
    {
     "name": "stdout",
     "output_type": "stream",
     "text": [
      "incoming http:  /\n",
      "MIN_MATCH_COUNT: 30\n",
      "Image size: (300, 300, 3)\n",
      "Enough matches: object is propbably in view. Time to CV process: 0.08858299999999986\n",
      "Time to TF detect: 0.06428999999999974 , overall time to TF detect 2.1901629999999983\n",
      "1 TF object/s\n",
      "Detection time: 2.2893649999999894\n",
      "XML/Tree operation: 0.0012030000000038399\n",
      "Sending output 0.0015750000000025466\n",
      "Overall time: 2.292142999999996\n",
      "incoming http:  /\n",
      "MIN_MATCH_COUNT: 30\n",
      "Image size: (300, 300, 3)\n"
     ]
    },
    {
     "name": "stderr",
     "output_type": "stream",
     "text": [
      "150.229.118.245 - - [22/Mar/2018 13:01:17] \"POST / HTTP/1.1\" 200 -\n"
     ]
    },
    {
     "name": "stdout",
     "output_type": "stream",
     "text": [
      "Enough matches: object is propbably in view. Time to CV process: 0.07331800000000044\n",
      "Time to TF detect: 0.06022699999999759 , overall time to TF detect 2.164883000000003\n",
      "1 TF object/s\n",
      "Detection time: 2.2484859999999998\n",
      "XML/Tree operation: 0.0015369999999990114\n",
      "Sending output 0.0013950000000022555\n",
      "Overall time: 2.251418000000001\n"
     ]
    },
    {
     "name": "stderr",
     "output_type": "stream",
     "text": [
      "150.229.118.245 - - [22/Mar/2018 13:01:20] \"POST / HTTP/1.1\" 200 -\n"
     ]
    },
    {
     "name": "stdout",
     "output_type": "stream",
     "text": [
      "incoming http:  /\n",
      "MIN_MATCH_COUNT: 30\n",
      "Image size: (300, 300, 3)\n",
      "Enough matches: object is propbably in view. Time to CV process: 0.11269699999999716\n",
      "Time to TF detect: 0.06189200000000028 , overall time to TF detect 2.192306000000002\n",
      "1 TF object/s\n",
      "Detection time: 2.314635999999993\n",
      "XML/Tree operation: 0.0014740000000017517\n",
      "Sending output 0.0015870000000006712\n",
      "Overall time: 2.3176969999999955\n",
      "incoming http:  /\n",
      "MIN_MATCH_COUNT: 30\n",
      "Image size: (300, 300, 3)\n"
     ]
    },
    {
     "name": "stderr",
     "output_type": "stream",
     "text": [
      "150.229.118.245 - - [22/Mar/2018 13:01:22] \"POST / HTTP/1.1\" 200 -\n"
     ]
    },
    {
     "name": "stdout",
     "output_type": "stream",
     "text": [
      "Enough matches: object is propbably in view. Time to CV process: 0.0700080000000014\n",
      "Time to TF detect: 0.06485999999999592 , overall time to TF detect 2.1637950000000075\n",
      "1 TF object/s\n",
      "Detection time: 2.2446489999999955\n",
      "XML/Tree operation: 0.0016080000000044947\n",
      "Sending output 0.001388000000005718\n",
      "Overall time: 2.2476450000000057\n",
      "incoming http:  /\n"
     ]
    },
    {
     "name": "stderr",
     "output_type": "stream",
     "text": [
      "150.229.118.245 - - [22/Mar/2018 13:01:24] \"POST / HTTP/1.1\" 200 -\n"
     ]
    },
    {
     "name": "stdout",
     "output_type": "stream",
     "text": [
      "MIN_MATCH_COUNT: 30\n",
      "Image size: (300, 300, 3)\n",
      "Enough matches: object is propbably in view. Time to CV process: 0.06229199999999935\n",
      "Time to TF detect: 0.06281400000000303 , overall time to TF detect 2.2001789999999914\n",
      "1 TF object/s\n",
      "Detection time: 2.27537199999999\n",
      "XML/Tree operation: 0.001402000000013004\n",
      "Sending output 0.001455999999990354\n",
      "Overall time: 2.2782299999999935\n",
      "incoming http:  /\n",
      "MIN_MATCH_COUNT: 30\n",
      "Image size: (300, 300, 3)\n"
     ]
    },
    {
     "name": "stderr",
     "output_type": "stream",
     "text": [
      "150.229.118.245 - - [22/Mar/2018 13:01:26] \"POST / HTTP/1.1\" 200 -\n"
     ]
    },
    {
     "name": "stdout",
     "output_type": "stream",
     "text": [
      "Enough matches: object is propbably in view. Time to CV process: 0.05713299999999322\n",
      "Time to TF detect: 0.06466999999999246 , overall time to TF detect 2.199663000000001\n",
      "Detection time: 2.266772000000003\n",
      "XML/Tree operation: 0.003563999999997236\n",
      "Sending output 0.0007710000000002992\n",
      "Overall time: 2.2711070000000007\n"
     ]
    },
    {
     "name": "stderr",
     "output_type": "stream",
     "text": [
      "150.229.118.245 - - [22/Mar/2018 13:01:29] \"POST / HTTP/1.1\" 200 -\n"
     ]
    },
    {
     "name": "stdout",
     "output_type": "stream",
     "text": [
      "incoming http:  /\n",
      "MIN_MATCH_COUNT: 30\n",
      "Image size: (300, 300, 3)\n",
      "Matching Error: not enough query points. Time to process: 0.028672000000000253\n",
      "Time to TF detect: 0.06813700000000722 , overall time to TF detect 2.1539530000000013\n",
      "Detection time: 2.191503999999995\n",
      "XML/Tree operation: 0.003200000000006753\n",
      "Sending output 0.0003659999999996444\n",
      "Overall time: 2.195070000000001\n",
      "incoming http:  /\n",
      "MIN_MATCH_COUNT: 30\n",
      "Image size: (300, 300, 3)\n",
      "Matching Error: not enough query points. Time to process: 0.027003999999990924\n"
     ]
    },
    {
     "name": "stderr",
     "output_type": "stream",
     "text": [
      "150.229.118.245 - - [22/Mar/2018 13:01:31] \"POST / HTTP/1.1\" 200 -\n"
     ]
    },
    {
     "name": "stdout",
     "output_type": "stream",
     "text": [
      "Time to TF detect: 0.06342599999999265 , overall time to TF detect 2.176338000000001\n",
      "Detection time: 2.2130789999999934\n",
      "XML/Tree operation: 0.001033000000006723\n",
      "Sending output 0.001074000000002684\n",
      "Overall time: 2.2151860000000028\n",
      "incoming http:  /\n",
      "MIN_MATCH_COUNT: 30\n",
      "Image size: (300, 300, 3)\n",
      "Enough matches: object is propbably in view. Time to CV process: 0.04095000000000937\n"
     ]
    },
    {
     "name": "stderr",
     "output_type": "stream",
     "text": [
      "150.229.118.245 - - [22/Mar/2018 13:01:33] \"POST / HTTP/1.1\" 200 -\n"
     ]
    },
    {
     "name": "stdout",
     "output_type": "stream",
     "text": [
      "Time to TF detect: 0.06514199999999448 , overall time to TF detect 2.152735000000007\n",
      "Detection time: 2.203300999999996\n",
      "XML/Tree operation: 0.0010500000000064347\n",
      "Sending output 0.0010659999999944603\n",
      "Overall time: 2.205416999999997\n",
      "incoming http:  /\n",
      "MIN_MATCH_COUNT: 30\n",
      "Image size: (300, 300, 3)\n",
      "Not enough matches:18 Time to CV process: 0.03608300000000497\n"
     ]
    },
    {
     "name": "stderr",
     "output_type": "stream",
     "text": [
      "150.229.118.245 - - [22/Mar/2018 13:01:35] \"POST / HTTP/1.1\" 200 -\n"
     ]
    },
    {
     "name": "stdout",
     "output_type": "stream",
     "text": [
      "Time to TF detect: 0.06292100000000289 , overall time to TF detect 2.1566290000000095\n",
      "Detection time: 2.202454000000003\n",
      "XML/Tree operation: 0.0013360000000091077\n",
      "Sending output 0.0018599999999935335\n",
      "Overall time: 2.2056500000000057\n"
     ]
    },
    {
     "name": "stderr",
     "output_type": "stream",
     "text": [
      "150.229.118.245 - - [22/Mar/2018 13:01:37] \"POST / HTTP/1.1\" 200 -\n"
     ]
    },
    {
     "name": "stdout",
     "output_type": "stream",
     "text": [
      "incoming http:  /\n",
      "MIN_MATCH_COUNT: 30\n",
      "Image size: (300, 300, 3)\n",
      "Not enough matches:30 Time to CV process: 0.03410900000000083\n",
      "Time to TF detect: 0.05987100000000112 , overall time to TF detect 2.1434189999999944\n",
      "Detection time: 2.1882329999999968\n",
      "XML/Tree operation: 0.0010070000000013124\n",
      "Sending output 0.0010479999999972733\n",
      "Overall time: 2.1902879999999953\n"
     ]
    },
    {
     "name": "stderr",
     "output_type": "stream",
     "text": [
      "150.229.118.245 - - [22/Mar/2018 13:01:39] \"POST / HTTP/1.1\" 200 -\n"
     ]
    },
    {
     "name": "stdout",
     "output_type": "stream",
     "text": [
      "incoming http:  /\n",
      "MIN_MATCH_COUNT: 30\n",
      "Image size: (300, 300, 3)\n",
      "Enough matches: object is propbably in view. Time to CV process: 0.04121800000000064\n",
      "Time to TF detect: 0.059981999999990876 , overall time to TF detect 2.141446000000002\n",
      "Detection time: 2.1908109999999965\n",
      "XML/Tree operation: 0.0012250000000051386\n",
      "Sending output 0.0010109999999912134\n",
      "Overall time: 2.193046999999993\n",
      "incoming http:  /\n"
     ]
    },
    {
     "name": "stderr",
     "output_type": "stream",
     "text": [
      "150.229.118.245 - - [22/Mar/2018 13:01:41] \"POST / HTTP/1.1\" 200 -\n"
     ]
    },
    {
     "name": "stdout",
     "output_type": "stream",
     "text": [
      "MIN_MATCH_COUNT: 30\n",
      "Image size: (300, 300, 3)\n",
      "Enough matches: object is propbably in view. Time to CV process: 0.04230900000000304\n",
      "Time to TF detect: 0.06416099999999858 , overall time to TF detect 2.1645359999999982\n",
      "Detection time: 2.218377000000004\n",
      "XML/Tree operation: 0.001046999999999798\n",
      "Sending output 0.00115300000000218\n",
      "Overall time: 2.220577000000006\n",
      "incoming http:  /\n",
      "MIN_MATCH_COUNT: 30\n",
      "Image size: (300, 300, 3)\n"
     ]
    },
    {
     "name": "stderr",
     "output_type": "stream",
     "text": [
      "150.229.118.245 - - [22/Mar/2018 13:01:44] \"POST / HTTP/1.1\" 200 -\n"
     ]
    },
    {
     "name": "stdout",
     "output_type": "stream",
     "text": [
      "Enough matches: object is propbably in view. Time to CV process: 0.05846800000000485\n",
      "Time to TF detect: 0.06531200000000581 , overall time to TF detect 2.1631189999999947\n",
      "Detection time: 2.231615000000005\n",
      "XML/Tree operation: 0.0032379999999960773\n",
      "Sending output 0.0006309999999984939\n",
      "Overall time: 2.2354839999999996\n"
     ]
    },
    {
     "name": "stderr",
     "output_type": "stream",
     "text": [
      "150.229.118.245 - - [22/Mar/2018 13:01:46] \"POST / HTTP/1.1\" 200 -\n"
     ]
    },
    {
     "name": "stdout",
     "output_type": "stream",
     "text": [
      "incoming http:  /\n",
      "MIN_MATCH_COUNT: 50\n",
      "Image size: (600, 600, 3)\n",
      "Enough matches: object is propbably in view. Time to CV process: 0.1768249999999938\n",
      "Time to TF detect: 0.283299999999997 , overall time to TF detect 2.306420000000003\n",
      "Detection time: 2.5051169999999985\n",
      "XML/Tree operation: 0.001291000000009035\n",
      "Sending output 0.0012940000000014606\n",
      "Overall time: 2.507702000000009\n"
     ]
    },
    {
     "name": "stderr",
     "output_type": "stream",
     "text": [
      "150.229.118.245 - - [22/Mar/2018 13:04:47] \"POST / HTTP/1.1\" 200 -\n"
     ]
    },
    {
     "name": "stdout",
     "output_type": "stream",
     "text": [
      "incoming http:  /\n",
      "MIN_MATCH_COUNT: 50\n",
      "Image size: (600, 600, 3)\n",
      "Enough matches: object is propbably in view. Time to CV process: 0.1627769999999913\n",
      "Time to TF detect: 0.2742190000000022 , overall time to TF detect 2.4005930000000006\n",
      "Detection time: 2.584181000000001\n",
      "XML/Tree operation: 0.0012799999999941747\n",
      "Sending output 0.0012030000000038399\n",
      "Overall time: 2.586663999999999\n",
      "incoming http:  /\n"
     ]
    },
    {
     "name": "stderr",
     "output_type": "stream",
     "text": [
      "150.229.118.245 - - [22/Mar/2018 13:04:50] \"POST / HTTP/1.1\" 200 -\n"
     ]
    },
    {
     "name": "stdout",
     "output_type": "stream",
     "text": [
      "MIN_MATCH_COUNT: 50\n",
      "Image size: (600, 600, 3)\n",
      "Not enough matches:47 Time to CV process: 0.14588100000000281\n",
      "Time to TF detect: 0.2833119999999951 , overall time to TF detect 2.4778890000000047\n",
      "Detection time: 2.6465100000000064\n",
      "XML/Tree operation: 0.003429999999994493\n",
      "Sending output 0.0008260000000035461\n",
      "Overall time: 2.6507660000000044\n"
     ]
    },
    {
     "name": "stderr",
     "output_type": "stream",
     "text": [
      "150.229.118.245 - - [22/Mar/2018 13:04:52] \"POST / HTTP/1.1\" 200 -\n"
     ]
    },
    {
     "name": "stdout",
     "output_type": "stream",
     "text": [
      "incoming http:  /\n",
      "MIN_MATCH_COUNT: 50\n",
      "Image size: (600, 600, 3)\n",
      "Not enough matches:22 Time to CV process: 0.14207400000000803\n",
      "Time to TF detect: 0.2907989999999927 , overall time to TF detect 2.4235669999999914\n",
      "Detection time: 2.5863569999999925\n",
      "XML/Tree operation: 0.0012849999999957618\n",
      "Sending output 0.0014550000000070895\n",
      "Overall time: 2.5890969999999953\n"
     ]
    },
    {
     "name": "stderr",
     "output_type": "stream",
     "text": [
      "150.229.118.245 - - [22/Mar/2018 13:04:55] \"POST / HTTP/1.1\" 200 -\n"
     ]
    },
    {
     "name": "stdout",
     "output_type": "stream",
     "text": [
      "incoming http:  /\n",
      "MIN_MATCH_COUNT: 50\n",
      "Image size: (600, 600, 3)\n",
      "Enough matches: object is propbably in view. Time to CV process: 0.1966149999999942\n",
      "Time to TF detect: 0.296914000000001 , overall time to TF detect 2.4084040000000044\n",
      "Detection time: 2.6267309999999924\n",
      "XML/Tree operation: 0.003606000000004883\n",
      "Sending output 0.0014919999999989386\n",
      "Overall time: 2.631828999999996\n",
      "incoming http:  /\n"
     ]
    },
    {
     "name": "stderr",
     "output_type": "stream",
     "text": [
      "150.229.118.245 - - [22/Mar/2018 13:04:58] \"POST / HTTP/1.1\" 200 -\n"
     ]
    },
    {
     "name": "stdout",
     "output_type": "stream",
     "text": [
      "MIN_MATCH_COUNT: 50\n",
      "Image size: (600, 600, 3)\n",
      "Not enough matches:33 Time to CV process: 0.19679200000000208\n",
      "Time to TF detect: 0.28933900000001245 , overall time to TF detect 2.3900660000000045\n",
      "Detection time: 2.612369000000001\n",
      "XML/Tree operation: 0.0013009999999979982\n",
      "Sending output 0.001401999999998793\n",
      "Overall time: 2.615071999999998\n"
     ]
    },
    {
     "name": "stderr",
     "output_type": "stream",
     "text": [
      "150.229.118.245 - - [22/Mar/2018 13:05:00] \"POST / HTTP/1.1\" 200 -\n"
     ]
    },
    {
     "name": "stdout",
     "output_type": "stream",
     "text": [
      "incoming http:  /\n",
      "MIN_MATCH_COUNT: 50\n",
      "Image size: (600, 600, 3)\n",
      "Enough matches: object is propbably in view. Time to CV process: 0.18859300000001156\n",
      "Time to TF detect: 0.2696239999999932 , overall time to TF detect 2.3244439999999997\n",
      "Detection time: 2.535540999999995\n",
      "XML/Tree operation: 0.0012059999999962656\n",
      "Sending output 0.0013040000000046348\n",
      "Overall time: 2.538050999999996\n"
     ]
    },
    {
     "name": "stderr",
     "output_type": "stream",
     "text": [
      "150.229.118.245 - - [22/Mar/2018 13:05:03] \"POST / HTTP/1.1\" 200 -\n"
     ]
    },
    {
     "name": "stdout",
     "output_type": "stream",
     "text": [
      "incoming http:  /\n",
      "MIN_MATCH_COUNT: 50\n",
      "Image size: (600, 600, 3)\n",
      "Not enough matches:21 Time to CV process: 0.15812599999999577\n",
      "Time to TF detect: 0.2817459999999983 , overall time to TF detect 2.4016029999999944\n",
      "Detection time: 2.582680999999994\n",
      "XML/Tree operation: 0.001241000000007375\n",
      "Sending output 0.0012239999999934525\n",
      "Overall time: 2.5851459999999946\n"
     ]
    },
    {
     "name": "stderr",
     "output_type": "stream",
     "text": [
      "150.229.118.245 - - [22/Mar/2018 13:05:05] \"POST / HTTP/1.1\" 200 -\n"
     ]
    },
    {
     "name": "stdout",
     "output_type": "stream",
     "text": [
      "incoming http:  /\n",
      "MIN_MATCH_COUNT: 50\n",
      "Image size: (600, 600, 3)\n",
      "Not enough matches:28 Time to CV process: 0.15259899999999504\n",
      "Time to TF detect: 0.2745299999999986 , overall time to TF detect 2.3886079999999907\n",
      "Detection time: 2.5620480000000043\n",
      "XML/Tree operation: 0.0011949999999956162\n",
      "Sending output 0.0016800000000074533\n",
      "Overall time: 2.5649230000000074\n",
      "incoming http:  /\n"
     ]
    },
    {
     "name": "stderr",
     "output_type": "stream",
     "text": [
      "150.229.118.245 - - [22/Mar/2018 13:05:08] \"POST / HTTP/1.1\" 200 -\n"
     ]
    },
    {
     "name": "stdout",
     "output_type": "stream",
     "text": [
      "MIN_MATCH_COUNT: 50\n",
      "Image size: (600, 600, 3)\n",
      "Enough matches: object is propbably in view. Time to CV process: 0.16712499999999864\n",
      "Time to TF detect: 0.29053899999999544 , overall time to TF detect 2.3998539999999906\n",
      "Detection time: 2.5900019999999984\n",
      "XML/Tree operation: 0.0011379999999974189\n",
      "Sending output 0.0016719999999992297\n",
      "Overall time: 2.592811999999995\n"
     ]
    },
    {
     "name": "stderr",
     "output_type": "stream",
     "text": [
      "150.229.118.245 - - [22/Mar/2018 13:05:10] \"POST / HTTP/1.1\" 200 -\n"
     ]
    },
    {
     "name": "stdout",
     "output_type": "stream",
     "text": [
      "incoming http:  /\n",
      "MIN_MATCH_COUNT: 50\n",
      "Image size: (600, 600, 3)\n",
      "Not enough matches:24 Time to CV process: 0.14636600000000044\n",
      "Time to TF detect: 0.2809599999999932 , overall time to TF detect 2.361263000000008\n",
      "1 TF object/s\n",
      "Detection time: 2.5301740000000024\n",
      "XML/Tree operation: 0.0013519999999971333\n",
      "Sending output 0.0015879999999981464\n",
      "Overall time: 2.5331139999999976\n",
      "incoming http:  /\n"
     ]
    },
    {
     "name": "stderr",
     "output_type": "stream",
     "text": [
      "150.229.118.245 - - [22/Mar/2018 13:05:13] \"POST / HTTP/1.1\" 200 -\n"
     ]
    },
    {
     "name": "stdout",
     "output_type": "stream",
     "text": [
      "MIN_MATCH_COUNT: 50\n",
      "Image size: (600, 600, 3)\n",
      "Not enough matches:38 Time to CV process: 0.28637299999999755\n",
      "Time to TF detect: 0.2999309999999866 , overall time to TF detect 2.383511999999996\n",
      "2 TF object/s\n",
      "Detection time: 2.6935959999999852\n",
      "XML/Tree operation: 0.003482000000019525\n",
      "Sending output 0.0008219999999994343\n",
      "Overall time: 2.697900000000004\n"
     ]
    },
    {
     "name": "stderr",
     "output_type": "stream",
     "text": [
      "150.229.118.245 - - [22/Mar/2018 13:05:15] \"POST / HTTP/1.1\" 200 -\n"
     ]
    },
    {
     "name": "stdout",
     "output_type": "stream",
     "text": [
      "incoming http:  /\n",
      "MIN_MATCH_COUNT: 50\n",
      "Image size: (600, 600, 3)\n",
      "Not enough matches:23 Time to CV process: 0.30364099999999894\n",
      "Time to TF detect: 0.2899230000000159 , overall time to TF detect 2.3427680000000066\n",
      "2 TF object/s\n",
      "Detection time: 2.6725449999999853\n",
      "XML/Tree operation: 0.003666000000009717\n",
      "Sending output 0.000736999999986665\n",
      "Overall time: 2.6769479999999817\n"
     ]
    },
    {
     "name": "stderr",
     "output_type": "stream",
     "text": [
      "150.229.118.245 - - [22/Mar/2018 13:05:18] \"POST / HTTP/1.1\" 200 -\n"
     ]
    },
    {
     "name": "stdout",
     "output_type": "stream",
     "text": [
      "incoming http:  /\n",
      "MIN_MATCH_COUNT: 50\n",
      "Image size: (600, 600, 3)\n",
      "Not enough matches:26 Time to CV process: 0.3002479999999821\n",
      "Time to TF detect: 0.2919730000000129 , overall time to TF detect 2.352284999999995\n",
      "2 TF object/s\n",
      "Detection time: 2.6801019999999767\n",
      "XML/Tree operation: 0.0013380000000040582\n",
      "Sending output 0.0016250000000184173\n",
      "Overall time: 2.683064999999999\n"
     ]
    },
    {
     "name": "stderr",
     "output_type": "stream",
     "text": [
      "150.229.118.245 - - [22/Mar/2018 13:05:21] \"POST / HTTP/1.1\" 200 -\n"
     ]
    },
    {
     "name": "stdout",
     "output_type": "stream",
     "text": [
      "incoming http:  /\n",
      "MIN_MATCH_COUNT: 50\n",
      "Image size: (600, 600, 3)\n",
      "Not enough matches:37 Time to CV process: 0.29318799999998646\n",
      "Time to TF detect: 0.29734600000000455 , overall time to TF detect 2.365078000000011\n",
      "1 TF object/s\n",
      "Detection time: 2.6849929999999915\n",
      "XML/Tree operation: 0.001619000000005144\n",
      "Sending output 0.0016949999999837928\n",
      "Overall time: 2.6883069999999805\n"
     ]
    },
    {
     "name": "stderr",
     "output_type": "stream",
     "text": [
      "150.229.118.245 - - [22/Mar/2018 13:05:23] \"POST / HTTP/1.1\" 200 -\n"
     ]
    },
    {
     "name": "stdout",
     "output_type": "stream",
     "text": [
      "incoming http:  /\n",
      "MIN_MATCH_COUNT: 50\n",
      "Image size: (600, 600, 3)\n",
      "Enough matches: object is propbably in view. Time to CV process: 0.20387299999998731\n",
      "Time to TF detect: 0.2897930000000031 , overall time to TF detect 2.3533580000000143\n",
      "Detection time: 2.57996\n",
      "XML/Tree operation: 0.0015300000000024738\n",
      "Sending output 0.0013649999999927331\n",
      "Overall time: 2.582854999999995\n",
      "incoming http:  /\n"
     ]
    },
    {
     "name": "stderr",
     "output_type": "stream",
     "text": [
      "150.229.118.245 - - [22/Mar/2018 13:05:26] \"POST / HTTP/1.1\" 200 -\n"
     ]
    },
    {
     "name": "stdout",
     "output_type": "stream",
     "text": [
      "MIN_MATCH_COUNT: 50\n",
      "Image size: (600, 600, 3)\n",
      "Not enough matches:25 Time to CV process: 0.23400999999998362\n",
      "Time to TF detect: 0.2861570000000029 , overall time to TF detect 2.3375599999999963\n",
      "Detection time: 2.5939610000000073\n",
      "XML/Tree operation: 0.0012699999999767897\n",
      "Sending output 0.001735000000024911\n",
      "Overall time: 2.596966000000009\n",
      "incoming http:  /\n",
      "MIN_MATCH_COUNT: 50\n",
      "Image size: (600, 600, 3)\n"
     ]
    },
    {
     "name": "stderr",
     "output_type": "stream",
     "text": [
      "150.229.118.245 - - [22/Mar/2018 13:05:29] \"POST / HTTP/1.1\" 200 -\n"
     ]
    },
    {
     "name": "stdout",
     "output_type": "stream",
     "text": [
      "Not enough matches:31 Time to CV process: 0.18134299999999826\n",
      "Time to TF detect: 0.2823400000000049 , overall time to TF detect 2.3155959999999993\n",
      "Detection time: 2.51715999999999\n",
      "XML/Tree operation: 0.0014930000000106247\n",
      "Sending output 0.001335999999980686\n",
      "Overall time: 2.519988999999981\n"
     ]
    },
    {
     "name": "stderr",
     "output_type": "stream",
     "text": [
      "150.229.118.245 - - [22/Mar/2018 13:05:31] \"POST / HTTP/1.1\" 200 -\n"
     ]
    },
    {
     "name": "stdout",
     "output_type": "stream",
     "text": [
      "incoming http:  /\n",
      "MIN_MATCH_COUNT: 50\n",
      "Image size: (600, 600, 3)\n",
      "Not enough matches:42 Time to CV process: 0.1822689999999909\n",
      "Time to TF detect: 0.283725000000004 , overall time to TF detect 2.320588000000015\n",
      "Detection time: 2.5193260000000066\n",
      "XML/Tree operation: 0.001262999999994463\n",
      "Sending output 0.0014759999999967022\n",
      "Overall time: 2.522064999999998\n"
     ]
    },
    {
     "name": "stderr",
     "output_type": "stream",
     "text": [
      "150.229.118.245 - - [22/Mar/2018 13:05:34] \"POST / HTTP/1.1\" 200 -\n"
     ]
    },
    {
     "name": "stdout",
     "output_type": "stream",
     "text": [
      "incoming http:  /\n",
      "MIN_MATCH_COUNT: 50\n",
      "Image size: (600, 600, 3)\n",
      "Enough matches: object is propbably in view. Time to CV process: 0.18219300000001226\n",
      "Time to TF detect: 0.2712629999999763 , overall time to TF detect 2.3502829999999904\n",
      "Detection time: 2.5518430000000194\n",
      "XML/Tree operation: 0.0013219999999876109\n",
      "Sending output 0.0014299999999991542\n",
      "Overall time: 2.554595000000006\n"
     ]
    },
    {
     "name": "stderr",
     "output_type": "stream",
     "text": [
      "150.229.118.245 - - [22/Mar/2018 13:05:36] \"POST / HTTP/1.1\" 200 -\n"
     ]
    },
    {
     "name": "stdout",
     "output_type": "stream",
     "text": [
      "incoming http:  /\n",
      "MIN_MATCH_COUNT: 50\n",
      "Image size: (600, 600, 3)\n",
      "Not enough matches:26 Time to CV process: 0.1779769999999985\n",
      "Time to TF detect: 0.28632500000000505 , overall time to TF detect 2.384633000000008\n",
      "Detection time: 2.5845950000000073\n",
      "XML/Tree operation: 0.0013579999999819847\n",
      "Sending output 0.0014000000000180535\n",
      "Overall time: 2.5873530000000073\n"
     ]
    },
    {
     "name": "stderr",
     "output_type": "stream",
     "text": [
      "150.229.118.245 - - [22/Mar/2018 13:05:39] \"POST / HTTP/1.1\" 200 -\n"
     ]
    },
    {
     "name": "stdout",
     "output_type": "stream",
     "text": [
      "incoming http:  /\n",
      "MIN_MATCH_COUNT: 50\n",
      "Image size: (600, 600, 3)\n",
      "Enough matches: object is propbably in view. Time to CV process: 0.18030400000000668\n",
      "Time to TF detect: 0.2787330000000168 , overall time to TF detect 2.3192000000000235\n",
      "Detection time: 2.521186\n",
      "XML/Tree operation: 0.0014130000000136533\n",
      "Sending output 0.0012260000000026139\n",
      "Overall time: 2.5238250000000164\n",
      "incoming http:  /\n"
     ]
    },
    {
     "name": "stderr",
     "output_type": "stream",
     "text": [
      "150.229.118.245 - - [22/Mar/2018 13:05:41] \"POST / HTTP/1.1\" 200 -\n"
     ]
    },
    {
     "name": "stdout",
     "output_type": "stream",
     "text": [
      "MIN_MATCH_COUNT: 50\n",
      "Image size: (600, 600, 3)\n",
      "Not enough matches:26 Time to CV process: 0.12540900000001898\n",
      "Time to TF detect: 0.2807339999999954 , overall time to TF detect 2.3587559999999996\n",
      "Detection time: 2.5089089999999885\n",
      "XML/Tree operation: 0.0014950000000055752\n",
      "Sending output 0.0008489999999881093\n",
      "Overall time: 2.511252999999982\n",
      "incoming http:  /\n"
     ]
    },
    {
     "name": "stderr",
     "output_type": "stream",
     "text": [
      "150.229.118.245 - - [22/Mar/2018 13:05:44] \"POST / HTTP/1.1\" 200 -\n"
     ]
    },
    {
     "name": "stdout",
     "output_type": "stream",
     "text": [
      "MIN_MATCH_COUNT: 50\n",
      "Image size: (600, 600, 3)\n",
      "Not enough matches:17 Time to CV process: 0.12614500000000817\n",
      "Time to TF detect: 0.2792819999999949 , overall time to TF detect 2.315665999999993\n",
      "1 TF object/s\n",
      "Detection time: 2.466658999999993\n",
      "XML/Tree operation: 0.0017730000000142354\n",
      "Sending output 0.001787999999976364\n",
      "Overall time: 2.4702199999999834\n"
     ]
    },
    {
     "name": "stderr",
     "output_type": "stream",
     "text": [
      "150.229.118.245 - - [22/Mar/2018 13:05:46] \"POST / HTTP/1.1\" 200 -\n"
     ]
    },
    {
     "name": "stdout",
     "output_type": "stream",
     "text": [
      "incoming http:  /\n",
      "MIN_MATCH_COUNT: 50\n",
      "Image size: (600, 600, 3)\n",
      "Not enough matches:12 Time to CV process: 0.19310099999998442\n",
      "Time to TF detect: 0.27572000000000685 , overall time to TF detect 2.298303000000004\n",
      "Detection time: 2.514384000000007\n",
      "XML/Tree operation: 0.0012260000000026139\n",
      "Sending output 0.0013889999999889824\n",
      "Overall time: 2.5169989999999984\n",
      "incoming http:  /\n"
     ]
    },
    {
     "name": "stderr",
     "output_type": "stream",
     "text": [
      "150.229.118.245 - - [22/Mar/2018 13:05:49] \"POST / HTTP/1.1\" 200 -\n"
     ]
    },
    {
     "name": "stdout",
     "output_type": "stream",
     "text": [
      "MIN_MATCH_COUNT: 50\n",
      "Image size: (600, 600, 3)\n",
      "Not enough matches:24 Time to CV process: 0.20214699999999652\n",
      "Time to TF detect: 0.2823580000000163 , overall time to TF detect 2.339747000000017\n",
      "Detection time: 2.5655670000000157\n",
      "XML/Tree operation: 0.0020859999999913725\n",
      "Sending output 0.0006989999999973406\n",
      "Overall time: 2.5683520000000044\n"
     ]
    },
    {
     "name": "stderr",
     "output_type": "stream",
     "text": [
      "150.229.118.245 - - [22/Mar/2018 13:05:51] \"POST / HTTP/1.1\" 200 -\n"
     ]
    }
   ],
   "source": [
    "# In[5]:\n",
    "\n",
    "run()"
   ]
  },
  {
   "cell_type": "code",
   "execution_count": null,
   "metadata": {
    "collapsed": true
   },
   "outputs": [],
   "source": []
  }
 ],
 "metadata": {
  "kernelspec": {
   "display_name": "Python 3",
   "language": "python",
   "name": "python3"
  },
  "language_info": {
   "codemirror_mode": {
    "name": "ipython",
    "version": 3
   },
   "file_extension": ".py",
   "mimetype": "text/x-python",
   "name": "python",
   "nbconvert_exporter": "python",
   "pygments_lexer": "ipython3",
   "version": "3.6.3"
  }
 },
 "nbformat": 4,
 "nbformat_minor": 2
}
