{
 "cells": [
  {
   "cell_type": "code",
   "execution_count": 1,
   "metadata": {
    "collapsed": true
   },
   "outputs": [],
   "source": [
    "%matplotlib inline\n",
    "# Created: 5-Jul-2018\n",
    "# This is a code version of the original MR but will receive detection\n",
    "# information so that we can separate the processing whether it is \n",
    "# OpenCV-based (i.e. SIFT, ORB, classical, etc.) or TF-based.\n",
    "\n",
    "from matplotlib import pyplot as plt\n"
   ]
  },
  {
   "cell_type": "code",
   "execution_count": 2,
   "metadata": {
    "collapsed": true
   },
   "outputs": [],
   "source": [
    "# coding: utf-8\n",
    "\n",
    "# In[1]:\n",
    "\n",
    "\n",
    "#!/usr/bin/env python\n",
    "\n",
    "import cv2\n",
    "import numpy as np\n",
    "import sys\n",
    "import time\n",
    "#import requests\n",
    "import math\n",
    "\n",
    "import os\n",
    "import six.moves.urllib as urllib\n",
    "import tensorflow as tf\n",
    "import zipfile\n",
    "import collections\n",
    "import warnings\n",
    "warnings.filterwarnings(\"ignore\")\n",
    "\n",
    "from xml.etree.ElementTree import Element, SubElement, Comment, tostring, ElementTree\n",
    "from http.server import BaseHTTPRequestHandler, HTTPServer\n",
    "from collections import defaultdict\n",
    "from io import StringIO, BytesIO\n",
    "from matplotlib import pyplot as plt\n",
    "from PIL import Image"
   ]
  },
  {
   "cell_type": "code",
   "execution_count": 3,
   "metadata": {
    "collapsed": true
   },
   "outputs": [],
   "source": [
    "# This is needed to add the tf-object detecton api modules\n",
    "sys.path.append(\"/Users/deg032/models/research\")\n",
    "from object_detection.utils import ops as utils_ops\n",
    "from object_detection.utils import label_map_util\n",
    "from object_detection.utils import visualization_utils as vis_util\n",
    "\n",
    "if tf.__version__ < '1.4.0':\n",
    "  raise ImportError('Please upgrade your tensorflow installation to v1.4.* or later!')"
   ]
  },
  {
   "cell_type": "code",
   "execution_count": 4,
   "metadata": {
    "collapsed": true
   },
   "outputs": [],
   "source": [
    "from ar_markers.hamming.detect import detect_markers"
   ]
  },
  {
   "cell_type": "code",
   "execution_count": 5,
   "metadata": {
    "collapsed": true,
    "scrolled": true
   },
   "outputs": [],
   "source": [
    "# Global parameters\n",
    "detection_mode = \"SIFT\" #default to SIFT\n",
    "\n",
    "# OpenCV parameters\n",
    "search_params = dict(checks = 20) # this is for the flann-based matcher\n",
    "largest = {4032, 3024}\n",
    "\n",
    "ref = \"res/unsw.png\"\n",
    "ref_img = cv2.imread(ref, 0)\n",
    "\n",
    "# SIFT parameters\n",
    "siftDetector = cv2.xfeatures2d.SIFT_create()\n",
    "FLANN_INDEX_KDTREE = 0\n",
    "index_params = dict(algorithm = FLANN_INDEX_KDTREE, tree = 5)\n",
    "siftMatcher = cv2.FlannBasedMatcher(index_params, search_params)\n",
    "rsKP, rsDES = siftDetector.detectAndCompute(ref_img, None)\n",
    "\n",
    "# ORB parameters\n",
    "orbDetector = cv2.ORB_create()\n",
    "#descriptor = cv2.xfeatures2d.SIFT_create()\n",
    "orbMatcher = cv2.BFMatcher(cv2.NORM_HAMMING, crossCheck=True) # for ORB keypoints\n",
    "roKP, roDES = orbDetector.detectAndCompute(ref_img,None)"
   ]
  },
  {
   "cell_type": "code",
   "execution_count": 6,
   "metadata": {
    "collapsed": true
   },
   "outputs": [],
   "source": [
    "# Main tasks\n",
    "\n",
    "# What model to use.\n",
    "MODEL_NAME = 'ssd_mobilenet_v1_coco_2017_11_17'\n",
    "#MODEL_FILE = MODEL_NAME + '.tar.gz'\n",
    "OBJ_API_BASE = '/Users/deg032/models/research/object_detection/'\n",
    "\n",
    "# Path to frozen detection graph. This is the actual model that is used for the object detection.\n",
    "PATH_TO_CKPT = MODEL_NAME + '/frozen_inference_graph.pb'\n",
    "\n",
    "# List of the strings that is used to add correct label for each box.\n",
    "PATH_TO_LABELS = os.path.join('data', 'mscoco_label_map.pbtxt')\n",
    "\n",
    "NUM_CLASSES = 90"
   ]
  },
  {
   "cell_type": "code",
   "execution_count": 7,
   "metadata": {
    "collapsed": true
   },
   "outputs": [],
   "source": [
    "detection_graph = tf.Graph()\n",
    "with detection_graph.as_default():\n",
    "  od_graph_def = tf.GraphDef()\n",
    "  with tf.gfile.GFile(OBJ_API_BASE + PATH_TO_CKPT, 'rb') as fid:\n",
    "    serialized_graph = fid.read()\n",
    "    od_graph_def.ParseFromString(serialized_graph)\n",
    "    tf.import_graph_def(od_graph_def, name='')\n",
    "    \n",
    "label_map = label_map_util.load_labelmap(OBJ_API_BASE + PATH_TO_LABELS)\n",
    "categories = label_map_util.convert_label_map_to_categories(label_map, max_num_classes=NUM_CLASSES, use_display_name=True)\n",
    "category_index = label_map_util.create_category_index(categories)"
   ]
  },
  {
   "cell_type": "code",
   "execution_count": 8,
   "metadata": {
    "collapsed": true
   },
   "outputs": [],
   "source": [
    "def get_object_locations(\n",
    "    boxes,\n",
    "    classes,\n",
    "    scores,\n",
    "    category_index,\n",
    "    instance_masks=None,\n",
    "    instance_boundaries=None,\n",
    "    keypoints=None,\n",
    "    use_normalized_coordinates=False,\n",
    "    max_boxes_to_draw=20,\n",
    "    min_score_thresh=.5,\n",
    "    agnostic_mode=False,\n",
    "    line_thickness=4,\n",
    "    groundtruth_box_visualization_color='black',\n",
    "    skip_scores=False,\n",
    "    skip_labels=False):\n",
    "  \"\"\"This is an adaptation of the function from the visualization_utils\n",
    "  named 'visualize_boxes_and_labels_on_image_array' but does not embed the\n",
    "  masks to the image directly but just extract the relative position of\n",
    "  objects within the view. This is to prevent sharing raw visual informa-\n",
    "  tion to intended third parties interested to know the detected objects.\n",
    "  \n",
    "  Overlay labeled boxes on an image with formatted scores and label names.\n",
    "\n",
    "  This function groups boxes that correspond to the same location\n",
    "  and creates a display string for each detection and overlays these\n",
    "  on the image. Note that this function modifies the image in place, and returns\n",
    "  that same image.\n",
    "\n",
    "  Args:\n",
    "    image: uint8 numpy array with shape (img_height, img_width, 3)\n",
    "    boxes: a numpy array of shape [N, 4]\n",
    "    classes: a numpy array of shape [N]. Note that class indices are 1-based,\n",
    "      and match the keys in the label map.\n",
    "    scores: a numpy array of shape [N] or None.  If scores=None, then\n",
    "      this function assumes that the boxes to be plotted are groundtruth\n",
    "      boxes and plot all boxes as black with no classes or scores.\n",
    "    category_index: a dict containing category dictionaries (each holding\n",
    "      category index `id` and category name `name`) keyed by category indices.\n",
    "    instance_masks: a numpy array of shape [N, image_height, image_width] with\n",
    "      values ranging between 0 and 1, can be None.\n",
    "    instance_boundaries: a numpy array of shape [N, image_height, image_width]\n",
    "      with values ranging between 0 and 1, can be None.\n",
    "    keypoints: a numpy array of shape [N, num_keypoints, 2], can\n",
    "      be None\n",
    "    use_normalized_coordinates: whether boxes is to be interpreted as\n",
    "      normalized coordinates or not.\n",
    "    max_boxes_to_draw: maximum number of boxes to visualize.  If None, draw\n",
    "      all boxes.\n",
    "    min_score_thresh: minimum score threshold for a box to be visualized\n",
    "    agnostic_mode: boolean (default: False) controlling whether to evaluate in\n",
    "      class-agnostic mode or not.  This mode will display scores but ignore\n",
    "      classes.\n",
    "    line_thickness: integer (default: 4) controlling line width of the boxes.\n",
    "    groundtruth_box_visualization_color: box color for visualizing groundtruth\n",
    "      boxes\n",
    "    skip_scores: whether to skip score when drawing a single detection\n",
    "    skip_labels: whether to skip label when drawing a single detection\n",
    "\n",
    "  Returns:\n",
    "    uint8 numpy array with shape (img_height, img_width, 3) with overlaid boxes.\n",
    "  \"\"\"\n",
    "  # Create a display string (and color) for every box location, group any boxes\n",
    "  # that correspond to the same location.\n",
    "  box_to_display_str_map = collections.defaultdict(list)\n",
    "  box_to_color_map = collections.defaultdict(str)\n",
    "  box_to_instance_masks_map = {}\n",
    "  box_to_instance_boundaries_map = {}\n",
    "  box_to_keypoints_map = collections.defaultdict(list)\n",
    "  if not max_boxes_to_draw:\n",
    "    max_boxes_to_draw = boxes.shape[0]\n",
    "  for i in range(min(max_boxes_to_draw, boxes.shape[0])):\n",
    "    if scores is None or scores[i] > min_score_thresh:\n",
    "      box = tuple(boxes[i].tolist())\n",
    "      if instance_masks is not None:\n",
    "        box_to_instance_masks_map[box] = instance_masks[i]\n",
    "      if instance_boundaries is not None:\n",
    "        box_to_instance_boundaries_map[box] = instance_boundaries[i]\n",
    "      if keypoints is not None:\n",
    "        box_to_keypoints_map[box].extend(keypoints[i])\n",
    "      if scores is None:\n",
    "        box_to_color_map[box] = groundtruth_box_visualization_color\n",
    "      else:\n",
    "        display_str = ''\n",
    "        if not skip_labels:\n",
    "          if not agnostic_mode:\n",
    "            if classes[i] in category_index.keys():\n",
    "              class_name = category_index[classes[i]]['name']\n",
    "            else:\n",
    "              class_name = 'N/A'\n",
    "            display_str = str(class_name)\n",
    "        if not skip_scores:\n",
    "          if not display_str:\n",
    "            display_str = '{}%'.format(int(100*scores[i]))\n",
    "          else:\n",
    "            display_str = '{}: {}%'.format(display_str, int(100*scores[i]))\n",
    "        box_to_display_str_map[box].append(display_str)\n",
    "  return box_to_display_str_map"
   ]
  },
  {
   "cell_type": "code",
   "execution_count": 9,
   "metadata": {
    "collapsed": true
   },
   "outputs": [],
   "source": [
    "def load_image_into_numpy_array(image):\n",
    "  (im_width, im_height) = image.size\n",
    "  return np.array(image.getdata()).reshape(\n",
    "      (im_height, im_width, 3)).astype(np.uint8)"
   ]
  },
  {
   "cell_type": "code",
   "execution_count": 10,
   "metadata": {
    "collapsed": true
   },
   "outputs": [],
   "source": [
    "def run_inference_for_single_image(image, graph):\n",
    "  with graph.as_default():\n",
    "    with tf.Session() as sess:\n",
    "      # Get handles to input and output tensors\n",
    "      ops = tf.get_default_graph().get_operations()\n",
    "      all_tensor_names = {output.name for op in ops for output in op.outputs}\n",
    "      tensor_dict = {}\n",
    "      for key in [\n",
    "          'num_detections', 'detection_boxes', 'detection_scores',\n",
    "          'detection_classes', 'detection_masks'\n",
    "      ]:\n",
    "        tensor_name = key + ':0'\n",
    "        if tensor_name in all_tensor_names:\n",
    "          tensor_dict[key] = tf.get_default_graph().get_tensor_by_name(\n",
    "              tensor_name)\n",
    "      if 'detection_masks' in tensor_dict:\n",
    "        # The following processing is only for single image\n",
    "        detection_boxes = tf.squeeze(tensor_dict['detection_boxes'], [0])\n",
    "        detection_masks = tf.squeeze(tensor_dict['detection_masks'], [0])\n",
    "        # Reframe is required to translate mask from box coordinates to image coordinates and fit the image size.\n",
    "        real_num_detection = tf.cast(tensor_dict['num_detections'][0], tf.int32)\n",
    "        detection_boxes = tf.slice(detection_boxes, [0, 0], [real_num_detection, -1])\n",
    "        detection_masks = tf.slice(detection_masks, [0, 0, 0], [real_num_detection, -1, -1])\n",
    "        detection_masks_reframed = utils_ops.reframe_box_masks_to_image_masks(\n",
    "            detection_masks, detection_boxes, image.shape[0], image.shape[1])\n",
    "        detection_masks_reframed = tf.cast(\n",
    "            tf.greater(detection_masks_reframed, 0.5), tf.uint8)\n",
    "        # Follow the convention by adding back the batch dimension\n",
    "        tensor_dict['detection_masks'] = tf.expand_dims(\n",
    "            detection_masks_reframed, 0)\n",
    "      image_tensor = tf.get_default_graph().get_tensor_by_name('image_tensor:0')\n",
    "\n",
    "      # Run inference\n",
    "      output_dict = sess.run(tensor_dict,\n",
    "                             feed_dict={image_tensor: np.expand_dims(image, 0)})\n",
    "\n",
    "      # all outputs are float32 numpy arrays, so convert types as appropriate\n",
    "      output_dict['num_detections'] = int(output_dict['num_detections'][0])\n",
    "      output_dict['detection_classes'] = output_dict[\n",
    "          'detection_classes'][0].astype(np.uint8)\n",
    "      output_dict['detection_boxes'] = output_dict['detection_boxes'][0]\n",
    "      output_dict['detection_scores'] = output_dict['detection_scores'][0]\n",
    "      if 'detection_masks' in output_dict:\n",
    "        output_dict['detection_masks'] = output_dict['detection_masks'][0]\n",
    "  return output_dict"
   ]
  },
  {
   "cell_type": "code",
   "execution_count": 11,
   "metadata": {
    "collapsed": true
   },
   "outputs": [],
   "source": [
    "def tf_process_img(payload):\n",
    "\n",
    "    # the array based representation of the image will be used later in order to prepare the\n",
    "    # result image with boxes and labels on it.\n",
    "    t0 = time.time()\n",
    "    \n",
    "    image = Image.open(BytesIO(payload))\n",
    "    image_np = load_image_into_numpy_array(image)\n",
    "    \n",
    "    #image_np = np.array(payload)\n",
    "    #image_np_expanded = np.expand_dims(image_np, axis=0)\n",
    "    \n",
    "    # Actual detection.\n",
    "    t0_5 = time.time()\n",
    "    output_dict = run_inference_for_single_image(image_np, detection_graph)\n",
    "    # Visualization of the results of a detection.\n",
    "    results = get_object_locations(\n",
    "        output_dict['detection_boxes'],\n",
    "        output_dict['detection_classes'],\n",
    "        output_dict['detection_scores'],\n",
    "        category_index,\n",
    "        instance_masks=output_dict.get('detection_masks'),\n",
    "        min_score_thresh = .6,\n",
    "        use_normalized_coordinates=True,\n",
    "        line_thickness=8)\n",
    "\n",
    "    t1 = time.time()\n",
    "    \n",
    "    tf_detect = t0_5 - t0\n",
    "    tf_io = t1-t0\n",
    "    #print(\"Time to TF detect:\", t0_5-t0, \", overall time to TF detect\", t1-t0)\n",
    "\n",
    "    return results, tf_detect, tf_io"
   ]
  },
  {
   "cell_type": "code",
   "execution_count": 12,
   "metadata": {
    "collapsed": true
   },
   "outputs": [],
   "source": [
    "def marker_process(payload):\n",
    "    \n",
    "    t0 = time.time()\n",
    "    nparr = np.fromstring(payload, np.uint8)\n",
    "    image = cv2.imdecode(nparr, cv2.IMREAD_COLOR)\n",
    "    \n",
    "    plt.imshow(image)\n",
    "    \n",
    "    markers = detect_markers(image)\n",
    "    \n",
    "    t1 = time.time() - t0\n",
    "    return markers, t1"
   ]
  },
  {
   "cell_type": "code",
   "execution_count": 13,
   "metadata": {
    "collapsed": true
   },
   "outputs": [],
   "source": [
    "# In[2]:\n",
    "\n",
    "def cv_process_img(payload):\n",
    "    \n",
    "    nparr = np.fromstring(payload, np.uint8)\n",
    "    image = cv2.imdecode(nparr, cv2.IMREAD_COLOR)\n",
    "            \n",
    "    result = []    \n",
    "    MIN_MATCH_COUNT = math.ceil(30/(max(largest)/max(image.shape)))*10 # very relaxed matching at 10 matches minimum\n",
    "    #print(\"MIN_MATCH_COUNT:\", MIN_MATCH_COUNT)\n",
    "    #print(\"Image size:\",image.shape)\n",
    "    query_img = image\n",
    "    \n",
    "    t0 = time.time()\n",
    "\n",
    "    if \"ORB\" in detection_mode:\n",
    "        \n",
    "        rKP, rDES = roKP, roDES\n",
    "        qKP, qDES = orbDetector.detectAndCompute(query_img, None)\n",
    "        \n",
    "        try:\n",
    "            good = orbMatcher.match(rDES,qDESA)\n",
    "        except:\n",
    "            state = \"Matching Error: not enough query points.\"\n",
    "            result.append(state)\n",
    "            result.append(query_img)\n",
    "            result.append(np.array([]))\n",
    "            t1 = time.time()\n",
    "            cv_time = t1-t0 #print(state,\"Time to process:\", t1-t0)\n",
    "            result.append((t1-t0))\n",
    "            return result \n",
    "        \n",
    "    else:\n",
    "        # Default to SIFT if non-TF\n",
    "        \n",
    "        rKP, rDES = rsKP, rsDES\n",
    "        qKP, qDES = siftDetector.detectAndCompute(query_img, None)\n",
    "        \n",
    "        try:\n",
    "            matches = siftMatcher.knnMatch(rDES,qDES,k=2)\n",
    "        except:\n",
    "            state = \"Matching Error: not enough query points.\"\n",
    "            result.append(state)\n",
    "            result.append(query_img)\n",
    "            result.append(np.array([]))\n",
    "            t1 = time.time()\n",
    "            cv_time = t1-t0 #print(state,\"Time to process:\", t1-t0)\n",
    "            result.append((t1-t0))\n",
    "            return result    \n",
    "\n",
    "        # store all the good matches as per Lowe's ratio test.\n",
    "        good = []\n",
    "        distances = []\n",
    "\n",
    "        for m,n in matches:\n",
    "            distances.append(m.distance)\n",
    "            if m.distance < 0.75*n.distance:\n",
    "                good.append(m)\n",
    "                \n",
    "    good = sorted(good, key = lambda x:x.distance)\n",
    "\n",
    "    if len(good)>MIN_MATCH_COUNT:\n",
    "        state = \"Enough matches: object is propbably in view.\"\n",
    "        # extract location of points in both images\n",
    "        src_pts = np.float32([ rKP[m.queryIdx].pt for m in good ]).reshape(-1,1,2)\n",
    "        dst_pts = np.float32([ qKP[m.trainIdx].pt for m in good ]).reshape(-1,1,2)\n",
    "\n",
    "        # find the perspective transform\n",
    "        M, mask = cv2.findHomography(src_pts, dst_pts, cv2.RANSAC,5.0)\n",
    "        matchesMask = mask.ravel().tolist()\n",
    "\n",
    "        # get the transform points in the (captured) query image\n",
    "        h,w = ref_img.shape\n",
    "        pts = np.float32([ [0,0],[0,h-1],[w-1,h-1],[w-1,0] ]).reshape(-1,1,2)\n",
    "\n",
    "        try:\n",
    "            dst = cv2.perspectiveTransform(pts,M)\n",
    "            # draw the transformed image\n",
    "            result.append(state)\n",
    "            result.append(cv2.drawContours(query_img,[np.int32(dst)],-1,(255,0,0),6))\n",
    "            result.append(dst)\n",
    "        except:\n",
    "            state = \"Error getting perspective transform.\"\n",
    "            result.append(state)\n",
    "            result.append(query_img)\n",
    "            result.append(np.array([]))\n",
    "        finally:\n",
    "            t1 = time.time()\n",
    "            cv_time = t1-t0 #print(state,\"Time to CV process:\", t1-t0)\n",
    "            result.append((t1-t0))\n",
    "\n",
    "    else:\n",
    "        state = \"Not enough matches:\"+ str(len(good))\n",
    "        result.append(state)\n",
    "        result.append(query_img)\n",
    "        result.append(np.array([]))\n",
    "        t1 = time.time()\n",
    "        cv_time = t1-t0 #print(state,\"Time to CV process:\", t1-t0)\n",
    "        result.append((t1-t0))\n",
    "\n",
    "    return result, cv_time"
   ]
  },
  {
   "cell_type": "code",
   "execution_count": 14,
   "metadata": {},
   "outputs": [],
   "source": [
    "def resultsToTree(tf_result, cv_result, marker_result):\n",
    "    mr_objects = Element(\"mr_objects\")\n",
    "    print(\"Goes before check.\")\n",
    "\n",
    "    if tf_result:\n",
    "        print(\"Goes inside TF check.\")\n",
    "        # Adding the results from the TF operation to the XmlTree\n",
    "        #print(len(tf_result),\"TF object/s\")\n",
    "        for box, name in tf_result.items():\n",
    "            ymin, xmin, ymax, xmax = box\n",
    "            object = SubElement(mr_objects,\"object\")\n",
    "            SubElement(object, \"type\").text = \"TF\"\n",
    "            SubElement(object, \"name\").text = str(name)\n",
    "            SubElement(object, \"ymin\").text = str(ymin)\n",
    "            SubElement(object, \"xmin\").text = str(xmin)\n",
    "            SubElement(object, \"ymax\").text = str(ymax)\n",
    "            SubElement(object, \"xmax\").text = str(xmax)\n",
    "  \n",
    "    if cv_result:\n",
    "        cv_result_list = []\n",
    "        print(\"Goes inside CV check.\")\n",
    "        for point in cv_result:\n",
    "            cv_result_list.append(point[0])\n",
    "        cv_exes = sorted(cv_result_list, key=lambda x: x[0])\n",
    "        cv_eyes = sorted(cv_result_list, key=lambda x: x[1])\n",
    "        # Adding the cv_results from the CV detection to the XmlTree\n",
    "        object = SubElement(mr_objects,\"object\")\n",
    "        SubElement(object, \"type\").text = \"CV\"\n",
    "        SubElement(object, \"name\").text = \"cv\"\n",
    "        SubElement(object, \"ymin\").text = str(cv_result_list[0][1])\n",
    "        SubElement(object, \"xmin\").text = str(cv_result_list[0][0])\n",
    "        SubElement(object, \"ymax\").text = str(cv_result_list[3][1])\n",
    "        SubElement(object, \"xmax\").text = str(cv_result_list[3][0])\n",
    "        \n",
    "    if marker_result:\n",
    "        print(\"Goes inside marker check.\")\n",
    "        for marker in marker_result:\n",
    "            object = SubElement(mr_objects,\"object\")\n",
    "            SubElement(object, \"type\").text = \"MARKER\"\n",
    "            SubElement(object, \"name\").text = str(marker.id)\n",
    "            exes = [marker.contours[0][0][0],marker.contours[1][0][0],marker.contours[2][0][0],marker.contours[3][0][0]]\n",
    "            eyes = [marker.contours[0][0][1],marker.contours[1][0][1],marker.contours[2][0][1],marker.contours[3][0][1]]\n",
    "            exes.sort()\n",
    "            eyes.sort()\n",
    "            SubElement(object, \"ymin\").text = str(eyes[0])\n",
    "            SubElement(object, \"xmin\").text = str(exes[0])\n",
    "            SubElement(object, \"ymax\").text = str(eyes[-1])\n",
    "            SubElement(object, \"xmax\").text = str(exes[-1])\n",
    "\n",
    "    tree = ElementTree(mr_objects)\n",
    "    \n",
    "    return tree"
   ]
  },
  {
   "cell_type": "code",
   "execution_count": 15,
   "metadata": {
    "collapsed": true
   },
   "outputs": [],
   "source": [
    "# In[3]:\n",
    "\n",
    "# HTTPRequestHandler class\n",
    "class testHTTPServer_RequestHandler(BaseHTTPRequestHandler):\n",
    "\n",
    "  # GET\n",
    "    def do_GET(self):\n",
    "        # Send response status code\n",
    "        self.send_response(200)\n",
    "\n",
    "        # Send headers\n",
    "        self.send_header('Content-type','text/html')\n",
    "        self.end_headers()\n",
    "\n",
    "        # Send message back to client\n",
    "        message = \"Hello world!\"\n",
    "        # Write content as utf-8 data\n",
    "        self.wfile.write(bytes(message, \"utf8\"))\n",
    "        return\n",
    "    \n",
    "    \n",
    "    def do_POST(self):\n",
    "        #print( \"incoming http: \", self.path )\n",
    "        t0 = time.time()\n",
    "        tf_detect = 0\n",
    "        tf_io = 0\n",
    "        cv_time = 0\n",
    "\n",
    "        # Gets the parameters of the data\n",
    "        detection_mode = self.headers['Detection-mode']\n",
    "        content_length = int(self.headers['Content-Length'])\n",
    "        content_type = self.headers['Content-type']\n",
    "                \n",
    "        if \"image\" in content_type:\n",
    "            \n",
    "            # Gets the data itself. Also, we over-catch by 16 bytes.\n",
    "            post_data = self.rfile.read(content_length+16)\n",
    "\n",
    "            #print(\"Length of content:\", len(post_data))\n",
    "            #print(\"Before pruning\\n\", post_data)\n",
    "\n",
    "            # We remove the first set of bytes up until the first\n",
    "            # carraige return and newline.\n",
    "            for b in np.arange(len(post_data)):\n",
    "               # Checking where the first newline is\n",
    "                if post_data[b] == 13:\n",
    "                    post_data = post_data[b+2:]\n",
    "                    break\n",
    "                else:\n",
    "                    continue\n",
    "\n",
    "            #stream = BytesIO(post_data)\n",
    "            #tmp = 'tmp.jpg'\n",
    "            #with open('tmp.jpg','wb') as out:\n",
    "            #    out.write(post_data)\n",
    "\n",
    "            #out.close()\n",
    "            # Converting the byte buffer to an numpy array for opencv and tf\n",
    "            #nparr = np.fromstring(post_data, np.uint8)\n",
    "            #img_np = cv2.imdecode(nparr, cv2.IMREAD_COLOR)\n",
    "            marker_time = 0\n",
    "            cv_time = 0\n",
    "            tf_detect = 0\n",
    "            tf_io = 0\n",
    "            try:\n",
    "                if \"TF\" in detection_mode:\n",
    "                    tf_result, tf_detect, tf_io = tf_process_img(post_data)\n",
    "                    for result in tf_result:\n",
    "                        print(\"TF: \",result)\n",
    "                        \n",
    "                    t1 = time.time()\n",
    "                    resultTree = resultsToTree(tf_result,[],[])\n",
    "\n",
    "                elif \"MARKER\" in detection_mode:\n",
    "                    marker_result, marker_time = marker_process(post_data)\n",
    "                    print(\"Markers detected: \",len(marker_result))\n",
    "                    for result in marker_result:\n",
    "                        print(\"Marker: \",result)\n",
    "                        \n",
    "                    t1 = time.time()\n",
    "                    resultTree = resultsToTree([],[],marker_result)\n",
    "\n",
    "                else:\n",
    "                    cv_result, cv_time = cv_process_img(post_data)\n",
    "                    print(\"CV: \",cv_result)\n",
    "                    \n",
    "                    t1 = time.time()\n",
    "                    resultTree = resultsToTree([],cv_result[2],[])\n",
    "                \n",
    "                print(\"Successful results.\")\n",
    "                resultTree.write(\"result.xml\")\n",
    "\n",
    "                # Send message back to client\n",
    "                # Write content as utf-8 data\n",
    "                #print(len(final_img))\n",
    "                #if len(final_img)>3:\n",
    "                #    message = bytes(str(cv_result[3])+ \"\\n\" + np.array2string(final_img[2],precision=0,separator=','), \"utf8\")\n",
    "                #    print(str(message))\n",
    "                #else:\n",
    "                #    message = bytes(str(cv_result[3])+ \"\\n\" + cv_result[0], \"utf8\")\n",
    "\n",
    "                t2 = time.time()\n",
    "                result = 'result.xml'\n",
    "                payload = open(result,'rb')\n",
    "\n",
    "                # Send response\n",
    "                self.send_response(200)\n",
    "                # Send headers\n",
    "                self.send_header('Content-type','text/xml')\n",
    "                self.send_header('Content-length',str(os.path.getsize(result)))\n",
    "                self.end_headers()\n",
    "\n",
    "                self.wfile.write(payload.readline())\n",
    "                #self.wfile.write(bytes(payload, \"utf8\"))\n",
    "                payload.close()\n",
    "            except Exception as e:\n",
    "                t1 = time.time()\n",
    "                #print(e)\n",
    "                print(\"Failed results: \", e)\n",
    "                t2 = time.time()\n",
    "                self.send_response(200)\n",
    "                message = 'Detection Error'\n",
    "                self.send_header('Content-type','text/html')\n",
    "                self.end_headers()\n",
    "                self.wfile.write(bytes(message, \"utf8\"))\n",
    "            finally:\n",
    "                t3 = time.time()                \n",
    "                print(detection_mode,\":\",(cv_time*1000), \",\",(marker_time*1000), \",\", (tf_detect*1000),\",\",(tf_io*1000),\",\", (t1-t0)*1000,\",\",(t3-t1)*1000,\",\",(t3-t0)*1000)\n",
    "                #print(\"XML/Tree operation:\",t2-t1)\n",
    "                #print(\"Sending output\", t3-t2)\n",
    "                #print(\"Overall time:\",t3-t0)            \n",
    "\n",
    "        else:\n",
    "            print(\"Content-type is \", content_type,\". Should be image.\")\n",
    "            self.send_response(200)\n",
    "            self.send_header('Content-type','text/html')\n",
    "            self.end_headers()\n",
    "\n",
    "            # Send message back to client\n",
    "            message = \"Object not detected.\"\n",
    "            # Write content as utf-8 data\n",
    "            self.wfile.write(bytes(message, \"utf8\"))\n",
    "\n",
    "        self.close_connection\n",
    "        return\n",
    "        #client.close()"
   ]
  },
  {
   "cell_type": "code",
   "execution_count": null,
   "metadata": {
    "collapsed": true
   },
   "outputs": [],
   "source": [
    "# In[4]:\n",
    "\n",
    "def run():\n",
    "    print('starting server...')\n",
    " \n",
    "  # Server settings\n",
    "  # Choose port 8080, for port 80, which is normally used for a http server, you need root access\n",
    "    server_address = ('0.0.0.0', 8081)\n",
    "    httpd = HTTPServer(server_address, testHTTPServer_RequestHandler)\n",
    "    print('running server...')\n",
    "    print(\"CV_Time, Marker_Time, TF_Detect, TF_IO, Overall_Detection, XML_Output, Overall (ms)\")\n",
    "    httpd.serve_forever()"
   ]
  },
  {
   "cell_type": "code",
   "execution_count": null,
   "metadata": {
    "scrolled": true
   },
   "outputs": [
    {
     "name": "stdout",
     "output_type": "stream",
     "text": [
      "starting server...\n",
      "running server...\n",
      "CV_Time, Marker_Time, TF_Detect, TF_IO, Overall_Detection, XML_Output, Overall (ms)\n",
      "Markers detected:  0\n",
      "Goes before check.\n",
      "Successful results.\n",
      "MARKER : 0 , 62.992095947265625 , 0 , 0 , 100.11696815490723 , 2.8879642486572266 , 103.00493240356445\n",
      "Markers detected:  0\n",
      "Goes before check.\n",
      "Successful results.\n",
      "MARKER : 0 , 41.88704490661621 , 0 , 0 , 64.7590160369873 , 2.006053924560547 , 66.76506996154785\n"
     ]
    },
    {
     "name": "stderr",
     "output_type": "stream",
     "text": [
      "150.229.118.204 - - [24/Jul/2018 12:16:51] \"POST / HTTP/1.1\" 200 -\n",
      "150.229.118.204 - - [24/Jul/2018 12:16:51] \"POST / HTTP/1.1\" 200 -\n"
     ]
    },
    {
     "name": "stdout",
     "output_type": "stream",
     "text": [
      "Markers detected:  2\n",
      "Marker:  <Marker id=243 center=(156, 364)>\n",
      "Marker:  <Marker id=243 center=(156, 364)>\n",
      "Goes before check.\n",
      "Goes inside marker check.\n",
      "Failed results:  The truth value of an array with more than one element is ambiguous. Use a.any() or a.all()\n",
      "MARKER : 0 , 41.33415222167969 , 0 , 0 , 83.45222473144531 , 0.6318092346191406 , 84.08403396606445\n",
      "Markers detected:  4\n",
      "Marker:  <Marker id=1 center=(174, 648)>\n",
      "Marker:  <Marker id=1 center=(174, 648)>\n",
      "Marker:  <Marker id=243 center=(163, 376)>\n",
      "Marker:  <Marker id=243 center=(163, 376)>\n",
      "Goes before check.\n",
      "Goes inside marker check.\n",
      "Failed results:  The truth value of an array with more than one element is ambiguous. Use a.any() or a.all()\n",
      "MARKER : 0 , 39.711952209472656 , 0 , 0 , 79.21719551086426 , 0.3380775451660156 , 79.55527305603027\n"
     ]
    },
    {
     "name": "stderr",
     "output_type": "stream",
     "text": [
      "150.229.118.204 - - [24/Jul/2018 12:16:52] \"POST / HTTP/1.1\" 200 -\n",
      "150.229.118.204 - - [24/Jul/2018 12:16:52] \"POST / HTTP/1.1\" 200 -\n"
     ]
    },
    {
     "name": "stdout",
     "output_type": "stream",
     "text": [
      "Markers detected:  2\n",
      "Marker:  <Marker id=1 center=(210, 596)>\n",
      "Marker:  <Marker id=1 center=(210, 595)>\n",
      "Goes before check.\n",
      "Goes inside marker check.\n",
      "Failed results:  The truth value of an array with more than one element is ambiguous. Use a.any() or a.all()\n",
      "MARKER : 0 , 38.00487518310547 , 0 , 0 , 71.72608375549316 , 0.4401206970214844 , 72.16620445251465\n",
      "Markers detected:  4\n",
      "Marker:  <Marker id=1 center=(199, 584)>\n",
      "Marker:  <Marker id=1 center=(199, 584)>\n",
      "Marker:  <Marker id=243 center=(201, 299)>\n",
      "Marker:  <Marker id=243 center=(201, 299)>\n",
      "Goes before check.\n",
      "Goes inside marker check.\n",
      "Failed results:  The truth value of an array with more than one element is ambiguous. Use a.any() or a.all()\n",
      "MARKER : 0 , 43.91121864318848 , 0 , 0 , 78.88174057006836 , 0.24008750915527344 , 79.12182807922363\n"
     ]
    },
    {
     "name": "stderr",
     "output_type": "stream",
     "text": [
      "150.229.118.204 - - [24/Jul/2018 12:16:52] \"POST / HTTP/1.1\" 200 -\n",
      "150.229.118.204 - - [24/Jul/2018 12:16:52] \"POST / HTTP/1.1\" 200 -\n"
     ]
    },
    {
     "name": "stdout",
     "output_type": "stream",
     "text": [
      "Markers detected:  4\n",
      "Marker:  <Marker id=1 center=(221, 574)>\n",
      "Marker:  <Marker id=1 center=(221, 574)>\n",
      "Marker:  <Marker id=243 center=(222, 296)>\n",
      "Marker:  <Marker id=243 center=(223, 296)>\n",
      "Goes before check.\n",
      "Goes inside marker check.\n",
      "Failed results:  The truth value of an array with more than one element is ambiguous. Use a.any() or a.all()\n",
      "MARKER : 0 , 41.795969009399414 , 0 , 0 , 75.07681846618652 , 0.3418922424316406 , 75.41871070861816\n",
      "Markers detected:  3\n",
      "Marker:  <Marker id=1 center=(232, 580)>\n",
      "Marker:  <Marker id=1 center=(232, 580)>\n",
      "Marker:  <Marker id=243 center=(236, 300)>\n",
      "Goes before check.\n",
      "Goes inside marker check.\n",
      "Failed results:  The truth value of an array with more than one element is ambiguous. Use a.any() or a.all()\n",
      "MARKER : 0 , 46.861886978149414 , 0 , 0 , 81.55488967895508 , 0.3750324249267578 , 81.92992210388184\n"
     ]
    },
    {
     "name": "stderr",
     "output_type": "stream",
     "text": [
      "150.229.118.204 - - [24/Jul/2018 12:16:52] \"POST / HTTP/1.1\" 200 -\n",
      "150.229.118.204 - - [24/Jul/2018 12:16:52] \"POST / HTTP/1.1\" 200 -\n"
     ]
    },
    {
     "name": "stdout",
     "output_type": "stream",
     "text": [
      "Markers detected:  4\n",
      "Marker:  <Marker id=1 center=(234, 568)>\n",
      "Marker:  <Marker id=1 center=(234, 568)>\n",
      "Marker:  <Marker id=243 center=(238, 292)>\n",
      "Marker:  <Marker id=243 center=(238, 292)>\n",
      "Goes before check.\n",
      "Goes inside marker check.\n",
      "Failed results:  The truth value of an array with more than one element is ambiguous. Use a.any() or a.all()\n",
      "MARKER : 0 , 43.65897178649902 , 0 , 0 , 93.24407577514648 , 0.3840923309326172 , 93.6281681060791\n",
      "Markers detected:  4\n",
      "Marker:  <Marker id=1 center=(242, 552)>\n",
      "Marker:  <Marker id=1 center=(242, 552)>\n",
      "Marker:  <Marker id=243 center=(250, 276)>\n",
      "Marker:  <Marker id=243 center=(250, 276)>\n",
      "Goes before check.\n",
      "Goes inside marker check.\n",
      "Failed results:  The truth value of an array with more than one element is ambiguous. Use a.any() or a.all()\n",
      "MARKER : 0 , 46.543121337890625 , 0 , 0 , 83.46223831176758 , 0.2639293670654297 , 83.72616767883301\n"
     ]
    },
    {
     "name": "stderr",
     "output_type": "stream",
     "text": [
      "150.229.118.204 - - [24/Jul/2018 12:16:53] \"POST / HTTP/1.1\" 200 -\n",
      "150.229.118.204 - - [24/Jul/2018 12:16:53] \"POST / HTTP/1.1\" 200 -\n"
     ]
    },
    {
     "name": "stdout",
     "output_type": "stream",
     "text": [
      "Markers detected:  4\n",
      "Marker:  <Marker id=1 center=(242, 549)>\n",
      "Marker:  <Marker id=1 center=(242, 549)>\n",
      "Marker:  <Marker id=243 center=(253, 268)>\n",
      "Marker:  <Marker id=243 center=(253, 268)>\n",
      "Goes before check.\n",
      "Goes inside marker check.\n",
      "Failed results:  The truth value of an array with more than one element is ambiguous. Use a.any() or a.all()\n",
      "MARKER : 0 , 45.86601257324219 , 0 , 0 , 116.16802215576172 , 0.42700767517089844 , 116.59502983093262\n",
      "Markers detected:  4\n",
      "Marker:  <Marker id=1 center=(228, 559)>\n",
      "Marker:  <Marker id=1 center=(228, 559)>\n",
      "Marker:  <Marker id=243 center=(241, 271)>\n",
      "Marker:  <Marker id=243 center=(241, 271)>\n",
      "Goes before check.\n",
      "Goes inside marker check.\n",
      "Failed results:  The truth value of an array with more than one element is ambiguous. Use a.any() or a.all()\n",
      "MARKER : 0 , 42.72270202636719 , 0 , 0 , 78.14598083496094 , 0.3199577331542969 , 78.46593856811523\n"
     ]
    },
    {
     "name": "stderr",
     "output_type": "stream",
     "text": [
      "150.229.118.204 - - [24/Jul/2018 12:16:53] \"POST / HTTP/1.1\" 200 -\n",
      "150.229.118.204 - - [24/Jul/2018 12:16:53] \"POST / HTTP/1.1\" 200 -\n"
     ]
    },
    {
     "name": "stdout",
     "output_type": "stream",
     "text": [
      "Markers detected:  3\n",
      "Marker:  <Marker id=1 center=(198, 579)>\n",
      "Marker:  <Marker id=243 center=(212, 278)>\n",
      "Marker:  <Marker id=243 center=(212, 278)>\n",
      "Goes before check.\n",
      "Goes inside marker check.\n",
      "Failed results:  The truth value of an array with more than one element is ambiguous. Use a.any() or a.all()\n",
      "MARKER : 0 , 47.45221138000488 , 0 , 0 , 88.92297744750977 , 0.3859996795654297 , 89.3089771270752\n",
      "Markers detected:  4\n",
      "Marker:  <Marker id=1 center=(185, 589)>\n",
      "Marker:  <Marker id=1 center=(185, 589)>\n",
      "Marker:  <Marker id=243 center=(195, 284)>\n",
      "Marker:  <Marker id=243 center=(195, 284)>\n",
      "Goes before check.\n",
      "Goes inside marker check.\n",
      "Failed results:  The truth value of an array with more than one element is ambiguous. Use a.any() or a.all()\n",
      "MARKER : 0 , 45.957088470458984 , 0 , 0 , 84.45596694946289 , 0.37384033203125 , 84.82980728149414\n"
     ]
    },
    {
     "name": "stderr",
     "output_type": "stream",
     "text": [
      "150.229.118.204 - - [24/Jul/2018 12:16:53] \"POST / HTTP/1.1\" 200 -\n",
      "150.229.118.204 - - [24/Jul/2018 12:16:53] \"POST / HTTP/1.1\" 200 -\n"
     ]
    },
    {
     "name": "stdout",
     "output_type": "stream",
     "text": [
      "Markers detected:  4\n",
      "Marker:  <Marker id=1 center=(182, 592)>\n",
      "Marker:  <Marker id=1 center=(182, 592)>\n",
      "Marker:  <Marker id=243 center=(192, 289)>\n",
      "Marker:  <Marker id=243 center=(192, 289)>\n",
      "Goes before check.\n",
      "Goes inside marker check.\n",
      "Failed results:  The truth value of an array with more than one element is ambiguous. Use a.any() or a.all()\n",
      "MARKER : 0 , 48.00891876220703 , 0 , 0 , 96.68517112731934 , 0.3597736358642578 , 97.0449447631836\n",
      "Markers detected:  4\n",
      "Marker:  <Marker id=1 center=(176, 591)>\n",
      "Marker:  <Marker id=1 center=(176, 591)>\n",
      "Marker:  <Marker id=243 center=(186, 285)>\n",
      "Marker:  <Marker id=243 center=(186, 285)>\n",
      "Goes before check.\n",
      "Goes inside marker check.\n",
      "Failed results:  The truth value of an array with more than one element is ambiguous. Use a.any() or a.all()\n",
      "MARKER : 0 , 51.50008201599121 , 0 , 0 , 105.34501075744629 , 0.3876686096191406 , 105.73267936706543\n"
     ]
    },
    {
     "name": "stderr",
     "output_type": "stream",
     "text": [
      "150.229.118.204 - - [24/Jul/2018 12:16:54] \"POST / HTTP/1.1\" 200 -\n",
      "150.229.118.204 - - [24/Jul/2018 12:16:54] \"POST / HTTP/1.1\" 200 -\n"
     ]
    },
    {
     "name": "stdout",
     "output_type": "stream",
     "text": [
      "Markers detected:  4\n",
      "Marker:  <Marker id=1 center=(173, 582)>\n",
      "Marker:  <Marker id=1 center=(173, 582)>\n",
      "Marker:  <Marker id=243 center=(184, 280)>\n",
      "Marker:  <Marker id=243 center=(184, 280)>\n",
      "Goes before check.\n",
      "Goes inside marker check.\n",
      "Failed results:  The truth value of an array with more than one element is ambiguous. Use a.any() or a.all()\n",
      "MARKER : 0 , 48.39801788330078 , 0 , 0 , 85.87908744812012 , 0.3268718719482422 , 86.20595932006836\n"
     ]
    },
    {
     "name": "stderr",
     "output_type": "stream",
     "text": [
      "150.229.118.204 - - [24/Jul/2018 12:16:54] \"POST / HTTP/1.1\" 200 -\n"
     ]
    },
    {
     "name": "stdout",
     "output_type": "stream",
     "text": [
      "Markers detected:  4\n",
      "Marker:  <Marker id=1 center=(167, 579)>\n",
      "Marker:  <Marker id=1 center=(167, 579)>\n",
      "Marker:  <Marker id=243 center=(177, 278)>\n",
      "Marker:  <Marker id=243 center=(178, 278)>\n",
      "Goes before check.\n",
      "Goes inside marker check.\n",
      "Failed results:  The truth value of an array with more than one element is ambiguous. Use a.any() or a.all()\n",
      "MARKER : 0 , 45.20893096923828 , 0 , 0 , 83.76121520996094 , 0.3447532653808594 , 84.1059684753418\n"
     ]
    },
    {
     "name": "stderr",
     "output_type": "stream",
     "text": [
      "150.229.118.204 - - [24/Jul/2018 12:16:54] \"POST / HTTP/1.1\" 200 -\n"
     ]
    },
    {
     "name": "stdout",
     "output_type": "stream",
     "text": [
      "Markers detected:  4\n",
      "Marker:  <Marker id=1 center=(172, 576)>\n",
      "Marker:  <Marker id=1 center=(172, 576)>\n",
      "Marker:  <Marker id=243 center=(183, 276)>\n",
      "Marker:  <Marker id=243 center=(182, 276)>\n",
      "Goes before check.\n",
      "Goes inside marker check.\n",
      "Failed results:  The truth value of an array with more than one element is ambiguous. Use a.any() or a.all()\n",
      "MARKER : 0 , 47.28198051452637 , 0 , 0 , 85.82210540771484 , 0.4177093505859375 , 86.23981475830078\n"
     ]
    },
    {
     "name": "stderr",
     "output_type": "stream",
     "text": [
      "150.229.118.204 - - [24/Jul/2018 12:16:55] \"POST / HTTP/1.1\" 200 -\n"
     ]
    },
    {
     "name": "stdout",
     "output_type": "stream",
     "text": [
      "Markers detected:  4\n",
      "Marker:  <Marker id=1 center=(173, 571)>\n",
      "Marker:  <Marker id=1 center=(173, 571)>\n",
      "Marker:  <Marker id=243 center=(185, 273)>\n",
      "Marker:  <Marker id=243 center=(185, 273)>\n",
      "Goes before check.\n",
      "Goes inside marker check.\n",
      "Failed results:  The truth value of an array with more than one element is ambiguous. Use a.any() or a.all()\n",
      "MARKER : 0 , 48.26021194458008 , 0 , 0 , 86.32016181945801 , 0.2880096435546875 , 86.6081714630127\n",
      "Markers detected:  4\n",
      "Marker:  <Marker id=1 center=(172, 569)>\n",
      "Marker:  <Marker id=1 center=(172, 569)>\n",
      "Marker:  <Marker id=243 center=(184, 271)>\n",
      "Marker:  <Marker id=243 center=(184, 271)>\n",
      "Goes before check.\n",
      "Goes inside marker check.\n",
      "Failed results:  The truth value of an array with more than one element is ambiguous. Use a.any() or a.all()\n",
      "MARKER : 0 , 47.53279685974121 , 0 , 0 , 80.12580871582031 , 0.3800392150878906 , 80.5058479309082\n"
     ]
    },
    {
     "name": "stderr",
     "output_type": "stream",
     "text": [
      "150.229.118.204 - - [24/Jul/2018 12:16:55] \"POST / HTTP/1.1\" 200 -\n",
      "150.229.118.204 - - [24/Jul/2018 12:16:55] \"POST / HTTP/1.1\" 200 -\n",
      "150.229.118.204 - - [24/Jul/2018 12:16:55] \"POST / HTTP/1.1\" 200 -\n"
     ]
    },
    {
     "name": "stdout",
     "output_type": "stream",
     "text": [
      "Markers detected:  4\n",
      "Marker:  <Marker id=1 center=(176, 567)>\n",
      "Marker:  <Marker id=1 center=(175, 567)>\n",
      "Marker:  <Marker id=243 center=(187, 268)>\n",
      "Marker:  <Marker id=243 center=(188, 268)>\n",
      "Goes before check.\n",
      "Goes inside marker check.\n",
      "Failed results:  The truth value of an array with more than one element is ambiguous. Use a.any() or a.all()\n",
      "MARKER : 0 , 49.12281036376953 , 0 , 0 , 80.66201210021973 , 0.37097930908203125 , 81.03299140930176\n",
      "Markers detected:  3\n",
      "Marker:  <Marker id=1 center=(177, 567)>\n",
      "Marker:  <Marker id=1 center=(177, 567)>\n",
      "Marker:  <Marker id=243 center=(189, 269)>\n",
      "Goes before check.\n",
      "Goes inside marker check.\n",
      "Failed results:  The truth value of an array with more than one element is ambiguous. Use a.any() or a.all()\n",
      "MARKER : 0 , 47.26696014404297 , 0 , 0 , 74.9659538269043 , 0.28514862060546875 , 75.25110244750977\n"
     ]
    },
    {
     "name": "stderr",
     "output_type": "stream",
     "text": [
      "150.229.118.204 - - [24/Jul/2018 12:16:55] \"POST / HTTP/1.1\" 200 -\n",
      "150.229.118.204 - - [24/Jul/2018 12:16:55] \"POST / HTTP/1.1\" 200 -\n"
     ]
    },
    {
     "name": "stdout",
     "output_type": "stream",
     "text": [
      "Markers detected:  4\n",
      "Marker:  <Marker id=1 center=(180, 568)>\n",
      "Marker:  <Marker id=1 center=(180, 568)>\n",
      "Marker:  <Marker id=243 center=(192, 271)>\n",
      "Marker:  <Marker id=243 center=(192, 271)>\n",
      "Goes before check.\n",
      "Goes inside marker check.\n",
      "Failed results:  The truth value of an array with more than one element is ambiguous. Use a.any() or a.all()\n",
      "MARKER : 0 , 48.909902572631836 , 0 , 0 , 82.26823806762695 , 0.41174888610839844 , 82.67998695373535\n",
      "Markers detected:  4\n",
      "Marker:  <Marker id=1 center=(184, 564)>\n",
      "Marker:  <Marker id=1 center=(184, 564)>\n",
      "Marker:  <Marker id=243 center=(197, 268)>\n",
      "Marker:  <Marker id=243 center=(196, 269)>\n",
      "Goes before check.\n",
      "Goes inside marker check.\n",
      "Failed results:  The truth value of an array with more than one element is ambiguous. Use a.any() or a.all()\n",
      "MARKER : 0 , 48.08807373046875 , 0 , 0 , 78.66406440734863 , 0.5109310150146484 , 79.17499542236328\n"
     ]
    },
    {
     "name": "stderr",
     "output_type": "stream",
     "text": [
      "150.229.118.204 - - [24/Jul/2018 12:16:56] \"POST / HTTP/1.1\" 200 -\n",
      "150.229.118.204 - - [24/Jul/2018 12:16:56] \"POST / HTTP/1.1\" 200 -\n"
     ]
    },
    {
     "name": "stdout",
     "output_type": "stream",
     "text": [
      "Markers detected:  4\n",
      "Marker:  <Marker id=1 center=(186, 563)>\n",
      "Marker:  <Marker id=1 center=(187, 563)>\n",
      "Marker:  <Marker id=243 center=(200, 267)>\n",
      "Marker:  <Marker id=243 center=(200, 268)>\n",
      "Goes before check.\n",
      "Goes inside marker check.\n",
      "Failed results:  The truth value of an array with more than one element is ambiguous. Use a.any() or a.all()\n",
      "MARKER : 0 , 47.29914665222168 , 0 , 0 , 79.56504821777344 , 0.47087669372558594 , 80.03592491149902\n",
      "Markers detected:  4\n",
      "Marker:  <Marker id=1 center=(190, 562)>\n",
      "Marker:  <Marker id=1 center=(190, 562)>\n",
      "Marker:  <Marker id=243 center=(203, 266)>\n",
      "Marker:  <Marker id=243 center=(203, 266)>\n",
      "Goes before check.\n",
      "Goes inside marker check.\n",
      "Failed results:  The truth value of an array with more than one element is ambiguous. Use a.any() or a.all()\n",
      "MARKER : 0 , 43.59602928161621 , 0 , 0 , 72.48520851135254 , 0.28395652770996094 , 72.7691650390625\n"
     ]
    },
    {
     "name": "stderr",
     "output_type": "stream",
     "text": [
      "150.229.118.204 - - [24/Jul/2018 12:16:56] \"POST / HTTP/1.1\" 200 -\n",
      "150.229.118.204 - - [24/Jul/2018 12:16:56] \"POST / HTTP/1.1\" 200 -\n"
     ]
    },
    {
     "name": "stdout",
     "output_type": "stream",
     "text": [
      "Markers detected:  4\n",
      "Marker:  <Marker id=1 center=(192, 563)>\n",
      "Marker:  <Marker id=1 center=(192, 563)>\n",
      "Marker:  <Marker id=243 center=(204, 268)>\n",
      "Marker:  <Marker id=243 center=(205, 268)>\n",
      "Goes before check.\n",
      "Goes inside marker check.\n",
      "Failed results:  The truth value of an array with more than one element is ambiguous. Use a.any() or a.all()\n",
      "MARKER : 0 , 46.096086502075195 , 0 , 0 , 79.44107055664062 , 0.3008842468261719 , 79.7419548034668\n",
      "Markers detected:  4\n",
      "Marker:  <Marker id=1 center=(195, 560)>\n",
      "Marker:  <Marker id=1 center=(195, 561)>\n",
      "Marker:  <Marker id=243 center=(207, 265)>\n",
      "Marker:  <Marker id=243 center=(207, 265)>\n",
      "Goes before check.\n",
      "Goes inside marker check.\n",
      "Failed results:  The truth value of an array with more than one element is ambiguous. Use a.any() or a.all()\n",
      "MARKER : 0 , 49.87072944641113 , 0 , 0 , 78.82809638977051 , 0.45609474182128906 , 79.2841911315918\n"
     ]
    },
    {
     "name": "stderr",
     "output_type": "stream",
     "text": [
      "150.229.118.204 - - [24/Jul/2018 12:16:56] \"POST / HTTP/1.1\" 200 -\n",
      "150.229.118.204 - - [24/Jul/2018 12:16:56] \"POST / HTTP/1.1\" 200 -\n"
     ]
    },
    {
     "name": "stdout",
     "output_type": "stream",
     "text": [
      "Markers detected:  4\n",
      "Marker:  <Marker id=1 center=(194, 564)>\n",
      "Marker:  <Marker id=1 center=(194, 564)>\n",
      "Marker:  <Marker id=243 center=(206, 266)>\n",
      "Marker:  <Marker id=243 center=(206, 266)>\n",
      "Goes before check.\n",
      "Goes inside marker check.\n",
      "Failed results:  The truth value of an array with more than one element is ambiguous. Use a.any() or a.all()\n",
      "MARKER : 0 , 48.043012619018555 , 0 , 0 , 78.47809791564941 , 0.4057884216308594 , 78.88388633728027\n",
      "Markers detected:  4\n",
      "Marker:  <Marker id=1 center=(195, 565)>\n",
      "Marker:  <Marker id=1 center=(195, 565)>\n",
      "Marker:  <Marker id=243 center=(208, 268)>\n",
      "Marker:  <Marker id=243 center=(208, 268)>\n",
      "Goes before check.\n",
      "Goes inside marker check.\n",
      "Failed results:  The truth value of an array with more than one element is ambiguous. Use a.any() or a.all()\n",
      "MARKER : 0 , 48.272132873535156 , 0 , 0 , 79.06508445739746 , 0.3361701965332031 , 79.40125465393066\n"
     ]
    },
    {
     "name": "stderr",
     "output_type": "stream",
     "text": [
      "150.229.118.204 - - [24/Jul/2018 12:16:57] \"POST / HTTP/1.1\" 200 -\n",
      "150.229.118.204 - - [24/Jul/2018 12:16:57] \"POST / HTTP/1.1\" 200 -\n"
     ]
    },
    {
     "name": "stdout",
     "output_type": "stream",
     "text": [
      "Markers detected:  4\n",
      "Marker:  <Marker id=1 center=(197, 567)>\n",
      "Marker:  <Marker id=1 center=(197, 566)>\n",
      "Marker:  <Marker id=243 center=(209, 271)>\n",
      "Marker:  <Marker id=243 center=(210, 271)>\n",
      "Goes before check.\n",
      "Goes inside marker check.\n",
      "Failed results:  The truth value of an array with more than one element is ambiguous. Use a.any() or a.all()\n",
      "MARKER : 0 , 47.634124755859375 , 0 , 0 , 81.67123794555664 , 0.32901763916015625 , 82.0002555847168\n",
      "Markers detected:  4\n",
      "Marker:  <Marker id=1 center=(198, 568)>\n",
      "Marker:  <Marker id=1 center=(198, 568)>\n",
      "Marker:  <Marker id=243 center=(211, 272)>\n",
      "Marker:  <Marker id=243 center=(211, 272)>\n",
      "Goes before check.\n",
      "Goes inside marker check.\n",
      "Failed results:  The truth value of an array with more than one element is ambiguous. Use a.any() or a.all()\n",
      "MARKER : 0 , 47.91116714477539 , 0 , 0 , 82.1998119354248 , 1.1472702026367188 , 83.34708213806152\n",
      "Markers detected:  4\n",
      "Marker:  <Marker id=1 center=(199, 564)>\n",
      "Marker:  <Marker id=1 center=(199, 564)>\n",
      "Marker:  <Marker id=243 center=(212, 270)>\n",
      "Marker:  <Marker id=243 center=(212, 270)>\n",
      "Goes before check.\n",
      "Goes inside marker check.\n",
      "Failed results:  The truth value of an array with more than one element is ambiguous. Use a.any() or a.all()\n",
      "MARKER : 0 , 44.70396041870117 , 0 , 0 , 73.98700714111328 , 0.3478527069091797 , 74.33485984802246\n"
     ]
    },
    {
     "name": "stderr",
     "output_type": "stream",
     "text": [
      "150.229.118.204 - - [24/Jul/2018 12:16:57] \"POST / HTTP/1.1\" 200 -\n",
      "150.229.118.204 - - [24/Jul/2018 12:16:57] \"POST / HTTP/1.1\" 200 -\n"
     ]
    },
    {
     "name": "stdout",
     "output_type": "stream",
     "text": [
      "Markers detected:  4\n",
      "Marker:  <Marker id=1 center=(254, 512)>\n",
      "Marker:  <Marker id=1 center=(255, 512)>\n",
      "Marker:  <Marker id=243 center=(255, 236)>\n",
      "Marker:  <Marker id=243 center=(256, 235)>\n",
      "Goes before check.\n",
      "Goes inside marker check.\n",
      "Failed results:  The truth value of an array with more than one element is ambiguous. Use a.any() or a.all()\n",
      "MARKER : 0 , 44.959068298339844 , 0 , 0 , 76.50017738342285 , 0.3800392150878906 , 76.88021659851074\n",
      "Markers detected:  4\n",
      "Marker:  <Marker id=1 center=(335, 461)>\n",
      "Marker:  <Marker id=1 center=(335, 460)>\n",
      "Marker:  <Marker id=243 center=(334, 195)>\n",
      "Marker:  <Marker id=243 center=(334, 195)>\n",
      "Goes before check.\n",
      "Goes inside marker check.\n",
      "Failed results:  The truth value of an array with more than one element is ambiguous. Use a.any() or a.all()\n",
      "MARKER : 0 , 47.73306846618652 , 0 , 0 , 83.8479995727539 , 0.3218650817871094 , 84.16986465454102\n"
     ]
    },
    {
     "name": "stderr",
     "output_type": "stream",
     "text": [
      "150.229.118.204 - - [24/Jul/2018 12:16:57] \"POST / HTTP/1.1\" 200 -\n",
      "150.229.118.204 - - [24/Jul/2018 12:16:57] \"POST / HTTP/1.1\" 200 -\n"
     ]
    },
    {
     "name": "stdout",
     "output_type": "stream",
     "text": [
      "Markers detected:  4\n",
      "Marker:  <Marker id=1 center=(350, 461)>\n",
      "Marker:  <Marker id=1 center=(350, 461)>\n",
      "Marker:  <Marker id=243 center=(352, 197)>\n",
      "Marker:  <Marker id=243 center=(351, 197)>\n",
      "Goes before check.\n",
      "Goes inside marker check.\n",
      "Failed results:  The truth value of an array with more than one element is ambiguous. Use a.any() or a.all()\n",
      "MARKER : 0 , 46.74100875854492 , 0 , 0 , 83.6329460144043 , 0.32401084899902344 , 83.95695686340332\n",
      "Markers detected:  4\n",
      "Marker:  <Marker id=1 center=(344, 478)>\n",
      "Marker:  <Marker id=1 center=(344, 478)>\n",
      "Marker:  <Marker id=243 center=(351, 213)>\n",
      "Marker:  <Marker id=243 center=(351, 213)>\n",
      "Goes before check.\n",
      "Goes inside marker check.\n",
      "Failed results:  The truth value of an array with more than one element is ambiguous. Use a.any() or a.all()\n",
      "MARKER : 0 , 47.215938568115234 , 0 , 0 , 87.4171257019043 , 0.3147125244140625 , 87.73183822631836\n"
     ]
    },
    {
     "name": "stderr",
     "output_type": "stream",
     "text": [
      "150.229.118.204 - - [24/Jul/2018 12:16:58] \"POST / HTTP/1.1\" 200 -\n",
      "150.229.118.204 - - [24/Jul/2018 12:16:58] \"POST / HTTP/1.1\" 200 -\n"
     ]
    },
    {
     "name": "stdout",
     "output_type": "stream",
     "text": [
      "Markers detected:  4\n",
      "Marker:  <Marker id=1 center=(309, 524)>\n",
      "Marker:  <Marker id=1 center=(309, 523)>\n",
      "Marker:  <Marker id=243 center=(325, 249)>\n",
      "Marker:  <Marker id=243 center=(325, 249)>\n",
      "Goes before check.\n",
      "Goes inside marker check.\n",
      "Failed results:  The truth value of an array with more than one element is ambiguous. Use a.any() or a.all()\n",
      "MARKER : 0 , 43.59316825866699 , 0 , 0 , 73.4713077545166 , 0.35691261291503906 , 73.82822036743164\n",
      "Markers detected:  4\n",
      "Marker:  <Marker id=1 center=(283, 552)>\n",
      "Marker:  <Marker id=1 center=(283, 552)>\n",
      "Marker:  <Marker id=243 center=(300, 271)>\n",
      "Marker:  <Marker id=243 center=(300, 271)>\n",
      "Goes before check.\n",
      "Goes inside marker check.\n",
      "Failed results:  The truth value of an array with more than one element is ambiguous. Use a.any() or a.all()\n",
      "MARKER : 0 , 47.383785247802734 , 0 , 0 , 79.0557861328125 , 0.34308433532714844 , 79.39887046813965\n"
     ]
    },
    {
     "name": "stderr",
     "output_type": "stream",
     "text": [
      "150.229.118.204 - - [24/Jul/2018 12:16:58] \"POST / HTTP/1.1\" 200 -\n",
      "150.229.118.204 - - [24/Jul/2018 12:16:58] \"POST / HTTP/1.1\" 200 -\n"
     ]
    },
    {
     "name": "stdout",
     "output_type": "stream",
     "text": [
      "Markers detected:  4\n",
      "Marker:  <Marker id=1 center=(259, 598)>\n",
      "Marker:  <Marker id=1 center=(259, 599)>\n",
      "Marker:  <Marker id=243 center=(282, 312)>\n",
      "Marker:  <Marker id=243 center=(282, 312)>\n",
      "Goes before check.\n",
      "Goes inside marker check.\n",
      "Failed results:  The truth value of an array with more than one element is ambiguous. Use a.any() or a.all()\n",
      "MARKER : 0 , 46.52595520019531 , 0 , 0 , 80.18612861633301 , 0.3948211669921875 , 80.5809497833252\n"
     ]
    },
    {
     "name": "stderr",
     "output_type": "stream",
     "text": [
      "150.229.118.204 - - [24/Jul/2018 12:16:58] \"POST / HTTP/1.1\" 200 -\n"
     ]
    },
    {
     "name": "stdout",
     "output_type": "stream",
     "text": [
      "Markers detected:  4\n",
      "Marker:  <Marker id=1 center=(266, 602)>\n",
      "Marker:  <Marker id=1 center=(266, 603)>\n",
      "Marker:  <Marker id=243 center=(285, 322)>\n",
      "Marker:  <Marker id=243 center=(285, 322)>\n",
      "Goes before check.\n",
      "Goes inside marker check.\n",
      "Failed results:  The truth value of an array with more than one element is ambiguous. Use a.any() or a.all()\n",
      "MARKER : 0 , 48.49600791931152 , 0 , 0 , 90.7890796661377 , 0.7517337799072266 , 91.54081344604492\n"
     ]
    },
    {
     "name": "stderr",
     "output_type": "stream",
     "text": [
      "150.229.118.204 - - [24/Jul/2018 12:16:59] \"POST / HTTP/1.1\" 200 -\n"
     ]
    },
    {
     "name": "stdout",
     "output_type": "stream",
     "text": [
      "Markers detected:  4\n",
      "Marker:  <Marker id=1 center=(332, 551)>\n",
      "Marker:  <Marker id=1 center=(332, 552)>\n",
      "Marker:  <Marker id=243 center=(338, 292)>\n",
      "Marker:  <Marker id=243 center=(338, 292)>\n",
      "Goes before check.\n",
      "Goes inside marker check.\n",
      "Failed results:  The truth value of an array with more than one element is ambiguous. Use a.any() or a.all()\n",
      "MARKER : 0 , 46.44203186035156 , 0 , 0 , 80.80196380615234 , 0.35309791564941406 , 81.15506172180176\n",
      "Markers detected:  4\n",
      "Marker:  <Marker id=1 center=(423, 498)>\n",
      "Marker:  <Marker id=1 center=(423, 498)>\n",
      "Marker:  <Marker id=243 center=(423, 250)>\n",
      "Marker:  <Marker id=243 center=(423, 250)>\n",
      "Goes before check.\n",
      "Goes inside marker check.\n",
      "Failed results:  The truth value of an array with more than one element is ambiguous. Use a.any() or a.all()\n",
      "MARKER : 0 , 44.75903511047363 , 0 , 0 , 78.0332088470459 , 0.2918243408203125 , 78.32503318786621\n"
     ]
    },
    {
     "name": "stderr",
     "output_type": "stream",
     "text": [
      "150.229.118.204 - - [24/Jul/2018 12:16:59] \"POST / HTTP/1.1\" 200 -\n",
      "150.229.118.204 - - [24/Jul/2018 12:16:59] \"POST / HTTP/1.1\" 200 -\n"
     ]
    },
    {
     "name": "stdout",
     "output_type": "stream",
     "text": [
      "Markers detected:  4\n",
      "Marker:  <Marker id=1 center=(443, 493)>\n",
      "Marker:  <Marker id=1 center=(443, 493)>\n",
      "Marker:  <Marker id=243 center=(447, 244)>\n",
      "Marker:  <Marker id=243 center=(447, 244)>\n",
      "Goes before check.\n",
      "Goes inside marker check.\n",
      "Failed results:  The truth value of an array with more than one element is ambiguous. Use a.any() or a.all()\n",
      "MARKER : 0 , 48.45380783081055 , 0 , 0 , 83.87422561645508 , 0.5340576171875 , 84.40828323364258\n",
      "Markers detected:  4\n",
      "Marker:  <Marker id=1 center=(425, 498)>\n",
      "Marker:  <Marker id=1 center=(425, 498)>\n",
      "Marker:  <Marker id=243 center=(430, 247)>\n",
      "Marker:  <Marker id=243 center=(430, 248)>\n",
      "Goes before check.\n",
      "Goes inside marker check.\n",
      "Failed results:  The truth value of an array with more than one element is ambiguous. Use a.any() or a.all()\n",
      "MARKER : 0 , 50.45008659362793 , 0 , 0 , 83.20307731628418 , 0.36597251892089844 , 83.56904983520508\n"
     ]
    },
    {
     "name": "stderr",
     "output_type": "stream",
     "text": [
      "150.229.118.204 - - [24/Jul/2018 12:16:59] \"POST / HTTP/1.1\" 200 -\n",
      "150.229.118.204 - - [24/Jul/2018 12:16:59] \"POST / HTTP/1.1\" 200 -\n"
     ]
    },
    {
     "name": "stdout",
     "output_type": "stream",
     "text": [
      "Markers detected:  4\n",
      "Marker:  <Marker id=1 center=(357, 517)>\n",
      "Marker:  <Marker id=1 center=(356, 518)>\n",
      "Marker:  <Marker id=243 center=(365, 256)>\n",
      "Marker:  <Marker id=243 center=(365, 256)>\n",
      "Goes before check.\n",
      "Goes inside marker check.\n",
      "Failed results:  The truth value of an array with more than one element is ambiguous. Use a.any() or a.all()\n",
      "MARKER : 0 , 46.53811454772949 , 0 , 0 , 86.72809600830078 , 0.30493736267089844 , 87.03303337097168\n",
      "Markers detected:  4\n",
      "Marker:  <Marker id=1 center=(352, 527)>\n",
      "Marker:  <Marker id=1 center=(352, 527)>\n",
      "Marker:  <Marker id=243 center=(360, 265)>\n",
      "Marker:  <Marker id=243 center=(361, 265)>\n",
      "Goes before check.\n",
      "Goes inside marker check.\n",
      "Failed results:  The truth value of an array with more than one element is ambiguous. Use a.any() or a.all()\n",
      "MARKER : 0 , 51.60689353942871 , 0 , 0 , 88.96398544311523 , 0.3590583801269531 , 89.32304382324219\n"
     ]
    },
    {
     "name": "stderr",
     "output_type": "stream",
     "text": [
      "150.229.118.204 - - [24/Jul/2018 12:16:59] \"POST / HTTP/1.1\" 200 -\n",
      "150.229.118.204 - - [24/Jul/2018 12:17:00] \"POST / HTTP/1.1\" 200 -\n"
     ]
    },
    {
     "name": "stdout",
     "output_type": "stream",
     "text": [
      "Markers detected:  4\n",
      "Marker:  <Marker id=1 center=(331, 525)>\n",
      "Marker:  <Marker id=1 center=(331, 526)>\n",
      "Marker:  <Marker id=243 center=(339, 261)>\n",
      "Marker:  <Marker id=243 center=(340, 261)>\n",
      "Goes before check.\n",
      "Goes inside marker check.\n",
      "Failed results:  The truth value of an array with more than one element is ambiguous. Use a.any() or a.all()\n",
      "MARKER : 0 , 50.69708824157715 , 0 , 0 , 92.92197227478027 , 0.17118453979492188 , 93.0931568145752\n"
     ]
    },
    {
     "name": "stderr",
     "output_type": "stream",
     "text": [
      "150.229.118.204 - - [24/Jul/2018 12:17:00] \"POST / HTTP/1.1\" 200 -\n"
     ]
    },
    {
     "name": "stdout",
     "output_type": "stream",
     "text": [
      "Markers detected:  4\n",
      "Marker:  <Marker id=1 center=(304, 522)>\n",
      "Marker:  <Marker id=1 center=(305, 521)>\n",
      "Marker:  <Marker id=243 center=(316, 247)>\n",
      "Marker:  <Marker id=243 center=(316, 247)>\n",
      "Goes before check.\n",
      "Goes inside marker check.\n",
      "Failed results:  The truth value of an array with more than one element is ambiguous. Use a.any() or a.all()\n",
      "MARKER : 0 , 49.105167388916016 , 0 , 0 , 95.45016288757324 , 0.2830028533935547 , 95.7331657409668\n",
      "Markers detected:  4\n",
      "Marker:  <Marker id=1 center=(305, 525)>\n",
      "Marker:  <Marker id=1 center=(305, 524)>\n",
      "Marker:  <Marker id=243 center=(313, 254)>\n",
      "Marker:  <Marker id=243 center=(313, 255)>\n",
      "Goes before check.\n",
      "Goes inside marker check.\n",
      "Failed results:  The truth value of an array with more than one element is ambiguous. Use a.any() or a.all()\n",
      "MARKER : 0 , 53.94124984741211 , 0 , 0 , 89.05720710754395 , 0.3540515899658203 , 89.41125869750977\n"
     ]
    },
    {
     "name": "stderr",
     "output_type": "stream",
     "text": [
      "150.229.118.204 - - [24/Jul/2018 12:17:00] \"POST / HTTP/1.1\" 200 -\n",
      "150.229.118.204 - - [24/Jul/2018 12:17:00] \"POST / HTTP/1.1\" 200 -\n"
     ]
    },
    {
     "name": "stdout",
     "output_type": "stream",
     "text": [
      "Markers detected:  4\n",
      "Marker:  <Marker id=1 center=(293, 526)>\n",
      "Marker:  <Marker id=1 center=(294, 526)>\n",
      "Marker:  <Marker id=243 center=(304, 251)>\n",
      "Marker:  <Marker id=243 center=(304, 251)>\n",
      "Goes before check.\n",
      "Goes inside marker check.\n",
      "Failed results:  The truth value of an array with more than one element is ambiguous. Use a.any() or a.all()\n",
      "MARKER : 0 , 48.70915412902832 , 0 , 0 , 82.78131484985352 , 0.3867149353027344 , 83.16802978515625\n",
      "Markers detected:  3\n",
      "Marker:  <Marker id=1 center=(314, 525)>\n",
      "Marker:  <Marker id=243 center=(319, 260)>\n",
      "Marker:  <Marker id=243 center=(319, 260)>\n",
      "Goes before check.\n",
      "Goes inside marker check.\n",
      "Failed results:  The truth value of an array with more than one element is ambiguous. Use a.any() or a.all()\n",
      "MARKER : 0 , 47.87492752075195 , 0 , 0 , 80.81626892089844 , 0.3719329833984375 , 81.18820190429688\n"
     ]
    },
    {
     "name": "stderr",
     "output_type": "stream",
     "text": [
      "150.229.118.204 - - [24/Jul/2018 12:17:00] \"POST / HTTP/1.1\" 200 -\n",
      "150.229.118.204 - - [24/Jul/2018 12:17:01] \"POST / HTTP/1.1\" 200 -\n"
     ]
    },
    {
     "name": "stdout",
     "output_type": "stream",
     "text": [
      "Markers detected:  4\n",
      "Marker:  <Marker id=1 center=(316, 520)>\n",
      "Marker:  <Marker id=1 center=(316, 520)>\n",
      "Marker:  <Marker id=243 center=(327, 251)>\n",
      "Marker:  <Marker id=243 center=(327, 251)>\n",
      "Goes before check.\n",
      "Goes inside marker check.\n",
      "Failed results:  The truth value of an array with more than one element is ambiguous. Use a.any() or a.all()\n",
      "MARKER : 0 , 45.697927474975586 , 0 , 0 , 84.21611785888672 , 0.41103363037109375 , 84.62715148925781\n",
      "Markers detected:  4\n",
      "Marker:  <Marker id=1 center=(316, 517)>\n",
      "Marker:  <Marker id=1 center=(316, 517)>\n",
      "Marker:  <Marker id=243 center=(324, 251)>\n",
      "Marker:  <Marker id=243 center=(324, 251)>\n",
      "Goes before check.\n",
      "Goes inside marker check.\n",
      "Failed results:  The truth value of an array with more than one element is ambiguous. Use a.any() or a.all()\n",
      "MARKER : 0 , 47.92213439941406 , 0 , 0 , 89.38884735107422 , 0.5431175231933594 , 89.93196487426758\n"
     ]
    },
    {
     "name": "stderr",
     "output_type": "stream",
     "text": [
      "150.229.118.204 - - [24/Jul/2018 12:17:01] \"POST / HTTP/1.1\" 200 -\n",
      "150.229.118.204 - - [24/Jul/2018 12:17:01] \"POST / HTTP/1.1\" 200 -\n"
     ]
    },
    {
     "name": "stdout",
     "output_type": "stream",
     "text": [
      "Markers detected:  4\n",
      "Marker:  <Marker id=1 center=(305, 509)>\n",
      "Marker:  <Marker id=1 center=(305, 509)>\n",
      "Marker:  <Marker id=243 center=(317, 239)>\n",
      "Marker:  <Marker id=243 center=(317, 240)>\n",
      "Goes before check.\n",
      "Goes inside marker check.\n",
      "Failed results:  The truth value of an array with more than one element is ambiguous. Use a.any() or a.all()\n",
      "MARKER : 0 , 44.145822525024414 , 0 , 0 , 77.04305648803711 , 0.3209114074707031 , 77.36396789550781\n",
      "Markers detected:  4\n",
      "Marker:  <Marker id=1 center=(312, 532)>\n",
      "Marker:  <Marker id=1 center=(312, 532)>\n",
      "Marker:  <Marker id=243 center=(320, 270)>\n",
      "Marker:  <Marker id=243 center=(320, 270)>\n",
      "Goes before check.\n",
      "Goes inside marker check.\n",
      "Failed results:  The truth value of an array with more than one element is ambiguous. Use a.any() or a.all()\n",
      "MARKER : 0 , 47.238826751708984 , 0 , 0 , 77.51679420471191 , 0.4260540008544922 , 77.9428482055664\n"
     ]
    },
    {
     "name": "stderr",
     "output_type": "stream",
     "text": [
      "150.229.118.204 - - [24/Jul/2018 12:17:01] \"POST / HTTP/1.1\" 200 -\n",
      "150.229.118.204 - - [24/Jul/2018 12:17:01] \"POST / HTTP/1.1\" 200 -\n"
     ]
    },
    {
     "name": "stdout",
     "output_type": "stream",
     "text": [
      "Markers detected:  4\n",
      "Marker:  <Marker id=1 center=(328, 537)>\n",
      "Marker:  <Marker id=1 center=(327, 537)>\n",
      "Marker:  <Marker id=243 center=(336, 282)>\n",
      "Marker:  <Marker id=243 center=(336, 282)>\n",
      "Goes before check.\n",
      "Goes inside marker check.\n",
      "Failed results:  The truth value of an array with more than one element is ambiguous. Use a.any() or a.all()\n",
      "MARKER : 0 , 46.44775390625 , 0 , 0 , 88.24300765991211 , 0.2696514129638672 , 88.51265907287598\n",
      "Markers detected:  3\n",
      "Marker:  <Marker id=1 center=(329, 515)>\n",
      "Marker:  <Marker id=243 center=(347, 257)>\n",
      "Marker:  <Marker id=243 center=(347, 257)>\n",
      "Goes before check.\n",
      "Goes inside marker check.\n",
      "Failed results:  The truth value of an array with more than one element is ambiguous. Use a.any() or a.all()\n",
      "MARKER : 0 , 47.03998565673828 , 0 , 0 , 83.61506462097168 , 0.43702125549316406 , 84.05208587646484\n"
     ]
    },
    {
     "name": "stderr",
     "output_type": "stream",
     "text": [
      "150.229.118.204 - - [24/Jul/2018 12:17:01] \"POST / HTTP/1.1\" 200 -\n",
      "150.229.118.204 - - [24/Jul/2018 12:17:02] \"POST / HTTP/1.1\" 200 -\n"
     ]
    },
    {
     "name": "stdout",
     "output_type": "stream",
     "text": [
      "Markers detected:  4\n",
      "Marker:  <Marker id=1 center=(320, 517)>\n",
      "Marker:  <Marker id=1 center=(320, 517)>\n",
      "Marker:  <Marker id=243 center=(338, 256)>\n",
      "Marker:  <Marker id=243 center=(338, 256)>\n",
      "Goes before check.\n",
      "Goes inside marker check.\n",
      "Failed results:  The truth value of an array with more than one element is ambiguous. Use a.any() or a.all()\n",
      "MARKER : 0 , 48.30217361450195 , 0 , 0 , 85.24203300476074 , 0.40602684020996094 , 85.6480598449707\n",
      "Markers detected:  4\n",
      "Marker:  <Marker id=1 center=(320, 517)>\n",
      "Marker:  <Marker id=1 center=(320, 517)>\n",
      "Marker:  <Marker id=243 center=(336, 257)>\n",
      "Marker:  <Marker id=243 center=(336, 257)>\n",
      "Goes before check.\n",
      "Goes inside marker check.\n",
      "Failed results:  The truth value of an array with more than one element is ambiguous. Use a.any() or a.all()\n",
      "MARKER : 0 , 46.99420928955078 , 0 , 0 , 83.48727226257324 , 0.39196014404296875 , 83.87923240661621\n"
     ]
    },
    {
     "name": "stderr",
     "output_type": "stream",
     "text": [
      "150.229.118.204 - - [24/Jul/2018 12:17:02] \"POST / HTTP/1.1\" 200 -\n",
      "150.229.118.204 - - [24/Jul/2018 12:17:02] \"POST / HTTP/1.1\" 200 -\n"
     ]
    },
    {
     "name": "stdout",
     "output_type": "stream",
     "text": [
      "Markers detected:  4\n",
      "Marker:  <Marker id=1 center=(328, 530)>\n",
      "Marker:  <Marker id=1 center=(328, 530)>\n",
      "Marker:  <Marker id=243 center=(337, 274)>\n",
      "Marker:  <Marker id=243 center=(337, 274)>\n",
      "Goes before check.\n",
      "Goes inside marker check.\n",
      "Failed results:  The truth value of an array with more than one element is ambiguous. Use a.any() or a.all()\n",
      "MARKER : 0 , 44.91615295410156 , 0 , 0 , 78.35602760314941 , 0.5428791046142578 , 78.89890670776367\n",
      "Markers detected:  4\n",
      "Marker:  <Marker id=1 center=(329, 535)>\n",
      "Marker:  <Marker id=1 center=(329, 535)>\n",
      "Marker:  <Marker id=243 center=(341, 278)>\n",
      "Marker:  <Marker id=243 center=(341, 277)>\n",
      "Goes before check.\n",
      "Goes inside marker check.\n",
      "Failed results:  The truth value of an array with more than one element is ambiguous. Use a.any() or a.all()\n",
      "MARKER : 0 , 49.67522621154785 , 0 , 0 , 88.50812911987305 , 0.17595291137695312 , 88.68408203125\n"
     ]
    },
    {
     "name": "stderr",
     "output_type": "stream",
     "text": [
      "150.229.118.204 - - [24/Jul/2018 12:17:02] \"POST / HTTP/1.1\" 200 -\n",
      "150.229.118.204 - - [24/Jul/2018 12:17:02] \"POST / HTTP/1.1\" 200 -\n"
     ]
    }
   ],
   "source": [
    "# In[5]:\n",
    "\n",
    "run()"
   ]
  },
  {
   "cell_type": "code",
   "execution_count": null,
   "metadata": {
    "collapsed": true
   },
   "outputs": [],
   "source": []
  }
 ],
 "metadata": {
  "kernelspec": {
   "display_name": "Python 3",
   "language": "python",
   "name": "python3"
  },
  "language_info": {
   "codemirror_mode": {
    "name": "ipython",
    "version": 3
   },
   "file_extension": ".py",
   "mimetype": "text/x-python",
   "name": "python",
   "nbconvert_exporter": "python",
   "pygments_lexer": "ipython3",
   "version": "3.6.3"
  }
 },
 "nbformat": 4,
 "nbformat_minor": 2
}
