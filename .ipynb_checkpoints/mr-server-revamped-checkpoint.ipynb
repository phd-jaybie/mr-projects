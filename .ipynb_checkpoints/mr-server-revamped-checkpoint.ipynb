{
 "cells": [
  {
   "cell_type": "code",
   "execution_count": 1,
   "metadata": {
    "collapsed": true
   },
   "outputs": [],
   "source": [
    "# Created: 5-Jul-2018\n",
    "# This is a code version of the original MR but will receive detection\n",
    "# information so that we can separate the processing whether it is \n",
    "# OpenCV-based (i.e. SIFT, ORB, classical, etc.) or TF-based.\n"
   ]
  },
  {
   "cell_type": "code",
   "execution_count": 2,
   "metadata": {
    "collapsed": true
   },
   "outputs": [],
   "source": [
    "# coding: utf-8\n",
    "\n",
    "# In[1]:\n",
    "\n",
    "\n",
    "#!/usr/bin/env python\n",
    "\n",
    "import cv2\n",
    "import numpy as np\n",
    "import sys\n",
    "import time\n",
    "import requests\n",
    "import math\n",
    "\n",
    "import os\n",
    "import six.moves.urllib as urllib\n",
    "import tensorflow as tf\n",
    "import zipfile\n",
    "import collections\n",
    "import warnings\n",
    "warnings.filterwarnings(\"ignore\")\n",
    "\n",
    "from xml.etree.ElementTree import Element, SubElement, Comment, tostring, ElementTree\n",
    "from http.server import BaseHTTPRequestHandler, HTTPServer\n",
    "from collections import defaultdict\n",
    "from io import StringIO, BytesIO\n",
    "from matplotlib import pyplot as plt\n",
    "from PIL import Image"
   ]
  },
  {
   "cell_type": "code",
   "execution_count": 3,
   "metadata": {
    "collapsed": true
   },
   "outputs": [],
   "source": [
    "# This is needed to add the tf-object detecton api modules\n",
    "sys.path.append(\"/Users/deg032/models/research\")\n",
    "from object_detection.utils import ops as utils_ops\n",
    "from object_detection.utils import label_map_util\n",
    "from object_detection.utils import visualization_utils as vis_util\n",
    "\n",
    "if tf.__version__ < '1.4.0':\n",
    "  raise ImportError('Please upgrade your tensorflow installation to v1.4.* or later!')"
   ]
  },
  {
   "cell_type": "code",
   "execution_count": 4,
   "metadata": {
    "scrolled": true
   },
   "outputs": [],
   "source": [
    "# Global parameters\n",
    "detection_mode = \"SIFT\" #default to SIFT\n",
    "\n",
    "# OpenCV parameters\n",
    "search_params = dict(checks = 20) # this is for the flann-based matcher\n",
    "largest = {4032, 3024}\n",
    "\n",
    "ref = \"res/unsw.png\"\n",
    "ref_img = cv2.imread(ref, 0)\n",
    "\n",
    "# SIFT parameters\n",
    "siftDetector = cv2.xfeatures2d.SIFT_create()\n",
    "FLANN_INDEX_KDTREE = 0\n",
    "index_params = dict(algorithm = FLANN_INDEX_KDTREE, tree = 5)\n",
    "siftMatcher = cv2.FlannBasedMatcher(index_params, search_params)\n",
    "rsKP, rsDES = siftDetector.detectAndCompute(ref_img, None)\n",
    "\n",
    "# ORB parameters\n",
    "orbDetector = cv2.ORB_create()\n",
    "#descriptor = cv2.xfeatures2d.SIFT_create()\n",
    "orbMatcher = cv2.BFMatcher(cv2.NORM_HAMMING, crossCheck=True) # for ORB keypoints\n",
    "roKP, roDES = orbDetector.detectAndCompute(ref_img,None)"
   ]
  },
  {
   "cell_type": "code",
   "execution_count": 5,
   "metadata": {
    "collapsed": true
   },
   "outputs": [],
   "source": [
    "# Main tasks\n",
    "\n",
    "# What model to use.\n",
    "MODEL_NAME = 'ssd_mobilenet_v1_coco_2017_11_17'\n",
    "#MODEL_FILE = MODEL_NAME + '.tar.gz'\n",
    "OBJ_API_BASE = '/Users/deg032/models/research/object_detection/'\n",
    "\n",
    "# Path to frozen detection graph. This is the actual model that is used for the object detection.\n",
    "PATH_TO_CKPT = MODEL_NAME + '/frozen_inference_graph.pb'\n",
    "\n",
    "# List of the strings that is used to add correct label for each box.\n",
    "PATH_TO_LABELS = os.path.join('data', 'mscoco_label_map.pbtxt')\n",
    "\n",
    "NUM_CLASSES = 90"
   ]
  },
  {
   "cell_type": "code",
   "execution_count": 6,
   "metadata": {
    "collapsed": true
   },
   "outputs": [],
   "source": [
    "detection_graph = tf.Graph()\n",
    "with detection_graph.as_default():\n",
    "  od_graph_def = tf.GraphDef()\n",
    "  with tf.gfile.GFile(OBJ_API_BASE + PATH_TO_CKPT, 'rb') as fid:\n",
    "    serialized_graph = fid.read()\n",
    "    od_graph_def.ParseFromString(serialized_graph)\n",
    "    tf.import_graph_def(od_graph_def, name='')\n",
    "    \n",
    "label_map = label_map_util.load_labelmap(OBJ_API_BASE + PATH_TO_LABELS)\n",
    "categories = label_map_util.convert_label_map_to_categories(label_map, max_num_classes=NUM_CLASSES, use_display_name=True)\n",
    "category_index = label_map_util.create_category_index(categories)"
   ]
  },
  {
   "cell_type": "code",
   "execution_count": 7,
   "metadata": {
    "collapsed": true
   },
   "outputs": [],
   "source": [
    "def get_object_locations(\n",
    "    boxes,\n",
    "    classes,\n",
    "    scores,\n",
    "    category_index,\n",
    "    instance_masks=None,\n",
    "    instance_boundaries=None,\n",
    "    keypoints=None,\n",
    "    use_normalized_coordinates=False,\n",
    "    max_boxes_to_draw=20,\n",
    "    min_score_thresh=.5,\n",
    "    agnostic_mode=False,\n",
    "    line_thickness=4,\n",
    "    groundtruth_box_visualization_color='black',\n",
    "    skip_scores=False,\n",
    "    skip_labels=False):\n",
    "  \"\"\"This is an adaptation of the function from the visualization_utils\n",
    "  named 'visualize_boxes_and_labels_on_image_array' but does not embed the\n",
    "  masks to the image directly but just extract the relative position of\n",
    "  objects within the view. This is to prevent sharing raw visual informa-\n",
    "  tion to intended third parties interested to know the detected objects.\n",
    "  \n",
    "  Overlay labeled boxes on an image with formatted scores and label names.\n",
    "\n",
    "  This function groups boxes that correspond to the same location\n",
    "  and creates a display string for each detection and overlays these\n",
    "  on the image. Note that this function modifies the image in place, and returns\n",
    "  that same image.\n",
    "\n",
    "  Args:\n",
    "    image: uint8 numpy array with shape (img_height, img_width, 3)\n",
    "    boxes: a numpy array of shape [N, 4]\n",
    "    classes: a numpy array of shape [N]. Note that class indices are 1-based,\n",
    "      and match the keys in the label map.\n",
    "    scores: a numpy array of shape [N] or None.  If scores=None, then\n",
    "      this function assumes that the boxes to be plotted are groundtruth\n",
    "      boxes and plot all boxes as black with no classes or scores.\n",
    "    category_index: a dict containing category dictionaries (each holding\n",
    "      category index `id` and category name `name`) keyed by category indices.\n",
    "    instance_masks: a numpy array of shape [N, image_height, image_width] with\n",
    "      values ranging between 0 and 1, can be None.\n",
    "    instance_boundaries: a numpy array of shape [N, image_height, image_width]\n",
    "      with values ranging between 0 and 1, can be None.\n",
    "    keypoints: a numpy array of shape [N, num_keypoints, 2], can\n",
    "      be None\n",
    "    use_normalized_coordinates: whether boxes is to be interpreted as\n",
    "      normalized coordinates or not.\n",
    "    max_boxes_to_draw: maximum number of boxes to visualize.  If None, draw\n",
    "      all boxes.\n",
    "    min_score_thresh: minimum score threshold for a box to be visualized\n",
    "    agnostic_mode: boolean (default: False) controlling whether to evaluate in\n",
    "      class-agnostic mode or not.  This mode will display scores but ignore\n",
    "      classes.\n",
    "    line_thickness: integer (default: 4) controlling line width of the boxes.\n",
    "    groundtruth_box_visualization_color: box color for visualizing groundtruth\n",
    "      boxes\n",
    "    skip_scores: whether to skip score when drawing a single detection\n",
    "    skip_labels: whether to skip label when drawing a single detection\n",
    "\n",
    "  Returns:\n",
    "    uint8 numpy array with shape (img_height, img_width, 3) with overlaid boxes.\n",
    "  \"\"\"\n",
    "  # Create a display string (and color) for every box location, group any boxes\n",
    "  # that correspond to the same location.\n",
    "  box_to_display_str_map = collections.defaultdict(list)\n",
    "  box_to_color_map = collections.defaultdict(str)\n",
    "  box_to_instance_masks_map = {}\n",
    "  box_to_instance_boundaries_map = {}\n",
    "  box_to_keypoints_map = collections.defaultdict(list)\n",
    "  if not max_boxes_to_draw:\n",
    "    max_boxes_to_draw = boxes.shape[0]\n",
    "  for i in range(min(max_boxes_to_draw, boxes.shape[0])):\n",
    "    if scores is None or scores[i] > min_score_thresh:\n",
    "      box = tuple(boxes[i].tolist())\n",
    "      if instance_masks is not None:\n",
    "        box_to_instance_masks_map[box] = instance_masks[i]\n",
    "      if instance_boundaries is not None:\n",
    "        box_to_instance_boundaries_map[box] = instance_boundaries[i]\n",
    "      if keypoints is not None:\n",
    "        box_to_keypoints_map[box].extend(keypoints[i])\n",
    "      if scores is None:\n",
    "        box_to_color_map[box] = groundtruth_box_visualization_color\n",
    "      else:\n",
    "        display_str = ''\n",
    "        if not skip_labels:\n",
    "          if not agnostic_mode:\n",
    "            if classes[i] in category_index.keys():\n",
    "              class_name = category_index[classes[i]]['name']\n",
    "            else:\n",
    "              class_name = 'N/A'\n",
    "            display_str = str(class_name)\n",
    "        if not skip_scores:\n",
    "          if not display_str:\n",
    "            display_str = '{}%'.format(int(100*scores[i]))\n",
    "          else:\n",
    "            display_str = '{}: {}%'.format(display_str, int(100*scores[i]))\n",
    "        box_to_display_str_map[box].append(display_str)\n",
    "  return box_to_display_str_map"
   ]
  },
  {
   "cell_type": "code",
   "execution_count": 8,
   "metadata": {
    "collapsed": true
   },
   "outputs": [],
   "source": [
    "def load_image_into_numpy_array(image):\n",
    "  (im_width, im_height) = image.size\n",
    "  return np.array(image.getdata()).reshape(\n",
    "      (im_height, im_width, 3)).astype(np.uint8)"
   ]
  },
  {
   "cell_type": "code",
   "execution_count": 9,
   "metadata": {
    "collapsed": true
   },
   "outputs": [],
   "source": [
    "def run_inference_for_single_image(image, graph):\n",
    "  with graph.as_default():\n",
    "    with tf.Session() as sess:\n",
    "      # Get handles to input and output tensors\n",
    "      ops = tf.get_default_graph().get_operations()\n",
    "      all_tensor_names = {output.name for op in ops for output in op.outputs}\n",
    "      tensor_dict = {}\n",
    "      for key in [\n",
    "          'num_detections', 'detection_boxes', 'detection_scores',\n",
    "          'detection_classes', 'detection_masks'\n",
    "      ]:\n",
    "        tensor_name = key + ':0'\n",
    "        if tensor_name in all_tensor_names:\n",
    "          tensor_dict[key] = tf.get_default_graph().get_tensor_by_name(\n",
    "              tensor_name)\n",
    "      if 'detection_masks' in tensor_dict:\n",
    "        # The following processing is only for single image\n",
    "        detection_boxes = tf.squeeze(tensor_dict['detection_boxes'], [0])\n",
    "        detection_masks = tf.squeeze(tensor_dict['detection_masks'], [0])\n",
    "        # Reframe is required to translate mask from box coordinates to image coordinates and fit the image size.\n",
    "        real_num_detection = tf.cast(tensor_dict['num_detections'][0], tf.int32)\n",
    "        detection_boxes = tf.slice(detection_boxes, [0, 0], [real_num_detection, -1])\n",
    "        detection_masks = tf.slice(detection_masks, [0, 0, 0], [real_num_detection, -1, -1])\n",
    "        detection_masks_reframed = utils_ops.reframe_box_masks_to_image_masks(\n",
    "            detection_masks, detection_boxes, image.shape[0], image.shape[1])\n",
    "        detection_masks_reframed = tf.cast(\n",
    "            tf.greater(detection_masks_reframed, 0.5), tf.uint8)\n",
    "        # Follow the convention by adding back the batch dimension\n",
    "        tensor_dict['detection_masks'] = tf.expand_dims(\n",
    "            detection_masks_reframed, 0)\n",
    "      image_tensor = tf.get_default_graph().get_tensor_by_name('image_tensor:0')\n",
    "\n",
    "      # Run inference\n",
    "      output_dict = sess.run(tensor_dict,\n",
    "                             feed_dict={image_tensor: np.expand_dims(image, 0)})\n",
    "\n",
    "      # all outputs are float32 numpy arrays, so convert types as appropriate\n",
    "      output_dict['num_detections'] = int(output_dict['num_detections'][0])\n",
    "      output_dict['detection_classes'] = output_dict[\n",
    "          'detection_classes'][0].astype(np.uint8)\n",
    "      output_dict['detection_boxes'] = output_dict['detection_boxes'][0]\n",
    "      output_dict['detection_scores'] = output_dict['detection_scores'][0]\n",
    "      if 'detection_masks' in output_dict:\n",
    "        output_dict['detection_masks'] = output_dict['detection_masks'][0]\n",
    "  return output_dict"
   ]
  },
  {
   "cell_type": "code",
   "execution_count": 10,
   "metadata": {
    "collapsed": true
   },
   "outputs": [],
   "source": [
    "def tf_process_img(payload):\n",
    "\n",
    "    # the array based representation of the image will be used later in order to prepare the\n",
    "    # result image with boxes and labels on it.\n",
    "    t0 = time.clock()\n",
    "    \n",
    "    image = Image.open(BytesIO(payload))\n",
    "    image_np = load_image_into_numpy_array(image)\n",
    "    \n",
    "    #image_np = np.array(payload)\n",
    "    #image_np_expanded = np.expand_dims(image_np, axis=0)\n",
    "    \n",
    "    # Actual detection.\n",
    "    t0_5 = time.clock()\n",
    "    output_dict = run_inference_for_single_image(image_np, detection_graph)\n",
    "    # Visualization of the results of a detection.\n",
    "    results = get_object_locations(\n",
    "        output_dict['detection_boxes'],\n",
    "        output_dict['detection_classes'],\n",
    "        output_dict['detection_scores'],\n",
    "        category_index,\n",
    "        instance_masks=output_dict.get('detection_masks'),\n",
    "        min_score_thresh = .6,\n",
    "        use_normalized_coordinates=True,\n",
    "        line_thickness=8)\n",
    "\n",
    "    t1 = time.clock()\n",
    "    \n",
    "    tf_detect = t0_5 - t0\n",
    "    tf_io = t1-t0\n",
    "    #print(\"Time to TF detect:\", t0_5-t0, \", overall time to TF detect\", t1-t0)\n",
    "\n",
    "    return results, tf_detect, tf_io"
   ]
  },
  {
   "cell_type": "code",
   "execution_count": 11,
   "metadata": {},
   "outputs": [],
   "source": [
    "# In[2]:\n",
    "\n",
    "def cv_process_img(payload):\n",
    "    \n",
    "    nparr = np.fromstring(payload, np.uint8)\n",
    "    image = cv2.imdecode(nparr, cv2.IMREAD_COLOR)\n",
    "            \n",
    "    result = []    \n",
    "    MIN_MATCH_COUNT = math.ceil(30/(max(largest)/max(image.shape)))*10 # very relaxed matching at 10 matches minimum\n",
    "    #print(\"MIN_MATCH_COUNT:\", MIN_MATCH_COUNT)\n",
    "    #print(\"Image size:\",image.shape)\n",
    "    query_img = image\n",
    "    \n",
    "    t0 = time.clock()\n",
    "\n",
    "    if \"ORB\" in detection_mode:\n",
    "        \n",
    "        rKP, rDES = roKP, roDES\n",
    "        qKP, qDES = orbDetector.detectAndCompute(query_img, None)\n",
    "        \n",
    "        try:\n",
    "            good = orbMatcher.match(rDES,qDESA)\n",
    "        except:\n",
    "            state = \"Matching Error: not enough query points.\"\n",
    "            result.append(state)\n",
    "            result.append(query_img)\n",
    "            result.append(np.array([]))\n",
    "            t1 = time.clock()\n",
    "            cv_time = t1-t0 #print(state,\"Time to process:\", t1-t0)\n",
    "            result.append((t1-t0))\n",
    "            return result \n",
    "        \n",
    "    else:\n",
    "        # Default to SIFT if non-TF\n",
    "        \n",
    "        rKP, rDES = rsKP, rsDES\n",
    "        qKP, qDES = siftDetector.detectAndCompute(query_img, None)\n",
    "        \n",
    "        try:\n",
    "            matches = siftMatcher.knnMatch(rDES,qDES,k=2)\n",
    "        except:\n",
    "            state = \"Matching Error: not enough query points.\"\n",
    "            result.append(state)\n",
    "            result.append(query_img)\n",
    "            result.append(np.array([]))\n",
    "            t1 = time.clock()\n",
    "            cv_time = t1-t0 #print(state,\"Time to process:\", t1-t0)\n",
    "            result.append((t1-t0))\n",
    "            return result    \n",
    "\n",
    "        # store all the good matches as per Lowe's ratio test.\n",
    "        good = []\n",
    "        distances = []\n",
    "\n",
    "        for m,n in matches:\n",
    "            distances.append(m.distance)\n",
    "            if m.distance < 0.75*n.distance:\n",
    "                good.append(m)\n",
    "                \n",
    "    good = sorted(good, key = lambda x:x.distance)\n",
    "\n",
    "    if len(good)>MIN_MATCH_COUNT:\n",
    "        state = \"Enough matches: object is propbably in view.\"\n",
    "        # extract location of points in both images\n",
    "        src_pts = np.float32([ rKP[m.queryIdx].pt for m in good ]).reshape(-1,1,2)\n",
    "        dst_pts = np.float32([ qKP[m.trainIdx].pt for m in good ]).reshape(-1,1,2)\n",
    "\n",
    "        # find the perspective transform\n",
    "        M, mask = cv2.findHomography(src_pts, dst_pts, cv2.RANSAC,5.0)\n",
    "        matchesMask = mask.ravel().tolist()\n",
    "\n",
    "        # get the transform points in the (captured) query image\n",
    "        h,w = ref_img.shape\n",
    "        pts = np.float32([ [0,0],[0,h-1],[w-1,h-1],[w-1,0] ]).reshape(-1,1,2)\n",
    "\n",
    "        try:\n",
    "            dst = cv2.perspectiveTransform(pts,M)\n",
    "            # draw the transformed image\n",
    "            result.append(state)\n",
    "            result.append(cv2.drawContours(query_img,[np.int32(dst)],-1,(255,0,0),6))\n",
    "            result.append(dst)\n",
    "        except:\n",
    "            state = \"Error getting perspective transform.\"\n",
    "            result.append(state)\n",
    "            result.append(query_img)\n",
    "            result.append(np.array([]))\n",
    "        finally:\n",
    "            t1 = time.clock()\n",
    "            cv_time = t1-t0 #print(state,\"Time to CV process:\", t1-t0)\n",
    "            result.append((t1-t0))\n",
    "\n",
    "    else:\n",
    "        state = \"Not enough matches:\"+ str(len(good))\n",
    "        result.append(state)\n",
    "        result.append(query_img)\n",
    "        result.append(np.array([]))\n",
    "        t1 = time.clock()\n",
    "        cv_time = t1-t0 #print(state,\"Time to CV process:\", t1-t0)\n",
    "        result.append((t1-t0))\n",
    "\n",
    "    return result, cv_time"
   ]
  },
  {
   "cell_type": "code",
   "execution_count": 12,
   "metadata": {
    "collapsed": true
   },
   "outputs": [],
   "source": [
    "def resultsToTree(tf_result, cv_result):\n",
    "    mr_objects = Element(\"mr_objects\")\n",
    "\n",
    "    if tf_result:\n",
    "        # Adding the results from the TF operation to the XmlTree\n",
    "        #print(len(tf_result),\"TF object/s\")\n",
    "        for box, name in tf_result.items():\n",
    "            ymin, xmin, ymax, xmax = box\n",
    "            object = SubElement(mr_objects,\"object\")\n",
    "            SubElement(object, \"type\").text = \"TF\"\n",
    "            SubElement(object, \"name\").text = str(name)\n",
    "            SubElement(object, \"ymin\").text = str(ymin)\n",
    "            SubElement(object, \"xmin\").text = str(xmin)\n",
    "            SubElement(object, \"ymax\").text = str(ymax)\n",
    "            SubElement(object, \"xmax\").text = str(xmax)\n",
    "  \n",
    "    if cv_result:\n",
    "        cv_result_list = []\n",
    "        for point in cv_result:\n",
    "            cv_result_list.append(point[0])\n",
    "        cv_exes = sorted(cv_result_list, key=lambda x: x[0])\n",
    "        cv_eyes = sorted(cv_result_list, key=lambda x: x[1])\n",
    "        # Adding the cv_results from the CV detection to the XmlTree\n",
    "        object = SubElement(mr_objects,\"object\")\n",
    "        SubElement(object, \"type\").text = \"CV\"\n",
    "        SubElement(object, \"name\").text = \"cv\"\n",
    "        SubElement(object, \"ymin\").text = str(cv_result_list[0][1]/300)\n",
    "        SubElement(object, \"xmin\").text = str(cv_result_list[0][0]/300)\n",
    "        SubElement(object, \"ymax\").text = str(cv_result_list[3][1]/300)\n",
    "        SubElement(object, \"xmax\").text = str(cv_result_list[3][0]/300)\n",
    "\n",
    "    tree = ElementTree(mr_objects)\n",
    "    \n",
    "    return tree"
   ]
  },
  {
   "cell_type": "code",
   "execution_count": 13,
   "metadata": {
    "collapsed": true
   },
   "outputs": [],
   "source": [
    "# In[3]:\n",
    "\n",
    "# HTTPRequestHandler class\n",
    "class testHTTPServer_RequestHandler(BaseHTTPRequestHandler):\n",
    "\n",
    "  # GET\n",
    "    def do_GET(self):\n",
    "        # Send response status code\n",
    "        self.send_response(200)\n",
    "\n",
    "        # Send headers\n",
    "        self.send_header('Content-type','text/html')\n",
    "        self.end_headers()\n",
    "\n",
    "        # Send message back to client\n",
    "        message = \"Hello world!\"\n",
    "        # Write content as utf-8 data\n",
    "        self.wfile.write(bytes(message, \"utf8\"))\n",
    "        return\n",
    "    \n",
    "    \n",
    "    def do_POST(self):\n",
    "        #print( \"incoming http: \", self.path )\n",
    "        t0 = time.clock()\n",
    "        tf_detect = 0\n",
    "        tf_io = 0\n",
    "        cv_time = 0\n",
    "\n",
    "        # Gets the parameters of the data\n",
    "        detection_mode = self.headers['Detection-mode']\n",
    "        content_length = int(self.headers['Content-Length'])\n",
    "        content_type = self.headers['Content-type']\n",
    "                \n",
    "        if \"image\" in content_type:\n",
    "            \n",
    "            # Gets the data itself. Also, we over-catch by 16 bytes.\n",
    "            post_data = self.rfile.read(content_length+16)\n",
    "\n",
    "            #print(\"Length of content:\", len(post_data))\n",
    "            #print(\"Before pruning\\n\", post_data)\n",
    "\n",
    "            # We remove the first set of bytes up until the first\n",
    "            # carraige return and newline.\n",
    "            for b in np.arange(len(post_data)):\n",
    "               # Checking where the first newline is\n",
    "                if post_data[b] == 13:\n",
    "                    post_data = post_data[b+2:]\n",
    "                    break\n",
    "                else:\n",
    "                    continue\n",
    "\n",
    "            #stream = BytesIO(post_data)\n",
    "            #tmp = 'tmp.jpg'\n",
    "            #with open('tmp.jpg','wb') as out:\n",
    "            #    out.write(post_data)\n",
    "\n",
    "            #out.close()\n",
    "            # Converting the byte buffer to an numpy array for opencv and tf\n",
    "            #nparr = np.fromstring(post_data, np.uint8)\n",
    "            #img_np = cv2.imdecode(nparr, cv2.IMREAD_COLOR)\n",
    "\n",
    "            try:\n",
    "                if \"TF\" in detection_mode:\n",
    "                    cv_result = []\n",
    "                    cv_time = 0\n",
    "                    tf_result, tf_detect, tf_io = tf_process_img(post_data)#post_data)#\n",
    "                else:\n",
    "                    cv_result, cv_time = cv_process_img(post_data)\n",
    "                    tf_result = []\n",
    "                    tf_detect = 0\n",
    "                    tf_io = 0\n",
    "                #cv_result, cv_time = cv_process_img(post_data)\n",
    "                #tf_result, tf_detect, tf_io = tf_process_img(post_data)#post_data)#\n",
    "\n",
    "                t1 = time.clock()\n",
    "                resultTree = resultsToTree(tf_result,cv_result[2].tolist())\n",
    "                resultTree.write(\"result.xml\")\n",
    "\n",
    "                # Send message back to client\n",
    "                # Write content as utf-8 data\n",
    "                #print(len(final_img))\n",
    "                #if len(final_img)>3:\n",
    "                #    message = bytes(str(cv_result[3])+ \"\\n\" + np.array2string(final_img[2],precision=0,separator=','), \"utf8\")\n",
    "                #    print(str(message))\n",
    "                #else:\n",
    "                #    message = bytes(str(cv_result[3])+ \"\\n\" + cv_result[0], \"utf8\")\n",
    "\n",
    "                t2 = time.clock()\n",
    "                result = 'result.xml'\n",
    "                payload = open(result,'rb')\n",
    "\n",
    "                # Send response\n",
    "                self.send_response(200)\n",
    "                # Send headers\n",
    "                self.send_header('Content-type','text/xml')\n",
    "                self.send_header('Content-length',str(os.path.getsize(result)))\n",
    "                self.end_headers()\n",
    "\n",
    "                self.wfile.write(payload.readline())\n",
    "                #self.wfile.write(bytes(payload, \"utf8\"))\n",
    "                payload.close()\n",
    "            except Exception as e:\n",
    "                t1 = time.clock()\n",
    "                #print(e)\n",
    "                t2 = time.clock()\n",
    "                self.send_response(200)\n",
    "                message = 'Detection Error'\n",
    "                self.send_header('Content-type','text/html')\n",
    "                self.end_headers()\n",
    "                self.wfile.write(bytes(message, \"utf8\"))\n",
    "            finally:\n",
    "                t3 = time.clock()                \n",
    "                print(detection_mode,\":\",(cv_time*1000), \",\", (tf_detect*1000),\",\",(tf_io*1000),\",\", (t1-t0)*1000,\",\",(t3-t1)*1000,\",\",(t3-t0)*1000)\n",
    "                #print(\"XML/Tree operation:\",t2-t1)\n",
    "                #print(\"Sending output\", t3-t2)\n",
    "                #print(\"Overall time:\",t3-t0)            \n",
    "\n",
    "        else:\n",
    "            print(\"Content-type is \", content_type,\". Should be image.\")\n",
    "            self.send_response(200)\n",
    "            self.send_header('Content-type','text/html')\n",
    "            self.end_headers()\n",
    "\n",
    "            # Send message back to client\n",
    "            message = \"Object not detected.\"\n",
    "            # Write content as utf-8 data\n",
    "            self.wfile.write(bytes(message, \"utf8\"))\n",
    "\n",
    "        self.close_connection\n",
    "        return\n",
    "        #client.close()"
   ]
  },
  {
   "cell_type": "code",
   "execution_count": null,
   "metadata": {
    "collapsed": true
   },
   "outputs": [],
   "source": [
    "# In[4]:\n",
    "\n",
    "def run():\n",
    "    print('starting server...')\n",
    " \n",
    "  # Server settings\n",
    "  # Choose port 8080, for port 80, which is normally used for a http server, you need root access\n",
    "    server_address = ('0.0.0.0', 8081)\n",
    "    httpd = HTTPServer(server_address, testHTTPServer_RequestHandler)\n",
    "    print('running server...')\n",
    "    print(\"CV_Time, TF_Detect, TF_IO, Overall_Detection, XML_Output, Overall (ms)\")\n",
    "    httpd.serve_forever()"
   ]
  },
  {
   "cell_type": "code",
   "execution_count": null,
   "metadata": {
    "scrolled": true
   },
   "outputs": [
    {
     "name": "stdout",
     "output_type": "stream",
     "text": [
      "starting server...\n",
      "running server...\n",
      "CV_Time, TF_Detect, TF_IO, Overall_Detection, XML_Output, Overall (ms)\n"
     ]
    },
    {
     "name": "stderr",
     "output_type": "stream",
     "text": [
      "150.229.118.136 - - [05/Jul/2018 16:03:18] \"POST / HTTP/1.1\" 200 -\n",
      "150.229.118.136 - - [05/Jul/2018 16:03:18] \"POST / HTTP/1.1\" 200 -\n",
      "150.229.118.136 - - [05/Jul/2018 16:03:18] \"POST / HTTP/1.1\" 200 -\n"
     ]
    },
    {
     "name": "stdout",
     "output_type": "stream",
     "text": [
      "SIFT : 42.739999999999334 , 0 , 0 , 49.66299999999979 , 1.606999999999914 , 51.269999999999705\n",
      "SIFT : 32.61599999999998 , 0 , 0 , 38.98000000000046 , 1.2289999999994805 , 40.20899999999994\n",
      "SIFT : 61.2440000000003 , 0 , 0 , 66.33099999999992 , 1.2219999999993902 , 67.55299999999932\n"
     ]
    },
    {
     "name": "stderr",
     "output_type": "stream",
     "text": [
      "150.229.118.136 - - [05/Jul/2018 16:03:18] \"POST / HTTP/1.1\" 200 -\n",
      "150.229.118.136 - - [05/Jul/2018 16:03:18] \"POST / HTTP/1.1\" 200 -\n"
     ]
    },
    {
     "name": "stdout",
     "output_type": "stream",
     "text": [
      "SIFT : 34.98900000000038 , 0 , 0 , 41.217999999999755 , 1.3580000000006365 , 42.57600000000039\n",
      "SIFT : 36.275999999999975 , 0 , 0 , 42.444999999999844 , 1.1900000000002464 , 43.63500000000009\n"
     ]
    },
    {
     "name": "stderr",
     "output_type": "stream",
     "text": [
      "150.229.118.136 - - [05/Jul/2018 16:03:18] \"POST / HTTP/1.1\" 200 -\n",
      "150.229.118.136 - - [05/Jul/2018 16:03:19] \"POST / HTTP/1.1\" 200 -\n"
     ]
    },
    {
     "name": "stdout",
     "output_type": "stream",
     "text": [
      "SIFT : 45.26299999999939 , 0 , 0 , 50.78099999999974 , 2.136000000000138 , 52.91699999999988\n",
      "SIFT : 33.86099999999992 , 0 , 0 , 39.985999999999855 , 1.0849999999997806 , 41.070999999999636\n"
     ]
    },
    {
     "name": "stderr",
     "output_type": "stream",
     "text": [
      "150.229.118.136 - - [05/Jul/2018 16:03:19] \"POST / HTTP/1.1\" 200 -\n",
      "150.229.118.136 - - [05/Jul/2018 16:03:19] \"POST / HTTP/1.1\" 200 -\n"
     ]
    },
    {
     "name": "stdout",
     "output_type": "stream",
     "text": [
      "SIFT : 34.30800000000023 , 0 , 0 , 39.90700000000036 , 1.0759999999994108 , 40.98299999999977\n",
      "SIFT : 91.91700000000047 , 0 , 0 , 95.92899999999993 , 1.1899999999993582 , 97.11899999999929\n"
     ]
    },
    {
     "name": "stderr",
     "output_type": "stream",
     "text": [
      "150.229.118.136 - - [05/Jul/2018 16:03:19] \"POST / HTTP/1.1\" 200 -\n",
      "150.229.118.136 - - [05/Jul/2018 16:03:19] \"POST / HTTP/1.1\" 200 -\n",
      "150.229.118.136 - - [05/Jul/2018 16:03:19] \"POST / HTTP/1.1\" 200 -\n"
     ]
    },
    {
     "name": "stdout",
     "output_type": "stream",
     "text": [
      "SIFT : 34.03199999999984 , 0 , 0 , 41.30099999999981 , 1.2010000000000076 , 42.50199999999982\n",
      "SIFT : 38.80000000000017 , 0 , 0 , 44.11599999999982 , 2.080000000000304 , 46.196000000000126\n",
      "SIFT : 35.71599999999986 , 0 , 0 ,"
     ]
    },
    {
     "name": "stderr",
     "output_type": "stream",
     "text": [
      "150.229.118.136 - - [05/Jul/2018 16:03:19] \"POST / HTTP/1.1\" 200 -\n",
      "150.229.118.136 - - [05/Jul/2018 16:03:19] \"POST / HTTP/1.1\" 200 -\n"
     ]
    },
    {
     "name": "stdout",
     "output_type": "stream",
     "text": [
      " 41.93399999999947 , 1.0229999999999961 , 42.95699999999947\n",
      "SIFT : 35.12200000000032 , 0 , 0 , 41.239000000000026 , 2.3770000000000735 , 43.6160000000001\n",
      "SIFT : 34.20400000000079 , 0 , 0 , 39.90199999999966 , 1.2620000000005405 , 41.1640000000002\n"
     ]
    },
    {
     "name": "stderr",
     "output_type": "stream",
     "text": [
      "150.229.118.136 - - [05/Jul/2018 16:03:19] \"POST / HTTP/1.1\" 200 -\n",
      "150.229.118.136 - - [05/Jul/2018 16:03:20] \"POST / HTTP/1.1\" 200 -\n",
      "150.229.118.136 - - [05/Jul/2018 16:03:20] \"POST / HTTP/1.1\" 200 -\n"
     ]
    },
    {
     "name": "stdout",
     "output_type": "stream",
     "text": [
      "SIFT : 49.709 , 0 , 0 , 54.694999999999716 , 1.636000000000415 , 56.33100000000013\n",
      "SIFT : 33.76200000000029 , 0 , 0 , 39.58399999999962 , 1.2670000000003512 , 40.85099999999997\n",
      "SIFT : 38.268999999999664 , 0 , 0 , 43.0710000000003 , 0.9529999999999816 , 44.024000000000285\n"
     ]
    },
    {
     "name": "stderr",
     "output_type": "stream",
     "text": [
      "150.229.118.136 - - [05/Jul/2018 16:03:20] \"POST / HTTP/1.1\" 200 -\n",
      "150.229.118.136 - - [05/Jul/2018 16:03:20] \"POST / HTTP/1.1\" 200 -\n",
      "150.229.118.136 - - [05/Jul/2018 16:03:20] \"POST / HTTP/1.1\" 200 -\n"
     ]
    },
    {
     "name": "stdout",
     "output_type": "stream",
     "text": [
      "SIFT : 32.69000000000055 , 0 , 0 , 38.110999999999784 , 1.2780000000001124 , 39.388999999999896\n",
      "SIFT : 34.571999999999825 , 0 , 0 , 39.217999999999975 , 0.7870000000007593 , 40.005000000000734\n",
      "SIFT : 41.15400000000058 , 0 , 0 , 46.643999999999686 , 2.040000000000042 , 48.68399999999973\n"
     ]
    },
    {
     "name": "stderr",
     "output_type": "stream",
     "text": [
      "150.229.118.136 - - [05/Jul/2018 16:03:20] \"POST / HTTP/1.1\" 200 -\n",
      "150.229.118.136 - - [05/Jul/2018 16:03:20] \"POST / HTTP/1.1\" 200 -\n"
     ]
    },
    {
     "name": "stdout",
     "output_type": "stream",
     "text": [
      "SIFT : 33.54800000000058 , 0 , 0 , 38.20299999999932 , 1.4250000000002316 , 39.62799999999955\n",
      "SIFT : 34.53399999999984 , 0 , 0 , 40.6809999999993 , 1.1369999999999436 , 41.817999999999245\n"
     ]
    },
    {
     "name": "stderr",
     "output_type": "stream",
     "text": [
      "150.229.118.136 - - [05/Jul/2018 16:03:20] \"POST / HTTP/1.1\" 200 -\n",
      "150.229.118.136 - - [05/Jul/2018 16:03:20] \"POST / HTTP/1.1\" 200 -\n"
     ]
    },
    {
     "name": "stdout",
     "output_type": "stream",
     "text": [
      "SIFT : 32.395000000000174 , 0 , 0 , 37.37299999999966 , 1.292000000000293 , 38.66499999999995\n",
      "SIFT : 33.35099999999969 , 0 , 0 , 40.34799999999983 , 1.3250000000004647 , 41.67300000000029\n"
     ]
    },
    {
     "name": "stderr",
     "output_type": "stream",
     "text": [
      "150.229.118.136 - - [05/Jul/2018 16:03:21] \"POST / HTTP/1.1\" 200 -\n",
      "150.229.118.136 - - [05/Jul/2018 16:03:21] \"POST / HTTP/1.1\" 200 -\n"
     ]
    },
    {
     "name": "stdout",
     "output_type": "stream",
     "text": [
      "SIFT : 36.87600000000035 , 0 , 0 , 43.04400000000008 , 1.1959999999993087 , 44.23999999999939\n",
      "SIFT : 46.964000000000006 , 0 , 0 , 52.690000000000126 , 1.4560000000001239 , 54.14600000000025\n"
     ]
    },
    {
     "name": "stderr",
     "output_type": "stream",
     "text": [
      "150.229.118.136 - - [05/Jul/2018 16:03:21] \"POST / HTTP/1.1\" 200 -\n",
      "150.229.118.136 - - [05/Jul/2018 16:03:21] \"POST / HTTP/1.1\" 200 -\n",
      "150.229.118.136 - - [05/Jul/2018 16:03:21] \"POST / HTTP/1.1\" 200 -\n"
     ]
    },
    {
     "name": "stdout",
     "output_type": "stream",
     "text": [
      "SIFT : 38.742999999999306 , 0 , 0 , 45.48799999999975 , 2.0380000000006504 , 47.5260000000004\n",
      "SIFT : 42.37299999999955 , 0 , 0 , 49.817 , 1.0660000000006775 , 50.88300000000068\n",
      "SIFT : 34.83000000000036 , 0 , 0 , 41.981999999999964 ,"
     ]
    },
    {
     "name": "stderr",
     "output_type": "stream",
     "text": [
      "150.229.118.136 - - [05/Jul/2018 16:03:21] \"POST / HTTP/1.1\" 200 -\n",
      "150.229.118.136 - - [05/Jul/2018 16:03:21] \"POST / HTTP/1.1\" 200 -\n"
     ]
    },
    {
     "name": "stdout",
     "output_type": "stream",
     "text": [
      " 2.3119999999998697 , 44.29399999999983\n",
      "SIFT : 32.35600000000005 , 0 , 0 , 37.848000000000326 , 1.324000000000325 , 39.17200000000065\n",
      "SIFT : 36.73200000000065 , 0 , 0 , 42.07400000000039 , 1.8620000000000303 , 43.93600000000042\n"
     ]
    },
    {
     "name": "stderr",
     "output_type": "stream",
     "text": [
      "150.229.118.136 - - [05/Jul/2018 16:03:21] \"POST / HTTP/1.1\" 200 -\n",
      "150.229.118.136 - - [05/Jul/2018 16:03:22] \"POST / HTTP/1.1\" 200 -\n"
     ]
    },
    {
     "name": "stdout",
     "output_type": "stream",
     "text": [
      "SIFT : 30.438000000000187 , 0 , 0 , 35.522000000000276 , 1.4239999999992037 , 36.94599999999948\n",
      "SIFT : 80.05299999999949 , 0 , 0 , 85.63799999999944 , 1.9879999999998788 , 87.62599999999932\n"
     ]
    },
    {
     "name": "stderr",
     "output_type": "stream",
     "text": [
      "150.229.118.136 - - [05/Jul/2018 16:03:22] \"POST / HTTP/1.1\" 200 -\n",
      "150.229.118.136 - - [05/Jul/2018 16:03:22] \"POST / HTTP/1.1\" 200 -\n"
     ]
    },
    {
     "name": "stdout",
     "output_type": "stream",
     "text": [
      "SIFT : 40.5660000000001 , 0 , 0 , 48.45699999999997 , 1.8000000000002458 , 50.25700000000022\n",
      "SIFT : 47.847999999999224 , 0 , 0 , 53.00599999999989 , 1.2119999999997688 , 54.217999999999655\n"
     ]
    },
    {
     "name": "stderr",
     "output_type": "stream",
     "text": [
      "150.229.118.136 - - [05/Jul/2018 16:03:22] \"POST / HTTP/1.1\" 200 -\n",
      "150.229.118.136 - - [05/Jul/2018 16:03:22] \"POST / HTTP/1.1\" 200 -\n"
     ]
    },
    {
     "name": "stdout",
     "output_type": "stream",
     "text": [
      "SIFT : 41.87799999999964 , 0 , 0 , 47.84499999999969 , 1.4039999999999608 , 49.248999999999654\n",
      "SIFT : 37.193999999999505 , 0 , 0 , 42.19099999999987 , 1.036000000000037 , 43.226999999999904\n"
     ]
    },
    {
     "name": "stderr",
     "output_type": "stream",
     "text": [
      "150.229.118.136 - - [05/Jul/2018 16:03:22] \"POST / HTTP/1.1\" 200 -\n",
      "150.229.118.136 - - [05/Jul/2018 16:03:22] \"POST / HTTP/1.1\" 200 -\n",
      "150.229.118.136 - - [05/Jul/2018 16:03:22] \"POST / HTTP/1.1\" 200 -\n"
     ]
    },
    {
     "name": "stdout",
     "output_type": "stream",
     "text": [
      "SIFT : 45.265999999999806 , 0 , 0 , 50.91399999999968 , 1.2990000000003832 , 52.213000000000065\n",
      "SIFT : 43.31499999999977 , 0 , 0 , 48.029999999999795 , 2.1180000000002863 , 50.14800000000008\n",
      "SIFT : 32.89999999999971 , 0 , 0 , 39.64099999999959 , 1.0289999999999466 , 40.66999999999954\n"
     ]
    },
    {
     "name": "stderr",
     "output_type": "stream",
     "text": [
      "150.229.118.136 - - [05/Jul/2018 16:03:23] \"POST / HTTP/1.1\" 200 -\n",
      "150.229.118.136 - - [05/Jul/2018 16:03:23] \"POST / HTTP/1.1\" 200 -\n",
      "150.229.118.136 - - [05/Jul/2018 16:03:23] \"POST / HTTP/1.1\" 200 -\n"
     ]
    },
    {
     "name": "stdout",
     "output_type": "stream",
     "text": [
      "SIFT : 37.12199999999921 , 0 , 0 , 41.64399999999979 , 1.2790000000002522 , 42.923000000000044\n",
      "SIFT : 33.673000000000286 , 0 , 0 , 39.79399999999966 , 1.114999999999533 , 40.908999999999196\n",
      "SIFT : 36.3560000000005 , 0 , 0"
     ]
    },
    {
     "name": "stderr",
     "output_type": "stream",
     "text": [
      "150.229.118.136 - - [05/Jul/2018 16:03:23] \"POST / HTTP/1.1\" 200 -\n",
      "150.229.118.136 - - [05/Jul/2018 16:03:23] \"POST / HTTP/1.1\" 200 -\n"
     ]
    },
    {
     "name": "stdout",
     "output_type": "stream",
     "text": [
      " , 41.00899999999985 , 1.0390000000004562 , 42.04800000000031\n",
      "SIFT : 35.2440000000005 , 0 , 0 , 41.40599999999939 , 1.1060000000000514 , 42.51199999999944\n",
      "SIFT : 30.82900000000066 , 0 , 0 , 37.75700000000004 , 0.9969999999999146 , 38.753999999999955\n"
     ]
    },
    {
     "name": "stderr",
     "output_type": "stream",
     "text": [
      "150.229.118.136 - - [05/Jul/2018 16:03:23] \"POST / HTTP/1.1\" 200 -\n",
      "150.229.118.136 - - [05/Jul/2018 16:03:23] \"POST / HTTP/1.1\" 200 -\n",
      "150.229.118.136 - - [05/Jul/2018 16:03:23] \"POST / HTTP/1.1\" 200 -\n"
     ]
    },
    {
     "name": "stdout",
     "output_type": "stream",
     "text": [
      "SIFT : 47.34299999999969 , 0 , 0 , 53.77999999999972 , 2.1380000000004173 , 55.918000000000134\n",
      "SIFT : 37.819999999999965 , 0 , 0 , 44.43000000000019 , 1.1260000000001824 , 45.556000000000374\n",
      "SIFT : 37.70499999999988 , 0 , 0 , 43.883000000000116 , 1.1479999999997048 , 45.03099999999982\n"
     ]
    },
    {
     "name": "stderr",
     "output_type": "stream",
     "text": [
      "150.229.118.136 - - [05/Jul/2018 16:03:23] \"POST / HTTP/1.1\" 200 -\n",
      "150.229.118.136 - - [05/Jul/2018 16:03:23] \"POST / HTTP/1.1\" 200 -\n",
      "150.229.118.136 - - [05/Jul/2018 16:03:24] \"POST / HTTP/1.1\" 200 -\n"
     ]
    },
    {
     "name": "stdout",
     "output_type": "stream",
     "text": [
      "SIFT : 30.733000000000565 , 0 , 0 , 37.6000000000003 , 1.1510000000001241 , 38.751000000000424\n",
      "SIFT : 31.920999999999644 , 0 , 0 , 38.95300000000024 , 1.0009999999995856 , 39.95399999999982\n",
      "SIFT : 32.27799999999981 , 0 , 0 , 37.63900000000042 , 0.9649999999998826 , 38.604000000000305\n"
     ]
    },
    {
     "name": "stderr",
     "output_type": "stream",
     "text": [
      "150.229.118.136 - - [05/Jul/2018 16:03:24] \"POST / HTTP/1.1\" 200 -\n",
      "150.229.118.136 - - [05/Jul/2018 16:03:24] \"POST / HTTP/1.1\" 200 -\n",
      "150.229.118.136 - - [05/Jul/2018 16:03:24] \"POST / HTTP/1.1\" 200 -\n"
     ]
    },
    {
     "name": "stdout",
     "output_type": "stream",
     "text": [
      "SIFT : 32.00700000000012 , 0 , 0 , 37.804999999999644 , 1.184000000000296 , 38.98899999999994\n",
      "SIFT : 37.87299999999938 , 0 , 0 , 44.61000000000048 , 1.9409999999995264 , 46.55100000000001\n",
      "SIFT : 32.82499999999988 , 0 , 0 , 38.63899999999987 , 1.076000000000299 , 39.71500000000017\n"
     ]
    },
    {
     "name": "stderr",
     "output_type": "stream",
     "text": [
      "150.229.118.136 - - [05/Jul/2018 16:03:24] \"POST / HTTP/1.1\" 200 -\n",
      "150.229.118.136 - - [05/Jul/2018 16:03:24] \"POST / HTTP/1.1\" 200 -\n"
     ]
    },
    {
     "name": "stdout",
     "output_type": "stream",
     "text": [
      "SIFT : 31.934000000000573 , 0 , 0 , 38.304000000000116 , 1.218999999999859 , 39.522999999999975\n",
      "SIFT : 35.2920000000001 , 0 , 0 , 41.28299999999996 , 1.0950000000002902 , 42.37800000000025\n"
     ]
    },
    {
     "name": "stderr",
     "output_type": "stream",
     "text": [
      "150.229.118.136 - - [05/Jul/2018 16:03:24] \"POST / HTTP/1.1\" 200 -\n",
      "150.229.118.136 - - [05/Jul/2018 16:03:24] \"POST / HTTP/1.1\" 200 -\n",
      "150.229.118.136 - - [05/Jul/2018 16:03:24] \"POST / HTTP/1.1\" 200 -\n"
     ]
    },
    {
     "name": "stdout",
     "output_type": "stream",
     "text": [
      "SIFT : 33.964000000000105 , 0 , 0 , 40.005999999999986 , 1.3199999999997658 , 41.32599999999975\n",
      "SIFT : 33.92600000000012 , 0 , 0 , 41.41700000000004 , 1.032000000000366 , 42.4490000000004\n",
      "SIFT : 36.9489999999999 , 0 , 0 , 43.1619999999997 , 1.0290000000008348 , 44.191000000000535\n"
     ]
    },
    {
     "name": "stderr",
     "output_type": "stream",
     "text": [
      "150.229.118.136 - - [05/Jul/2018 16:03:24] \"POST / HTTP/1.1\" 200 -\n",
      "150.229.118.136 - - [05/Jul/2018 16:03:24] \"POST / HTTP/1.1\" 200 -\n"
     ]
    },
    {
     "name": "stdout",
     "output_type": "stream",
     "text": [
      "SIFT : 35.815999999999626 , 0 , 0 , 42.4490000000004 , 1.9960000000001088 , 44.44500000000051\n",
      "SIFT : 35.44899999999984 , 0 , 0 , 41.534999999999656 , 0.9850000000000136 , 42.51999999999967\n"
     ]
    },
    {
     "name": "stderr",
     "output_type": "stream",
     "text": [
      "150.229.118.136 - - [05/Jul/2018 16:03:25] \"POST / HTTP/1.1\" 200 -\n",
      "150.229.118.136 - - [05/Jul/2018 16:03:25] \"POST / HTTP/1.1\" 200 -\n",
      "150.229.118.136 - - [05/Jul/2018 16:03:25] \"POST / HTTP/1.1\" 200 -\n"
     ]
    },
    {
     "name": "stdout",
     "output_type": "stream",
     "text": [
      "SIFT : 34.02700000000003 , 0 , 0 , 40.70600000000013 , 1.084000000000529 , 41.79000000000066\n",
      "SIFT : 33.992000000000466 , 0 , 0 , 40.615999999999985 , 1.0059999999993963 , 41.62199999999938\n",
      "SIFT : 33.646000000000065 , 0 , 0 , 39.651999999999354 , 2.079000000000164 , 41.73099999999952\n"
     ]
    },
    {
     "name": "stderr",
     "output_type": "stream",
     "text": [
      "150.229.118.136 - - [05/Jul/2018 16:03:25] \"POST / HTTP/1.1\" 200 -\n",
      "150.229.118.136 - - [05/Jul/2018 16:03:25] \"POST / HTTP/1.1\" 200 -\n",
      "150.229.118.136 - - [05/Jul/2018 16:03:25] \"POST / HTTP/1.1\" 200 -\n"
     ]
    },
    {
     "name": "stdout",
     "output_type": "stream",
     "text": [
      "SIFT : 34.68500000000141 , 0 , 0 , 39.952999999998795 , 1.356000000001245 , 41.30900000000004\n",
      "SIFT : 30.91499999999847 , 0 , 0 , 35.477999999999454 , 0.932000000000599 , 36.41000000000005\n",
      "SIFT : 35.77200000000147 , 0 , 0 , 43.07400000000072 , 2.523000000000053 , 45.597000000000776\n"
     ]
    },
    {
     "name": "stderr",
     "output_type": "stream",
     "text": [
      "150.229.118.136 - - [05/Jul/2018 16:03:25] \"POST / HTTP/1.1\" 200 -\n",
      "150.229.118.136 - - [05/Jul/2018 16:03:25] \"POST / HTTP/1.1\" 200 -\n",
      "150.229.118.136 - - [05/Jul/2018 16:03:25] \"POST / HTTP/1.1\" 200 -\n"
     ]
    },
    {
     "name": "stdout",
     "output_type": "stream",
     "text": [
      "SIFT : 31.272999999998774 , 0 , 0 , 36.99199999999969 , 1.1530000000004037 , 38.145000000000095\n",
      "SIFT : 32.16399999999986 , 0 , 0 , 38.81200000000007 , 0.9690000000013299 , 39.7810000000014\n",
      "SIFT : 35.63000000000116 , 0 , 0 , 40.70899999999966 , 1.0650000000005377 , "
     ]
    },
    {
     "name": "stderr",
     "output_type": "stream",
     "text": [
      "150.229.118.136 - - [05/Jul/2018 16:03:25] \"POST / HTTP/1.1\" 200 -\n",
      "150.229.118.136 - - [05/Jul/2018 16:03:26] \"POST / HTTP/1.1\" 200 -\n"
     ]
    },
    {
     "name": "stdout",
     "output_type": "stream",
     "text": [
      "41.7740000000002\n",
      "SIFT : 31.889999999998864 , 0 , 0 , 38.45900000000135 , 1.1169999999989244 , 39.57600000000028\n",
      "SIFT : 30.359999999999943 , 0 , 0 , 35.68199999999955 , 1.008000000000564 , 36.69000000000011\n"
     ]
    },
    {
     "name": "stderr",
     "output_type": "stream",
     "text": [
      "150.229.118.136 - - [05/Jul/2018 16:03:26] \"POST / HTTP/1.1\" 200 -\n",
      "150.229.118.136 - - [05/Jul/2018 16:03:26] \"POST / HTTP/1.1\" 200 -\n"
     ]
    },
    {
     "name": "stdout",
     "output_type": "stream",
     "text": [
      "SIFT : 38.21399999999997 , 0 , 0 , 43.98300000000077 , 1.09600000000043 , 45.0790000000012\n",
      "SIFT : 36.18499999999969 , 0 , 0 , 44.754999999998546 , 1.9179999999998643 , 46.67299999999841\n"
     ]
    },
    {
     "name": "stderr",
     "output_type": "stream",
     "text": [
      "150.229.118.136 - - [05/Jul/2018 16:03:26] \"POST / HTTP/1.1\" 200 -\n",
      "150.229.118.136 - - [05/Jul/2018 16:03:26] \"POST / HTTP/1.1\" 200 -\n"
     ]
    },
    {
     "name": "stdout",
     "output_type": "stream",
     "text": [
      "SIFT : 44.43299999999972 , 0 , 0 , 50.46399999999984 , 5.9400000000007225 , 56.404000000000565\n",
      "SIFT : 33.40299999999985 , 0 , 0 , 39.27499999999995 , 1.132000000000133 , 40.40700000000008\n"
     ]
    },
    {
     "name": "stderr",
     "output_type": "stream",
     "text": [
      "150.229.118.136 - - [05/Jul/2018 16:03:26] \"POST / HTTP/1.1\" 200 -\n",
      "150.229.118.136 - - [05/Jul/2018 16:03:26] \"POST / HTTP/1.1\" 200 -\n"
     ]
    },
    {
     "name": "stdout",
     "output_type": "stream",
     "text": [
      "SIFT : 35.71600000000075 , 0 , 0 , 41.41899999999943 , 1.0270000000005552 , 42.445999999999984\n",
      "SIFT : 34.2210000000005 , 0 , 0 , 40.31299999999938 , 0.9999999999994458 , 41.31299999999882\n"
     ]
    },
    {
     "name": "stderr",
     "output_type": "stream",
     "text": [
      "150.229.118.136 - - [05/Jul/2018 16:03:26] \"POST / HTTP/1.1\" 200 -\n",
      "150.229.118.136 - - [05/Jul/2018 16:03:26] \"POST / HTTP/1.1\" 200 -\n",
      "150.229.118.136 - - [05/Jul/2018 16:03:27] \"POST / HTTP/1.1\" 200 -\n"
     ]
    },
    {
     "name": "stdout",
     "output_type": "stream",
     "text": [
      "SIFT : 47.277000000001124 , 0 , 0 , 54.77199999999982 , 1.1970000000012249 , 55.969000000001046\n",
      "SIFT : 33.72300000000017 , 0 , 0 , 39.01899999999969 , 1.0089999999998156 , 40.02799999999951\n",
      "SIFT : 30.916000000001276 , 0 , 0 , 35.5900000000009 , 0.9949999999996351 , 36.585000000000534\n"
     ]
    },
    {
     "name": "stderr",
     "output_type": "stream",
     "text": [
      "150.229.118.136 - - [05/Jul/2018 16:03:27] \"POST / HTTP/1.1\" 200 -\n",
      "150.229.118.136 - - [05/Jul/2018 16:03:27] \"POST / HTTP/1.1\" 200 -\n"
     ]
    },
    {
     "name": "stdout",
     "output_type": "stream",
     "text": [
      "SIFT : 35.40800000000033 , 0 , 0 , 41.4399999999997 , 1.8250000000001876 , 43.26499999999989\n",
      "SIFT : 31.460999999998407 , 0 , 0 , 37.31299999999926 , 0.828000000000273 , 38.140999999999536\n"
     ]
    },
    {
     "name": "stderr",
     "output_type": "stream",
     "text": [
      "150.229.118.136 - - [05/Jul/2018 16:03:27] \"POST / HTTP/1.1\" 200 -\n",
      "150.229.118.136 - - [05/Jul/2018 16:03:27] \"POST / HTTP/1.1\" 200 -\n"
     ]
    },
    {
     "name": "stdout",
     "output_type": "stream",
     "text": [
      "SIFT : 35.874000000001516 , 0 , 0 , 42.170000000000485 , 1.5929999999997335 , 43.76300000000022\n",
      "SIFT : 34.78599999999865 , 0 , 0 , 41.03399999999979 , 0.9750000000003922 , 42.009000000000185\n"
     ]
    },
    {
     "name": "stderr",
     "output_type": "stream",
     "text": [
      "150.229.118.136 - - [05/Jul/2018 16:03:27] \"POST / HTTP/1.1\" 200 -\n",
      "150.229.118.136 - - [05/Jul/2018 16:03:27] \"POST / HTTP/1.1\" 200 -\n",
      "150.229.118.136 - - [05/Jul/2018 16:03:27] \"POST / HTTP/1.1\" 200 -\n"
     ]
    },
    {
     "name": "stdout",
     "output_type": "stream",
     "text": [
      "SIFT : 39.48900000000144 , 0 , 0 , 45.711999999999975 , 1.0370000000001767 , 46.74900000000015\n",
      "SIFT : 34.694 , 0 , 0 , 41.00999999999999 , 0.9480000000010591 , 41.95800000000105\n",
      "SIFT : 33.70400000000018 , 0 , 0 , 40.91400000000078 , 1.9669999999987198 , 42.8809999999995\n"
     ]
    },
    {
     "name": "stderr",
     "output_type": "stream",
     "text": [
      "150.229.118.136 - - [05/Jul/2018 16:03:27] \"POST / HTTP/1.1\" 200 -\n",
      "150.229.118.136 - - [05/Jul/2018 16:03:27] \"POST / HTTP/1.1\" 200 -\n",
      "150.229.118.136 - - [05/Jul/2018 16:03:28] \"POST / HTTP/1.1\" 200 -\n"
     ]
    },
    {
     "name": "stdout",
     "output_type": "stream",
     "text": [
      "SIFT : 35.994000000000526 , 0 , 0 , 42.96799999999834 , 1.3270000000016324 , 44.29499999999997\n",
      "SIFT : 31.295000000000073 , 0 , 0 , 38.451000000000235 , 0.9820000000004825 , 39.43300000000072\n",
      "SIFT : 32.18600000000116 , 0 , 0 , 37.95800000000149 , 1.058999999999699 , 39.01700000000119\n"
     ]
    },
    {
     "name": "stderr",
     "output_type": "stream",
     "text": [
      "150.229.118.136 - - [05/Jul/2018 16:03:28] \"POST / HTTP/1.1\" 200 -\n",
      "150.229.118.136 - - [05/Jul/2018 16:03:28] \"POST / HTTP/1.1\" 200 -\n",
      "150.229.118.136 - - [05/Jul/2018 16:03:28] \"POST / HTTP/1.1\" 200 -\n"
     ]
    },
    {
     "name": "stdout",
     "output_type": "stream",
     "text": [
      "SIFT : 35.41099999999986 , 0 , 0 , 41.77699999999973 , 1.260000000000261 , 43.03699999999999\n",
      "SIFT : 32.11999999999904 , 0 , 0 , 38.19999999999979 , 0.9689999999995536 , 39.16899999999934\n",
      "SIFT : 29.780000000000584"
     ]
    },
    {
     "name": "stderr",
     "output_type": "stream",
     "text": [
      "150.229.118.136 - - [05/Jul/2018 16:03:28] \"POST / HTTP/1.1\" 200 -\n",
      "150.229.118.136 - - [05/Jul/2018 16:03:28] \"POST / HTTP/1.1\" 200 -\n",
      "150.229.118.136 - - [05/Jul/2018 16:03:28] \"POST / HTTP/1.1\" 200 -\n"
     ]
    },
    {
     "name": "stdout",
     "output_type": "stream",
     "text": [
      " , 0 , 0 , 35.24600000000078 , 0.9730000000001127 , 36.21900000000089\n",
      "SIFT : 33.74499999999969 , 0 , 0 , 39.79700000000008 , 1.9050000000007117 , 41.702000000000794\n",
      "SIFT : 32.265999999999906 , 0 , 0 , 39.23099999999913 , 0.8409999999994255 , 40.07199999999855\n",
      "SIFT : 31.437999999999633 , 0 , 0 , 37.38299999999839 , 0.8400000000001739 , 38.222999999998564\n"
     ]
    },
    {
     "name": "stderr",
     "output_type": "stream",
     "text": [
      "150.229.118.136 - - [05/Jul/2018 16:03:40] \"POST / HTTP/1.1\" 200 -\n",
      "150.229.118.136 - - [05/Jul/2018 16:03:40] \"POST / HTTP/1.1\" 200 -\n",
      "150.229.118.136 - - [05/Jul/2018 16:03:40] \"POST / HTTP/1.1\" 200 -\n"
     ]
    },
    {
     "name": "stdout",
     "output_type": "stream",
     "text": [
      "ORB : 39.278000000001256 , 0 , 0 , 45.548000000000144 , 1.1920000000014142 , 46.74000000000156\n",
      "ORB : 29.9959999999988 , 0 , 0 , 34.503999999998314 , 0.984000000000762 , 35.487999999999076\n",
      "ORB : 31.942000000000803 , 0 , 0 , 36.81800000000024 , 1.9199999999983675 , 38.73799999999861\n",
      "ORB : 37.950999999999624 , 0 , 0 , 45.04900000000056 , 1.1539999999996553 , 46.203000000000216\n",
      "ORB : 33.98699999999977 , 0 , 0 , 39.654999999999774 , 0.9010000000007068 , 40.55600000000048\n"
     ]
    },
    {
     "name": "stderr",
     "output_type": "stream",
     "text": [
      "150.229.118.136 - - [05/Jul/2018 16:03:40] \"POST / HTTP/1.1\" 200 -\n",
      "150.229.118.136 - - [05/Jul/2018 16:03:40] \"POST / HTTP/1.1\" 200 -\n",
      "150.229.118.136 - - [05/Jul/2018 16:03:40] \"POST / HTTP/1.1\" 200 -\n",
      "150.229.118.136 - - [05/Jul/2018 16:03:40] \"POST / HTTP/1.1\" 200 -\n"
     ]
    },
    {
     "name": "stdout",
     "output_type": "stream",
     "text": [
      "ORB : 32.21399999999974 , 0 , 0 , 38.605999999999696 , 0.8189999999999031 , 39.4249999999996\n",
      "ORB : 30.940000000001078 , 0 , 0 , 37.4099999999995 , 0.7950000000001012 , 38.2049999999996\n",
      "ORB : 32.062999999999064 , 0 , 0 , 38.577999999999335 , 1.4459999999996143 , 40.02399999999895\n"
     ]
    },
    {
     "name": "stderr",
     "output_type": "stream",
     "text": [
      "150.229.118.136 - - [05/Jul/2018 16:03:41] \"POST / HTTP/1.1\" 200 -\n",
      "150.229.118.136 - - [05/Jul/2018 16:03:41] \"POST / HTTP/1.1\" 200 -\n",
      "150.229.118.136 - - [05/Jul/2018 16:03:41] \"POST / HTTP/1.1\" 200 -\n"
     ]
    },
    {
     "name": "stdout",
     "output_type": "stream",
     "text": [
      "ORB : 32.00799999999937 , 0 , 0 , 38.55000000000075 , 0.7660000000004885 , 39.31600000000124\n",
      "ORB : 30.7429999999993 , 0 , 0 , 37.44200000000042 , 0.9959999999988867 , 38.437999999999306\n",
      "ORB : 36.29999999999889 , 0 , 0 , 44.02599999999879 , 1.3009999999997746 , 45.32699999999856\n"
     ]
    },
    {
     "name": "stderr",
     "output_type": "stream",
     "text": [
      "150.229.118.136 - - [05/Jul/2018 16:03:41] \"POST / HTTP/1.1\" 200 -\n",
      "150.229.118.136 - - [05/Jul/2018 16:03:41] \"POST / HTTP/1.1\" 200 -\n"
     ]
    },
    {
     "name": "stdout",
     "output_type": "stream",
     "text": [
      "ORB : 32.64899999999926 , 0 , 0 , 39.664999999999395 , 0.7910000000013184 , 40.456000000000714\n",
      "ORB : 40.80199999999934 , 0 , 0 , 48.64500000000049 , 2.275000000000915 , 50.92000000000141\n"
     ]
    },
    {
     "name": "stderr",
     "output_type": "stream",
     "text": [
      "150.229.118.136 - - [05/Jul/2018 16:03:41] \"POST / HTTP/1.1\" 200 -\n",
      "150.229.118.136 - - [05/Jul/2018 16:03:41] \"POST / HTTP/1.1\" 200 -\n"
     ]
    },
    {
     "name": "stdout",
     "output_type": "stream",
     "text": [
      "ORB : 33.05399999999992 , 0 , 0 , 39.85299999999903 , 0.9290000000010679 , 40.782000000000096\n",
      "ORB : 34.100999999999715 , 0 , 0 , 39.93700000000011 , 1.2239999999987816 , 41.16099999999889\n",
      "ORB : 31.273999999999802 , 0 , 0 , 37.219000000000335 , 0.8879999999997779 , 38.10700000000011\n"
     ]
    },
    {
     "name": "stderr",
     "output_type": "stream",
     "text": [
      "150.229.118.136 - - [05/Jul/2018 16:03:41] \"POST / HTTP/1.1\" 200 -\n",
      "150.229.118.136 - - [05/Jul/2018 16:03:41] \"POST / HTTP/1.1\" 200 -\n",
      "150.229.118.136 - - [05/Jul/2018 16:03:41] \"POST / HTTP/1.1\" 200 -\n"
     ]
    },
    {
     "name": "stdout",
     "output_type": "stream",
     "text": [
      "ORB : 33.18999999999939 , 0 , 0 , 39.74399999999889 , 0.9660000000000224 , 40.709999999998914\n",
      "ORB : 34.557999999998756 , 0 , 0 , 40.87099999999921 , 0.9620000000012396 , 41.83300000000045\n",
      "ORB : 38.119000000000014 , 0 , 0 , 43.53400000000107 , 0.9699999999988052 , 44.50399999999988\n"
     ]
    },
    {
     "name": "stderr",
     "output_type": "stream",
     "text": [
      "150.229.118.136 - - [05/Jul/2018 16:03:41] \"POST / HTTP/1.1\" 200 -\n",
      "150.229.118.136 - - [05/Jul/2018 16:03:41] \"POST / HTTP/1.1\" 200 -\n",
      "150.229.118.136 - - [05/Jul/2018 16:03:42] \"POST / HTTP/1.1\" 200 -\n"
     ]
    },
    {
     "name": "stdout",
     "output_type": "stream",
     "text": [
      "ORB : 35.22699999999901 , 0 , 0 , 42.747999999999564 , 2.0860000000002543 , 44.83399999999982\n",
      "ORB : 34.76299999999988 , 0 , 0 , 40.620999999999796 , 1.2489999999996115 , 41.86999999999941\n"
     ]
    },
    {
     "name": "stderr",
     "output_type": "stream",
     "text": [
      "150.229.118.136 - - [05/Jul/2018 16:03:42] \"POST / HTTP/1.1\" 200 -\n",
      "150.229.118.136 - - [05/Jul/2018 16:03:42] \"POST / HTTP/1.1\" 200 -\n"
     ]
    },
    {
     "name": "stdout",
     "output_type": "stream",
     "text": [
      "ORB : 35.59399999999968 , 0 , 0 , 42.96399999999956 , 1.1790000000004852 , 44.14300000000004\n",
      "ORB : 34.35499999999969 , 0 , 0 , 41.239000000000914 , 1.1609999999997456 , 42.40000000000066\n"
     ]
    },
    {
     "name": "stderr",
     "output_type": "stream",
     "text": [
      "150.229.118.136 - - [05/Jul/2018 16:03:42] \"POST / HTTP/1.1\" 200 -\n",
      "150.229.118.136 - - [05/Jul/2018 16:03:42] \"POST / HTTP/1.1\" 200 -\n",
      "150.229.118.136 - - [05/Jul/2018 16:03:42] \"POST / HTTP/1.1\" 200 -\n"
     ]
    },
    {
     "name": "stdout",
     "output_type": "stream",
     "text": [
      "ORB : 32.06100000000056 , 0 , 0 , 38.69800000000012 , 1.1780000000012336 , 39.876000000001355\n",
      "ORB : 32.38400000000041 , 0 , 0 , 38.53800000000085 , 0.9499999999995623 , 39.48800000000041\n"
     ]
    },
    {
     "name": "stderr",
     "output_type": "stream",
     "text": [
      "150.229.118.136 - - [05/Jul/2018 16:03:42] \"POST / HTTP/1.1\" 200 -\n",
      "150.229.118.136 - - [05/Jul/2018 16:03:42] \"POST / HTTP/1.1\" 200 -\n",
      "150.229.118.136 - - [05/Jul/2018 16:03:43] \"POST / HTTP/1.1\" 200 -\n"
     ]
    },
    {
     "name": "stdout",
     "output_type": "stream",
     "text": [
      "ORB : 35.26000000000096 , 0 , 0 , 42.58200000000123 , 1.2179999999997193 , 43.80000000000095\n",
      "ORB : 32.263999999999626 , 0 , 0 , 38.40399999999988 , 2.214999999999634 , 40.61899999999952\n",
      "ORB : 31.585999999999004 , 0 , 0 , 37.55999999999915 , 0.8230000000004623 , 38.38299999999961\n"
     ]
    },
    {
     "name": "stderr",
     "output_type": "stream",
     "text": [
      "150.229.118.136 - - [05/Jul/2018 16:03:43] \"POST / HTTP/1.1\" 200 -\n",
      "150.229.118.136 - - [05/Jul/2018 16:03:43] \"POST / HTTP/1.1\" 200 -\n",
      "150.229.118.136 - - [05/Jul/2018 16:03:43] \"POST / HTTP/1.1\" 200 -\n"
     ]
    },
    {
     "name": "stdout",
     "output_type": "stream",
     "text": [
      "ORB : 36.29199999999955 , 0 , 0 , 45.4819999999998 , 1.1899999999993582 , 46.67199999999916\n",
      "ORB : 32.82100000000021 , 0 , 0 , 39.7230000000004 , 0.9440000000005 , 40.6670000000009\n",
      "ORB : 31.21799999999908 , 0 , 0 , 37.90799999999983 , 1.0259999999995273 , 38.93399999999936\n"
     ]
    },
    {
     "name": "stderr",
     "output_type": "stream",
     "text": [
      "150.229.118.136 - - [05/Jul/2018 16:03:43] \"POST / HTTP/1.1\" 200 -\n",
      "150.229.118.136 - - [05/Jul/2018 16:03:43] \"POST / HTTP/1.1\" 200 -\n",
      "150.229.118.136 - - [05/Jul/2018 16:03:43] \"POST / HTTP/1.1\" 200 -\n"
     ]
    },
    {
     "name": "stdout",
     "output_type": "stream",
     "text": [
      "ORB : 33.654999999999546 , 0 , 0 , 40.08600000000051 , 1.1690000000008638 , 41.255000000001374\n",
      "ORB : 29.49699999999922 , 0 , 0 , 35.26200000000124 , 0.9479999999992827 , 36.21000000000052\n",
      "ORB : 32.37000000000023 , 0 , 0 , 38.266999999999385 , 1.9900000000010465 , 40.25700000000043\n"
     ]
    },
    {
     "name": "stderr",
     "output_type": "stream",
     "text": [
      "150.229.118.136 - - [05/Jul/2018 16:03:43] \"POST / HTTP/1.1\" 200 -\n",
      "150.229.118.136 - - [05/Jul/2018 16:03:43] \"POST / HTTP/1.1\" 200 -\n",
      "150.229.118.136 - - [05/Jul/2018 16:03:43] \"POST / HTTP/1.1\" 200 -\n"
     ]
    },
    {
     "name": "stdout",
     "output_type": "stream",
     "text": [
      "ORB : 32.0090000000004 , 0 , 0 , 37.946999999999065 , 1.2059999999998183 , 39.15299999999888\n",
      "ORB : 30.92099999999931 , 0 , 0 , 36.887000000000114 , 0.9499999999995623 , 37.836999999999676\n",
      "ORB : 35.57600000000072 , 0 , 0 , 41.669999999999874 , 1.1169999999989244 , 42.7869999999988\n"
     ]
    },
    {
     "name": "stderr",
     "output_type": "stream",
     "text": [
      "150.229.118.136 - - [05/Jul/2018 16:03:43] \"POST / HTTP/1.1\" 200 -\n",
      "150.229.118.136 - - [05/Jul/2018 16:03:44] \"POST / HTTP/1.1\" 200 -\n",
      "150.229.118.136 - - [05/Jul/2018 16:03:44] \"POST / HTTP/1.1\" 200 -\n"
     ]
    },
    {
     "name": "stdout",
     "output_type": "stream",
     "text": [
      "ORB : 31.13200000000127 , 0 , 0 , 36.21300000000005 , 1.0879999999993117 , 37.30099999999936\n",
      "ORB : 33.11399999999942 , 0 , 0 , 39.88499999999995 , 0.9180000000004185 , 40.80300000000037\n",
      "ORB : 36.34000000000093 , 0 , 0 , 43.13900000000004 , 1.146999999999565 , 44.2859999999996\n"
     ]
    },
    {
     "name": "stderr",
     "output_type": "stream",
     "text": [
      "150.229.118.136 - - [05/Jul/2018 16:03:44] \"POST / HTTP/1.1\" 200 -\n",
      "150.229.118.136 - - [05/Jul/2018 16:03:44] \"POST / HTTP/1.1\" 200 -\n",
      "150.229.118.136 - - [05/Jul/2018 16:03:44] \"POST / HTTP/1.1\" 200 -\n"
     ]
    },
    {
     "name": "stdout",
     "output_type": "stream",
     "text": [
      "ORB : 29.633000000000465 , 0 , 0 , 36.22900000000051 , 1.8299999999999983 , 38.05900000000051\n",
      "ORB : 35.775000000001 , 0 , 0 , 42.20899999999972 , 0.9979999999991662 , 43.206999999998885\n",
      "ORB : 31.662999999999997 , 0 , 0 , 37.74999999999906 , 0.9860000000010416 , 38.736000000000104\n"
     ]
    },
    {
     "name": "stderr",
     "output_type": "stream",
     "text": [
      "150.229.118.136 - - [05/Jul/2018 16:03:44] \"POST / HTTP/1.1\" 200 -\n",
      "150.229.118.136 - - [05/Jul/2018 16:03:44] \"POST / HTTP/1.1\" 200 -\n",
      "150.229.118.136 - - [05/Jul/2018 16:03:44] \"POST / HTTP/1.1\" 200 -\n"
     ]
    },
    {
     "name": "stdout",
     "output_type": "stream",
     "text": [
      "ORB : 32.7939999999991 , 0 , 0 , 39.81100000000026 , 1.4329999999986853 , 41.24399999999895\n",
      "ORB : 33.516000000000545 , 0 , 0 , 38.94700000000029 , 1.0209999999997166 , 39.968\n",
      "ORB : 31.456000000000373 , 0 , 0 , 37.62599999999949 , 1.0899999999995913 , 38.715999999999084\n"
     ]
    },
    {
     "name": "stderr",
     "output_type": "stream",
     "text": [
      "150.229.118.136 - - [05/Jul/2018 16:03:44] \"POST / HTTP/1.1\" 200 -\n",
      "150.229.118.136 - - [05/Jul/2018 16:03:44] \"POST / HTTP/1.1\" 200 -\n",
      "150.229.118.136 - - [05/Jul/2018 16:03:45] \"POST / HTTP/1.1\" 200 -\n"
     ]
    },
    {
     "name": "stdout",
     "output_type": "stream",
     "text": [
      "ORB : 33.338999999999785 , 0 , 0 , 39.206000000000074 , 1.170999999999367 , 40.37699999999944\n",
      "ORB : 32.109000000000165 , 0 , 0 , 38.909000000000304 , 2.038999999999902 , 40.94800000000021\n",
      "ORB : 32.26999999999869 , 0 , 0 , 39.676999999999296 , 1.036000000000925 , 40.71300000000022\n"
     ]
    },
    {
     "name": "stderr",
     "output_type": "stream",
     "text": [
      "150.229.118.136 - - [05/Jul/2018 16:03:45] \"POST / HTTP/1.1\" 200 -\n",
      "150.229.118.136 - - [05/Jul/2018 16:03:45] \"POST / HTTP/1.1\" 200 -\n",
      "150.229.118.136 - - [05/Jul/2018 16:03:45] \"POST / HTTP/1.1\" 200 -\n"
     ]
    },
    {
     "name": "stdout",
     "output_type": "stream",
     "text": [
      "ORB : 35.019999999999385 , 0 , 0 , 40.468999999999866 , 1.5579999999992822 , 42.02699999999915\n",
      "ORB : 29.961999999999378 , 0 , 0 , 34.855999999999554 , 0.9570000000014289 , 35.81300000000098\n",
      "ORB : 33.03800000000123 , 0 , 0 , 39.094000000000406 , 0.9660000000000224 , 40.06000000000043\n"
     ]
    },
    {
     "name": "stderr",
     "output_type": "stream",
     "text": [
      "150.229.118.136 - - [05/Jul/2018 16:03:45] \"POST / HTTP/1.1\" 200 -\n",
      "150.229.118.136 - - [05/Jul/2018 16:03:45] \"POST / HTTP/1.1\" 200 -\n",
      "150.229.118.136 - - [05/Jul/2018 16:03:45] \"POST / HTTP/1.1\" 200 -\n"
     ]
    },
    {
     "name": "stdout",
     "output_type": "stream",
     "text": [
      "ORB : 34.81200000000051 , 0 , 0 , 40.82000000000008 , 1.1049999999990234 , 41.9249999999991\n",
      "ORB : 31.24099999999963 , 0 , 0 , 37.11899999999879 , 1.032000000000366 , 38.15099999999916\n",
      "ORB : 29.85999999999933 , 0 , 0 , 35.652999999999935 , 1.760000000000872 , 37.41300000000081\n"
     ]
    },
    {
     "name": "stderr",
     "output_type": "stream",
     "text": [
      "150.229.118.136 - - [05/Jul/2018 16:03:45] \"POST / HTTP/1.1\" 200 -\n",
      "150.229.118.136 - - [05/Jul/2018 16:03:45] \"POST / HTTP/1.1\" 200 -\n",
      "150.229.118.136 - - [05/Jul/2018 16:03:45] \"POST / HTTP/1.1\" 200 -\n"
     ]
    },
    {
     "name": "stdout",
     "output_type": "stream",
     "text": [
      "ORB : 32.75299999999959 , 0 , 0 , 38.96099999999869 , 1.1550000000006833 , 40.115999999999374\n",
      "ORB : 38.41400000000128 , 0 , 0 , 44.297999999999504 , 1.1790000000004852 , 45.47699999999999\n",
      "ORB : 34.247999999999834 , 0 , 0 , 40.08300000000098 , 0.9609999999984353 , 41.043999999999414\n"
     ]
    },
    {
     "name": "stderr",
     "output_type": "stream",
     "text": [
      "150.229.118.136 - - [05/Jul/2018 16:03:46] \"POST / HTTP/1.1\" 200 -\n",
      "150.229.118.136 - - [05/Jul/2018 16:03:46] \"POST / HTTP/1.1\" 200 -\n",
      "150.229.118.136 - - [05/Jul/2018 16:03:46] \"POST / HTTP/1.1\" 200 -\n"
     ]
    },
    {
     "name": "stdout",
     "output_type": "stream",
     "text": [
      "ORB : 32.62300000000096 , 0 , 0 , 39.15800000000047 , 1.1340000000004125 , 40.29200000000088\n",
      "ORB : 33.91599999999961 , 0 , 0 , 40.48799999999986 , 1.0209999999997166 , 41.508999999999574\n",
      "ORB : 34.07400000000038 , 0 , 0 , 41.58799999999907 , 0.9460000000007796 , 42.53399999999985\n"
     ]
    },
    {
     "name": "stderr",
     "output_type": "stream",
     "text": [
      "150.229.118.136 - - [05/Jul/2018 16:03:46] \"POST / HTTP/1.1\" 200 -\n",
      "150.229.118.136 - - [05/Jul/2018 16:03:46] \"POST / HTTP/1.1\" 200 -\n",
      "150.229.118.136 - - [05/Jul/2018 16:03:46] \"POST / HTTP/1.1\" 200 -\n"
     ]
    },
    {
     "name": "stdout",
     "output_type": "stream",
     "text": [
      "ORB : 32.880999999999716 , 0 , 0 , 39.4249999999996 , 1.8580000000003594 , 41.28299999999996\n",
      "ORB : 33.8390000000004 , 0 , 0 , 39.42400000000035 , 1.0040000000000049 , 40.42800000000035\n",
      "ORB : 39.89699999999985 , 0 , 0 , 46.42100000000049 , 1.8609999999998905 , 48.28200000000038\n",
      "ORB : 30.575999999999937 , 0 , 0 , 36.09400000000029 , 1.262999999999792 , 37.357000000000085\n",
      "ORB : 34.006000000001535 , 0 , 0 , 40.951000000001514 , 0.9989999999984178 , 41.94999999999993\n"
     ]
    },
    {
     "name": "stderr",
     "output_type": "stream",
     "text": [
      "150.229.118.136 - - [05/Jul/2018 16:03:46] \"POST / HTTP/1.1\" 200 -\n",
      "150.229.118.136 - - [05/Jul/2018 16:03:46] \"POST / HTTP/1.1\" 200 -\n",
      "150.229.118.136 - - [05/Jul/2018 16:03:46] \"POST / HTTP/1.1\" 200 -\n"
     ]
    },
    {
     "name": "stdout",
     "output_type": "stream",
     "text": [
      "ORB : 33.43899999999955 , 0 , 0 , 39.93000000000002 , 0.9420000000002204 , 40.87200000000024\n",
      "ORB : 34.862999999999644 , 0 , 0 , 41.19200000000056 , 1.2729999999994135 , 42.464999999999975\n"
     ]
    },
    {
     "name": "stderr",
     "output_type": "stream",
     "text": [
      "150.229.118.136 - - [05/Jul/2018 16:03:46] \"POST / HTTP/1.1\" 200 -\n",
      "150.229.118.136 - - [05/Jul/2018 16:03:46] \"POST / HTTP/1.1\" 200 -\n",
      "150.229.118.136 - - [05/Jul/2018 16:03:47] \"POST / HTTP/1.1\" 200 -\n"
     ]
    },
    {
     "name": "stdout",
     "output_type": "stream",
     "text": [
      "ORB : 38.6299999999995 , 0 , 0 , 44.66199999999887 , 2.551000000000414 , 47.21299999999928\n",
      "ORB : 36.090999999998985 , 0 , 0 , 42.011000000000465 , 1.881999999998385 , 43.89299999999885\n",
      "ORB : 40.77599999999926 , 0 , 0 , 47.144000000001185 , 1.234999999999431 , 48.379000000000616\n"
     ]
    },
    {
     "name": "stderr",
     "output_type": "stream",
     "text": [
      "150.229.118.136 - - [05/Jul/2018 16:03:47] \"POST / HTTP/1.1\" 200 -\n",
      "150.229.118.136 - - [05/Jul/2018 16:03:47] \"POST / HTTP/1.1\" 200 -\n",
      "150.229.118.136 - - [05/Jul/2018 16:03:47] \"POST / HTTP/1.1\" 200 -\n"
     ]
    },
    {
     "name": "stdout",
     "output_type": "stream",
     "text": [
      "ORB : 33.40099999999957 , 0 , 0 , 39.37999999999953 , 0.9099999999993003 , 40.28999999999883\n",
      "ORB : 34.720999999999336 , 0 , 0 , 41.20100000000093 , 0.8529999999993265 , 42.05400000000026\n"
     ]
    }
   ],
   "source": [
    "# In[5]:\n",
    "\n",
    "run()"
   ]
  },
  {
   "cell_type": "code",
   "execution_count": null,
   "metadata": {
    "collapsed": true
   },
   "outputs": [],
   "source": []
  }
 ],
 "metadata": {
  "kernelspec": {
   "display_name": "Python 3",
   "language": "python",
   "name": "python3"
  },
  "language_info": {
   "codemirror_mode": {
    "name": "ipython",
    "version": 3
   },
   "file_extension": ".py",
   "mimetype": "text/x-python",
   "name": "python",
   "nbconvert_exporter": "python",
   "pygments_lexer": "ipython3",
   "version": "3.6.3"
  }
 },
 "nbformat": 4,
 "nbformat_minor": 2
}
