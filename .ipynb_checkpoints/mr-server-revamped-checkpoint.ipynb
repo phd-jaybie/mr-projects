{
 "cells": [
  {
   "cell_type": "code",
   "execution_count": 1,
   "metadata": {
    "collapsed": true
   },
   "outputs": [],
   "source": [
    "%matplotlib inline\n",
    "# Created: 5-Jul-2018\n",
    "# This is a code version of the original MR but will receive detection\n",
    "# information so that we can separate the processing whether it is \n",
    "# OpenCV-based (i.e. SIFT, ORB, classical, etc.) or TF-based.\n",
    "\n",
    "from matplotlib import pyplot as plt\n"
   ]
  },
  {
   "cell_type": "code",
   "execution_count": 2,
   "metadata": {
    "collapsed": true
   },
   "outputs": [],
   "source": [
    "# coding: utf-8\n",
    "\n",
    "# In[1]:\n",
    "\n",
    "\n",
    "#!/usr/bin/env python\n",
    "\n",
    "import cv2\n",
    "import numpy as np\n",
    "import sys\n",
    "import time\n",
    "#import requests\n",
    "import math\n",
    "\n",
    "import os\n",
    "import six.moves.urllib as urllib\n",
    "import tensorflow as tf\n",
    "import zipfile\n",
    "import collections\n",
    "import warnings\n",
    "warnings.filterwarnings(\"ignore\")\n",
    "\n",
    "from xml.etree.ElementTree import Element, SubElement, Comment, tostring, ElementTree\n",
    "from http.server import BaseHTTPRequestHandler, HTTPServer\n",
    "from collections import defaultdict\n",
    "from io import StringIO, BytesIO\n",
    "from matplotlib import pyplot as plt\n",
    "from PIL import Image"
   ]
  },
  {
   "cell_type": "code",
   "execution_count": 3,
   "metadata": {
    "collapsed": true
   },
   "outputs": [],
   "source": [
    "# This is needed to add the tf-object detecton api modules\n",
    "sys.path.append(\"/Users/deg032/models/research\")\n",
    "from object_detection.utils import ops as utils_ops\n",
    "from object_detection.utils import label_map_util\n",
    "from object_detection.utils import visualization_utils as vis_util\n",
    "\n",
    "if tf.__version__ < '1.4.0':\n",
    "  raise ImportError('Please upgrade your tensorflow installation to v1.4.* or later!')"
   ]
  },
  {
   "cell_type": "code",
   "execution_count": 4,
   "metadata": {
    "collapsed": true
   },
   "outputs": [],
   "source": [
    "from ar_markers.hamming.detect import detect_markers"
   ]
  },
  {
   "cell_type": "code",
   "execution_count": 5,
   "metadata": {
    "collapsed": true,
    "scrolled": true
   },
   "outputs": [],
   "source": [
    "# Global parameters\n",
    "detection_mode = \"SIFT\" #default to SIFT\n",
    "\n",
    "# OpenCV parameters\n",
    "search_params = dict(checks = 20) # this is for the flann-based matcher\n",
    "largest = {4032, 3024}\n",
    "\n",
    "ref = \"res/unsw.png\"\n",
    "ref_img = cv2.imread(ref, 0)\n",
    "\n",
    "# SIFT parameters\n",
    "siftDetector = cv2.xfeatures2d.SIFT_create()\n",
    "FLANN_INDEX_KDTREE = 0\n",
    "index_params = dict(algorithm = FLANN_INDEX_KDTREE, tree = 5)\n",
    "siftMatcher = cv2.FlannBasedMatcher(index_params, search_params)\n",
    "rsKP, rsDES = siftDetector.detectAndCompute(ref_img, None)\n",
    "\n",
    "# ORB parameters\n",
    "orbDetector = cv2.ORB_create()\n",
    "#descriptor = cv2.xfeatures2d.SIFT_create()\n",
    "orbMatcher = cv2.BFMatcher(cv2.NORM_HAMMING, crossCheck=True) # for ORB keypoints\n",
    "roKP, roDES = orbDetector.detectAndCompute(ref_img,None)"
   ]
  },
  {
   "cell_type": "code",
   "execution_count": 6,
   "metadata": {
    "collapsed": true
   },
   "outputs": [],
   "source": [
    "# Main tasks\n",
    "\n",
    "# What model to use.\n",
    "MODEL_NAME = 'ssd_mobilenet_v1_coco_2017_11_17'\n",
    "#MODEL_FILE = MODEL_NAME + '.tar.gz'\n",
    "OBJ_API_BASE = '/Users/deg032/models/research/object_detection/'\n",
    "\n",
    "# Path to frozen detection graph. This is the actual model that is used for the object detection.\n",
    "PATH_TO_CKPT = MODEL_NAME + '/frozen_inference_graph.pb'\n",
    "\n",
    "# List of the strings that is used to add correct label for each box.\n",
    "PATH_TO_LABELS = os.path.join('data', 'mscoco_label_map.pbtxt')\n",
    "\n",
    "NUM_CLASSES = 90"
   ]
  },
  {
   "cell_type": "code",
   "execution_count": 7,
   "metadata": {
    "collapsed": true
   },
   "outputs": [],
   "source": [
    "detection_graph = tf.Graph()\n",
    "with detection_graph.as_default():\n",
    "  od_graph_def = tf.GraphDef()\n",
    "  with tf.gfile.GFile(OBJ_API_BASE + PATH_TO_CKPT, 'rb') as fid:\n",
    "    serialized_graph = fid.read()\n",
    "    od_graph_def.ParseFromString(serialized_graph)\n",
    "    tf.import_graph_def(od_graph_def, name='')\n",
    "    \n",
    "label_map = label_map_util.load_labelmap(OBJ_API_BASE + PATH_TO_LABELS)\n",
    "categories = label_map_util.convert_label_map_to_categories(label_map, max_num_classes=NUM_CLASSES, use_display_name=True)\n",
    "category_index = label_map_util.create_category_index(categories)"
   ]
  },
  {
   "cell_type": "code",
   "execution_count": 8,
   "metadata": {
    "collapsed": true
   },
   "outputs": [],
   "source": [
    "def get_object_locations(\n",
    "    boxes,\n",
    "    classes,\n",
    "    scores,\n",
    "    category_index,\n",
    "    instance_masks=None,\n",
    "    instance_boundaries=None,\n",
    "    keypoints=None,\n",
    "    use_normalized_coordinates=False,\n",
    "    max_boxes_to_draw=20,\n",
    "    min_score_thresh=.5,\n",
    "    agnostic_mode=False,\n",
    "    line_thickness=4,\n",
    "    groundtruth_box_visualization_color='black',\n",
    "    skip_scores=False,\n",
    "    skip_labels=False):\n",
    "  \"\"\"This is an adaptation of the function from the visualization_utils\n",
    "  named 'visualize_boxes_and_labels_on_image_array' but does not embed the\n",
    "  masks to the image directly but just extract the relative position of\n",
    "  objects within the view. This is to prevent sharing raw visual informa-\n",
    "  tion to intended third parties interested to know the detected objects.\n",
    "  \n",
    "  Overlay labeled boxes on an image with formatted scores and label names.\n",
    "\n",
    "  This function groups boxes that correspond to the same location\n",
    "  and creates a display string for each detection and overlays these\n",
    "  on the image. Note that this function modifies the image in place, and returns\n",
    "  that same image.\n",
    "\n",
    "  Args:\n",
    "    image: uint8 numpy array with shape (img_height, img_width, 3)\n",
    "    boxes: a numpy array of shape [N, 4]\n",
    "    classes: a numpy array of shape [N]. Note that class indices are 1-based,\n",
    "      and match the keys in the label map.\n",
    "    scores: a numpy array of shape [N] or None.  If scores=None, then\n",
    "      this function assumes that the boxes to be plotted are groundtruth\n",
    "      boxes and plot all boxes as black with no classes or scores.\n",
    "    category_index: a dict containing category dictionaries (each holding\n",
    "      category index `id` and category name `name`) keyed by category indices.\n",
    "    instance_masks: a numpy array of shape [N, image_height, image_width] with\n",
    "      values ranging between 0 and 1, can be None.\n",
    "    instance_boundaries: a numpy array of shape [N, image_height, image_width]\n",
    "      with values ranging between 0 and 1, can be None.\n",
    "    keypoints: a numpy array of shape [N, num_keypoints, 2], can\n",
    "      be None\n",
    "    use_normalized_coordinates: whether boxes is to be interpreted as\n",
    "      normalized coordinates or not.\n",
    "    max_boxes_to_draw: maximum number of boxes to visualize.  If None, draw\n",
    "      all boxes.\n",
    "    min_score_thresh: minimum score threshold for a box to be visualized\n",
    "    agnostic_mode: boolean (default: False) controlling whether to evaluate in\n",
    "      class-agnostic mode or not.  This mode will display scores but ignore\n",
    "      classes.\n",
    "    line_thickness: integer (default: 4) controlling line width of the boxes.\n",
    "    groundtruth_box_visualization_color: box color for visualizing groundtruth\n",
    "      boxes\n",
    "    skip_scores: whether to skip score when drawing a single detection\n",
    "    skip_labels: whether to skip label when drawing a single detection\n",
    "\n",
    "  Returns:\n",
    "    uint8 numpy array with shape (img_height, img_width, 3) with overlaid boxes.\n",
    "  \"\"\"\n",
    "  # Create a display string (and color) for every box location, group any boxes\n",
    "  # that correspond to the same location.\n",
    "  box_to_display_str_map = collections.defaultdict(list)\n",
    "  box_to_color_map = collections.defaultdict(str)\n",
    "  box_to_instance_masks_map = {}\n",
    "  box_to_instance_boundaries_map = {}\n",
    "  box_to_keypoints_map = collections.defaultdict(list)\n",
    "  if not max_boxes_to_draw:\n",
    "    max_boxes_to_draw = boxes.shape[0]\n",
    "  for i in range(min(max_boxes_to_draw, boxes.shape[0])):\n",
    "    if scores is None or scores[i] > min_score_thresh:\n",
    "      box = tuple(boxes[i].tolist())\n",
    "      if instance_masks is not None:\n",
    "        box_to_instance_masks_map[box] = instance_masks[i]\n",
    "      if instance_boundaries is not None:\n",
    "        box_to_instance_boundaries_map[box] = instance_boundaries[i]\n",
    "      if keypoints is not None:\n",
    "        box_to_keypoints_map[box].extend(keypoints[i])\n",
    "      if scores is None:\n",
    "        box_to_color_map[box] = groundtruth_box_visualization_color\n",
    "      else:\n",
    "        display_str = ''\n",
    "        if not skip_labels:\n",
    "          if not agnostic_mode:\n",
    "            if classes[i] in category_index.keys():\n",
    "              class_name = category_index[classes[i]]['name']\n",
    "            else:\n",
    "              class_name = 'N/A'\n",
    "            display_str = str(class_name)\n",
    "        if not skip_scores:\n",
    "          if not display_str:\n",
    "            display_str = '{}%'.format(int(100*scores[i]))\n",
    "          else:\n",
    "            display_str = '{}: {}%'.format(display_str, int(100*scores[i]))\n",
    "        box_to_display_str_map[box].append(display_str)\n",
    "  return box_to_display_str_map"
   ]
  },
  {
   "cell_type": "code",
   "execution_count": 9,
   "metadata": {
    "collapsed": true
   },
   "outputs": [],
   "source": [
    "def load_image_into_numpy_array(image):\n",
    "  (im_width, im_height) = image.size\n",
    "  return np.array(image.getdata()).reshape(\n",
    "      (im_height, im_width, 3)).astype(np.uint8)"
   ]
  },
  {
   "cell_type": "code",
   "execution_count": 10,
   "metadata": {
    "collapsed": true
   },
   "outputs": [],
   "source": [
    "def run_inference_for_single_image(image, graph):\n",
    "  with graph.as_default():\n",
    "    with tf.Session() as sess:\n",
    "      # Get handles to input and output tensors\n",
    "      ops = tf.get_default_graph().get_operations()\n",
    "      all_tensor_names = {output.name for op in ops for output in op.outputs}\n",
    "      tensor_dict = {}\n",
    "      for key in [\n",
    "          'num_detections', 'detection_boxes', 'detection_scores',\n",
    "          'detection_classes', 'detection_masks'\n",
    "      ]:\n",
    "        tensor_name = key + ':0'\n",
    "        if tensor_name in all_tensor_names:\n",
    "          tensor_dict[key] = tf.get_default_graph().get_tensor_by_name(\n",
    "              tensor_name)\n",
    "      if 'detection_masks' in tensor_dict:\n",
    "        # The following processing is only for single image\n",
    "        detection_boxes = tf.squeeze(tensor_dict['detection_boxes'], [0])\n",
    "        detection_masks = tf.squeeze(tensor_dict['detection_masks'], [0])\n",
    "        # Reframe is required to translate mask from box coordinates to image coordinates and fit the image size.\n",
    "        real_num_detection = tf.cast(tensor_dict['num_detections'][0], tf.int32)\n",
    "        detection_boxes = tf.slice(detection_boxes, [0, 0], [real_num_detection, -1])\n",
    "        detection_masks = tf.slice(detection_masks, [0, 0, 0], [real_num_detection, -1, -1])\n",
    "        detection_masks_reframed = utils_ops.reframe_box_masks_to_image_masks(\n",
    "            detection_masks, detection_boxes, image.shape[0], image.shape[1])\n",
    "        detection_masks_reframed = tf.cast(\n",
    "            tf.greater(detection_masks_reframed, 0.5), tf.uint8)\n",
    "        # Follow the convention by adding back the batch dimension\n",
    "        tensor_dict['detection_masks'] = tf.expand_dims(\n",
    "            detection_masks_reframed, 0)\n",
    "      image_tensor = tf.get_default_graph().get_tensor_by_name('image_tensor:0')\n",
    "\n",
    "      # Run inference\n",
    "      output_dict = sess.run(tensor_dict,\n",
    "                             feed_dict={image_tensor: np.expand_dims(image, 0)})\n",
    "\n",
    "      # all outputs are float32 numpy arrays, so convert types as appropriate\n",
    "      output_dict['num_detections'] = int(output_dict['num_detections'][0])\n",
    "      output_dict['detection_classes'] = output_dict[\n",
    "          'detection_classes'][0].astype(np.uint8)\n",
    "      output_dict['detection_boxes'] = output_dict['detection_boxes'][0]\n",
    "      output_dict['detection_scores'] = output_dict['detection_scores'][0]\n",
    "      if 'detection_masks' in output_dict:\n",
    "        output_dict['detection_masks'] = output_dict['detection_masks'][0]\n",
    "  return output_dict"
   ]
  },
  {
   "cell_type": "code",
   "execution_count": 11,
   "metadata": {
    "collapsed": true
   },
   "outputs": [],
   "source": [
    "def tf_process_img(payload):\n",
    "\n",
    "    # the array based representation of the image will be used later in order to prepare the\n",
    "    # result image with boxes and labels on it.\n",
    "    t0 = time.time()\n",
    "    \n",
    "    image = Image.open(BytesIO(payload))\n",
    "    image_np = load_image_into_numpy_array(image)\n",
    "    \n",
    "    #image_np = np.array(payload)\n",
    "    #image_np_expanded = np.expand_dims(image_np, axis=0)\n",
    "    \n",
    "    # Actual detection.\n",
    "    t0_5 = time.time()\n",
    "    output_dict = run_inference_for_single_image(image_np, detection_graph)\n",
    "    # Visualization of the results of a detection.\n",
    "    results = get_object_locations(\n",
    "        output_dict['detection_boxes'],\n",
    "        output_dict['detection_classes'],\n",
    "        output_dict['detection_scores'],\n",
    "        category_index,\n",
    "        instance_masks=output_dict.get('detection_masks'),\n",
    "        min_score_thresh = .6,\n",
    "        use_normalized_coordinates=True,\n",
    "        line_thickness=8)\n",
    "\n",
    "    t1 = time.time()\n",
    "    \n",
    "    tf_detect = t0_5 - t0\n",
    "    tf_io = t1-t0\n",
    "    #print(\"Time to TF detect:\", t0_5-t0, \", overall time to TF detect\", t1-t0)\n",
    "\n",
    "    return results, tf_detect, tf_io"
   ]
  },
  {
   "cell_type": "code",
   "execution_count": 12,
   "metadata": {
    "collapsed": true
   },
   "outputs": [],
   "source": [
    "def marker_process(payload):\n",
    "    \n",
    "    t0 = time.time()\n",
    "    nparr = np.fromstring(payload, np.uint8)\n",
    "    image = cv2.imdecode(nparr, cv2.IMREAD_COLOR)\n",
    "    \n",
    "    plt.imshow(image)\n",
    "    \n",
    "    markers = detect_markers(image)\n",
    "    \n",
    "    t1 = time.time() - t0\n",
    "    return markers, t1"
   ]
  },
  {
   "cell_type": "code",
   "execution_count": 13,
   "metadata": {
    "collapsed": true
   },
   "outputs": [],
   "source": [
    "# In[2]:\n",
    "\n",
    "def cv_process_img(payload):\n",
    "    \n",
    "    nparr = np.fromstring(payload, np.uint8)\n",
    "    image = cv2.imdecode(nparr, cv2.IMREAD_COLOR)\n",
    "            \n",
    "    result = []    \n",
    "    MIN_MATCH_COUNT = math.ceil(30/(max(largest)/max(image.shape)))*10 # very relaxed matching at 10 matches minimum\n",
    "    #print(\"MIN_MATCH_COUNT:\", MIN_MATCH_COUNT)\n",
    "    #print(\"Image size:\",image.shape)\n",
    "    query_img = image\n",
    "    \n",
    "    t0 = time.time()\n",
    "\n",
    "    if \"ORB\" in detection_mode:\n",
    "        \n",
    "        rKP, rDES = roKP, roDES\n",
    "        qKP, qDES = orbDetector.detectAndCompute(query_img, None)\n",
    "        \n",
    "        try:\n",
    "            good = orbMatcher.match(rDES,qDESA)\n",
    "        except:\n",
    "            state = \"Matching Error: not enough query points.\"\n",
    "            result.append(state)\n",
    "            result.append(query_img)\n",
    "            result.append(np.array([]))\n",
    "            t1 = time.time()\n",
    "            cv_time = t1-t0 #print(state,\"Time to process:\", t1-t0)\n",
    "            result.append((t1-t0))\n",
    "            return result \n",
    "        \n",
    "    else:\n",
    "        # Default to SIFT if non-TF\n",
    "        \n",
    "        rKP, rDES = rsKP, rsDES\n",
    "        qKP, qDES = siftDetector.detectAndCompute(query_img, None)\n",
    "        \n",
    "        try:\n",
    "            matches = siftMatcher.knnMatch(rDES,qDES,k=2)\n",
    "        except:\n",
    "            state = \"Matching Error: not enough query points.\"\n",
    "            result.append(state)\n",
    "            result.append(query_img)\n",
    "            result.append(np.array([]))\n",
    "            t1 = time.time()\n",
    "            cv_time = t1-t0 #print(state,\"Time to process:\", t1-t0)\n",
    "            result.append((t1-t0))\n",
    "            return result    \n",
    "\n",
    "        # store all the good matches as per Lowe's ratio test.\n",
    "        good = []\n",
    "        distances = []\n",
    "\n",
    "        for m,n in matches:\n",
    "            distances.append(m.distance)\n",
    "            if m.distance < 0.75*n.distance:\n",
    "                good.append(m)\n",
    "                \n",
    "    good = sorted(good, key = lambda x:x.distance)\n",
    "\n",
    "    if len(good)>MIN_MATCH_COUNT:\n",
    "        state = \"Enough matches: object is propbably in view.\"\n",
    "        # extract location of points in both images\n",
    "        src_pts = np.float32([ rKP[m.queryIdx].pt for m in good ]).reshape(-1,1,2)\n",
    "        dst_pts = np.float32([ qKP[m.trainIdx].pt for m in good ]).reshape(-1,1,2)\n",
    "\n",
    "        # find the perspective transform\n",
    "        M, mask = cv2.findHomography(src_pts, dst_pts, cv2.RANSAC,5.0)\n",
    "        matchesMask = mask.ravel().tolist()\n",
    "\n",
    "        # get the transform points in the (captured) query image\n",
    "        h,w = ref_img.shape\n",
    "        pts = np.float32([ [0,0],[0,h-1],[w-1,h-1],[w-1,0] ]).reshape(-1,1,2)\n",
    "\n",
    "        try:\n",
    "            dst = cv2.perspectiveTransform(pts,M)\n",
    "            # draw the transformed image\n",
    "            result.append(state)\n",
    "            result.append(cv2.drawContours(query_img,[np.int32(dst)],-1,(255,0,0),6))\n",
    "            result.append(dst)\n",
    "        except:\n",
    "            state = \"Error getting perspective transform.\"\n",
    "            result.append(state)\n",
    "            result.append(query_img)\n",
    "            result.append(np.array([]))\n",
    "        finally:\n",
    "            t1 = time.time()\n",
    "            cv_time = t1-t0 #print(state,\"Time to CV process:\", t1-t0)\n",
    "            result.append((t1-t0))\n",
    "\n",
    "    else:\n",
    "        state = \"Not enough matches:\"+ str(len(good))\n",
    "        result.append(state)\n",
    "        result.append(query_img)\n",
    "        result.append(np.array([]))\n",
    "        t1 = time.time()\n",
    "        cv_time = t1-t0 #print(state,\"Time to CV process:\", t1-t0)\n",
    "        result.append((t1-t0))\n",
    "\n",
    "    return result, cv_time"
   ]
  },
  {
   "cell_type": "code",
   "execution_count": 14,
   "metadata": {},
   "outputs": [],
   "source": [
    "def resultsToTree(tf_result, cv_result, marker_result):\n",
    "    mr_objects = Element(\"mr_objects\")\n",
    "    #print(\"Goes before check.\")\n",
    "\n",
    "    if tf_result:\n",
    "        #print(\"Goes inside TF check.\")\n",
    "        # Adding the results from the TF operation to the XmlTree\n",
    "        #print(len(tf_result),\"TF object/s\")\n",
    "        for box, name in tf_result.items():\n",
    "            ymin, xmin, ymax, xmax = box\n",
    "            object = SubElement(mr_objects,\"object\")\n",
    "            SubElement(object, \"type\").text = \"TF\"\n",
    "            SubElement(object, \"name\").text = str(name)\n",
    "            SubElement(object, \"ymin\").text = str(ymin)\n",
    "            SubElement(object, \"xmin\").text = str(xmin)\n",
    "            SubElement(object, \"ymax\").text = str(ymax)\n",
    "            SubElement(object, \"xmax\").text = str(xmax)\n",
    "  \n",
    "    if cv_result:\n",
    "        cv_result_list = []\n",
    "        #print(\"Goes inside CV check.\")\n",
    "        for point in cv_result:\n",
    "            cv_result_list.append(point[0])\n",
    "        cv_exes = sorted(cv_result_list, key=lambda x: x[0])\n",
    "        cv_eyes = sorted(cv_result_list, key=lambda x: x[1])\n",
    "        # Adding the cv_results from the CV detection to the XmlTree\n",
    "        object = SubElement(mr_objects,\"object\")\n",
    "        SubElement(object, \"type\").text = \"CV\"\n",
    "        SubElement(object, \"name\").text = \"cv\"\n",
    "        SubElement(object, \"ymin\").text = str(cv_result_list[0][1])\n",
    "        SubElement(object, \"xmin\").text = str(cv_result_list[0][0])\n",
    "        SubElement(object, \"ymax\").text = str(cv_result_list[3][1])\n",
    "        SubElement(object, \"xmax\").text = str(cv_result_list[3][0])\n",
    "        \n",
    "    if marker_result:\n",
    "        for marker in marker_result:\n",
    "            object = SubElement(mr_objects,\"object\")\n",
    "            SubElement(object, \"type\").text = \"MARKER\"\n",
    "            SubElement(object, \"name\").text = str(marker.id)\n",
    "            exes = [marker.contours[0][0][0],marker.contours[1][0][0],marker.contours[2][0][0],marker.contours[3][0][0]]\n",
    "            eyes = [marker.contours[0][0][1],marker.contours[1][0][1],marker.contours[2][0][1],marker.contours[3][0][1]]\n",
    "            exes.sort()\n",
    "            eyes.sort()\n",
    "            SubElement(object, \"ymin\").text = str(eyes[0])\n",
    "            SubElement(object, \"xmin\").text = str(exes[0])\n",
    "            SubElement(object, \"ymax\").text = str(eyes[-1])\n",
    "            SubElement(object, \"xmax\").text = str(exes[-1])\n",
    "\n",
    "    tree = ElementTree(mr_objects)\n",
    "    \n",
    "    return tree"
   ]
  },
  {
   "cell_type": "code",
   "execution_count": 15,
   "metadata": {
    "collapsed": true
   },
   "outputs": [],
   "source": [
    "# In[3]:\n",
    "\n",
    "# HTTPRequestHandler class\n",
    "class testHTTPServer_RequestHandler(BaseHTTPRequestHandler):\n",
    "\n",
    "  # GET\n",
    "    def do_GET(self):\n",
    "        # Send response status code\n",
    "        self.send_response(200)\n",
    "\n",
    "        # Send headers\n",
    "        self.send_header('Content-type','text/html')\n",
    "        self.end_headers()\n",
    "\n",
    "        # Send message back to client\n",
    "        message = \"Hello world!\"\n",
    "        # Write content as utf-8 data\n",
    "        self.wfile.write(bytes(message, \"utf8\"))\n",
    "        return\n",
    "    \n",
    "    \n",
    "    def do_POST(self):\n",
    "        #print( \"incoming http: \", self.path )\n",
    "        t0 = time.time()\n",
    "        tf_detect = 0\n",
    "        tf_io = 0\n",
    "        cv_time = 0\n",
    "\n",
    "        # Gets the parameters of the data\n",
    "        detection_mode = self.headers['Detection-mode']\n",
    "        content_length = int(self.headers['Content-Length'])\n",
    "        content_type = self.headers['Content-type']\n",
    "                \n",
    "        if \"image\" in content_type:\n",
    "            \n",
    "            # Gets the data itself. Also, we over-catch by 16 bytes.\n",
    "            post_data = self.rfile.read(content_length+16)\n",
    "\n",
    "            #print(\"Length of content:\", len(post_data))\n",
    "            #print(\"Before pruning\\n\", post_data)\n",
    "\n",
    "            # We remove the first set of bytes up until the first\n",
    "            # carraige return and newline.\n",
    "            for b in np.arange(len(post_data)):\n",
    "               # Checking where the first newline is\n",
    "                if post_data[b] == 13:\n",
    "                    post_data = post_data[b+2:]\n",
    "                    break\n",
    "                else:\n",
    "                    continue\n",
    "\n",
    "            #stream = BytesIO(post_data)\n",
    "            #tmp = 'tmp.jpg'\n",
    "            #with open('tmp.jpg','wb') as out:\n",
    "            #    out.write(post_data)\n",
    "\n",
    "            #out.close()\n",
    "            # Converting the byte buffer to an numpy array for opencv and tf\n",
    "            #nparr = np.fromstring(post_data, np.uint8)\n",
    "            #img_np = cv2.imdecode(nparr, cv2.IMREAD_COLOR)\n",
    "            marker_time = 0\n",
    "            cv_time = 0\n",
    "            tf_detect = 0\n",
    "            tf_io = 0\n",
    "            try:\n",
    "                if \"TF\" in detection_mode:\n",
    "                    tf_result, tf_detect, tf_io = tf_process_img(post_data)         \n",
    "                    t1 = time.time()\n",
    "                    resultTree = resultsToTree(tf_result,[],[])\n",
    "\n",
    "                elif \"MARKER\" in detection_mode:\n",
    "                    marker_result, marker_time = marker_process(post_data)                        \n",
    "                    t1 = time.time()\n",
    "                    resultTree = resultsToTree([],[],marker_result)\n",
    "\n",
    "                else:\n",
    "                    cv_result, cv_time = cv_process_img(post_data)\n",
    "                    t1 = time.time()\n",
    "                    resultTree = resultsToTree([],cv_result[2],[])\n",
    "                \n",
    "                print(\"Successful results.\")\n",
    "                resultTree.write(\"result.xml\")\n",
    "\n",
    "                # Send message back to client\n",
    "                # Write content as utf-8 data\n",
    "                #print(len(final_img))\n",
    "                #if len(final_img)>3:\n",
    "                #    message = bytes(str(cv_result[3])+ \"\\n\" + np.array2string(final_img[2],precision=0,separator=','), \"utf8\")\n",
    "                #    print(str(message))\n",
    "                #else:\n",
    "                #    message = bytes(str(cv_result[3])+ \"\\n\" + cv_result[0], \"utf8\")\n",
    "\n",
    "                t2 = time.time()\n",
    "                result = 'result.xml'\n",
    "                payload = open(result,'rb')\n",
    "\n",
    "                # Send response\n",
    "                self.send_response(200)\n",
    "                # Send headers\n",
    "                self.send_header('Content-type','text/xml')\n",
    "                self.send_header('Content-length',str(os.path.getsize(result)))\n",
    "                self.end_headers()\n",
    "\n",
    "                self.wfile.write(payload.readline())\n",
    "                #self.wfile.write(bytes(payload, \"utf8\"))\n",
    "                payload.close()\n",
    "            except Exception as e:\n",
    "                t1 = time.time()\n",
    "                #print(e)\n",
    "                print(\"Failed results: \", e)\n",
    "                t2 = time.time()\n",
    "                self.send_response(200)\n",
    "                message = 'Detection Error'\n",
    "                self.send_header('Content-type','text/html')\n",
    "                self.end_headers()\n",
    "                self.wfile.write(bytes(message, \"utf8\"))\n",
    "            finally:\n",
    "                t3 = time.time()                \n",
    "                print(detection_mode,\":\",(cv_time*1000), \",\",(marker_time*1000), \",\", (tf_detect*1000),\",\",(tf_io*1000),\",\", (t1-t0)*1000,\",\",(t3-t1)*1000,\",\",(t3-t0)*1000)\n",
    "                #print(\"XML/Tree operation:\",t2-t1)\n",
    "                #print(\"Sending output\", t3-t2)\n",
    "                #print(\"Overall time:\",t3-t0)            \n",
    "\n",
    "        else:\n",
    "            print(\"Content-type is \", content_type,\". Should be image.\")\n",
    "            self.send_response(200)\n",
    "            self.send_header('Content-type','text/html')\n",
    "            self.end_headers()\n",
    "\n",
    "            # Send message back to client\n",
    "            message = \"Object not detected.\"\n",
    "            # Write content as utf-8 data\n",
    "            self.wfile.write(bytes(message, \"utf8\"))\n",
    "\n",
    "        self.close_connection\n",
    "        return\n",
    "        #client.close()"
   ]
  },
  {
   "cell_type": "code",
   "execution_count": null,
   "metadata": {
    "collapsed": true
   },
   "outputs": [],
   "source": [
    "# In[4]:\n",
    "\n",
    "def run():\n",
    "    print('starting server...')\n",
    " \n",
    "  # Server settings\n",
    "  # Choose port 8080, for port 80, which is normally used for a http server, you need root access\n",
    "    server_address = ('0.0.0.0', 8081)\n",
    "    httpd = HTTPServer(server_address, testHTTPServer_RequestHandler)\n",
    "    print('running server...')\n",
    "    print(\"CV_Time, Marker_Time, TF_Detect, TF_IO, Overall_Detection, XML_Output, Overall (ms)\")\n",
    "    httpd.serve_forever()"
   ]
  },
  {
   "cell_type": "code",
   "execution_count": null,
   "metadata": {
    "scrolled": true
   },
   "outputs": [
    {
     "name": "stdout",
     "output_type": "stream",
     "text": [
      "starting server...\n",
      "running server...\n",
      "CV_Time, Marker_Time, TF_Detect, TF_IO, Overall_Detection, XML_Output, Overall (ms)\n",
      "Markers detected:  2\n",
      "Marker:  <Marker id=243 center=(168, 63)>\n",
      "Marker:  <Marker id=243 center=(168, 63)>\n",
      "Goes before check.\n",
      "Goes inside marker check.\n",
      "Successful results.\n",
      "MARKER : 0 , 34.0728759765625 , 0 , 0 , 40.550947189331055 , 2.5701522827148438 , 43.1210994720459\n",
      "Markers detected:  2\n",
      "Marker:  <Marker id=243 center=(169, 61)>\n",
      "Marker:  <Marker id=243 center=(169, 61)>\n",
      "Goes before check.\n",
      "Goes inside marker check.\n",
      "Successful results.\n",
      "MARKER : 0 , 9.837150573730469 , 0 , 0 , 16.07990264892578 , 2.270221710205078 , 18.35012435913086\n",
      "Markers detected:  2\n",
      "Marker:  <Marker id=243 center=(171, 61)>\n",
      "Marker:  <Marker id=243 center=(171, 60)>\n",
      "Goes before check.\n",
      "Goes inside marker check.\n",
      "Successful results.\n",
      "MARKER : 0 , 9.050846099853516 , 0 , 0 , 14.528989791870117 , 1.035928726196289 , 15.564918518066406\n",
      "Markers detected:  2\n",
      "Marker:  <Marker id=243 center=(172, 61)>\n",
      "Marker:  <Marker id=243 center=(172, 61)>\n",
      "Goes before check.\n",
      "Goes inside marker check.\n",
      "Successful results.\n",
      "MARKER : 0 , 9.009838104248047 , 0 , 0 , 17.525196075439453 , 0.9870529174804688 , 18.512248992919922\n"
     ]
    },
    {
     "name": "stderr",
     "output_type": "stream",
     "text": [
      "150.229.118.204 - - [24/Jul/2018 12:52:27] \"POST / HTTP/1.1\" 200 -\n",
      "150.229.118.204 - - [24/Jul/2018 12:52:27] \"POST / HTTP/1.1\" 200 -\n",
      "150.229.118.204 - - [24/Jul/2018 12:52:27] \"POST / HTTP/1.1\" 200 -\n",
      "150.229.118.204 - - [24/Jul/2018 12:52:27] \"POST / HTTP/1.1\" 200 -\n"
     ]
    },
    {
     "name": "stdout",
     "output_type": "stream",
     "text": [
      "Markers detected:  4\n",
      "Marker:  <Marker id=1 center=(161, 183)>\n",
      "Marker:  <Marker id=1 center=(161, 183)>\n",
      "Marker:  <Marker id=243 center=(172, 60)>\n",
      "Marker:  <Marker id=243 center=(172, 60)>\n",
      "Goes before check.\n",
      "Goes inside marker check.\n",
      "Successful results.\n",
      "MARKER : 0 , 8.30984115600586 , 0 , 0 , 20.544052124023438 , 1.046895980834961 , 21.5909481048584\n",
      "Markers detected:  2\n",
      "Marker:  <Marker id=243 center=(172, 60)>\n",
      "Marker:  <Marker id=243 center=(172, 60)>\n",
      "Goes before check.\n",
      "Goes inside marker check.\n",
      "Successful results.\n",
      "MARKER : 0 , 8.942127227783203 , 0 , 0 , 14.134883880615234 , 1.1060237884521484 , 15.240907669067383\n",
      "Markers detected:  2\n",
      "Marker:  <Marker id=243 center=(172, 60)>\n",
      "Marker:  <Marker id=243 center=(172, 59)>\n",
      "Goes before check.\n",
      "Goes inside marker check.\n",
      "Successful results.\n",
      "MARKER : 0 , 9.332895278930664 , 0 , 0 , 15.758037567138672 , 1.3170242309570312 , 17.075061798095703\n",
      "Markers detected:  2\n",
      "Marker:  <Marker id=243 center=(172, 59)>\n",
      "Marker:  <Marker id=243 center=(172, 59)>\n",
      "Goes before check.\n",
      "Goes inside marker check.\n",
      "Successful results.\n",
      "MARKER : 0 , 9.066343307495117 , 0 "
     ]
    },
    {
     "name": "stderr",
     "output_type": "stream",
     "text": [
      "150.229.118.204 - - [24/Jul/2018 12:52:27] \"POST / HTTP/1.1\" 200 -\n",
      "150.229.118.204 - - [24/Jul/2018 12:52:27] \"POST / HTTP/1.1\" 200 -\n",
      "150.229.118.204 - - [24/Jul/2018 12:52:27] \"POST / HTTP/1.1\" 200 -\n",
      "150.229.118.204 - - [24/Jul/2018 12:52:27] \"POST / HTTP/1.1\" 200 -\n"
     ]
    },
    {
     "name": "stdout",
     "output_type": "stream",
     "text": [
      ", 0 , 17.587900161743164 , 0.8780956268310547 , 18.46599578857422\n",
      "Markers detected:  2\n",
      "Marker:  <Marker id=243 center=(171, 59)>\n",
      "Marker:  <Marker id=243 center=(171, 59)>\n",
      "Goes before check.\n",
      "Goes inside marker check.\n",
      "Successful results.\n",
      "MARKER : 0 , 9.24229621887207 , 0 , 0 , 16.566991806030273 , 1.3210773468017578 , 17.88806915283203\n",
      "Markers detected:  2\n",
      "Marker:  <Marker id=243 center=(171, 59)>\n",
      "Marker:  <Marker id=243 center=(171, 59)>\n",
      "Goes before check.\n",
      "Goes inside marker check.\n",
      "Successful results.\n",
      "MARKER : 0 , 8.978843688964844 , 0 , 0 , 15.108108520507812 , 0.972747802734375 , 16.080856323242188\n",
      "Markers detected:  2\n",
      "Marker:  <Marker id=243 center=(170, 59)>\n",
      "Marker:  <Marker id=243 center=(170, 58)>\n",
      "Goes before check.\n",
      "Goes inside marker check.\n",
      "Successful results.\n",
      "MARKER : 0 , 7.829189300537109 , 0 , 0 , 12.87388801574707 , 1.068115234375 , 13.94200325012207\n",
      "Markers detected:  2\n",
      "Marker:  <Marker id=243 center=(170, 59)>\n",
      "Marker:  <Marker id=243 center=(170, 59)>\n",
      "Goes before check.\n",
      "Goes inside marker check.\n",
      "Successful results.\n",
      "MARKER : 0 , 8.867979049682617 , 0 , 0 , 17.274141311645508 , 1.4357566833496094 , 18.709897994995117\n"
     ]
    },
    {
     "name": "stderr",
     "output_type": "stream",
     "text": [
      "150.229.118.204 - - [24/Jul/2018 12:52:27] \"POST / HTTP/1.1\" 200 -\n",
      "150.229.118.204 - - [24/Jul/2018 12:52:27] \"POST / HTTP/1.1\" 200 -\n",
      "150.229.118.204 - - [24/Jul/2018 12:52:27] \"POST / HTTP/1.1\" 200 -\n",
      "150.229.118.204 - - [24/Jul/2018 12:52:27] \"POST / HTTP/1.1\" 200 -\n"
     ]
    },
    {
     "name": "stdout",
     "output_type": "stream",
     "text": [
      "Markers detected:  2\n",
      "Marker:  <Marker id=243 center=(168, 59)>\n",
      "Marker:  <Marker id=243 center=(168, 59)>\n",
      "Goes before check.\n",
      "Goes inside marker check.\n",
      "Successful results.\n",
      "MARKER : 0 , 8.432149887084961 , 0 , 0 , 15.201091766357422 , 1.1210441589355469 , 16.32213592529297\n",
      "Markers detected:  2\n",
      "Marker:  <Marker id=243 center=(167, 59)>\n",
      "Marker:  <Marker id=243 center=(167, 59)>\n",
      "Goes before check.\n",
      "Goes inside marker check.\n",
      "Successful results.\n",
      "MARKER : 0 , 8.743047714233398 , 0 , 0 , 15.910863876342773 , 1.0223388671875 , 16.933202743530273\n",
      "Markers detected:  2\n",
      "Marker:  <Marker id=243 center=(165, 59)>\n",
      "Marker:  <Marker id=243 center=(165, 59)>\n",
      "Goes before check.\n",
      "Goes inside marker check.\n",
      "Successful results.\n",
      "MARKER : 0 , 9.183883666992188 , 0 , 0 , 17.267942428588867 , 2.1970272064208984 , 19.464969635009766\n",
      "Markers detected: "
     ]
    },
    {
     "name": "stderr",
     "output_type": "stream",
     "text": [
      "150.229.118.204 - - [24/Jul/2018 12:52:27] \"POST / HTTP/1.1\" 200 -\n",
      "150.229.118.204 - - [24/Jul/2018 12:52:27] \"POST / HTTP/1.1\" 200 -\n",
      "150.229.118.204 - - [24/Jul/2018 12:52:28] \"POST / HTTP/1.1\" 200 -\n"
     ]
    },
    {
     "name": "stdout",
     "output_type": "stream",
     "text": [
      " 2\n",
      "Marker:  <Marker id=243 center=(162, 59)>\n",
      "Marker:  <Marker id=243 center=(162, 59)>\n",
      "Goes before check.\n",
      "Goes inside marker check.\n",
      "Successful results.\n",
      "MARKER : 0 , 10.508060455322266 , 0 , 0 , 16.72506332397461 , 2.338886260986328 , 19.063949584960938\n",
      "Markers detected:  2\n",
      "Marker:  <Marker id=243 center=(160, 57)>\n",
      "Marker:  <Marker id=243 center=(160, 58)>\n",
      "Goes before check.\n",
      "Goes inside marker check.\n",
      "Successful results.\n",
      "MARKER : 0 , 9.216070175170898 , 0 , 0 , 16.292095184326172 , 2.074003219604492 , 18.366098403930664\n",
      "Markers detected:  2\n",
      "Marker:  <Marker id=243 center=(158, 57)>\n",
      "Marker:  <Marker id=243 center=(158, 57)>\n",
      "Goes before check.\n",
      "Goes inside marker check.\n",
      "Successful results.\n",
      "MARKER : 0 , 8.695125579833984 , 0 , 0 , 14.729976654052734 , 1.1439323425292969 , 15.873908996582031\n"
     ]
    },
    {
     "name": "stderr",
     "output_type": "stream",
     "text": [
      "150.229.118.204 - - [24/Jul/2018 12:52:28] \"POST / HTTP/1.1\" 200 -\n",
      "150.229.118.204 - - [24/Jul/2018 12:52:28] \"POST / HTTP/1.1\" 200 -\n",
      "150.229.118.204 - - [24/Jul/2018 12:52:28] \"POST / HTTP/1.1\" 200 -\n",
      "150.229.118.204 - - [24/Jul/2018 12:52:28] \"POST / HTTP/1.1\" 200 -\n"
     ]
    },
    {
     "name": "stdout",
     "output_type": "stream",
     "text": [
      "Markers detected:  2\n",
      "Marker:  <Marker id=243 center=(158, 56)>\n",
      "Marker:  <Marker id=243 center=(158, 56)>\n",
      "Goes before check.\n",
      "Goes inside marker check.\n",
      "Successful results.\n",
      "MARKER : 0 , 7.5740814208984375 , 0 , 0 , 16.633272171020508 , 0.8487701416015625 , 17.48204231262207\n",
      "Markers detected:  2\n",
      "Marker:  <Marker id=243 center=(158, 57)>\n",
      "Marker:  <Marker id=243 center=(158, 57)>\n",
      "Goes before check.\n",
      "Goes inside marker check.\n",
      "Successful results.\n",
      "MARKER : 0 , 7.786989212036133 , 0 , 0 , 111.3901138305664 , 2.1638870239257812 , 113.55400085449219\n"
     ]
    },
    {
     "name": "stderr",
     "output_type": "stream",
     "text": [
      "150.229.118.204 - - [24/Jul/2018 12:52:28] \"POST / HTTP/1.1\" 200 -\n"
     ]
    },
    {
     "name": "stdout",
     "output_type": "stream",
     "text": [
      "Markers detected:  3\n",
      "Marker:  <Marker id=1 center=(131, 235)>\n",
      "Marker:  <Marker id=243 center=(134, 110)>\n",
      "Marker:  <Marker id=243 center=(134, 110)>\n",
      "Goes before check.\n",
      "Goes inside marker check.\n",
      "Successful results.\n",
      "MARKER : 0 , 11.579275131225586 , 0 , 0 , 22.96304702758789 , 2.03704833984375 , 25.00009536743164\n",
      "Markers detected:  2\n",
      "Marker:  <Marker id=243 center=(134, 109)>\n",
      "Marker:  <Marker id=243 center=(134, 110)>\n",
      "Goes before check.\n",
      "Goes inside marker check.\n",
      "Successful results.\n",
      "MARKER : 0 , 11.216163635253906 , 0 , 0 , 16.917943954467773 , 0.8120536804199219 , 17.729997634887695\n",
      "Markers detected:  0\n",
      "Goes before check.\n",
      "Successful results.\n",
      "MARKER : 0 , 9.466171264648438 , 0 , 0 , 14.745950698852539 , 0.7481575012207031 , 15.494108200073242\n",
      "Markers detected:  0\n",
      "Goes before check.\n",
      "Successful results.\n",
      "MARKER : 0 , 9.569644927978516 , 0 , 0 , 13.57889175415039 , 1.2519359588623047 , 14.830827713012695\n"
     ]
    },
    {
     "name": "stderr",
     "output_type": "stream",
     "text": [
      "150.229.118.204 - - [24/Jul/2018 12:52:48] \"POST / HTTP/1.1\" 200 -\n",
      "150.229.118.204 - - [24/Jul/2018 12:52:48] \"POST / HTTP/1.1\" 200 -\n",
      "150.229.118.204 - - [24/Jul/2018 12:52:48] \"POST / HTTP/1.1\" 200 -\n",
      "150.229.118.204 - - [24/Jul/2018 12:52:48] \"POST / HTTP/1.1\" 200 -\n"
     ]
    },
    {
     "name": "stdout",
     "output_type": "stream",
     "text": [
      "Markers detected:  0\n",
      "Goes before check.\n",
      "Successful results.\n",
      "MARKER : 0 , 9.31406021118164 , 0 , 0 , 17.923831939697266 , 0.7910728454589844 , 18.71490478515625\n",
      "Markers detected:  2\n",
      "Marker:  <Marker id=243 center=(134, 108)>\n",
      "Marker:  <Marker id=243 center=(134, 108)>\n",
      "Goes before check.\n",
      "Goes inside marker check.\n",
      "Successful results.\n",
      "MARKER : 0 , 11.17086410522461 , 0 , 0 , 21.019935607910156 , 1.0368824005126953 , 22.05681800842285\n",
      "Markers detected:  2\n",
      "Marker:  <Marker id=243 center=(133, 107)>\n",
      "Marker:  <Marker id=243 center=(133, 107)>\n",
      "Goes before check.\n",
      "Goes inside marker check.\n",
      "Successful results.\n",
      "MARKER : 0 , 11.809110641479492 , 0 , 0 , 22.704124450683594 , 0.8919239044189453 , 23.59604835510254\n",
      "Markers detected: "
     ]
    },
    {
     "name": "stderr",
     "output_type": "stream",
     "text": [
      "150.229.118.204 - - [24/Jul/2018 12:52:48] \"POST / HTTP/1.1\" 200 -\n",
      "150.229.118.204 - - [24/Jul/2018 12:52:48] \"POST / HTTP/1.1\" 200 -\n",
      "150.229.118.204 - - [24/Jul/2018 12:52:48] \"POST / HTTP/1.1\" 200 -\n"
     ]
    },
    {
     "name": "stdout",
     "output_type": "stream",
     "text": [
      " 2\n",
      "Marker:  <Marker id=243 center=(134, 107)>\n",
      "Marker:  <Marker id=243 center=(133, 107)>\n",
      "Goes before check.\n",
      "Goes inside marker check.\n",
      "Successful results.\n",
      "MARKER : 0 , 10.882854461669922 , 0 , 0 , 23.681163787841797 , 1.3797283172607422 , 25.06089210510254\n",
      "Markers detected:  2\n",
      "Marker:  <Marker id=243 center=(133, 107)>\n",
      "Marker:  <Marker id=243 center=(133, 107)>\n",
      "Goes before check.\n",
      "Goes inside marker check.\n",
      "Successful results.\n",
      "MARKER : 0 , 11.163711547851562 , 0 , 0 , 23.797035217285156 , 1.4369487762451172 , 25.233983993530273\n",
      "Markers detected:  2\n",
      "Marker:  <Marker id=243 center=(133, 107)>\n",
      "Marker:  <Marker id=243 center=(133, 107)>\n",
      "Goes before check.\n",
      "Goes inside marker check.\n",
      "Successful results.\n",
      "MARKER : 0 , 10.656118392944336 , 0 , 0 , 20.821809768676758 , 1.0859966278076172 , 21.907806396484375\n",
      "Markers detected:  2\n",
      "Marker:  <Marker id=243 center=(133, 107)>\n",
      "Marker:  <Marker id=243 center=(133, 107)>\n",
      "Goes before check.\n",
      "Goes inside marker check.\n",
      "Successful results.\n",
      "MARKER : 0 , 11.41500473022461 , 0 , 0 , 21.6372013092041 , 1.3308525085449219 , 22.968053817749023\n"
     ]
    },
    {
     "name": "stderr",
     "output_type": "stream",
     "text": [
      "150.229.118.204 - - [24/Jul/2018 12:52:48] \"POST / HTTP/1.1\" 200 -\n",
      "150.229.118.204 - - [24/Jul/2018 12:52:49] \"POST / HTTP/1.1\" 200 -\n",
      "150.229.118.204 - - [24/Jul/2018 12:52:49] \"POST / HTTP/1.1\" 200 -\n",
      "150.229.118.204 - - [24/Jul/2018 12:52:49] \"POST / HTTP/1.1\" 200 -\n",
      "150.229.118.204 - - [24/Jul/2018 12:52:49] \"POST / HTTP/1.1\" 200 -\n"
     ]
    },
    {
     "name": "stdout",
     "output_type": "stream",
     "text": [
      "Markers detected:  2\n",
      "Marker:  <Marker id=243 center=(133, 106)>\n",
      "Marker:  <Marker id=243 center=(133, 106)>\n",
      "Goes before check.\n",
      "Goes inside marker check.\n",
      "Successful results.\n",
      "MARKER : 0 , 10.53309440612793 , 0 , 0 , 18.019914627075195 , 0.86212158203125 , 18.882036209106445\n",
      "Markers detected:  4\n",
      "Marker:  <Marker id=1 center=(129, 236)>\n",
      "Marker:  <Marker id=1 center=(129, 236)>\n",
      "Marker:  <Marker id=243 center=(133, 106)>\n",
      "Marker:  <Marker id=243 center=(133, 106)>\n",
      "Goes before check.\n",
      "Goes inside marker check.\n",
      "Successful results.\n",
      "MARKER : 0 , 11.789083480834961 , 0 , 0 , 18.618345260620117 , 1.119852066040039 , 19.738197326660156\n",
      "Markers detected:  2\n",
      "Marker:  <Marker id=243 center=(133, 106)>\n",
      "Marker:  <Marker id=243 center=(133, 106)>\n",
      "Goes before check.\n",
      "Goes inside marker check.\n",
      "Successful results.\n",
      "MARKER : 0 , 10.83683967590332 , 0 , 0 , 21.14415168762207 , 1.123189926147461 , 22.26734161376953\n",
      "Markers detected: "
     ]
    },
    {
     "name": "stderr",
     "output_type": "stream",
     "text": [
      "150.229.118.204 - - [24/Jul/2018 12:52:49] \"POST / HTTP/1.1\" 200 -\n",
      "150.229.118.204 - - [24/Jul/2018 12:52:49] \"POST / HTTP/1.1\" 200 -\n",
      "150.229.118.204 - - [24/Jul/2018 12:52:49] \"POST / HTTP/1.1\" 200 -\n",
      "150.229.118.204 - - [24/Jul/2018 12:52:49] \"POST / HTTP/1.1\" 200 -\n"
     ]
    },
    {
     "name": "stdout",
     "output_type": "stream",
     "text": [
      " 3\n",
      "Marker:  <Marker id=1 center=(129, 236)>\n",
      "Marker:  <Marker id=243 center=(133, 105)>\n",
      "Marker:  <Marker id=243 center=(133, 105)>\n",
      "Goes before check.\n",
      "Goes inside marker check.\n",
      "Successful results.\n",
      "MARKER : 0 , 10.998010635375977 , 0 , 0 , 20.095109939575195 , 1.171112060546875 , 21.26622200012207\n",
      "Markers detected:  2\n",
      "Marker:  <Marker id=243 center=(133, 106)>\n",
      "Marker:  <Marker id=243 center=(133, 106)>\n",
      "Goes before check.\n",
      "Goes inside marker check.\n",
      "Successful results.\n",
      "MARKER : 0 , 10.521888732910156 , 0 , 0 , 18.964052200317383 , 1.3880729675292969 , 20.35212516784668\n",
      "Markers detected:  1\n",
      "Marker:  <Marker id=243 center=(133, 105)>\n",
      "Goes before check.\n",
      "Goes inside marker check.\n",
      "Successful results.\n",
      "MARKER : 0 , 10.74671745300293 , 0 , 0 , 19.122838973999023 , 0.9081363677978516 , 20.030975341796875\n"
     ]
    },
    {
     "name": "stderr",
     "output_type": "stream",
     "text": [
      "150.229.118.204 - - [24/Jul/2018 12:52:49] \"POST / HTTP/1.1\" 200 -\n",
      "150.229.118.204 - - [24/Jul/2018 12:52:49] \"POST / HTTP/1.1\" 200 -\n",
      "150.229.118.204 - - [24/Jul/2018 12:52:49] \"POST / HTTP/1.1\" 200 -\n"
     ]
    },
    {
     "name": "stdout",
     "output_type": "stream",
     "text": [
      "Markers detected:  2\n",
      "Marker:  <Marker id=1 center=(129, 235)>\n",
      "Marker:  <Marker id=243 center=(133, 104)>\n",
      "Goes before check.\n",
      "Goes inside marker check.\n",
      "Successful results.\n",
      "MARKER : 0 , 11.55996322631836 , 0 , 0 , 27.4960994720459 , 2.2559165954589844 , 29.752016067504883\n",
      "Markers detected:  2\n",
      "Marker:  <Marker id=243 center=(133, 104)>\n",
      "Marker:  <Marker id=243 center=(133, 104)>\n",
      "Goes before check.\n",
      "Goes inside marker check.\n",
      "Successful results.\n",
      "MARKER : 0 , 11.33418083190918 , 0 , 0 , 19.280195236206055 , 1.0139942169189453 , 20.294189453125\n",
      "Markers detected:  2\n",
      "Marker:  <Marker id=243 center=(133, 104)>\n",
      "Marker:  <Marker id=243 center=(133, 104)>\n",
      "Goes before check.\n",
      "Goes inside marker check.\n",
      "Successful results.\n",
      "MARKER : 0 , 8.726835250854492 , 0 , 0 , 20.033836364746094 , 2.3469924926757812 , 22.380828857421875\n"
     ]
    },
    {
     "name": "stderr",
     "output_type": "stream",
     "text": [
      "150.229.118.204 - - [24/Jul/2018 12:52:49] \"POST / HTTP/1.1\" 200 -\n"
     ]
    },
    {
     "name": "stdout",
     "output_type": "stream",
     "text": [
      "Markers detected:  2\n",
      "Marker:  <Marker id=1 center=(142, 248)>\n",
      "Marker:  <Marker id=243 center=(147, 87)>\n",
      "Goes before check.\n",
      "Goes inside marker check.\n",
      "Successful results.\n",
      "MARKER : 0 , 15.188217163085938 , 0 , 0 , 31.961679458618164 , 2.1371841430664062 , 34.09886360168457\n",
      "Markers detected:  3\n",
      "Marker:  <Marker id=1 center=(142, 249)>\n",
      "Marker:  <Marker id=243 center=(148, 86)>\n",
      "Marker:  <Marker id=243 center=(148, 86)>\n",
      "Goes before check.\n",
      "Goes inside marker check.\n",
      "Successful results.\n",
      "MARKER : 0 , 12.341022491455078 , 0 , 0 , 28.098106384277344 , 1.9838809967041016 , 30.081987380981445\n",
      "Markers detected:  0\n",
      "Goes before check.\n",
      "Successful results.\n",
      "MARKER : 0 , 11.949777603149414 , 0 , 0 , 16.084909439086914 , 0.8733272552490234 , 16.958236694335938\n"
     ]
    },
    {
     "name": "stderr",
     "output_type": "stream",
     "text": [
      "150.229.118.204 - - [24/Jul/2018 12:53:07] \"POST / HTTP/1.1\" 200 -\n",
      "150.229.118.204 - - [24/Jul/2018 12:53:07] \"POST / HTTP/1.1\" 200 -\n",
      "150.229.118.204 - - [24/Jul/2018 12:53:07] \"POST / HTTP/1.1\" 200 -\n"
     ]
    },
    {
     "name": "stdout",
     "output_type": "stream",
     "text": [
      "Markers detected:  1\n",
      "Marker:  <Marker id=243 center=(148, 87)>\n",
      "Goes before check.\n",
      "Goes inside marker check.\n",
      "Successful results.\n",
      "MARKER : 0 , 12.492895126342773 , 0 , 0 , 29.770374298095703 , 1.9636154174804688 , 31.733989715576172\n",
      "Markers detected:  2\n",
      "Marker:  <Marker id=243 center=(147, 86)>\n",
      "Marker:  <Marker id=243 center=(147, 86)>\n",
      "Goes before check.\n",
      "Goes inside marker check.\n",
      "Successful results.\n",
      "MARKER : 0 , 14.529943466186523 , 0 , 0 , 29.046058654785156 , 0.8409023284912109 , 29.886960983276367\n",
      "Markers detected:  4\n",
      "Marker:  <Marker id=1 center=(141, 250)>\n",
      "Marker:  <Marker id=1 center=(141, 250)>\n",
      "Marker:  <Marker id=243 center=(147, 86)>\n",
      "Marker:  <Marker id=243 center=(147, 87)>\n",
      "Goes before check.\n",
      "Goes inside marker check.\n",
      "Successful results.\n",
      "MARKER : 0 , 12.738227844238281 , 0 , 0 , 28.61499786376953 , 1.096963882446289 , 29.71196174621582\n",
      "Markers detected: "
     ]
    },
    {
     "name": "stderr",
     "output_type": "stream",
     "text": [
      "150.229.118.204 - - [24/Jul/2018 12:53:07] \"POST / HTTP/1.1\" 200 -\n",
      "150.229.118.204 - - [24/Jul/2018 12:53:07] \"POST / HTTP/1.1\" 200 -\n",
      "150.229.118.204 - - [24/Jul/2018 12:53:07] \"POST / HTTP/1.1\" 200 -\n"
     ]
    },
    {
     "name": "stdout",
     "output_type": "stream",
     "text": [
      " 2\n",
      "Marker:  <Marker id=243 center=(146, 84)>\n",
      "Marker:  <Marker id=243 center=(146, 84)>\n",
      "Goes before check.\n",
      "Goes inside marker check.\n",
      "Successful results.\n",
      "MARKER : 0 , 12.423038482666016 , 0 , 0 , 29.19483184814453 , 1.2531280517578125 , 30.447959899902344\n",
      "Markers detected:  2\n",
      "Marker:  <Marker id=243 center=(147, 85)>\n",
      "Marker:  <Marker id=243 center=(147, 85)>\n",
      "Goes before check.\n",
      "Goes inside marker check.\n",
      "Successful results.\n",
      "MARKER : 0 , 13.731956481933594 , 0 , 0 , 31.080961227416992 , 1.1420249938964844 , 32.22298622131348\n",
      "Markers detected:  2\n",
      "Marker:  <Marker id=243 center=(147, 85)>\n",
      "Marker:  <Marker id=243 center=(146, 84)>\n",
      "Goes before check.\n",
      "Goes inside marker check.\n",
      "Successful results.\n",
      "MARKER : 0 , 12.115240097045898 , 0 , 0 , 31.692981719970703 , 1.0769367218017578 , 32.76991844177246\n",
      "Markers detected:  3\n",
      "Marker:  "
     ]
    },
    {
     "name": "stderr",
     "output_type": "stream",
     "text": [
      "150.229.118.204 - - [24/Jul/2018 12:53:07] \"POST / HTTP/1.1\" 200 -\n",
      "150.229.118.204 - - [24/Jul/2018 12:53:07] \"POST / HTTP/1.1\" 200 -\n",
      "150.229.118.204 - - [24/Jul/2018 12:53:07] \"POST / HTTP/1.1\" 200 -\n",
      "150.229.118.204 - - [24/Jul/2018 12:53:07] \"POST / HTTP/1.1\" 200 -\n",
      "150.229.118.204 - - [24/Jul/2018 12:53:07] \"POST / HTTP/1.1\" 200 -\n"
     ]
    },
    {
     "name": "stdout",
     "output_type": "stream",
     "text": [
      "<Marker id=1 center=(141, 251)>\n",
      "Marker:  <Marker id=243 center=(146, 84)>\n",
      "Marker:  <Marker id=243 center=(146, 84)>\n",
      "Goes before check.\n",
      "Goes inside marker check.\n",
      "Successful results.\n",
      "MARKER : 0 , 14.35089111328125 , 0 , 0 , 33.9360237121582 , 1.2969970703125 , 35.2330207824707\n",
      "Markers detected:  2\n",
      "Marker:  <Marker id=243 center=(146, 84)>\n",
      "Marker:  <Marker id=243 center=(146, 84)>\n",
      "Goes before check.\n",
      "Goes inside marker check.\n",
      "Successful results.\n",
      "MARKER : 0 , 12.46786117553711 , 0 , 0 , 26.5500545501709 , 1.0828971862792969 , 27.632951736450195\n",
      "Markers detected:  4\n",
      "Marker:  <Marker id=1 center=(141, 252)>\n",
      "Marker:  <Marker id=1 center=(141, 251)>\n",
      "Marker:  <Marker id=243 center=(147, 84)>\n",
      "Marker:  <Marker id=243 center=(147, 84)>\n",
      "Goes before check.\n",
      "Goes inside marker check.\n",
      "Successful results.\n",
      "MARKER : 0 , 13.175010681152344 , 0 , 0 , 28.6407470703125 , 1.3172626495361328 , 29.958009719848633\n",
      "Markers detected:  2\n",
      "Marker:  <Marker id=243 center=(146, 83)>\n",
      "Marker:  <Marker id=243 center=(147, 84)>\n",
      "Goes before check.\n",
      "Goes inside marker check.\n",
      "Successful results.\n",
      "MARKER : 0 , 12.226104736328125 , 0 , 0 , 29.14595603942871 , 0.7851123809814453 , 29.931068420410156\n"
     ]
    },
    {
     "name": "stderr",
     "output_type": "stream",
     "text": [
      "150.229.118.204 - - [24/Jul/2018 12:53:07] \"POST / HTTP/1.1\" 200 -\n",
      "150.229.118.204 - - [24/Jul/2018 12:53:07] \"POST / HTTP/1.1\" 200 -\n",
      "150.229.118.204 - - [24/Jul/2018 12:53:08] \"POST / HTTP/1.1\" 200 -\n",
      "150.229.118.204 - - [24/Jul/2018 12:53:08] \"POST / HTTP/1.1\" 200 -\n"
     ]
    },
    {
     "name": "stdout",
     "output_type": "stream",
     "text": [
      "Markers detected:  2\n",
      "Marker:  <Marker id=243 center=(147, 84)>\n",
      "Marker:  <Marker id=243 center=(146, 83)>\n",
      "Goes before check.\n",
      "Goes inside marker check.\n",
      "Successful results.\n",
      "MARKER : 0 , 11.951208114624023 , 0 , 0 , 31.648874282836914 , 0.7951259613037109 , 32.444000244140625\n",
      "Markers detected:  2\n",
      "Marker:  <Marker id=243 center=(147, 84)>\n",
      "Marker:  <Marker id=243 center=(147, 84)>\n",
      "Goes before check.\n",
      "Goes inside marker check.\n",
      "Successful results.\n",
      "MARKER : 0 , 13.10110092163086 , 0 , 0 , 25.72798728942871 , 0.8101463317871094 , 26.53813362121582\n",
      "Markers detected:  2\n",
      "Marker:  <Marker id=243 center=(147, 84)>\n",
      "Marker:  <Marker id=243 center=(147, 84)>\n",
      "Goes before check.\n",
      "Goes inside marker check.\n",
      "Successful results.\n",
      "MARKER : 0 , 13.469934463500977 , 0 , 0 , 27.170896530151367 , 1.026153564453125 , 28.197050094604492\n",
      "Markers detected:  4\n",
      "Marker:  <Marker id=1 center=(141, 251)>\n",
      "Marker:  <Marker id=1 center=(141, 251)>\n",
      "Marker:  <Marker id=243 center=(146, 84)>\n",
      "Marker:  <Marker id=243 center=(146, 84)>\n",
      "Goes before check.\n",
      "Goes inside marker check.\n",
      "Successful results.\n"
     ]
    },
    {
     "name": "stderr",
     "output_type": "stream",
     "text": [
      "150.229.118.204 - - [24/Jul/2018 12:53:08] \"POST / HTTP/1.1\" 200 -\n",
      "150.229.118.204 - - [24/Jul/2018 12:53:08] \"POST / HTTP/1.1\" 200 -\n",
      "150.229.118.204 - - [24/Jul/2018 12:53:08] \"POST / HTTP/1.1\" 200 -\n"
     ]
    },
    {
     "name": "stdout",
     "output_type": "stream",
     "text": [
      "MARKER : 0 , 13.286828994750977 , 0 , 0 , 31.517982482910156 , 1.0099411010742188 , 32.527923583984375\n",
      "Markers detected:  2\n",
      "Marker:  <Marker id=243 center=(147, 84)>\n",
      "Marker:  <Marker id=243 center=(147, 84)>\n",
      "Goes before check.\n",
      "Goes inside marker check.\n",
      "Successful results.\n",
      "MARKER : 0 , 12.964963912963867 , 0 , 0 , 26.102781295776367 , 1.2290477752685547 , 27.331829071044922\n",
      "Markers detected:  2\n",
      "Marker:  <Marker id=243 center=(146, 84)>\n",
      "Marker:  <Marker id=243 center=(147, 84)>\n",
      "Goes before check.\n",
      "Goes inside marker check.\n",
      "Successful results.\n",
      "MARKER : 0 , 13.163089752197266 , 0 , 0 , 27.608156204223633 , 1.8949508666992188 , 29.50310707092285\n",
      "Markers detected:  2\n",
      "Marker:  <Marker id=243 center=(146, 83)>\n",
      "Marker:  <Marker id=243 center=(147, 84)>\n",
      "Goes before check.\n",
      "Goes inside marker check.\n",
      "Successful results.\n",
      "MARKER : 0 , 10.095834732055664 , 0 , 0 , 21.518945693969727 , 1.0249614715576172 , 22.543907165527344\n"
     ]
    },
    {
     "name": "stderr",
     "output_type": "stream",
     "text": [
      "150.229.118.204 - - [24/Jul/2018 12:53:08] \"POST / HTTP/1.1\" 200 -\n",
      "150.229.118.204 - - [24/Jul/2018 12:53:08] \"POST / HTTP/1.1\" 200 -\n"
     ]
    },
    {
     "name": "stdout",
     "output_type": "stream",
     "text": [
      "Markers detected:  4\n",
      "Marker:  <Marker id=1 center=(162, 241)>\n",
      "Marker:  <Marker id=1 center=(162, 240)>\n",
      "Marker:  <Marker id=243 center=(170, 79)>\n",
      "Marker:  <Marker id=243 center=(170, 79)>\n",
      "Goes before check.\n",
      "Goes inside marker check.\n",
      "Successful results.\n",
      "MARKER : 0 , 14.811992645263672 , 0 , 0 , 36.010026931762695 , 2.1049976348876953 , 38.11502456665039\n",
      "Markers detected:  0\n",
      "Goes before check.\n",
      "Successful results.\n",
      "MARKER : 0 , 13.163089752197266 , 0 , 0 , 22.155046463012695 , 0.9150505065917969 , 23.070096969604492\n",
      "Markers detected:  2\n",
      "Marker:  <Marker id=1 center=(163, 243)>\n",
      "Marker:  <Marker id=243 center=(172, 82)>\n",
      "Goes before check.\n",
      "Goes inside marker check.\n",
      "Successful results.\n",
      "MARKER : 0 , 17.467021942138672 , 0 , 0 , 35.38393974304199 , 1.7728805541992188 , 37.15682029724121\n",
      "Markers detected:  4\n",
      "Marker:  <Marker id=1 center=(163, 244)>\n",
      "Marker:  <Marker id=1 center=(163, 244)>\n",
      "Marker: "
     ]
    },
    {
     "name": "stderr",
     "output_type": "stream",
     "text": [
      "150.229.118.204 - - [24/Jul/2018 12:53:19] \"POST / HTTP/1.1\" 200 -\n",
      "150.229.118.204 - - [24/Jul/2018 12:53:19] \"POST / HTTP/1.1\" 200 -\n",
      "150.229.118.204 - - [24/Jul/2018 12:53:19] \"POST / HTTP/1.1\" 200 -\n",
      "150.229.118.204 - - [24/Jul/2018 12:53:19] \"POST / HTTP/1.1\" 200 -\n"
     ]
    },
    {
     "name": "stdout",
     "output_type": "stream",
     "text": [
      " <Marker id=243 center=(172, 82)>\n",
      "Marker:  <Marker id=243 center=(171, 82)>\n",
      "Goes before check.\n",
      "Goes inside marker check.\n",
      "Successful results.\n",
      "MARKER : 0 , 15.7470703125 , 0 , 0 , 37.017107009887695 , 1.2919902801513672 , 38.30909729003906\n",
      "Markers detected:  4\n",
      "Marker:  <Marker id=1 center=(162, 247)>\n",
      "Marker:  <Marker id=1 center=(162, 247)>\n",
      "Marker:  <Marker id=243 center=(170, 82)>\n",
      "Marker:  <Marker id=243 center=(170, 82)>\n",
      "Goes before check.\n",
      "Goes inside marker check.\n",
      "Successful results.\n",
      "MARKER : 0 , 13.95726203918457 , 0 , 0 , 30.859708786010742 , 2.209186553955078 , 33.06889533996582\n",
      "Markers detected:  4\n",
      "Marker:  <Marker id=1 center=(161, 247)>\n",
      "Marker:  <Marker id=1 center=(161, 247)>\n",
      "Marker:  <Marker id=243 center=(169, 82)>\n",
      "Marker:  <Marker id=243 center=(169, 82)>\n",
      "Goes before check.\n",
      "Goes inside marker check.\n",
      "Successful results.\n",
      "MARKER : 0 , 14.736175537109375 , 0 , 0 , 36.55600547790527 , 1.9659996032714844 , 38.52200508117676\n"
     ]
    },
    {
     "name": "stderr",
     "output_type": "stream",
     "text": [
      "150.229.118.204 - - [24/Jul/2018 12:53:19] \"POST / HTTP/1.1\" 200 -\n",
      "150.229.118.204 - - [24/Jul/2018 12:53:19] \"POST / HTTP/1.1\" 200 -\n"
     ]
    },
    {
     "name": "stdout",
     "output_type": "stream",
     "text": [
      "Markers detected:  4\n",
      "Marker:  <Marker id=1 center=(161, 248)>\n",
      "Marker:  <Marker id=1 center=(161, 248)>\n",
      "Marker:  <Marker id=243 center=(170, 81)>\n",
      "Marker:  <Marker id=243 center=(170, 82)>\n",
      "Goes before check.\n",
      "Goes inside marker check.\n",
      "Successful results.\n",
      "MARKER : 0 , 14.238119125366211 , 0 , 0 , 109.83514785766602 , 2.151012420654297 , 111.98616027832031\n",
      "Markers detected:  4\n",
      "Marker:  <Marker id=1 center=(161, 247)>\n",
      "Marker:  <Marker id=1 center=(161, 247)>\n",
      "Marker:  <Marker id=243 center=(169, 81)>\n",
      "Marker:  <Marker id=243 center=(169, 81)>\n",
      "Goes before check.\n",
      "Goes inside marker check.\n",
      "Successful results.\n",
      "MARKER : 0 , 15.897750854492188 , 0 , 0 , 39.31903839111328 , 1.9750595092773438 , 41.294097900390625\n",
      "Markers detected:  2\n",
      "Marker:  <Marker id=243 center=(170, 81)>\n",
      "Marker:  <Marker id=243 center=(170, 81)>\n",
      "Goes before check.\n",
      "Goes inside marker check.\n",
      "Successful results.\n",
      "MARKER : 0 , 17.050743103027344 , 0 , 0 , 35.00795364379883 , 0.9710788726806641 , 35.97903251647949\n"
     ]
    },
    {
     "name": "stderr",
     "output_type": "stream",
     "text": [
      "150.229.118.204 - - [24/Jul/2018 12:53:19] \"POST / HTTP/1.1\" 200 -\n",
      "150.229.118.204 - - [24/Jul/2018 12:53:19] \"POST / HTTP/1.1\" 200 -\n",
      "150.229.118.204 - - [24/Jul/2018 12:53:19] \"POST / HTTP/1.1\" 200 -\n"
     ]
    },
    {
     "name": "stdout",
     "output_type": "stream",
     "text": [
      "Markers detected:  3\n",
      "Marker:  <Marker id=1 center=(162, 247)>\n",
      "Marker:  <Marker id=1 center=(161, 246)>\n",
      "Marker:  <Marker id=243 center=(170, 81)>\n",
      "Goes before check.\n",
      "Goes inside marker check.\n",
      "Successful results.\n",
      "MARKER : 0 , 15.023946762084961 , 0 , 0 , 30.3499698638916 , 1.6162395477294922 , 31.966209411621094\n",
      "Markers detected:  4\n",
      "Marker:  <Marker id=1 center=(161, 246)>\n",
      "Marker:  <Marker id=1 center=(161, 246)>\n",
      "Marker:  <Marker id=243 center=(170, 81)>\n",
      "Marker:  <Marker id=243 center=(170, 81)>\n",
      "Goes before check.\n",
      "Goes inside marker check.\n",
      "Successful results.\n",
      "MARKER : 0 , 15.977859497070312 , 0 , 0 , 31.681060791015625 , 1.055002212524414 , 32.73606300354004\n",
      "Markers detected:  4\n",
      "Marker:  <Marker id=1 center=(161, 246)>\n",
      "Marker:  <Marker id=1 center=(161, 246)>\n",
      "Marker:  <Marker id=243 center=(170, 81)>\n",
      "Marker:  <Marker id=243 center=(170, 81)>\n",
      "Goes before check.\n",
      "Goes inside marker check.\n",
      "Successful results.\n",
      "MARKER : 0 , 15.855789184570312 , 0 , 0 , 33.45012664794922 , 1.02996826171875 , 34.48009490966797\n"
     ]
    },
    {
     "name": "stderr",
     "output_type": "stream",
     "text": [
      "150.229.118.204 - - [24/Jul/2018 12:53:19] \"POST / HTTP/1.1\" 200 -\n",
      "150.229.118.204 - - [24/Jul/2018 12:53:20] \"POST / HTTP/1.1\" 200 -\n",
      "150.229.118.204 - - [24/Jul/2018 12:53:20] \"POST / HTTP/1.1\" 200 -\n"
     ]
    },
    {
     "name": "stdout",
     "output_type": "stream",
     "text": [
      "Markers detected:  4\n",
      "Marker:  <Marker id=1 center=(161, 247)>\n",
      "Marker:  <Marker id=1 center=(161, 247)>\n",
      "Marker:  <Marker id=243 center=(170, 81)>\n",
      "Marker:  <Marker id=243 center=(170, 81)>\n",
      "Goes before check.\n",
      "Goes inside marker check.\n",
      "Successful results.\n",
      "MARKER : 0 , 15.917062759399414 , 0 , 0 , 35.8278751373291 , 1.4019012451171875 , 37.22977638244629\n",
      "Markers detected:  4\n",
      "Marker:  <Marker id=1 center=(161, 247)>\n",
      "Marker:  <Marker id=1 center=(161, 247)>\n",
      "Marker:  <Marker id=243 center=(170, 82)>\n",
      "Marker:  <Marker id=243 center=(170, 82)>\n",
      "Goes before check.\n",
      "Goes inside marker check.\n",
      "Successful results.\n",
      "MARKER : 0 , 15.117883682250977 , 0 , 0 , 31.327009201049805 , 1.6889572143554688 , 33.01596641540527\n",
      "Markers detected:  3\n",
      "Marker:  <Marker id=1 center=(161, 247)>\n",
      "Marker:  <Marker id=243 center=(170, 82)>\n",
      "Marker:  <Marker id=243 center=(170, 82)>\n",
      "Goes before check.\n",
      "Goes inside marker check.\n",
      "Successful results.\n",
      "MARKER : 0 , 14.14799690246582 , 0 , 0 , 30.723094940185547 , 1.1069774627685547 , 31.8300724029541\n",
      "Markers detected:  4\n",
      "Marker:  <Marker id=1 center=(162, 247)>\n",
      "Marker:  <Marker id=1 center=(162, 247)>\n",
      "Marker:  <Marker id=243 center=(170, 82)>\n",
      "Marker:  <Marker id=243 center=(170, 82)>\n",
      "Goes before check.\n",
      "Goes inside marker check.\n"
     ]
    },
    {
     "name": "stderr",
     "output_type": "stream",
     "text": [
      "150.229.118.204 - - [24/Jul/2018 12:53:20] \"POST / HTTP/1.1\" 200 -\n",
      "150.229.118.204 - - [24/Jul/2018 12:53:20] \"POST / HTTP/1.1\" 200 -\n",
      "150.229.118.204 - - [24/Jul/2018 12:53:20] \"POST / HTTP/1.1\" 200 -\n",
      "150.229.118.204 - - [24/Jul/2018 12:53:20] \"POST / HTTP/1.1\" 200 -\n"
     ]
    },
    {
     "name": "stdout",
     "output_type": "stream",
     "text": [
      "Successful results.\n",
      "MARKER : 0 , 16.07990264892578 , 0 , 0 , 32.063961029052734 , 1.15203857421875 , 33.215999603271484\n",
      "Markers detected:  4\n",
      "Marker:  <Marker id=1 center=(162, 247)>\n",
      "Marker:  <Marker id=1 center=(162, 247)>\n",
      "Marker:  <Marker id=243 center=(170, 82)>\n",
      "Marker:  <Marker id=243 center=(170, 82)>\n",
      "Goes before check.\n",
      "Goes inside marker check.\n",
      "Successful results.\n",
      "MARKER : 0 , 16.228199005126953 , 0 , 0 , 35.0651741027832 , 1.954793930053711 , 37.019968032836914\n",
      "Markers detected:  4\n",
      "Marker:  <Marker id=1 center=(161, 247)>\n",
      "Marker:  <Marker id=1 center=(161, 247)>\n",
      "Marker:  <Marker id=243 center=(170, 82)>\n",
      "Marker:  <Marker id=243 center=(170, 82)>\n",
      "Goes before check.\n",
      "Goes inside marker check.\n",
      "Successful results.\n",
      "MARKER : 0 , 15.08021354675293 , 0 , 0 , 37.38594055175781 , 1.1739730834960938 , 38.559913635253906\n",
      "Markers detected:  4\n",
      "Marker:  <Marker id=1 center=(161, 247)>\n",
      "Marker:  <Marker id=1 center=(161, 247)>\n",
      "Marker:  <Marker id=243 center=(170, 82)>\n",
      "Marker:  <Marker id=243 center=(170, 82)>\n",
      "Goes before check.\n",
      "Goes inside marker check.\n",
      "Successful results.\n",
      "MARKER : 0 , 16.131877899169922 , 0 , 0 , 35.67814826965332 , 1.168966293334961 , 36.84711456298828\n",
      "Markers detected:  4\n",
      "Marker:  <Marker id=1 center=(161, 247)>\n",
      "Marker:  <Marker id=1 center=(161, 247)>\n",
      "Marker:  <Marker id=243 center=(170, 82)>\n",
      "Marker:  <Marker id=243 center=(170, 82)>\n",
      "Goes before check.\n"
     ]
    },
    {
     "name": "stderr",
     "output_type": "stream",
     "text": [
      "150.229.118.204 - - [24/Jul/2018 12:53:20] \"POST / HTTP/1.1\" 200 -\n",
      "150.229.118.204 - - [24/Jul/2018 12:53:20] \"POST / HTTP/1.1\" 200 -\n",
      "150.229.118.204 - - [24/Jul/2018 12:53:20] \"POST / HTTP/1.1\" 200 -\n",
      "150.229.118.204 - - [24/Jul/2018 12:53:20] \"POST / HTTP/1.1\" 200 -\n"
     ]
    },
    {
     "name": "stdout",
     "output_type": "stream",
     "text": [
      "Goes inside marker check.\n",
      "Successful results.\n",
      "MARKER : 0 , 15.030145645141602 , 0 , 0 , 32.691240310668945 , 1.1730194091796875 , 33.86425971984863\n",
      "Markers detected:  3\n",
      "Marker:  <Marker id=1 center=(220, 323)>\n",
      "Marker:  <Marker id=243 center=(230, 115)>\n",
      "Marker:  <Marker id=243 center=(230, 115)>\n",
      "Goes before check.\n",
      "Goes inside marker check.\n",
      "Successful results.\n",
      "MARKER : 0 , 23.646116256713867 , 0 , 0 , 47.51706123352051 , 2.2559165954589844 , 49.77297782897949\n",
      "Markers detected:  0\n",
      "Goes before check.\n",
      "Successful results.\n",
      "MARKER : 0 , 17.815113067626953 , 0 , 0 , 35.15481948852539 , 1.8260478973388672 , 36.98086738586426\n",
      "Markers detected:  0\n",
      "Goes before check.\n",
      "Successful results.\n",
      "MARKER : 0 , 19.6988582611084 , 0 , 0 , 36.77225112915039 , 2.0017623901367188 , 38.77401351928711\n"
     ]
    },
    {
     "name": "stderr",
     "output_type": "stream",
     "text": [
      "150.229.118.204 - - [24/Jul/2018 12:53:46] \"POST / HTTP/1.1\" 200 -\n",
      "150.229.118.204 - - [24/Jul/2018 12:53:47] \"POST / HTTP/1.1\" 200 -\n",
      "150.229.118.204 - - [24/Jul/2018 12:53:47] \"POST / HTTP/1.1\" 200 -\n"
     ]
    },
    {
     "name": "stdout",
     "output_type": "stream",
     "text": [
      "Markers detected:  4\n",
      "Marker:  <Marker id=1 center=(221, 325)>\n",
      "Marker:  <Marker id=1 center=(221, 326)>\n",
      "Marker:  <Marker id=243 center=(232, 116)>\n",
      "Marker:  <Marker id=243 center=(232, 116)>\n",
      "Goes before check.\n",
      "Goes inside marker check.\n",
      "Successful results.\n",
      "MARKER : 0 , 21.9118595123291 , 0 , 0 , 48.17008972167969 , 2.0668506622314453 , 50.23694038391113\n",
      "Markers detected:  4\n",
      "Marker:  <Marker id=1 center=(221, 326)>\n",
      "Marker:  <Marker id=1 center=(221, 326)>\n",
      "Marker:  <Marker id=243 center=(231, 116)>\n",
      "Marker:  <Marker id=243 center=(231, 116)>\n",
      "Goes before check.\n",
      "Goes inside marker check.\n",
      "Successful results.\n",
      "MARKER : 0 , 23.088932037353516 , 0 , 0 , 48.88486862182617 , 2.115011215209961 , 50.99987983703613\n",
      "Markers detected: "
     ]
    },
    {
     "name": "stderr",
     "output_type": "stream",
     "text": [
      "150.229.118.204 - - [24/Jul/2018 12:53:47] \"POST / HTTP/1.1\" 200 -\n",
      "150.229.118.204 - - [24/Jul/2018 12:53:47] \"POST / HTTP/1.1\" 200 -\n"
     ]
    },
    {
     "name": "stdout",
     "output_type": "stream",
     "text": [
      " 4\n",
      "Marker:  <Marker id=1 center=(220, 326)>\n",
      "Marker:  <Marker id=1 center=(220, 326)>\n",
      "Marker:  <Marker id=243 center=(231, 116)>\n",
      "Marker:  <Marker id=243 center=(231, 116)>\n",
      "Goes before check.\n",
      "Goes inside marker check.\n",
      "Successful results.\n",
      "MARKER : 0 , 20.92599868774414 , 0 , 0 , 51.19514465332031 , 2.4421215057373047 , 53.63726615905762\n",
      "Markers detected:  4\n",
      "Marker:  <Marker id=1 center=(220, 329)>\n",
      "Marker:  <Marker id=1 center=(220, 329)>\n",
      "Marker:  <Marker id=243 center=(231, 114)>\n",
      "Marker:  <Marker id=243 center=(231, 114)>\n",
      "Goes before check.\n",
      "Goes inside marker check.\n",
      "Successful results.\n",
      "MARKER : 0 , 22.107839584350586 , 0 , 0 , 59.7989559173584 , 2.2008419036865234 , 61.99979782104492\n",
      "Markers detected:  4\n",
      "Marker:  <Marker id=1 center=(220, 329)>\n",
      "Marker:  <Marker id=1 center=(220, 329)>\n",
      "Marker:  <Marker id=243 center=(231, 114)>\n",
      "Marker:  <Marker id=243 center=(231, 114)>\n",
      "Goes before check.\n",
      "Goes inside marker check."
     ]
    },
    {
     "name": "stderr",
     "output_type": "stream",
     "text": [
      "150.229.118.204 - - [24/Jul/2018 12:53:47] \"POST / HTTP/1.1\" 200 -\n",
      "150.229.118.204 - - [24/Jul/2018 12:53:47] \"POST / HTTP/1.1\" 200 -\n",
      "150.229.118.204 - - [24/Jul/2018 12:53:47] \"POST / HTTP/1.1\" 200 -\n",
      "150.229.118.204 - - [24/Jul/2018 12:53:47] \"POST / HTTP/1.1\" 200 -\n"
     ]
    },
    {
     "name": "stdout",
     "output_type": "stream",
     "text": [
      "\n",
      "Successful results.\n",
      "MARKER : 0 , 22.62401580810547 , 0 , 0 , 49.336910247802734 , 2.1550655364990234 , 51.49197578430176\n",
      "Markers detected:  4\n",
      "Marker:  <Marker id=1 center=(220, 329)>\n",
      "Marker:  <Marker id=1 center=(220, 330)>\n",
      "Marker:  <Marker id=243 center=(231, 113)>\n",
      "Marker:  <Marker id=243 center=(231, 113)>\n",
      "Goes before check.\n",
      "Goes inside marker check.\n",
      "Successful results.\n",
      "MARKER : 0 , 23.52619171142578 , 0 , 0 , 50.67110061645508 , 2.2368431091308594 , 52.90794372558594\n",
      "Markers detected:  4\n",
      "Marker:  <Marker id=1 center=(220, 329)>\n",
      "Marker:  <Marker id=1 center=(220, 329)>\n",
      "Marker:  <Marker id=243 center=(231, 113)>\n",
      "Marker:  <Marker id=243 center=(231, 113)>\n",
      "Goes before check.\n",
      "Goes inside marker check.\n",
      "Successful results.\n",
      "MARKER : 0 , 24.01876449584961 , 0 , 0 , 51.86605453491211 , 2.259969711303711 , 54.12602424621582\n",
      "Markers detected:  4\n",
      "Marker:  <Marker id=1 center=(220, 329)>\n",
      "Marker:  <Marker id=1 center=(220, 329)>\n",
      "Marker:  <Marker id=243 center=(231, 114)>\n",
      "Marker:  <Marker id=243 center=(231, 114)>\n",
      "Goes before check.\n",
      "Goes inside marker check.\n",
      "Successful results.\n",
      "MARKER : 0 , 22.94182777404785 , 0 , 0 , 42.181968688964844 , 2.1669864654541016 , 44.348955154418945\n"
     ]
    },
    {
     "name": "stderr",
     "output_type": "stream",
     "text": [
      "150.229.118.204 - - [24/Jul/2018 12:53:47] \"POST / HTTP/1.1\" 200 -\n",
      "150.229.118.204 - - [24/Jul/2018 12:53:47] \"POST / HTTP/1.1\" 200 -\n"
     ]
    },
    {
     "name": "stdout",
     "output_type": "stream",
     "text": [
      "Markers detected:  4\n",
      "Marker:  <Marker id=1 center=(220, 329)>\n",
      "Marker:  <Marker id=1 center=(220, 329)>\n",
      "Marker:  <Marker id=243 center=(231, 114)>\n",
      "Marker:  <Marker id=243 center=(231, 114)>\n",
      "Goes before check.\n",
      "Goes inside marker check.\n",
      "Successful results.\n",
      "MARKER : 0 , 24.685144424438477 , 0 , 0 , 54.80599403381348 , 2.0427703857421875 , 56.848764419555664\n",
      "Markers detected:  4\n",
      "Marker:  <Marker id=1 center=(220, 329)>\n",
      "Marker:  <Marker id=1 center=(220, 329)>\n",
      "Marker:  <Marker id=243 center=(231, 114)>\n",
      "Marker:  <Marker id=243 center=(231, 114)>\n",
      "Goes before check.\n",
      "Goes inside marker check.\n",
      "Successful results.\n",
      "MARKER : 0 , 22.70793914794922 , 0 , 0 , 52.14285850524902 , 2.38800048828125 , 54.53085899353027\n",
      "Markers detected:  4\n",
      "Marker:  <Marker id=1 center=(221, 328)>\n",
      "Marker:  <Marker id=1 center=(220, 328)>\n",
      "Marker:  <Marker id=243 center=(232, 113)>\n",
      "Marker:  <Marker id=243 center=(232, 113)>\n",
      "Goes before check.\n",
      "Goes inside marker check.\n",
      "Successful results.\n",
      "MARKER : "
     ]
    },
    {
     "name": "stderr",
     "output_type": "stream",
     "text": [
      "150.229.118.204 - - [24/Jul/2018 12:53:48] \"POST / HTTP/1.1\" 200 -\n",
      "150.229.118.204 - - [24/Jul/2018 12:53:48] \"POST / HTTP/1.1\" 200 -\n",
      "150.229.118.204 - - [24/Jul/2018 12:53:48] \"POST / HTTP/1.1\" 200 -\n"
     ]
    },
    {
     "name": "stdout",
     "output_type": "stream",
     "text": [
      "0 , 20.9047794342041 , 0 , 0 , 53.3597469329834 , 2.3491382598876953 , 55.708885192871094\n",
      "Markers detected:  4\n",
      "Marker:  <Marker id=1 center=(220, 328)>\n",
      "Marker:  <Marker id=1 center=(220, 328)>\n",
      "Marker:  <Marker id=243 center=(232, 113)>\n",
      "Marker:  <Marker id=243 center=(232, 113)>\n",
      "Goes before check.\n",
      "Goes inside marker check.\n",
      "Successful results.\n",
      "MARKER : 0 , 23.701906204223633 , 0 , 0 , 44.801950454711914 , 2.357006072998047 , 47.15895652770996\n",
      "Markers detected:  4\n",
      "Marker:  <Marker id=1 center=(220, 329)>\n",
      "Marker:  <Marker id=1 center=(220, 329)>\n",
      "Marker:  <Marker id=243 center=(232, 113)>\n",
      "Marker:  <Marker id=243 center=(231, 114)>\n",
      "Goes before check.\n",
      "Goes inside marker check.\n",
      "Successful results.\n",
      "MARKER : 0 , 23.208141326904297 , 0 , 0 , 48.357248306274414 , 2.0439624786376953 , 50.40121078491211\n",
      "Markers detected:  4\n",
      "Marker:  <Marker id=1 center=(220, 328)>\n",
      "Marker:  <Marker id=1 center=(220, 328)>\n",
      "Marker:  <Marker id=243 center=(232, 113)>\n",
      "Marker:  <Marker id=243 center=(232, 113)>\n",
      "Goes before check.\n",
      "Goes inside marker check.\n",
      "Successful results.\n",
      "MARKER : 0 "
     ]
    },
    {
     "name": "stderr",
     "output_type": "stream",
     "text": [
      "150.229.118.204 - - [24/Jul/2018 12:53:48] \"POST / HTTP/1.1\" 200 -\n",
      "150.229.118.204 - - [24/Jul/2018 12:53:48] \"POST / HTTP/1.1\" 200 -\n",
      "150.229.118.204 - - [24/Jul/2018 12:53:48] \"POST / HTTP/1.1\" 200 -\n"
     ]
    },
    {
     "name": "stdout",
     "output_type": "stream",
     "text": [
      ", 22.391080856323242 , 0 , 0 , 43.06197166442871 , 2.2249221801757812 , 45.28689384460449\n",
      "Markers detected:  4\n",
      "Marker:  <Marker id=1 center=(220, 329)>\n",
      "Marker:  <Marker id=1 center=(220, 329)>\n",
      "Marker:  <Marker id=243 center=(232, 113)>\n",
      "Marker:  <Marker id=243 center=(231, 114)>\n",
      "Goes before check.\n",
      "Goes inside marker check.\n",
      "Successful results.\n",
      "MARKER : 0 , 27.366161346435547 , 0 , 0 , 54.02183532714844 , 2.1250247955322266 , 56.146860122680664\n",
      "Markers detected:  4\n",
      "Marker:  <Marker id=1 center=(220, 328)>\n",
      "Marker:  <Marker id=1 center=(220, 328)>\n",
      "Marker:  <Marker id=243 center=(232, 113)>\n",
      "Marker:  <Marker id=243 center=(232, 113)>\n",
      "Goes before check.\n",
      "Goes inside marker check.\n",
      "Successful results.\n",
      "MARKER : 0 , 21.863937377929688 , 0 , 0 , 46.70310020446777 , 2.1300315856933594 , 48.83313179016113\n",
      "Markers detected:  4\n",
      "Marker:  <Marker id=1 center=(221, 328)>\n",
      "Marker:  <Marker id=1 center=(220, 328)>\n",
      "Marker:  <Marker id=243 center=(232, 113)>\n",
      "Marker:  <Marker id=243 center=(232, 113)>\n",
      "Goes before check.\n",
      "Goes inside marker check.\n",
      "Successful results.\n",
      "MARKER : 0 , 23.463010787963867 , 0 , 0 , 44.439077377319336 , 2.1088123321533203 , 46.547889709472656\n"
     ]
    },
    {
     "name": "stderr",
     "output_type": "stream",
     "text": [
      "150.229.118.204 - - [24/Jul/2018 12:53:48] \"POST / HTTP/1.1\" 200 -\n",
      "150.229.118.204 - - [24/Jul/2018 12:53:48] \"POST / HTTP/1.1\" 200 -\n",
      "150.229.118.204 - - [24/Jul/2018 12:53:48] \"POST / HTTP/1.1\" 200 -\n"
     ]
    },
    {
     "name": "stdout",
     "output_type": "stream",
     "text": [
      "Markers detected:  2\n",
      "Marker:  <Marker id=243 center=(286, 156)>\n",
      "Marker:  <Marker id=243 center=(286, 156)>\n",
      "Goes before check.\n",
      "Goes inside marker check.\n",
      "Successful results.\n",
      "MARKER : 0 , 27.71902084350586 , 0 , 0 , 58.97021293640137 , 1.895904541015625 , 60.86611747741699\n",
      "Markers detected:  0\n",
      "Goes before check.\n",
      "Successful results.\n",
      "MARKER : 0 , 24.907827377319336 , 0 , 0 , 47.13797569274902 , 1.209259033203125 , 48.34723472595215\n",
      "Markers detected:  1\n",
      "Marker:  <Marker id=1 center=(275, 415)>\n",
      "Goes before check.\n",
      "Goes inside marker check.\n",
      "Successful results.\n",
      "MARKER : 0 , "
     ]
    },
    {
     "name": "stderr",
     "output_type": "stream",
     "text": [
      "150.229.118.204 - - [24/Jul/2018 12:53:59] \"POST / HTTP/1.1\" 200 -\n",
      "150.229.118.204 - - [24/Jul/2018 12:53:59] \"POST / HTTP/1.1\" 200 -\n",
      "150.229.118.204 - - [24/Jul/2018 12:53:59] \"POST / HTTP/1.1\" 200 -\n"
     ]
    },
    {
     "name": "stdout",
     "output_type": "stream",
     "text": [
      "27.935266494750977 , 0 , 0 , 53.121089935302734 , 1.8608570098876953 , 54.98194694519043\n",
      "Markers detected:  4\n",
      "Marker:  <Marker id=1 center=(275, 416)>\n",
      "Marker:  <Marker id=1 center=(275, 416)>\n",
      "Marker:  <Marker id=243 center=(287, 157)>\n",
      "Marker:  <Marker id=243 center=(288, 156)>\n",
      "Goes before check.\n",
      "Goes inside marker check.\n",
      "Successful results.\n",
      "MARKER : 0 , 31.267881393432617 , 0 , 0 , 72.9207992553711 , 1.268148422241211 , 74.1889476776123\n",
      "Markers detected:  4\n",
      "Marker:  <Marker id=1 center=(274, 418)>\n",
      "Marker:  <Marker id=1 center=(274, 418)>\n",
      "Marker:  <Marker id=243 center=(286, 158)>\n",
      "Marker:  <Marker id=243 center=(286, 157)>\n",
      "Goes before check.\n",
      "Goes inside marker check.\n",
      "Successful results.\n",
      "MARKER : 0 , 32.35912322998047 , 0 , 0 , 75.57106018066406 , 1.1258125305175781 , 76.69687271118164\n"
     ]
    },
    {
     "name": "stderr",
     "output_type": "stream",
     "text": [
      "150.229.118.204 - - [24/Jul/2018 12:53:59] \"POST / HTTP/1.1\" 200 -\n",
      "150.229.118.204 - - [24/Jul/2018 12:53:59] \"POST / HTTP/1.1\" 200 -\n"
     ]
    },
    {
     "name": "stdout",
     "output_type": "stream",
     "text": [
      "Markers detected:  4\n",
      "Marker:  <Marker id=1 center=(273, 420)>\n",
      "Marker:  <Marker id=1 center=(273, 420)>\n",
      "Marker:  <Marker id=243 center=(286, 154)>\n",
      "Marker:  <Marker id=243 center=(286, 154)>\n",
      "Goes before check.\n",
      "Goes inside marker check.\n",
      "Successful results.\n",
      "MARKER : 0 , 35.02297401428223 , 0 , 0 , 75.24800300598145 , 1.3561248779296875 , 76.60412788391113\n",
      "Markers detected:  3\n",
      "Marker:  <Marker id=1 center=(273, 420)>\n",
      "Marker:  <Marker id=243 center=(285, 153)>\n",
      "Marker:  <Marker id=243 center=(286, 153)>\n",
      "Goes before check.\n",
      "Goes inside marker check.\n",
      "Successful results.\n",
      "MARKER : 0 , 27.136802673339844 , 0 , 0 , 69.25702095031738 , 1.1289119720458984 , 70.38593292236328\n"
     ]
    },
    {
     "name": "stderr",
     "output_type": "stream",
     "text": [
      "150.229.118.204 - - [24/Jul/2018 12:54:00] \"POST / HTTP/1.1\" 200 -\n",
      "150.229.118.204 - - [24/Jul/2018 12:54:00] \"POST / HTTP/1.1\" 200 -\n"
     ]
    },
    {
     "name": "stdout",
     "output_type": "stream",
     "text": [
      "Markers detected:  4\n",
      "Marker:  <Marker id=1 center=(274, 420)>\n",
      "Marker:  <Marker id=1 center=(274, 420)>\n",
      "Marker:  <Marker id=243 center=(287, 153)>\n",
      "Marker:  <Marker id=243 center=(287, 153)>\n",
      "Goes before check.\n",
      "Goes inside marker check.\n",
      "Successful results.\n",
      "MARKER : 0 , 32.81998634338379 , 0 , 0 , 77.64291763305664 , 1.233816146850586 , 78.87673377990723\n",
      "Markers detected:  4\n",
      "Marker:  <Marker id=1 center=(273, 420)>\n",
      "Marker:  <Marker id=1 center=(274, 420)>\n",
      "Marker:  <Marker id=243 center=(287, 154)>\n",
      "Marker:  <Marker id=243 center=(287, 154)>\n",
      "Goes before check.\n",
      "Goes inside marker check.\n",
      "Successful results.\n",
      "MARKER : 0 , 29.7849178314209 , 0 , 0 , 76.12180709838867 , 1.1110305786132812 , 77.23283767700195\n"
     ]
    },
    {
     "name": "stderr",
     "output_type": "stream",
     "text": [
      "150.229.118.204 - - [24/Jul/2018 12:54:00] \"POST / HTTP/1.1\" 200 -\n",
      "150.229.118.204 - - [24/Jul/2018 12:54:00] \"POST / HTTP/1.1\" 200 -\n"
     ]
    },
    {
     "name": "stdout",
     "output_type": "stream",
     "text": [
      "Markers detected:  4\n",
      "Marker:  <Marker id=1 center=(274, 419)>\n",
      "Marker:  <Marker id=1 center=(273, 419)>\n",
      "Marker:  <Marker id=243 center=(287, 153)>\n",
      "Marker:  <Marker id=243 center=(287, 153)>\n",
      "Goes before check.\n",
      "Goes inside marker check.\n",
      "Successful results.\n",
      "MARKER : 0 , 35.2780818939209 , 0 , 0 , 75.62375068664551 , 1.9612312316894531 , 77.58498191833496\n",
      "Markers detected:  4\n",
      "Marker:  <Marker id=1 center=(274, 418)>\n",
      "Marker:  <Marker id=1 center=(274, 418)>\n",
      "Marker:  <Marker id=243 center=(288, 151)>\n",
      "Marker:  <Marker id=243 center=(288, 152)>\n",
      "Goes before check.\n",
      "Goes inside marker check.\n",
      "Successful results.\n",
      "MARKER : 0 , 28.89704704284668 , 0 , 0 , 69.59795951843262 , 2.1729469299316406 , 71.77090644836426\n"
     ]
    },
    {
     "name": "stderr",
     "output_type": "stream",
     "text": [
      "150.229.118.204 - - [24/Jul/2018 12:54:00] \"POST / HTTP/1.1\" 200 -\n",
      "150.229.118.204 - - [24/Jul/2018 12:54:00] \"POST / HTTP/1.1\" 200 -\n"
     ]
    },
    {
     "name": "stdout",
     "output_type": "stream",
     "text": [
      "Markers detected:  3\n",
      "Marker:  <Marker id=1 center=(273, 417)>\n",
      "Marker:  <Marker id=243 center=(287, 151)>\n",
      "Marker:  <Marker id=243 center=(288, 151)>\n",
      "Goes before check.\n",
      "Goes inside marker check.\n",
      "Successful results.\n",
      "MARKER : 0 , 31.40115737915039 , 0 , 0 , 68.32098960876465 , 1.1658668518066406 , 69.48685646057129\n",
      "Markers detected:  4\n",
      "Marker:  <Marker id=1 center=(273, 417)>\n",
      "Marker:  <Marker id=1 center=(273, 417)>\n",
      "Marker:  <Marker id=243 center=(287, 151)>\n",
      "Marker:  <Marker id=243 center=(287, 151)>\n",
      "Goes before check.\n",
      "Goes inside marker check.\n",
      "Successful results.\n",
      "MARKER : 0 , 31.486034393310547 , 0 , 0 , 69.48113441467285 , 2.235889434814453 , 71.7170238494873\n"
     ]
    },
    {
     "name": "stderr",
     "output_type": "stream",
     "text": [
      "150.229.118.204 - - [24/Jul/2018 12:54:00] \"POST / HTTP/1.1\" 200 -\n",
      "150.229.118.204 - - [24/Jul/2018 12:54:01] \"POST / HTTP/1.1\" 200 -\n"
     ]
    },
    {
     "name": "stdout",
     "output_type": "stream",
     "text": [
      "Markers detected:  3\n",
      "Marker:  <Marker id=1 center=(273, 417)>\n",
      "Marker:  <Marker id=243 center=(288, 150)>\n",
      "Marker:  <Marker id=243 center=(288, 150)>\n",
      "Goes before check.\n",
      "Goes inside marker check.\n",
      "Successful results.\n",
      "MARKER : 0 , 31.109094619750977 , 0 , 0 , 63.46917152404785 , 1.0631084442138672 , 64.53227996826172\n",
      "Markers detected:  4\n",
      "Marker:  <Marker id=1 center=(273, 417)>\n",
      "Marker:  <Marker id=1 center=(273, 417)>\n",
      "Marker:  <Marker id=243 center=(287, 150)>\n",
      "Marker:  <Marker id=243 center=(287, 150)>\n",
      "Goes before check.\n",
      "Goes inside marker check.\n",
      "Successful results.\n",
      "MARKER : 0 , 27.75096893310547 , 0 , 0 , 70.6171989440918 , 4.322052001953125 , 74.93925094604492\n"
     ]
    },
    {
     "name": "stderr",
     "output_type": "stream",
     "text": [
      "150.229.118.204 - - [24/Jul/2018 12:54:01] \"POST / HTTP/1.1\" 200 -\n",
      "150.229.118.204 - - [24/Jul/2018 12:54:01] \"POST / HTTP/1.1\" 200 -\n"
     ]
    },
    {
     "name": "stdout",
     "output_type": "stream",
     "text": [
      "Markers detected:  4\n",
      "Marker:  <Marker id=1 center=(273, 418)>\n",
      "Marker:  <Marker id=1 center=(272, 418)>\n",
      "Marker:  <Marker id=243 center=(287, 151)>\n",
      "Marker:  <Marker id=243 center=(286, 151)>\n",
      "Goes before check.\n",
      "Goes inside marker check.\n",
      "Successful results.\n",
      "MARKER : 0 , 29.59918975830078 , 0 , 0 , 66.04313850402832 , 2.177715301513672 , 68.22085380554199\n",
      "Markers detected:  4\n",
      "Marker:  <Marker id=1 center=(272, 418)>\n",
      "Marker:  <Marker id=1 center=(272, 418)>\n",
      "Marker:  <Marker id=243 center=(286, 151)>\n",
      "Marker:  <Marker id=243 center=(286, 151)>\n",
      "Goes before check.\n",
      "Goes inside marker check.\n",
      "Successful results.\n",
      "MARKER : 0 , 32.048940658569336 , 0 , 0 , 80.80792427062988 , 2.2330284118652344 , 83.04095268249512\n"
     ]
    },
    {
     "name": "stderr",
     "output_type": "stream",
     "text": [
      "150.229.118.204 - - [24/Jul/2018 12:54:01] \"POST / HTTP/1.1\" 200 -\n",
      "150.229.118.204 - - [24/Jul/2018 12:54:01] \"POST / HTTP/1.1\" 200 -\n"
     ]
    },
    {
     "name": "stdout",
     "output_type": "stream",
     "text": [
      "Markers detected:  3\n",
      "Marker:  <Marker id=1 center=(272, 418)>\n",
      "Marker:  <Marker id=1 center=(272, 419)>\n",
      "Marker:  <Marker id=243 center=(286, 152)>\n",
      "Goes before check.\n",
      "Goes inside marker check.\n",
      "Successful results.\n",
      "MARKER : 0 , 29.711008071899414 , 0 , 0 , 65.01579284667969 , 1.280069351196289 , 66.29586219787598\n",
      "Markers detected:  4\n",
      "Marker:  <Marker id=1 center=(272, 419)>\n",
      "Marker:  <Marker id=1 center=(272, 419)>\n",
      "Marker:  <Marker id=243 center=(286, 152)>\n",
      "Marker:  <Marker id=243 center=(286, 151)>\n",
      "Goes before check.\n",
      "Goes inside marker check.\n",
      "Successful results.\n",
      "MARKER : 0 , 32.42802619934082 , 0 , 0 , 75.50621032714844 , 1.0328292846679688 , 76.5390396118164\n"
     ]
    },
    {
     "name": "stderr",
     "output_type": "stream",
     "text": [
      "150.229.118.204 - - [24/Jul/2018 12:54:01] \"POST / HTTP/1.1\" 200 -\n",
      "150.229.118.204 - - [24/Jul/2018 12:54:01] \"POST / HTTP/1.1\" 200 -\n"
     ]
    },
    {
     "name": "stdout",
     "output_type": "stream",
     "text": [
      "Markers detected:  4\n",
      "Marker:  <Marker id=1 center=(272, 419)>\n",
      "Marker:  <Marker id=1 center=(272, 419)>\n",
      "Marker:  <Marker id=243 center=(286, 152)>\n",
      "Marker:  <Marker id=243 center=(286, 152)>\n",
      "Goes before check.\n",
      "Goes inside marker check.\n",
      "Successful results.\n",
      "MARKER : 0 , 42.35696792602539 , 0 , 0 , 78.03988456726074 , 2.524137496948242 , 80.56402206420898\n"
     ]
    },
    {
     "name": "stderr",
     "output_type": "stream",
     "text": [
      "150.229.118.204 - - [24/Jul/2018 12:54:02] \"POST / HTTP/1.1\" 200 -\n"
     ]
    },
    {
     "name": "stdout",
     "output_type": "stream",
     "text": [
      "Markers detected:  0\n",
      "Goes before check.\n",
      "Successful results.\n",
      "MARKER : 0 , 42.35696792602539 , 0 , 0 , 83.73618125915527 , 2.441883087158203 , 86.17806434631348\n"
     ]
    },
    {
     "name": "stderr",
     "output_type": "stream",
     "text": [
      "150.229.118.204 - - [24/Jul/2018 12:54:10] \"POST / HTTP/1.1\" 200 -\n"
     ]
    },
    {
     "name": "stdout",
     "output_type": "stream",
     "text": [
      "Markers detected:  4\n",
      "Marker:  <Marker id=1 center=(341, 544)>\n",
      "Marker:  <Marker id=1 center=(341, 544)>\n",
      "Marker:  <Marker id=243 center=(354, 210)>\n",
      "Marker:  <Marker id=243 center=(354, 210)>\n",
      "Goes before check.\n",
      "Goes inside marker check.\n",
      "Successful results.\n",
      "MARKER : 0 , 44.74186897277832 , 0 , 0 , 95.30901908874512 , 2.949953079223633 , 98.25897216796875\n",
      "Markers detected:  2\n",
      "Marker:  <Marker id=243 center=(359, 213)>\n",
      "Marker:  <Marker id=243 center=(359, 213)>\n",
      "Goes before check.\n",
      "Goes inside marker check.\n",
      "Successful results.\n",
      "MARKER : 0 , 42.315006256103516 , 0 , 0 , 82.40103721618652 , 2.14385986328125 , 84.54489707946777\n"
     ]
    },
    {
     "name": "stderr",
     "output_type": "stream",
     "text": [
      "150.229.118.204 - - [24/Jul/2018 12:54:11] \"POST / HTTP/1.1\" 200 -\n",
      "150.229.118.204 - - [24/Jul/2018 12:54:11] \"POST / HTTP/1.1\" 200 -\n"
     ]
    },
    {
     "name": "stdout",
     "output_type": "stream",
     "text": [
      "Markers detected:  4\n",
      "Marker:  <Marker id=1 center=(345, 548)>\n",
      "Marker:  <Marker id=1 center=(345, 548)>\n",
      "Marker:  <Marker id=243 center=(359, 209)>\n",
      "Marker:  <Marker id=243 center=(358, 209)>\n",
      "Goes before check.\n",
      "Goes inside marker check.\n",
      "Successful results.\n",
      "MARKER : 0 , 44.39401626586914 , 0 , 0 , 91.25781059265137 , 2.2630691528320312 , 93.5208797454834\n",
      "Markers detected:  4\n",
      "Marker:  <Marker id=1 center=(349, 552)>\n",
      "Marker:  <Marker id=1 center=(349, 552)>\n",
      "Marker:  <Marker id=243 center=(361, 215)>\n",
      "Marker:  <Marker id=243 center=(362, 215)>\n",
      "Goes before check.\n",
      "Goes inside marker check.\n",
      "Successful results.\n",
      "MARKER : 0 , 45.04513740539551 , 0 , 0 , 96.25792503356934 , 2.6040077209472656 , 98.8619327545166\n"
     ]
    },
    {
     "name": "stderr",
     "output_type": "stream",
     "text": [
      "150.229.118.204 - - [24/Jul/2018 12:54:11] \"POST / HTTP/1.1\" 200 -\n",
      "150.229.118.204 - - [24/Jul/2018 12:54:11] \"POST / HTTP/1.1\" 200 -\n"
     ]
    },
    {
     "name": "stdout",
     "output_type": "stream",
     "text": [
      "Markers detected:  4\n",
      "Marker:  <Marker id=1 center=(349, 555)>\n",
      "Marker:  <Marker id=1 center=(349, 555)>\n",
      "Marker:  <Marker id=243 center=(363, 216)>\n",
      "Marker:  <Marker id=243 center=(363, 216)>\n",
      "Goes before check.\n",
      "Goes inside marker check.\n",
      "Successful results.\n",
      "MARKER : 0 , 45.491933822631836 , 0 , 0 , 93.12295913696289 , 2.193927764892578 , 95.31688690185547\n",
      "Markers detected:  4\n",
      "Marker:  <Marker id=1 center=(351, 554)>\n",
      "Marker:  <Marker id=1 center=(351, 554)>\n",
      "Marker:  <Marker id=243 center=(366, 215)>\n",
      "Marker:  <Marker id=243 center=(366, 215)>\n",
      "Goes before check.\n",
      "Goes inside marker check.\n",
      "Successful results.\n",
      "MARKER : 0 , 45.64404487609863 , 0 , 0 , 96.5580940246582 , 2.164125442504883 , 98.72221946716309\n"
     ]
    },
    {
     "name": "stderr",
     "output_type": "stream",
     "text": [
      "150.229.118.204 - - [24/Jul/2018 12:54:11] \"POST / HTTP/1.1\" 200 -\n",
      "150.229.118.204 - - [24/Jul/2018 12:54:12] \"POST / HTTP/1.1\" 200 -\n"
     ]
    },
    {
     "name": "stdout",
     "output_type": "stream",
     "text": [
      "Markers detected:  4\n",
      "Marker:  <Marker id=1 center=(351, 555)>\n",
      "Marker:  <Marker id=1 center=(351, 555)>\n",
      "Marker:  <Marker id=243 center=(365, 216)>\n",
      "Marker:  <Marker id=243 center=(365, 216)>\n",
      "Goes before check.\n",
      "Goes inside marker check.\n",
      "Successful results.\n",
      "MARKER : 0 , 43.99991035461426 , 0 , 0 , 84.55801010131836 , 2.2118091583251953 , 86.76981925964355\n",
      "Markers detected:  4\n",
      "Marker:  <Marker id=1 center=(349, 559)>\n",
      "Marker:  <Marker id=1 center=(349, 559)>\n",
      "Marker:  <Marker id=243 center=(363, 217)>\n",
      "Marker:  <Marker id=243 center=(363, 217)>\n",
      "Goes before check.\n",
      "Goes inside marker check.\n",
      "Successful results.\n",
      "MARKER : 0 , 47.865867614746094 , 0 , 0 , 89.13803100585938 , 2.0830631256103516 , 91.22109413146973\n"
     ]
    },
    {
     "name": "stderr",
     "output_type": "stream",
     "text": [
      "150.229.118.204 - - [24/Jul/2018 12:54:12] \"POST / HTTP/1.1\" 200 -\n",
      "150.229.118.204 - - [24/Jul/2018 12:54:12] \"POST / HTTP/1.1\" 200 -\n"
     ]
    },
    {
     "name": "stdout",
     "output_type": "stream",
     "text": [
      "Markers detected:  3\n",
      "Marker:  <Marker id=1 center=(348, 562)>\n",
      "Marker:  <Marker id=243 center=(361, 220)>\n",
      "Marker:  <Marker id=243 center=(360, 220)>\n",
      "Goes before check.\n",
      "Goes inside marker check.\n",
      "Successful results.\n",
      "MARKER : 0 , 43.70427131652832 , 0 , 0 , 198.84276390075684 , 2.3021697998046875 , 201.14493370056152\n"
     ]
    },
    {
     "name": "stderr",
     "output_type": "stream",
     "text": [
      "150.229.118.204 - - [24/Jul/2018 12:54:12] \"POST / HTTP/1.1\" 200 -\n"
     ]
    },
    {
     "name": "stdout",
     "output_type": "stream",
     "text": [
      "Markers detected:  4\n",
      "Marker:  <Marker id=1 center=(347, 565)>\n",
      "Marker:  <Marker id=1 center=(347, 565)>\n",
      "Marker:  <Marker id=243 center=(360, 223)>\n",
      "Marker:  <Marker id=243 center=(360, 223)>\n",
      "Goes before check.\n",
      "Goes inside marker check.\n",
      "Successful results.\n",
      "MARKER : 0 , 46.10013961791992 , 0 , 0 , 125.21719932556152 , 2.7909278869628906 , 128.0081272125244\n"
     ]
    },
    {
     "name": "stderr",
     "output_type": "stream",
     "text": [
      "150.229.118.204 - - [24/Jul/2018 12:54:12] \"POST / HTTP/1.1\" 200 -\n"
     ]
    },
    {
     "name": "stdout",
     "output_type": "stream",
     "text": [
      "Markers detected:  3\n",
      "Marker:  <Marker id=1 center=(347, 565)>\n",
      "Marker:  <Marker id=243 center=(360, 224)>\n",
      "Marker:  <Marker id=243 center=(360, 223)>\n",
      "Goes before check.\n",
      "Goes inside marker check.\n",
      "Successful results.\n",
      "MARKER : 0 , 44.12221908569336 , 0 , 0 , 84.94901657104492 , 2.1660327911376953 , 87.11504936218262\n",
      "Markers detected:  4\n",
      "Marker:  "
     ]
    },
    {
     "name": "stderr",
     "output_type": "stream",
     "text": [
      "150.229.118.204 - - [24/Jul/2018 12:54:13] \"POST / HTTP/1.1\" 200 -\n"
     ]
    },
    {
     "name": "stdout",
     "output_type": "stream",
     "text": [
      "<Marker id=1 center=(347, 561)>\n",
      "Marker:  <Marker id=1 center=(347, 561)>\n",
      "Marker:  <Marker id=243 center=(361, 220)>\n",
      "Marker:  <Marker id=243 center=(361, 220)>\n",
      "Goes before check.\n",
      "Goes inside marker check.\n",
      "Successful results.\n",
      "MARKER : 0 , 46.730995178222656 , 0 , 0 , 90.4078483581543 , 2.523183822631836 , 92.93103218078613\n",
      "Markers detected:  3\n",
      "Marker:  <Marker id=1 center=(348, 555)>\n",
      "Marker:  <Marker id=243 center=(361, 214)>\n",
      "Marker:  <Marker id=243 center=(361, 214)>\n",
      "Goes before check.\n",
      "Goes inside marker check.\n",
      "Successful results.\n",
      "MARKER : 0 , 44.55113410949707 , 0 , 0 , 91.06898307800293 , 2.228975296020508 , 93.29795837402344\n"
     ]
    },
    {
     "name": "stderr",
     "output_type": "stream",
     "text": [
      "150.229.118.204 - - [24/Jul/2018 12:54:13] \"POST / HTTP/1.1\" 200 -\n",
      "150.229.118.204 - - [24/Jul/2018 12:54:13] \"POST / HTTP/1.1\" 200 -\n"
     ]
    },
    {
     "name": "stdout",
     "output_type": "stream",
     "text": [
      "Markers detected:  4\n",
      "Marker:  <Marker id=1 center=(348, 550)>\n",
      "Marker:  <Marker id=1 center=(348, 549)>\n",
      "Marker:  <Marker id=243 center=(362, 209)>\n",
      "Marker:  <Marker id=243 center=(362, 209)>\n",
      "Goes before check.\n",
      "Goes inside marker check.\n",
      "Successful results.\n",
      "MARKER : 0 , 46.47111892700195 , 0 , 0 , 86.82608604431152 , 2.215862274169922 , 89.04194831848145\n"
     ]
    },
    {
     "name": "stderr",
     "output_type": "stream",
     "text": [
      "150.229.118.204 - - [24/Jul/2018 12:54:13] \"POST / HTTP/1.1\" 200 -\n"
     ]
    },
    {
     "name": "stdout",
     "output_type": "stream",
     "text": [
      "Markers detected:  3\n",
      "Marker:  <Marker id=1 center=(348, 542)>\n",
      "Marker:  <Marker id=1 center=(348, 542)>\n",
      "Marker:  <Marker id=243 center=(363, 203)>\n",
      "Goes before check.\n",
      "Goes inside marker check.\n",
      "Successful results.\n",
      "MARKER : 0 , 45.70603370666504 , 0 , 0 , 86.19403839111328 , 2.2330284118652344 , 88.42706680297852\n",
      "Markers detected:  3\n",
      "Marker:  <Marker id=1 center=(347, 536)>\n",
      "Marker:  <Marker id=243 center=(363, 196)>\n",
      "Marker:  <Marker id=243 center=(363, 196)>\n",
      "Goes before check.\n",
      "Goes inside marker check.\n",
      "Successful results.\n",
      "MARKER : 0 , 47.31297492980957 , 0 , 0 , 90.70491790771484 , 1.3191699981689453 , 92.02408790588379\n"
     ]
    },
    {
     "name": "stderr",
     "output_type": "stream",
     "text": [
      "150.229.118.204 - - [24/Jul/2018 12:54:13] \"POST / HTTP/1.1\" 200 -\n",
      "150.229.118.204 - - [24/Jul/2018 12:54:14] \"POST / HTTP/1.1\" 200 -\n"
     ]
    },
    {
     "name": "stdout",
     "output_type": "stream",
     "text": [
      "Markers detected:  4\n",
      "Marker:  <Marker id=1 center=(347, 531)>\n",
      "Marker:  <Marker id=1 center=(347, 531)>\n",
      "Marker:  <Marker id=243 center=(363, 190)>\n",
      "Marker:  <Marker id=243 center=(363, 190)>\n",
      "Goes before check.\n",
      "Goes inside marker check.\n",
      "Successful results.\n",
      "MARKER : 0 , 45.3190803527832 , 0 , 0 , 90.28911590576172 , 2.0599365234375 , 92.34905242919922\n"
     ]
    },
    {
     "name": "stderr",
     "output_type": "stream",
     "text": [
      "150.229.118.204 - - [24/Jul/2018 12:54:14] \"POST / HTTP/1.1\" 200 -\n"
     ]
    },
    {
     "name": "stdout",
     "output_type": "stream",
     "text": [
      "Markers detected:  4\n",
      "Marker:  <Marker id=1 center=(345, 532)>\n",
      "Marker:  <Marker id=1 center=(345, 532)>\n",
      "Marker:  <Marker id=243 center=(362, 191)>\n",
      "Marker:  <Marker id=243 center=(362, 191)>\n",
      "Goes before check.\n",
      "Goes inside marker check.\n",
      "Successful results.\n",
      "MARKER : 0 , 45.85385322570801 , 0 , 0 , 89.49398994445801 , 2.171039581298828 , 91.66502952575684\n",
      "Markers detected:  3\n",
      "Marker:  <Marker id=1 center=(344, 535)>\n",
      "Marker:  <Marker id=1 center=(344, 535)>\n",
      "Marker:  <Marker id=243 center=(360, 193)>\n",
      "Goes before check.\n",
      "Goes inside marker check.\n",
      "Successful results.\n",
      "MARKER : 0 , 48.20609092712402 , 0 , 0 , 86.50517463684082 , 2.229928970336914 , 88.73510360717773\n"
     ]
    },
    {
     "name": "stderr",
     "output_type": "stream",
     "text": [
      "150.229.118.204 - - [24/Jul/2018 12:54:14] \"POST / HTTP/1.1\" 200 -\n",
      "150.229.118.204 - - [24/Jul/2018 12:54:14] \"POST / HTTP/1.1\" 200 -\n"
     ]
    },
    {
     "name": "stdout",
     "output_type": "stream",
     "text": [
      "Markers detected:  4\n",
      "Marker:  <Marker id=1 center=(343, 538)>\n",
      "Marker:  <Marker id=1 center=(343, 537)>\n",
      "Marker:  <Marker id=243 center=(359, 195)>\n",
      "Marker:  <Marker id=243 center=(359, 196)>\n",
      "Goes before check.\n",
      "Goes inside marker check.\n",
      "Successful results.\n",
      "MARKER : 0 , 46.57173156738281 , 0 , 0 , 94.2540168762207 , 2.2530555725097656 , 96.50707244873047\n"
     ]
    },
    {
     "name": "stderr",
     "output_type": "stream",
     "text": [
      "150.229.118.204 - - [24/Jul/2018 12:54:14] \"POST / HTTP/1.1\" 200 -\n"
     ]
    },
    {
     "name": "stdout",
     "output_type": "stream",
     "text": [
      "Markers detected:  0\n",
      "Goes before check.\n",
      "Successful results.\n",
      "MARKER : 0 , 59.58700180053711 , 0 , 0 , 109.21406745910645 , 1.8680095672607422 , 111.08207702636719\n"
     ]
    },
    {
     "name": "stderr",
     "output_type": "stream",
     "text": [
      "150.229.118.204 - - [24/Jul/2018 12:54:25] \"POST / HTTP/1.1\" 200 -\n"
     ]
    },
    {
     "name": "stdout",
     "output_type": "stream",
     "text": [
      "Markers detected:  4\n",
      "Marker:  <Marker id=1 center=(400, 699)>\n",
      "Marker:  <Marker id=1 center=(400, 699)>\n",
      "Marker:  <Marker id=243 center=(424, 279)>\n",
      "Marker:  <Marker id=243 center=(424, 279)>\n",
      "Goes before check.\n",
      "Goes inside marker check.\n",
      "Successful results.\n",
      "MARKER : 0 , 62.66617774963379 , 0 , 0 , 124.04990196228027 , 2.8553009033203125 , 126.90520286560059\n"
     ]
    },
    {
     "name": "stderr",
     "output_type": "stream",
     "text": [
      "150.229.118.204 - - [24/Jul/2018 12:54:25] \"POST / HTTP/1.1\" 200 -\n"
     ]
    },
    {
     "name": "stdout",
     "output_type": "stream",
     "text": [
      "Markers detected:  4\n",
      "Marker:  <Marker id=1 center=(396, 691)>\n",
      "Marker:  <Marker id=1 center=(396, 690)>\n",
      "Marker:  <Marker id=243 center=(421, 256)>\n",
      "Marker:  <Marker id=243 center=(421, 256)>\n",
      "Goes before check.\n",
      "Goes inside marker check.\n",
      "Successful results.\n",
      "MARKER : 0 , 63.10081481933594 , 0 , 0 , 116.90807342529297 , 2.5300979614257812 , 119.43817138671875\n"
     ]
    },
    {
     "name": "stderr",
     "output_type": "stream",
     "text": [
      "150.229.118.204 - - [24/Jul/2018 12:54:25] \"POST / HTTP/1.1\" 200 -\n"
     ]
    },
    {
     "name": "stdout",
     "output_type": "stream",
     "text": [
      "Markers detected:  4\n",
      "Marker:  <Marker id=1 center=(415, 695)>\n",
      "Marker:  <Marker id=1 center=(415, 695)>\n",
      "Marker:  <Marker id=243 center=(438, 270)>\n",
      "Marker:  <Marker id=243 center=(438, 270)>\n",
      "Goes before check.\n",
      "Goes inside marker check.\n",
      "Successful results.\n",
      "MARKER : 0 , 68.94326210021973 , 0 , 0 , 129.4698715209961 , 3.437042236328125 , 132.90691375732422\n"
     ]
    },
    {
     "name": "stderr",
     "output_type": "stream",
     "text": [
      "150.229.118.204 - - [24/Jul/2018 12:54:26] \"POST / HTTP/1.1\" 200 -\n"
     ]
    },
    {
     "name": "stdout",
     "output_type": "stream",
     "text": [
      "Markers detected:  4\n",
      "Marker:  <Marker id=1 center=(379, 698)>\n",
      "Marker:  <Marker id=1 center=(379, 698)>\n",
      "Marker:  <Marker id=243 center=(408, 264)>\n",
      "Marker:  <Marker id=243 center=(407, 264)>\n",
      "Goes before check.\n",
      "Goes inside marker check.\n",
      "Successful results.\n",
      "MARKER : 0 , 66.86687469482422 , 0 , 0 , 128.75914573669434 , 2.61688232421875 , 131.3760280609131\n"
     ]
    },
    {
     "name": "stderr",
     "output_type": "stream",
     "text": [
      "150.229.118.204 - - [24/Jul/2018 12:54:26] \"POST / HTTP/1.1\" 200 -\n"
     ]
    },
    {
     "name": "stdout",
     "output_type": "stream",
     "text": [
      "Markers detected:  4\n",
      "Marker:  <Marker id=1 center=(352, 681)>\n",
      "Marker:  <Marker id=1 center=(352, 681)>\n",
      "Marker:  <Marker id=243 center=(381, 237)>\n",
      "Marker:  <Marker id=243 center=(380, 237)>\n",
      "Goes before check.\n",
      "Goes inside marker check.\n",
      "Successful results.\n",
      "MARKER : 0 , 64.95022773742676 , 0 , 0 , 120.38493156433105 , 2.7129650115966797 , 123.09789657592773\n"
     ]
    },
    {
     "name": "stderr",
     "output_type": "stream",
     "text": [
      "150.229.118.204 - - [24/Jul/2018 12:54:26] \"POST / HTTP/1.1\" 200 -\n"
     ]
    },
    {
     "name": "stdout",
     "output_type": "stream",
     "text": [
      "Markers detected:  4\n",
      "Marker:  <Marker id=1 center=(326, 596)>\n",
      "Marker:  <Marker id=1 center=(326, 596)>\n",
      "Marker:  <Marker id=243 center=(341, 179)>\n",
      "Marker:  <Marker id=243 center=(341, 179)>\n",
      "Goes before check.\n",
      "Goes inside marker check.\n",
      "Successful results.\n",
      "MARKER : 0 , 60.68015098571777 , 0 , 0 , 119.92907524108887 , 3.139019012451172 , 123.06809425354004\n"
     ]
    },
    {
     "name": "stderr",
     "output_type": "stream",
     "text": [
      "150.229.118.204 - - [24/Jul/2018 12:54:26] \"POST / HTTP/1.1\" 200 -\n"
     ]
    },
    {
     "name": "stdout",
     "output_type": "stream",
     "text": [
      "Markers detected:  4\n",
      "Marker:  <Marker id=1 center=(319, 715)>\n",
      "Marker:  <Marker id=1 center=(319, 715)>\n",
      "Marker:  <Marker id=243 center=(334, 313)>\n",
      "Marker:  <Marker id=243 center=(334, 313)>\n",
      "Goes before check.\n",
      "Goes inside marker check.\n",
      "Successful results.\n",
      "MARKER : 0 , 62.47401237487793 , 0 , 0 , 123.78478050231934 , 2.6051998138427734 , 126.38998031616211\n"
     ]
    },
    {
     "name": "stderr",
     "output_type": "stream",
     "text": [
      "150.229.118.204 - - [24/Jul/2018 12:54:27] \"POST / HTTP/1.1\" 200 -\n"
     ]
    },
    {
     "name": "stdout",
     "output_type": "stream",
     "text": [
      "Markers detected:  4\n",
      "Marker:  <Marker id=1 center=(351, 677)>\n",
      "Marker:  <Marker id=1 center=(351, 677)>\n",
      "Marker:  <Marker id=243 center=(377, 328)>\n",
      "Marker:  <Marker id=243 center=(377, 328)>\n",
      "Goes before check.\n",
      "Goes inside marker check.\n",
      "Successful results.\n",
      "MARKER : 0 , 62.72172927856445 , 0 , 0 , 125.44584274291992 , 2.4759769439697266 , 127.92181968688965\n"
     ]
    },
    {
     "name": "stderr",
     "output_type": "stream",
     "text": [
      "150.229.118.204 - - [24/Jul/2018 12:54:27] \"POST / HTTP/1.1\" 200 -\n"
     ]
    },
    {
     "name": "stdout",
     "output_type": "stream",
     "text": [
      "Markers detected:  4\n",
      "Marker:  <Marker id=1 center=(340, 631)>\n",
      "Marker:  <Marker id=1 center=(340, 631)>\n",
      "Marker:  <Marker id=243 center=(360, 301)>\n",
      "Marker:  <Marker id=243 center=(360, 301)>\n",
      "Goes before check.\n",
      "Goes inside marker check.\n",
      "Successful results.\n",
      "MARKER : 0 , 63.3089542388916 , 0 , 0 , 122.13301658630371 , 2.7170181274414062 , 124.85003471374512\n"
     ]
    },
    {
     "name": "stderr",
     "output_type": "stream",
     "text": [
      "150.229.118.204 - - [24/Jul/2018 12:54:27] \"POST / HTTP/1.1\" 200 -\n"
     ]
    },
    {
     "name": "stdout",
     "output_type": "stream",
     "text": [
      "Markers detected:  3\n",
      "Marker:  <Marker id=1 center=(309, 597)>\n",
      "Marker:  <Marker id=243 center=(318, 240)>\n",
      "Marker:  <Marker id=243 center=(318, 240)>\n",
      "Goes before check.\n",
      "Goes inside marker check.\n",
      "Successful results.\n",
      "MARKER : 0 , 64.06188011169434 , 0 , 0 , 119.54188346862793 , 2.5768280029296875 , 122.11871147155762\n"
     ]
    },
    {
     "name": "stderr",
     "output_type": "stream",
     "text": [
      "150.229.118.204 - - [24/Jul/2018 12:54:28] \"POST / HTTP/1.1\" 200 -\n"
     ]
    },
    {
     "name": "stdout",
     "output_type": "stream",
     "text": [
      "Markers detected:  4\n",
      "Marker:  <Marker id=1 center=(311, 592)>\n",
      "Marker:  <Marker id=1 center=(311, 592)>\n",
      "Marker:  <Marker id=243 center=(320, 238)>\n",
      "Marker:  <Marker id=243 center=(320, 238)>\n",
      "Goes before check.\n",
      "Goes inside marker check.\n",
      "Successful results.\n",
      "MARKER : 0 , 65.54889678955078 , 0 , 0 , 115.26870727539062 , 2.794981002807617 , 118.06368827819824\n"
     ]
    },
    {
     "name": "stderr",
     "output_type": "stream",
     "text": [
      "150.229.118.204 - - [24/Jul/2018 12:54:28] \"POST / HTTP/1.1\" 200 -\n"
     ]
    },
    {
     "name": "stdout",
     "output_type": "stream",
     "text": [
      "Markers detected:  4\n",
      "Marker:  <Marker id=1 center=(309, 626)>\n",
      "Marker:  <Marker id=1 center=(309, 626)>\n",
      "Marker:  <Marker id=243 center=(319, 267)>\n",
      "Marker:  <Marker id=243 center=(319, 267)>\n",
      "Goes before check.\n",
      "Goes inside marker check.\n",
      "Successful results.\n",
      "MARKER : 0 , 64.849853515625 , 0 , 0 , 130.4466724395752 , 3.129243850708008 , 133.5759162902832\n"
     ]
    },
    {
     "name": "stderr",
     "output_type": "stream",
     "text": [
      "150.229.118.204 - - [24/Jul/2018 12:54:28] \"POST / HTTP/1.1\" 200 -\n"
     ]
    },
    {
     "name": "stdout",
     "output_type": "stream",
     "text": [
      "Markers detected:  4\n",
      "Marker:  <Marker id=1 center=(303, 652)>\n",
      "Marker:  <Marker id=1 center=(303, 652)>\n",
      "Marker:  <Marker id=243 center=(309, 295)>\n",
      "Marker:  <Marker id=243 center=(309, 294)>\n",
      "Goes before check.\n",
      "Goes inside marker check.\n",
      "Successful results.\n",
      "MARKER : 0 , 63.13180923461914 , 0 , 0 , 117.39897727966309 , 3.383159637451172 , 120.78213691711426\n"
     ]
    },
    {
     "name": "stderr",
     "output_type": "stream",
     "text": [
      "150.229.118.204 - - [24/Jul/2018 12:54:28] \"POST / HTTP/1.1\" 200 -\n"
     ]
    },
    {
     "name": "stdout",
     "output_type": "stream",
     "text": [
      "Markers detected:  4\n",
      "Marker:  <Marker id=1 center=(301, 664)>\n",
      "Marker:  <Marker id=1 center=(301, 663)>\n",
      "Marker:  <Marker id=243 center=(307, 304)>\n",
      "Marker:  <Marker id=243 center=(307, 304)>\n",
      "Goes before check.\n",
      "Goes inside marker check.\n",
      "Successful results.\n",
      "MARKER : 0 , 67.6579475402832 , 0 , 0 , 120.51200866699219 , 2.409219741821289 , 122.92122840881348\n"
     ]
    },
    {
     "name": "stderr",
     "output_type": "stream",
     "text": [
      "150.229.118.204 - - [24/Jul/2018 12:54:29] \"POST / HTTP/1.1\" 200 -\n"
     ]
    },
    {
     "name": "stdout",
     "output_type": "stream",
     "text": [
      "Markers detected:  4\n",
      "Marker:  <Marker id=1 center=(302, 665)>\n",
      "Marker:  <Marker id=1 center=(302, 665)>\n",
      "Marker:  <Marker id=243 center=(307, 312)>\n",
      "Marker:  <Marker id=243 center=(307, 312)>\n",
      "Goes before check.\n",
      "Goes inside marker check.\n",
      "Successful results.\n",
      "MARKER : 0 , 59.89813804626465 , 0 , 0 , 172.62530326843262 , 2.635955810546875 , 175.2612590789795\n"
     ]
    },
    {
     "name": "stderr",
     "output_type": "stream",
     "text": [
      "150.229.118.204 - - [24/Jul/2018 12:54:29] \"POST / HTTP/1.1\" 200 -\n"
     ]
    },
    {
     "name": "stdout",
     "output_type": "stream",
     "text": [
      "Markers detected:  4\n",
      "Marker:  <Marker id=1 center=(315, 655)>\n",
      "Marker:  <Marker id=1 center=(315, 655)>\n",
      "Marker:  <Marker id=243 center=(319, 308)>\n",
      "Marker:  <Marker id=243 center=(320, 308)>\n",
      "Goes before check.\n",
      "Goes inside marker check.\n",
      "Successful results.\n",
      "MARKER : 0 , 62.8972053527832 , 0 , 0 , 116.57905578613281 , 2.7010440826416016 , 119.28009986877441\n"
     ]
    },
    {
     "name": "stderr",
     "output_type": "stream",
     "text": [
      "150.229.118.204 - - [24/Jul/2018 12:54:29] \"POST / HTTP/1.1\" 200 -\n"
     ]
    },
    {
     "name": "stdout",
     "output_type": "stream",
     "text": [
      "Markers detected:  4\n",
      "Marker:  <Marker id=1 center=(317, 648)>\n",
      "Marker:  <Marker id=1 center=(317, 648)>\n",
      "Marker:  <Marker id=243 center=(322, 298)>\n",
      "Marker:  <Marker id=243 center=(321, 298)>\n",
      "Goes before check.\n",
      "Goes inside marker check.\n",
      "Successful results.\n",
      "MARKER : 0 , 70.1451301574707 , 0 , 0 , 129.7600269317627 , 2.549886703491211 , 132.3099136352539\n"
     ]
    },
    {
     "name": "stderr",
     "output_type": "stream",
     "text": [
      "150.229.118.204 - - [24/Jul/2018 12:54:30] \"POST / HTTP/1.1\" 200 -\n"
     ]
    },
    {
     "name": "stdout",
     "output_type": "stream",
     "text": [
      "Markers detected:  4\n",
      "Marker:  <Marker id=1 center=(319, 639)>\n",
      "Marker:  <Marker id=1 center=(319, 639)>\n",
      "Marker:  <Marker id=243 center=(325, 289)>\n",
      "Marker:  <Marker id=243 center=(326, 289)>\n",
      "Goes before check.\n",
      "Goes inside marker check.\n",
      "Successful results.\n",
      "MARKER : 0 , 64.56995010375977 , 0 , 0 , 123.06690216064453 , 3.5200119018554688 , 126.5869140625\n"
     ]
    },
    {
     "name": "stderr",
     "output_type": "stream",
     "text": [
      "150.229.118.204 - - [24/Jul/2018 12:54:30] \"POST / HTTP/1.1\" 200 -\n"
     ]
    },
    {
     "name": "stdout",
     "output_type": "stream",
     "text": [
      "Markers detected:  4\n",
      "Marker:  <Marker id=1 center=(325, 625)>\n",
      "Marker:  <Marker id=1 center=(325, 625)>\n",
      "Marker:  <Marker id=243 center=(333, 278)>\n",
      "Marker:  <Marker id=243 center=(333, 278)>\n",
      "Goes before check.\n",
      "Goes inside marker check.\n",
      "Successful results.\n",
      "MARKER : 0 , 66.93077087402344 , 0 , 0 , 174.56388473510742 , 2.613067626953125 , 177.17695236206055\n"
     ]
    },
    {
     "name": "stderr",
     "output_type": "stream",
     "text": [
      "150.229.118.204 - - [24/Jul/2018 12:54:30] \"POST / HTTP/1.1\" 200 -\n"
     ]
    },
    {
     "name": "stdout",
     "output_type": "stream",
     "text": [
      "Markers detected:  4\n",
      "Marker:  <Marker id=1 center=(329, 615)>\n",
      "Marker:  <Marker id=1 center=(329, 614)>\n",
      "Marker:  <Marker id=243 center=(337, 267)>\n",
      "Marker:  <Marker id=243 center=(337, 267)>\n",
      "Goes before check.\n",
      "Goes inside marker check.\n",
      "Successful results.\n",
      "MARKER : 0 , 63.72714042663574 , 0 , 0 , 127.44498252868652 , 2.840757369995117 , 130.28573989868164\n"
     ]
    },
    {
     "name": "stderr",
     "output_type": "stream",
     "text": [
      "150.229.118.204 - - [24/Jul/2018 12:54:31] \"POST / HTTP/1.1\" 200 -\n"
     ]
    },
    {
     "name": "stdout",
     "output_type": "stream",
     "text": [
      "Markers detected:  0\n",
      "Goes before check.\n",
      "Successful results.\n",
      "MARKER : 0 , 95.3521728515625 , 0 , 0 , 182.60574340820312 , 2.2661685943603516 , 184.87191200256348\n"
     ]
    },
    {
     "name": "stderr",
     "output_type": "stream",
     "text": [
      "150.229.118.204 - - [24/Jul/2018 12:54:43] \"POST / HTTP/1.1\" 200 -\n"
     ]
    },
    {
     "name": "stdout",
     "output_type": "stream",
     "text": [
      "Markers detected:  0\n",
      "Goes before check.\n",
      "Successful results.\n",
      "MARKER : 0 , 91.95494651794434 , 0 , 0 , 176.25689506530762 , 2.3550987243652344 , 178.61199378967285\n"
     ]
    },
    {
     "name": "stderr",
     "output_type": "stream",
     "text": [
      "150.229.118.204 - - [24/Jul/2018 12:54:43] \"POST / HTTP/1.1\" 200 -\n"
     ]
    },
    {
     "name": "stdout",
     "output_type": "stream",
     "text": [
      "Markers detected:  4\n",
      "Marker:  <Marker id=1 center=(396, 774)>\n",
      "Marker:  <Marker id=1 center=(396, 774)>\n",
      "Marker:  <Marker id=243 center=(417, 341)>\n",
      "Marker:  <Marker id=243 center=(417, 341)>\n",
      "Goes before check.\n",
      "Goes inside marker check.\n",
      "Successful results.\n",
      "MARKER : 0 , 96.36783599853516 , 0 , 0 , 192.40784645080566 , 2.5849342346191406 , 194.9927806854248\n"
     ]
    },
    {
     "name": "stderr",
     "output_type": "stream",
     "text": [
      "150.229.118.204 - - [24/Jul/2018 12:54:43] \"POST / HTTP/1.1\" 200 -\n"
     ]
    },
    {
     "name": "stdout",
     "output_type": "stream",
     "text": [
      "Markers detected:  3\n",
      "Marker:  <Marker id=1 center=(396, 809)>\n",
      "Marker:  <Marker id=243 center=(415, 378)>\n",
      "Marker:  <Marker id=243 center=(415, 378)>\n",
      "Goes before check.\n",
      "Goes inside marker check.\n",
      "Successful results.\n",
      "MARKER : 0 , 97.68986701965332 , 0 , 0 , 200.667142868042 , 2.421855926513672 , 203.08899879455566\n"
     ]
    },
    {
     "name": "stderr",
     "output_type": "stream",
     "text": [
      "150.229.118.204 - - [24/Jul/2018 12:54:44] \"POST / HTTP/1.1\" 200 -\n"
     ]
    },
    {
     "name": "stdout",
     "output_type": "stream",
     "text": [
      "Markers detected:  4\n",
      "Marker:  <Marker id=1 center=(401, 828)>\n",
      "Marker:  <Marker id=1 center=(401, 828)>\n",
      "Marker:  <Marker id=243 center=(422, 398)>\n",
      "Marker:  <Marker id=243 center=(422, 398)>\n",
      "Goes before check.\n",
      "Goes inside marker check.\n",
      "Successful results.\n",
      "MARKER : 0 , 94.70796585083008 , 0 , 0 , 213.0258083343506 , 2.3660659790039062 , 215.3918743133545\n"
     ]
    },
    {
     "name": "stderr",
     "output_type": "stream",
     "text": [
      "150.229.118.204 - - [24/Jul/2018 12:54:44] \"POST / HTTP/1.1\" 200 -\n"
     ]
    },
    {
     "name": "stdout",
     "output_type": "stream",
     "text": [
      "Markers detected:  4\n",
      "Marker:  <Marker id=1 center=(403, 842)>\n",
      "Marker:  <Marker id=1 center=(402, 842)>\n",
      "Marker:  <Marker id=243 center=(423, 413)>\n",
      "Marker:  <Marker id=243 center=(423, 412)>\n",
      "Goes before check.\n",
      "Goes inside marker check.\n",
      "Successful results.\n",
      "MARKER : 0 , 94.15817260742188 , 0 , 0 , 198.5170841217041 , 2.3598670959472656 , 200.87695121765137\n"
     ]
    },
    {
     "name": "stderr",
     "output_type": "stream",
     "text": [
      "150.229.118.204 - - [24/Jul/2018 12:54:44] \"POST / HTTP/1.1\" 200 -\n"
     ]
    },
    {
     "name": "stdout",
     "output_type": "stream",
     "text": [
      "Markers detected:  4\n",
      "Marker:  <Marker id=1 center=(399, 842)>\n",
      "Marker:  <Marker id=1 center=(399, 842)>\n",
      "Marker:  <Marker id=243 center=(419, 411)>\n",
      "Marker:  <Marker id=243 center=(419, 412)>\n",
      "Goes before check.\n",
      "Goes inside marker check.\n",
      "Successful results.\n",
      "MARKER : 0 , 96.54498100280762 , 0 , 0 , 178.83801460266113 , 2.173900604248047 , 181.01191520690918\n"
     ]
    },
    {
     "name": "stderr",
     "output_type": "stream",
     "text": [
      "150.229.118.204 - - [24/Jul/2018 12:54:45] \"POST / HTTP/1.1\" 200 -\n"
     ]
    },
    {
     "name": "stdout",
     "output_type": "stream",
     "text": [
      "Markers detected:  4\n",
      "Marker:  <Marker id=1 center=(395, 809)>\n",
      "Marker:  <Marker id=1 center=(395, 809)>\n",
      "Marker:  <Marker id=243 center=(419, 372)>\n",
      "Marker:  <Marker id=243 center=(419, 372)>\n",
      "Goes before check.\n",
      "Goes inside marker check.\n",
      "Successful results.\n",
      "MARKER : 0 , 92.04888343811035 , 0 , 0 , 195.74499130249023 , 2.1538734436035156 , 197.89886474609375\n"
     ]
    },
    {
     "name": "stderr",
     "output_type": "stream",
     "text": [
      "150.229.118.204 - - [24/Jul/2018 12:54:45] \"POST / HTTP/1.1\" 200 -\n"
     ]
    },
    {
     "name": "stdout",
     "output_type": "stream",
     "text": [
      "Markers detected:  4\n",
      "Marker:  <Marker id=1 center=(396, 797)>\n",
      "Marker:  <Marker id=1 center=(396, 797)>\n",
      "Marker:  <Marker id=243 center=(419, 360)>\n",
      "Marker:  <Marker id=243 center=(418, 360)>\n",
      "Goes before check.\n",
      "Goes inside marker check.\n",
      "Successful results.\n",
      "MARKER : 0 , 95.8561897277832 , 0 , 0 , 177.89292335510254 , 2.105236053466797 , 179.99815940856934\n"
     ]
    },
    {
     "name": "stderr",
     "output_type": "stream",
     "text": [
      "150.229.118.204 - - [24/Jul/2018 12:54:45] \"POST / HTTP/1.1\" 200 -\n"
     ]
    },
    {
     "name": "stdout",
     "output_type": "stream",
     "text": [
      "Markers detected:  4\n",
      "Marker:  <Marker id=1 center=(392, 793)>\n",
      "Marker:  <Marker id=1 center=(392, 793)>\n",
      "Marker:  <Marker id=243 center=(417, 361)>\n",
      "Marker:  <Marker id=243 center=(417, 361)>\n",
      "Goes before check.\n",
      "Goes inside marker check.\n",
      "Successful results.\n",
      "MARKER : 0 , 95.08895874023438 , 0 , 0 , 182.7092170715332 , 2.1429061889648438 , 184.85212326049805\n"
     ]
    },
    {
     "name": "stderr",
     "output_type": "stream",
     "text": [
      "150.229.118.204 - - [24/Jul/2018 12:54:46] \"POST / HTTP/1.1\" 200 -\n"
     ]
    },
    {
     "name": "stdout",
     "output_type": "stream",
     "text": [
      "Markers detected:  3\n",
      "Marker:  <Marker id=1 center=(388, 791)>\n",
      "Marker:  <Marker id=243 center=(408, 360)>\n",
      "Marker:  <Marker id=243 center=(407, 360)>\n",
      "Goes before check.\n",
      "Goes inside marker check.\n",
      "Successful results.\n",
      "MARKER : 0 , 93.75405311584473 , 0 , 0 , 240.9651279449463 , 2.0780563354492188 , 243.0431842803955\n"
     ]
    },
    {
     "name": "stderr",
     "output_type": "stream",
     "text": [
      "150.229.118.204 - - [24/Jul/2018 12:54:46] \"POST / HTTP/1.1\" 200 -\n"
     ]
    },
    {
     "name": "stdout",
     "output_type": "stream",
     "text": [
      "Markers detected:  4\n",
      "Marker:  <Marker id=1 center=(396, 800)>\n",
      "Marker:  <Marker id=1 center=(395, 801)>\n",
      "Marker:  <Marker id=243 center=(414, 371)>\n",
      "Marker:  <Marker id=243 center=(414, 371)>\n",
      "Goes before check.\n",
      "Goes inside marker check.\n",
      "Successful results.\n",
      "MARKER : 0 , 93.19496154785156 , 0 , 0 , 212.41307258605957 , 3.4329891204833984 , 215.84606170654297\n"
     ]
    },
    {
     "name": "stderr",
     "output_type": "stream",
     "text": [
      "150.229.118.204 - - [24/Jul/2018 12:54:47] \"POST / HTTP/1.1\" 200 -\n"
     ]
    },
    {
     "name": "stdout",
     "output_type": "stream",
     "text": [
      "Markers detected:  4\n",
      "Marker:  <Marker id=1 center=(401, 803)>\n",
      "Marker:  <Marker id=1 center=(401, 803)>\n",
      "Marker:  <Marker id=243 center=(420, 373)>\n",
      "Marker:  <Marker id=243 center=(419, 373)>\n",
      "Goes before check.\n",
      "Goes inside marker check.\n",
      "Successful results.\n",
      "MARKER : 0 , 96.51803970336914 , 0 , 0 , 209.29670333862305 , 2.3119449615478516 , 211.6086483001709\n"
     ]
    },
    {
     "name": "stderr",
     "output_type": "stream",
     "text": [
      "150.229.118.204 - - [24/Jul/2018 12:54:47] \"POST / HTTP/1.1\" 200 -\n"
     ]
    },
    {
     "name": "stdout",
     "output_type": "stream",
     "text": [
      "Markers detected:  4\n",
      "Marker:  <Marker id=1 center=(405, 810)>\n",
      "Marker:  <Marker id=1 center=(405, 810)>\n",
      "Marker:  <Marker id=243 center=(423, 382)>\n",
      "Marker:  <Marker id=243 center=(423, 382)>\n",
      "Goes before check.\n",
      "Goes inside marker check.\n",
      "Successful results.\n",
      "MARKER : 0 , 93.14203262329102 , 0 , 0 , 191.53499603271484 , 2.1588802337646484 , 193.6938762664795\n"
     ]
    },
    {
     "name": "stderr",
     "output_type": "stream",
     "text": [
      "150.229.118.204 - - [24/Jul/2018 12:54:47] \"POST / HTTP/1.1\" 200 -\n"
     ]
    },
    {
     "name": "stdout",
     "output_type": "stream",
     "text": [
      "Markers detected:  4\n",
      "Marker:  <Marker id=1 center=(411, 812)>\n",
      "Marker:  <Marker id=1 center=(410, 812)>\n",
      "Marker:  <Marker id=243 center=(428, 383)>\n",
      "Marker:  <Marker id=243 center=(427, 383)>\n",
      "Goes before check.\n",
      "Goes inside marker check.\n",
      "Successful results.\n",
      "MARKER : 0 , 96.09293937683105 , 0 , 0 , 214.1101360321045 , 2.527952194213867 , 216.63808822631836\n"
     ]
    },
    {
     "name": "stderr",
     "output_type": "stream",
     "text": [
      "150.229.118.204 - - [24/Jul/2018 12:54:48] \"POST / HTTP/1.1\" 200 -\n"
     ]
    },
    {
     "name": "stdout",
     "output_type": "stream",
     "text": [
      "Markers detected:  4\n",
      "Marker:  <Marker id=1 center=(414, 807)>\n",
      "Marker:  <Marker id=1 center=(415, 806)>\n",
      "Marker:  <Marker id=243 center=(434, 379)>\n",
      "Marker:  <Marker id=243 center=(434, 379)>\n",
      "Goes before check.\n",
      "Goes inside marker check.\n",
      "Successful results.\n",
      "MARKER : 0 , 97.17607498168945 , 0 , 0 , 181.83302879333496 , 2.435922622680664 , 184.26895141601562\n"
     ]
    },
    {
     "name": "stderr",
     "output_type": "stream",
     "text": [
      "150.229.118.204 - - [24/Jul/2018 12:54:48] \"POST / HTTP/1.1\" 200 -\n"
     ]
    },
    {
     "name": "stdout",
     "output_type": "stream",
     "text": [
      "Markers detected:  4\n",
      "Marker:  <Marker id=1 center=(415, 807)>\n",
      "Marker:  <Marker id=1 center=(415, 807)>\n",
      "Marker:  <Marker id=243 center=(431, 378)>\n",
      "Marker:  <Marker id=243 center=(431, 378)>\n",
      "Goes before check.\n",
      "Goes inside marker check.\n",
      "Successful results.\n",
      "MARKER : 0 , 98.1149673461914 , 0 , 0 , 178.90310287475586 , 2.6149749755859375 , 181.5180778503418\n"
     ]
    },
    {
     "name": "stderr",
     "output_type": "stream",
     "text": [
      "150.229.118.204 - - [24/Jul/2018 12:54:48] \"POST / HTTP/1.1\" 200 -\n"
     ]
    },
    {
     "name": "stdout",
     "output_type": "stream",
     "text": [
      "Markers detected:  4\n",
      "Marker:  <Marker id=1 center=(414, 814)>\n",
      "Marker:  <Marker id=1 center=(414, 814)>\n",
      "Marker:  <Marker id=243 center=(431, 384)>\n",
      "Marker:  <Marker id=243 center=(431, 385)>\n",
      "Goes before check.\n",
      "Goes inside marker check.\n",
      "Successful results.\n",
      "MARKER : 0 , 97.54586219787598 , 0 , 0 , 189.23115730285645 , 3.134012222290039 , 192.36516952514648\n"
     ]
    },
    {
     "name": "stderr",
     "output_type": "stream",
     "text": [
      "150.229.118.204 - - [24/Jul/2018 12:54:49] \"POST / HTTP/1.1\" 200 -\n"
     ]
    },
    {
     "name": "stdout",
     "output_type": "stream",
     "text": [
      "Markers detected:  4\n",
      "Marker:  <Marker id=1 center=(415, 819)>\n",
      "Marker:  <Marker id=1 center=(415, 819)>\n",
      "Marker:  <Marker id=243 center=(429, 390)>\n",
      "Marker:  <Marker id=243 center=(429, 390)>\n",
      "Goes before check.\n",
      "Goes inside marker check.\n",
      "Successful results.\n",
      "MARKER : 0 , 93.73593330383301 , 0 , 0 , 172.68705368041992 , 2.6559829711914062 , 175.34303665161133\n"
     ]
    },
    {
     "name": "stderr",
     "output_type": "stream",
     "text": [
      "150.229.118.204 - - [24/Jul/2018 12:54:49] \"POST / HTTP/1.1\" 200 -\n"
     ]
    },
    {
     "name": "stdout",
     "output_type": "stream",
     "text": [
      "Markers detected:  4\n",
      "Marker:  <Marker id=1 center=(416, 821)>\n",
      "Marker:  <Marker id=1 center=(415, 821)>\n",
      "Marker:  <Marker id=243 center=(431, 394)>\n",
      "Marker:  <Marker id=243 center=(430, 394)>\n",
      "Goes before check.\n",
      "Goes inside marker check.\n",
      "Successful results.\n",
      "MARKER : 0 , 98.5422134399414 , 0 , 0 , 168.90192031860352 , 2.7267932891845703 , 171.6287136077881\n"
     ]
    },
    {
     "name": "stderr",
     "output_type": "stream",
     "text": [
      "150.229.118.204 - - [24/Jul/2018 12:54:49] \"POST / HTTP/1.1\" 200 -\n"
     ]
    },
    {
     "name": "stdout",
     "output_type": "stream",
     "text": [
      "Markers detected:  0\n",
      "Goes before check.\n",
      "Successful results.\n",
      "MARKER : 0 , 146.6519832611084 , 0 , 0 , 249.47476387023926 , 2.8562545776367188 , 252.33101844787598\n"
     ]
    },
    {
     "name": "stderr",
     "output_type": "stream",
     "text": [
      "150.229.118.204 - - [24/Jul/2018 12:55:03] \"POST / HTTP/1.1\" 200 -\n"
     ]
    },
    {
     "name": "stdout",
     "output_type": "stream",
     "text": [
      "Markers detected:  4\n",
      "Marker:  <Marker id=1 center=(606, 1036)>\n",
      "Marker:  <Marker id=1 center=(606, 1036)>\n",
      "Marker:  <Marker id=243 center=(620, 491)>\n",
      "Marker:  <Marker id=243 center=(620, 491)>\n",
      "Goes before check.\n",
      "Goes inside marker check.\n",
      "Successful results.\n",
      "MARKER : 0 , 147.54271507263184 , 0 , 0 , 339.65611457824707 , 2.5801658630371094 , 342.2362804412842\n"
     ]
    },
    {
     "name": "stderr",
     "output_type": "stream",
     "text": [
      "150.229.118.204 - - [24/Jul/2018 12:55:03] \"POST / HTTP/1.1\" 200 -\n"
     ]
    },
    {
     "name": "stdout",
     "output_type": "stream",
     "text": [
      "Markers detected:  4\n",
      "Marker:  <Marker id=1 center=(605, 1028)>\n",
      "Marker:  <Marker id=1 center=(605, 1028)>\n",
      "Marker:  <Marker id=243 center=(620, 479)>\n",
      "Marker:  <Marker id=243 center=(621, 479)>\n",
      "Goes before check.\n",
      "Goes inside marker check.\n",
      "Successful results.\n",
      "MARKER : 0 , 150.72393417358398 , 0 , 0 , 268.31793785095215 , 3.1599998474121094 , 271.47793769836426\n"
     ]
    },
    {
     "name": "stderr",
     "output_type": "stream",
     "text": [
      "150.229.118.204 - - [24/Jul/2018 12:55:04] \"POST / HTTP/1.1\" 200 -\n"
     ]
    },
    {
     "name": "stdout",
     "output_type": "stream",
     "text": [
      "Markers detected:  4\n",
      "Marker:  <Marker id=1 center=(607, 1016)>\n",
      "Marker:  <Marker id=1 center=(606, 1016)>\n",
      "Marker:  <Marker id=243 center=(623, 467)>\n",
      "Marker:  <Marker id=243 center=(622, 467)>\n",
      "Goes before check.\n",
      "Goes inside marker check.\n",
      "Successful results.\n",
      "MARKER : 0 , 150.01702308654785 , 0 , 0 , 301.81002616882324 , 2.638101577758789 , 304.44812774658203\n"
     ]
    },
    {
     "name": "stderr",
     "output_type": "stream",
     "text": [
      "150.229.118.204 - - [24/Jul/2018 12:55:04] \"POST / HTTP/1.1\" 200 -\n"
     ]
    },
    {
     "name": "stdout",
     "output_type": "stream",
     "text": [
      "Markers detected:  4\n",
      "Marker:  <Marker id=1 center=(604, 1026)>\n",
      "Marker:  <Marker id=1 center=(604, 1026)>\n",
      "Marker:  <Marker id=243 center=(619, 477)>\n",
      "Marker:  <Marker id=243 center=(619, 477)>\n",
      "Goes before check.\n",
      "Goes inside marker check.\n",
      "Successful results.\n",
      "MARKER : 0 , 156.23188018798828 , 0 , 0 , 291.23520851135254 , 2.7647018432617188 , 293.99991035461426\n"
     ]
    },
    {
     "name": "stderr",
     "output_type": "stream",
     "text": [
      "150.229.118.204 - - [24/Jul/2018 12:55:05] \"POST / HTTP/1.1\" 200 -\n"
     ]
    },
    {
     "name": "stdout",
     "output_type": "stream",
     "text": [
      "Markers detected:  4\n",
      "Marker:  <Marker id=1 center=(602, 1036)>\n",
      "Marker:  <Marker id=1 center=(602, 1036)>\n",
      "Marker:  <Marker id=243 center=(616, 486)>\n",
      "Marker:  <Marker id=243 center=(616, 486)>\n",
      "Goes before check.\n",
      "Goes inside marker check.\n",
      "Successful results.\n",
      "MARKER : 0 , 149.94001388549805 , 0 , 0 , 258.4371566772461 , 2.840757369995117 , 261.2779140472412\n"
     ]
    },
    {
     "name": "stderr",
     "output_type": "stream",
     "text": [
      "150.229.118.204 - - [24/Jul/2018 12:55:06] \"POST / HTTP/1.1\" 200 -\n"
     ]
    },
    {
     "name": "stdout",
     "output_type": "stream",
     "text": [
      "Markers detected:  4\n",
      "Marker:  <Marker id=1 center=(602, 1044)>\n",
      "Marker:  <Marker id=1 center=(602, 1043)>\n",
      "Marker:  <Marker id=243 center=(616, 494)>\n",
      "Marker:  <Marker id=243 center=(616, 494)>\n",
      "Goes before check.\n",
      "Goes inside marker check.\n",
      "Successful results.\n",
      "MARKER : 0 , 147.65000343322754 , 0 , 0 , 275.96282958984375 , 2.876758575439453 , 278.8395881652832\n"
     ]
    },
    {
     "name": "stderr",
     "output_type": "stream",
     "text": [
      "150.229.118.204 - - [24/Jul/2018 12:55:07] \"POST / HTTP/1.1\" 200 -\n"
     ]
    },
    {
     "name": "stdout",
     "output_type": "stream",
     "text": [
      "Markers detected:  4\n",
      "Marker:  <Marker id=1 center=(603, 1038)>\n",
      "Marker:  <Marker id=1 center=(603, 1038)>\n",
      "Marker:  <Marker id=243 center=(618, 490)>\n",
      "Marker:  <Marker id=243 center=(618, 489)>\n",
      "Goes before check.\n",
      "Goes inside marker check.\n",
      "Successful results.\n",
      "MARKER : 0 , 148.96726608276367 , 0 , 0 , 328.80401611328125 , 2.956867218017578 , 331.7608833312988\n"
     ]
    },
    {
     "name": "stderr",
     "output_type": "stream",
     "text": [
      "150.229.118.204 - - [24/Jul/2018 12:55:07] \"POST / HTTP/1.1\" 200 -\n"
     ]
    },
    {
     "name": "stdout",
     "output_type": "stream",
     "text": [
      "Markers detected:  4\n",
      "Marker:  <Marker id=1 center=(604, 1036)>\n",
      "Marker:  <Marker id=1 center=(604, 1035)>\n",
      "Marker:  <Marker id=243 center=(619, 486)>\n",
      "Marker:  <Marker id=243 center=(618, 486)>\n",
      "Goes before check.\n",
      "Goes inside marker check.\n",
      "Successful results.\n",
      "MARKER : 0 , 150.66814422607422 , 0 , 0 , 278.4609794616699 , 2.5959014892578125 , 281.05688095092773\n"
     ]
    },
    {
     "name": "stderr",
     "output_type": "stream",
     "text": [
      "150.229.118.204 - - [24/Jul/2018 12:55:08] \"POST / HTTP/1.1\" 200 -\n"
     ]
    },
    {
     "name": "stdout",
     "output_type": "stream",
     "text": [
      "Markers detected:  4\n",
      "Marker:  <Marker id=1 center=(605, 1036)>\n",
      "Marker:  <Marker id=1 center=(606, 1036)>\n",
      "Marker:  <Marker id=243 center=(620, 490)>\n",
      "Marker:  <Marker id=243 center=(620, 490)>\n",
      "Goes before check.\n",
      "Goes inside marker check.\n",
      "Successful results.\n",
      "MARKER : 0 , 147.1230983734131 , 0 , 0 , 278.9020538330078 , 2.86102294921875 , 281.76307678222656\n"
     ]
    },
    {
     "name": "stderr",
     "output_type": "stream",
     "text": [
      "150.229.118.204 - - [24/Jul/2018 12:55:08] \"POST / HTTP/1.1\" 200 -\n"
     ]
    },
    {
     "name": "stdout",
     "output_type": "stream",
     "text": [
      "Markers detected:  3\n",
      "Marker:  <Marker id=1 center=(619, 1024)>\n",
      "Marker:  <Marker id=243 center=(634, 484)>\n",
      "Marker:  <Marker id=243 center=(634, 484)>\n",
      "Goes before check.\n",
      "Goes inside marker check.\n",
      "Successful results.\n",
      "MARKER : 0 , 151.11613273620605 , 0 , 0 , 294.4598197937012 , 2.707958221435547 , 297.1677780151367\n"
     ]
    },
    {
     "name": "stderr",
     "output_type": "stream",
     "text": [
      "150.229.118.204 - - [24/Jul/2018 12:55:09] \"POST / HTTP/1.1\" 200 -\n"
     ]
    },
    {
     "name": "stdout",
     "output_type": "stream",
     "text": [
      "Markers detected:  4\n",
      "Marker:  <Marker id=1 center=(627, 1047)>\n",
      "Marker:  <Marker id=1 center=(627, 1046)>\n",
      "Marker:  <Marker id=243 center=(641, 506)>\n",
      "Marker:  <Marker id=243 center=(641, 506)>\n",
      "Goes before check.\n",
      "Goes inside marker check.\n",
      "Successful results.\n",
      "MARKER : 0 , 146.21806144714355 , 0 , 0 , 270.7998752593994 , 2.7251243591308594 , 273.5249996185303\n"
     ]
    },
    {
     "name": "stderr",
     "output_type": "stream",
     "text": [
      "150.229.118.204 - - [24/Jul/2018 12:55:10] \"POST / HTTP/1.1\" 200 -\n"
     ]
    },
    {
     "name": "stdout",
     "output_type": "stream",
     "text": [
      "Markers detected:  4\n",
      "Marker:  <Marker id=1 center=(633, 1058)>\n",
      "Marker:  <Marker id=1 center=(633, 1058)>\n",
      "Marker:  <Marker id=243 center=(648, 516)>\n",
      "Marker:  <Marker id=243 center=(648, 516)>\n",
      "Goes before check.\n",
      "Goes inside marker check.\n",
      "Successful results.\n",
      "MARKER : 0 , 151.5641212463379 , 0 , 0 , 277.30822563171387 , 4.291057586669922 , 281.5992832183838\n"
     ]
    },
    {
     "name": "stderr",
     "output_type": "stream",
     "text": [
      "150.229.118.204 - - [24/Jul/2018 12:55:10] \"POST / HTTP/1.1\" 200 -\n"
     ]
    },
    {
     "name": "stdout",
     "output_type": "stream",
     "text": [
      "Markers detected:  4\n",
      "Marker:  <Marker id=1 center=(639, 1053)>\n",
      "Marker:  <Marker id=1 center=(639, 1053)>\n",
      "Marker:  <Marker id=243 center=(654, 512)>\n",
      "Marker:  <Marker id=243 center=(654, 512)>\n",
      "Goes before check.\n",
      "Goes inside marker check.\n",
      "Successful results.\n",
      "MARKER : 0 , 149.44171905517578 , 0 , 0 , 269.38414573669434 , 2.6428699493408203 , 272.02701568603516\n"
     ]
    },
    {
     "name": "stderr",
     "output_type": "stream",
     "text": [
      "150.229.118.204 - - [24/Jul/2018 12:55:11] \"POST / HTTP/1.1\" 200 -\n"
     ]
    },
    {
     "name": "stdout",
     "output_type": "stream",
     "text": [
      "Markers detected:  3\n",
      "Marker:  <Marker id=1 center=(642, 1039)>\n",
      "Marker:  <Marker id=243 center=(657, 498)>\n",
      "Marker:  <Marker id=243 center=(657, 498)>\n",
      "Goes before check.\n",
      "Goes inside marker check.\n",
      "Successful results.\n",
      "MARKER : 0 , 151.50785446166992 , 0 , 0 , 273.7300395965576 , 2.9230117797851562 , 276.6530513763428\n"
     ]
    },
    {
     "name": "stderr",
     "output_type": "stream",
     "text": [
      "150.229.118.204 - - [24/Jul/2018 12:55:12] \"POST / HTTP/1.1\" 200 -\n"
     ]
    },
    {
     "name": "stdout",
     "output_type": "stream",
     "text": [
      "Markers detected:  4\n",
      "Marker:  <Marker id=1 center=(640, 1047)>\n",
      "Marker:  <Marker id=1 center=(640, 1047)>\n",
      "Marker:  <Marker id=243 center=(656, 505)>\n",
      "Marker:  <Marker id=243 center=(656, 505)>\n",
      "Goes before check.\n",
      "Goes inside marker check.\n",
      "Successful results.\n",
      "MARKER : 0 , 161.61108016967773 , 0 , 0 , 285.07184982299805 , 1.9900798797607422 , 287.0619297027588\n"
     ]
    },
    {
     "name": "stderr",
     "output_type": "stream",
     "text": [
      "150.229.118.204 - - [24/Jul/2018 12:55:13] \"POST / HTTP/1.1\" 200 -\n"
     ]
    },
    {
     "name": "stdout",
     "output_type": "stream",
     "text": [
      "Markers detected:  4\n",
      "Marker:  <Marker id=1 center=(641, 1048)>\n",
      "Marker:  <Marker id=1 center=(641, 1049)>\n",
      "Marker:  <Marker id=243 center=(657, 507)>\n",
      "Marker:  <Marker id=243 center=(657, 507)>\n",
      "Goes before check.\n",
      "Goes inside marker check.\n",
      "Successful results.\n",
      "MARKER : 0 , 163.61308097839355 , 0 , 0 , 286.6852283477783 , 2.2280216217041016 , 288.9132499694824\n"
     ]
    },
    {
     "name": "stderr",
     "output_type": "stream",
     "text": [
      "150.229.118.204 - - [24/Jul/2018 12:55:13] \"POST / HTTP/1.1\" 200 -\n"
     ]
    },
    {
     "name": "stdout",
     "output_type": "stream",
     "text": [
      "Markers detected:  3\n",
      "Marker:  <Marker id=1 center=(642, 1048)>\n",
      "Marker:  <Marker id=1 center=(642, 1048)>\n",
      "Marker:  <Marker id=243 center=(659, 509)>\n",
      "Goes before check.\n",
      "Goes inside marker check.\n",
      "Successful results.\n",
      "MARKER : 0 , 168.73431205749512 , 0 , 0 , 287.5821590423584 , 2.1049976348876953 , 289.6871566772461\n"
     ]
    },
    {
     "name": "stderr",
     "output_type": "stream",
     "text": [
      "150.229.118.204 - - [24/Jul/2018 12:55:14] \"POST / HTTP/1.1\" 200 -\n"
     ]
    },
    {
     "name": "stdout",
     "output_type": "stream",
     "text": [
      "Markers detected:  4\n",
      "Marker:  <Marker id=1 center=(645, 1046)>\n",
      "Marker:  <Marker id=1 center=(644, 1046)>\n",
      "Marker:  <Marker id=243 center=(661, 506)>\n",
      "Marker:  <Marker id=243 center=(661, 505)>\n",
      "Goes before check.\n",
      "Goes inside marker check.\n",
      "Successful results.\n",
      "MARKER : 0 , 165.56286811828613 , 0 , 0 , 295.08185386657715 , 2.2950172424316406 , 297.3768711090088\n"
     ]
    },
    {
     "name": "stderr",
     "output_type": "stream",
     "text": [
      "150.229.118.204 - - [24/Jul/2018 12:55:15] \"POST / HTTP/1.1\" 200 -\n"
     ]
    },
    {
     "name": "stdout",
     "output_type": "stream",
     "text": [
      "Markers detected:  4\n",
      "Marker:  <Marker id=1 center=(643, 1063)>\n",
      "Marker:  <Marker id=1 center=(643, 1063)>\n",
      "Marker:  <Marker id=243 center=(658, 521)>\n",
      "Marker:  <Marker id=243 center=(658, 521)>\n",
      "Goes before check.\n",
      "Goes inside marker check.\n",
      "Successful results.\n",
      "MARKER : 0 , 165.28606414794922 , 0 , 0 , 287.97101974487305 , 2.415180206298828 , 290.3861999511719\n"
     ]
    },
    {
     "name": "stderr",
     "output_type": "stream",
     "text": [
      "150.229.118.204 - - [24/Jul/2018 12:55:15] \"POST / HTTP/1.1\" 200 -\n"
     ]
    },
    {
     "name": "stdout",
     "output_type": "stream",
     "text": [
      "Markers detected:  0\n",
      "Goes before check.\n",
      "Successful results.\n",
      "MARKER : 0 , 226.9268035888672 , 0 , 0 , 490.0081157684326 , 2.7227401733398438 , 492.73085594177246\n"
     ]
    },
    {
     "name": "stderr",
     "output_type": "stream",
     "text": [
      "150.229.118.204 - - [24/Jul/2018 12:55:46] \"POST / HTTP/1.1\" 200 -\n"
     ]
    },
    {
     "name": "stdout",
     "output_type": "stream",
     "text": [
      "Markers detected:  4\n",
      "Marker:  <Marker id=1 center=(824, 1329)>\n",
      "Marker:  <Marker id=1 center=(823, 1329)>\n",
      "Marker:  <Marker id=243 center=(831, 652)>\n",
      "Marker:  <Marker id=243 center=(831, 652)>\n",
      "Goes before check.\n",
      "Goes inside marker check.\n",
      "Successful results.\n",
      "MARKER : 0 , 242.28405952453613 , 0 , 0 , 430.1309585571289 , 2.5730133056640625 , 432.70397186279297\n"
     ]
    },
    {
     "name": "stderr",
     "output_type": "stream",
     "text": [
      "150.229.118.204 - - [24/Jul/2018 12:55:47] \"POST / HTTP/1.1\" 200 -\n"
     ]
    },
    {
     "name": "stdout",
     "output_type": "stream",
     "text": [
      "Markers detected:  3\n",
      "Marker:  <Marker id=1 center=(814, 1333)>\n",
      "Marker:  <Marker id=1 center=(814, 1333)>\n",
      "Marker:  <Marker id=243 center=(819, 653)>\n",
      "Goes before check.\n",
      "Goes inside marker check.\n",
      "Successful results.\n",
      "MARKER : 0 , 240.41199684143066 , 0 , 0 , 434.48495864868164 , 3.2088756561279297 , 437.69383430480957\n"
     ]
    },
    {
     "name": "stderr",
     "output_type": "stream",
     "text": [
      "150.229.118.204 - - [24/Jul/2018 12:55:48] \"POST / HTTP/1.1\" 200 -\n"
     ]
    },
    {
     "name": "stdout",
     "output_type": "stream",
     "text": [
      "Markers detected:  4\n",
      "Marker:  <Marker id=1 center=(813, 1332)>\n",
      "Marker:  <Marker id=1 center=(814, 1332)>\n",
      "Marker:  <Marker id=243 center=(818, 652)>\n",
      "Marker:  <Marker id=243 center=(818, 652)>\n",
      "Goes before check.\n",
      "Goes inside marker check.\n",
      "Successful results.\n",
      "MARKER : 0 , 236.53817176818848 , 0 , 0 , 457.55815505981445 , 2.774953842163086 , 460.33310890197754\n"
     ]
    },
    {
     "name": "stderr",
     "output_type": "stream",
     "text": [
      "150.229.118.204 - - [24/Jul/2018 12:55:48] \"POST / HTTP/1.1\" 200 -\n"
     ]
    },
    {
     "name": "stdout",
     "output_type": "stream",
     "text": [
      "Markers detected:  4\n",
      "Marker:  <Marker id=1 center=(818, 1334)>\n",
      "Marker:  <Marker id=1 center=(817, 1333)>\n",
      "Marker:  <Marker id=243 center=(820, 656)>\n",
      "Marker:  <Marker id=243 center=(820, 656)>\n",
      "Goes before check.\n",
      "Goes inside marker check.\n",
      "Successful results.\n",
      "MARKER : 0 , 238.53111267089844 , 0 , 0 , 419.2829132080078 , 2.679109573364258 , 421.96202278137207\n"
     ]
    },
    {
     "name": "stderr",
     "output_type": "stream",
     "text": [
      "150.229.118.204 - - [24/Jul/2018 12:55:49] \"POST / HTTP/1.1\" 200 -\n"
     ]
    },
    {
     "name": "stdout",
     "output_type": "stream",
     "text": [
      "Markers detected:  4\n",
      "Marker:  <Marker id=1 center=(816, 1304)>\n",
      "Marker:  <Marker id=1 center=(816, 1305)>\n",
      "Marker:  <Marker id=243 center=(820, 629)>\n",
      "Marker:  <Marker id=243 center=(820, 629)>\n",
      "Goes before check.\n",
      "Goes inside marker check.\n",
      "Successful results.\n",
      "MARKER : 0 , 245.3000545501709 , 0 , 0 , 441.8768882751465 , 3.1862258911132812 , 445.06311416625977\n"
     ]
    },
    {
     "name": "stderr",
     "output_type": "stream",
     "text": [
      "150.229.118.204 - - [24/Jul/2018 12:55:50] \"POST / HTTP/1.1\" 200 -\n"
     ]
    },
    {
     "name": "stdout",
     "output_type": "stream",
     "text": [
      "Markers detected:  4\n",
      "Marker:  <Marker id=1 center=(861, 1284)>\n",
      "Marker:  <Marker id=1 center=(861, 1284)>\n",
      "Marker:  <Marker id=243 center=(873, 627)>\n",
      "Marker:  <Marker id=243 center=(873, 627)>\n",
      "Goes before check.\n",
      "Goes inside marker check.\n",
      "Successful results.\n",
      "MARKER : 0 , 232.43284225463867 , 0 , 0 , 387.9129886627197 , 2.866029739379883 , 390.7790184020996\n"
     ]
    },
    {
     "name": "stderr",
     "output_type": "stream",
     "text": [
      "150.229.118.204 - - [24/Jul/2018 12:55:51] \"POST / HTTP/1.1\" 200 -\n"
     ]
    },
    {
     "name": "stdout",
     "output_type": "stream",
     "text": [
      "Markers detected:  4\n",
      "Marker:  <Marker id=1 center=(864, 1392)>\n",
      "Marker:  <Marker id=1 center=(864, 1392)>\n",
      "Marker:  <Marker id=243 center=(862, 728)>\n",
      "Marker:  <Marker id=243 center=(862, 728)>\n",
      "Goes before check.\n",
      "Goes inside marker check.\n",
      "Successful results.\n",
      "MARKER : 0 , 237.02406883239746 , 0 , 0 , 418.3688163757324 , 2.794981002807617 , 421.16379737854004\n"
     ]
    },
    {
     "name": "stderr",
     "output_type": "stream",
     "text": [
      "150.229.118.204 - - [24/Jul/2018 12:55:52] \"POST / HTTP/1.1\" 200 -\n"
     ]
    },
    {
     "name": "stdout",
     "output_type": "stream",
     "text": [
      "Markers detected:  4\n",
      "Marker:  <Marker id=1 center=(861, 1381)>\n",
      "Marker:  <Marker id=1 center=(861, 1381)>\n",
      "Marker:  <Marker id=243 center=(852, 716)>\n",
      "Marker:  <Marker id=243 center=(851, 717)>\n",
      "Goes before check.\n",
      "Goes inside marker check.\n",
      "Successful results.\n",
      "MARKER : 0 , 236.03510856628418 , 0 , 0 , 361.76204681396484 , 2.610921859741211 , 364.37296867370605\n"
     ]
    },
    {
     "name": "stderr",
     "output_type": "stream",
     "text": [
      "150.229.118.204 - - [24/Jul/2018 12:55:53] \"POST / HTTP/1.1\" 200 -\n"
     ]
    },
    {
     "name": "stdout",
     "output_type": "stream",
     "text": [
      "Markers detected:  4\n",
      "Marker:  <Marker id=1 center=(866, 1369)>\n",
      "Marker:  <Marker id=1 center=(866, 1369)>\n",
      "Marker:  <Marker id=243 center=(857, 707)>\n",
      "Marker:  <Marker id=243 center=(857, 707)>\n",
      "Goes before check.\n",
      "Goes inside marker check.\n",
      "Successful results.\n",
      "MARKER : 0 , 238.06285858154297 , 0 , 0 , 361.4771366119385 , 2.5780200958251953 , 364.0551567077637\n"
     ]
    },
    {
     "name": "stderr",
     "output_type": "stream",
     "text": [
      "150.229.118.204 - - [24/Jul/2018 12:55:54] \"POST / HTTP/1.1\" 200 -\n"
     ]
    },
    {
     "name": "stdout",
     "output_type": "stream",
     "text": [
      "Markers detected:  4\n",
      "Marker:  <Marker id=1 center=(868, 1351)>\n",
      "Marker:  <Marker id=1 center=(868, 1351)>\n",
      "Marker:  <Marker id=243 center=(858, 690)>\n",
      "Marker:  <Marker id=243 center=(858, 689)>\n",
      "Goes before check.\n",
      "Goes inside marker check.\n",
      "Successful results.\n",
      "MARKER : 0 , 245.62621116638184 , 0 , 0 , 376.4667510986328 , 2.536296844482422 , 379.00304794311523\n"
     ]
    },
    {
     "name": "stderr",
     "output_type": "stream",
     "text": [
      "150.229.118.204 - - [24/Jul/2018 12:55:55] \"POST / HTTP/1.1\" 200 -\n"
     ]
    },
    {
     "name": "stdout",
     "output_type": "stream",
     "text": [
      "Markers detected:  4\n",
      "Marker:  <Marker id=1 center=(869, 1360)>\n",
      "Marker:  <Marker id=1 center=(869, 1360)>\n",
      "Marker:  <Marker id=243 center=(859, 699)>\n",
      "Marker:  <Marker id=243 center=(859, 699)>\n",
      "Goes before check.\n",
      "Goes inside marker check.\n",
      "Successful results.\n",
      "MARKER : 0 , 238.63792419433594 , 0 , 0 , 369.38023567199707 , 2.7687549591064453 , 372.1489906311035\n"
     ]
    },
    {
     "name": "stderr",
     "output_type": "stream",
     "text": [
      "150.229.118.204 - - [24/Jul/2018 12:55:56] \"POST / HTTP/1.1\" 200 -\n"
     ]
    },
    {
     "name": "stdout",
     "output_type": "stream",
     "text": [
      "Markers detected:  4\n",
      "Marker:  <Marker id=1 center=(870, 1355)>\n",
      "Marker:  <Marker id=1 center=(870, 1355)>\n",
      "Marker:  <Marker id=243 center=(860, 692)>\n",
      "Marker:  <Marker id=243 center=(860, 692)>\n",
      "Goes before check.\n",
      "Goes inside marker check.\n",
      "Successful results.\n",
      "MARKER : 0 , 242.0217990875244 , 0 , 0 , 368.52383613586426 , 3.3621788024902344 , 371.8860149383545\n"
     ]
    },
    {
     "name": "stderr",
     "output_type": "stream",
     "text": [
      "150.229.118.204 - - [24/Jul/2018 12:55:57] \"POST / HTTP/1.1\" 200 -\n"
     ]
    },
    {
     "name": "stdout",
     "output_type": "stream",
     "text": [
      "Markers detected:  3\n",
      "Marker:  <Marker id=1 center=(872, 1352)>\n",
      "Marker:  <Marker id=1 center=(872, 1352)>\n",
      "Marker:  <Marker id=243 center=(861, 691)>\n",
      "Goes before check.\n",
      "Goes inside marker check.\n",
      "Successful results.\n",
      "MARKER : 0 , 241.49084091186523 , 0 , 0 , 371.36220932006836 , 2.794981002807617 , 374.157190322876\n"
     ]
    },
    {
     "name": "stderr",
     "output_type": "stream",
     "text": [
      "150.229.118.204 - - [24/Jul/2018 12:55:58] \"POST / HTTP/1.1\" 200 -\n"
     ]
    },
    {
     "name": "stdout",
     "output_type": "stream",
     "text": [
      "Markers detected:  4\n",
      "Marker:  <Marker id=1 center=(868, 1391)>\n",
      "Marker:  <Marker id=1 center=(868, 1391)>\n",
      "Marker:  <Marker id=243 center=(856, 730)>\n",
      "Marker:  <Marker id=243 center=(856, 730)>\n",
      "Goes before check.\n",
      "Goes inside marker check.\n",
      "Successful results.\n",
      "MARKER : 0 , 243.93486976623535 , 0 , 0 , 371.51479721069336 , 2.711057662963867 , 374.2258548736572\n"
     ]
    },
    {
     "name": "stderr",
     "output_type": "stream",
     "text": [
      "150.229.118.204 - - [24/Jul/2018 12:55:59] \"POST / HTTP/1.1\" 200 -\n"
     ]
    },
    {
     "name": "stdout",
     "output_type": "stream",
     "text": [
      "Markers detected:  4\n",
      "Marker:  <Marker id=1 center=(870, 1363)>\n",
      "Marker:  <Marker id=1 center=(870, 1364)>\n",
      "Marker:  <Marker id=243 center=(860, 703)>\n",
      "Marker:  <Marker id=243 center=(861, 703)>\n",
      "Goes before check.\n",
      "Goes inside marker check.\n",
      "Successful results.\n",
      "MARKER : 0 , 241.17708206176758 , 0 , 0 , 383.4109306335449 , 2.7930736541748047 , 386.2040042877197\n"
     ]
    },
    {
     "name": "stderr",
     "output_type": "stream",
     "text": [
      "150.229.118.204 - - [24/Jul/2018 12:55:59] \"POST / HTTP/1.1\" 200 -\n"
     ]
    },
    {
     "name": "stdout",
     "output_type": "stream",
     "text": [
      "Markers detected:  3\n",
      "Marker:  <Marker id=1 center=(874, 1318)>\n",
      "Marker:  <Marker id=1 center=(874, 1318)>\n",
      "Marker:  <Marker id=243 center=(867, 660)>\n",
      "Goes before check.\n",
      "Goes inside marker check.\n",
      "Successful results.\n",
      "MARKER : 0 , 244.54712867736816 , 0 , 0 , 409.6949100494385 , 2.6521682739257812 , 412.34707832336426\n"
     ]
    },
    {
     "name": "stderr",
     "output_type": "stream",
     "text": [
      "150.229.118.204 - - [24/Jul/2018 12:56:00] \"POST / HTTP/1.1\" 200 -\n"
     ]
    },
    {
     "name": "stdout",
     "output_type": "stream",
     "text": [
      "Markers detected:  4\n",
      "Marker:  <Marker id=1 center=(880, 1313)>\n",
      "Marker:  <Marker id=1 center=(880, 1314)>\n",
      "Marker:  <Marker id=243 center=(876, 655)>\n",
      "Marker:  <Marker id=243 center=(876, 655)>\n",
      "Goes before check.\n",
      "Goes inside marker check.\n",
      "Successful results.\n",
      "MARKER : 0 , 241.15800857543945 , 0 , 0 , 493.91674995422363 , 2.537965774536133 , 496.45471572875977\n"
     ]
    },
    {
     "name": "stderr",
     "output_type": "stream",
     "text": [
      "150.229.118.204 - - [24/Jul/2018 12:56:01] \"POST / HTTP/1.1\" 200 -\n"
     ]
    },
    {
     "name": "stdout",
     "output_type": "stream",
     "text": [
      "Markers detected:  4\n",
      "Marker:  <Marker id=1 center=(884, 1317)>\n",
      "Marker:  <Marker id=1 center=(884, 1318)>\n",
      "Marker:  <Marker id=243 center=(881, 658)>\n",
      "Marker:  <Marker id=243 center=(881, 658)>\n",
      "Goes before check.\n",
      "Goes inside marker check.\n",
      "Successful results.\n",
      "MARKER : 0 , 240.83709716796875 , 0 , 0 , 400.01797676086426 , 3.2062530517578125 , 403.22422981262207\n"
     ]
    },
    {
     "name": "stderr",
     "output_type": "stream",
     "text": [
      "150.229.118.204 - - [24/Jul/2018 12:56:02] \"POST / HTTP/1.1\" 200 -\n"
     ]
    },
    {
     "name": "stdout",
     "output_type": "stream",
     "text": [
      "Markers detected:  4\n",
      "Marker:  <Marker id=1 center=(884, 1338)>\n",
      "Marker:  <Marker id=1 center=(884, 1338)>\n",
      "Marker:  <Marker id=243 center=(882, 678)>\n",
      "Marker:  <Marker id=243 center=(882, 678)>\n",
      "Goes before check.\n",
      "Goes inside marker check.\n",
      "Successful results.\n",
      "MARKER : 0 , 238.9969825744629 , 0 , 0 , 385.03384590148926 , 3.167390823364258 , 388.2012367248535\n"
     ]
    },
    {
     "name": "stderr",
     "output_type": "stream",
     "text": [
      "150.229.118.204 - - [24/Jul/2018 12:56:03] \"POST / HTTP/1.1\" 200 -\n"
     ]
    },
    {
     "name": "stdout",
     "output_type": "stream",
     "text": [
      "Markers detected:  0\n",
      "Goes before check.\n",
      "Successful results.\n",
      "MARKER : 0 , 345.797061920166 , 0 , 0 , 580.8830261230469 , 2.6307106018066406 , 583.5137367248535\n"
     ]
    },
    {
     "name": "stderr",
     "output_type": "stream",
     "text": [
      "150.229.118.204 - - [24/Jul/2018 12:56:17] \"POST / HTTP/1.1\" 200 -\n"
     ]
    },
    {
     "name": "stdout",
     "output_type": "stream",
     "text": [
      "Markers detected:  4\n",
      "Marker:  <Marker id=1 center=(1081, 1667)>\n",
      "Marker:  <Marker id=1 center=(1081, 1667)>\n",
      "Marker:  <Marker id=243 center=(1091, 849)>\n",
      "Marker:  <Marker id=243 center=(1090, 849)>\n",
      "Goes before check.\n",
      "Goes inside marker check.\n",
      "Successful results.\n",
      "MARKER : 0 , 368.92104148864746 , 0 , 0 , 573.0330944061279 , 2.5620460510253906 , 575.5951404571533\n"
     ]
    },
    {
     "name": "stderr",
     "output_type": "stream",
     "text": [
      "150.229.118.204 - - [24/Jul/2018 12:56:18] \"POST / HTTP/1.1\" 200 -\n"
     ]
    },
    {
     "name": "stdout",
     "output_type": "stream",
     "text": [
      "Markers detected:  4\n",
      "Marker:  <Marker id=1 center=(1073, 1699)>\n",
      "Marker:  <Marker id=1 center=(1073, 1699)>\n",
      "Marker:  <Marker id=243 center=(1078, 877)>\n",
      "Marker:  <Marker id=243 center=(1078, 877)>\n",
      "Goes before check.\n",
      "Goes inside marker check.\n",
      "Successful results.\n",
      "MARKER : 0 , 363.6469841003418 , 0 , 0 , 576.0071277618408 , 3.139019012451172 , 579.146146774292\n"
     ]
    },
    {
     "name": "stderr",
     "output_type": "stream",
     "text": [
      "150.229.118.204 - - [24/Jul/2018 12:56:19] \"POST / HTTP/1.1\" 200 -\n"
     ]
    },
    {
     "name": "stdout",
     "output_type": "stream",
     "text": [
      "Markers detected:  4\n",
      "Marker:  <Marker id=1 center=(1072, 1669)>\n",
      "Marker:  <Marker id=1 center=(1072, 1669)>\n",
      "Marker:  <Marker id=243 center=(1080, 848)>\n",
      "Marker:  <Marker id=243 center=(1080, 848)>\n",
      "Goes before check.\n",
      "Goes inside marker check.\n",
      "Successful results.\n",
      "MARKER : 0 , 367.2640323638916 , 0 , 0 , 597.6760387420654 , 2.911090850830078 , 600.5871295928955\n"
     ]
    },
    {
     "name": "stderr",
     "output_type": "stream",
     "text": [
      "150.229.118.204 - - [24/Jul/2018 12:56:20] \"POST / HTTP/1.1\" 200 -\n"
     ]
    },
    {
     "name": "stdout",
     "output_type": "stream",
     "text": [
      "Markers detected:  4\n",
      "Marker:  <Marker id=1 center=(1082, 1633)>\n",
      "Marker:  <Marker id=1 center=(1082, 1633)>\n",
      "Marker:  <Marker id=243 center=(1088, 809)>\n",
      "Marker:  <Marker id=243 center=(1088, 809)>\n",
      "Goes before check.\n",
      "Goes inside marker check.\n",
      "Successful results.\n",
      "MARKER : 0 , 370.94974517822266 , 0 , 0 , 661.3419055938721 , 3.7660598754882812 , 665.1079654693604\n"
     ]
    },
    {
     "name": "stderr",
     "output_type": "stream",
     "text": [
      "150.229.118.204 - - [24/Jul/2018 12:56:22] \"POST / HTTP/1.1\" 200 -\n"
     ]
    },
    {
     "name": "stdout",
     "output_type": "stream",
     "text": [
      "Markers detected:  4\n",
      "Marker:  <Marker id=1 center=(1077, 1687)>\n",
      "Marker:  <Marker id=1 center=(1077, 1687)>\n",
      "Marker:  <Marker id=243 center=(1079, 862)>\n",
      "Marker:  <Marker id=243 center=(1078, 862)>\n",
      "Goes before check.\n",
      "Goes inside marker check.\n",
      "Successful results.\n",
      "MARKER : 0 , 362.80179023742676 , 0 , 0 , 627.4228096008301 , 2.2742748260498047 , 629.6970844268799\n"
     ]
    },
    {
     "name": "stderr",
     "output_type": "stream",
     "text": [
      "150.229.118.204 - - [24/Jul/2018 12:56:23] \"POST / HTTP/1.1\" 200 -\n"
     ]
    },
    {
     "name": "stdout",
     "output_type": "stream",
     "text": [
      "Markers detected:  4\n",
      "Marker:  <Marker id=1 center=(1081, 1706)>\n",
      "Marker:  <Marker id=1 center=(1081, 1706)>\n",
      "Marker:  <Marker id=243 center=(1080, 886)>\n",
      "Marker:  <Marker id=243 center=(1080, 886)>\n",
      "Goes before check.\n",
      "Goes inside marker check.\n",
      "Successful results.\n",
      "MARKER : 0 , 555.9468269348145 , 0 , 0 , 819.8931217193604 , 2.941131591796875 , 822.8342533111572\n"
     ]
    },
    {
     "name": "stderr",
     "output_type": "stream",
     "text": [
      "150.229.118.204 - - [24/Jul/2018 12:56:24] \"POST / HTTP/1.1\" 200 -\n"
     ]
    },
    {
     "name": "stdout",
     "output_type": "stream",
     "text": [
      "Markers detected:  4\n",
      "Marker:  <Marker id=1 center=(1082, 1697)>\n",
      "Marker:  <Marker id=1 center=(1083, 1697)>\n",
      "Marker:  <Marker id=243 center=(1083, 878)>\n",
      "Marker:  <Marker id=243 center=(1082, 878)>\n",
      "Goes before check.\n",
      "Goes inside marker check.\n",
      "Successful results.\n",
      "MARKER : 0 , 372.17187881469727 , 0 , 0 , 618.736982345581 , 2.527952194213867 , 621.2649345397949\n"
     ]
    },
    {
     "name": "stderr",
     "output_type": "stream",
     "text": [
      "150.229.118.204 - - [24/Jul/2018 12:56:26] \"POST / HTTP/1.1\" 200 -\n"
     ]
    },
    {
     "name": "stdout",
     "output_type": "stream",
     "text": [
      "Markers detected:  4\n",
      "Marker:  <Marker id=1 center=(1085, 1696)>\n",
      "Marker:  <Marker id=1 center=(1085, 1696)>\n",
      "Marker:  <Marker id=243 center=(1084, 877)>\n",
      "Marker:  <Marker id=243 center=(1084, 876)>\n",
      "Goes before check.\n",
      "Goes inside marker check.\n",
      "Successful results.\n",
      "MARKER : 0 , 369.8461055755615 , 0 , 0 , 682.628870010376 , 2.2509098052978516 , 684.8797798156738\n"
     ]
    },
    {
     "name": "stderr",
     "output_type": "stream",
     "text": [
      "150.229.118.204 - - [24/Jul/2018 12:56:27] \"POST / HTTP/1.1\" 200 -\n"
     ]
    },
    {
     "name": "stdout",
     "output_type": "stream",
     "text": [
      "Markers detected:  4\n",
      "Marker:  <Marker id=1 center=(1087, 1669)>\n",
      "Marker:  <Marker id=1 center=(1087, 1668)>\n",
      "Marker:  <Marker id=243 center=(1088, 850)>\n",
      "Marker:  <Marker id=243 center=(1088, 850)>\n",
      "Goes before check.\n",
      "Goes inside marker check.\n",
      "Successful results.\n",
      "MARKER : 0 , 364.9013042449951 , 0 , 0 , 615.2749061584473 , 2.3031234741210938 , 617.5780296325684\n"
     ]
    },
    {
     "name": "stderr",
     "output_type": "stream",
     "text": [
      "150.229.118.204 - - [24/Jul/2018 12:56:28] \"POST / HTTP/1.1\" 200 -\n"
     ]
    },
    {
     "name": "stdout",
     "output_type": "stream",
     "text": [
      "Markers detected:  4\n",
      "Marker:  <Marker id=1 center=(1066, 1725)>\n",
      "Marker:  <Marker id=1 center=(1066, 1725)>\n",
      "Marker:  <Marker id=243 center=(1066, 899)>\n",
      "Marker:  <Marker id=243 center=(1066, 899)>\n",
      "Goes before check.\n",
      "Goes inside marker check.\n",
      "Successful results.\n",
      "MARKER : 0 , 360.6410026550293 , 0 , 0 , 679.722785949707 , 3.087282180786133 , 682.8100681304932\n"
     ]
    },
    {
     "name": "stderr",
     "output_type": "stream",
     "text": [
      "150.229.118.204 - - [24/Jul/2018 12:56:30] \"POST / HTTP/1.1\" 200 -\n"
     ]
    },
    {
     "name": "stdout",
     "output_type": "stream",
     "text": [
      "Markers detected:  0\n",
      "Goes before check.\n",
      "Successful results.\n",
      "MARKER : 0 , 354.3989658355713 , 0 , 0 , 612.4250888824463 , 1.89208984375 , 614.3171787261963\n"
     ]
    },
    {
     "name": "stderr",
     "output_type": "stream",
     "text": [
      "150.229.118.204 - - [24/Jul/2018 12:56:31] \"POST / HTTP/1.1\" 200 -\n"
     ]
    },
    {
     "name": "stdout",
     "output_type": "stream",
     "text": [
      "Markers detected:  4\n",
      "Marker:  <Marker id=1 center=(1028, 1634)>\n",
      "Marker:  <Marker id=1 center=(1028, 1635)>\n",
      "Marker:  <Marker id=243 center=(1038, 806)>\n",
      "Marker:  <Marker id=243 center=(1037, 806)>\n",
      "Goes before check.\n",
      "Goes inside marker check.\n",
      "Successful results.\n",
      "MARKER : 0 , 362.7488613128662 , 0 , 0 , 653.7971496582031 , 2.307891845703125 , 656.1050415039062\n"
     ]
    },
    {
     "name": "stderr",
     "output_type": "stream",
     "text": [
      "150.229.118.204 - - [24/Jul/2018 12:56:32] \"POST / HTTP/1.1\" 200 -\n"
     ]
    },
    {
     "name": "stdout",
     "output_type": "stream",
     "text": [
      "Markers detected:  4\n",
      "Marker:  <Marker id=1 center=(1045, 1696)>\n",
      "Marker:  <Marker id=1 center=(1045, 1696)>\n",
      "Marker:  <Marker id=243 center=(1053, 869)>\n",
      "Marker:  <Marker id=243 center=(1053, 869)>\n",
      "Goes before check.\n",
      "Goes inside marker check.\n",
      "Successful results.\n",
      "MARKER : 0 , 363.63792419433594 , 0 , 0 , 683.2458972930908 , 2.250194549560547 , 685.4960918426514\n"
     ]
    },
    {
     "name": "stderr",
     "output_type": "stream",
     "text": [
      "150.229.118.204 - - [24/Jul/2018 12:56:33] \"POST / HTTP/1.1\" 200 -\n"
     ]
    },
    {
     "name": "stdout",
     "output_type": "stream",
     "text": [
      "Markers detected:  4\n",
      "Marker:  <Marker id=1 center=(1055, 1703)>\n",
      "Marker:  <Marker id=1 center=(1055, 1703)>\n",
      "Marker:  <Marker id=243 center=(1061, 877)>\n",
      "Marker:  <Marker id=243 center=(1061, 877)>\n",
      "Goes before check.\n",
      "Goes inside marker check.\n",
      "Successful results.\n",
      "MARKER : 0 , 367.0790195465088 , 0 , 0 , 661.2260341644287 , 2.328157424926758 , 663.5541915893555\n"
     ]
    },
    {
     "name": "stderr",
     "output_type": "stream",
     "text": [
      "150.229.118.204 - - [24/Jul/2018 12:56:35] \"POST / HTTP/1.1\" 200 -\n"
     ]
    },
    {
     "name": "stdout",
     "output_type": "stream",
     "text": [
      "Markers detected:  4\n",
      "Marker:  <Marker id=1 center=(1064, 1724)>\n",
      "Marker:  <Marker id=1 center=(1064, 1724)>\n",
      "Marker:  <Marker id=243 center=(1068, 900)>\n",
      "Marker:  <Marker id=243 center=(1067, 899)>\n",
      "Goes before check.\n",
      "Goes inside marker check.\n",
      "Successful results.\n",
      "MARKER : 0 , 365.83924293518066 , 0 , 0 , 579.5309543609619 , 1.9938945770263672 , 581.5248489379883\n"
     ]
    },
    {
     "name": "stderr",
     "output_type": "stream",
     "text": [
      "150.229.118.204 - - [24/Jul/2018 12:56:36] \"POST / HTTP/1.1\" 200 -\n"
     ]
    },
    {
     "name": "stdout",
     "output_type": "stream",
     "text": [
      "Markers detected:  4\n",
      "Marker:  <Marker id=1 center=(1060, 1741)>\n",
      "Marker:  <Marker id=1 center=(1060, 1742)>\n",
      "Marker:  <Marker id=243 center=(1061, 912)>\n",
      "Marker:  <Marker id=243 center=(1061, 912)>\n",
      "Goes before check.\n",
      "Goes inside marker check.\n",
      "Successful results.\n",
      "MARKER : 0 , 370.61285972595215 , 0 , 0 , 599.2259979248047 , 2.6001930236816406 , 601.8261909484863\n"
     ]
    },
    {
     "name": "stderr",
     "output_type": "stream",
     "text": [
      "150.229.118.204 - - [24/Jul/2018 12:56:37] \"POST / HTTP/1.1\" 200 -\n"
     ]
    },
    {
     "name": "stdout",
     "output_type": "stream",
     "text": [
      "Markers detected:  4\n",
      "Marker:  <Marker id=1 center=(1060, 1716)>\n",
      "Marker:  <Marker id=1 center=(1060, 1716)>\n",
      "Marker:  <Marker id=243 center=(1062, 890)>\n",
      "Marker:  <Marker id=243 center=(1063, 890)>\n",
      "Goes before check.\n",
      "Goes inside marker check.\n",
      "Successful results.\n",
      "MARKER : 0 , 369.8387145996094 , 0 , 0 , 628.1509399414062 , 2.772092819213867 , 630.9230327606201\n"
     ]
    },
    {
     "name": "stderr",
     "output_type": "stream",
     "text": [
      "150.229.118.204 - - [24/Jul/2018 12:56:38] \"POST / HTTP/1.1\" 200 -\n"
     ]
    },
    {
     "name": "stdout",
     "output_type": "stream",
     "text": [
      "Markers detected:  4\n",
      "Marker:  <Marker id=1 center=(1055, 1760)>\n",
      "Marker:  <Marker id=1 center=(1055, 1760)>\n",
      "Marker:  <Marker id=243 center=(1055, 933)>\n",
      "Marker:  <Marker id=243 center=(1055, 933)>\n",
      "Goes before check.\n",
      "Goes inside marker check.\n",
      "Successful results.\n",
      "MARKER : 0 , 365.9951686859131 , 0 , 0 , 615.5860424041748 , 3.2188892364501953 , 618.804931640625\n"
     ]
    },
    {
     "name": "stderr",
     "output_type": "stream",
     "text": [
      "150.229.118.204 - - [24/Jul/2018 12:56:40] \"POST / HTTP/1.1\" 200 -\n"
     ]
    },
    {
     "name": "stdout",
     "output_type": "stream",
     "text": [
      "Markers detected:  4\n",
      "Marker:  <Marker id=1 center=(1049, 1784)>\n",
      "Marker:  <Marker id=1 center=(1048, 1784)>\n",
      "Marker:  <Marker id=243 center=(1046, 954)>\n",
      "Marker:  <Marker id=243 center=(1046, 955)>\n",
      "Goes before check.\n",
      "Goes inside marker check.\n",
      "Successful results.\n",
      "MARKER : 0 , 368.847131729126 , 0 , 0 , 577.0020484924316 , 3.4198760986328125 , 580.4219245910645\n"
     ]
    },
    {
     "name": "stderr",
     "output_type": "stream",
     "text": [
      "150.229.118.204 - - [24/Jul/2018 12:56:41] \"POST / HTTP/1.1\" 200 -\n"
     ]
    },
    {
     "name": "stdout",
     "output_type": "stream",
     "text": [
      "Markers detected:  0\n",
      "Goes before check.\n",
      "Successful results.\n",
      "MARKER : 0 , 525.825023651123 , 0 , 0 , 790.2719974517822 , 1.9619464874267578 , 792.233943939209\n"
     ]
    },
    {
     "name": "stderr",
     "output_type": "stream",
     "text": [
      "150.229.118.204 - - [24/Jul/2018 12:57:02] \"POST / HTTP/1.1\" 200 -\n"
     ]
    },
    {
     "name": "stdout",
     "output_type": "stream",
     "text": [
      "Markers detected:  4\n",
      "Marker:  <Marker id=1 center=(1145, 2011)>\n",
      "Marker:  <Marker id=1 center=(1145, 2011)>\n",
      "Marker:  <Marker id=243 center=(1135, 977)>\n",
      "Marker:  <Marker id=243 center=(1135, 977)>\n",
      "Goes before check.\n",
      "Goes inside marker check.\n",
      "Successful results.\n",
      "MARKER : 0 , 546.8082427978516 , 0 , 0 , 857.0640087127686 , 2.3980140686035156 , 859.4620227813721\n"
     ]
    },
    {
     "name": "stderr",
     "output_type": "stream",
     "text": [
      "150.229.118.204 - - [24/Jul/2018 12:57:04] \"POST / HTTP/1.1\" 200 -\n"
     ]
    },
    {
     "name": "stdout",
     "output_type": "stream",
     "text": [
      "Markers detected:  4\n",
      "Marker:  <Marker id=1 center=(1118, 2025)>\n",
      "Marker:  <Marker id=1 center=(1118, 2025)>\n",
      "Marker:  <Marker id=243 center=(1113, 991)>\n",
      "Marker:  <Marker id=243 center=(1113, 990)>\n",
      "Goes before check.\n",
      "Goes inside marker check.\n",
      "Successful results.\n",
      "MARKER : 0 , 547.3229885101318 , 0 , 0 , 852.532148361206 , 2.6209354400634766 , 855.1530838012695\n"
     ]
    },
    {
     "name": "stderr",
     "output_type": "stream",
     "text": [
      "150.229.118.204 - - [24/Jul/2018 12:57:05] \"POST / HTTP/1.1\" 200 -\n"
     ]
    },
    {
     "name": "stdout",
     "output_type": "stream",
     "text": [
      "Markers detected:  4\n",
      "Marker:  <Marker id=1 center=(1120, 2000)>\n",
      "Marker:  <Marker id=1 center=(1120, 2000)>\n",
      "Marker:  <Marker id=243 center=(1119, 961)>\n",
      "Marker:  <Marker id=243 center=(1119, 961)>\n",
      "Goes before check.\n",
      "Goes inside marker check.\n",
      "Successful results.\n",
      "MARKER : 0 , 547.3310947418213 , 0 , 0 , 1053.208827972412 , 2.4650096893310547 , 1055.6738376617432\n"
     ]
    },
    {
     "name": "stderr",
     "output_type": "stream",
     "text": [
      "150.229.118.204 - - [24/Jul/2018 12:57:07] \"POST / HTTP/1.1\" 200 -\n"
     ]
    },
    {
     "name": "stdout",
     "output_type": "stream",
     "text": [
      "Markers detected:  4\n",
      "Marker:  <Marker id=1 center=(1115, 1961)>\n",
      "Marker:  <Marker id=1 center=(1115, 1961)>\n",
      "Marker:  <Marker id=243 center=(1117, 914)>\n",
      "Marker:  <Marker id=243 center=(1117, 914)>\n",
      "Goes before check.\n",
      "Goes inside marker check.\n",
      "Successful results.\n",
      "MARKER : 0 , 547.1639633178711 , 0 , 0 , 811.9008541107178 , 2.371072769165039 , 814.2719268798828\n"
     ]
    },
    {
     "name": "stderr",
     "output_type": "stream",
     "text": [
      "150.229.118.204 - - [24/Jul/2018 12:57:09] \"POST / HTTP/1.1\" 200 -\n"
     ]
    },
    {
     "name": "stdout",
     "output_type": "stream",
     "text": [
      "Markers detected:  4\n",
      "Marker:  <Marker id=1 center=(1109, 1970)>\n",
      "Marker:  <Marker id=1 center=(1109, 1970)>\n",
      "Marker:  <Marker id=243 center=(1114, 924)>\n",
      "Marker:  <Marker id=243 center=(1114, 924)>\n",
      "Goes before check.\n",
      "Goes inside marker check.\n",
      "Successful results.\n",
      "MARKER : 0 , 551.9208908081055 , 0 , 0 , 857.0141792297363 , 2.4819374084472656 , 859.4961166381836\n"
     ]
    },
    {
     "name": "stderr",
     "output_type": "stream",
     "text": [
      "150.229.118.204 - - [24/Jul/2018 12:57:10] \"POST / HTTP/1.1\" 200 -\n"
     ]
    },
    {
     "name": "stdout",
     "output_type": "stream",
     "text": [
      "Markers detected:  4\n",
      "Marker:  <Marker id=1 center=(1092, 1970)>\n",
      "Marker:  <Marker id=1 center=(1093, 1970)>\n",
      "Marker:  <Marker id=243 center=(1096, 917)>\n",
      "Marker:  <Marker id=243 center=(1096, 918)>\n",
      "Goes before check.\n",
      "Goes inside marker check.\n",
      "Successful results.\n",
      "MARKER : 0 , 542.7019596099854 , 0 , 0 , 987.9801273345947 , 2.6030540466308594 , 990.5831813812256\n"
     ]
    },
    {
     "name": "stderr",
     "output_type": "stream",
     "text": [
      "150.229.118.204 - - [24/Jul/2018 12:57:12] \"POST / HTTP/1.1\" 200 -\n"
     ]
    },
    {
     "name": "stdout",
     "output_type": "stream",
     "text": [
      "Markers detected:  4\n",
      "Marker:  <Marker id=1 center=(1047, 1952)>\n",
      "Marker:  <Marker id=1 center=(1047, 1952)>\n",
      "Marker:  <Marker id=243 center=(1056, 890)>\n",
      "Marker:  <Marker id=243 center=(1057, 890)>\n",
      "Goes before check.\n",
      "Goes inside marker check.\n",
      "Successful results.\n",
      "MARKER : 0 , 545.4680919647217 , 0 , 0 , 821.2888240814209 , 2.624988555908203 , 823.9138126373291\n"
     ]
    },
    {
     "name": "stderr",
     "output_type": "stream",
     "text": [
      "150.229.118.204 - - [24/Jul/2018 12:57:13] \"POST / HTTP/1.1\" 200 -\n"
     ]
    },
    {
     "name": "stdout",
     "output_type": "stream",
     "text": [
      "Markers detected:  4\n",
      "Marker:  <Marker id=1 center=(986, 1963)>\n",
      "Marker:  <Marker id=1 center=(987, 1963)>\n",
      "Marker:  <Marker id=243 center=(998, 888)>\n",
      "Marker:  <Marker id=243 center=(998, 888)>\n",
      "Goes before check.\n",
      "Goes inside marker check.\n",
      "Successful results.\n",
      "MARKER : 0 , 545.3941822052002 , 0 , 0 , 811.6409778594971 , 2.501249313354492 , 814.1422271728516\n"
     ]
    },
    {
     "name": "stderr",
     "output_type": "stream",
     "text": [
      "150.229.118.204 - - [24/Jul/2018 12:57:15] \"POST / HTTP/1.1\" 200 -\n"
     ]
    },
    {
     "name": "stdout",
     "output_type": "stream",
     "text": [
      "Markers detected:  4\n",
      "Marker:  <Marker id=1 center=(979, 1984)>\n",
      "Marker:  <Marker id=1 center=(979, 1984)>\n",
      "Marker:  <Marker id=243 center=(991, 909)>\n",
      "Marker:  <Marker id=243 center=(991, 909)>\n",
      "Goes before check.\n",
      "Goes inside marker check.\n",
      "Successful results.\n",
      "MARKER : 0 , 547.0080375671387 , 0 , 0 , 829.1671276092529 , 1.2350082397460938 , 830.402135848999\n"
     ]
    },
    {
     "name": "stderr",
     "output_type": "stream",
     "text": [
      "150.229.118.204 - - [24/Jul/2018 12:57:17] \"POST / HTTP/1.1\" 200 -\n"
     ]
    },
    {
     "name": "stdout",
     "output_type": "stream",
     "text": [
      "Markers detected:  4\n",
      "Marker:  <Marker id=1 center=(978, 2002)>\n",
      "Marker:  <Marker id=1 center=(978, 2002)>\n",
      "Marker:  <Marker id=243 center=(983, 928)>\n",
      "Marker:  <Marker id=243 center=(983, 928)>\n",
      "Goes before check.\n",
      "Goes inside marker check.\n",
      "Successful results.\n",
      "MARKER : 0 , 551.6340732574463 , 0 , 0 , 838.2759094238281 , 2.3179054260253906 , 840.5938148498535\n"
     ]
    },
    {
     "name": "stderr",
     "output_type": "stream",
     "text": [
      "150.229.118.204 - - [24/Jul/2018 12:57:18] \"POST / HTTP/1.1\" 200 -\n"
     ]
    },
    {
     "name": "stdout",
     "output_type": "stream",
     "text": [
      "Markers detected:  4\n",
      "Marker:  <Marker id=1 center=(980, 2035)>\n",
      "Marker:  <Marker id=1 center=(980, 2035)>\n",
      "Marker:  <Marker id=243 center=(980, 966)>\n",
      "Marker:  <Marker id=243 center=(980, 966)>\n",
      "Goes before check.\n",
      "Goes inside marker check.\n",
      "Successful results.\n",
      "MARKER : 0 , 556.168794631958 , 0 , 0 , 840.8446311950684 , 1.332998275756836 , 842.1776294708252\n"
     ]
    },
    {
     "name": "stderr",
     "output_type": "stream",
     "text": [
      "150.229.118.204 - - [24/Jul/2018 12:57:20] \"POST / HTTP/1.1\" 200 -\n"
     ]
    },
    {
     "name": "stdout",
     "output_type": "stream",
     "text": [
      "Markers detected:  4\n",
      "Marker:  <Marker id=1 center=(944, 2100)>\n",
      "Marker:  <Marker id=1 center=(943, 2101)>\n",
      "Marker:  <Marker id=243 center=(935, 1008)>\n",
      "Marker:  <Marker id=243 center=(934, 1008)>\n",
      "Goes before check.\n",
      "Goes inside marker check.\n",
      "Successful results.\n",
      "MARKER : 0 , 551.9769191741943 , 0 , 0 , 839.1828536987305 , 2.5131702423095703 , 841.69602394104\n"
     ]
    },
    {
     "name": "stderr",
     "output_type": "stream",
     "text": [
      "150.229.118.204 - - [24/Jul/2018 12:57:21] \"POST / HTTP/1.1\" 200 -\n"
     ]
    },
    {
     "name": "stdout",
     "output_type": "stream",
     "text": [
      "Markers detected:  2\n",
      "Marker:  <Marker id=243 center=(801, 1021)>\n",
      "Marker:  <Marker id=243 center=(801, 1021)>\n",
      "Goes before check.\n",
      "Goes inside marker check.\n",
      "Successful results.\n",
      "MARKER : 0 , 548.1617450714111 , 0 , 0 , 852.2810935974121 , 2.2809505462646484 , 854.5620441436768\n"
     ]
    },
    {
     "name": "stderr",
     "output_type": "stream",
     "text": [
      "150.229.118.204 - - [24/Jul/2018 12:57:23] \"POST / HTTP/1.1\" 200 -\n"
     ]
    },
    {
     "name": "stdout",
     "output_type": "stream",
     "text": [
      "Markers detected:  2\n",
      "Marker:  <Marker id=243 center=(782, 996)>\n",
      "Marker:  <Marker id=243 center=(782, 996)>\n",
      "Goes before check.\n",
      "Goes inside marker check.\n",
      "Successful results.\n",
      "MARKER : 0 , 538.1269454956055 , 0 , 0 , 808.786153793335 , 2.98309326171875 , 811.7692470550537\n"
     ]
    },
    {
     "name": "stderr",
     "output_type": "stream",
     "text": [
      "150.229.118.204 - - [24/Jul/2018 12:57:24] \"POST / HTTP/1.1\" 200 -\n"
     ]
    },
    {
     "name": "stdout",
     "output_type": "stream",
     "text": [
      "Markers detected:  0\n",
      "Goes before check.\n",
      "Successful results.\n",
      "MARKER : 0 , 536.7469787597656 , 0 , 0 , 830.4569721221924 , 2.0990371704101562 , 832.5560092926025\n"
     ]
    },
    {
     "name": "stderr",
     "output_type": "stream",
     "text": [
      "150.229.118.204 - - [24/Jul/2018 12:57:26] \"POST / HTTP/1.1\" 200 -\n"
     ]
    },
    {
     "name": "stdout",
     "output_type": "stream",
     "text": [
      "Markers detected:  0\n",
      "Goes before check.\n",
      "Successful results.\n",
      "MARKER : 0 , 541.2919521331787 , 0 , 0 , 938.5092258453369 , 2.3276805877685547 , 940.8369064331055\n"
     ]
    },
    {
     "name": "stderr",
     "output_type": "stream",
     "text": [
      "150.229.118.204 - - [24/Jul/2018 12:57:27] \"POST / HTTP/1.1\" 200 -\n"
     ]
    },
    {
     "name": "stdout",
     "output_type": "stream",
     "text": [
      "Markers detected:  0\n",
      "Goes before check.\n",
      "Successful results.\n",
      "MARKER : 0 , 533.8480472564697 , 0 , 0 , 934.8940849304199 , 2.125978469848633 , 937.0200634002686\n"
     ]
    },
    {
     "name": "stderr",
     "output_type": "stream",
     "text": [
      "150.229.118.204 - - [24/Jul/2018 12:57:29] \"POST / HTTP/1.1\" 200 -\n"
     ]
    },
    {
     "name": "stdout",
     "output_type": "stream",
     "text": [
      "Markers detected:  0\n",
      "Goes before check.\n",
      "Successful results.\n",
      "MARKER : 0 , 539.0830039978027 , 0 , 0 , 1198.484182357788 , 2.385854721069336 , 1200.8700370788574\n"
     ]
    },
    {
     "name": "stderr",
     "output_type": "stream",
     "text": [
      "150.229.118.204 - - [24/Jul/2018 12:57:32] \"POST / HTTP/1.1\" 200 -\n"
     ]
    },
    {
     "name": "stdout",
     "output_type": "stream",
     "text": [
      "Markers detected:  2\n",
      "Marker:  <Marker id=243 center=(821, 959)>\n",
      "Marker:  <Marker id=243 center=(822, 959)>\n",
      "Goes before check.\n",
      "Goes inside marker check.\n",
      "Successful results.\n",
      "MARKER : 0 , 537.1129512786865 , 0 , 0 , 941.7707920074463 , 2.3190975189208984 , 944.0898895263672\n"
     ]
    },
    {
     "name": "stderr",
     "output_type": "stream",
     "text": [
      "150.229.118.204 - - [24/Jul/2018 12:57:33] \"POST / HTTP/1.1\" 200 -\n"
     ]
    },
    {
     "name": "stdout",
     "output_type": "stream",
     "text": [
      "Markers detected:  0\n",
      "Goes before check.\n",
      "Successful results.\n",
      "MARKER : 0 , 545.8333492279053 , 0 , 0 , 945.5161094665527 , 1.8820762634277344 , 947.3981857299805\n"
     ]
    },
    {
     "name": "stderr",
     "output_type": "stream",
     "text": [
      "150.229.118.204 - - [24/Jul/2018 12:57:46] \"POST / HTTP/1.1\" 200 -\n"
     ]
    },
    {
     "name": "stdout",
     "output_type": "stream",
     "text": [
      "Markers detected:  4\n",
      "Marker:  <Marker id=1 center=(1060, 2079)>\n",
      "Marker:  <Marker id=1 center=(1060, 2079)>\n",
      "Marker:  <Marker id=243 center=(1044, 991)>\n",
      "Marker:  <Marker id=243 center=(1044, 991)>\n",
      "Goes before check.\n",
      "Goes inside marker check.\n",
      "Successful results.\n",
      "MARKER : 0 , 534.9760055541992 , 0 , 0 , 997.9531764984131 , 2.358675003051758 , 1000.3118515014648\n"
     ]
    },
    {
     "name": "stderr",
     "output_type": "stream",
     "text": [
      "150.229.118.204 - - [24/Jul/2018 12:57:48] \"POST / HTTP/1.1\" 200 -\n"
     ]
    },
    {
     "name": "stdout",
     "output_type": "stream",
     "text": [
      "Markers detected:  4\n",
      "Marker:  <Marker id=1 center=(1053, 2030)>\n",
      "Marker:  <Marker id=1 center=(1053, 2030)>\n",
      "Marker:  <Marker id=243 center=(1047, 951)>\n",
      "Marker:  <Marker id=243 center=(1047, 951)>\n",
      "Goes before check.\n",
      "Goes inside marker check.\n",
      "Successful results.\n",
      "MARKER : 0 , 572.1909999847412 , 0 , 0 , 1028.7151336669922 , 2.0608901977539062 , 1030.776023864746\n"
     ]
    },
    {
     "name": "stderr",
     "output_type": "stream",
     "text": [
      "150.229.118.204 - - [24/Jul/2018 12:57:49] \"POST / HTTP/1.1\" 200 -\n"
     ]
    },
    {
     "name": "stdout",
     "output_type": "stream",
     "text": [
      "Markers detected:  4\n",
      "Marker:  <Marker id=1 center=(1117, 2035)>\n",
      "Marker:  <Marker id=1 center=(1118, 2035)>\n",
      "Marker:  <Marker id=243 center=(1124, 955)>\n",
      "Marker:  <Marker id=243 center=(1124, 955)>\n",
      "Goes before check.\n",
      "Goes inside marker check.\n",
      "Successful results.\n",
      "MARKER : 0 , 563.8749599456787 , 0 , 0 , 886.7602348327637 , 2.513885498046875 , 889.2741203308105\n"
     ]
    },
    {
     "name": "stderr",
     "output_type": "stream",
     "text": [
      "150.229.118.204 - - [24/Jul/2018 12:57:51] \"POST / HTTP/1.1\" 200 -\n"
     ]
    },
    {
     "name": "stdout",
     "output_type": "stream",
     "text": [
      "Markers detected:  4\n",
      "Marker:  <Marker id=1 center=(1174, 1915)>\n",
      "Marker:  <Marker id=1 center=(1174, 1915)>\n",
      "Marker:  <Marker id=243 center=(1187, 854)>\n",
      "Marker:  <Marker id=243 center=(1187, 854)>\n",
      "Goes before check.\n",
      "Goes inside marker check.\n",
      "Successful results.\n",
      "MARKER : 0 , 556.2808513641357 , 0 , 0 , 853.8100719451904 , 2.750873565673828 , 856.5609455108643\n"
     ]
    },
    {
     "name": "stderr",
     "output_type": "stream",
     "text": [
      "150.229.118.204 - - [24/Jul/2018 12:57:53] \"POST / HTTP/1.1\" 200 -\n"
     ]
    },
    {
     "name": "stdout",
     "output_type": "stream",
     "text": [
      "Markers detected:  4\n",
      "Marker:  <Marker id=1 center=(1107, 2124)>\n",
      "Marker:  <Marker id=1 center=(1107, 2124)>\n",
      "Marker:  <Marker id=243 center=(1120, 1054)>\n",
      "Marker:  <Marker id=243 center=(1120, 1054)>\n",
      "Goes before check.\n",
      "Goes inside marker check.\n",
      "Successful results.\n",
      "MARKER : 0 , 548.9730834960938 , 0 , 0 , 942.8648948669434 , 2.4220943450927734 , 945.2869892120361\n"
     ]
    },
    {
     "name": "stderr",
     "output_type": "stream",
     "text": [
      "150.229.118.204 - - [24/Jul/2018 12:57:55] \"POST / HTTP/1.1\" 200 -\n"
     ]
    },
    {
     "name": "stdout",
     "output_type": "stream",
     "text": [
      "Markers detected:  4\n",
      "Marker:  <Marker id=1 center=(1113, 2128)>\n",
      "Marker:  <Marker id=1 center=(1113, 2128)>\n",
      "Marker:  <Marker id=243 center=(1124, 1052)>\n",
      "Marker:  <Marker id=243 center=(1124, 1052)>\n",
      "Goes before check.\n",
      "Goes inside marker check.\n",
      "Successful results.\n",
      "MARKER : 0 , 544.5911884307861 , 0 , 0 , 949.4709968566895 , 2.4230480194091797 , 951.8940448760986\n"
     ]
    },
    {
     "name": "stderr",
     "output_type": "stream",
     "text": [
      "150.229.118.204 - - [24/Jul/2018 12:57:57] \"POST / HTTP/1.1\" 200 -\n"
     ]
    },
    {
     "name": "stdout",
     "output_type": "stream",
     "text": [
      "Markers detected:  4\n",
      "Marker:  <Marker id=1 center=(1113, 2119)>\n",
      "Marker:  <Marker id=1 center=(1113, 2119)>\n",
      "Marker:  <Marker id=243 center=(1125, 1045)>\n",
      "Marker:  <Marker id=243 center=(1125, 1045)>\n",
      "Goes before check.\n",
      "Goes inside marker check.\n",
      "Successful results.\n",
      "MARKER : 0 , 551.9647598266602 , 0 , 0 , 850.3496646881104 , 2.5391578674316406 , 852.888822555542\n"
     ]
    },
    {
     "name": "stderr",
     "output_type": "stream",
     "text": [
      "150.229.118.204 - - [24/Jul/2018 12:57:59] \"POST / HTTP/1.1\" 200 -\n"
     ]
    },
    {
     "name": "stdout",
     "output_type": "stream",
     "text": [
      "Markers detected:  4\n",
      "Marker:  <Marker id=1 center=(1108, 2175)>\n",
      "Marker:  <Marker id=1 center=(1108, 2174)>\n",
      "Marker:  <Marker id=243 center=(1114, 1101)>\n",
      "Marker:  <Marker id=243 center=(1114, 1101)>\n",
      "Goes before check.\n",
      "Goes inside marker check.\n",
      "Successful results.\n",
      "MARKER : 0 , 548.231840133667 , 0 , 0 , 1031.3050746917725 , 2.599954605102539 , 1033.905029296875\n"
     ]
    },
    {
     "name": "stderr",
     "output_type": "stream",
     "text": [
      "150.229.118.204 - - [24/Jul/2018 12:58:01] \"POST / HTTP/1.1\" 200 -\n"
     ]
    },
    {
     "name": "stdout",
     "output_type": "stream",
     "text": [
      "Markers detected:  4\n",
      "Marker:  <Marker id=1 center=(1094, 2199)>\n",
      "Marker:  <Marker id=1 center=(1094, 2199)>\n",
      "Marker:  <Marker id=243 center=(1099, 1117)>\n",
      "Marker:  <Marker id=243 center=(1100, 1117)>\n",
      "Goes before check.\n",
      "Goes inside marker check.\n",
      "Successful results.\n",
      "MARKER : 0 , 556.9939613342285 , 0 , 0 , 1087.312936782837 , 2.7861595153808594 , 1090.0990962982178\n"
     ]
    },
    {
     "name": "stderr",
     "output_type": "stream",
     "text": [
      "150.229.118.204 - - [24/Jul/2018 12:58:03] \"POST / HTTP/1.1\" 200 -\n"
     ]
    },
    {
     "name": "stdout",
     "output_type": "stream",
     "text": [
      "Markers detected:  4\n",
      "Marker:  <Marker id=1 center=(1095, 2168)>\n",
      "Marker:  <Marker id=1 center=(1094, 2168)>\n",
      "Marker:  <Marker id=243 center=(1098, 1089)>\n",
      "Marker:  <Marker id=243 center=(1098, 1089)>\n",
      "Goes before check.\n",
      "Goes inside marker check.\n",
      "Successful results.\n",
      "MARKER : 0 , 567.2729015350342 , 0 , 0 , 848.0410575866699 , 2.485990524291992 , 850.5270481109619\n"
     ]
    },
    {
     "name": "stderr",
     "output_type": "stream",
     "text": [
      "150.229.118.204 - - [24/Jul/2018 12:58:05] \"POST / HTTP/1.1\" 200 -\n"
     ]
    },
    {
     "name": "stdout",
     "output_type": "stream",
     "text": [
      "Markers detected:  4\n",
      "Marker:  <Marker id=1 center=(1092, 2155)>\n",
      "Marker:  <Marker id=1 center=(1093, 2155)>\n",
      "Marker:  <Marker id=243 center=(1097, 1072)>\n",
      "Marker:  <Marker id=243 center=(1097, 1073)>\n",
      "Goes before check.\n",
      "Goes inside marker check.\n",
      "Successful results.\n",
      "MARKER : 0 , 10135.969161987305 , 0 , 0 , 10697.602033615112 , 2.0520687103271484 , 10699.65410232544\n"
     ]
    },
    {
     "name": "stderr",
     "output_type": "stream",
     "text": [
      "150.229.118.204 - - [24/Jul/2018 12:58:16] \"POST / HTTP/1.1\" 200 -\n"
     ]
    },
    {
     "name": "stdout",
     "output_type": "stream",
     "text": [
      "Markers detected:  4\n",
      "Marker:  <Marker id=1 center=(1082, 2000)>\n",
      "Marker:  <Marker id=1 center=(1082, 2000)>\n",
      "Marker:  <Marker id=243 center=(1056, 929)>\n",
      "Marker:  <Marker id=243 center=(1056, 929)>\n",
      "Goes before check.\n",
      "Goes inside marker check.\n",
      "Successful results.\n",
      "MARKER : 0 , 567.6426887512207 , 0 , 0 , 939.2015933990479 , 1.4231204986572266 , 940.6247138977051\n"
     ]
    },
    {
     "name": "stderr",
     "output_type": "stream",
     "text": [
      "150.229.118.204 - - [24/Jul/2018 12:58:19] \"POST / HTTP/1.1\" 200 -\n"
     ]
    },
    {
     "name": "stdout",
     "output_type": "stream",
     "text": [
      "Markers detected:  4\n",
      "Marker:  <Marker id=1 center=(1077, 2082)>\n",
      "Marker:  <Marker id=1 center=(1077, 2082)>\n",
      "Marker:  <Marker id=243 center=(1042, 1017)>\n",
      "Marker:  <Marker id=243 center=(1041, 1017)>\n",
      "Goes before check.\n",
      "Goes inside marker check.\n",
      "Successful results.\n",
      "MARKER : 0 , 621.5898990631104 , 0 , 0 , 943.0294036865234 , 2.0737648010253906 , 945.1031684875488\n"
     ]
    },
    {
     "name": "stderr",
     "output_type": "stream",
     "text": [
      "150.229.118.204 - - [24/Jul/2018 12:58:20] \"POST / HTTP/1.1\" 200 -\n"
     ]
    },
    {
     "name": "stdout",
     "output_type": "stream",
     "text": [
      "Markers detected:  4\n",
      "Marker:  <Marker id=1 center=(1094, 1993)>\n",
      "Marker:  <Marker id=1 center=(1094, 1993)>\n",
      "Marker:  <Marker id=243 center=(1060, 929)>\n",
      "Marker:  <Marker id=243 center=(1060, 929)>\n",
      "Goes before check.\n",
      "Goes inside marker check.\n",
      "Successful results.\n",
      "MARKER : 0 , 545.5427169799805 , 0 , 0 , 924.3981838226318 , 1.7879009246826172 , 926.1860847473145\n"
     ]
    },
    {
     "name": "stderr",
     "output_type": "stream",
     "text": [
      "150.229.118.204 - - [24/Jul/2018 12:58:22] \"POST / HTTP/1.1\" 200 -\n"
     ]
    },
    {
     "name": "stdout",
     "output_type": "stream",
     "text": [
      "Markers detected:  4\n",
      "Marker:  <Marker id=1 center=(1092, 2016)>\n",
      "Marker:  <Marker id=1 center=(1092, 2016)>\n",
      "Marker:  <Marker id=243 center=(1055, 949)>\n",
      "Marker:  <Marker id=243 center=(1055, 949)>\n",
      "Goes before check.\n",
      "Goes inside marker check.\n",
      "Successful results.\n",
      "MARKER : 0 , 619.2011833190918 , 0 , 0 , 933.6440563201904 , 1.7538070678710938 , 935.3978633880615\n"
     ]
    },
    {
     "name": "stderr",
     "output_type": "stream",
     "text": [
      "150.229.118.204 - - [24/Jul/2018 12:58:24] \"POST / HTTP/1.1\" 200 -\n"
     ]
    },
    {
     "name": "stdout",
     "output_type": "stream",
     "text": [
      "Markers detected:  4\n",
      "Marker:  <Marker id=1 center=(1094, 2051)>\n",
      "Marker:  <Marker id=1 center=(1094, 2051)>\n",
      "Marker:  <Marker id=243 center=(1053, 990)>\n",
      "Marker:  <Marker id=243 center=(1053, 989)>\n",
      "Goes before check.\n",
      "Goes inside marker check.\n",
      "Successful results.\n",
      "MARKER : 0 , 550.5380630493164 , 0 , 0 , 843.7240123748779 , 2.6712417602539062 , 846.3952541351318\n"
     ]
    },
    {
     "name": "stderr",
     "output_type": "stream",
     "text": [
      "150.229.118.204 - - [24/Jul/2018 12:58:26] \"POST / HTTP/1.1\" 200 -\n"
     ]
    },
    {
     "name": "stdout",
     "output_type": "stream",
     "text": [
      "Markers detected:  4\n",
      "Marker:  <Marker id=1 center=(1092, 2039)>\n",
      "Marker:  <Marker id=1 center=(1093, 2039)>\n",
      "Marker:  <Marker id=243 center=(1049, 976)>\n",
      "Marker:  <Marker id=243 center=(1049, 976)>\n",
      "Goes before check.\n",
      "Goes inside marker check.\n",
      "Successful results.\n",
      "MARKER : 0 , 549.5200157165527 , 0 , 0 , 827.9881477355957 , 2.6378631591796875 , 830.6260108947754\n"
     ]
    },
    {
     "name": "stderr",
     "output_type": "stream",
     "text": [
      "150.229.118.204 - - [24/Jul/2018 12:58:28] \"POST / HTTP/1.1\" 200 -\n"
     ]
    },
    {
     "name": "stdout",
     "output_type": "stream",
     "text": [
      "Markers detected:  4\n",
      "Marker:  <Marker id=1 center=(1079, 2054)>\n",
      "Marker:  <Marker id=1 center=(1079, 2054)>\n",
      "Marker:  <Marker id=243 center=(1029, 990)>\n",
      "Marker:  <Marker id=243 center=(1029, 990)>\n",
      "Goes before check.\n",
      "Goes inside marker check.\n",
      "Successful results.\n",
      "MARKER : 0 , 548.6750602722168 , 0 , 0 , 840.1470184326172 , 3.139019012451172 , 843.2860374450684\n"
     ]
    },
    {
     "name": "stderr",
     "output_type": "stream",
     "text": [
      "150.229.118.204 - - [24/Jul/2018 12:58:29] \"POST / HTTP/1.1\" 200 -\n"
     ]
    },
    {
     "name": "stdout",
     "output_type": "stream",
     "text": [
      "Markers detected:  4\n",
      "Marker:  <Marker id=1 center=(1082, 2053)>\n",
      "Marker:  <Marker id=1 center=(1082, 2053)>\n",
      "Marker:  <Marker id=243 center=(1030, 989)>\n",
      "Marker:  <Marker id=243 center=(1030, 990)>\n",
      "Goes before check.\n",
      "Goes inside marker check.\n",
      "Successful results.\n",
      "MARKER : 0 , 545.2439785003662 , 0 , 0 , 818.7172412872314 , 2.5627613067626953 , 821.2800025939941\n"
     ]
    },
    {
     "name": "stderr",
     "output_type": "stream",
     "text": [
      "150.229.118.204 - - [24/Jul/2018 12:58:31] \"POST / HTTP/1.1\" 200 -\n"
     ]
    }
   ],
   "source": [
    "# In[5]:\n",
    "\n",
    "run()"
   ]
  },
  {
   "cell_type": "code",
   "execution_count": null,
   "metadata": {
    "collapsed": true
   },
   "outputs": [],
   "source": []
  }
 ],
 "metadata": {
  "kernelspec": {
   "display_name": "Python 3",
   "language": "python",
   "name": "python3"
  },
  "language_info": {
   "codemirror_mode": {
    "name": "ipython",
    "version": 3
   },
   "file_extension": ".py",
   "mimetype": "text/x-python",
   "name": "python",
   "nbconvert_exporter": "python",
   "pygments_lexer": "ipython3",
   "version": "3.6.3"
  }
 },
 "nbformat": 4,
 "nbformat_minor": 2
}
