{
 "cells": [
  {
   "cell_type": "code",
   "execution_count": 1,
   "metadata": {
    "collapsed": true
   },
   "outputs": [],
   "source": [
    "# Created: 5-Jul-2018\n",
    "# This is a code version of the original MR but will receive detection\n",
    "# information so that we can separate the processing whether it is \n",
    "# OpenCV-based (i.e. SIFT, ORB, classical, etc.) or TF-based.\n"
   ]
  },
  {
   "cell_type": "code",
   "execution_count": 1,
   "metadata": {
    "collapsed": true
   },
   "outputs": [],
   "source": [
    "# coding: utf-8\n",
    "\n",
    "# In[1]:\n",
    "\n",
    "\n",
    "#!/usr/bin/env python\n",
    "\n",
    "import cv2\n",
    "import numpy as np\n",
    "import sys\n",
    "import time\n",
    "#import requests\n",
    "import math\n",
    "\n",
    "import os\n",
    "import six.moves.urllib as urllib\n",
    "import tensorflow as tf\n",
    "import zipfile\n",
    "import collections\n",
    "import warnings\n",
    "warnings.filterwarnings(\"ignore\")\n",
    "\n",
    "from xml.etree.ElementTree import Element, SubElement, Comment, tostring, ElementTree\n",
    "from http.server import BaseHTTPRequestHandler, HTTPServer\n",
    "from collections import defaultdict\n",
    "from io import StringIO, BytesIO\n",
    "from matplotlib import pyplot as plt\n",
    "from PIL import Image"
   ]
  },
  {
   "cell_type": "code",
   "execution_count": 2,
   "metadata": {
    "collapsed": true
   },
   "outputs": [],
   "source": [
    "# This is needed to add the tf-object detecton api modules\n",
    "sys.path.append(\"/Users/deg032/models/research\")\n",
    "from object_detection.utils import ops as utils_ops\n",
    "from object_detection.utils import label_map_util\n",
    "from object_detection.utils import visualization_utils as vis_util\n",
    "\n",
    "if tf.__version__ < '1.4.0':\n",
    "  raise ImportError('Please upgrade your tensorflow installation to v1.4.* or later!')"
   ]
  },
  {
   "cell_type": "code",
   "execution_count": 3,
   "metadata": {
    "collapsed": true
   },
   "outputs": [],
   "source": [
    "from ar_markers.hamming.detect import detect_markers"
   ]
  },
  {
   "cell_type": "code",
   "execution_count": 4,
   "metadata": {
    "collapsed": true,
    "scrolled": true
   },
   "outputs": [],
   "source": [
    "# Global parameters\n",
    "detection_mode = \"SIFT\" #default to SIFT\n",
    "\n",
    "# OpenCV parameters\n",
    "search_params = dict(checks = 20) # this is for the flann-based matcher\n",
    "largest = {4032, 3024}\n",
    "\n",
    "ref = \"res/unsw.png\"\n",
    "ref_img = cv2.imread(ref, 0)\n",
    "\n",
    "# SIFT parameters\n",
    "siftDetector = cv2.xfeatures2d.SIFT_create()\n",
    "FLANN_INDEX_KDTREE = 0\n",
    "index_params = dict(algorithm = FLANN_INDEX_KDTREE, tree = 5)\n",
    "siftMatcher = cv2.FlannBasedMatcher(index_params, search_params)\n",
    "rsKP, rsDES = siftDetector.detectAndCompute(ref_img, None)\n",
    "\n",
    "# ORB parameters\n",
    "orbDetector = cv2.ORB_create()\n",
    "#descriptor = cv2.xfeatures2d.SIFT_create()\n",
    "orbMatcher = cv2.BFMatcher(cv2.NORM_HAMMING, crossCheck=True) # for ORB keypoints\n",
    "roKP, roDES = orbDetector.detectAndCompute(ref_img,None)"
   ]
  },
  {
   "cell_type": "code",
   "execution_count": 5,
   "metadata": {
    "collapsed": true
   },
   "outputs": [],
   "source": [
    "# Main tasks\n",
    "\n",
    "# What model to use.\n",
    "MODEL_NAME = 'ssd_mobilenet_v1_coco_2017_11_17'\n",
    "#MODEL_FILE = MODEL_NAME + '.tar.gz'\n",
    "OBJ_API_BASE = '/Users/deg032/models/research/object_detection/'\n",
    "\n",
    "# Path to frozen detection graph. This is the actual model that is used for the object detection.\n",
    "PATH_TO_CKPT = MODEL_NAME + '/frozen_inference_graph.pb'\n",
    "\n",
    "# List of the strings that is used to add correct label for each box.\n",
    "PATH_TO_LABELS = os.path.join('data', 'mscoco_label_map.pbtxt')\n",
    "\n",
    "NUM_CLASSES = 90"
   ]
  },
  {
   "cell_type": "code",
   "execution_count": 6,
   "metadata": {
    "collapsed": true
   },
   "outputs": [],
   "source": [
    "detection_graph = tf.Graph()\n",
    "with detection_graph.as_default():\n",
    "  od_graph_def = tf.GraphDef()\n",
    "  with tf.gfile.GFile(OBJ_API_BASE + PATH_TO_CKPT, 'rb') as fid:\n",
    "    serialized_graph = fid.read()\n",
    "    od_graph_def.ParseFromString(serialized_graph)\n",
    "    tf.import_graph_def(od_graph_def, name='')\n",
    "    \n",
    "label_map = label_map_util.load_labelmap(OBJ_API_BASE + PATH_TO_LABELS)\n",
    "categories = label_map_util.convert_label_map_to_categories(label_map, max_num_classes=NUM_CLASSES, use_display_name=True)\n",
    "category_index = label_map_util.create_category_index(categories)"
   ]
  },
  {
   "cell_type": "code",
   "execution_count": 7,
   "metadata": {
    "collapsed": true
   },
   "outputs": [],
   "source": [
    "def get_object_locations(\n",
    "    boxes,\n",
    "    classes,\n",
    "    scores,\n",
    "    category_index,\n",
    "    instance_masks=None,\n",
    "    instance_boundaries=None,\n",
    "    keypoints=None,\n",
    "    use_normalized_coordinates=False,\n",
    "    max_boxes_to_draw=20,\n",
    "    min_score_thresh=.5,\n",
    "    agnostic_mode=False,\n",
    "    line_thickness=4,\n",
    "    groundtruth_box_visualization_color='black',\n",
    "    skip_scores=False,\n",
    "    skip_labels=False):\n",
    "  \"\"\"This is an adaptation of the function from the visualization_utils\n",
    "  named 'visualize_boxes_and_labels_on_image_array' but does not embed the\n",
    "  masks to the image directly but just extract the relative position of\n",
    "  objects within the view. This is to prevent sharing raw visual informa-\n",
    "  tion to intended third parties interested to know the detected objects.\n",
    "  \n",
    "  Overlay labeled boxes on an image with formatted scores and label names.\n",
    "\n",
    "  This function groups boxes that correspond to the same location\n",
    "  and creates a display string for each detection and overlays these\n",
    "  on the image. Note that this function modifies the image in place, and returns\n",
    "  that same image.\n",
    "\n",
    "  Args:\n",
    "    image: uint8 numpy array with shape (img_height, img_width, 3)\n",
    "    boxes: a numpy array of shape [N, 4]\n",
    "    classes: a numpy array of shape [N]. Note that class indices are 1-based,\n",
    "      and match the keys in the label map.\n",
    "    scores: a numpy array of shape [N] or None.  If scores=None, then\n",
    "      this function assumes that the boxes to be plotted are groundtruth\n",
    "      boxes and plot all boxes as black with no classes or scores.\n",
    "    category_index: a dict containing category dictionaries (each holding\n",
    "      category index `id` and category name `name`) keyed by category indices.\n",
    "    instance_masks: a numpy array of shape [N, image_height, image_width] with\n",
    "      values ranging between 0 and 1, can be None.\n",
    "    instance_boundaries: a numpy array of shape [N, image_height, image_width]\n",
    "      with values ranging between 0 and 1, can be None.\n",
    "    keypoints: a numpy array of shape [N, num_keypoints, 2], can\n",
    "      be None\n",
    "    use_normalized_coordinates: whether boxes is to be interpreted as\n",
    "      normalized coordinates or not.\n",
    "    max_boxes_to_draw: maximum number of boxes to visualize.  If None, draw\n",
    "      all boxes.\n",
    "    min_score_thresh: minimum score threshold for a box to be visualized\n",
    "    agnostic_mode: boolean (default: False) controlling whether to evaluate in\n",
    "      class-agnostic mode or not.  This mode will display scores but ignore\n",
    "      classes.\n",
    "    line_thickness: integer (default: 4) controlling line width of the boxes.\n",
    "    groundtruth_box_visualization_color: box color for visualizing groundtruth\n",
    "      boxes\n",
    "    skip_scores: whether to skip score when drawing a single detection\n",
    "    skip_labels: whether to skip label when drawing a single detection\n",
    "\n",
    "  Returns:\n",
    "    uint8 numpy array with shape (img_height, img_width, 3) with overlaid boxes.\n",
    "  \"\"\"\n",
    "  # Create a display string (and color) for every box location, group any boxes\n",
    "  # that correspond to the same location.\n",
    "  box_to_display_str_map = collections.defaultdict(list)\n",
    "  box_to_color_map = collections.defaultdict(str)\n",
    "  box_to_instance_masks_map = {}\n",
    "  box_to_instance_boundaries_map = {}\n",
    "  box_to_keypoints_map = collections.defaultdict(list)\n",
    "  if not max_boxes_to_draw:\n",
    "    max_boxes_to_draw = boxes.shape[0]\n",
    "  for i in range(min(max_boxes_to_draw, boxes.shape[0])):\n",
    "    if scores is None or scores[i] > min_score_thresh:\n",
    "      box = tuple(boxes[i].tolist())\n",
    "      if instance_masks is not None:\n",
    "        box_to_instance_masks_map[box] = instance_masks[i]\n",
    "      if instance_boundaries is not None:\n",
    "        box_to_instance_boundaries_map[box] = instance_boundaries[i]\n",
    "      if keypoints is not None:\n",
    "        box_to_keypoints_map[box].extend(keypoints[i])\n",
    "      if scores is None:\n",
    "        box_to_color_map[box] = groundtruth_box_visualization_color\n",
    "      else:\n",
    "        display_str = ''\n",
    "        if not skip_labels:\n",
    "          if not agnostic_mode:\n",
    "            if classes[i] in category_index.keys():\n",
    "              class_name = category_index[classes[i]]['name']\n",
    "            else:\n",
    "              class_name = 'N/A'\n",
    "            display_str = str(class_name)\n",
    "        if not skip_scores:\n",
    "          if not display_str:\n",
    "            display_str = '{}%'.format(int(100*scores[i]))\n",
    "          else:\n",
    "            display_str = '{}: {}%'.format(display_str, int(100*scores[i]))\n",
    "        box_to_display_str_map[box].append(display_str)\n",
    "  return box_to_display_str_map"
   ]
  },
  {
   "cell_type": "code",
   "execution_count": 8,
   "metadata": {
    "collapsed": true
   },
   "outputs": [],
   "source": [
    "def load_image_into_numpy_array(image):\n",
    "  (im_width, im_height) = image.size\n",
    "  return np.array(image.getdata()).reshape(\n",
    "      (im_height, im_width, 3)).astype(np.uint8)"
   ]
  },
  {
   "cell_type": "code",
   "execution_count": 9,
   "metadata": {
    "collapsed": true
   },
   "outputs": [],
   "source": [
    "def run_inference_for_single_image(image, graph):\n",
    "  with graph.as_default():\n",
    "    with tf.Session() as sess:\n",
    "      # Get handles to input and output tensors\n",
    "      ops = tf.get_default_graph().get_operations()\n",
    "      all_tensor_names = {output.name for op in ops for output in op.outputs}\n",
    "      tensor_dict = {}\n",
    "      for key in [\n",
    "          'num_detections', 'detection_boxes', 'detection_scores',\n",
    "          'detection_classes', 'detection_masks'\n",
    "      ]:\n",
    "        tensor_name = key + ':0'\n",
    "        if tensor_name in all_tensor_names:\n",
    "          tensor_dict[key] = tf.get_default_graph().get_tensor_by_name(\n",
    "              tensor_name)\n",
    "      if 'detection_masks' in tensor_dict:\n",
    "        # The following processing is only for single image\n",
    "        detection_boxes = tf.squeeze(tensor_dict['detection_boxes'], [0])\n",
    "        detection_masks = tf.squeeze(tensor_dict['detection_masks'], [0])\n",
    "        # Reframe is required to translate mask from box coordinates to image coordinates and fit the image size.\n",
    "        real_num_detection = tf.cast(tensor_dict['num_detections'][0], tf.int32)\n",
    "        detection_boxes = tf.slice(detection_boxes, [0, 0], [real_num_detection, -1])\n",
    "        detection_masks = tf.slice(detection_masks, [0, 0, 0], [real_num_detection, -1, -1])\n",
    "        detection_masks_reframed = utils_ops.reframe_box_masks_to_image_masks(\n",
    "            detection_masks, detection_boxes, image.shape[0], image.shape[1])\n",
    "        detection_masks_reframed = tf.cast(\n",
    "            tf.greater(detection_masks_reframed, 0.5), tf.uint8)\n",
    "        # Follow the convention by adding back the batch dimension\n",
    "        tensor_dict['detection_masks'] = tf.expand_dims(\n",
    "            detection_masks_reframed, 0)\n",
    "      image_tensor = tf.get_default_graph().get_tensor_by_name('image_tensor:0')\n",
    "\n",
    "      # Run inference\n",
    "      output_dict = sess.run(tensor_dict,\n",
    "                             feed_dict={image_tensor: np.expand_dims(image, 0)})\n",
    "\n",
    "      # all outputs are float32 numpy arrays, so convert types as appropriate\n",
    "      output_dict['num_detections'] = int(output_dict['num_detections'][0])\n",
    "      output_dict['detection_classes'] = output_dict[\n",
    "          'detection_classes'][0].astype(np.uint8)\n",
    "      output_dict['detection_boxes'] = output_dict['detection_boxes'][0]\n",
    "      output_dict['detection_scores'] = output_dict['detection_scores'][0]\n",
    "      if 'detection_masks' in output_dict:\n",
    "        output_dict['detection_masks'] = output_dict['detection_masks'][0]\n",
    "  return output_dict"
   ]
  },
  {
   "cell_type": "code",
   "execution_count": 10,
   "metadata": {
    "collapsed": true
   },
   "outputs": [],
   "source": [
    "def tf_process_img(payload):\n",
    "\n",
    "    # the array based representation of the image will be used later in order to prepare the\n",
    "    # result image with boxes and labels on it.\n",
    "    t0 = time.time()\n",
    "    \n",
    "    image = Image.open(BytesIO(payload))\n",
    "    image_np = load_image_into_numpy_array(image)\n",
    "    \n",
    "    #image_np = np.array(payload)\n",
    "    #image_np_expanded = np.expand_dims(image_np, axis=0)\n",
    "    \n",
    "    # Actual detection.\n",
    "    t0_5 = time.time()\n",
    "    output_dict = run_inference_for_single_image(image_np, detection_graph)\n",
    "    # Visualization of the results of a detection.\n",
    "    results = get_object_locations(\n",
    "        output_dict['detection_boxes'],\n",
    "        output_dict['detection_classes'],\n",
    "        output_dict['detection_scores'],\n",
    "        category_index,\n",
    "        instance_masks=output_dict.get('detection_masks'),\n",
    "        min_score_thresh = .6,\n",
    "        use_normalized_coordinates=True,\n",
    "        line_thickness=8)\n",
    "\n",
    "    t1 = time.time()\n",
    "    \n",
    "    tf_detect = t0_5 - t0\n",
    "    tf_io = t1-t0\n",
    "    #print(\"Time to TF detect:\", t0_5-t0, \", overall time to TF detect\", t1-t0)\n",
    "\n",
    "    return results, tf_detect, tf_io"
   ]
  },
  {
   "cell_type": "code",
   "execution_count": 4,
   "metadata": {
    "collapsed": true
   },
   "outputs": [],
   "source": [
    "def marker_process(payload):\n",
    "    \n",
    "    t0 = time.time()\n",
    "    nparr = np.fromstring(payload, np.uint8)\n",
    "    image = cv2.imdecode(nparr, cv2.IMREAD_COLOR)\n",
    "    \n",
    "    markers = detect_markers(image)\n",
    "    \n",
    "    t1 = time.time() - t0\n",
    "    return markers, t1"
   ]
  },
  {
   "cell_type": "code",
   "execution_count": 11,
   "metadata": {
    "collapsed": true
   },
   "outputs": [],
   "source": [
    "# In[2]:\n",
    "\n",
    "def cv_process_img(payload):\n",
    "    \n",
    "    nparr = np.fromstring(payload, np.uint8)\n",
    "    image = cv2.imdecode(nparr, cv2.IMREAD_COLOR)\n",
    "            \n",
    "    result = []    \n",
    "    MIN_MATCH_COUNT = math.ceil(30/(max(largest)/max(image.shape)))*10 # very relaxed matching at 10 matches minimum\n",
    "    #print(\"MIN_MATCH_COUNT:\", MIN_MATCH_COUNT)\n",
    "    #print(\"Image size:\",image.shape)\n",
    "    query_img = image\n",
    "    \n",
    "    t0 = time.time()\n",
    "\n",
    "    if \"ORB\" in detection_mode:\n",
    "        \n",
    "        rKP, rDES = roKP, roDES\n",
    "        qKP, qDES = orbDetector.detectAndCompute(query_img, None)\n",
    "        \n",
    "        try:\n",
    "            good = orbMatcher.match(rDES,qDESA)\n",
    "        except:\n",
    "            state = \"Matching Error: not enough query points.\"\n",
    "            result.append(state)\n",
    "            result.append(query_img)\n",
    "            result.append(np.array([]))\n",
    "            t1 = time.time()\n",
    "            cv_time = t1-t0 #print(state,\"Time to process:\", t1-t0)\n",
    "            result.append((t1-t0))\n",
    "            return result \n",
    "        \n",
    "    else:\n",
    "        # Default to SIFT if non-TF\n",
    "        \n",
    "        rKP, rDES = rsKP, rsDES\n",
    "        qKP, qDES = siftDetector.detectAndCompute(query_img, None)\n",
    "        \n",
    "        try:\n",
    "            matches = siftMatcher.knnMatch(rDES,qDES,k=2)\n",
    "        except:\n",
    "            state = \"Matching Error: not enough query points.\"\n",
    "            result.append(state)\n",
    "            result.append(query_img)\n",
    "            result.append(np.array([]))\n",
    "            t1 = time.time()\n",
    "            cv_time = t1-t0 #print(state,\"Time to process:\", t1-t0)\n",
    "            result.append((t1-t0))\n",
    "            return result    \n",
    "\n",
    "        # store all the good matches as per Lowe's ratio test.\n",
    "        good = []\n",
    "        distances = []\n",
    "\n",
    "        for m,n in matches:\n",
    "            distances.append(m.distance)\n",
    "            if m.distance < 0.75*n.distance:\n",
    "                good.append(m)\n",
    "                \n",
    "    good = sorted(good, key = lambda x:x.distance)\n",
    "\n",
    "    if len(good)>MIN_MATCH_COUNT:\n",
    "        state = \"Enough matches: object is propbably in view.\"\n",
    "        # extract location of points in both images\n",
    "        src_pts = np.float32([ rKP[m.queryIdx].pt for m in good ]).reshape(-1,1,2)\n",
    "        dst_pts = np.float32([ qKP[m.trainIdx].pt for m in good ]).reshape(-1,1,2)\n",
    "\n",
    "        # find the perspective transform\n",
    "        M, mask = cv2.findHomography(src_pts, dst_pts, cv2.RANSAC,5.0)\n",
    "        matchesMask = mask.ravel().tolist()\n",
    "\n",
    "        # get the transform points in the (captured) query image\n",
    "        h,w = ref_img.shape\n",
    "        pts = np.float32([ [0,0],[0,h-1],[w-1,h-1],[w-1,0] ]).reshape(-1,1,2)\n",
    "\n",
    "        try:\n",
    "            dst = cv2.perspectiveTransform(pts,M)\n",
    "            # draw the transformed image\n",
    "            result.append(state)\n",
    "            result.append(cv2.drawContours(query_img,[np.int32(dst)],-1,(255,0,0),6))\n",
    "            result.append(dst)\n",
    "        except:\n",
    "            state = \"Error getting perspective transform.\"\n",
    "            result.append(state)\n",
    "            result.append(query_img)\n",
    "            result.append(np.array([]))\n",
    "        finally:\n",
    "            t1 = time.time()\n",
    "            cv_time = t1-t0 #print(state,\"Time to CV process:\", t1-t0)\n",
    "            result.append((t1-t0))\n",
    "\n",
    "    else:\n",
    "        state = \"Not enough matches:\"+ str(len(good))\n",
    "        result.append(state)\n",
    "        result.append(query_img)\n",
    "        result.append(np.array([]))\n",
    "        t1 = time.time()\n",
    "        cv_time = t1-t0 #print(state,\"Time to CV process:\", t1-t0)\n",
    "        result.append((t1-t0))\n",
    "\n",
    "    return result, cv_time"
   ]
  },
  {
   "cell_type": "code",
   "execution_count": 12,
   "metadata": {
    "collapsed": true
   },
   "outputs": [],
   "source": [
    "def resultsToTree(tf_result, cv_result, marker_result):\n",
    "    mr_objects = Element(\"mr_objects\")\n",
    "\n",
    "    if tf_result:\n",
    "        # Adding the results from the TF operation to the XmlTree\n",
    "        #print(len(tf_result),\"TF object/s\")\n",
    "        for box, name in tf_result.items():\n",
    "            ymin, xmin, ymax, xmax = box\n",
    "            object = SubElement(mr_objects,\"object\")\n",
    "            SubElement(object, \"type\").text = \"TF\"\n",
    "            SubElement(object, \"name\").text = str(name)\n",
    "            SubElement(object, \"ymin\").text = str(ymin)\n",
    "            SubElement(object, \"xmin\").text = str(xmin)\n",
    "            SubElement(object, \"ymax\").text = str(ymax)\n",
    "            SubElement(object, \"xmax\").text = str(xmax)\n",
    "  \n",
    "    if cv_result:\n",
    "        cv_result_list = []\n",
    "        for point in cv_result:\n",
    "            cv_result_list.append(point[0])\n",
    "        cv_exes = sorted(cv_result_list, key=lambda x: x[0])\n",
    "        cv_eyes = sorted(cv_result_list, key=lambda x: x[1])\n",
    "        # Adding the cv_results from the CV detection to the XmlTree\n",
    "        object = SubElement(mr_objects,\"object\")\n",
    "        SubElement(object, \"type\").text = \"CV\"\n",
    "        SubElement(object, \"name\").text = \"cv\"\n",
    "        SubElement(object, \"ymin\").text = str(cv_result_list[0][1]/300)\n",
    "        SubElement(object, \"xmin\").text = str(cv_result_list[0][0]/300)\n",
    "        SubElement(object, \"ymax\").text = str(cv_result_list[3][1]/300)\n",
    "        SubElement(object, \"xmax\").text = str(cv_result_list[3][0]/300)\n",
    "        \n",
    "    if marker_result:\n",
    "        for marker in marker_result:\n",
    "            object = SubElement(mr_objects,\"object\")\n",
    "            SubElement(object, \"type\").text = \"MARKER\"\n",
    "            SubElement(object, \"name\").text = str(marker.id)\n",
    "            marker_exes = sorted(marker.contours, key=lambda x: x[0])\n",
    "            marker_eyes = sorted(marker.contours, key=lambda x: x[1])\n",
    "\n",
    "\n",
    "            \n",
    "\n",
    "    tree = ElementTree(mr_objects)\n",
    "    \n",
    "    return tree"
   ]
  },
  {
   "cell_type": "code",
   "execution_count": 13,
   "metadata": {
    "collapsed": true
   },
   "outputs": [],
   "source": [
    "# In[3]:\n",
    "\n",
    "# HTTPRequestHandler class\n",
    "class testHTTPServer_RequestHandler(BaseHTTPRequestHandler):\n",
    "\n",
    "  # GET\n",
    "    def do_GET(self):\n",
    "        # Send response status code\n",
    "        self.send_response(200)\n",
    "\n",
    "        # Send headers\n",
    "        self.send_header('Content-type','text/html')\n",
    "        self.end_headers()\n",
    "\n",
    "        # Send message back to client\n",
    "        message = \"Hello world!\"\n",
    "        # Write content as utf-8 data\n",
    "        self.wfile.write(bytes(message, \"utf8\"))\n",
    "        return\n",
    "    \n",
    "    \n",
    "    def do_POST(self):\n",
    "        #print( \"incoming http: \", self.path )\n",
    "        t0 = time.time()\n",
    "        tf_detect = 0\n",
    "        tf_io = 0\n",
    "        cv_time = 0\n",
    "\n",
    "        # Gets the parameters of the data\n",
    "        detection_mode = self.headers['Detection-mode']\n",
    "        content_length = int(self.headers['Content-Length'])\n",
    "        content_type = self.headers['Content-type']\n",
    "                \n",
    "        if \"image\" in content_type:\n",
    "            \n",
    "            # Gets the data itself. Also, we over-catch by 16 bytes.\n",
    "            post_data = self.rfile.read(content_length+16)\n",
    "\n",
    "            #print(\"Length of content:\", len(post_data))\n",
    "            #print(\"Before pruning\\n\", post_data)\n",
    "\n",
    "            # We remove the first set of bytes up until the first\n",
    "            # carraige return and newline.\n",
    "            for b in np.arange(len(post_data)):\n",
    "               # Checking where the first newline is\n",
    "                if post_data[b] == 13:\n",
    "                    post_data = post_data[b+2:]\n",
    "                    break\n",
    "                else:\n",
    "                    continue\n",
    "\n",
    "            #stream = BytesIO(post_data)\n",
    "            #tmp = 'tmp.jpg'\n",
    "            #with open('tmp.jpg','wb') as out:\n",
    "            #    out.write(post_data)\n",
    "\n",
    "            #out.close()\n",
    "            # Converting the byte buffer to an numpy array for opencv and tf\n",
    "            #nparr = np.fromstring(post_data, np.uint8)\n",
    "            #img_np = cv2.imdecode(nparr, cv2.IMREAD_COLOR)\n",
    "            marker_result = []\n",
    "            market_time = 0\n",
    "            cv_result = []\n",
    "            cv_time = 0\n",
    "            tf_result = []\n",
    "            tf_detect = 0\n",
    "            tf_io = 0\n",
    "            try:\n",
    "                if \"TF\" in detection_mode:\n",
    "                    tf_result, tf_detect, tf_io = tf_process_img(post_data)#post_data)#\n",
    "                else if \"MARKER\" in detection_mode:\n",
    "                    marker_result, marker_time = marker_process(post_data)\n",
    "                else:\n",
    "                    cv_result, cv_time = cv_process_img(post_data)\n",
    "                #cv_result, cv_time = cv_process_img(post_data)\n",
    "                #tf_result, tf_detect, tf_io = tf_process_img(post_data)#post_data)#\n",
    "\n",
    "                t1 = time.time()\n",
    "                resultTree = resultsToTree(tf_result,cv_result[2].tolist(),marker_result)\n",
    "                resultTree.write(\"result.xml\")\n",
    "\n",
    "                # Send message back to client\n",
    "                # Write content as utf-8 data\n",
    "                #print(len(final_img))\n",
    "                #if len(final_img)>3:\n",
    "                #    message = bytes(str(cv_result[3])+ \"\\n\" + np.array2string(final_img[2],precision=0,separator=','), \"utf8\")\n",
    "                #    print(str(message))\n",
    "                #else:\n",
    "                #    message = bytes(str(cv_result[3])+ \"\\n\" + cv_result[0], \"utf8\")\n",
    "\n",
    "                t2 = time.time()\n",
    "                result = 'result.xml'\n",
    "                payload = open(result,'rb')\n",
    "\n",
    "                # Send response\n",
    "                self.send_response(200)\n",
    "                # Send headers\n",
    "                self.send_header('Content-type','text/xml')\n",
    "                self.send_header('Content-length',str(os.path.getsize(result)))\n",
    "                self.end_headers()\n",
    "\n",
    "                self.wfile.write(payload.readline())\n",
    "                #self.wfile.write(bytes(payload, \"utf8\"))\n",
    "                payload.close()\n",
    "            except Exception as e:\n",
    "                t1 = time.time()\n",
    "                #print(e)\n",
    "                t2 = time.time()\n",
    "                self.send_response(200)\n",
    "                message = 'Detection Error'\n",
    "                self.send_header('Content-type','text/html')\n",
    "                self.end_headers()\n",
    "                self.wfile.write(bytes(message, \"utf8\"))\n",
    "            finally:\n",
    "                t3 = time.time()                \n",
    "                print(detection_mode,\":\",(cv_time*1000), \",\",(marker_time*1000), \",\", (tf_detect*1000),\",\",(tf_io*1000),\",\", (t1-t0)*1000,\",\",(t3-t1)*1000,\",\",(t3-t0)*1000)\n",
    "                #print(\"XML/Tree operation:\",t2-t1)\n",
    "                #print(\"Sending output\", t3-t2)\n",
    "                #print(\"Overall time:\",t3-t0)            \n",
    "\n",
    "        else:\n",
    "            print(\"Content-type is \", content_type,\". Should be image.\")\n",
    "            self.send_response(200)\n",
    "            self.send_header('Content-type','text/html')\n",
    "            self.end_headers()\n",
    "\n",
    "            # Send message back to client\n",
    "            message = \"Object not detected.\"\n",
    "            # Write content as utf-8 data\n",
    "            self.wfile.write(bytes(message, \"utf8\"))\n",
    "\n",
    "        self.close_connection\n",
    "        return\n",
    "        #client.close()"
   ]
  },
  {
   "cell_type": "code",
   "execution_count": 14,
   "metadata": {
    "collapsed": true
   },
   "outputs": [],
   "source": [
    "# In[4]:\n",
    "\n",
    "def run():\n",
    "    print('starting server...')\n",
    " \n",
    "  # Server settings\n",
    "  # Choose port 8080, for port 80, which is normally used for a http server, you need root access\n",
    "    server_address = ('0.0.0.0', 8081)\n",
    "    httpd = HTTPServer(server_address, testHTTPServer_RequestHandler)\n",
    "    print('running server...')\n",
    "    print(\"CV_Time, Marker_Time, TF_Detect, TF_IO, Overall_Detection, XML_Output, Overall (ms)\")\n",
    "    httpd.serve_forever()"
   ]
  },
  {
   "cell_type": "code",
   "execution_count": 15,
   "metadata": {
    "scrolled": true
   },
   "outputs": [
    {
     "name": "stdout",
     "output_type": "stream",
     "text": [
      "starting server...\n",
      "running server...\n",
      "CV_Time, TF_Detect, TF_IO, Overall_Detection, XML_Output, Overall (ms)\n"
     ]
    },
    {
     "name": "stderr",
     "output_type": "stream",
     "text": [
      "150.229.118.214 - - [10/Jul/2018 15:31:32] \"POST / HTTP/1.1\" 200 -\n"
     ]
    },
    {
     "name": "stdout",
     "output_type": "stream",
     "text": [
      "TF : 0 , 95.42727470397949 , 2140.791177749634 , 2150.485038757324 , 0.33402442932128906 , 2150.8190631866455\n"
     ]
    },
    {
     "name": "stderr",
     "output_type": "stream",
     "text": [
      "150.229.118.214 - - [10/Jul/2018 15:31:34] \"POST / HTTP/1.1\" 200 -\n"
     ]
    },
    {
     "name": "stdout",
     "output_type": "stream",
     "text": [
      "TF : 0 , 42.94610023498535 , 1918.9081192016602 , 1925.584077835083 , 0.30493736267089844 , 1925.889015197754\n"
     ]
    },
    {
     "name": "stderr",
     "output_type": "stream",
     "text": [
      "150.229.118.214 - - [10/Jul/2018 15:31:36] \"POST / HTTP/1.1\" 200 -\n"
     ]
    },
    {
     "name": "stdout",
     "output_type": "stream",
     "text": [
      "TF : 0 , 42.44709014892578 , 1938.4491443634033 , 1947.0200538635254 , 0.2040863037109375 , 1947.2241401672363\n"
     ]
    },
    {
     "name": "stderr",
     "output_type": "stream",
     "text": [
      "150.229.118.214 - - [10/Jul/2018 15:31:39] \"POST / HTTP/1.1\" 200 -\n"
     ]
    },
    {
     "name": "stdout",
     "output_type": "stream",
     "text": [
      "TF : 0 , 45.603275299072266 , 1882.4419975280762 , 1889.3775939941406 , 0.2810955047607422 , 1889.6586894989014\n"
     ]
    },
    {
     "name": "stderr",
     "output_type": "stream",
     "text": [
      "150.229.118.214 - - [10/Jul/2018 15:31:40] \"POST / HTTP/1.1\" 200 -\n"
     ]
    },
    {
     "name": "stdout",
     "output_type": "stream",
     "text": [
      "TF : 0 , 42.37794876098633 , 1858.6540222167969 , 1864.572286605835 , 0.22459030151367188 , 1864.7968769073486\n"
     ]
    },
    {
     "name": "stderr",
     "output_type": "stream",
     "text": [
      "150.229.118.214 - - [10/Jul/2018 15:31:43] \"POST / HTTP/1.1\" 200 -\n"
     ]
    },
    {
     "name": "stdout",
     "output_type": "stream",
     "text": [
      "TF : 0 , 40.51995277404785 , 1968.4569835662842 , 1977.3309230804443 , 0.20503997802734375 , 1977.5359630584717\n"
     ]
    },
    {
     "name": "stderr",
     "output_type": "stream",
     "text": [
      "150.229.118.214 - - [10/Jul/2018 15:31:44] \"POST / HTTP/1.1\" 200 -\n"
     ]
    },
    {
     "name": "stdout",
     "output_type": "stream",
     "text": [
      "TF : 0 , 41.54014587402344 , 1758.4540843963623 , 1778.5258293151855 , 0.3311634063720703 , 1778.8569927215576\n"
     ]
    },
    {
     "name": "stderr",
     "output_type": "stream",
     "text": [
      "150.229.118.214 - - [10/Jul/2018 15:31:46] \"POST / HTTP/1.1\" 200 -\n"
     ]
    },
    {
     "name": "stdout",
     "output_type": "stream",
     "text": [
      "TF : 0 , 42.41204261779785 , 1776.8380641937256 , 1788.794755935669 , 0.2181529998779297 , 1789.0129089355469\n"
     ]
    },
    {
     "name": "stderr",
     "output_type": "stream",
     "text": [
      "150.229.118.214 - - [10/Jul/2018 15:31:48] \"POST / HTTP/1.1\" 200 -\n"
     ]
    },
    {
     "name": "stdout",
     "output_type": "stream",
     "text": [
      "TF : 0 , 45.13907432556152 , 1780.5020809173584 , 1792.720079421997 , 0.2269744873046875 , 1792.9470539093018\n"
     ]
    },
    {
     "name": "stderr",
     "output_type": "stream",
     "text": [
      "150.229.118.214 - - [10/Jul/2018 15:31:50] \"POST / HTTP/1.1\" 200 -\n"
     ]
    },
    {
     "name": "stdout",
     "output_type": "stream",
     "text": [
      "TF : 0 , 42.942047119140625 , 1905.3130149841309 , 1910.8610153198242 , 0.2288818359375 , 1911.0898971557617\n"
     ]
    },
    {
     "name": "stderr",
     "output_type": "stream",
     "text": [
      "150.229.118.214 - - [10/Jul/2018 15:31:52] \"POST / HTTP/1.1\" 200 -\n",
      "150.229.118.214 - - [10/Jul/2018 15:31:52] \"POST / HTTP/1.1\" 200 -\n"
     ]
    },
    {
     "name": "stdout",
     "output_type": "stream",
     "text": [
      "TF : 0 , 41.06283187866211 , 1828.8278579711914 , 1835.3919982910156 , 0.2548694610595703 , 1835.6468677520752\n",
      "TF : 0 , 0 , 0 , 12.084007263183594 , 0.20885467529296875 , 12.292861938476562\n"
     ]
    },
    {
     "name": "stderr",
     "output_type": "stream",
     "text": [
      "150.229.118.214 - - [10/Jul/2018 15:31:54] \"POST / HTTP/1.1\" 200 -\n"
     ]
    },
    {
     "name": "stdout",
     "output_type": "stream",
     "text": [
      "TF : 0 , 42.066335678100586 , 1881.1452388763428 , 1885.3721618652344 , 0.4329681396484375 , 1885.8051300048828\n"
     ]
    },
    {
     "name": "stderr",
     "output_type": "stream",
     "text": [
      "150.229.118.214 - - [10/Jul/2018 15:31:56] \"POST / HTTP/1.1\" 200 -\n"
     ]
    },
    {
     "name": "stdout",
     "output_type": "stream",
     "text": [
      "TF : 0 , 40.37785530090332 , 1935.703992843628 , 1942.4128532409668 , 0.244140625 , 1942.6569938659668\n"
     ]
    },
    {
     "name": "stderr",
     "output_type": "stream",
     "text": [
      "150.229.118.214 - - [10/Jul/2018 15:31:58] \"POST / HTTP/1.1\" 200 -\n"
     ]
    },
    {
     "name": "stdout",
     "output_type": "stream",
     "text": [
      "TF : 0 , 41.85605049133301 , 1915.4670238494873 , 1920.7658767700195 , 0.20885467529296875 , 1920.9747314453125\n"
     ]
    },
    {
     "name": "stderr",
     "output_type": "stream",
     "text": [
      "150.229.118.214 - - [10/Jul/2018 15:32:01] \"POST / HTTP/1.1\" 200 -\n"
     ]
    },
    {
     "name": "stdout",
     "output_type": "stream",
     "text": [
      "TF : 0 , 68.30906867980957 , 2038.0370616912842 , 2045.0050830841064 , 0.21696090698242188 , 2045.2220439910889\n"
     ]
    },
    {
     "name": "stderr",
     "output_type": "stream",
     "text": [
      "150.229.118.214 - - [10/Jul/2018 15:32:03] \"POST / HTTP/1.1\" 200 -\n"
     ]
    },
    {
     "name": "stdout",
     "output_type": "stream",
     "text": [
      "TF : 0 , 48.9659309387207 , 1958.716869354248 , 1968.8630104064941 , 0.2028942108154297 , 1969.0659046173096\n"
     ]
    },
    {
     "name": "stderr",
     "output_type": "stream",
     "text": [
      "150.229.118.214 - - [10/Jul/2018 15:32:05] \"POST / HTTP/1.1\" 200 -\n"
     ]
    },
    {
     "name": "stdout",
     "output_type": "stream",
     "text": [
      "TF : 0 , 42.135000228881836 , 1999.0532398223877 , 2006.4661502838135 , 0.2570152282714844 , 2006.723165512085\n"
     ]
    },
    {
     "name": "stderr",
     "output_type": "stream",
     "text": [
      "150.229.118.214 - - [10/Jul/2018 15:32:07] \"POST / HTTP/1.1\" 200 -\n"
     ]
    },
    {
     "name": "stdout",
     "output_type": "stream",
     "text": [
      "TF : 0 , 42.07110404968262 , 2092.0979976654053 , 2097.3188877105713 , 0.3142356872558594 , 2097.633123397827\n"
     ]
    },
    {
     "name": "stderr",
     "output_type": "stream",
     "text": [
      "150.229.118.214 - - [10/Jul/2018 15:32:09] \"POST / HTTP/1.1\" 200 -\n"
     ]
    },
    {
     "name": "stdout",
     "output_type": "stream",
     "text": [
      "TF : 0 , 42.97304153442383 , 1874.8550415039062 , 1881.3209533691406 , 0.23818016052246094 , 1881.559133529663\n"
     ]
    },
    {
     "name": "stderr",
     "output_type": "stream",
     "text": [
      "150.229.118.214 - - [10/Jul/2018 15:32:24] \"POST / HTTP/1.1\" 200 -\n"
     ]
    },
    {
     "name": "stdout",
     "output_type": "stream",
     "text": [
      "TF : 0 , 58.43400955200195 , 1749.1118907928467 , 1761.260986328125 , 0.2028942108154297 , 1761.4638805389404\n"
     ]
    },
    {
     "name": "stderr",
     "output_type": "stream",
     "text": [
      "150.229.118.214 - - [10/Jul/2018 15:32:26] \"POST / HTTP/1.1\" 200 -\n"
     ]
    },
    {
     "name": "stdout",
     "output_type": "stream",
     "text": [
      "TF : 0 , 58.15696716308594 , 1753.3669471740723 , 1763.69309425354 , 0.23293495178222656 , 1763.9260292053223\n"
     ]
    },
    {
     "name": "stderr",
     "output_type": "stream",
     "text": [
      "150.229.118.214 - - [10/Jul/2018 15:32:28] \"POST / HTTP/1.1\" 200 -\n"
     ]
    },
    {
     "name": "stdout",
     "output_type": "stream",
     "text": [
      "TF : 0 , 59.468984603881836 , 1755.8889389038086 , 1773.6728191375732 , 0.21314620971679688 , 1773.88596534729\n"
     ]
    },
    {
     "name": "stderr",
     "output_type": "stream",
     "text": [
      "150.229.118.214 - - [10/Jul/2018 15:32:30] \"POST / HTTP/1.1\" 200 -\n"
     ]
    },
    {
     "name": "stdout",
     "output_type": "stream",
     "text": [
      "TF : 0 , 56.88786506652832 , 1754.7698020935059 , 1773.6918926239014 , 0.22411346435546875 , 1773.9160060882568\n"
     ]
    },
    {
     "name": "stderr",
     "output_type": "stream",
     "text": [
      "150.229.118.214 - - [10/Jul/2018 15:32:32] \"POST / HTTP/1.1\" 200 -\n"
     ]
    },
    {
     "name": "stdout",
     "output_type": "stream",
     "text": [
      "TF : 0 , 59.14497375488281 , 1783.294916152954 , 1795.1180934906006 , 0.22411346435546875 , 1795.342206954956\n"
     ]
    },
    {
     "name": "stderr",
     "output_type": "stream",
     "text": [
      "150.229.118.214 - - [10/Jul/2018 15:32:34] \"POST / HTTP/1.1\" 200 -\n"
     ]
    },
    {
     "name": "stdout",
     "output_type": "stream",
     "text": [
      "TF : 0 , 59.23199653625488 , 1860.8691692352295 , 1891.0799026489258 , 0.21910667419433594 , 1891.2990093231201\n"
     ]
    },
    {
     "name": "stderr",
     "output_type": "stream",
     "text": [
      "150.229.118.214 - - [10/Jul/2018 15:32:36] \"POST / HTTP/1.1\" 200 -\n"
     ]
    },
    {
     "name": "stdout",
     "output_type": "stream",
     "text": [
      "TF : 0 , 65.07110595703125 , 2172.267198562622 , 2182.574987411499 , 0.27489662170410156 , 2182.849884033203\n"
     ]
    },
    {
     "name": "stderr",
     "output_type": "stream",
     "text": [
      "150.229.118.214 - - [10/Jul/2018 15:32:38] \"POST / HTTP/1.1\" 200 -\n"
     ]
    },
    {
     "name": "stdout",
     "output_type": "stream",
     "text": [
      "TF : 0 , 62.22414970397949 , 1929.333209991455 , 1936.3110065460205 , 0.2422332763671875 , 1936.5532398223877\n"
     ]
    },
    {
     "name": "stderr",
     "output_type": "stream",
     "text": [
      "150.229.118.214 - - [10/Jul/2018 15:32:40] \"POST / HTTP/1.1\" 200 -\n"
     ]
    },
    {
     "name": "stdout",
     "output_type": "stream",
     "text": [
      "TF : 0 , 65.7188892364502 , 1984.253168106079 , 1992.6197528839111 , 0.22411346435546875 , 1992.8438663482666\n"
     ]
    },
    {
     "name": "stderr",
     "output_type": "stream",
     "text": [
      "150.229.118.214 - - [10/Jul/2018 15:32:42] \"POST / HTTP/1.1\" 200 -\n"
     ]
    },
    {
     "name": "stdout",
     "output_type": "stream",
     "text": [
      "TF : 0 , 57.44481086730957 , 1819.9939727783203 , 1832.374095916748 , 0.22077560424804688 , 1832.594871520996\n"
     ]
    },
    {
     "name": "stderr",
     "output_type": "stream",
     "text": [
      "150.229.118.214 - - [10/Jul/2018 15:32:44] \"POST / HTTP/1.1\" 200 -\n"
     ]
    },
    {
     "name": "stdout",
     "output_type": "stream",
     "text": [
      "TF : 0 , 58.1510066986084 , 1815.6921863555908 , 1830.5017948150635 , 0.21600723266601562 , 1830.7178020477295\n"
     ]
    },
    {
     "name": "stderr",
     "output_type": "stream",
     "text": [
      "150.229.118.214 - - [10/Jul/2018 15:32:46] \"POST / HTTP/1.1\" 200 -\n"
     ]
    },
    {
     "name": "stdout",
     "output_type": "stream",
     "text": [
      "TF : 0 , 57.46030807495117 , 1930.708885192871 , 1941.465139389038 , 0.22101402282714844 , 1941.6861534118652\n"
     ]
    },
    {
     "name": "stderr",
     "output_type": "stream",
     "text": [
      "150.229.118.214 - - [10/Jul/2018 15:32:48] \"POST / HTTP/1.1\" 200 -\n"
     ]
    },
    {
     "name": "stdout",
     "output_type": "stream",
     "text": [
      "TF : 0 , 58.35413932800293 , 2016.7019367218018 , 2026.237964630127 , 0.23603439331054688 , 2026.4739990234375\n"
     ]
    },
    {
     "name": "stderr",
     "output_type": "stream",
     "text": [
      "150.229.118.214 - - [10/Jul/2018 15:32:50] \"POST / HTTP/1.1\" 200 -\n"
     ]
    },
    {
     "name": "stdout",
     "output_type": "stream",
     "text": [
      "TF : 0 , 61.56492233276367 , 1861.6106510162354 , 1867.5730228424072 , 0.2009868621826172 , 1867.7740097045898\n"
     ]
    },
    {
     "name": "stderr",
     "output_type": "stream",
     "text": [
      "150.229.118.214 - - [10/Jul/2018 15:32:52] \"POST / HTTP/1.1\" 200 -\n"
     ]
    },
    {
     "name": "stdout",
     "output_type": "stream",
     "text": [
      "TF : 0 , 59.419870376586914 , 1888.7639045715332 , 1898.2980251312256 , 0.2460479736328125 , 1898.5440731048584\n"
     ]
    },
    {
     "name": "stderr",
     "output_type": "stream",
     "text": [
      "150.229.118.214 - - [10/Jul/2018 15:32:54] \"POST / HTTP/1.1\" 200 -\n"
     ]
    },
    {
     "name": "stdout",
     "output_type": "stream",
     "text": [
      "TF : 0 , 61.213016510009766 , 2003.0837059020996 , 2015.8908367156982 , 0.2300739288330078 , 2016.1209106445312\n"
     ]
    },
    {
     "name": "stderr",
     "output_type": "stream",
     "text": [
      "150.229.118.214 - - [10/Jul/2018 15:32:57] \"POST / HTTP/1.1\" 200 -\n"
     ]
    },
    {
     "name": "stdout",
     "output_type": "stream",
     "text": [
      "TF : 0 , 63.97891044616699 , 2114.8741245269775 , 2123.3811378479004 , 0.22983551025390625 , 2123.6109733581543\n"
     ]
    },
    {
     "name": "stderr",
     "output_type": "stream",
     "text": [
      "150.229.118.214 - - [10/Jul/2018 15:32:59] \"POST / HTTP/1.1\" 200 -\n"
     ]
    },
    {
     "name": "stdout",
     "output_type": "stream",
     "text": [
      "TF : 0 , 55.67479133605957 , 1806.8790435791016 , 1818.246841430664 , 0.2040863037109375 , 1818.450927734375\n"
     ]
    },
    {
     "name": "stderr",
     "output_type": "stream",
     "text": [
      "150.229.118.214 - - [10/Jul/2018 15:33:01] \"POST / HTTP/1.1\" 200 -\n"
     ]
    },
    {
     "name": "stdout",
     "output_type": "stream",
     "text": [
      "TF : 0 , 60.24980545043945 , 1995.8579540252686 , 2007.4470043182373 , 0.2257823944091797 , 2007.6727867126465\n"
     ]
    },
    {
     "name": "stderr",
     "output_type": "stream",
     "text": [
      "150.229.118.214 - - [10/Jul/2018 15:33:03] \"POST / HTTP/1.1\" 200 -\n"
     ]
    },
    {
     "name": "stdout",
     "output_type": "stream",
     "text": [
      "TF : 0 , 61.779022216796875 , 2452.9271125793457 , 2459.932804107666 , 0.2219676971435547 , 2460.1547718048096\n"
     ]
    },
    {
     "name": "stderr",
     "output_type": "stream",
     "text": [
      "150.229.118.214 - - [10/Jul/2018 15:34:00] \"POST / HTTP/1.1\" 200 -\n"
     ]
    },
    {
     "name": "stdout",
     "output_type": "stream",
     "text": [
      "TF : 0 , 72.20697402954102 , 1786.9009971618652 , 1799.462080001831 , 0.2110004425048828 , 1799.673080444336\n"
     ]
    },
    {
     "name": "stderr",
     "output_type": "stream",
     "text": [
      "150.229.118.214 - - [10/Jul/2018 15:34:02] \"POST / HTTP/1.1\" 200 -\n"
     ]
    },
    {
     "name": "stdout",
     "output_type": "stream",
     "text": [
      "TF : 0 , 70.96076011657715 , 1800.611972808838 , 1811.1839294433594 , 0.2300739288330078 , 1811.4140033721924\n"
     ]
    },
    {
     "name": "stderr",
     "output_type": "stream",
     "text": [
      "150.229.118.214 - - [10/Jul/2018 15:34:04] \"POST / HTTP/1.1\" 200 -\n"
     ]
    },
    {
     "name": "stdout",
     "output_type": "stream",
     "text": [
      "TF : 0 , 72.71122932434082 , 1810.838222503662 , 1826.8001079559326 , 0.270843505859375 , 1827.070951461792\n"
     ]
    },
    {
     "name": "stderr",
     "output_type": "stream",
     "text": [
      "150.229.118.214 - - [10/Jul/2018 15:34:06] \"POST / HTTP/1.1\" 200 -\n"
     ]
    },
    {
     "name": "stdout",
     "output_type": "stream",
     "text": [
      "TF : 0 , 71.63596153259277 , 2067.566156387329 , 2087.646007537842 , 0.3027915954589844 , 2087.948799133301\n"
     ]
    },
    {
     "name": "stderr",
     "output_type": "stream",
     "text": [
      "150.229.118.214 - - [10/Jul/2018 15:34:09] \"POST / HTTP/1.1\" 200 -\n"
     ]
    },
    {
     "name": "stdout",
     "output_type": "stream",
     "text": [
      "TF : 0 , 78.6280632019043 , 2076.2381553649902 , 2086.491823196411 , 0.30517578125 , 2086.796998977661\n"
     ]
    },
    {
     "name": "stderr",
     "output_type": "stream",
     "text": [
      "150.229.118.214 - - [10/Jul/2018 15:34:11] \"POST / HTTP/1.1\" 200 -\n"
     ]
    },
    {
     "name": "stdout",
     "output_type": "stream",
     "text": [
      "TF : 0 , 82.58318901062012 , 1875.8351802825928 , 1886.4901065826416 , 0.2067089080810547 , 1886.6968154907227\n"
     ]
    },
    {
     "name": "stderr",
     "output_type": "stream",
     "text": [
      "150.229.118.214 - - [10/Jul/2018 15:34:13] \"POST / HTTP/1.1\" 200 -\n"
     ]
    },
    {
     "name": "stdout",
     "output_type": "stream",
     "text": [
      "TF : 0 , 72.14522361755371 , 1922.8589534759521 , 1940.1359558105469 , 0.3292560577392578 , 1940.4652118682861\n"
     ]
    },
    {
     "name": "stderr",
     "output_type": "stream",
     "text": [
      "150.229.118.214 - - [10/Jul/2018 15:34:15] \"POST / HTTP/1.1\" 200 -\n"
     ]
    },
    {
     "name": "stdout",
     "output_type": "stream",
     "text": [
      "TF : 0 , 76.3850212097168 , 1917.9120063781738 , 1929.396152496338 , 0.32591819763183594 , 1929.7220706939697\n"
     ]
    },
    {
     "name": "stderr",
     "output_type": "stream",
     "text": [
      "150.229.118.214 - - [10/Jul/2018 15:34:17] \"POST / HTTP/1.1\" 200 -\n"
     ]
    },
    {
     "name": "stdout",
     "output_type": "stream",
     "text": [
      "TF : 0 , 73.46272468566895 , 2023.5579013824463 , 2040.869951248169 , 0.2601146697998047 , 2041.1300659179688\n"
     ]
    },
    {
     "name": "stderr",
     "output_type": "stream",
     "text": [
      "150.229.118.214 - - [10/Jul/2018 15:34:19] \"POST / HTTP/1.1\" 200 -\n"
     ]
    },
    {
     "name": "stdout",
     "output_type": "stream",
     "text": [
      "TF : 0 , 80.62624931335449 , 1895.143985748291 , 1907.884120941162 , 0.2276897430419922 , 1908.111810684204\n"
     ]
    },
    {
     "name": "stderr",
     "output_type": "stream",
     "text": [
      "150.229.118.214 - - [10/Jul/2018 15:34:21] \"POST / HTTP/1.1\" 200 -\n"
     ]
    },
    {
     "name": "stdout",
     "output_type": "stream",
     "text": [
      "TF : 0 , 75.9272575378418 , 2073.517084121704 , 2092.7071571350098 , 0.20003318786621094 , 2092.907190322876\n"
     ]
    },
    {
     "name": "stderr",
     "output_type": "stream",
     "text": [
      "150.229.118.214 - - [10/Jul/2018 15:34:23] \"POST / HTTP/1.1\" 200 -\n"
     ]
    },
    {
     "name": "stdout",
     "output_type": "stream",
     "text": [
      "TF : 0 , 74.72801208496094 , 1950.294017791748 , 1961.4851474761963 , 0.22292137145996094 , 1961.7080688476562\n"
     ]
    },
    {
     "name": "stderr",
     "output_type": "stream",
     "text": [
      "150.229.118.214 - - [10/Jul/2018 15:34:25] \"POST / HTTP/1.1\" 200 -\n"
     ]
    },
    {
     "name": "stdout",
     "output_type": "stream",
     "text": [
      "TF : 0 , 75.49166679382324 , 1988.5048866271973 , 2002.3548603057861 , 0.2300739288330078 , 2002.5849342346191\n"
     ]
    },
    {
     "name": "stderr",
     "output_type": "stream",
     "text": [
      "150.229.118.214 - - [10/Jul/2018 15:34:28] \"POST / HTTP/1.1\" 200 -\n"
     ]
    },
    {
     "name": "stdout",
     "output_type": "stream",
     "text": [
      "TF : 0 , 74.16200637817383 , 2077.378988265991 , 2092.046022415161 , 0.26297569274902344 , 2092.30899810791\n"
     ]
    },
    {
     "name": "stderr",
     "output_type": "stream",
     "text": [
      "150.229.118.214 - - [10/Jul/2018 15:34:30] \"POST / HTTP/1.1\" 200 -\n"
     ]
    },
    {
     "name": "stdout",
     "output_type": "stream",
     "text": [
      "TF : 0 , 75.97804069519043 , 1949.193000793457 , 1958.3940505981445 , 0.2257823944091797 , 1958.6198329925537\n"
     ]
    },
    {
     "name": "stderr",
     "output_type": "stream",
     "text": [
      "150.229.118.214 - - [10/Jul/2018 15:34:32] \"POST / HTTP/1.1\" 200 -\n"
     ]
    },
    {
     "name": "stdout",
     "output_type": "stream",
     "text": [
      "TF : 0 , 78.8578987121582 , 2284.190893173218 , 2292.754888534546 , 0.2071857452392578 , 2292.962074279785\n"
     ]
    },
    {
     "name": "stderr",
     "output_type": "stream",
     "text": [
      "150.229.118.214 - - [10/Jul/2018 15:34:34] \"POST / HTTP/1.1\" 200 -\n"
     ]
    },
    {
     "name": "stdout",
     "output_type": "stream",
     "text": [
      "TF : 0 , 86.15517616271973 , 2003.5991668701172 , 2015.0070190429688 , 0.41413307189941406 , 2015.4211521148682\n"
     ]
    },
    {
     "name": "stderr",
     "output_type": "stream",
     "text": [
      "150.229.118.214 - - [10/Jul/2018 15:34:36] \"POST / HTTP/1.1\" 200 -\n"
     ]
    },
    {
     "name": "stdout",
     "output_type": "stream",
     "text": [
      "TF : 0 , 72.51310348510742 , 1954.4832706451416 , 1974.5008945465088 , 0.24700164794921875 , 1974.747896194458\n"
     ]
    },
    {
     "name": "stderr",
     "output_type": "stream",
     "text": [
      "150.229.118.214 - - [10/Jul/2018 15:34:38] \"POST / HTTP/1.1\" 200 -\n"
     ]
    },
    {
     "name": "stdout",
     "output_type": "stream",
     "text": [
      "TF : 0 , 73.23479652404785 , 1901.8628597259521 , 1912.2800827026367 , 0.21505355834960938 , 1912.4951362609863\n"
     ]
    },
    {
     "name": "stderr",
     "output_type": "stream",
     "text": [
      "150.229.118.214 - - [10/Jul/2018 15:34:40] \"POST / HTTP/1.1\" 200 -\n"
     ]
    },
    {
     "name": "stdout",
     "output_type": "stream",
     "text": [
      "TF : 0 , 72.30114936828613 , 1962.54301071167 , 1974.855899810791 , 0.23221969604492188 , 1975.088119506836\n"
     ]
    },
    {
     "name": "stderr",
     "output_type": "stream",
     "text": [
      "150.229.118.214 - - [10/Jul/2018 15:35:08] \"POST / HTTP/1.1\" 200 -\n"
     ]
    },
    {
     "name": "stdout",
     "output_type": "stream",
     "text": [
      "TF : 0 , 92.71025657653809 , 1787.5959873199463 , 1804.722785949707 , 0.225067138671875 , 1804.947853088379\n"
     ]
    },
    {
     "name": "stderr",
     "output_type": "stream",
     "text": [
      "150.229.118.214 - - [10/Jul/2018 15:35:10] \"POST / HTTP/1.1\" 200 -\n"
     ]
    },
    {
     "name": "stdout",
     "output_type": "stream",
     "text": [
      "TF : 0 , 91.99714660644531 , 1846.7919826507568 , 1865.2417659759521 , 0.22912025451660156 , 1865.4708862304688\n"
     ]
    },
    {
     "name": "stderr",
     "output_type": "stream",
     "text": [
      "150.229.118.214 - - [10/Jul/2018 15:35:12] \"POST / HTTP/1.1\" 200 -\n"
     ]
    },
    {
     "name": "stdout",
     "output_type": "stream",
     "text": [
      "TF : 0 , 92.10395812988281 , 2000.6709098815918 , 2016.2527561187744 , 0.21910667419433594 , 2016.4718627929688\n"
     ]
    },
    {
     "name": "stderr",
     "output_type": "stream",
     "text": [
      "150.229.118.214 - - [10/Jul/2018 15:35:15] \"POST / HTTP/1.1\" 200 -\n"
     ]
    },
    {
     "name": "stdout",
     "output_type": "stream",
     "text": [
      "TF : 0 , 132.59410858154297 , 2257.443904876709 , 2308.6841106414795 , 0.3368854522705078 , 2309.02099609375\n"
     ]
    },
    {
     "name": "stderr",
     "output_type": "stream",
     "text": [
      "150.229.118.214 - - [10/Jul/2018 15:35:17] \"POST / HTTP/1.1\" 200 -\n"
     ]
    },
    {
     "name": "stdout",
     "output_type": "stream",
     "text": [
      "TF : 0 , 116.0728931427002 , 1965.8091068267822 , 1987.3378276824951 , 0.23126602172851562 , 1987.5690937042236\n"
     ]
    },
    {
     "name": "stderr",
     "output_type": "stream",
     "text": [
      "150.229.118.214 - - [10/Jul/2018 15:35:19] \"POST / HTTP/1.1\" 200 -\n"
     ]
    },
    {
     "name": "stdout",
     "output_type": "stream",
     "text": [
      "TF : 0 , 95.38626670837402 , 2136.226177215576 , 2154.539108276367 , 0.2281665802001953 , 2154.7672748565674\n"
     ]
    },
    {
     "name": "stderr",
     "output_type": "stream",
     "text": [
      "150.229.118.214 - - [10/Jul/2018 15:35:21] \"POST / HTTP/1.1\" 200 -\n"
     ]
    },
    {
     "name": "stdout",
     "output_type": "stream",
     "text": [
      "TF : 0 , 90.45004844665527 , 2012.239933013916 , 2030.8318138122559 , 0.2760887145996094 , 2031.1079025268555\n"
     ]
    },
    {
     "name": "stderr",
     "output_type": "stream",
     "text": [
      "150.229.118.214 - - [10/Jul/2018 15:35:24] \"POST / HTTP/1.1\" 200 -\n"
     ]
    },
    {
     "name": "stdout",
     "output_type": "stream",
     "text": [
      "TF : 0 , 150.41303634643555 , 2421.8339920043945 , 2436.6660118103027 , 0.2529621124267578 , 2436.9189739227295\n"
     ]
    },
    {
     "name": "stderr",
     "output_type": "stream",
     "text": [
      "150.229.118.214 - - [10/Jul/2018 15:35:26] \"POST / HTTP/1.1\" 200 -\n"
     ]
    },
    {
     "name": "stdout",
     "output_type": "stream",
     "text": [
      "TF : 0 , 100.6312370300293 , 2105.2072048187256 , 2119.727849960327 , 0.5781650543212891 , 2120.3060150146484\n"
     ]
    },
    {
     "name": "stderr",
     "output_type": "stream",
     "text": [
      "150.229.118.214 - - [10/Jul/2018 15:35:28] \"POST / HTTP/1.1\" 200 -\n"
     ]
    },
    {
     "name": "stdout",
     "output_type": "stream",
     "text": [
      "TF : 0 , 89.89787101745605 , 1893.3007717132568 , 1913.8281345367432 , 0.2498626708984375 , 1914.0779972076416\n"
     ]
    },
    {
     "name": "stderr",
     "output_type": "stream",
     "text": [
      "150.229.118.214 - - [10/Jul/2018 15:35:30] \"POST / HTTP/1.1\" 200 -\n"
     ]
    },
    {
     "name": "stdout",
     "output_type": "stream",
     "text": [
      "TF : 0 , 105.87191581726074 , 2009.0007781982422 , 2031.9066047668457 , 0.21123886108398438 , 2032.1178436279297\n"
     ]
    },
    {
     "name": "stderr",
     "output_type": "stream",
     "text": [
      "150.229.118.214 - - [10/Jul/2018 15:35:33] \"POST / HTTP/1.1\" 200 -\n"
     ]
    },
    {
     "name": "stdout",
     "output_type": "stream",
     "text": [
      "TF : 0 , 97.30195999145508 , 2020.59006690979 , 2035.7859134674072 , 0.2079010009765625 , 2035.9938144683838\n"
     ]
    },
    {
     "name": "stderr",
     "output_type": "stream",
     "text": [
      "150.229.118.214 - - [10/Jul/2018 15:35:35] \"POST / HTTP/1.1\" 200 -\n"
     ]
    },
    {
     "name": "stdout",
     "output_type": "stream",
     "text": [
      "TF : 0 , 106.22906684875488 , 2134.8612308502197 , 2147.505044937134 , 0.21386146545410156 , 2147.718906402588\n"
     ]
    },
    {
     "name": "stderr",
     "output_type": "stream",
     "text": [
      "150.229.118.214 - - [10/Jul/2018 15:35:37] \"POST / HTTP/1.1\" 200 -\n"
     ]
    },
    {
     "name": "stdout",
     "output_type": "stream",
     "text": [
      "TF : 0 , 129.51087951660156 , 2327.988862991333 , 2342.8518772125244 , 0.3581047058105469 , 2343.209981918335\n"
     ]
    },
    {
     "name": "stderr",
     "output_type": "stream",
     "text": [
      "150.229.118.214 - - [10/Jul/2018 15:35:40] \"POST / HTTP/1.1\" 200 -\n"
     ]
    },
    {
     "name": "stdout",
     "output_type": "stream",
     "text": [
      "TF : 0 , 102.60200500488281 , 1986.0079288482666 , 2000.7686614990234 , 0.21910667419433594 , 2000.9877681732178\n"
     ]
    },
    {
     "name": "stderr",
     "output_type": "stream",
     "text": [
      "150.229.118.214 - - [10/Jul/2018 15:35:42] \"POST / HTTP/1.1\" 200 -\n"
     ]
    },
    {
     "name": "stdout",
     "output_type": "stream",
     "text": [
      "TF : 0 , 98.84214401245117 , 2078.1991481781006 , 2091.8898582458496 , 0.23603439331054688 , 2092.12589263916\n"
     ]
    },
    {
     "name": "stderr",
     "output_type": "stream",
     "text": [
      "150.229.118.214 - - [10/Jul/2018 15:35:44] \"POST / HTTP/1.1\" 200 -\n"
     ]
    },
    {
     "name": "stdout",
     "output_type": "stream",
     "text": [
      "TF : 0 , 93.63794326782227 , 1931.584119796753 , 1954.4529914855957 , 0.2338886260986328 , 1954.6868801116943\n"
     ]
    },
    {
     "name": "stderr",
     "output_type": "stream",
     "text": [
      "150.229.118.214 - - [10/Jul/2018 15:35:46] \"POST / HTTP/1.1\" 200 -\n"
     ]
    },
    {
     "name": "stdout",
     "output_type": "stream",
     "text": [
      "TF : 0 , 117.13194847106934 , 2132.9128742218018 , 2149.883031845093 , 0.22482872009277344 , 2150.1078605651855\n"
     ]
    },
    {
     "name": "stderr",
     "output_type": "stream",
     "text": [
      "150.229.118.214 - - [10/Jul/2018 15:35:49] \"POST / HTTP/1.1\" 200 -\n"
     ]
    },
    {
     "name": "stdout",
     "output_type": "stream",
     "text": [
      "TF : 0 , 103.6980152130127 , 2227.591037750244 , 2242.7761554718018 , 0.2110004425048828 , 2242.9871559143066\n"
     ]
    },
    {
     "name": "stderr",
     "output_type": "stream",
     "text": [
      "150.229.118.214 - - [10/Jul/2018 15:35:51] \"POST / HTTP/1.1\" 200 -\n"
     ]
    },
    {
     "name": "stdout",
     "output_type": "stream",
     "text": [
      "TF : 0 , 94.87104415893555 , 1985.9020709991455 , 2003.781795501709 , 0.23293495178222656 , 2004.0147304534912\n"
     ]
    },
    {
     "name": "stderr",
     "output_type": "stream",
     "text": [
      "150.229.118.214 - - [10/Jul/2018 15:36:32] \"POST / HTTP/1.1\" 200 -\n"
     ]
    },
    {
     "name": "stdout",
     "output_type": "stream",
     "text": [
      "TF : 0 , 161.55290603637695 , 1900.895118713379 , 1915.1067733764648 , 0.22602081298828125 , 1915.3327941894531\n"
     ]
    },
    {
     "name": "stderr",
     "output_type": "stream",
     "text": [
      "150.229.118.214 - - [10/Jul/2018 15:36:34] \"POST / HTTP/1.1\" 200 -\n"
     ]
    },
    {
     "name": "stdout",
     "output_type": "stream",
     "text": [
      "TF : 0 , 168.1671142578125 , 2089.1470909118652 , 2126.4898777008057 , 0.22125244140625 , 2126.711130142212\n"
     ]
    },
    {
     "name": "stderr",
     "output_type": "stream",
     "text": [
      "150.229.118.214 - - [10/Jul/2018 15:36:37] \"POST / HTTP/1.1\" 200 -\n"
     ]
    },
    {
     "name": "stdout",
     "output_type": "stream",
     "text": [
      "TF : 0 , 240.69595336914062 , 2468.59073638916 , 2504.1749477386475 , 0.3788471221923828 , 2504.55379486084\n"
     ]
    },
    {
     "name": "stderr",
     "output_type": "stream",
     "text": [
      "150.229.118.214 - - [10/Jul/2018 15:36:39] \"POST / HTTP/1.1\" 200 -\n"
     ]
    },
    {
     "name": "stdout",
     "output_type": "stream",
     "text": [
      "TF : 0 , 182.3737621307373 , 2007.0929527282715 , 2027.6849269866943 , 0.2231597900390625 , 2027.9080867767334\n"
     ]
    },
    {
     "name": "stderr",
     "output_type": "stream",
     "text": [
      "150.229.118.214 - - [10/Jul/2018 15:36:41] \"POST / HTTP/1.1\" 200 -\n"
     ]
    },
    {
     "name": "stdout",
     "output_type": "stream",
     "text": [
      "TF : 0 , 172.50490188598633 , 1999.7549057006836 , 2020.4370021820068 , 0.28705596923828125 , 2020.7240581512451\n"
     ]
    },
    {
     "name": "stderr",
     "output_type": "stream",
     "text": [
      "150.229.118.214 - - [10/Jul/2018 15:36:43] \"POST / HTTP/1.1\" 200 -\n"
     ]
    },
    {
     "name": "stdout",
     "output_type": "stream",
     "text": [
      "TF : 0 , 177.91509628295898 , 2112.0049953460693 , 2133.8019371032715 , 0.20813941955566406 , 2134.010076522827\n"
     ]
    },
    {
     "name": "stderr",
     "output_type": "stream",
     "text": [
      "150.229.118.214 - - [10/Jul/2018 15:36:46] \"POST / HTTP/1.1\" 200 -\n"
     ]
    },
    {
     "name": "stdout",
     "output_type": "stream",
     "text": [
      "TF : 0 , 259.02605056762695 , 2190.0999546051025 , 2216.5489196777344 , 0.22602081298828125 , 2216.7749404907227\n"
     ]
    },
    {
     "name": "stderr",
     "output_type": "stream",
     "text": [
      "150.229.118.214 - - [10/Jul/2018 15:36:48] \"POST / HTTP/1.1\" 200 -\n"
     ]
    },
    {
     "name": "stdout",
     "output_type": "stream",
     "text": [
      "TF : 0 , 175.7347583770752 , 2009.1068744659424 , 2036.7560386657715 , 0.22101402282714844 , 2036.9770526885986\n"
     ]
    },
    {
     "name": "stderr",
     "output_type": "stream",
     "text": [
      "150.229.118.214 - - [10/Jul/2018 15:36:50] \"POST / HTTP/1.1\" 200 -\n"
     ]
    },
    {
     "name": "stdout",
     "output_type": "stream",
     "text": [
      "TF : 0 , 174.60083961486816 , 2135.65993309021 , 2160.7511043548584 , 0.3528594970703125 , 2161.1039638519287\n"
     ]
    },
    {
     "name": "stderr",
     "output_type": "stream",
     "text": [
      "150.229.118.214 - - [10/Jul/2018 15:36:52] \"POST / HTTP/1.1\" 200 -\n"
     ]
    },
    {
     "name": "stdout",
     "output_type": "stream",
     "text": [
      "TF : 0 , 192.66319274902344 , 2343.938112258911 , 2364.936113357544 , 0.22602081298828125 , 2365.162134170532\n"
     ]
    },
    {
     "name": "stderr",
     "output_type": "stream",
     "text": [
      "150.229.118.214 - - [10/Jul/2018 15:36:55] \"POST / HTTP/1.1\" 200 -\n"
     ]
    },
    {
     "name": "stdout",
     "output_type": "stream",
     "text": [
      "TF : 0 , 175.12893676757812 , 2156.4600467681885 , 2192.7878856658936 , 0.3249645233154297 , 2193.112850189209\n"
     ]
    },
    {
     "name": "stderr",
     "output_type": "stream",
     "text": [
      "150.229.118.214 - - [10/Jul/2018 15:36:57] \"POST / HTTP/1.1\" 200 -\n"
     ]
    },
    {
     "name": "stdout",
     "output_type": "stream",
     "text": [
      "TF : 0 , 166.69321060180664 , 1949.4421482086182 , 1975.0189781188965 , 0.3399848937988281 , 1975.3589630126953\n"
     ]
    },
    {
     "name": "stderr",
     "output_type": "stream",
     "text": [
      "150.229.118.214 - - [10/Jul/2018 15:36:59] \"POST / HTTP/1.1\" 200 -\n"
     ]
    },
    {
     "name": "stdout",
     "output_type": "stream",
     "text": [
      "TF : 0 , 171.78106307983398 , 2032.4010848999023 , 2066.2410259246826 , 0.9059906005859375 , 2067.1470165252686\n"
     ]
    },
    {
     "name": "stderr",
     "output_type": "stream",
     "text": [
      "150.229.118.214 - - [10/Jul/2018 15:37:02] \"POST / HTTP/1.1\" 200 -\n"
     ]
    },
    {
     "name": "stdout",
     "output_type": "stream",
     "text": [
      "TF : 0 , 185.9750747680664 , 2374.0592002868652 , 2400.984048843384 , 0.2582073211669922 , 2401.242256164551\n"
     ]
    },
    {
     "name": "stderr",
     "output_type": "stream",
     "text": [
      "150.229.118.214 - - [10/Jul/2018 15:37:04] \"POST / HTTP/1.1\" 200 -\n"
     ]
    },
    {
     "name": "stdout",
     "output_type": "stream",
     "text": [
      "TF : 0 , 205.99603652954102 , 2521.682024002075 , 2549.0670204162598 , 0.2307891845703125 , 2549.29780960083\n"
     ]
    },
    {
     "name": "stderr",
     "output_type": "stream",
     "text": [
      "150.229.118.214 - - [10/Jul/2018 15:37:07] \"POST / HTTP/1.1\" 200 -\n"
     ]
    },
    {
     "name": "stdout",
     "output_type": "stream",
     "text": [
      "TF : 0 , 200.8061408996582 , 2379.92000579834 , 2400.385856628418 , 0.21409988403320312 , 2400.599956512451\n"
     ]
    },
    {
     "name": "stderr",
     "output_type": "stream",
     "text": [
      "150.229.118.214 - - [10/Jul/2018 15:37:09] \"POST / HTTP/1.1\" 200 -\n"
     ]
    },
    {
     "name": "stdout",
     "output_type": "stream",
     "text": [
      "TF : 0 , 175.5659580230713 , 2480.0219535827637 , 2502.246141433716 , 0.47707557678222656 , 2502.723217010498\n"
     ]
    },
    {
     "name": "stderr",
     "output_type": "stream",
     "text": [
      "150.229.118.214 - - [10/Jul/2018 15:37:12] \"POST / HTTP/1.1\" 200 -\n"
     ]
    },
    {
     "name": "stdout",
     "output_type": "stream",
     "text": [
      "TF : 0 , 236.9058132171631 , 2317.101001739502 , 2345.6099033355713 , 0.286102294921875 , 2345.896005630493\n"
     ]
    },
    {
     "name": "stderr",
     "output_type": "stream",
     "text": [
      "150.229.118.214 - - [10/Jul/2018 15:37:14] \"POST / HTTP/1.1\" 200 -\n"
     ]
    },
    {
     "name": "stdout",
     "output_type": "stream",
     "text": [
      "TF : 0 , 173.88319969177246 , 2003.464937210083 , 2028.4862518310547 , 0.22673606872558594 , 2028.7129878997803\n"
     ]
    },
    {
     "name": "stderr",
     "output_type": "stream",
     "text": [
      "150.229.118.214 - - [10/Jul/2018 15:37:16] \"POST / HTTP/1.1\" 200 -\n"
     ]
    },
    {
     "name": "stdout",
     "output_type": "stream",
     "text": [
      "TF : 0 , 174.12304878234863 , 2142.514944076538 , 2167.9368019104004 , 0.21386146545410156 , 2168.1506633758545\n"
     ]
    },
    {
     "name": "stderr",
     "output_type": "stream",
     "text": [
      "150.229.118.214 - - [10/Jul/2018 15:38:28] \"POST / HTTP/1.1\" 200 -\n"
     ]
    },
    {
     "name": "stdout",
     "output_type": "stream",
     "text": [
      "TF : 0 , 271.41880989074707 , 1986.2968921661377 , 2016.1128044128418 , 0.20503997802734375 , 2016.3178443908691\n"
     ]
    },
    {
     "name": "stderr",
     "output_type": "stream",
     "text": [
      "150.229.118.214 - - [10/Jul/2018 15:38:30] \"POST / HTTP/1.1\" 200 -\n"
     ]
    },
    {
     "name": "stdout",
     "output_type": "stream",
     "text": [
      "TF : 0 , 267.09604263305664 , 2141.7529582977295 , 2175.508975982666 , 0.21910667419433594 , 2175.7280826568604\n"
     ]
    },
    {
     "name": "stderr",
     "output_type": "stream",
     "text": [
      "150.229.118.214 - - [10/Jul/2018 15:38:32] \"POST / HTTP/1.1\" 200 -\n"
     ]
    },
    {
     "name": "stdout",
     "output_type": "stream",
     "text": [
      "TF : 0 , 278.06806564331055 , 2127.8300285339355 , 2154.402017593384 , 0.25391578674316406 , 2154.655933380127\n"
     ]
    },
    {
     "name": "stderr",
     "output_type": "stream",
     "text": [
      "150.229.118.214 - - [10/Jul/2018 15:38:35] \"POST / HTTP/1.1\" 200 -\n"
     ]
    },
    {
     "name": "stdout",
     "output_type": "stream",
     "text": [
      "TF : 0 , 346.0049629211426 , 2299.9138832092285 , 2324.4922161102295 , 0.22292137145996094 , 2324.7151374816895\n"
     ]
    },
    {
     "name": "stderr",
     "output_type": "stream",
     "text": [
      "150.229.118.214 - - [10/Jul/2018 15:38:38] \"POST / HTTP/1.1\" 200 -\n"
     ]
    },
    {
     "name": "stdout",
     "output_type": "stream",
     "text": [
      "TF : 0 , 349.6429920196533 , 2499.6097087860107 , 2534.3692302703857 , 0.2276897430419922 , 2534.5969200134277\n"
     ]
    },
    {
     "name": "stderr",
     "output_type": "stream",
     "text": [
      "150.229.118.214 - - [10/Jul/2018 15:38:40] \"POST / HTTP/1.1\" 200 -\n"
     ]
    },
    {
     "name": "stdout",
     "output_type": "stream",
     "text": [
      "TF : 0 , 338.90485763549805 , 2286.1268520355225 , 2319.5571899414062 , 0.33092498779296875 , 2319.888114929199\n"
     ]
    },
    {
     "name": "stderr",
     "output_type": "stream",
     "text": [
      "150.229.118.214 - - [10/Jul/2018 15:38:43] \"POST / HTTP/1.1\" 200 -\n"
     ]
    },
    {
     "name": "stdout",
     "output_type": "stream",
     "text": [
      "TF : 0 , 281.5220355987549 , 2272.8378772735596 , 2318.2947635650635 , 0.2422332763671875 , 2318.5369968414307\n"
     ]
    },
    {
     "name": "stderr",
     "output_type": "stream",
     "text": [
      "150.229.118.214 - - [10/Jul/2018 15:38:45] \"POST / HTTP/1.1\" 200 -\n"
     ]
    },
    {
     "name": "stdout",
     "output_type": "stream",
     "text": [
      "TF : 0 , 362.4899387359619 , 2627.9969215393066 , 2659.2650413513184 , 0.2639293670654297 , 2659.528970718384\n"
     ]
    },
    {
     "name": "stderr",
     "output_type": "stream",
     "text": [
      "150.229.118.214 - - [10/Jul/2018 15:38:48] \"POST / HTTP/1.1\" 200 -\n"
     ]
    },
    {
     "name": "stdout",
     "output_type": "stream",
     "text": [
      "TF : 0 , 402.4031162261963 , 2550.7330894470215 , 2584.3279361724854 , 0.22029876708984375 , 2584.548234939575\n"
     ]
    },
    {
     "name": "stderr",
     "output_type": "stream",
     "text": [
      "150.229.118.214 - - [10/Jul/2018 15:38:50] \"POST / HTTP/1.1\" 200 -\n"
     ]
    },
    {
     "name": "stdout",
     "output_type": "stream",
     "text": [
      "TF : 0 , 277.24385261535645 , 2112.473726272583 , 2138.9360427856445 , 0.2079010009765625 , 2139.143943786621\n"
     ]
    },
    {
     "name": "stderr",
     "output_type": "stream",
     "text": [
      "150.229.118.214 - - [10/Jul/2018 15:38:53] \"POST / HTTP/1.1\" 200 -\n"
     ]
    },
    {
     "name": "stdout",
     "output_type": "stream",
     "text": [
      "TF : 0 , 299.480676651001 , 2191.581964492798 , 2219.0940380096436 , 0.225067138671875 , 2219.3191051483154\n"
     ]
    },
    {
     "name": "stderr",
     "output_type": "stream",
     "text": [
      "150.229.118.214 - - [10/Jul/2018 15:38:55] \"POST / HTTP/1.1\" 200 -\n"
     ]
    },
    {
     "name": "stdout",
     "output_type": "stream",
     "text": [
      "TF : 0 , 284.03592109680176 , 2076.4520168304443 , 2104.151964187622 , 0.2319812774658203 , 2104.383945465088\n"
     ]
    },
    {
     "name": "stderr",
     "output_type": "stream",
     "text": [
      "150.229.118.214 - - [10/Jul/2018 15:38:58] \"POST / HTTP/1.1\" 200 -\n"
     ]
    },
    {
     "name": "stdout",
     "output_type": "stream",
     "text": [
      "TF : 0 , 276.0193347930908 , 2119.7471618652344 , 2150.8710384368896 , 0.34499168395996094 , 2151.2160301208496\n"
     ]
    },
    {
     "name": "stderr",
     "output_type": "stream",
     "text": [
      "150.229.118.214 - - [10/Jul/2018 15:39:00] \"POST / HTTP/1.1\" 200 -\n"
     ]
    },
    {
     "name": "stdout",
     "output_type": "stream",
     "text": [
      "TF : 0 , 275.1500606536865 , 2195.9171295166016 , 2228.9788722991943 , 0.2238750457763672 , 2229.2027473449707\n"
     ]
    },
    {
     "name": "stderr",
     "output_type": "stream",
     "text": [
      "150.229.118.214 - - [10/Jul/2018 15:39:02] \"POST / HTTP/1.1\" 200 -\n"
     ]
    },
    {
     "name": "stdout",
     "output_type": "stream",
     "text": [
      "TF : 0 , 272.7470397949219 , 2009.5880031585693 , 2040.7209396362305 , 0.20384788513183594 , 2040.9247875213623\n"
     ]
    },
    {
     "name": "stderr",
     "output_type": "stream",
     "text": [
      "150.229.118.214 - - [10/Jul/2018 15:39:05] \"POST / HTTP/1.1\" 200 -\n"
     ]
    },
    {
     "name": "stdout",
     "output_type": "stream",
     "text": [
      "TF : 0 , 296.9968318939209 , 2266.9148445129395 , 2303.2310009002686 , 0.24390220642089844 , 2303.4749031066895\n"
     ]
    },
    {
     "name": "stderr",
     "output_type": "stream",
     "text": [
      "150.229.118.214 - - [10/Jul/2018 15:39:07] \"POST / HTTP/1.1\" 200 -\n"
     ]
    },
    {
     "name": "stdout",
     "output_type": "stream",
     "text": [
      "TF : 0 , 282.0630073547363 , 2435.533046722412 , 2470.1859951019287 , 0.23484230041503906 , 2470.4208374023438\n"
     ]
    },
    {
     "name": "stderr",
     "output_type": "stream",
     "text": [
      "150.229.118.214 - - [10/Jul/2018 15:39:09] \"POST / HTTP/1.1\" 200 -\n"
     ]
    },
    {
     "name": "stdout",
     "output_type": "stream",
     "text": [
      "TF : 0 , 266.46995544433594 , 2002.8049945831299 , 2027.0049571990967 , 0.2338886260986328 , 2027.2388458251953\n"
     ]
    },
    {
     "name": "stderr",
     "output_type": "stream",
     "text": [
      "150.229.118.214 - - [10/Jul/2018 15:39:12] \"POST / HTTP/1.1\" 200 -\n"
     ]
    },
    {
     "name": "stdout",
     "output_type": "stream",
     "text": [
      "TF : 0 , 272.43995666503906 , 2001.1708736419678 , 2030.1589965820312 , 0.20813941955566406 , 2030.367136001587\n"
     ]
    },
    {
     "name": "stderr",
     "output_type": "stream",
     "text": [
      "150.229.118.214 - - [10/Jul/2018 15:39:14] \"POST / HTTP/1.1\" 200 -\n"
     ]
    },
    {
     "name": "stdout",
     "output_type": "stream",
     "text": [
      "TF : 0 , 269.8800563812256 , 2007.1229934692383 , 2038.8169288635254 , 0.2307891845703125 , 2039.0477180480957\n"
     ]
    },
    {
     "name": "stderr",
     "output_type": "stream",
     "text": [
      "150.229.118.214 - - [10/Jul/2018 15:40:22] \"POST / HTTP/1.1\" 200 -\n"
     ]
    },
    {
     "name": "stdout",
     "output_type": "stream",
     "text": [
      "TF : 0 , 0 , 0 , 65.74583053588867 , 0.2009868621826172 , 65.94681739807129\n"
     ]
    },
    {
     "name": "stderr",
     "output_type": "stream",
     "text": [
      "150.229.118.214 - - [10/Jul/2018 15:40:24] \"POST / HTTP/1.1\" 200 -\n"
     ]
    },
    {
     "name": "stdout",
     "output_type": "stream",
     "text": [
      "TF : 0 , 431.0650825500488 , 2172.1768379211426 , 2191.7309761047363 , 0.22411346435546875 , 2191.955089569092\n"
     ]
    },
    {
     "name": "stderr",
     "output_type": "stream",
     "text": [
      "150.229.118.214 - - [10/Jul/2018 15:40:27] \"POST / HTTP/1.1\" 200 -\n"
     ]
    },
    {
     "name": "stdout",
     "output_type": "stream",
     "text": [
      "TF : 0 , 438.03906440734863 , 2457.6590061187744 , 2504.4589042663574 , 0.20813941955566406 , 2504.667043685913\n"
     ]
    },
    {
     "name": "stderr",
     "output_type": "stream",
     "text": [
      "150.229.118.214 - - [10/Jul/2018 15:40:30] \"POST / HTTP/1.1\" 200 -\n"
     ]
    },
    {
     "name": "stdout",
     "output_type": "stream",
     "text": [
      "TF : 0 , 468.32895278930664 , 3047.376871109009 , 3091.9761657714844 , 0.2238750457763672 , 3092.2000408172607\n"
     ]
    },
    {
     "name": "stderr",
     "output_type": "stream",
     "text": [
      "150.229.118.214 - - [10/Jul/2018 15:40:32] \"POST / HTTP/1.1\" 200 -\n"
     ]
    },
    {
     "name": "stdout",
     "output_type": "stream",
     "text": [
      "TF : 0 , 494.17805671691895 , 2395.9460258483887 , 2441.652774810791 , 0.23102760314941406 , 2441.8838024139404\n"
     ]
    },
    {
     "name": "stderr",
     "output_type": "stream",
     "text": [
      "150.229.118.214 - - [10/Jul/2018 15:40:35] \"POST / HTTP/1.1\" 200 -\n"
     ]
    },
    {
     "name": "stdout",
     "output_type": "stream",
     "text": [
      "TF : 0 , 505.56397438049316 , 2443.044900894165 , 2504.415988922119 , 0.21696090698242188 , 2504.6329498291016\n"
     ]
    },
    {
     "name": "stderr",
     "output_type": "stream",
     "text": [
      "150.229.118.214 - - [10/Jul/2018 15:40:38] \"POST / HTTP/1.1\" 200 -\n"
     ]
    },
    {
     "name": "stdout",
     "output_type": "stream",
     "text": [
      "TF : 0 , 480.2367687225342 , 2459.8426818847656 , 2519.714117050171 , 0.2200603485107422 , 2519.9341773986816\n"
     ]
    },
    {
     "name": "stderr",
     "output_type": "stream",
     "text": [
      "150.229.118.214 - - [10/Jul/2018 15:40:41] \"POST / HTTP/1.1\" 200 -\n"
     ]
    },
    {
     "name": "stdout",
     "output_type": "stream",
     "text": [
      "TF : 0 , 468.29795837402344 , 2609.710931777954 , 2674.560070037842 , 0.3948211669921875 , 2674.954891204834\n"
     ]
    },
    {
     "name": "stderr",
     "output_type": "stream",
     "text": [
      "150.229.118.214 - - [10/Jul/2018 15:40:43] \"POST / HTTP/1.1\" 200 -\n"
     ]
    },
    {
     "name": "stdout",
     "output_type": "stream",
     "text": [
      "TF : 0 , 550.0249862670898 , 2507.499933242798 , 2556.436061859131 , 0.24390220642089844 , 2556.6799640655518\n"
     ]
    },
    {
     "name": "stderr",
     "output_type": "stream",
     "text": [
      "150.229.118.214 - - [10/Jul/2018 15:40:46] \"POST / HTTP/1.1\" 200 -\n"
     ]
    },
    {
     "name": "stdout",
     "output_type": "stream",
     "text": [
      "TF : 0 , 472.24998474121094 , 2313.904047012329 , 2351.8638610839844 , 0.6101131439208984 , 2352.4739742279053\n"
     ]
    },
    {
     "name": "stderr",
     "output_type": "stream",
     "text": [
      "150.229.118.214 - - [10/Jul/2018 15:40:48] \"POST / HTTP/1.1\" 200 -\n"
     ]
    },
    {
     "name": "stdout",
     "output_type": "stream",
     "text": [
      "TF : 0 , 506.32286071777344 , 2402.122974395752 , 2451.2438774108887 , 0.22125244140625 , 2451.465129852295\n"
     ]
    },
    {
     "name": "stderr",
     "output_type": "stream",
     "text": [
      "150.229.118.214 - - [10/Jul/2018 15:40:51] \"POST / HTTP/1.1\" 200 -\n"
     ]
    },
    {
     "name": "stdout",
     "output_type": "stream",
     "text": [
      "TF : 0 , 477.97703742980957 , 2729.045867919922 , 2772.7222442626953 , 0.331878662109375 , 2773.0541229248047\n"
     ]
    },
    {
     "name": "stderr",
     "output_type": "stream",
     "text": [
      "150.229.118.214 - - [10/Jul/2018 15:40:54] \"POST / HTTP/1.1\" 200 -\n"
     ]
    },
    {
     "name": "stdout",
     "output_type": "stream",
     "text": [
      "TF : 0 , 508.5258483886719 , 2398.9367485046387 , 2443.7201023101807 , 0.2110004425048828 , 2443.9311027526855\n"
     ]
    },
    {
     "name": "stderr",
     "output_type": "stream",
     "text": [
      "150.229.118.214 - - [10/Jul/2018 15:40:57] \"POST / HTTP/1.1\" 200 -\n"
     ]
    },
    {
     "name": "stdout",
     "output_type": "stream",
     "text": [
      "TF : 0 , 512.7758979797363 , 2605.912923812866 , 2658.7369441986084 , 0.22912025451660156 , 2658.966064453125\n"
     ]
    },
    {
     "name": "stderr",
     "output_type": "stream",
     "text": [
      "150.229.118.214 - - [10/Jul/2018 15:40:59] \"POST / HTTP/1.1\" 200 -\n"
     ]
    },
    {
     "name": "stdout",
     "output_type": "stream",
     "text": [
      "TF : 0 , 468.75810623168945 , 2371.032953262329 , 2407.2697162628174 , 0.29921531677246094 , 2407.56893157959\n"
     ]
    },
    {
     "name": "stderr",
     "output_type": "stream",
     "text": [
      "150.229.118.214 - - [10/Jul/2018 15:41:03] \"POST / HTTP/1.1\" 200 -\n"
     ]
    },
    {
     "name": "stdout",
     "output_type": "stream",
     "text": [
      "TF : 0 , 544.4700717926025 , 3049.905776977539 , 3104.1078567504883 , 0.26297569274902344 , 3104.3708324432373\n"
     ]
    },
    {
     "name": "stderr",
     "output_type": "stream",
     "text": [
      "150.229.118.214 - - [10/Jul/2018 15:41:05] \"POST / HTTP/1.1\" 200 -\n"
     ]
    },
    {
     "name": "stdout",
     "output_type": "stream",
     "text": [
      "TF : 0 , 506.303071975708 , 2436.3410472869873 , 2476.8779277801514 , 0.2460479736328125 , 2477.123975753784\n"
     ]
    },
    {
     "name": "stderr",
     "output_type": "stream",
     "text": [
      "150.229.118.214 - - [10/Jul/2018 15:41:08] \"POST / HTTP/1.1\" 200 -\n"
     ]
    },
    {
     "name": "stdout",
     "output_type": "stream",
     "text": [
      "TF : 0 , 467.8530693054199 , 2666.3870811462402 , 2712.981939315796 , 0.38504600524902344 , 2713.366985321045\n"
     ]
    },
    {
     "name": "stderr",
     "output_type": "stream",
     "text": [
      "150.229.118.214 - - [10/Jul/2018 15:41:11] \"POST / HTTP/1.1\" 200 -\n"
     ]
    },
    {
     "name": "stdout",
     "output_type": "stream",
     "text": [
      "TF : 0 , 510.0550651550293 , 2599.4229316711426 , 2644.106149673462 , 0.22101402282714844 , 2644.327163696289\n"
     ]
    },
    {
     "name": "stderr",
     "output_type": "stream",
     "text": [
      "150.229.118.214 - - [10/Jul/2018 15:41:14] \"POST / HTTP/1.1\" 200 -\n"
     ]
    },
    {
     "name": "stdout",
     "output_type": "stream",
     "text": [
      "TF : 0 , 560.0790977478027 , 2835.775852203369 , 2880.918025970459 , 0.2238750457763672 , 2881.1419010162354\n"
     ]
    },
    {
     "name": "stderr",
     "output_type": "stream",
     "text": [
      "150.229.118.214 - - [10/Jul/2018 15:41:48] \"POST / HTTP/1.1\" 200 -\n"
     ]
    },
    {
     "name": "stdout",
     "output_type": "stream",
     "text": [
      "TF : 0 , 694.9470043182373 , 2424.1700172424316 , 2505.296230316162 , 0.22983551025390625 , 2505.526065826416\n"
     ]
    },
    {
     "name": "stderr",
     "output_type": "stream",
     "text": [
      "150.229.118.214 - - [10/Jul/2018 15:41:51] \"POST / HTTP/1.1\" 200 -\n"
     ]
    },
    {
     "name": "stdout",
     "output_type": "stream",
     "text": [
      "TF : 0 , 694.1220760345459 , 2726.759910583496 , 2818.8397884368896 , 0.2281665802001953 , 2819.06795501709\n"
     ]
    },
    {
     "name": "stderr",
     "output_type": "stream",
     "text": [
      "150.229.118.214 - - [10/Jul/2018 15:41:54] \"POST / HTTP/1.1\" 200 -\n"
     ]
    },
    {
     "name": "stdout",
     "output_type": "stream",
     "text": [
      "TF : 0 , 723.7949371337891 , 2703.5562992095947 , 2788.560152053833 , 0.22602081298828125 , 2788.7861728668213\n"
     ]
    },
    {
     "name": "stderr",
     "output_type": "stream",
     "text": [
      "150.229.118.214 - - [10/Jul/2018 15:41:57] \"POST / HTTP/1.1\" 200 -\n"
     ]
    },
    {
     "name": "stdout",
     "output_type": "stream",
     "text": [
      "TF : 0 , 726.668119430542 , 2718.8169956207275 , 2781.8238735198975 , 0.6108283996582031 , 2782.4347019195557\n"
     ]
    },
    {
     "name": "stderr",
     "output_type": "stream",
     "text": [
      "150.229.118.214 - - [10/Jul/2018 15:42:00] \"POST / HTTP/1.1\" 200 -\n"
     ]
    },
    {
     "name": "stdout",
     "output_type": "stream",
     "text": [
      "TF : 0 , 937.5979900360107 , 2870.2352046966553 , 2930.431127548218 , 0.2129077911376953 , 2930.6440353393555\n"
     ]
    },
    {
     "name": "stderr",
     "output_type": "stream",
     "text": [
      "150.229.118.214 - - [10/Jul/2018 15:42:03] \"POST / HTTP/1.1\" 200 -\n"
     ]
    },
    {
     "name": "stdout",
     "output_type": "stream",
     "text": [
      "TF : 0 , 720.7770347595215 , 2950.876235961914 , 3016.8490409851074 , 1.0046958923339844 , 3017.8537368774414\n"
     ]
    },
    {
     "name": "stderr",
     "output_type": "stream",
     "text": [
      "150.229.118.214 - - [10/Jul/2018 15:42:06] \"POST / HTTP/1.1\" 200 -\n"
     ]
    },
    {
     "name": "stdout",
     "output_type": "stream",
     "text": [
      "TF : 0 , 786.4289283752441 , 2792.9039001464844 , 2853.06978225708 , 0.22029876708984375 , 2853.29008102417\n"
     ]
    },
    {
     "name": "stderr",
     "output_type": "stream",
     "text": [
      "150.229.118.214 - - [10/Jul/2018 15:42:09] \"POST / HTTP/1.1\" 200 -\n"
     ]
    },
    {
     "name": "stdout",
     "output_type": "stream",
     "text": [
      "TF : 0 , 731.6808700561523 , 2899.2600440979004 , 2957.8330516815186 , 0.2028942108154297 , 2958.035945892334\n"
     ]
    },
    {
     "name": "stderr",
     "output_type": "stream",
     "text": [
      "150.229.118.214 - - [10/Jul/2018 15:42:12] \"POST / HTTP/1.1\" 200 -\n"
     ]
    },
    {
     "name": "stdout",
     "output_type": "stream",
     "text": [
      "TF : 0 , 725.147008895874 , 2598.280906677246 , 2662.670850753784 , 0.23317337036132812 , 2662.9040241241455\n"
     ]
    },
    {
     "name": "stderr",
     "output_type": "stream",
     "text": [
      "150.229.118.214 - - [10/Jul/2018 15:42:15] \"POST / HTTP/1.1\" 200 -\n"
     ]
    },
    {
     "name": "stdout",
     "output_type": "stream",
     "text": [
      "TF : 0 , 851.1712551116943 , 2787.5709533691406 , 2876.0759830474854 , 0.3647804260253906 , 2876.4407634735107\n"
     ]
    },
    {
     "name": "stderr",
     "output_type": "stream",
     "text": [
      "150.229.118.214 - - [10/Jul/2018 15:42:18] \"POST / HTTP/1.1\" 200 -\n"
     ]
    },
    {
     "name": "stdout",
     "output_type": "stream",
     "text": [
      "TF : 0 , 963.4091854095459 , 2900.77805519104 , 2982.6500415802 , 0.2830028533935547 , 2982.9330444335938\n"
     ]
    },
    {
     "name": "stderr",
     "output_type": "stream",
     "text": [
      "150.229.118.214 - - [10/Jul/2018 15:42:22] \"POST / HTTP/1.1\" 200 -\n"
     ]
    },
    {
     "name": "stdout",
     "output_type": "stream",
     "text": [
      "TF : 0 , 856.9600582122803 , 3043.6911582946777 , 3105.085849761963 , 0.2090930938720703 , 3105.294942855835\n"
     ]
    },
    {
     "name": "stderr",
     "output_type": "stream",
     "text": [
      "150.229.118.214 - - [10/Jul/2018 15:42:25] \"POST / HTTP/1.1\" 200 -\n"
     ]
    },
    {
     "name": "stdout",
     "output_type": "stream",
     "text": [
      "TF : 0 , 920.4452037811279 , 2813.298225402832 , 2877.725839614868 , 0.2319812774658203 , 2877.957820892334\n"
     ]
    },
    {
     "name": "stderr",
     "output_type": "stream",
     "text": [
      "150.229.118.214 - - [10/Jul/2018 15:42:28] \"POST / HTTP/1.1\" 200 -\n"
     ]
    },
    {
     "name": "stdout",
     "output_type": "stream",
     "text": [
      "TF : 0 , 849.3771553039551 , 2773.2088565826416 , 2833.691120147705 , 0.22673606872558594 , 2833.9178562164307\n"
     ]
    },
    {
     "name": "stderr",
     "output_type": "stream",
     "text": [
      "150.229.118.214 - - [10/Jul/2018 15:42:31] \"POST / HTTP/1.1\" 200 -\n"
     ]
    },
    {
     "name": "stdout",
     "output_type": "stream",
     "text": [
      "TF : 0 , 795.2749729156494 , 2638.092041015625 , 2699.31960105896 , 0.23031234741210938 , 2699.549913406372\n"
     ]
    },
    {
     "name": "stderr",
     "output_type": "stream",
     "text": [
      "150.229.118.214 - - [10/Jul/2018 15:42:34] \"POST / HTTP/1.1\" 200 -\n"
     ]
    },
    {
     "name": "stdout",
     "output_type": "stream",
     "text": [
      "TF : 0 , 780.4300785064697 , 2760.1799964904785 , 2884.0298652648926 , 0.22101402282714844 , 2884.2508792877197\n"
     ]
    },
    {
     "name": "stderr",
     "output_type": "stream",
     "text": [
      "150.229.118.214 - - [10/Jul/2018 15:42:37] \"POST / HTTP/1.1\" 200 -\n"
     ]
    },
    {
     "name": "stdout",
     "output_type": "stream",
     "text": [
      "TF : 0 , 711.7331027984619 , 2715.198040008545 , 2868.1678771972656 , 0.2269744873046875 , 2868.3948516845703\n"
     ]
    },
    {
     "name": "stderr",
     "output_type": "stream",
     "text": [
      "150.229.118.214 - - [10/Jul/2018 15:42:40] \"POST / HTTP/1.1\" 200 -\n"
     ]
    },
    {
     "name": "stdout",
     "output_type": "stream",
     "text": [
      "TF : 0 , 823.6641883850098 , 2930.9072494506836 , 2995.063066482544 , 0.2269744873046875 , 2995.2900409698486\n"
     ]
    },
    {
     "name": "stderr",
     "output_type": "stream",
     "text": [
      "150.229.118.214 - - [10/Jul/2018 15:42:43] \"POST / HTTP/1.1\" 200 -\n"
     ]
    },
    {
     "name": "stdout",
     "output_type": "stream",
     "text": [
      "TF : 0 , 781.404972076416 , 2778.862953186035 , 2837.7158641815186 , 0.2770423889160156 , 2837.9929065704346\n"
     ]
    },
    {
     "name": "stderr",
     "output_type": "stream",
     "text": [
      "150.229.118.214 - - [10/Jul/2018 15:42:46] \"POST / HTTP/1.1\" 200 -\n"
     ]
    },
    {
     "name": "stdout",
     "output_type": "stream",
     "text": [
      "TF : 0 , 783.409833908081 , 2709.2208862304688 , 2850.8808612823486 , 0.20813941955566406 , 2851.0890007019043\n"
     ]
    },
    {
     "name": "stderr",
     "output_type": "stream",
     "text": [
      "150.229.118.214 - - [10/Jul/2018 15:44:40] \"POST / HTTP/1.1\" 200 -\n"
     ]
    },
    {
     "name": "stdout",
     "output_type": "stream",
     "text": [
      "TF : 0 , 1071.9258785247803 , 2807.343006134033 , 2871.061086654663 , 0.3440380096435547 , 2871.4051246643066\n"
     ]
    },
    {
     "name": "stderr",
     "output_type": "stream",
     "text": [
      "150.229.118.214 - - [10/Jul/2018 15:44:43] \"POST / HTTP/1.1\" 200 -\n"
     ]
    },
    {
     "name": "stdout",
     "output_type": "stream",
     "text": [
      "TF : 0 , 1173.6969947814941 , 2961.437940597534 , 3029.2649269104004 , 0.20813941955566406 , 3029.473066329956\n"
     ]
    },
    {
     "name": "stderr",
     "output_type": "stream",
     "text": [
      "150.229.118.214 - - [10/Jul/2018 15:44:47] \"POST / HTTP/1.1\" 200 -\n"
     ]
    },
    {
     "name": "stdout",
     "output_type": "stream",
     "text": [
      "TF : 0 , 1627.8088092803955 , 3767.6539421081543 , 3938.833236694336 , 0.21982192993164062 , 3939.0530586242676\n"
     ]
    },
    {
     "name": "stderr",
     "output_type": "stream",
     "text": [
      "150.229.118.214 - - [10/Jul/2018 15:44:51] \"POST / HTTP/1.1\" 200 -\n"
     ]
    },
    {
     "name": "stdout",
     "output_type": "stream",
     "text": [
      "TF : 0 , 1269.0720558166504 , 3205.8160305023193 , 3342.043876647949 , 0.21600723266601562 , 3342.2598838806152\n"
     ]
    },
    {
     "name": "stderr",
     "output_type": "stream",
     "text": [
      "150.229.118.214 - - [10/Jul/2018 15:44:54] \"POST / HTTP/1.1\" 200 -\n"
     ]
    },
    {
     "name": "stdout",
     "output_type": "stream",
     "text": [
      "TF : 0 , 1310.4290962219238 , 3471.1759090423584 , 3552.1321296691895 , 0.2608299255371094 , 3552.3929595947266\n"
     ]
    },
    {
     "name": "stderr",
     "output_type": "stream",
     "text": [
      "150.229.118.214 - - [10/Jul/2018 15:44:58] \"POST / HTTP/1.1\" 200 -\n"
     ]
    },
    {
     "name": "stdout",
     "output_type": "stream",
     "text": [
      "TF : 0 , 1245.3081607818604 , 3246.110200881958 , 3336.1148834228516 , 0.2319812774658203 , 3336.3468647003174\n"
     ]
    },
    {
     "name": "stderr",
     "output_type": "stream",
     "text": [
      "150.229.118.214 - - [10/Jul/2018 15:45:01] \"POST / HTTP/1.1\" 200 -\n"
     ]
    },
    {
     "name": "stdout",
     "output_type": "stream",
     "text": [
      "TF : 0 , 1208.3930969238281 , 3141.8330669403076 , 3335.8230590820312 , 0.2129077911376953 , 3336.035966873169\n"
     ]
    },
    {
     "name": "stderr",
     "output_type": "stream",
     "text": [
      "150.229.118.214 - - [10/Jul/2018 15:45:05] \"POST / HTTP/1.1\" 200 -\n"
     ]
    },
    {
     "name": "stdout",
     "output_type": "stream",
     "text": [
      "TF : 0 , 1372.8997707366943 , 3684.242010116577 , 3764.1329765319824 , 0.22983551025390625 , 3764.3628120422363\n"
     ]
    },
    {
     "name": "stderr",
     "output_type": "stream",
     "text": [
      "150.229.118.214 - - [10/Jul/2018 15:45:09] \"POST / HTTP/1.1\" 200 -\n"
     ]
    },
    {
     "name": "stdout",
     "output_type": "stream",
     "text": [
      "TF : 0 , 1282.7491760253906 , 3196.7711448669434 , 3319.898843765259 , 5.137205123901367 , 3325.03604888916\n"
     ]
    },
    {
     "name": "stderr",
     "output_type": "stream",
     "text": [
      "150.229.118.214 - - [10/Jul/2018 15:45:13] \"POST / HTTP/1.1\" 200 -\n"
     ]
    },
    {
     "name": "stdout",
     "output_type": "stream",
     "text": [
      "TF : 0 , 1167.3219203948975 , 3221.5261459350586 , 3272.075891494751 , 0.4363059997558594 , 3272.512197494507\n"
     ]
    },
    {
     "name": "stderr",
     "output_type": "stream",
     "text": [
      "150.229.118.214 - - [10/Jul/2018 15:45:16] \"POST / HTTP/1.1\" 200 -\n"
     ]
    },
    {
     "name": "stdout",
     "output_type": "stream",
     "text": [
      "TF : 0 , 1404.5710563659668 , 3516.4918899536133 , 3599.8880863189697 , 0.2918243408203125 , 3600.17991065979\n"
     ]
    },
    {
     "name": "stderr",
     "output_type": "stream",
     "text": [
      "150.229.118.214 - - [10/Jul/2018 15:45:20] \"POST / HTTP/1.1\" 200 -\n"
     ]
    },
    {
     "name": "stdout",
     "output_type": "stream",
     "text": [
      "TF : 0 , 1324.2120742797852 , 3090.3611183166504 , 3148.375988006592 , 0.1900196075439453 , 3148.5660076141357\n"
     ]
    },
    {
     "name": "stderr",
     "output_type": "stream",
     "text": [
      "150.229.118.214 - - [10/Jul/2018 15:45:24] \"POST / HTTP/1.1\" 200 -\n"
     ]
    },
    {
     "name": "stdout",
     "output_type": "stream",
     "text": [
      "TF : 0 , 1412.2371673583984 , 3777.076005935669 , 3918.2121753692627 , 0.23102760314941406 , 3918.443202972412\n"
     ]
    },
    {
     "name": "stderr",
     "output_type": "stream",
     "text": [
      "150.229.118.214 - - [10/Jul/2018 15:45:27] \"POST / HTTP/1.1\" 200 -\n"
     ]
    },
    {
     "name": "stdout",
     "output_type": "stream",
     "text": [
      "TF : 0 , 1220.7210063934326 , 3161.710023880005 , 3241.2500381469727 , 0.2238750457763672 , 3241.473913192749\n"
     ]
    },
    {
     "name": "stderr",
     "output_type": "stream",
     "text": [
      "150.229.118.214 - - [10/Jul/2018 15:45:31] \"POST / HTTP/1.1\" 200 -\n"
     ]
    },
    {
     "name": "stdout",
     "output_type": "stream",
     "text": [
      "TF : 0 , 1250.7178783416748 , 3131.1440467834473 , 3208.4898948669434 , 0.2429485321044922 , 3208.732843399048\n"
     ]
    },
    {
     "name": "stderr",
     "output_type": "stream",
     "text": [
      "150.229.118.214 - - [10/Jul/2018 15:45:35] \"POST / HTTP/1.1\" 200 -\n"
     ]
    },
    {
     "name": "stdout",
     "output_type": "stream",
     "text": [
      "TF : 0 , 1284.9690914154053 , 3556.4370155334473 , 3633.409023284912 , 0.2701282501220703 , 3633.679151535034\n"
     ]
    },
    {
     "name": "stderr",
     "output_type": "stream",
     "text": [
      "150.229.118.214 - - [10/Jul/2018 15:45:38] \"POST / HTTP/1.1\" 200 -\n"
     ]
    },
    {
     "name": "stdout",
     "output_type": "stream",
     "text": [
      "TF : 0 , 1187.5100135803223 , 3092.5021171569824 , 3178.3571243286133 , 0.23889541625976562 , 3178.596019744873\n"
     ]
    },
    {
     "name": "stderr",
     "output_type": "stream",
     "text": [
      "150.229.118.214 - - [10/Jul/2018 15:45:41] \"POST / HTTP/1.1\" 200 -\n"
     ]
    },
    {
     "name": "stdout",
     "output_type": "stream",
     "text": [
      "TF : 0 , 1128.1101703643799 , 3085.031032562256 , 3150.670051574707 , 0.22721290588378906 , 3150.897264480591\n"
     ]
    },
    {
     "name": "stderr",
     "output_type": "stream",
     "text": [
      "150.229.118.214 - - [10/Jul/2018 15:45:45] \"POST / HTTP/1.1\" 200 -\n"
     ]
    },
    {
     "name": "stdout",
     "output_type": "stream",
     "text": [
      "TF : 0 , 1400.1109600067139 , 3363.4510040283203 , 3443.5031414031982 , 0.22292137145996094 , 3443.726062774658\n"
     ]
    },
    {
     "name": "stderr",
     "output_type": "stream",
     "text": [
      "150.229.118.214 - - [10/Jul/2018 15:45:49] \"POST / HTTP/1.1\" 200 -\n"
     ]
    },
    {
     "name": "stdout",
     "output_type": "stream",
     "text": [
      "TF : 0 , 1269.1779136657715 , 3175.204038619995 , 3249.990940093994 , 0.2181529998779297 , 3250.209093093872\n"
     ]
    },
    {
     "name": "stderr",
     "output_type": "stream",
     "text": [
      "150.229.118.214 - - [10/Jul/2018 15:46:29] \"POST / HTTP/1.1\" 200 -\n"
     ]
    },
    {
     "name": "stdout",
     "output_type": "stream",
     "text": [
      "TF : 0 , 1767.8871154785156 , 3686.414957046509 , 3763.260841369629 , 0.225067138671875 , 3763.485908508301\n"
     ]
    },
    {
     "name": "stderr",
     "output_type": "stream",
     "text": [
      "150.229.118.214 - - [10/Jul/2018 15:46:33] \"POST / HTTP/1.1\" 200 -\n"
     ]
    },
    {
     "name": "stdout",
     "output_type": "stream",
     "text": [
      "TF : 0 , 1898.0627059936523 , 3882.5807571411133 , 3984.9140644073486 , 0.29206275939941406 , 3985.206127166748\n"
     ]
    },
    {
     "name": "stderr",
     "output_type": "stream",
     "text": [
      "150.229.118.214 - - [10/Jul/2018 15:46:38] \"POST / HTTP/1.1\" 200 -\n"
     ]
    },
    {
     "name": "stdout",
     "output_type": "stream",
     "text": [
      "TF : 0 , 1837.899923324585 , 3896.183967590332 , 3996.474266052246 , 0.21982192993164062 , 3996.6940879821777\n"
     ]
    },
    {
     "name": "stderr",
     "output_type": "stream",
     "text": [
      "150.229.118.214 - - [10/Jul/2018 15:46:42] \"POST / HTTP/1.1\" 200 -\n"
     ]
    },
    {
     "name": "stdout",
     "output_type": "stream",
     "text": [
      "TF : 0 , 1938.5137557983398 , 3757.0149898529053 , 3866.102933883667 , 0.23293495178222656 , 3866.335868835449\n"
     ]
    },
    {
     "name": "stderr",
     "output_type": "stream",
     "text": [
      "150.229.118.214 - - [10/Jul/2018 15:46:46] \"POST / HTTP/1.1\" 200 -\n"
     ]
    },
    {
     "name": "stdout",
     "output_type": "stream",
     "text": [
      "TF : 0 , 1962.1870517730713 , 3796.2749004364014 , 3902.44197845459 , 0.22292137145996094 , 3902.66489982605\n"
     ]
    },
    {
     "name": "stderr",
     "output_type": "stream",
     "text": [
      "150.229.118.214 - - [10/Jul/2018 15:46:51] \"POST / HTTP/1.1\" 200 -\n"
     ]
    },
    {
     "name": "stdout",
     "output_type": "stream",
     "text": [
      "TF : 0 , 1820.1773166656494 , 3789.5443439483643 , 3916.443109512329 , 0.2257823944091797 , 3916.6688919067383\n"
     ]
    },
    {
     "name": "stderr",
     "output_type": "stream",
     "text": [
      "150.229.118.214 - - [10/Jul/2018 15:46:55] \"POST / HTTP/1.1\" 200 -\n"
     ]
    },
    {
     "name": "stdout",
     "output_type": "stream",
     "text": [
      "TF : 0 , 1818.7148571014404 , 4103.161811828613 , 4239.209890365601 , 1.9462108612060547 , 4241.156101226807\n"
     ]
    },
    {
     "name": "stderr",
     "output_type": "stream",
     "text": [
      "150.229.118.214 - - [10/Jul/2018 15:47:00] \"POST / HTTP/1.1\" 200 -\n"
     ]
    },
    {
     "name": "stdout",
     "output_type": "stream",
     "text": [
      "TF : 0 , 2133.0649852752686 , 4499.354839324951 , 4694.303035736084 , 0.2658367156982422 , 4694.568872451782\n"
     ]
    },
    {
     "name": "stderr",
     "output_type": "stream",
     "text": [
      "150.229.118.214 - - [10/Jul/2018 15:47:05] \"POST / HTTP/1.1\" 200 -\n"
     ]
    },
    {
     "name": "stdout",
     "output_type": "stream",
     "text": [
      "TF : 0 , 2757.909059524536 , 4750.68736076355 , 4852.5450229644775 , 0.2760887145996094 , 4852.821111679077\n"
     ]
    },
    {
     "name": "stderr",
     "output_type": "stream",
     "text": [
      "150.229.118.214 - - [10/Jul/2018 15:47:10] \"POST / HTTP/1.1\" 200 -\n"
     ]
    },
    {
     "name": "stdout",
     "output_type": "stream",
     "text": [
      "TF : 0 , 2131.680965423584 , 3872.0672130584717 , 4045.456886291504 , 0.23698806762695312 , 4045.693874359131\n"
     ]
    },
    {
     "name": "stderr",
     "output_type": "stream",
     "text": [
      "150.229.118.214 - - [10/Jul/2018 15:47:14] \"POST / HTTP/1.1\" 200 -\n"
     ]
    },
    {
     "name": "stdout",
     "output_type": "stream",
     "text": [
      "TF : 0 , 1849.8351573944092 , 3594.6953296661377 , 3804.8861026763916 , 0.2219676971435547 , 3805.108070373535\n"
     ]
    },
    {
     "name": "stderr",
     "output_type": "stream",
     "text": [
      "150.229.118.214 - - [10/Jul/2018 15:47:18] \"POST / HTTP/1.1\" 200 -\n"
     ]
    },
    {
     "name": "stdout",
     "output_type": "stream",
     "text": [
      "TF : 0 , 1867.4488067626953 , 3672.067880630493 , 3862.879991531372 , 0.308990478515625 , 3863.1889820098877\n"
     ]
    },
    {
     "name": "stderr",
     "output_type": "stream",
     "text": [
      "150.229.118.214 - - [10/Jul/2018 15:47:23] \"POST / HTTP/1.1\" 200 -\n"
     ]
    },
    {
     "name": "stdout",
     "output_type": "stream",
     "text": [
      "TF : 0 , 1842.834234237671 , 3769.1590785980225 , 3888.6759281158447 , 0.23484230041503906 , 3888.9107704162598\n"
     ]
    },
    {
     "name": "stderr",
     "output_type": "stream",
     "text": [
      "150.229.118.214 - - [10/Jul/2018 15:47:27] \"POST / HTTP/1.1\" 200 -\n"
     ]
    },
    {
     "name": "stdout",
     "output_type": "stream",
     "text": [
      "TF : 0 , 1985.375165939331 , 3919.6200370788574 , 4047.3530292510986 , 0.26226043701171875 , 4047.6152896881104\n"
     ]
    },
    {
     "name": "stderr",
     "output_type": "stream",
     "text": [
      "150.229.118.214 - - [10/Jul/2018 15:47:32] \"POST / HTTP/1.1\" 200 -\n"
     ]
    },
    {
     "name": "stdout",
     "output_type": "stream",
     "text": [
      "TF : 0 , 2189.4242763519287 , 4901.62205696106 , 5109.724283218384 , 0.2129077911376953 , 5109.9371910095215\n"
     ]
    },
    {
     "name": "stderr",
     "output_type": "stream",
     "text": [
      "150.229.118.214 - - [10/Jul/2018 15:47:37] \"POST / HTTP/1.1\" 200 -\n"
     ]
    },
    {
     "name": "stdout",
     "output_type": "stream",
     "text": [
      "TF : 0 , 1975.5690097808838 , 3772.8168964385986 , 3879.3680667877197 , 0.22983551025390625 , 3879.5979022979736\n"
     ]
    },
    {
     "name": "stderr",
     "output_type": "stream",
     "text": [
      "150.229.118.214 - - [10/Jul/2018 15:47:41] \"POST / HTTP/1.1\" 200 -\n"
     ]
    },
    {
     "name": "stdout",
     "output_type": "stream",
     "text": [
      "TF : 0 , 1900.8500576019287 , 3678.417205810547 , 3780.8258533477783 , 0.22602081298828125 , 3781.0518741607666\n"
     ]
    },
    {
     "name": "stderr",
     "output_type": "stream",
     "text": [
      "150.229.118.214 - - [10/Jul/2018 15:47:45] \"POST / HTTP/1.1\" 200 -\n"
     ]
    },
    {
     "name": "stdout",
     "output_type": "stream",
     "text": [
      "TF : 0 , 1853.517770767212 , 3623.579740524292 , 3845.449924468994 , 0.2551078796386719 , 3845.705032348633\n"
     ]
    },
    {
     "name": "stderr",
     "output_type": "stream",
     "text": [
      "150.229.118.214 - - [10/Jul/2018 15:47:49] \"POST / HTTP/1.1\" 200 -\n"
     ]
    },
    {
     "name": "stdout",
     "output_type": "stream",
     "text": [
      "TF : 0 , 2362.497091293335 , 4152.505159378052 , 4328.723907470703 , 0.23102760314941406 , 4328.9549350738525\n"
     ]
    },
    {
     "name": "stderr",
     "output_type": "stream",
     "text": [
      "150.229.118.214 - - [10/Jul/2018 15:47:54] \"POST / HTTP/1.1\" 200 -\n"
     ]
    },
    {
     "name": "stdout",
     "output_type": "stream",
     "text": [
      "TF : 0 , 1840.3489589691162 , 3605.684995651245 , 3731.3380241394043 , 0.2627372741699219 , 3731.600761413574\n"
     ]
    },
    {
     "name": "stderr",
     "output_type": "stream",
     "text": [
      "150.229.118.214 - - [10/Jul/2018 15:47:58] \"POST / HTTP/1.1\" 200 -\n"
     ]
    },
    {
     "name": "stdout",
     "output_type": "stream",
     "text": [
      "TF : 0 , 1819.8456764221191 , 3529.8149585723877 , 3673.5317707061768 , 0.2281665802001953 , 3673.759937286377\n"
     ]
    },
    {
     "name": "stderr",
     "output_type": "stream",
     "text": [
      "150.229.118.214 - - [10/Jul/2018 15:58:59] \"POST / HTTP/1.1\" 200 -\n"
     ]
    },
    {
     "name": "stdout",
     "output_type": "stream",
     "text": [
      "TF : 0 , 2876.6651153564453 , 4952.855110168457 , 5047.139883041382 , 0.21600723266601562 , 5047.355890274048\n"
     ]
    },
    {
     "name": "stderr",
     "output_type": "stream",
     "text": [
      "150.229.118.214 - - [10/Jul/2018 15:59:05] \"POST / HTTP/1.1\" 200 -\n"
     ]
    },
    {
     "name": "stdout",
     "output_type": "stream",
     "text": [
      "TF : 0 , 3377.1812915802 , 5352.537155151367 , 5555.08017539978 , 0.23508071899414062 , 5555.315256118774\n"
     ]
    },
    {
     "name": "stderr",
     "output_type": "stream",
     "text": [
      "150.229.118.214 - - [10/Jul/2018 15:59:11] \"POST / HTTP/1.1\" 200 -\n"
     ]
    },
    {
     "name": "stdout",
     "output_type": "stream",
     "text": [
      "TF : 0 , 3367.0499324798584 , 5189.155101776123 , 5542.280912399292 , 0.21195411682128906 , 5542.492866516113\n"
     ]
    },
    {
     "name": "stderr",
     "output_type": "stream",
     "text": [
      "150.229.118.214 - - [10/Jul/2018 15:59:17] \"POST / HTTP/1.1\" 200 -\n"
     ]
    },
    {
     "name": "stdout",
     "output_type": "stream",
     "text": [
      "TF : 0 , 3213.222026824951 , 5143.435955047607 , 5311.453104019165 , 0.22983551025390625 , 5311.682939529419\n"
     ]
    },
    {
     "name": "stderr",
     "output_type": "stream",
     "text": [
      "150.229.118.214 - - [10/Jul/2018 15:59:23] \"POST / HTTP/1.1\" 200 -\n"
     ]
    },
    {
     "name": "stdout",
     "output_type": "stream",
     "text": [
      "TF : 0 , 3223.982095718384 , 5318.021059036255 , 5598.898887634277 , 0.225067138671875 , 5599.123954772949\n"
     ]
    },
    {
     "name": "stderr",
     "output_type": "stream",
     "text": [
      "150.229.118.214 - - [10/Jul/2018 15:59:29] \"POST / HTTP/1.1\" 200 -\n"
     ]
    },
    {
     "name": "stdout",
     "output_type": "stream",
     "text": [
      "TF : 0 , 3181.9913387298584 , 5159.949064254761 , 5390.026807785034 , 0.2288818359375 , 5390.255689620972\n"
     ]
    },
    {
     "name": "stderr",
     "output_type": "stream",
     "text": [
      "150.229.118.214 - - [10/Jul/2018 15:59:35] \"POST / HTTP/1.1\" 200 -\n"
     ]
    },
    {
     "name": "stdout",
     "output_type": "stream",
     "text": [
      "TF : 0 , 3282.047986984253 , 5066.996812820435 , 5215.87610244751 , 0.2319812774658203 , 5216.108083724976\n"
     ]
    },
    {
     "name": "stderr",
     "output_type": "stream",
     "text": [
      "150.229.118.214 - - [10/Jul/2018 15:59:41] \"POST / HTTP/1.1\" 200 -\n"
     ]
    },
    {
     "name": "stdout",
     "output_type": "stream",
     "text": [
      "TF : 0 , 3213.9930725097656 , 4949.883222579956 , 5082.688093185425 , 0.21409988403320312 , 5082.902193069458\n"
     ]
    },
    {
     "name": "stderr",
     "output_type": "stream",
     "text": [
      "150.229.118.214 - - [10/Jul/2018 15:59:46] \"POST / HTTP/1.1\" 200 -\n"
     ]
    },
    {
     "name": "stdout",
     "output_type": "stream",
     "text": [
      "TF : 0 , 2924.178123474121 , 4842.193126678467 , 4984.911680221558 , 0.2262592315673828 , 4985.137939453125\n"
     ]
    },
    {
     "name": "stderr",
     "output_type": "stream",
     "text": [
      "150.229.118.214 - - [10/Jul/2018 15:59:52] \"POST / HTTP/1.1\" 200 -\n"
     ]
    },
    {
     "name": "stdout",
     "output_type": "stream",
     "text": [
      "TF : 0 , 3113.694906234741 , 4962.400913238525 , 5094.838857650757 , 0.2079010009765625 , 5095.046758651733\n"
     ]
    },
    {
     "name": "stderr",
     "output_type": "stream",
     "text": [
      "150.229.118.214 - - [10/Jul/2018 15:59:57] \"POST / HTTP/1.1\" 200 -\n"
     ]
    },
    {
     "name": "stdout",
     "output_type": "stream",
     "text": [
      "TF : 0 , 3078.4997940063477 , 4900.534629821777 , 5056.643962860107 , 0.26702880859375 , 5056.910991668701\n"
     ]
    },
    {
     "name": "stderr",
     "output_type": "stream",
     "text": [
      "150.229.118.214 - - [10/Jul/2018 16:00:03] \"POST / HTTP/1.1\" 200 -\n"
     ]
    },
    {
     "name": "stdout",
     "output_type": "stream",
     "text": [
      "TF : 0 , 3018.8748836517334 , 4959.88392829895 , 5075.906991958618 , 0.22721290588378906 , 5076.134204864502\n"
     ]
    },
    {
     "name": "stderr",
     "output_type": "stream",
     "text": [
      "150.229.118.214 - - [10/Jul/2018 16:00:09] \"POST / HTTP/1.1\" 200 -\n"
     ]
    },
    {
     "name": "stdout",
     "output_type": "stream",
     "text": [
      "TF : 0 , 3144.7579860687256 , 5059.973239898682 , 5192.039012908936 , 0.23603439331054688 , 5192.275047302246\n"
     ]
    },
    {
     "name": "stderr",
     "output_type": "stream",
     "text": [
      "150.229.118.214 - - [10/Jul/2018 16:00:14] \"POST / HTTP/1.1\" 200 -\n"
     ]
    },
    {
     "name": "stdout",
     "output_type": "stream",
     "text": [
      "TF : 0 , 3254.437208175659 , 5043.435096740723 , 5188.499927520752 , 0.2288818359375 , 5188.728809356689\n"
     ]
    },
    {
     "name": "stderr",
     "output_type": "stream",
     "text": [
      "150.229.118.214 - - [10/Jul/2018 16:00:20] \"POST / HTTP/1.1\" 200 -\n"
     ]
    },
    {
     "name": "stdout",
     "output_type": "stream",
     "text": [
      "TF : 0 , 3106.217861175537 , 5240.9539222717285 , 5383.686065673828 , 0.5981922149658203 , 5384.284257888794\n"
     ]
    },
    {
     "name": "stderr",
     "output_type": "stream",
     "text": [
      "150.229.118.214 - - [10/Jul/2018 16:00:26] \"POST / HTTP/1.1\" 200 -\n"
     ]
    },
    {
     "name": "stdout",
     "output_type": "stream",
     "text": [
      "TF : 0 , 3071.228265762329 , 5274.2600440979 , 5427.6628494262695 , 0.23412704467773438 , 5427.896976470947\n"
     ]
    },
    {
     "name": "stderr",
     "output_type": "stream",
     "text": [
      "150.229.118.214 - - [10/Jul/2018 16:00:32] \"POST / HTTP/1.1\" 200 -\n"
     ]
    },
    {
     "name": "stdout",
     "output_type": "stream",
     "text": [
      "TF : 0 , 3171.976089477539 , 4950.155019760132 , 5053.752183914185 , 0.2288818359375 , 5053.981065750122\n"
     ]
    },
    {
     "name": "stderr",
     "output_type": "stream",
     "text": [
      "150.229.118.214 - - [10/Jul/2018 16:00:38] \"POST / HTTP/1.1\" 200 -\n"
     ]
    },
    {
     "name": "stdout",
     "output_type": "stream",
     "text": [
      "TF : 0 , 3551.1369705200195 , 5406.249046325684 , 5528.85103225708 , 0.20813941955566406 , 5529.059171676636\n"
     ]
    },
    {
     "name": "stderr",
     "output_type": "stream",
     "text": [
      "150.229.118.214 - - [10/Jul/2018 16:00:44] \"POST / HTTP/1.1\" 200 -\n"
     ]
    },
    {
     "name": "stdout",
     "output_type": "stream",
     "text": [
      "TF : 0 , 2961.9140625 , 4713.901042938232 , 4853.508949279785 , 0.7681846618652344 , 4854.27713394165\n"
     ]
    },
    {
     "name": "stderr",
     "output_type": "stream",
     "text": [
      "150.229.118.214 - - [10/Jul/2018 16:00:49] \"POST / HTTP/1.1\" 200 -\n"
     ]
    },
    {
     "name": "stdout",
     "output_type": "stream",
     "text": [
      "TF : 0 , 2982.4671745300293 , 4911.502122879028 , 5046.619892120361 , 0.43320655822753906 , 5047.053098678589\n"
     ]
    },
    {
     "name": "stderr",
     "output_type": "stream",
     "text": [
      "150.229.118.214 - - [10/Jul/2018 16:17:32] \"POST / HTTP/1.1\" 200 -\n"
     ]
    },
    {
     "name": "stdout",
     "output_type": "stream",
     "text": [
      "TF : 0 , 4594.903230667114 , 6380.559921264648 , 6518.033981323242 , 0.23102760314941406 , 6518.265008926392\n"
     ]
    },
    {
     "name": "stderr",
     "output_type": "stream",
     "text": [
      "150.229.118.214 - - [10/Jul/2018 16:17:39] \"POST / HTTP/1.1\" 200 -\n"
     ]
    },
    {
     "name": "stdout",
     "output_type": "stream",
     "text": [
      "TF : 0 , 4716.333866119385 , 6583.096027374268 , 6796.7588901519775 , 0.2589225769042969 , 6797.017812728882\n"
     ]
    },
    {
     "name": "stderr",
     "output_type": "stream",
     "text": [
      "150.229.118.214 - - [10/Jul/2018 16:17:48] \"POST / HTTP/1.1\" 200 -\n"
     ]
    },
    {
     "name": "stdout",
     "output_type": "stream",
     "text": [
      "TF : 0 , 4989.689111709595 , 7483.406066894531 , 7657.886981964111 , 0.2841949462890625 , 7658.1711769104\n"
     ]
    },
    {
     "name": "stderr",
     "output_type": "stream",
     "text": [
      "150.229.118.214 - - [10/Jul/2018 16:17:56] \"POST / HTTP/1.1\" 200 -\n"
     ]
    },
    {
     "name": "stdout",
     "output_type": "stream",
     "text": [
      "TF : 0 , 5053.540945053101 , 6920.339822769165 , 7261.934041976929 , 0.2720355987548828 , 7262.206077575684\n"
     ]
    },
    {
     "name": "stderr",
     "output_type": "stream",
     "text": [
      "150.229.118.214 - - [10/Jul/2018 16:18:05] \"POST / HTTP/1.1\" 200 -\n"
     ]
    },
    {
     "name": "stdout",
     "output_type": "stream",
     "text": [
      "TF : 0 , 5523.786783218384 , 8282.00387954712 , 8490.977764129639 , 0.22912025451660156 , 8491.206884384155\n"
     ]
    },
    {
     "name": "stderr",
     "output_type": "stream",
     "text": [
      "150.229.118.214 - - [10/Jul/2018 16:18:13] \"POST / HTTP/1.1\" 200 -\n"
     ]
    },
    {
     "name": "stdout",
     "output_type": "stream",
     "text": [
      "TF : 0 , 5158.253192901611 , 7129.776954650879 , 7352.313756942749 , 0.22912025451660156 , 7352.542877197266\n"
     ]
    },
    {
     "name": "stderr",
     "output_type": "stream",
     "text": [
      "150.229.118.214 - - [10/Jul/2018 16:18:23] \"POST / HTTP/1.1\" 200 -\n"
     ]
    },
    {
     "name": "stdout",
     "output_type": "stream",
     "text": [
      "TF : 0 , 6225.698232650757 , 8871.170043945312 , 9193.734884262085 , 0.21505355834960938 , 9193.949937820435\n"
     ]
    },
    {
     "name": "stderr",
     "output_type": "stream",
     "text": [
      "150.229.118.214 - - [10/Jul/2018 16:18:32] \"POST / HTTP/1.1\" 200 -\n"
     ]
    },
    {
     "name": "stdout",
     "output_type": "stream",
     "text": [
      "TF : 0 , 5138.822793960571 , 8049.216747283936 , 8252.515077590942 , 0.3578662872314453 , 8252.872943878174\n"
     ]
    },
    {
     "name": "stderr",
     "output_type": "stream",
     "text": [
      "150.229.118.214 - - [10/Jul/2018 16:18:43] \"POST / HTTP/1.1\" 200 -\n"
     ]
    },
    {
     "name": "stdout",
     "output_type": "stream",
     "text": [
      "TF : 0 , 7033.983945846558 , 9166.128158569336 , 9416.791200637817 , 0.2410411834716797 , 9417.032241821289\n"
     ]
    },
    {
     "name": "stderr",
     "output_type": "stream",
     "text": [
      "150.229.118.214 - - [10/Jul/2018 16:18:50] \"POST / HTTP/1.1\" 200 -\n"
     ]
    },
    {
     "name": "stdout",
     "output_type": "stream",
     "text": [
      "TF : 0 , 4748.182058334351 , 6731.504917144775 , 6937.580108642578 , 0.22292137145996094 , 6937.803030014038\n"
     ]
    },
    {
     "name": "stderr",
     "output_type": "stream",
     "text": [
      "150.229.118.214 - - [10/Jul/2018 16:18:58] \"POST / HTTP/1.1\" 200 -\n"
     ]
    },
    {
     "name": "stdout",
     "output_type": "stream",
     "text": [
      "TF : 0 , 5088.648080825806 , 7144.315958023071 , 7482.635021209717 , 0.23484230041503906 , 7482.869863510132\n"
     ]
    },
    {
     "name": "stderr",
     "output_type": "stream",
     "text": [
      "150.229.118.214 - - [10/Jul/2018 16:19:06] \"POST / HTTP/1.1\" 200 -\n"
     ]
    },
    {
     "name": "stdout",
     "output_type": "stream",
     "text": [
      "TF : 0 , 4880.974054336548 , 6828.887224197388 , 7013.704776763916 , 0.23102760314941406 , 7013.935804367065\n"
     ]
    },
    {
     "name": "stderr",
     "output_type": "stream",
     "text": [
      "150.229.118.214 - - [10/Jul/2018 16:19:15] \"POST / HTTP/1.1\" 200 -\n"
     ]
    },
    {
     "name": "stdout",
     "output_type": "stream",
     "text": [
      "TF : 0 , 5156.024932861328 , 7234.067916870117 , 7594.38419342041 , 0.31495094299316406 , 7594.699144363403\n"
     ]
    },
    {
     "name": "stderr",
     "output_type": "stream",
     "text": [
      "150.229.118.214 - - [10/Jul/2018 16:19:23] \"POST / HTTP/1.1\" 200 -\n"
     ]
    },
    {
     "name": "stdout",
     "output_type": "stream",
     "text": [
      "TF : 0 , 4910.245895385742 , 7016.7107582092285 , 7256.746053695679 , 0.23508071899414062 , 7256.981134414673\n"
     ]
    },
    {
     "name": "stderr",
     "output_type": "stream",
     "text": [
      "150.229.118.214 - - [10/Jul/2018 16:19:30] \"POST / HTTP/1.1\" 200 -\n"
     ]
    },
    {
     "name": "stdout",
     "output_type": "stream",
     "text": [
      "TF : 0 , 4728.055715560913 , 6750.486850738525 , 7053.705215454102 , 0.2288818359375 , 7053.934097290039\n"
     ]
    },
    {
     "name": "stderr",
     "output_type": "stream",
     "text": [
      "150.229.118.214 - - [10/Jul/2018 16:19:39] \"POST / HTTP/1.1\" 200 -\n"
     ]
    },
    {
     "name": "stdout",
     "output_type": "stream",
     "text": [
      "TF : 0 , 5002.100944519043 , 7002.524852752686 , 7196.306943893433 , 0.2911090850830078 , 7196.598052978516\n"
     ]
    },
    {
     "name": "stderr",
     "output_type": "stream",
     "text": [
      "150.229.118.214 - - [10/Jul/2018 16:19:47] \"POST / HTTP/1.1\" 200 -\n"
     ]
    },
    {
     "name": "stdout",
     "output_type": "stream",
     "text": [
      "TF : 0 , 4996.463775634766 , 7015.685796737671 , 7260.015249252319 , 0.23603439331054688 , 7260.25128364563\n"
     ]
    },
    {
     "name": "stderr",
     "output_type": "stream",
     "text": [
      "150.229.118.214 - - [10/Jul/2018 16:19:54] \"POST / HTTP/1.1\" 200 -\n"
     ]
    },
    {
     "name": "stdout",
     "output_type": "stream",
     "text": [
      "TF : 0 , 4870.458126068115 , 6834.219217300415 , 7067.613840103149 , 0.2288818359375 , 7067.842721939087\n"
     ]
    },
    {
     "name": "stderr",
     "output_type": "stream",
     "text": [
      "150.229.118.214 - - [10/Jul/2018 16:20:03] \"POST / HTTP/1.1\" 200 -\n"
     ]
    },
    {
     "name": "stdout",
     "output_type": "stream",
     "text": [
      "TF : 0 , 5096.221923828125 , 7119.678020477295 , 7312.246084213257 , 0.21791458129882812 , 7312.463998794556\n"
     ]
    },
    {
     "name": "stderr",
     "output_type": "stream",
     "text": [
      "150.229.118.214 - - [10/Jul/2018 16:20:11] \"POST / HTTP/1.1\" 200 -\n"
     ]
    },
    {
     "name": "stdout",
     "output_type": "stream",
     "text": [
      "TF : 0 , 5160.530090332031 , 7293.87092590332 , 7610.31699180603 , 0.22411346435546875 , 7610.541105270386\n"
     ]
    },
    {
     "name": "stderr",
     "output_type": "stream",
     "text": [
      "150.229.118.214 - - [10/Jul/2018 16:22:19] \"POST / HTTP/1.1\" 200 -\n"
     ]
    },
    {
     "name": "stdout",
     "output_type": "stream",
     "text": [
      "TF : 0 , 6843.21928024292 , 8723.665237426758 , 8933.01510810852 , 0.2548694610595703 , 8933.26997756958\n"
     ]
    },
    {
     "name": "stderr",
     "output_type": "stream",
     "text": [
      "150.229.118.214 - - [10/Jul/2018 16:22:30] \"POST / HTTP/1.1\" 200 -\n"
     ]
    },
    {
     "name": "stdout",
     "output_type": "stream",
     "text": [
      "TF : 0 , 7316.532135009766 , 9424.183130264282 , 9996.013879776001 , 0.2999305725097656 , 9996.31381034851\n"
     ]
    },
    {
     "name": "stderr",
     "output_type": "stream",
     "text": [
      "150.229.118.214 - - [10/Jul/2018 16:22:41] \"POST / HTTP/1.1\" 200 -\n"
     ]
    },
    {
     "name": "stdout",
     "output_type": "stream",
     "text": [
      "TF : 0 , 7765.54274559021 , 9828.022718429565 , 10037.585973739624 , 0.24509429931640625 , 10037.83106803894\n"
     ]
    },
    {
     "name": "stderr",
     "output_type": "stream",
     "text": [
      "150.229.118.214 - - [10/Jul/2018 16:22:52] \"POST / HTTP/1.1\" 200 -\n"
     ]
    },
    {
     "name": "stdout",
     "output_type": "stream",
     "text": [
      "TF : 0 , 7449.932813644409 , 9492.619037628174 , 9736.140012741089 , 0.2970695495605469 , 9736.43708229065\n"
     ]
    },
    {
     "name": "stderr",
     "output_type": "stream",
     "text": [
      "150.229.118.214 - - [10/Jul/2018 16:23:03] \"POST / HTTP/1.1\" 200 -\n"
     ]
    },
    {
     "name": "stdout",
     "output_type": "stream",
     "text": [
      "TF : 0 , 7322.0789432525635 , 9388.450860977173 , 9747.442960739136 , 0.23293495178222656 , 9747.675895690918\n"
     ]
    },
    {
     "name": "stderr",
     "output_type": "stream",
     "text": [
      "150.229.118.214 - - [10/Jul/2018 16:23:14] \"POST / HTTP/1.1\" 200 -\n"
     ]
    },
    {
     "name": "stdout",
     "output_type": "stream",
     "text": [
      "TF : 0 , 7586.276292800903 , 9549.607038497925 , 9899.192810058594 , 0.20313262939453125 , 9899.395942687988\n"
     ]
    },
    {
     "name": "stderr",
     "output_type": "stream",
     "text": [
      "150.229.118.214 - - [10/Jul/2018 16:23:24] \"POST / HTTP/1.1\" 200 -\n"
     ]
    },
    {
     "name": "stdout",
     "output_type": "stream",
     "text": [
      "TF : 0 , 7530.543088912964 , 9573.354959487915 , 9937.036991119385 , 0.26226043701171875 , 9937.299251556396\n"
     ]
    },
    {
     "name": "stderr",
     "output_type": "stream",
     "text": [
      "150.229.118.214 - - [10/Jul/2018 16:23:36] \"POST / HTTP/1.1\" 200 -\n"
     ]
    },
    {
     "name": "stdout",
     "output_type": "stream",
     "text": [
      "TF : 0 , 8065.359115600586 , 10265.758991241455 , 10635.4238986969 , 0.22292137145996094 , 10635.64682006836\n"
     ]
    },
    {
     "name": "stderr",
     "output_type": "stream",
     "text": [
      "150.229.118.214 - - [10/Jul/2018 16:23:48] \"POST / HTTP/1.1\" 200 -\n"
     ]
    },
    {
     "name": "stdout",
     "output_type": "stream",
     "text": [
      "TF : 0 , 7725.977897644043 , 9821.016788482666 , 10694.281101226807 , 0.2338886260986328 , 10694.514989852905\n"
     ]
    },
    {
     "name": "stderr",
     "output_type": "stream",
     "text": [
      "150.229.118.214 - - [10/Jul/2018 16:23:59] \"POST / HTTP/1.1\" 200 -\n"
     ]
    },
    {
     "name": "stdout",
     "output_type": "stream",
     "text": [
      "TF : 0 , 7584.951639175415 , 9592.736959457397 , 9944.491147994995 , 0.23293495178222656 , 9944.724082946777\n"
     ]
    },
    {
     "name": "stderr",
     "output_type": "stream",
     "text": [
      "150.229.118.214 - - [10/Jul/2018 16:24:10] \"POST / HTTP/1.1\" 200 -\n"
     ]
    },
    {
     "name": "stdout",
     "output_type": "stream",
     "text": [
      "TF : 0 , 7770.078182220459 , 9756.746053695679 , 10230.708122253418 , 0.270843505859375 , 10230.978965759277\n"
     ]
    },
    {
     "name": "stderr",
     "output_type": "stream",
     "text": [
      "150.229.118.214 - - [10/Jul/2018 16:24:21] \"POST / HTTP/1.1\" 200 -\n"
     ]
    },
    {
     "name": "stdout",
     "output_type": "stream",
     "text": [
      "TF : 0 , 7538.249254226685 , 9757.971286773682 , 10120.744228363037 , 0.5357265472412109 , 10121.279954910278\n"
     ]
    },
    {
     "name": "stderr",
     "output_type": "stream",
     "text": [
      "150.229.118.214 - - [10/Jul/2018 16:24:32] \"POST / HTTP/1.1\" 200 -\n"
     ]
    },
    {
     "name": "stdout",
     "output_type": "stream",
     "text": [
      "TF : 0 , 7355.843067169189 , 9418.875217437744 , 9649.184942245483 , 0.21409988403320312 , 9649.399042129517\n"
     ]
    },
    {
     "name": "stderr",
     "output_type": "stream",
     "text": [
      "150.229.118.214 - - [10/Jul/2018 16:24:42] \"POST / HTTP/1.1\" 200 -\n"
     ]
    },
    {
     "name": "stdout",
     "output_type": "stream",
     "text": [
      "TF : 0 , 7505.981206893921 , 9517.961978912354 , 9730.092763900757 , 0.2269744873046875 , 9730.319738388062\n"
     ]
    },
    {
     "name": "stderr",
     "output_type": "stream",
     "text": [
      "150.229.118.214 - - [10/Jul/2018 16:24:53] \"POST / HTTP/1.1\" 200 -\n"
     ]
    },
    {
     "name": "stdout",
     "output_type": "stream",
     "text": [
      "TF : 0 , 7713.922023773193 , 9725.267171859741 , 9953.245878219604 , 0.22912025451660156 , 9953.474998474121\n"
     ]
    },
    {
     "name": "stderr",
     "output_type": "stream",
     "text": [
      "150.229.118.214 - - [10/Jul/2018 16:25:04] \"POST / HTTP/1.1\" 200 -\n"
     ]
    },
    {
     "name": "stdout",
     "output_type": "stream",
     "text": [
      "TF : 0 , 7376.202821731567 , 9232.55705833435 , 9730.401039123535 , 0.26988983154296875 , 9730.670928955078\n"
     ]
    },
    {
     "name": "stderr",
     "output_type": "stream",
     "text": [
      "150.229.118.214 - - [10/Jul/2018 16:25:14] \"POST / HTTP/1.1\" 200 -\n"
     ]
    },
    {
     "name": "stdout",
     "output_type": "stream",
     "text": [
      "TF : 0 , 6944.660902023315 , 8940.056800842285 , 9146.655797958374 , 0.23126602172851562 , 9146.887063980103\n"
     ]
    },
    {
     "name": "stderr",
     "output_type": "stream",
     "text": [
      "150.229.118.214 - - [10/Jul/2018 16:25:24] \"POST / HTTP/1.1\" 200 -\n"
     ]
    },
    {
     "name": "stdout",
     "output_type": "stream",
     "text": [
      "TF : 0 , 7241.062879562378 , 9285.254955291748 , 9524.31607246399 , 0.23603439331054688 , 9524.5521068573\n"
     ]
    },
    {
     "name": "stderr",
     "output_type": "stream",
     "text": [
      "150.229.118.214 - - [10/Jul/2018 16:25:34] \"POST / HTTP/1.1\" 200 -\n"
     ]
    },
    {
     "name": "stdout",
     "output_type": "stream",
     "text": [
      "TF : 0 , 6825.165033340454 , 8594.904661178589 , 8897.771835327148 , 0.23293495178222656 , 8898.00477027893\n"
     ]
    },
    {
     "name": "stderr",
     "output_type": "stream",
     "text": [
      "150.229.118.214 - - [10/Jul/2018 16:25:44] \"POST / HTTP/1.1\" 200 -\n"
     ]
    },
    {
     "name": "stdout",
     "output_type": "stream",
     "text": [
      "TF : 0 , 7046.643972396851 , 8934.596061706543 , 9243.032932281494 , 0.2262592315673828 , 9243.259191513062\n"
     ]
    },
    {
     "name": "stderr",
     "output_type": "stream",
     "text": [
      "150.229.118.214 - - [10/Jul/2018 16:26:06] \"POST / HTTP/1.1\" 200 -\n"
     ]
    },
    {
     "name": "stdout",
     "output_type": "stream",
     "text": [
      "TF : 0 , 7358.197927474976 , 9490.253686904907 , 9710.06727218628 , 0.2257823944091797 , 9710.293054580688\n"
     ]
    },
    {
     "name": "stderr",
     "output_type": "stream",
     "text": [
      "150.229.118.214 - - [10/Jul/2018 16:26:16] \"POST / HTTP/1.1\" 200 -\n"
     ]
    },
    {
     "name": "stdout",
     "output_type": "stream",
     "text": [
      "TF : 0 , 7484.649896621704 , 9333.113193511963 , 9614.970207214355 , 0.21767616271972656 , 9615.187883377075\n"
     ]
    },
    {
     "name": "stderr",
     "output_type": "stream",
     "text": [
      "150.229.118.214 - - [10/Jul/2018 16:26:35] \"POST / HTTP/1.1\" 200 -\n"
     ]
    },
    {
     "name": "stdout",
     "output_type": "stream",
     "text": [
      "TF : 0 , 11213.818073272705 , 17078.524112701416 , 17300.78625679016 , 0.31185150146484375 , 17301.098108291626\n"
     ]
    },
    {
     "name": "stderr",
     "output_type": "stream",
     "text": [
      "150.229.118.214 - - [10/Jul/2018 16:26:48] \"POST / HTTP/1.1\" 200 -\n"
     ]
    },
    {
     "name": "stdout",
     "output_type": "stream",
     "text": [
      "TF : 0 , 9144.328117370605 , 11638.399124145508 , 12203.440189361572 , 0.22482872009277344 , 12203.665018081665\n"
     ]
    },
    {
     "name": "stderr",
     "output_type": "stream",
     "text": [
      "150.229.118.214 - - [10/Jul/2018 16:27:00] \"POST / HTTP/1.1\" 200 -\n"
     ]
    },
    {
     "name": "stdout",
     "output_type": "stream",
     "text": [
      "TF : 0 , 8662.740230560303 , 10619.239091873169 , 10902.462005615234 , 1.0750293731689453 , 10903.537034988403\n"
     ]
    },
    {
     "name": "stderr",
     "output_type": "stream",
     "text": [
      "150.229.118.214 - - [10/Jul/2018 16:27:11] \"POST / HTTP/1.1\" 200 -\n"
     ]
    },
    {
     "name": "stdout",
     "output_type": "stream",
     "text": [
      "TF : 0 , 7383.692026138306 , 9477.695941925049 , 9890.764951705933 , 0.26798248291015625 , 9891.032934188843\n"
     ]
    },
    {
     "name": "stderr",
     "output_type": "stream",
     "text": [
      "150.229.118.214 - - [10/Jul/2018 16:27:22] \"POST / HTTP/1.1\" 200 -\n"
     ]
    },
    {
     "name": "stdout",
     "output_type": "stream",
     "text": [
      "TF : 0 , 7826.566219329834 , 9845.149278640747 , 10279.765844345093 , 0.29921531677246094 , 10280.065059661865\n"
     ]
    },
    {
     "name": "stderr",
     "output_type": "stream",
     "text": [
      "150.229.118.214 - - [10/Jul/2018 16:27:34] \"POST / HTTP/1.1\" 200 -\n"
     ]
    },
    {
     "name": "stdout",
     "output_type": "stream",
     "text": [
      "TF : 0 , 7626.300811767578 , 9737.406969070435 , 10729.492902755737 , 1.1131763458251953 , 10730.606079101562\n"
     ]
    },
    {
     "name": "stderr",
     "output_type": "stream",
     "text": [
      "150.229.118.214 - - [10/Jul/2018 16:27:46] \"POST / HTTP/1.1\" 200 -\n"
     ]
    },
    {
     "name": "stdout",
     "output_type": "stream",
     "text": [
      "TF : 0 , 8011.4991664886475 , 10308.917045593262 , 10536.213159561157 , 0.22983551025390625 , 10536.442995071411\n"
     ]
    },
    {
     "name": "stderr",
     "output_type": "stream",
     "text": [
      "150.229.118.214 - - [10/Jul/2018 16:27:57] \"POST / HTTP/1.1\" 200 -\n"
     ]
    },
    {
     "name": "stdout",
     "output_type": "stream",
     "text": [
      "TF : 0 , 7821.5367794036865 , 9849.142789840698 , 10209.754705429077 , 0.2429485321044922 , 10209.997653961182\n"
     ]
    },
    {
     "name": "stderr",
     "output_type": "stream",
     "text": [
      "150.229.118.214 - - [10/Jul/2018 16:28:08] \"POST / HTTP/1.1\" 200 -\n"
     ]
    },
    {
     "name": "stdout",
     "output_type": "stream",
     "text": [
      "TF : 0 , 7570.909261703491 , 9448.217153549194 , 9821.545839309692 , 0.22912025451660156 , 9821.774959564209\n"
     ]
    },
    {
     "name": "stderr",
     "output_type": "stream",
     "text": [
      "150.229.118.214 - - [10/Jul/2018 16:28:19] \"POST / HTTP/1.1\" 200 -\n"
     ]
    },
    {
     "name": "stdout",
     "output_type": "stream",
     "text": [
      "TF : 0 , 7657.454967498779 , 9686.638832092285 , 10025.526762008667 , 0.21409988403320312 , 10025.7408618927\n"
     ]
    },
    {
     "name": "stderr",
     "output_type": "stream",
     "text": [
      "150.229.118.214 - - [10/Jul/2018 16:28:30] \"POST / HTTP/1.1\" 200 -\n"
     ]
    },
    {
     "name": "stdout",
     "output_type": "stream",
     "text": [
      "TF : 0 , 7466.399908065796 , 9500.55718421936 , 9851.758003234863 , 0.23221969604492188 , 9851.990222930908\n"
     ]
    },
    {
     "name": "stderr",
     "output_type": "stream",
     "text": [
      "150.229.118.214 - - [10/Jul/2018 16:28:41] \"POST / HTTP/1.1\" 200 -\n"
     ]
    },
    {
     "name": "stdout",
     "output_type": "stream",
     "text": [
      "TF : 0 , 6879.801988601685 , 8675.482988357544 , 9149.970054626465 , 0.225067138671875 , 9150.195121765137\n"
     ]
    },
    {
     "name": "stderr",
     "output_type": "stream",
     "text": [
      "150.229.118.214 - - [10/Jul/2018 16:28:51] \"POST / HTTP/1.1\" 200 -\n"
     ]
    },
    {
     "name": "stdout",
     "output_type": "stream",
     "text": [
      "TF : 0 , 6897.148847579956 , 8672.72400856018 , 8912.87612915039 , 0.2639293670654297 , 8913.140058517456\n"
     ]
    },
    {
     "name": "stderr",
     "output_type": "stream",
     "text": [
      "150.229.118.214 - - [10/Jul/2018 16:29:01] \"POST / HTTP/1.1\" 200 -\n"
     ]
    },
    {
     "name": "stdout",
     "output_type": "stream",
     "text": [
      "TF : 0 , 6838.845252990723 , 9031.541109085083 , 9348.911046981812 , 0.22411346435546875 , 9349.135160446167\n"
     ]
    },
    {
     "name": "stderr",
     "output_type": "stream",
     "text": [
      "150.229.118.214 - - [10/Jul/2018 16:29:13] \"POST / HTTP/1.1\" 200 -\n"
     ]
    },
    {
     "name": "stdout",
     "output_type": "stream",
     "text": [
      "TF : 0 , 7752.4778842926025 , 9936.331987380981 , 10160.081148147583 , 0.24580955505371094 , 10160.326957702637\n"
     ]
    },
    {
     "name": "stderr",
     "output_type": "stream",
     "text": [
      "150.229.118.214 - - [10/Jul/2018 16:29:24] \"POST / HTTP/1.1\" 200 -\n"
     ]
    },
    {
     "name": "stdout",
     "output_type": "stream",
     "text": [
      "TF : 0 , 7564.657211303711 , 9846.253156661987 , 10062.944889068604 , 0.2281665802001953 , 10063.173055648804\n"
     ]
    },
    {
     "name": "stderr",
     "output_type": "stream",
     "text": [
      "150.229.118.214 - - [10/Jul/2018 16:29:35] \"POST / HTTP/1.1\" 200 -\n"
     ]
    },
    {
     "name": "stdout",
     "output_type": "stream",
     "text": [
      "TF : 0 , 7722.811222076416 , 9808.955907821655 , 10163.192987442017 , 0.26416778564453125 , 10163.457155227661\n"
     ]
    },
    {
     "name": "stderr",
     "output_type": "stream",
     "text": [
      "150.229.118.214 - - [10/Jul/2018 16:29:46] \"POST / HTTP/1.1\" 200 -\n"
     ]
    },
    {
     "name": "stdout",
     "output_type": "stream",
     "text": [
      "TF : 0 , 7430.716753005981 , 9343.283891677856 , 9720.095157623291 , 0.2181529998779297 , 9720.313310623169\n"
     ]
    },
    {
     "ename": "KeyboardInterrupt",
     "evalue": "",
     "output_type": "error",
     "traceback": [
      "\u001b[0;31m---------------------------------------------------------------------------\u001b[0m",
      "\u001b[0;31mKeyboardInterrupt\u001b[0m                         Traceback (most recent call last)",
      "\u001b[0;32m<ipython-input-15-790fb882ee82>\u001b[0m in \u001b[0;36m<module>\u001b[0;34m()\u001b[0m\n\u001b[1;32m      1\u001b[0m \u001b[0;31m# In[5]:\u001b[0m\u001b[0;34m\u001b[0m\u001b[0;34m\u001b[0m\u001b[0m\n\u001b[1;32m      2\u001b[0m \u001b[0;34m\u001b[0m\u001b[0m\n\u001b[0;32m----> 3\u001b[0;31m \u001b[0mrun\u001b[0m\u001b[0;34m(\u001b[0m\u001b[0;34m)\u001b[0m\u001b[0;34m\u001b[0m\u001b[0m\n\u001b[0m",
      "\u001b[0;32m<ipython-input-14-5feae35c8eda>\u001b[0m in \u001b[0;36mrun\u001b[0;34m()\u001b[0m\n\u001b[1;32m     10\u001b[0m     \u001b[0mprint\u001b[0m\u001b[0;34m(\u001b[0m\u001b[0;34m'running server...'\u001b[0m\u001b[0;34m)\u001b[0m\u001b[0;34m\u001b[0m\u001b[0m\n\u001b[1;32m     11\u001b[0m     \u001b[0mprint\u001b[0m\u001b[0;34m(\u001b[0m\u001b[0;34m\"CV_Time, TF_Detect, TF_IO, Overall_Detection, XML_Output, Overall (ms)\"\u001b[0m\u001b[0;34m)\u001b[0m\u001b[0;34m\u001b[0m\u001b[0m\n\u001b[0;32m---> 12\u001b[0;31m     \u001b[0mhttpd\u001b[0m\u001b[0;34m.\u001b[0m\u001b[0mserve_forever\u001b[0m\u001b[0;34m(\u001b[0m\u001b[0;34m)\u001b[0m\u001b[0;34m\u001b[0m\u001b[0m\n\u001b[0m",
      "\u001b[0;32m~/anaconda3/envs/mr-environment/lib/python3.6/socketserver.py\u001b[0m in \u001b[0;36mserve_forever\u001b[0;34m(self, poll_interval)\u001b[0m\n\u001b[1;32m    234\u001b[0m \u001b[0;34m\u001b[0m\u001b[0m\n\u001b[1;32m    235\u001b[0m                 \u001b[0;32mwhile\u001b[0m \u001b[0;32mnot\u001b[0m \u001b[0mself\u001b[0m\u001b[0;34m.\u001b[0m\u001b[0m__shutdown_request\u001b[0m\u001b[0;34m:\u001b[0m\u001b[0;34m\u001b[0m\u001b[0m\n\u001b[0;32m--> 236\u001b[0;31m                     \u001b[0mready\u001b[0m \u001b[0;34m=\u001b[0m \u001b[0mselector\u001b[0m\u001b[0;34m.\u001b[0m\u001b[0mselect\u001b[0m\u001b[0;34m(\u001b[0m\u001b[0mpoll_interval\u001b[0m\u001b[0;34m)\u001b[0m\u001b[0;34m\u001b[0m\u001b[0m\n\u001b[0m\u001b[1;32m    237\u001b[0m                     \u001b[0;32mif\u001b[0m \u001b[0mready\u001b[0m\u001b[0;34m:\u001b[0m\u001b[0;34m\u001b[0m\u001b[0m\n\u001b[1;32m    238\u001b[0m                         \u001b[0mself\u001b[0m\u001b[0;34m.\u001b[0m\u001b[0m_handle_request_noblock\u001b[0m\u001b[0;34m(\u001b[0m\u001b[0;34m)\u001b[0m\u001b[0;34m\u001b[0m\u001b[0m\n",
      "\u001b[0;32m~/anaconda3/envs/mr-environment/lib/python3.6/selectors.py\u001b[0m in \u001b[0;36mselect\u001b[0;34m(self, timeout)\u001b[0m\n\u001b[1;32m    374\u001b[0m             \u001b[0mready\u001b[0m \u001b[0;34m=\u001b[0m \u001b[0;34m[\u001b[0m\u001b[0;34m]\u001b[0m\u001b[0;34m\u001b[0m\u001b[0m\n\u001b[1;32m    375\u001b[0m             \u001b[0;32mtry\u001b[0m\u001b[0;34m:\u001b[0m\u001b[0;34m\u001b[0m\u001b[0m\n\u001b[0;32m--> 376\u001b[0;31m                 \u001b[0mfd_event_list\u001b[0m \u001b[0;34m=\u001b[0m \u001b[0mself\u001b[0m\u001b[0;34m.\u001b[0m\u001b[0m_poll\u001b[0m\u001b[0;34m.\u001b[0m\u001b[0mpoll\u001b[0m\u001b[0;34m(\u001b[0m\u001b[0mtimeout\u001b[0m\u001b[0;34m)\u001b[0m\u001b[0;34m\u001b[0m\u001b[0m\n\u001b[0m\u001b[1;32m    377\u001b[0m             \u001b[0;32mexcept\u001b[0m \u001b[0mInterruptedError\u001b[0m\u001b[0;34m:\u001b[0m\u001b[0;34m\u001b[0m\u001b[0m\n\u001b[1;32m    378\u001b[0m                 \u001b[0;32mreturn\u001b[0m \u001b[0mready\u001b[0m\u001b[0;34m\u001b[0m\u001b[0m\n",
      "\u001b[0;31mKeyboardInterrupt\u001b[0m: "
     ]
    }
   ],
   "source": [
    "# In[5]:\n",
    "\n",
    "run()"
   ]
  },
  {
   "cell_type": "code",
   "execution_count": null,
   "metadata": {
    "collapsed": true
   },
   "outputs": [],
   "source": []
  }
 ],
 "metadata": {
  "kernelspec": {
   "display_name": "Python 3",
   "language": "python",
   "name": "python3"
  },
  "language_info": {
   "codemirror_mode": {
    "name": "ipython",
    "version": 3
   },
   "file_extension": ".py",
   "mimetype": "text/x-python",
   "name": "python",
   "nbconvert_exporter": "python",
   "pygments_lexer": "ipython3",
   "version": "3.6.3"
  }
 },
 "nbformat": 4,
 "nbformat_minor": 2
}
