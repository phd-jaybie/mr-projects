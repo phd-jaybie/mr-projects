{
 "cells": [
  {
   "cell_type": "code",
   "execution_count": 1,
   "metadata": {
    "collapsed": true
   },
   "outputs": [],
   "source": [
    "# coding: utf-8\n",
    "\n",
    "# In[1]:\n",
    "\n",
    "\n",
    "#!/usr/bin/env python\n",
    "\n",
    "import cv2\n",
    "import numpy as np\n",
    "import sys\n",
    "import time\n",
    "import requests\n",
    "import math\n",
    "\n",
    "import os\n",
    "import six.moves.urllib as urllib\n",
    "import tensorflow as tf\n",
    "import zipfile\n",
    "import collections\n",
    "import warnings\n",
    "warnings.filterwarnings(\"ignore\")\n",
    "\n",
    "from xml.etree.ElementTree import Element, SubElement, Comment, tostring, ElementTree\n",
    "from http.server import BaseHTTPRequestHandler, HTTPServer\n",
    "from collections import defaultdict\n",
    "from io import StringIO, BytesIO\n",
    "from matplotlib import pyplot as plt\n",
    "from PIL import Image"
   ]
  },
  {
   "cell_type": "code",
   "execution_count": 2,
   "metadata": {
    "collapsed": true
   },
   "outputs": [],
   "source": [
    "# This is needed to add the tf-object detecton api modules\n",
    "sys.path.append(\"/Users/deg032/models/research\")\n",
    "from object_detection.utils import ops as utils_ops\n",
    "from object_detection.utils import label_map_util\n",
    "from object_detection.utils import visualization_utils as vis_util\n",
    "\n",
    "if tf.__version__ < '1.4.0':\n",
    "  raise ImportError('Please upgrade your tensorflow installation to v1.4.* or later!')"
   ]
  },
  {
   "cell_type": "code",
   "execution_count": 3,
   "metadata": {},
   "outputs": [],
   "source": [
    "# OpenCV parameters below\n",
    "search_params = dict(checks = 20) # this is for the flann-based matcher\n",
    "largest = {4032, 3024}\n",
    "detector = cv2.xfeatures2d.SIFT_create()\n",
    "FLANN_INDEX_KDTREE = 0\n",
    "index_params = dict(algorithm = FLANN_INDEX_KDTREE, tree = 5)\n",
    "matcher = cv2.FlannBasedMatcher(index_params, search_params)\n",
    "\n",
    "ref = \"res/unsw.png\"\n",
    "\n",
    "ref_img = cv2.imread(ref, 0)\n",
    "\n",
    "rKP, rDES = detector.detectAndCompute(ref_img, None)        "
   ]
  },
  {
   "cell_type": "code",
   "execution_count": 4,
   "metadata": {
    "collapsed": true
   },
   "outputs": [],
   "source": [
    "# Main tasks\n",
    "\n",
    "# What model to use.\n",
    "MODEL_NAME = 'ssd_mobilenet_v1_coco_2017_11_17'\n",
    "#MODEL_FILE = MODEL_NAME + '.tar.gz'\n",
    "OBJ_API_BASE = '/Users/deg032/models/research/object_detection/'\n",
    "\n",
    "# Path to frozen detection graph. This is the actual model that is used for the object detection.\n",
    "PATH_TO_CKPT = MODEL_NAME + '/frozen_inference_graph.pb'\n",
    "\n",
    "# List of the strings that is used to add correct label for each box.\n",
    "PATH_TO_LABELS = os.path.join('data', 'mscoco_label_map.pbtxt')\n",
    "\n",
    "NUM_CLASSES = 90"
   ]
  },
  {
   "cell_type": "code",
   "execution_count": 5,
   "metadata": {
    "collapsed": true
   },
   "outputs": [],
   "source": [
    "detection_graph = tf.Graph()\n",
    "with detection_graph.as_default():\n",
    "  od_graph_def = tf.GraphDef()\n",
    "  with tf.gfile.GFile(OBJ_API_BASE + PATH_TO_CKPT, 'rb') as fid:\n",
    "    serialized_graph = fid.read()\n",
    "    od_graph_def.ParseFromString(serialized_graph)\n",
    "    tf.import_graph_def(od_graph_def, name='')\n",
    "    \n",
    "label_map = label_map_util.load_labelmap(OBJ_API_BASE + PATH_TO_LABELS)\n",
    "categories = label_map_util.convert_label_map_to_categories(label_map, max_num_classes=NUM_CLASSES, use_display_name=True)\n",
    "category_index = label_map_util.create_category_index(categories)"
   ]
  },
  {
   "cell_type": "code",
   "execution_count": 6,
   "metadata": {
    "collapsed": true
   },
   "outputs": [],
   "source": [
    "def get_object_locations(\n",
    "    boxes,\n",
    "    classes,\n",
    "    scores,\n",
    "    category_index,\n",
    "    instance_masks=None,\n",
    "    instance_boundaries=None,\n",
    "    keypoints=None,\n",
    "    use_normalized_coordinates=False,\n",
    "    max_boxes_to_draw=20,\n",
    "    min_score_thresh=.5,\n",
    "    agnostic_mode=False,\n",
    "    line_thickness=4,\n",
    "    groundtruth_box_visualization_color='black',\n",
    "    skip_scores=False,\n",
    "    skip_labels=False):\n",
    "  \"\"\"This is an adaptation of the function from the visualization_utils\n",
    "  named 'visualize_boxes_and_labels_on_image_array' but does not embed the\n",
    "  masks to the image directly but just extract the relative position of\n",
    "  objects within the view. This is to prevent sharing raw visual informa-\n",
    "  tion to intended third parties interested to know the detected objects.\n",
    "  \n",
    "  Overlay labeled boxes on an image with formatted scores and label names.\n",
    "\n",
    "  This function groups boxes that correspond to the same location\n",
    "  and creates a display string for each detection and overlays these\n",
    "  on the image. Note that this function modifies the image in place, and returns\n",
    "  that same image.\n",
    "\n",
    "  Args:\n",
    "    image: uint8 numpy array with shape (img_height, img_width, 3)\n",
    "    boxes: a numpy array of shape [N, 4]\n",
    "    classes: a numpy array of shape [N]. Note that class indices are 1-based,\n",
    "      and match the keys in the label map.\n",
    "    scores: a numpy array of shape [N] or None.  If scores=None, then\n",
    "      this function assumes that the boxes to be plotted are groundtruth\n",
    "      boxes and plot all boxes as black with no classes or scores.\n",
    "    category_index: a dict containing category dictionaries (each holding\n",
    "      category index `id` and category name `name`) keyed by category indices.\n",
    "    instance_masks: a numpy array of shape [N, image_height, image_width] with\n",
    "      values ranging between 0 and 1, can be None.\n",
    "    instance_boundaries: a numpy array of shape [N, image_height, image_width]\n",
    "      with values ranging between 0 and 1, can be None.\n",
    "    keypoints: a numpy array of shape [N, num_keypoints, 2], can\n",
    "      be None\n",
    "    use_normalized_coordinates: whether boxes is to be interpreted as\n",
    "      normalized coordinates or not.\n",
    "    max_boxes_to_draw: maximum number of boxes to visualize.  If None, draw\n",
    "      all boxes.\n",
    "    min_score_thresh: minimum score threshold for a box to be visualized\n",
    "    agnostic_mode: boolean (default: False) controlling whether to evaluate in\n",
    "      class-agnostic mode or not.  This mode will display scores but ignore\n",
    "      classes.\n",
    "    line_thickness: integer (default: 4) controlling line width of the boxes.\n",
    "    groundtruth_box_visualization_color: box color for visualizing groundtruth\n",
    "      boxes\n",
    "    skip_scores: whether to skip score when drawing a single detection\n",
    "    skip_labels: whether to skip label when drawing a single detection\n",
    "\n",
    "  Returns:\n",
    "    uint8 numpy array with shape (img_height, img_width, 3) with overlaid boxes.\n",
    "  \"\"\"\n",
    "  # Create a display string (and color) for every box location, group any boxes\n",
    "  # that correspond to the same location.\n",
    "  box_to_display_str_map = collections.defaultdict(list)\n",
    "  box_to_color_map = collections.defaultdict(str)\n",
    "  box_to_instance_masks_map = {}\n",
    "  box_to_instance_boundaries_map = {}\n",
    "  box_to_keypoints_map = collections.defaultdict(list)\n",
    "  if not max_boxes_to_draw:\n",
    "    max_boxes_to_draw = boxes.shape[0]\n",
    "  for i in range(min(max_boxes_to_draw, boxes.shape[0])):\n",
    "    if scores is None or scores[i] > min_score_thresh:\n",
    "      box = tuple(boxes[i].tolist())\n",
    "      if instance_masks is not None:\n",
    "        box_to_instance_masks_map[box] = instance_masks[i]\n",
    "      if instance_boundaries is not None:\n",
    "        box_to_instance_boundaries_map[box] = instance_boundaries[i]\n",
    "      if keypoints is not None:\n",
    "        box_to_keypoints_map[box].extend(keypoints[i])\n",
    "      if scores is None:\n",
    "        box_to_color_map[box] = groundtruth_box_visualization_color\n",
    "      else:\n",
    "        display_str = ''\n",
    "        if not skip_labels:\n",
    "          if not agnostic_mode:\n",
    "            if classes[i] in category_index.keys():\n",
    "              class_name = category_index[classes[i]]['name']\n",
    "            else:\n",
    "              class_name = 'N/A'\n",
    "            display_str = str(class_name)\n",
    "        if not skip_scores:\n",
    "          if not display_str:\n",
    "            display_str = '{}%'.format(int(100*scores[i]))\n",
    "          else:\n",
    "            display_str = '{}: {}%'.format(display_str, int(100*scores[i]))\n",
    "        box_to_display_str_map[box].append(display_str)\n",
    "  return box_to_display_str_map"
   ]
  },
  {
   "cell_type": "code",
   "execution_count": 7,
   "metadata": {
    "collapsed": true
   },
   "outputs": [],
   "source": [
    "def load_image_into_numpy_array(image):\n",
    "  (im_width, im_height) = image.size\n",
    "  return np.array(image.getdata()).reshape(\n",
    "      (im_height, im_width, 3)).astype(np.uint8)"
   ]
  },
  {
   "cell_type": "code",
   "execution_count": 8,
   "metadata": {
    "collapsed": true
   },
   "outputs": [],
   "source": [
    "def run_inference_for_single_image(image, graph):\n",
    "  with graph.as_default():\n",
    "    with tf.Session() as sess:\n",
    "      # Get handles to input and output tensors\n",
    "      ops = tf.get_default_graph().get_operations()\n",
    "      all_tensor_names = {output.name for op in ops for output in op.outputs}\n",
    "      tensor_dict = {}\n",
    "      for key in [\n",
    "          'num_detections', 'detection_boxes', 'detection_scores',\n",
    "          'detection_classes', 'detection_masks'\n",
    "      ]:\n",
    "        tensor_name = key + ':0'\n",
    "        if tensor_name in all_tensor_names:\n",
    "          tensor_dict[key] = tf.get_default_graph().get_tensor_by_name(\n",
    "              tensor_name)\n",
    "      if 'detection_masks' in tensor_dict:\n",
    "        # The following processing is only for single image\n",
    "        detection_boxes = tf.squeeze(tensor_dict['detection_boxes'], [0])\n",
    "        detection_masks = tf.squeeze(tensor_dict['detection_masks'], [0])\n",
    "        # Reframe is required to translate mask from box coordinates to image coordinates and fit the image size.\n",
    "        real_num_detection = tf.cast(tensor_dict['num_detections'][0], tf.int32)\n",
    "        detection_boxes = tf.slice(detection_boxes, [0, 0], [real_num_detection, -1])\n",
    "        detection_masks = tf.slice(detection_masks, [0, 0, 0], [real_num_detection, -1, -1])\n",
    "        detection_masks_reframed = utils_ops.reframe_box_masks_to_image_masks(\n",
    "            detection_masks, detection_boxes, image.shape[0], image.shape[1])\n",
    "        detection_masks_reframed = tf.cast(\n",
    "            tf.greater(detection_masks_reframed, 0.5), tf.uint8)\n",
    "        # Follow the convention by adding back the batch dimension\n",
    "        tensor_dict['detection_masks'] = tf.expand_dims(\n",
    "            detection_masks_reframed, 0)\n",
    "      image_tensor = tf.get_default_graph().get_tensor_by_name('image_tensor:0')\n",
    "\n",
    "      # Run inference\n",
    "      output_dict = sess.run(tensor_dict,\n",
    "                             feed_dict={image_tensor: np.expand_dims(image, 0)})\n",
    "\n",
    "      # all outputs are float32 numpy arrays, so convert types as appropriate\n",
    "      output_dict['num_detections'] = int(output_dict['num_detections'][0])\n",
    "      output_dict['detection_classes'] = output_dict[\n",
    "          'detection_classes'][0].astype(np.uint8)\n",
    "      output_dict['detection_boxes'] = output_dict['detection_boxes'][0]\n",
    "      output_dict['detection_scores'] = output_dict['detection_scores'][0]\n",
    "      if 'detection_masks' in output_dict:\n",
    "        output_dict['detection_masks'] = output_dict['detection_masks'][0]\n",
    "  return output_dict"
   ]
  },
  {
   "cell_type": "code",
   "execution_count": 9,
   "metadata": {
    "collapsed": true
   },
   "outputs": [],
   "source": [
    "def tf_process_img(payload):\n",
    "\n",
    "    # the array based representation of the image will be used later in order to prepare the\n",
    "    # result image with boxes and labels on it.\n",
    "    t0 = time.clock()\n",
    "\n",
    "    image = tf.image.decode_jpeg(payload, 3)\n",
    "    with tf.Session() as sess:\n",
    "        image_np = sess.run(image)\n",
    "    #image_np = np.array(payload)\n",
    "    #image_np_expanded = np.expand_dims(image_np, axis=0)\n",
    "    \n",
    "    # Actual detection.\n",
    "    t0_5 = time.clock()\n",
    "    output_dict = run_inference_for_single_image(image_np, detection_graph)\n",
    "    # Visualization of the results of a detection.\n",
    "    results = get_object_locations(\n",
    "        output_dict['detection_boxes'],\n",
    "        output_dict['detection_classes'],\n",
    "        output_dict['detection_scores'],\n",
    "        category_index,\n",
    "        instance_masks=output_dict.get('detection_masks'),\n",
    "        min_score_thresh = .6,\n",
    "        use_normalized_coordinates=True,\n",
    "        line_thickness=8)\n",
    "\n",
    "    t1 = time.clock()\n",
    "    print(\"Time to TF detect:\", t0_5-t0, \", overall time to process\", t1-t0)\n",
    "\n",
    "    return results"
   ]
  },
  {
   "cell_type": "code",
   "execution_count": 10,
   "metadata": {
    "collapsed": true
   },
   "outputs": [],
   "source": [
    "# In[2]:\n",
    "\n",
    "def cv_process_img(image):\n",
    "    result = []    \n",
    "    MIN_MATCH_COUNT = math.ceil(30/(max(largest)/max(image.shape)))*10 # very relaxed matching at 10 matches minimum\n",
    "    print(\"MIN_MATCH_COUNT:\", MIN_MATCH_COUNT)\n",
    "    query_img = image\n",
    "    \n",
    "    t0 = time.clock()\n",
    "    qKP, qDES = detector.detectAndCompute(query_img, None)\n",
    "\n",
    "    try:\n",
    "        matches = matcher.knnMatch(rDES,qDES,k=2)\n",
    "    except:\n",
    "        state = \"Matching Error: not enough query points.\"\n",
    "        result.append(state)\n",
    "        result.append(query_img)\n",
    "        result.append(np.array([]))\n",
    "        t1 = time.clock()\n",
    "        print(state,\"Time to process:\", t1-t0)\n",
    "        result.append((t1-t0))\n",
    "        return result    \n",
    "\n",
    "    # store all the good matches as per Lowe's ratio test.\n",
    "    good = []\n",
    "    distances = []\n",
    "\n",
    "    for m,n in matches:\n",
    "        distances.append(m.distance)\n",
    "        if m.distance < 0.75*n.distance:\n",
    "            good.append(m)\n",
    "\n",
    "    good = sorted(good, key = lambda x:x.distance)\n",
    "    \n",
    "    if len(good)>MIN_MATCH_COUNT:\n",
    "        state = \"Enough matches: object is propbably in view.\"\n",
    "        # extract location of points in both images\n",
    "        src_pts = np.float32([ rKP[m.queryIdx].pt for m in good ]).reshape(-1,1,2)\n",
    "        dst_pts = np.float32([ qKP[m.trainIdx].pt for m in good ]).reshape(-1,1,2)\n",
    "\n",
    "        # find the perspective transform\n",
    "        M, mask = cv2.findHomography(src_pts, dst_pts, cv2.RANSAC,5.0)\n",
    "        matchesMask = mask.ravel().tolist()\n",
    "\n",
    "        # get the transform points in the (captured) query image\n",
    "        h,w = ref_img.shape\n",
    "        pts = np.float32([ [0,0],[0,h-1],[w-1,h-1],[w-1,0] ]).reshape(-1,1,2)\n",
    "        \n",
    "        try:\n",
    "            dst = cv2.perspectiveTransform(pts,M)\n",
    "            # draw the transformed image\n",
    "            result.append(state)\n",
    "            result.append(cv2.drawContours(query_img,[np.int32(dst)],-1,(255,0,0),6))\n",
    "            result.append(dst)\n",
    "        except:\n",
    "            state = \"Error getting perspective transform.\"\n",
    "            result.append(state)\n",
    "            result.append(query_img)\n",
    "            result.append(np.array([]))\n",
    "        finally:\n",
    "            t1 = time.clock()\n",
    "            print(state,\"Time to CV process:\", t1-t0)\n",
    "            result.append((t1-t0))\n",
    "\n",
    "    else:\n",
    "        state = \"Not enough matches:\"+ str(len(good))\n",
    "        result.append(state)\n",
    "        result.append(query_img)\n",
    "        result.append(np.array([]))\n",
    "        t1 = time.clock()\n",
    "        print(state,\"Time to CV process:\", t1-t0)\n",
    "        result.append((t1-t0))\n",
    "\n",
    "    return result"
   ]
  },
  {
   "cell_type": "code",
   "execution_count": 11,
   "metadata": {
    "collapsed": true
   },
   "outputs": [],
   "source": [
    "def resultsToTree(tf_result, cv_result):\n",
    "    mr_objects = Element(\"mr_objects\")\n",
    "\n",
    "    # Adding the results from the TF operation to the XmlTree \n",
    "    for box, name in tf_result.items():\n",
    "        ymin, xmin, ymax, xmax = box\n",
    "        object = SubElement(mr_objects,\"object\")\n",
    "        SubElement(object, \"type\").text = \"TF\"\n",
    "        SubElement(object, \"name\").text = str(name)\n",
    "        SubElement(object, \"ymin\").text = str(ymin)\n",
    "        SubElement(object, \"xmin\").text = str(xmin)\n",
    "        SubElement(object, \"ymax\").text = str(ymax)\n",
    "        SubElement(object, \"xmax\").text = str(xmax)\n",
    "  \n",
    "    if cv_result:\n",
    "        cv_result_list = []\n",
    "        for point in cv_result:\n",
    "            cv_result_list.append(point[0])\n",
    "        cv_exes = sorted(cv_result_list, key=lambda x: x[0])\n",
    "        cv_eyes = sorted(cv_result_list, key=lambda x: x[1])\n",
    "        # Adding the cv_results from the CV detection to the XmlTree\n",
    "        object = SubElement(mr_objects,\"object\")\n",
    "        SubElement(object, \"type\").text = \"CV\"\n",
    "        SubElement(object, \"name\").text = str(name)\n",
    "        SubElement(object, \"ymin\").text = str(cv_result_list[0][1]/300)\n",
    "        SubElement(object, \"xmin\").text = str(cv_result_list[0][0]/300)\n",
    "        SubElement(object, \"ymax\").text = str(cv_result_list[3][1]/300)\n",
    "        SubElement(object, \"xmax\").text = str(cv_result_list[3][0]/300)\n",
    "\n",
    "    tree = ElementTree(mr_objects)\n",
    "    \n",
    "    return tree"
   ]
  },
  {
   "cell_type": "code",
   "execution_count": 12,
   "metadata": {
    "collapsed": true
   },
   "outputs": [],
   "source": [
    "# In[3]:\n",
    "\n",
    "# HTTPRequestHandler class\n",
    "class testHTTPServer_RequestHandler(BaseHTTPRequestHandler):\n",
    "\n",
    "  # GET\n",
    "    def do_GET(self):\n",
    "        # Send response status code\n",
    "        self.send_response(200)\n",
    "\n",
    "        # Send headers\n",
    "        self.send_header('Content-type','text/html')\n",
    "        self.end_headers()\n",
    "\n",
    "        # Send message back to client\n",
    "        message = \"Hello world!\"\n",
    "        # Write content as utf-8 data\n",
    "        self.wfile.write(bytes(message, \"utf8\"))\n",
    "        return\n",
    "    \n",
    "    \n",
    "    def do_POST(self):\n",
    "        print( \"incoming http: \", self.path )\n",
    "        t0 = time.clock()\n",
    "\n",
    "        # Gets the size of data\n",
    "        content_length = int(self.headers['Content-Length'])\n",
    "        content_type = self.headers['Content-type']\n",
    "                \n",
    "        if \"image\" in content_type:\n",
    "            \n",
    "            # Gets the data itself. Also, we over-catch by 16 bytes.\n",
    "            post_data = self.rfile.read(content_length+16)\n",
    "\n",
    "            #print(\"Length of content:\", len(post_data))\n",
    "            #print(\"Before pruning\\n\", post_data)\n",
    "\n",
    "            # We remove the first set of bytes up until the first\n",
    "            # carraige return and newline.\n",
    "            for b in np.arange(len(post_data)):\n",
    "               # Checking where the first newline is\n",
    "                if post_data[b] == 13:\n",
    "                    post_data = post_data[b+2:]\n",
    "                    break\n",
    "                else:\n",
    "                    continue\n",
    "\n",
    "            #stream = BytesIO(post_data)\n",
    "            #tmp = 'tmp.jpg'\n",
    "            #with open('tmp.jpg','wb') as out:\n",
    "            #    out.write(post_data)\n",
    "\n",
    "            #out.close()\n",
    "            # Converting the byte buffer to an numpy array for opencv\n",
    "            nparr = np.fromstring(post_data, np.uint8)\n",
    "            img_np = cv2.imdecode(nparr, cv2.IMREAD_COLOR)\n",
    "\n",
    "            try:\n",
    "                cv_result = cv_process_img(img_np)\n",
    "                tf_result = tf_process_img(post_data)#img_np)\n",
    "                \n",
    "                t1 = time.clock()\n",
    "                resultTree = resultsToTree(tf_result,cv_result[2].tolist())\n",
    "                resultTree.write(\"result.xml\")\n",
    "\n",
    "                #output = 'res.jpg'\n",
    "                #cv2.imwrite(output, cv_result[1])\n",
    "\n",
    "                # Send message back to client\n",
    "                # Write content as utf-8 data\n",
    "                #print(len(final_img))\n",
    "                #if len(final_img)>3:\n",
    "                #    message = bytes(str(cv_result[3])+ \"\\n\" + np.array2string(final_img[2],precision=0,separator=','), \"utf8\")\n",
    "                #    print(str(message))\n",
    "                #else:\n",
    "                #    message = bytes(str(cv_result[3])+ \"\\n\" + cv_result[0], \"utf8\")\n",
    "\n",
    "                t2 = time.clock()\n",
    "                result = 'result.xml'\n",
    "                payload = open(result,'rb')\n",
    "\n",
    "                # Send response\n",
    "                self.send_response(200)\n",
    "                # Send headers\n",
    "                self.send_header('Content-type','text/xml')\n",
    "                self.send_header('Content-length',str(os.path.getsize(result)))\n",
    "                self.end_headers()\n",
    "\n",
    "                self.wfile.write(payload.readline())\n",
    "                #self.wfile.write(bytes(payload, \"utf8\"))\n",
    "                payload.close()\n",
    "            except Exception as e:\n",
    "                t1 = time.clock()\n",
    "                print(e)\n",
    "                t2 = time.clock()\n",
    "                self.send_response(200)\n",
    "                message = 'Detection Error'\n",
    "                self.send_header('Content-type','text/html')\n",
    "                self.end_headers()\n",
    "                self.wfile.write(bytes(message, \"utf8\"))\n",
    "            finally:\n",
    "                t3 = time.clock()                \n",
    "                print(\"Detection time:\", t1-t0)\n",
    "                print(\"XML/Tree operation:\",t2-t1)\n",
    "                print(\"Sending output\", t3-t2)\n",
    "                print(\"Overall time:,\",t3-t0)            \n",
    "\n",
    "        else:\n",
    "            print(\"Content-type is \", content_type,\". Should be image.\")\n",
    "            self.send_response(200)\n",
    "            self.send_header('Content-type','text/html')\n",
    "            self.end_headers()\n",
    "\n",
    "            # Send message back to client\n",
    "            message = \"Object not detected.\"\n",
    "            # Write content as utf-8 data\n",
    "            self.wfile.write(bytes(message, \"utf8\"))\n",
    "\n",
    "        self.close_connection\n",
    "        return\n",
    "        #client.close()"
   ]
  },
  {
   "cell_type": "code",
   "execution_count": null,
   "metadata": {
    "collapsed": true
   },
   "outputs": [],
   "source": [
    "# In[4]:\n",
    "\n",
    "def run():\n",
    "    print('starting server...')\n",
    " \n",
    "  # Server settings\n",
    "  # Choose port 8080, for port 80, which is normally used for a http server, you need root access\n",
    "    server_address = ('0.0.0.0', 8081)\n",
    "    httpd = HTTPServer(server_address, testHTTPServer_RequestHandler)\n",
    "    print('running server...')\n",
    "    httpd.serve_forever()"
   ]
  },
  {
   "cell_type": "code",
   "execution_count": null,
   "metadata": {
    "scrolled": false
   },
   "outputs": [
    {
     "name": "stdout",
     "output_type": "stream",
     "text": [
      "starting server...\n",
      "running server...\n",
      "incoming http:  /\n",
      "MIN_MATCH_COUNT: 30\n",
      "Enough matches: object is propbably in view. Time to CV process: 0.05786900000000017\n",
      "module 'tensorflow.python.ops.image_ops' has no attribute 'eval'\n",
      "Detection time: 0.0724089999999995\n",
      "XML/Tree operation: 0.0004889999999999617\n",
      "Sending output 0.0006339999999998014\n",
      "Overall time:, 0.07353199999999926\n"
     ]
    },
    {
     "name": "stderr",
     "output_type": "stream",
     "text": [
      "150.229.118.95 - - [19/Mar/2018 16:41:19] \"POST / HTTP/1.1\" 200 -\n"
     ]
    },
    {
     "name": "stdout",
     "output_type": "stream",
     "text": [
      "incoming http:  /\n",
      "MIN_MATCH_COUNT: 30\n",
      "Not enough matches:20 Time to CV process: 0.054373000000000005\n",
      "module 'tensorflow.python.ops.image_ops' has no attribute 'eval'\n",
      "Detection time: 0.06457200000000007\n",
      "XML/Tree operation: 0.0002199999999996649\n",
      "Sending output 0.0003539999999997434\n",
      "Overall time:, 0.06514599999999948\n",
      "incoming http:  /\n"
     ]
    },
    {
     "name": "stderr",
     "output_type": "stream",
     "text": [
      "150.229.118.95 - - [19/Mar/2018 16:41:19] \"POST / HTTP/1.1\" 200 -\n",
      "150.229.118.95 - - [19/Mar/2018 16:41:19] \"POST / HTTP/1.1\" 200 -\n"
     ]
    },
    {
     "name": "stdout",
     "output_type": "stream",
     "text": [
      "MIN_MATCH_COUNT: 30\n",
      "Not enough matches:23 Time to CV process: 0.05294700000000052\n",
      "module 'tensorflow.python.ops.image_ops' has no attribute 'eval'\n",
      "Detection time: 0.06336200000000058\n",
      "XML/Tree operation: 0.00012299999999942912\n",
      "Sending output 0.00031400000000036954\n",
      "Overall time:, 0.06379900000000038\n",
      "incoming http:  /\n",
      "MIN_MATCH_COUNT: 30\n",
      "Not enough matches:13 Time to CV process: 0.052519999999999456\n",
      "module 'tensorflow.python.ops.image_ops' has no attribute 'eval'\n",
      "Detection time: 0.06347900000000006\n",
      "XML/Tree operation: 0.00011700000000036681\n",
      "Sending output 0.00048500000000029075\n",
      "Overall time:, 0.06408100000000072\n",
      "incoming http:  /\n",
      "MIN_MATCH_COUNT: 30\n",
      "Not enough matches:26 Time to CV process: 0.045570999999999806\n",
      "module 'tensorflow.python.ops.image_ops' has no attribute 'eval'\n",
      "Detection time: 0.05505699999999969\n",
      "XML/Tree operation: 9.499999999995623e-05\n",
      "Sending output 0.0003500000000000725\n",
      "Overall time:, 0.05550199999999972\n"
     ]
    },
    {
     "name": "stderr",
     "output_type": "stream",
     "text": [
      "150.229.118.95 - - [19/Mar/2018 16:41:20] \"POST / HTTP/1.1\" 200 -\n",
      "150.229.118.95 - - [19/Mar/2018 16:41:20] \"POST / HTTP/1.1\" 200 -\n"
     ]
    },
    {
     "name": "stdout",
     "output_type": "stream",
     "text": [
      "incoming http:  /\n",
      "MIN_MATCH_COUNT: 30\n",
      "Enough matches: object is propbably in view. Time to CV process: 0.05123600000000028\n",
      "module 'tensorflow.python.ops.image_ops' has no attribute 'eval'\n",
      "Detection time: 0.06117000000000061\n",
      "XML/Tree operation: 0.0001029999999992981\n",
      "Sending output 0.0002770000000005268\n",
      "Overall time:, 0.06155000000000044\n",
      "incoming http:  /\n",
      "MIN_MATCH_COUNT: 30\n"
     ]
    },
    {
     "name": "stderr",
     "output_type": "stream",
     "text": [
      "150.229.118.95 - - [19/Mar/2018 16:41:20] \"POST / HTTP/1.1\" 200 -\n",
      "150.229.118.95 - - [19/Mar/2018 16:41:20] \"POST / HTTP/1.1\" 200 -\n"
     ]
    },
    {
     "name": "stdout",
     "output_type": "stream",
     "text": [
      "Not enough matches:17 Time to CV process: 0.04536799999999985\n",
      "module 'tensorflow.python.ops.image_ops' has no attribute 'eval'\n",
      "Detection time: 0.05497400000000052\n",
      "XML/Tree operation: 0.0003009999999994406\n",
      "Sending output 0.0003150000000005093\n",
      "Overall time:, 0.05559000000000047\n",
      "incoming http:  /\n",
      "MIN_MATCH_COUNT: 30\n",
      "Enough matches: object is propbably in view. Time to CV process: 0.04963599999999957\n",
      "module 'tensorflow.python.ops.image_ops' has no attribute 'eval'\n",
      "Detection time: 0.06015700000000024\n",
      "XML/Tree operation: 0.00011699999999947863\n",
      "Sending output 0.0003549999999998832\n",
      "Overall time:, 0.0606289999999996\n"
     ]
    },
    {
     "name": "stderr",
     "output_type": "stream",
     "text": [
      "150.229.118.95 - - [19/Mar/2018 16:41:20] \"POST / HTTP/1.1\" 200 -\n",
      "150.229.118.95 - - [19/Mar/2018 16:41:20] \"POST / HTTP/1.1\" 200 -\n"
     ]
    },
    {
     "name": "stdout",
     "output_type": "stream",
     "text": [
      "incoming http:  /\n",
      "MIN_MATCH_COUNT: 30\n",
      "Not enough matches:28 Time to CV process: 0.04546700000000037\n",
      "module 'tensorflow.python.ops.image_ops' has no attribute 'eval'\n",
      "Detection time: 0.05601499999999948\n",
      "XML/Tree operation: 0.00022300000000008424\n",
      "Sending output 0.00038400000000038403\n",
      "Overall time:, 0.05662199999999995\n",
      "incoming http:  /\n",
      "MIN_MATCH_COUNT: 30\n",
      "Not enough matches:25 Time to CV process: 0.05132799999999982\n",
      "module 'tensorflow.python.ops.image_ops' has no attribute 'eval'\n",
      "Detection time: 0.06001700000000021\n",
      "XML/Tree operation: 0.0001559999999996009\n",
      "Sending output 0.0005209999999999937\n",
      "Overall time:, 0.060693999999999804\n"
     ]
    },
    {
     "name": "stderr",
     "output_type": "stream",
     "text": [
      "150.229.118.95 - - [19/Mar/2018 16:41:21] \"POST / HTTP/1.1\" 200 -\n"
     ]
    },
    {
     "name": "stdout",
     "output_type": "stream",
     "text": [
      "incoming http:  /\n",
      "MIN_MATCH_COUNT: 30\n",
      "Not enough matches:24 Time to CV process: 0.048975000000000435\n",
      "module 'tensorflow.python.ops.image_ops' has no attribute 'eval'\n",
      "Detection time: 0.05813800000000047\n",
      "XML/Tree operation: 0.0002689999999994086\n",
      "Sending output 0.0004020000000002355\n",
      "Overall time:, 0.05880900000000011\n"
     ]
    },
    {
     "name": "stderr",
     "output_type": "stream",
     "text": [
      "150.229.118.95 - - [19/Mar/2018 16:41:21] \"POST / HTTP/1.1\" 200 -\n"
     ]
    },
    {
     "name": "stdout",
     "output_type": "stream",
     "text": [
      "incoming http:  /\n",
      "MIN_MATCH_COUNT: 30\n",
      "Not enough matches:26 Time to CV process: 0.04682999999999993\n",
      "module 'tensorflow.python.ops.image_ops' has no attribute 'eval'\n",
      "Detection time: 0.05680800000000019\n",
      "XML/Tree operation: 0.00021799999999938535\n",
      "Sending output 0.0003590000000004423\n",
      "Overall time:, 0.05738500000000002\n"
     ]
    },
    {
     "name": "stderr",
     "output_type": "stream",
     "text": [
      "150.229.118.95 - - [19/Mar/2018 16:41:21] \"POST / HTTP/1.1\" 200 -\n"
     ]
    },
    {
     "name": "stdout",
     "output_type": "stream",
     "text": [
      "incoming http:  /\n",
      "MIN_MATCH_COUNT: 30\n",
      "Enough matches: object is propbably in view. Time to CV process: 0.05827599999999933\n",
      "module 'tensorflow.python.ops.image_ops' has no attribute 'eval'\n",
      "Detection time: 0.06792400000000054\n",
      "XML/Tree operation: 5.2999999999414626e-05\n",
      "Sending output 0.0005990000000002382\n",
      "Overall time:, 0.06857600000000019\n"
     ]
    },
    {
     "name": "stderr",
     "output_type": "stream",
     "text": [
      "150.229.118.95 - - [19/Mar/2018 16:41:21] \"POST / HTTP/1.1\" 200 -\n"
     ]
    },
    {
     "name": "stdout",
     "output_type": "stream",
     "text": [
      "incoming http:  /\n",
      "MIN_MATCH_COUNT: 30\n",
      "Not enough matches:23 Time to CV process: 0.04813400000000012\n",
      "module 'tensorflow.python.ops.image_ops' has no attribute 'eval'\n",
      "Detection time: 0.05817400000000017\n",
      "XML/Tree operation: 0.0001509999999997902\n",
      "Sending output 0.0005410000000001247\n",
      "Overall time:, 0.058866000000000085\n"
     ]
    },
    {
     "name": "stderr",
     "output_type": "stream",
     "text": [
      "150.229.118.95 - - [19/Mar/2018 16:41:22] \"POST / HTTP/1.1\" 200 -\n"
     ]
    },
    {
     "name": "stdout",
     "output_type": "stream",
     "text": [
      "incoming http:  /\n",
      "MIN_MATCH_COUNT: 30\n",
      "Enough matches: object is propbably in view. Time to CV process: 0.05542200000000008\n",
      "module 'tensorflow.python.ops.image_ops' has no attribute 'eval'\n",
      "Detection time: 0.06541799999999931\n",
      "XML/Tree operation: 0.0001760000000006201\n",
      "Sending output 0.0005969999999999587\n",
      "Overall time:, 0.06619099999999989\n"
     ]
    },
    {
     "name": "stderr",
     "output_type": "stream",
     "text": [
      "150.229.118.95 - - [19/Mar/2018 16:41:22] \"POST / HTTP/1.1\" 200 -\n"
     ]
    },
    {
     "name": "stdout",
     "output_type": "stream",
     "text": [
      "incoming http:  /\n",
      "MIN_MATCH_COUNT: 30\n",
      "Not enough matches:14 Time to CV process: 0.043707000000000384\n",
      "module 'tensorflow.python.ops.image_ops' has no attribute 'eval'\n",
      "Detection time: 0.053105999999999653\n",
      "XML/Tree operation: 0.00011300000000069588\n",
      "Sending output 0.0003599999999996939\n",
      "Overall time:, 0.05357900000000004\n"
     ]
    },
    {
     "name": "stderr",
     "output_type": "stream",
     "text": [
      "150.229.118.95 - - [19/Mar/2018 16:41:22] \"POST / HTTP/1.1\" 200 -\n"
     ]
    },
    {
     "name": "stdout",
     "output_type": "stream",
     "text": [
      "incoming http:  /\n",
      "MIN_MATCH_COUNT: 30\n",
      "Enough matches: object is propbably in view. Time to CV process: 0.06776699999999991\n",
      "module 'tensorflow.python.ops.image_ops' has no attribute 'eval'\n",
      "Detection time: 0.07795400000000008\n",
      "XML/Tree operation: 0.000300000000000189\n",
      "Sending output 0.00046999999999997044\n",
      "Overall time:, 0.07872400000000024\n"
     ]
    },
    {
     "name": "stderr",
     "output_type": "stream",
     "text": [
      "150.229.118.95 - - [19/Mar/2018 16:41:22] \"POST / HTTP/1.1\" 200 -\n"
     ]
    },
    {
     "name": "stdout",
     "output_type": "stream",
     "text": [
      "incoming http:  /\n",
      "MIN_MATCH_COUNT: 30\n",
      "Enough matches: object is propbably in view. Time to CV process: 0.05230700000000077\n",
      "module 'tensorflow.python.ops.image_ops' has no attribute 'eval'\n",
      "Detection time: 0.06309200000000015\n",
      "XML/Tree operation: 0.00029300000000009874\n",
      "Sending output 0.0004770000000000607\n",
      "Overall time:, 0.06386200000000031\n"
     ]
    },
    {
     "name": "stderr",
     "output_type": "stream",
     "text": [
      "150.229.118.95 - - [19/Mar/2018 16:41:23] \"POST / HTTP/1.1\" 200 -\n"
     ]
    },
    {
     "name": "stdout",
     "output_type": "stream",
     "text": [
      "incoming http:  /\n",
      "MIN_MATCH_COUNT: 30\n",
      "Enough matches: object is propbably in view. Time to CV process: 0.048343000000000025\n",
      "module 'tensorflow.python.ops.image_ops' has no attribute 'eval'\n",
      "Detection time: 0.05846099999999943\n",
      "XML/Tree operation: 0.00020700000000051233\n",
      "Sending output 0.0005399999999999849\n",
      "Overall time:, 0.05920799999999993\n",
      "incoming http:  "
     ]
    },
    {
     "name": "stderr",
     "output_type": "stream",
     "text": [
      "150.229.118.95 - - [19/Mar/2018 16:41:23] \"POST / HTTP/1.1\" 200 -\n"
     ]
    },
    {
     "name": "stdout",
     "output_type": "stream",
     "text": [
      "/\n",
      "MIN_MATCH_COUNT: 30\n",
      "Not enough matches:19 Time to CV process: 0.05228699999999975\n",
      "module 'tensorflow.python.ops.image_ops' has no attribute 'eval'\n",
      "Detection time: 0.06200500000000009\n",
      "XML/Tree operation: 0.00015800000000076864\n",
      "Sending output 0.00031899999999929207\n",
      "Overall time:, 0.06248200000000015\n",
      "incoming http:  /\n",
      "MIN_MATCH_COUNT: 30\n",
      "Enough matches: object is propbably in view. Time to CV process: 0.04581799999999969\n",
      "module 'tensorflow.python.ops.image_ops' has no attribute 'eval'\n",
      "Detection time: 0.05568700000000071\n",
      "XML/Tree operation: 0.00010499999999957765\n",
      "Sending output 0.00036799999999992394\n",
      "Overall time:, 0.05616000000000021\n"
     ]
    },
    {
     "name": "stderr",
     "output_type": "stream",
     "text": [
      "150.229.118.95 - - [19/Mar/2018 16:41:23] \"POST / HTTP/1.1\" 200 -\n",
      "150.229.118.95 - - [19/Mar/2018 16:41:23] \"POST / HTTP/1.1\" 200 -\n"
     ]
    },
    {
     "name": "stdout",
     "output_type": "stream",
     "text": [
      "incoming http:  /\n",
      "MIN_MATCH_COUNT: 30\n",
      "Enough matches: object is propbably in view. Time to CV process: 0.05614799999999942\n",
      "module 'tensorflow.python.ops.image_ops' has no attribute 'eval'\n",
      "Detection time: 0.06597199999999948\n",
      "XML/Tree operation: 0.00018999999999991246\n",
      "Sending output 0.0005000000000006111\n",
      "Overall time:, 0.066662\n"
     ]
    },
    {
     "name": "stderr",
     "output_type": "stream",
     "text": [
      "150.229.118.95 - - [19/Mar/2018 16:41:24] \"POST / HTTP/1.1\" 200 -\n"
     ]
    },
    {
     "name": "stdout",
     "output_type": "stream",
     "text": [
      "incoming http:  /\n",
      "MIN_MATCH_COUNT: 30\n",
      "Not enough matches:20 Time to CV process: 0.04689700000000041\n",
      "module 'tensorflow.python.ops.image_ops' has no attribute 'eval'\n",
      "Detection time: 0.05464800000000025\n",
      "XML/Tree operation: 0.0002940000000002385\n",
      "Sending output 0.000408000000000186\n",
      "Overall time:, 0.055350000000000676\n",
      "incoming http:  /\n"
     ]
    },
    {
     "name": "stderr",
     "output_type": "stream",
     "text": [
      "150.229.118.95 - - [19/Mar/2018 16:41:24] \"POST / HTTP/1.1\" 200 -\n",
      "150.229.118.95 - - [19/Mar/2018 16:41:24] \"POST / HTTP/1.1\" 200 -\n"
     ]
    },
    {
     "name": "stdout",
     "output_type": "stream",
     "text": [
      "MIN_MATCH_COUNT: 30\n",
      "Not enough matches:13 Time to CV process: 0.04005000000000081\n",
      "module 'tensorflow.python.ops.image_ops' has no attribute 'eval'\n",
      "Detection time: 0.050160999999999234\n",
      "XML/Tree operation: 0.00018600000000024153\n",
      "Sending output 0.0004660000000002995\n",
      "Overall time:, 0.050812999999999775\n",
      "incoming http:  /\n",
      "MIN_MATCH_COUNT: 30\n",
      "Not enough matches:24 Time to CV process: 0.042016000000000275\n",
      "module 'tensorflow.python.ops.image_ops' has no attribute 'eval'\n",
      "Detection time: 0.052533000000000385\n",
      "XML/Tree operation: 0.0002149999999998542\n",
      "Sending output 0.0003530000000004918\n",
      "Overall time:, 0.05310100000000073\n"
     ]
    },
    {
     "name": "stderr",
     "output_type": "stream",
     "text": [
      "150.229.118.95 - - [19/Mar/2018 16:41:24] \"POST / HTTP/1.1\" 200 -\n"
     ]
    },
    {
     "name": "stdout",
     "output_type": "stream",
     "text": [
      "incoming http:  /\n",
      "MIN_MATCH_COUNT: 30\n",
      "Not enough matches:15 Time to CV process: 0.03584500000000013\n",
      "module 'tensorflow.python.ops.image_ops' has no attribute 'eval'\n",
      "Detection time: 0.044188000000000116\n",
      "XML/Tree operation: 9.399999999981645e-05\n",
      "Sending output 0.0003389999999994231\n",
      "Overall time:, 0.044620999999999356\n",
      "incoming http:  /\n",
      "MIN_MATCH_COUNT: 30\n"
     ]
    },
    {
     "name": "stderr",
     "output_type": "stream",
     "text": [
      "150.229.118.95 - - [19/Mar/2018 16:41:24] \"POST / HTTP/1.1\" 200 -\n",
      "150.229.118.95 - - [19/Mar/2018 16:41:25] \"POST / HTTP/1.1\" 200 -\n"
     ]
    },
    {
     "name": "stdout",
     "output_type": "stream",
     "text": [
      "Enough matches: object is propbably in view. Time to CV process: 0.05085500000000032\n",
      "module 'tensorflow.python.ops.image_ops' has no attribute 'eval'\n",
      "Detection time: 0.059917999999999694\n",
      "XML/Tree operation: 8.300000000005525e-05\n",
      "Sending output 0.0003470000000005413\n",
      "Overall time:, 0.06034800000000029\n",
      "incoming http:  /\n",
      "MIN_MATCH_COUNT: 30\n",
      "Not enough matches:19 Time to CV process: 0.03856400000000004\n",
      "module 'tensorflow.python.ops.image_ops' has no attribute 'eval'\n",
      "Detection time: 0.04813000000000045\n",
      "XML/Tree operation: 0.00018699999999949313\n",
      "Sending output 0.00036300000000011323\n",
      "Overall time:, 0.04868000000000006\n"
     ]
    },
    {
     "name": "stderr",
     "output_type": "stream",
     "text": [
      "150.229.118.95 - - [19/Mar/2018 16:41:25] \"POST / HTTP/1.1\" 200 -\n"
     ]
    }
   ],
   "source": [
    "# In[5]:\n",
    "\n",
    "run()"
   ]
  },
  {
   "cell_type": "code",
   "execution_count": null,
   "metadata": {
    "collapsed": true
   },
   "outputs": [],
   "source": []
  }
 ],
 "metadata": {
  "kernelspec": {
   "display_name": "Python 3",
   "language": "python",
   "name": "python3"
  },
  "language_info": {
   "codemirror_mode": {
    "name": "ipython",
    "version": 3
   },
   "file_extension": ".py",
   "mimetype": "text/x-python",
   "name": "python",
   "nbconvert_exporter": "python",
   "pygments_lexer": "ipython3",
   "version": "3.6.3"
  }
 },
 "nbformat": 4,
 "nbformat_minor": 2
}
