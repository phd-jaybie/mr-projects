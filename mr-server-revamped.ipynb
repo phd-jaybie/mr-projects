{
 "cells": [
  {
   "cell_type": "code",
   "execution_count": 1,
   "metadata": {
    "collapsed": true
   },
   "outputs": [],
   "source": [
    "%matplotlib inline\n",
    "# Created: 5-Jul-2018\n",
    "# This is a code version of the original MR but will receive detection\n",
    "# information so that we can separate the processing whether it is \n",
    "# OpenCV-based (i.e. SIFT, ORB, classical, etc.) or TF-based.\n",
    "\n",
    "from matplotlib import pyplot as plt\n"
   ]
  },
  {
   "cell_type": "code",
   "execution_count": 2,
   "metadata": {
    "collapsed": true
   },
   "outputs": [],
   "source": [
    "# coding: utf-8\n",
    "\n",
    "# In[1]:\n",
    "\n",
    "\n",
    "#!/usr/bin/env python\n",
    "\n",
    "import cv2\n",
    "import numpy as np\n",
    "import sys\n",
    "import time\n",
    "#import requests\n",
    "import math\n",
    "\n",
    "import os\n",
    "import six.moves.urllib as urllib\n",
    "import tensorflow as tf\n",
    "import zipfile\n",
    "import collections\n",
    "import warnings\n",
    "warnings.filterwarnings(\"ignore\")\n",
    "\n",
    "from xml.etree.ElementTree import Element, SubElement, Comment, tostring, ElementTree\n",
    "from http.server import BaseHTTPRequestHandler, HTTPServer\n",
    "from collections import defaultdict\n",
    "from io import StringIO, BytesIO\n",
    "from matplotlib import pyplot as plt\n",
    "from PIL import Image"
   ]
  },
  {
   "cell_type": "code",
   "execution_count": 3,
   "metadata": {
    "collapsed": true
   },
   "outputs": [],
   "source": [
    "# This is needed to add the tf-object detecton api modules\n",
    "sys.path.append(\"/Users/deg032/models/research\")\n",
    "from object_detection.utils import ops as utils_ops\n",
    "from object_detection.utils import label_map_util\n",
    "from object_detection.utils import visualization_utils as vis_util\n",
    "\n",
    "if tf.__version__ < '1.4.0':\n",
    "  raise ImportError('Please upgrade your tensorflow installation to v1.4.* or later!')"
   ]
  },
  {
   "cell_type": "code",
   "execution_count": 4,
   "metadata": {
    "collapsed": true
   },
   "outputs": [],
   "source": [
    "from ar_markers.hamming.detect import detect_markers"
   ]
  },
  {
   "cell_type": "code",
   "execution_count": 5,
   "metadata": {
    "collapsed": true,
    "scrolled": true
   },
   "outputs": [],
   "source": [
    "# Global parameters\n",
    "detection_mode = \"SIFT\" #default to SIFT\n",
    "\n",
    "# OpenCV parameters\n",
    "search_params = dict(checks = 20) # this is for the flann-based matcher\n",
    "largest = {4032, 3024}\n",
    "\n",
    "ref = \"res/unsw.png\"\n",
    "ref_img = cv2.imread(ref, 0)\n",
    "\n",
    "# SIFT parameters\n",
    "siftDetector = cv2.xfeatures2d.SIFT_create()\n",
    "FLANN_INDEX_KDTREE = 0\n",
    "index_params = dict(algorithm = FLANN_INDEX_KDTREE, tree = 5)\n",
    "siftMatcher = cv2.FlannBasedMatcher(index_params, search_params)\n",
    "rsKP, rsDES = siftDetector.detectAndCompute(ref_img, None)\n",
    "\n",
    "# ORB parameters\n",
    "orbDetector = cv2.ORB_create()\n",
    "#descriptor = cv2.xfeatures2d.SIFT_create()\n",
    "orbMatcher = cv2.BFMatcher(cv2.NORM_HAMMING, crossCheck=True) # for ORB keypoints\n",
    "roKP, roDES = orbDetector.detectAndCompute(ref_img,None)"
   ]
  },
  {
   "cell_type": "code",
   "execution_count": 6,
   "metadata": {
    "collapsed": true
   },
   "outputs": [],
   "source": [
    "# Main tasks\n",
    "\n",
    "# What model to use.\n",
    "MODEL_NAME = 'ssd_mobilenet_v1_coco_2017_11_17'\n",
    "#MODEL_FILE = MODEL_NAME + '.tar.gz'\n",
    "OBJ_API_BASE = '/Users/deg032/models/research/object_detection/'\n",
    "\n",
    "# Path to frozen detection graph. This is the actual model that is used for the object detection.\n",
    "PATH_TO_CKPT = MODEL_NAME + '/frozen_inference_graph.pb'\n",
    "\n",
    "# List of the strings that is used to add correct label for each box.\n",
    "PATH_TO_LABELS = os.path.join('data', 'mscoco_label_map.pbtxt')\n",
    "\n",
    "NUM_CLASSES = 90"
   ]
  },
  {
   "cell_type": "code",
   "execution_count": 7,
   "metadata": {
    "collapsed": true
   },
   "outputs": [],
   "source": [
    "detection_graph = tf.Graph()\n",
    "with detection_graph.as_default():\n",
    "  od_graph_def = tf.GraphDef()\n",
    "  with tf.gfile.GFile(OBJ_API_BASE + PATH_TO_CKPT, 'rb') as fid:\n",
    "    serialized_graph = fid.read()\n",
    "    od_graph_def.ParseFromString(serialized_graph)\n",
    "    tf.import_graph_def(od_graph_def, name='')\n",
    "    \n",
    "label_map = label_map_util.load_labelmap(OBJ_API_BASE + PATH_TO_LABELS)\n",
    "categories = label_map_util.convert_label_map_to_categories(label_map, max_num_classes=NUM_CLASSES, use_display_name=True)\n",
    "category_index = label_map_util.create_category_index(categories)"
   ]
  },
  {
   "cell_type": "code",
   "execution_count": 8,
   "metadata": {
    "collapsed": true
   },
   "outputs": [],
   "source": [
    "def get_object_locations(\n",
    "    boxes,\n",
    "    classes,\n",
    "    scores,\n",
    "    category_index,\n",
    "    instance_masks=None,\n",
    "    instance_boundaries=None,\n",
    "    keypoints=None,\n",
    "    use_normalized_coordinates=False,\n",
    "    max_boxes_to_draw=20,\n",
    "    min_score_thresh=.5,\n",
    "    agnostic_mode=False,\n",
    "    line_thickness=4,\n",
    "    groundtruth_box_visualization_color='black',\n",
    "    skip_scores=False,\n",
    "    skip_labels=False):\n",
    "  \"\"\"This is an adaptation of the function from the visualization_utils\n",
    "  named 'visualize_boxes_and_labels_on_image_array' but does not embed the\n",
    "  masks to the image directly but just extract the relative position of\n",
    "  objects within the view. This is to prevent sharing raw visual informa-\n",
    "  tion to intended third parties interested to know the detected objects.\n",
    "  \n",
    "  Overlay labeled boxes on an image with formatted scores and label names.\n",
    "\n",
    "  This function groups boxes that correspond to the same location\n",
    "  and creates a display string for each detection and overlays these\n",
    "  on the image. Note that this function modifies the image in place, and returns\n",
    "  that same image.\n",
    "\n",
    "  Args:\n",
    "    image: uint8 numpy array with shape (img_height, img_width, 3)\n",
    "    boxes: a numpy array of shape [N, 4]\n",
    "    classes: a numpy array of shape [N]. Note that class indices are 1-based,\n",
    "      and match the keys in the label map.\n",
    "    scores: a numpy array of shape [N] or None.  If scores=None, then\n",
    "      this function assumes that the boxes to be plotted are groundtruth\n",
    "      boxes and plot all boxes as black with no classes or scores.\n",
    "    category_index: a dict containing category dictionaries (each holding\n",
    "      category index `id` and category name `name`) keyed by category indices.\n",
    "    instance_masks: a numpy array of shape [N, image_height, image_width] with\n",
    "      values ranging between 0 and 1, can be None.\n",
    "    instance_boundaries: a numpy array of shape [N, image_height, image_width]\n",
    "      with values ranging between 0 and 1, can be None.\n",
    "    keypoints: a numpy array of shape [N, num_keypoints, 2], can\n",
    "      be None\n",
    "    use_normalized_coordinates: whether boxes is to be interpreted as\n",
    "      normalized coordinates or not.\n",
    "    max_boxes_to_draw: maximum number of boxes to visualize.  If None, draw\n",
    "      all boxes.\n",
    "    min_score_thresh: minimum score threshold for a box to be visualized\n",
    "    agnostic_mode: boolean (default: False) controlling whether to evaluate in\n",
    "      class-agnostic mode or not.  This mode will display scores but ignore\n",
    "      classes.\n",
    "    line_thickness: integer (default: 4) controlling line width of the boxes.\n",
    "    groundtruth_box_visualization_color: box color for visualizing groundtruth\n",
    "      boxes\n",
    "    skip_scores: whether to skip score when drawing a single detection\n",
    "    skip_labels: whether to skip label when drawing a single detection\n",
    "\n",
    "  Returns:\n",
    "    uint8 numpy array with shape (img_height, img_width, 3) with overlaid boxes.\n",
    "  \"\"\"\n",
    "  # Create a display string (and color) for every box location, group any boxes\n",
    "  # that correspond to the same location.\n",
    "  box_to_display_str_map = collections.defaultdict(list)\n",
    "  box_to_color_map = collections.defaultdict(str)\n",
    "  box_to_instance_masks_map = {}\n",
    "  box_to_instance_boundaries_map = {}\n",
    "  box_to_keypoints_map = collections.defaultdict(list)\n",
    "  if not max_boxes_to_draw:\n",
    "    max_boxes_to_draw = boxes.shape[0]\n",
    "  for i in range(min(max_boxes_to_draw, boxes.shape[0])):\n",
    "    if scores is None or scores[i] > min_score_thresh:\n",
    "      box = tuple(boxes[i].tolist())\n",
    "      if instance_masks is not None:\n",
    "        box_to_instance_masks_map[box] = instance_masks[i]\n",
    "      if instance_boundaries is not None:\n",
    "        box_to_instance_boundaries_map[box] = instance_boundaries[i]\n",
    "      if keypoints is not None:\n",
    "        box_to_keypoints_map[box].extend(keypoints[i])\n",
    "      if scores is None:\n",
    "        box_to_color_map[box] = groundtruth_box_visualization_color\n",
    "      else:\n",
    "        display_str = ''\n",
    "        if not skip_labels:\n",
    "          if not agnostic_mode:\n",
    "            if classes[i] in category_index.keys():\n",
    "              class_name = category_index[classes[i]]['name']\n",
    "            else:\n",
    "              class_name = 'N/A'\n",
    "            display_str = str(class_name)\n",
    "        if not skip_scores:\n",
    "          if not display_str:\n",
    "            display_str = '{}%'.format(int(100*scores[i]))\n",
    "          else:\n",
    "            display_str = '{}: {}%'.format(display_str, int(100*scores[i]))\n",
    "        box_to_display_str_map[box].append(display_str)\n",
    "  return box_to_display_str_map"
   ]
  },
  {
   "cell_type": "code",
   "execution_count": 9,
   "metadata": {
    "collapsed": true
   },
   "outputs": [],
   "source": [
    "def load_image_into_numpy_array(image):\n",
    "  (im_width, im_height) = image.size\n",
    "  return np.array(image.getdata()).reshape(\n",
    "      (im_height, im_width, 3)).astype(np.uint8)"
   ]
  },
  {
   "cell_type": "code",
   "execution_count": 10,
   "metadata": {
    "collapsed": true
   },
   "outputs": [],
   "source": [
    "def run_inference_for_single_image(image, graph):\n",
    "  with graph.as_default():\n",
    "    with tf.Session() as sess:\n",
    "      # Get handles to input and output tensors\n",
    "      ops = tf.get_default_graph().get_operations()\n",
    "      all_tensor_names = {output.name for op in ops for output in op.outputs}\n",
    "      tensor_dict = {}\n",
    "      for key in [\n",
    "          'num_detections', 'detection_boxes', 'detection_scores',\n",
    "          'detection_classes', 'detection_masks'\n",
    "      ]:\n",
    "        tensor_name = key + ':0'\n",
    "        if tensor_name in all_tensor_names:\n",
    "          tensor_dict[key] = tf.get_default_graph().get_tensor_by_name(\n",
    "              tensor_name)\n",
    "      if 'detection_masks' in tensor_dict:\n",
    "        # The following processing is only for single image\n",
    "        detection_boxes = tf.squeeze(tensor_dict['detection_boxes'], [0])\n",
    "        detection_masks = tf.squeeze(tensor_dict['detection_masks'], [0])\n",
    "        # Reframe is required to translate mask from box coordinates to image coordinates and fit the image size.\n",
    "        real_num_detection = tf.cast(tensor_dict['num_detections'][0], tf.int32)\n",
    "        detection_boxes = tf.slice(detection_boxes, [0, 0], [real_num_detection, -1])\n",
    "        detection_masks = tf.slice(detection_masks, [0, 0, 0], [real_num_detection, -1, -1])\n",
    "        detection_masks_reframed = utils_ops.reframe_box_masks_to_image_masks(\n",
    "            detection_masks, detection_boxes, image.shape[0], image.shape[1])\n",
    "        detection_masks_reframed = tf.cast(\n",
    "            tf.greater(detection_masks_reframed, 0.5), tf.uint8)\n",
    "        # Follow the convention by adding back the batch dimension\n",
    "        tensor_dict['detection_masks'] = tf.expand_dims(\n",
    "            detection_masks_reframed, 0)\n",
    "      image_tensor = tf.get_default_graph().get_tensor_by_name('image_tensor:0')\n",
    "\n",
    "      # Run inference\n",
    "      output_dict = sess.run(tensor_dict,\n",
    "                             feed_dict={image_tensor: np.expand_dims(image, 0)})\n",
    "\n",
    "      # all outputs are float32 numpy arrays, so convert types as appropriate\n",
    "      output_dict['num_detections'] = int(output_dict['num_detections'][0])\n",
    "      output_dict['detection_classes'] = output_dict[\n",
    "          'detection_classes'][0].astype(np.uint8)\n",
    "      output_dict['detection_boxes'] = output_dict['detection_boxes'][0]\n",
    "      output_dict['detection_scores'] = output_dict['detection_scores'][0]\n",
    "      if 'detection_masks' in output_dict:\n",
    "        output_dict['detection_masks'] = output_dict['detection_masks'][0]\n",
    "  return output_dict"
   ]
  },
  {
   "cell_type": "code",
   "execution_count": 11,
   "metadata": {
    "collapsed": true
   },
   "outputs": [],
   "source": [
    "def tf_process_img(payload):\n",
    "\n",
    "    # the array based representation of the image will be used later in order to prepare the\n",
    "    # result image with boxes and labels on it.\n",
    "    t0 = time.time()\n",
    "    \n",
    "    image = Image.open(BytesIO(payload))\n",
    "    image_np = load_image_into_numpy_array(image)\n",
    "    \n",
    "    #image_np = np.array(payload)\n",
    "    #image_np_expanded = np.expand_dims(image_np, axis=0)\n",
    "    \n",
    "    # Actual detection.\n",
    "    t0_5 = time.time()\n",
    "    output_dict = run_inference_for_single_image(image_np, detection_graph)\n",
    "    # Visualization of the results of a detection.\n",
    "    results = get_object_locations(\n",
    "        output_dict['detection_boxes'],\n",
    "        output_dict['detection_classes'],\n",
    "        output_dict['detection_scores'],\n",
    "        category_index,\n",
    "        instance_masks=output_dict.get('detection_masks'),\n",
    "        min_score_thresh = .6,\n",
    "        use_normalized_coordinates=True,\n",
    "        line_thickness=8)\n",
    "\n",
    "    t1 = time.time()\n",
    "    \n",
    "    tf_detect = t0_5 - t0\n",
    "    tf_io = t1-t0\n",
    "    #print(\"Time to TF detect:\", t0_5-t0, \", overall time to TF detect\", t1-t0)\n",
    "\n",
    "    return results, tf_detect, tf_io"
   ]
  },
  {
   "cell_type": "code",
   "execution_count": 12,
   "metadata": {
    "collapsed": true
   },
   "outputs": [],
   "source": [
    "def marker_process(payload):\n",
    "    \n",
    "    t0 = time.time()\n",
    "    nparr = np.fromstring(payload, np.uint8)\n",
    "    image = cv2.imdecode(nparr, cv2.IMREAD_COLOR)\n",
    "    \n",
    "    plt.imshow(image)\n",
    "    \n",
    "    markers = detect_markers(image)\n",
    "    \n",
    "    t1 = time.time() - t0\n",
    "    return markers, t1"
   ]
  },
  {
   "cell_type": "code",
   "execution_count": 13,
   "metadata": {
    "collapsed": true
   },
   "outputs": [],
   "source": [
    "# In[2]:\n",
    "\n",
    "def cv_process_img(payload):\n",
    "    \n",
    "    nparr = np.fromstring(payload, np.uint8)\n",
    "    image = cv2.imdecode(nparr, cv2.IMREAD_COLOR)\n",
    "            \n",
    "    result = []    \n",
    "    MIN_MATCH_COUNT = math.ceil(30/(max(largest)/max(image.shape)))*10 # very relaxed matching at 10 matches minimum\n",
    "    #print(\"MIN_MATCH_COUNT:\", MIN_MATCH_COUNT)\n",
    "    #print(\"Image size:\",image.shape)\n",
    "    query_img = image\n",
    "    \n",
    "    t0 = time.time()\n",
    "\n",
    "    if \"ORB\" in detection_mode:\n",
    "        \n",
    "        rKP, rDES = roKP, roDES\n",
    "        qKP, qDES = orbDetector.detectAndCompute(query_img, None)\n",
    "        \n",
    "        try:\n",
    "            good = orbMatcher.match(rDES,qDESA)\n",
    "        except:\n",
    "            state = \"Matching Error: not enough query points.\"\n",
    "            result.append(state)\n",
    "            result.append(query_img)\n",
    "            result.append(np.array([]))\n",
    "            t1 = time.time()\n",
    "            cv_time = t1-t0 #print(state,\"Time to process:\", t1-t0)\n",
    "            result.append((t1-t0))\n",
    "            return result \n",
    "        \n",
    "    else:\n",
    "        # Default to SIFT if non-TF\n",
    "        \n",
    "        rKP, rDES = rsKP, rsDES\n",
    "        qKP, qDES = siftDetector.detectAndCompute(query_img, None)\n",
    "        \n",
    "        try:\n",
    "            matches = siftMatcher.knnMatch(rDES,qDES,k=2)\n",
    "        except:\n",
    "            state = \"Matching Error: not enough query points.\"\n",
    "            result.append(state)\n",
    "            result.append(query_img)\n",
    "            result.append(np.array([]))\n",
    "            t1 = time.time()\n",
    "            cv_time = t1-t0 #print(state,\"Time to process:\", t1-t0)\n",
    "            result.append((t1-t0))\n",
    "            return result    \n",
    "\n",
    "        # store all the good matches as per Lowe's ratio test.\n",
    "        good = []\n",
    "        distances = []\n",
    "\n",
    "        for m,n in matches:\n",
    "            distances.append(m.distance)\n",
    "            if m.distance < 0.75*n.distance:\n",
    "                good.append(m)\n",
    "                \n",
    "    good = sorted(good, key = lambda x:x.distance)\n",
    "\n",
    "    if len(good)>MIN_MATCH_COUNT:\n",
    "        state = \"Enough matches: object is propbably in view.\"\n",
    "        # extract location of points in both images\n",
    "        src_pts = np.float32([ rKP[m.queryIdx].pt for m in good ]).reshape(-1,1,2)\n",
    "        dst_pts = np.float32([ qKP[m.trainIdx].pt for m in good ]).reshape(-1,1,2)\n",
    "\n",
    "        # find the perspective transform\n",
    "        M, mask = cv2.findHomography(src_pts, dst_pts, cv2.RANSAC,5.0)\n",
    "        matchesMask = mask.ravel().tolist()\n",
    "\n",
    "        # get the transform points in the (captured) query image\n",
    "        h,w = ref_img.shape\n",
    "        pts = np.float32([ [0,0],[0,h-1],[w-1,h-1],[w-1,0] ]).reshape(-1,1,2)\n",
    "\n",
    "        try:\n",
    "            dst = cv2.perspectiveTransform(pts,M)\n",
    "            # draw the transformed image\n",
    "            result.append(state)\n",
    "            result.append(cv2.drawContours(query_img,[np.int32(dst)],-1,(255,0,0),6))\n",
    "            result.append(dst)\n",
    "        except:\n",
    "            state = \"Error getting perspective transform.\"\n",
    "            result.append(state)\n",
    "            result.append(query_img)\n",
    "            result.append(np.array([]))\n",
    "        finally:\n",
    "            t1 = time.time()\n",
    "            cv_time = t1-t0 #print(state,\"Time to CV process:\", t1-t0)\n",
    "            result.append((t1-t0))\n",
    "\n",
    "    else:\n",
    "        state = \"Not enough matches:\"+ str(len(good))\n",
    "        result.append(state)\n",
    "        result.append(query_img)\n",
    "        result.append(np.array([]))\n",
    "        t1 = time.time()\n",
    "        cv_time = t1-t0 #print(state,\"Time to CV process:\", t1-t0)\n",
    "        result.append((t1-t0))\n",
    "\n",
    "    return result, cv_time"
   ]
  },
  {
   "cell_type": "code",
   "execution_count": 14,
   "metadata": {},
   "outputs": [],
   "source": [
    "def resultsToTree(tf_result, cv_result, marker_result):\n",
    "    mr_objects = Element(\"mr_objects\")\n",
    "    print(\"Goes before check.\")\n",
    "\n",
    "    if tf_result:\n",
    "        print(\"Goes inside TF check.\")\n",
    "        # Adding the results from the TF operation to the XmlTree\n",
    "        #print(len(tf_result),\"TF object/s\")\n",
    "        for box, name in tf_result.items():\n",
    "            ymin, xmin, ymax, xmax = box\n",
    "            object = SubElement(mr_objects,\"object\")\n",
    "            SubElement(object, \"type\").text = \"TF\"\n",
    "            SubElement(object, \"name\").text = str(name)\n",
    "            SubElement(object, \"ymin\").text = str(ymin)\n",
    "            SubElement(object, \"xmin\").text = str(xmin)\n",
    "            SubElement(object, \"ymax\").text = str(ymax)\n",
    "            SubElement(object, \"xmax\").text = str(xmax)\n",
    "  \n",
    "    if cv_result:\n",
    "        cv_result_list = []\n",
    "        print(\"Goes inside CV check.\")\n",
    "        for point in cv_result:\n",
    "            cv_result_list.append(point[0])\n",
    "        cv_exes = sorted(cv_result_list, key=lambda x: x[0])\n",
    "        cv_eyes = sorted(cv_result_list, key=lambda x: x[1])\n",
    "        # Adding the cv_results from the CV detection to the XmlTree\n",
    "        object = SubElement(mr_objects,\"object\")\n",
    "        SubElement(object, \"type\").text = \"CV\"\n",
    "        SubElement(object, \"name\").text = \"cv\"\n",
    "        SubElement(object, \"ymin\").text = str(cv_result_list[0][1])\n",
    "        SubElement(object, \"xmin\").text = str(cv_result_list[0][0])\n",
    "        SubElement(object, \"ymax\").text = str(cv_result_list[3][1])\n",
    "        SubElement(object, \"xmax\").text = str(cv_result_list[3][0])\n",
    "        \n",
    "    if marker_result:\n",
    "        print(\"Goes inside marker check.\")\n",
    "        for marker in marker_result:\n",
    "            object = SubElement(mr_objects,\"object\")\n",
    "            SubElement(object, \"type\").text = \"MARKER\"\n",
    "            SubElement(object, \"name\").text = str(marker.id)\n",
    "            exes = [marker.contours[0][0][0],marker.contours[1][0][0],marker.contours[2][0][0],marker.contours[3][0][0]]\n",
    "            eyes = [marker.contours[0][0][1],marker.contours[1][0][1],marker.contours[2][0][1],marker.contours[3][0][1]]\n",
    "            exes.sort()\n",
    "            eyes.sort()\n",
    "            SubElement(object, \"ymin\").text = str(eyes[0])\n",
    "            SubElement(object, \"xmin\").text = str(exes[0])\n",
    "            SubElement(object, \"ymax\").text = str(eyes[-1])\n",
    "            SubElement(object, \"xmax\").text = str(exes[-1])\n",
    "\n",
    "    tree = ElementTree(mr_objects)\n",
    "    \n",
    "    return tree"
   ]
  },
  {
   "cell_type": "code",
   "execution_count": 15,
   "metadata": {
    "collapsed": true
   },
   "outputs": [],
   "source": [
    "# In[3]:\n",
    "\n",
    "# HTTPRequestHandler class\n",
    "class testHTTPServer_RequestHandler(BaseHTTPRequestHandler):\n",
    "\n",
    "  # GET\n",
    "    def do_GET(self):\n",
    "        # Send response status code\n",
    "        self.send_response(200)\n",
    "\n",
    "        # Send headers\n",
    "        self.send_header('Content-type','text/html')\n",
    "        self.end_headers()\n",
    "\n",
    "        # Send message back to client\n",
    "        message = \"Hello world!\"\n",
    "        # Write content as utf-8 data\n",
    "        self.wfile.write(bytes(message, \"utf8\"))\n",
    "        return\n",
    "    \n",
    "    \n",
    "    def do_POST(self):\n",
    "        #print( \"incoming http: \", self.path )\n",
    "        t0 = time.time()\n",
    "        tf_detect = 0\n",
    "        tf_io = 0\n",
    "        cv_time = 0\n",
    "\n",
    "        # Gets the parameters of the data\n",
    "        detection_mode = self.headers['Detection-mode']\n",
    "        content_length = int(self.headers['Content-Length'])\n",
    "        content_type = self.headers['Content-type']\n",
    "                \n",
    "        if \"image\" in content_type:\n",
    "            \n",
    "            # Gets the data itself. Also, we over-catch by 16 bytes.\n",
    "            post_data = self.rfile.read(content_length+16)\n",
    "\n",
    "            #print(\"Length of content:\", len(post_data))\n",
    "            #print(\"Before pruning\\n\", post_data)\n",
    "\n",
    "            # We remove the first set of bytes up until the first\n",
    "            # carraige return and newline.\n",
    "            for b in np.arange(len(post_data)):\n",
    "               # Checking where the first newline is\n",
    "                if post_data[b] == 13:\n",
    "                    post_data = post_data[b+2:]\n",
    "                    break\n",
    "                else:\n",
    "                    continue\n",
    "\n",
    "            #stream = BytesIO(post_data)\n",
    "            #tmp = 'tmp.jpg'\n",
    "            #with open('tmp.jpg','wb') as out:\n",
    "            #    out.write(post_data)\n",
    "\n",
    "            #out.close()\n",
    "            # Converting the byte buffer to an numpy array for opencv and tf\n",
    "            #nparr = np.fromstring(post_data, np.uint8)\n",
    "            #img_np = cv2.imdecode(nparr, cv2.IMREAD_COLOR)\n",
    "            marker_time = 0\n",
    "            cv_time = 0\n",
    "            tf_detect = 0\n",
    "            tf_io = 0\n",
    "            try:\n",
    "                if \"TF\" in detection_mode:\n",
    "                    tf_result, tf_detect, tf_io = tf_process_img(post_data)\n",
    "                    for result in tf_result:\n",
    "                        print(\"TF: \",result)\n",
    "                        \n",
    "                    t1 = time.time()\n",
    "                    resultTree = resultsToTree(tf_result,[],[])\n",
    "\n",
    "                elif \"MARKER\" in detection_mode:\n",
    "                    marker_result, marker_time = marker_process(post_data)\n",
    "                    print(\"Markers detected: \",len(marker_result))\n",
    "                    for result in marker_result:\n",
    "                        print(\"Marker: \",result)\n",
    "                        \n",
    "                    t1 = time.time()\n",
    "                    resultTree = resultsToTree([],[],marker_result)\n",
    "\n",
    "                else:\n",
    "                    cv_result, cv_time = cv_process_img(post_data)\n",
    "                    print(\"CV: \",cv_result)\n",
    "                    \n",
    "                    t1 = time.time()\n",
    "                    resultTree = resultsToTree([],cv_result[2],[])\n",
    "                \n",
    "                print(\"Successful results.\")\n",
    "                resultTree.write(\"result.xml\")\n",
    "\n",
    "                # Send message back to client\n",
    "                # Write content as utf-8 data\n",
    "                #print(len(final_img))\n",
    "                #if len(final_img)>3:\n",
    "                #    message = bytes(str(cv_result[3])+ \"\\n\" + np.array2string(final_img[2],precision=0,separator=','), \"utf8\")\n",
    "                #    print(str(message))\n",
    "                #else:\n",
    "                #    message = bytes(str(cv_result[3])+ \"\\n\" + cv_result[0], \"utf8\")\n",
    "\n",
    "                t2 = time.time()\n",
    "                result = 'result.xml'\n",
    "                payload = open(result,'rb')\n",
    "\n",
    "                # Send response\n",
    "                self.send_response(200)\n",
    "                # Send headers\n",
    "                self.send_header('Content-type','text/xml')\n",
    "                self.send_header('Content-length',str(os.path.getsize(result)))\n",
    "                self.end_headers()\n",
    "\n",
    "                self.wfile.write(payload.readline())\n",
    "                #self.wfile.write(bytes(payload, \"utf8\"))\n",
    "                payload.close()\n",
    "            except Exception as e:\n",
    "                t1 = time.time()\n",
    "                #print(e)\n",
    "                print(\"Failed results: \", e)\n",
    "                t2 = time.time()\n",
    "                self.send_response(200)\n",
    "                message = 'Detection Error'\n",
    "                self.send_header('Content-type','text/html')\n",
    "                self.end_headers()\n",
    "                self.wfile.write(bytes(message, \"utf8\"))\n",
    "            finally:\n",
    "                t3 = time.time()                \n",
    "                print(detection_mode,\":\",(cv_time*1000), \",\",(marker_time*1000), \",\", (tf_detect*1000),\",\",(tf_io*1000),\",\", (t1-t0)*1000,\",\",(t3-t1)*1000,\",\",(t3-t0)*1000)\n",
    "                #print(\"XML/Tree operation:\",t2-t1)\n",
    "                #print(\"Sending output\", t3-t2)\n",
    "                #print(\"Overall time:\",t3-t0)            \n",
    "\n",
    "        else:\n",
    "            print(\"Content-type is \", content_type,\". Should be image.\")\n",
    "            self.send_response(200)\n",
    "            self.send_header('Content-type','text/html')\n",
    "            self.end_headers()\n",
    "\n",
    "            # Send message back to client\n",
    "            message = \"Object not detected.\"\n",
    "            # Write content as utf-8 data\n",
    "            self.wfile.write(bytes(message, \"utf8\"))\n",
    "\n",
    "        self.close_connection\n",
    "        return\n",
    "        #client.close()"
   ]
  },
  {
   "cell_type": "code",
   "execution_count": null,
   "metadata": {
    "collapsed": true
   },
   "outputs": [],
   "source": [
    "# In[4]:\n",
    "\n",
    "def run():\n",
    "    print('starting server...')\n",
    " \n",
    "  # Server settings\n",
    "  # Choose port 8080, for port 80, which is normally used for a http server, you need root access\n",
    "    server_address = ('0.0.0.0', 8081)\n",
    "    httpd = HTTPServer(server_address, testHTTPServer_RequestHandler)\n",
    "    print('running server...')\n",
    "    print(\"CV_Time, Marker_Time, TF_Detect, TF_IO, Overall_Detection, XML_Output, Overall (ms)\")\n",
    "    httpd.serve_forever()"
   ]
  },
  {
   "cell_type": "code",
   "execution_count": null,
   "metadata": {
    "scrolled": true
   },
   "outputs": [
    {
     "name": "stdout",
     "output_type": "stream",
     "text": [
      "starting server...\n",
      "running server...\n",
      "CV_Time, Marker_Time, TF_Detect, TF_IO, Overall_Detection, XML_Output, Overall (ms)\n",
      "Markers detected:  0\n",
      "Goes before check.\n",
      "Successful results.\n",
      "MARKER : 0 , 63.24410438537598 , 0 , 0 , 2332.437753677368 , 2.515077590942383 , 2334.9528312683105\n"
     ]
    },
    {
     "name": "stderr",
     "output_type": "stream",
     "text": [
      "150.229.118.204 - - [24/Jul/2018 12:18:37] \"POST / HTTP/1.1\" 200 -\n"
     ]
    },
    {
     "name": "stdout",
     "output_type": "stream",
     "text": [
      "Markers detected:  4\n",
      "Marker:  <Marker id=1 center=(285, 523)>\n",
      "Marker:  <Marker id=1 center=(285, 523)>\n",
      "Marker:  <Marker id=243 center=(305, 224)>\n",
      "Marker:  <Marker id=243 center=(305, 224)>\n",
      "Goes before check.\n",
      "Goes inside marker check.\n",
      "Successful results.\n",
      "MARKER : 0 , 50.26578903198242 , 0 , 0 , 355.44800758361816 , 2.151966094970703 , 357.59997367858887\n"
     ]
    },
    {
     "name": "stderr",
     "output_type": "stream",
     "text": [
      "150.229.118.204 - - [24/Jul/2018 12:18:38] \"POST / HTTP/1.1\" 200 -\n"
     ]
    },
    {
     "name": "stdout",
     "output_type": "stream",
     "text": [
      "Markers detected:  4\n",
      "Marker:  <Marker id=1 center=(282, 511)>\n",
      "Marker:  <Marker id=1 center=(282, 511)>\n",
      "Marker:  <Marker id=243 center=(303, 211)>\n",
      "Marker:  <Marker id=243 center=(303, 211)>\n",
      "Goes before check.\n",
      "Goes inside marker check.\n",
      "Successful results.\n",
      "MARKER : 0 , 46.04005813598633 , 0 , 0 , 366.3671016693115 , 2.2859573364257812 , 368.6530590057373\n"
     ]
    },
    {
     "name": "stderr",
     "output_type": "stream",
     "text": [
      "150.229.118.204 - - [24/Jul/2018 12:18:38] \"POST / HTTP/1.1\" 200 -\n"
     ]
    },
    {
     "name": "stdout",
     "output_type": "stream",
     "text": [
      "Markers detected:  4\n",
      "Marker:  <Marker id=1 center=(283, 498)>\n",
      "Marker:  <Marker id=1 center=(283, 498)>\n",
      "Marker:  <Marker id=243 center=(304, 201)>\n",
      "Marker:  <Marker id=243 center=(304, 201)>\n",
      "Goes before check.\n",
      "Goes inside marker check.\n",
      "Successful results.\n",
      "MARKER : 0 , 46.30088806152344 , 0 , 0 , 347.1519947052002 , 2.379894256591797 , 349.531888961792\n"
     ]
    },
    {
     "name": "stderr",
     "output_type": "stream",
     "text": [
      "150.229.118.204 - - [24/Jul/2018 12:18:39] \"POST / HTTP/1.1\" 200 -\n"
     ]
    },
    {
     "name": "stdout",
     "output_type": "stream",
     "text": [
      "Markers detected:  4\n",
      "Marker:  <Marker id=1 center=(355, 448)>\n",
      "Marker:  <Marker id=1 center=(355, 447)>\n",
      "Marker:  <Marker id=243 center=(370, 166)>\n",
      "Marker:  <Marker id=243 center=(370, 166)>\n",
      "Goes before check.\n",
      "Goes inside marker check.\n",
      "Successful results.\n",
      "MARKER : 0 , 46.742916107177734 , 0 , 0 , 385.329008102417 , 2.1898746490478516 , 387.51888275146484\n"
     ]
    },
    {
     "name": "stderr",
     "output_type": "stream",
     "text": [
      "150.229.118.204 - - [24/Jul/2018 12:18:39] \"POST / HTTP/1.1\" 200 -\n"
     ]
    },
    {
     "name": "stdout",
     "output_type": "stream",
     "text": [
      "Markers detected:  2\n",
      "Marker:  <Marker id=243 center=(351, 187)>\n",
      "Marker:  <Marker id=243 center=(351, 187)>\n",
      "Goes before check.\n",
      "Goes inside marker check.\n",
      "Successful results.\n",
      "MARKER : 0 , 40.4510498046875 , 0 , 0 , 376.2679100036621 , 2.123117446899414 , 378.3910274505615\n"
     ]
    },
    {
     "name": "stderr",
     "output_type": "stream",
     "text": [
      "150.229.118.204 - - [24/Jul/2018 12:18:39] \"POST / HTTP/1.1\" 200 -\n"
     ]
    },
    {
     "name": "stdout",
     "output_type": "stream",
     "text": [
      "Markers detected:  0\n",
      "Goes before check.\n",
      "Successful results.\n",
      "MARKER : 0 , 42.42706298828125 , 0 , 0 , 370.13888359069824 , 1.91497802734375 , 372.053861618042\n"
     ]
    },
    {
     "name": "stderr",
     "output_type": "stream",
     "text": [
      "150.229.118.204 - - [24/Jul/2018 12:18:40] \"POST / HTTP/1.1\" 200 -\n"
     ]
    },
    {
     "name": "stdout",
     "output_type": "stream",
     "text": [
      "Markers detected:  0\n",
      "Goes before check.\n",
      "Successful results.\n",
      "MARKER : 0 , 38.42782974243164 , 0 , 0 , 395.449161529541 , 3.25775146484375 , 398.70691299438477\n"
     ]
    },
    {
     "name": "stderr",
     "output_type": "stream",
     "text": [
      "150.229.118.204 - - [24/Jul/2018 12:18:40] \"POST / HTTP/1.1\" 200 -\n"
     ]
    },
    {
     "name": "stdout",
     "output_type": "stream",
     "text": [
      "Markers detected:  4\n",
      "Marker:  <Marker id=1 center=(173, 500)>\n",
      "Marker:  <Marker id=1 center=(173, 500)>\n",
      "Marker:  <Marker id=243 center=(196, 177)>\n",
      "Marker:  <Marker id=243 center=(197, 177)>\n",
      "Goes before check.\n",
      "Goes inside marker check.\n",
      "Successful results.\n",
      "MARKER : 0 , 42.44422912597656 , 0 , 0 , 372.391939163208 , 2.3131370544433594 , 374.70507621765137\n"
     ]
    },
    {
     "name": "stderr",
     "output_type": "stream",
     "text": [
      "150.229.118.204 - - [24/Jul/2018 12:18:41] \"POST / HTTP/1.1\" 200 -\n"
     ]
    },
    {
     "name": "stdout",
     "output_type": "stream",
     "text": [
      "Markers detected:  4\n",
      "Marker:  <Marker id=1 center=(267, 475)>\n",
      "Marker:  <Marker id=1 center=(267, 475)>\n",
      "Marker:  <Marker id=243 center=(288, 177)>\n",
      "Marker:  <Marker id=243 center=(289, 177)>\n",
      "Goes before check.\n",
      "Goes inside marker check.\n",
      "Successful results.\n",
      "MARKER : 0 , 45.134782791137695 , 0 , 0 , 400.8777141571045 , 2.0380020141601562 , 402.91571617126465\n"
     ]
    },
    {
     "name": "stderr",
     "output_type": "stream",
     "text": [
      "150.229.118.204 - - [24/Jul/2018 12:18:42] \"POST / HTTP/1.1\" 200 -\n"
     ]
    },
    {
     "name": "stdout",
     "output_type": "stream",
     "text": [
      "Markers detected:  4\n",
      "Marker:  <Marker id=1 center=(274, 470)>\n",
      "Marker:  <Marker id=1 center=(274, 470)>\n",
      "Marker:  <Marker id=243 center=(296, 171)>\n",
      "Marker:  <Marker id=243 center=(296, 171)>\n",
      "Goes before check.\n",
      "Goes inside marker check.\n",
      "Successful results.\n",
      "MARKER : 0 , 42.83881187438965 , 0 , 0 , 390.7151222229004 , 2.268075942993164 , 392.98319816589355\n"
     ]
    },
    {
     "name": "stderr",
     "output_type": "stream",
     "text": [
      "150.229.118.204 - - [24/Jul/2018 12:18:42] \"POST / HTTP/1.1\" 200 -\n"
     ]
    },
    {
     "name": "stdout",
     "output_type": "stream",
     "text": [
      "Markers detected:  4\n",
      "Marker:  <Marker id=1 center=(278, 474)>\n",
      "Marker:  <Marker id=1 center=(278, 474)>\n",
      "Marker:  <Marker id=243 center=(300, 175)>\n",
      "Marker:  <Marker id=243 center=(300, 175)>\n",
      "Goes before check.\n",
      "Goes inside marker check.\n",
      "Successful results.\n",
      "MARKER : 0 , 41.62192344665527 , 0 , 0 , 330.380916595459 , 2.2890567779541016 , 332.6699733734131\n"
     ]
    },
    {
     "name": "stderr",
     "output_type": "stream",
     "text": [
      "150.229.118.204 - - [24/Jul/2018 12:18:43] \"POST / HTTP/1.1\" 200 -\n"
     ]
    },
    {
     "name": "stdout",
     "output_type": "stream",
     "text": [
      "Markers detected:  4\n",
      "Marker:  <Marker id=1 center=(276, 476)>\n",
      "Marker:  <Marker id=1 center=(276, 476)>\n",
      "Marker:  <Marker id=243 center=(299, 176)>\n",
      "Marker:  <Marker id=243 center=(299, 176)>\n",
      "Goes before check.\n",
      "Goes inside marker check.\n",
      "Successful results.\n",
      "MARKER : 0 , 44.25978660583496 , 0 , 0 , 364.14265632629395 , 2.398252487182617 , 366.54090881347656\n"
     ]
    },
    {
     "name": "stderr",
     "output_type": "stream",
     "text": [
      "150.229.118.204 - - [24/Jul/2018 12:18:43] \"POST / HTTP/1.1\" 200 -\n"
     ]
    },
    {
     "name": "stdout",
     "output_type": "stream",
     "text": [
      "Markers detected:  4\n",
      "Marker:  <Marker id=1 center=(272, 480)>\n",
      "Marker:  <Marker id=1 center=(272, 480)>\n",
      "Marker:  <Marker id=243 center=(296, 179)>\n",
      "Marker:  <Marker id=243 center=(296, 179)>\n",
      "Goes before check.\n",
      "Goes inside marker check.\n",
      "Successful results.\n",
      "MARKER : 0 , 44.68512535095215 , 0 , 0 , 393.8932418823242 , 2.0148754119873047 , 395.9081172943115\n"
     ]
    },
    {
     "name": "stderr",
     "output_type": "stream",
     "text": [
      "150.229.118.204 - - [24/Jul/2018 12:18:44] \"POST / HTTP/1.1\" 200 -\n"
     ]
    },
    {
     "name": "stdout",
     "output_type": "stream",
     "text": [
      "Markers detected:  4\n",
      "Marker:  <Marker id=1 center=(271, 479)>\n",
      "Marker:  <Marker id=1 center=(271, 478)>\n",
      "Marker:  <Marker id=243 center=(294, 177)>\n",
      "Marker:  <Marker id=243 center=(294, 177)>\n",
      "Goes before check.\n",
      "Goes inside marker check.\n",
      "Successful results.\n",
      "MARKER : 0 , 44.16489601135254 , 0 , 0 , 355.17191886901855 , 2.218961715698242 , 357.3908805847168\n"
     ]
    },
    {
     "name": "stderr",
     "output_type": "stream",
     "text": [
      "150.229.118.204 - - [24/Jul/2018 12:18:44] \"POST / HTTP/1.1\" 200 -\n"
     ]
    },
    {
     "name": "stdout",
     "output_type": "stream",
     "text": [
      "Markers detected:  4\n",
      "Marker:  <Marker id=1 center=(269, 479)>\n",
      "Marker:  <Marker id=1 center=(269, 480)>\n",
      "Marker:  <Marker id=243 center=(292, 178)>\n",
      "Marker:  <Marker id=243 center=(292, 178)>\n",
      "Goes before check.\n",
      "Goes inside marker check.\n",
      "Successful results.\n",
      "MARKER : 0 , 43.41602325439453 , 0 , 0 , 322.6008415222168 , 2.3381710052490234 , 324.9390125274658\n"
     ]
    },
    {
     "name": "stderr",
     "output_type": "stream",
     "text": [
      "150.229.118.204 - - [24/Jul/2018 12:18:45] \"POST / HTTP/1.1\" 200 -\n"
     ]
    },
    {
     "name": "stdout",
     "output_type": "stream",
     "text": [
      "Markers detected:  4\n",
      "Marker:  <Marker id=1 center=(267, 482)>\n",
      "Marker:  <Marker id=1 center=(268, 482)>\n",
      "Marker:  <Marker id=243 center=(292, 180)>\n",
      "Marker:  <Marker id=243 center=(292, 180)>\n",
      "Goes before check.\n",
      "Goes inside marker check.\n",
      "Successful results.\n",
      "MARKER : 0 , 44.23975944519043 , 0 , 0 , 334.28502082824707 , 2.2430419921875 , 336.52806282043457\n"
     ]
    },
    {
     "name": "stderr",
     "output_type": "stream",
     "text": [
      "150.229.118.204 - - [24/Jul/2018 12:18:45] \"POST / HTTP/1.1\" 200 -\n"
     ]
    },
    {
     "name": "stdout",
     "output_type": "stream",
     "text": [
      "Markers detected:  4\n",
      "Marker:  <Marker id=1 center=(266, 485)>\n",
      "Marker:  <Marker id=1 center=(266, 486)>\n",
      "Marker:  <Marker id=243 center=(290, 184)>\n",
      "Marker:  <Marker id=243 center=(290, 184)>\n",
      "Goes before check.\n",
      "Goes inside marker check.\n",
      "Successful results.\n",
      "MARKER : 0 , 43.95914077758789 , 0 , 0 , 335.3416919708252 , 2.250194549560547 , 337.59188652038574\n"
     ]
    },
    {
     "name": "stderr",
     "output_type": "stream",
     "text": [
      "150.229.118.204 - - [24/Jul/2018 12:18:46] \"POST / HTTP/1.1\" 200 -\n"
     ]
    },
    {
     "name": "stdout",
     "output_type": "stream",
     "text": [
      "Markers detected:  4\n",
      "Marker:  <Marker id=1 center=(265, 485)>\n",
      "Marker:  <Marker id=1 center=(265, 485)>\n",
      "Marker:  <Marker id=243 center=(289, 183)>\n",
      "Marker:  <Marker id=243 center=(289, 183)>\n",
      "Goes before check.\n",
      "Goes inside marker check.\n",
      "Successful results.\n",
      "MARKER : 0 , 45.0439453125 , 0 , 0 , 342.5610065460205 , 2.068042755126953 , 344.62904930114746\n"
     ]
    },
    {
     "name": "stderr",
     "output_type": "stream",
     "text": [
      "150.229.118.204 - - [24/Jul/2018 12:18:46] \"POST / HTTP/1.1\" 200 -\n"
     ]
    },
    {
     "name": "stdout",
     "output_type": "stream",
     "text": [
      "Markers detected:  4\n",
      "Marker:  <Marker id=1 center=(266, 481)>\n",
      "Marker:  <Marker id=1 center=(265, 481)>\n",
      "Marker:  <Marker id=243 center=(290, 180)>\n",
      "Marker:  <Marker id=243 center=(290, 180)>\n",
      "Goes before check.\n",
      "Goes inside marker check.\n",
      "Successful results.\n",
      "MARKER : 0 , 43.37787628173828 , 0 , 0 , 361.0727787017822 , 1.9941329956054688 , 363.0669116973877\n"
     ]
    },
    {
     "name": "stderr",
     "output_type": "stream",
     "text": [
      "150.229.118.204 - - [24/Jul/2018 12:18:47] \"POST / HTTP/1.1\" 200 -\n"
     ]
    },
    {
     "name": "stdout",
     "output_type": "stream",
     "text": [
      "Markers detected:  4\n",
      "Marker:  <Marker id=1 center=(258, 496)>\n",
      "Marker:  <Marker id=1 center=(259, 496)>\n",
      "Marker:  <Marker id=243 center=(285, 190)>\n",
      "Marker:  <Marker id=243 center=(285, 190)>\n",
      "Goes before check.\n",
      "Goes inside marker check.\n",
      "Successful results.\n",
      "MARKER : 0 , 43.05315017700195 , 0 , 0 , 318.70508193969727 , 2.228975296020508 , 320.9340572357178\n"
     ]
    },
    {
     "name": "stderr",
     "output_type": "stream",
     "text": [
      "150.229.118.204 - - [24/Jul/2018 12:18:47] \"POST / HTTP/1.1\" 200 -\n"
     ]
    },
    {
     "name": "stdout",
     "output_type": "stream",
     "text": [
      "Markers detected:  4\n",
      "Marker:  <Marker id=1 center=(213, 506)>\n",
      "Marker:  <Marker id=1 center=(213, 506)>\n",
      "Marker:  <Marker id=243 center=(240, 186)>\n",
      "Marker:  <Marker id=243 center=(240, 187)>\n",
      "Goes before check.\n",
      "Goes inside marker check.\n",
      "Successful results.\n",
      "MARKER : 0 , 44.13795471191406 , 0 , 0 , 325.5460262298584 , 2.1810531616210938 , 327.7270793914795\n"
     ]
    },
    {
     "name": "stderr",
     "output_type": "stream",
     "text": [
      "150.229.118.204 - - [24/Jul/2018 12:18:47] \"POST / HTTP/1.1\" 200 -\n"
     ]
    },
    {
     "name": "stdout",
     "output_type": "stream",
     "text": [
      "Markers detected:  4\n",
      "Marker:  <Marker id=1 center=(192, 499)>\n",
      "Marker:  <Marker id=1 center=(192, 499)>\n",
      "Marker:  <Marker id=243 center=(219, 170)>\n",
      "Marker:  <Marker id=243 center=(219, 170)>\n",
      "Goes before check.\n",
      "Goes inside marker check.\n",
      "Successful results.\n",
      "MARKER : 0 , 42.64497756958008 , 0 , 0 , 335.8020782470703 , 2.5899410247802734 , 338.3920192718506\n"
     ]
    },
    {
     "name": "stderr",
     "output_type": "stream",
     "text": [
      "150.229.118.204 - - [24/Jul/2018 12:18:48] \"POST / HTTP/1.1\" 200 -\n"
     ]
    },
    {
     "name": "stdout",
     "output_type": "stream",
     "text": [
      "Markers detected:  4\n",
      "Marker:  <Marker id=1 center=(186, 498)>\n",
      "Marker:  <Marker id=1 center=(186, 498)>\n",
      "Marker:  <Marker id=243 center=(214, 169)>\n",
      "Marker:  <Marker id=243 center=(214, 169)>\n",
      "Goes before check.\n",
      "Goes inside marker check.\n",
      "Successful results.\n",
      "MARKER : 0 , 42.263031005859375 , 0 , 0 , 339.0018939971924 , 2.2230148315429688 , 341.22490882873535\n"
     ]
    },
    {
     "name": "stderr",
     "output_type": "stream",
     "text": [
      "150.229.118.204 - - [24/Jul/2018 12:18:48] \"POST / HTTP/1.1\" 200 -\n"
     ]
    },
    {
     "name": "stdout",
     "output_type": "stream",
     "text": [
      "Markers detected:  4\n",
      "Marker:  <Marker id=1 center=(180, 497)>\n",
      "Marker:  <Marker id=1 center=(180, 497)>\n",
      "Marker:  <Marker id=243 center=(208, 167)>\n",
      "Marker:  <Marker id=243 center=(208, 167)>\n",
      "Goes before check.\n",
      "Goes inside marker check.\n",
      "Successful results.\n",
      "MARKER : 0 , 44.50821876525879 , 0 , 0 , 397.0189094543457 , 2.1491050720214844 , 399.1680145263672\n"
     ]
    },
    {
     "name": "stderr",
     "output_type": "stream",
     "text": [
      "150.229.118.204 - - [24/Jul/2018 12:18:49] \"POST / HTTP/1.1\" 200 -\n"
     ]
    },
    {
     "name": "stdout",
     "output_type": "stream",
     "text": [
      "Markers detected:  0\n",
      "Goes before check.\n",
      "Successful results.\n",
      "MARKER : 0 , 41.32676124572754 , 0 , 0 , 311.8720054626465 , 1.8298625946044922 , 313.701868057251\n"
     ]
    },
    {
     "name": "stderr",
     "output_type": "stream",
     "text": [
      "150.229.118.204 - - [24/Jul/2018 12:18:49] \"POST / HTTP/1.1\" 200 -\n"
     ]
    },
    {
     "name": "stdout",
     "output_type": "stream",
     "text": [
      "Markers detected:  4\n",
      "Marker:  <Marker id=1 center=(530, 423)>\n",
      "Marker:  <Marker id=1 center=(530, 422)>\n",
      "Marker:  <Marker id=243 center=(542, 166)>\n",
      "Marker:  <Marker id=243 center=(541, 166)>\n",
      "Goes before check.\n",
      "Goes inside marker check.\n",
      "Successful results.\n",
      "MARKER : 0 , 45.89366912841797 , 0 , 0 , 426.7289638519287 , 2.3767948150634766 , 429.1057586669922\n"
     ]
    },
    {
     "name": "stderr",
     "output_type": "stream",
     "text": [
      "150.229.118.204 - - [24/Jul/2018 12:18:50] \"POST / HTTP/1.1\" 200 -\n"
     ]
    },
    {
     "name": "stdout",
     "output_type": "stream",
     "text": [
      "Markers detected:  4\n",
      "Marker:  <Marker id=1 center=(602, 402)>\n",
      "Marker:  <Marker id=1 center=(602, 402)>\n",
      "Marker:  <Marker id=243 center=(619, 150)>\n",
      "Marker:  <Marker id=243 center=(619, 149)>\n",
      "Goes before check.\n",
      "Goes inside marker check.\n",
      "Successful results.\n",
      "MARKER : 0 , 52.54507064819336 , 0 , 0 , 643.6700820922852 , 2.0751953125 , 645.7452774047852\n"
     ]
    },
    {
     "name": "stderr",
     "output_type": "stream",
     "text": [
      "150.229.118.204 - - [24/Jul/2018 12:18:51] \"POST / HTTP/1.1\" 200 -\n"
     ]
    },
    {
     "name": "stdout",
     "output_type": "stream",
     "text": [
      "Markers detected:  4\n",
      "Marker:  <Marker id=1 center=(503, 449)>\n",
      "Marker:  <Marker id=1 center=(503, 449)>\n",
      "Marker:  <Marker id=243 center=(522, 195)>\n",
      "Marker:  <Marker id=243 center=(522, 195)>\n",
      "Goes before check.\n",
      "Goes inside marker check.\n",
      "Successful results.\n",
      "MARKER : 0 , 47.32322692871094 , 0 , 0 , 366.3322925567627 , 2.2346973419189453 , 368.56698989868164\n"
     ]
    },
    {
     "name": "stderr",
     "output_type": "stream",
     "text": [
      "150.229.118.204 - - [24/Jul/2018 12:18:51] \"POST / HTTP/1.1\" 200 -\n"
     ]
    },
    {
     "name": "stdout",
     "output_type": "stream",
     "text": [
      "Markers detected:  4\n",
      "Marker:  <Marker id=1 center=(427, 480)>\n",
      "Marker:  <Marker id=1 center=(427, 480)>\n",
      "Marker:  <Marker id=243 center=(447, 218)>\n",
      "Marker:  <Marker id=243 center=(447, 218)>\n",
      "Goes before check.\n",
      "Goes inside marker check.\n",
      "Successful results.\n",
      "MARKER : 0 , 44.15106773376465 , 0 , 0 , 343.16420555114746 , 2.2988319396972656 , 345.4630374908447\n"
     ]
    },
    {
     "name": "stderr",
     "output_type": "stream",
     "text": [
      "150.229.118.204 - - [24/Jul/2018 12:18:51] \"POST / HTTP/1.1\" 200 -\n"
     ]
    },
    {
     "name": "stdout",
     "output_type": "stream",
     "text": [
      "Markers detected:  4\n",
      "Marker:  <Marker id=1 center=(425, 479)>\n",
      "Marker:  <Marker id=1 center=(425, 479)>\n",
      "Marker:  <Marker id=243 center=(446, 215)>\n",
      "Marker:  <Marker id=243 center=(446, 215)>\n",
      "Goes before check.\n",
      "Goes inside marker check.\n",
      "Successful results.\n",
      "MARKER : 0 , 44.34990882873535 , 0 , 0 , 344.1951274871826 , 2.342700958251953 , 346.53782844543457\n"
     ]
    },
    {
     "name": "stderr",
     "output_type": "stream",
     "text": [
      "150.229.118.204 - - [24/Jul/2018 12:18:52] \"POST / HTTP/1.1\" 200 -\n"
     ]
    },
    {
     "name": "stdout",
     "output_type": "stream",
     "text": [
      "Markers detected:  4\n",
      "Marker:  <Marker id=1 center=(421, 484)>\n",
      "Marker:  <Marker id=1 center=(421, 484)>\n",
      "Marker:  <Marker id=243 center=(441, 219)>\n",
      "Marker:  <Marker id=243 center=(441, 219)>\n",
      "Goes before check.\n",
      "Goes inside marker check.\n",
      "Successful results.\n",
      "MARKER : 0 , 45.768022537231445 , 0 , 0 , 344.89917755126953 , 2.2459030151367188 , 347.14508056640625\n"
     ]
    },
    {
     "name": "stderr",
     "output_type": "stream",
     "text": [
      "150.229.118.204 - - [24/Jul/2018 12:18:52] \"POST / HTTP/1.1\" 200 -\n"
     ]
    },
    {
     "name": "stdout",
     "output_type": "stream",
     "text": [
      "Markers detected:  4\n",
      "Marker:  <Marker id=1 center=(414, 482)>\n",
      "Marker:  <Marker id=1 center=(414, 482)>\n",
      "Marker:  <Marker id=243 center=(435, 217)>\n",
      "Marker:  <Marker id=243 center=(435, 217)>\n",
      "Goes before check.\n",
      "Goes inside marker check.\n",
      "Successful results.\n",
      "MARKER : 0 , 44.412851333618164 , 0 , 0 , 347.3467826843262 , 2.2661685943603516 , 349.6129512786865\n"
     ]
    },
    {
     "name": "stderr",
     "output_type": "stream",
     "text": [
      "150.229.118.204 - - [24/Jul/2018 12:18:53] \"POST / HTTP/1.1\" 200 -\n"
     ]
    },
    {
     "name": "stdout",
     "output_type": "stream",
     "text": [
      "Markers detected:  4\n",
      "Marker:  <Marker id=1 center=(409, 478)>\n",
      "Marker:  <Marker id=1 center=(409, 478)>\n",
      "Marker:  <Marker id=243 center=(431, 212)>\n",
      "Marker:  <Marker id=243 center=(431, 212)>\n",
      "Goes before check.\n",
      "Goes inside marker check.\n",
      "Successful results.\n",
      "MARKER : 0 , 44.84081268310547 , 0 , 0 , 344.88725662231445 , 2.2928714752197266 , 347.1801280975342\n"
     ]
    },
    {
     "name": "stderr",
     "output_type": "stream",
     "text": [
      "150.229.118.204 - - [24/Jul/2018 12:18:53] \"POST / HTTP/1.1\" 200 -\n"
     ]
    },
    {
     "name": "stdout",
     "output_type": "stream",
     "text": [
      "Markers detected:  4\n",
      "Marker:  <Marker id=1 center=(406, 479)>\n",
      "Marker:  <Marker id=1 center=(406, 479)>\n",
      "Marker:  <Marker id=243 center=(427, 212)>\n",
      "Marker:  <Marker id=243 center=(427, 212)>\n",
      "Goes before check.\n",
      "Goes inside marker check.\n",
      "Successful results.\n",
      "MARKER : 0 , 45.10998725891113 , 0 , 0 , 355.53884506225586 , 2.1359920501708984 , 357.67483711242676\n"
     ]
    },
    {
     "name": "stderr",
     "output_type": "stream",
     "text": [
      "150.229.118.204 - - [24/Jul/2018 12:18:54] \"POST / HTTP/1.1\" 200 -\n"
     ]
    },
    {
     "name": "stdout",
     "output_type": "stream",
     "text": [
      "Markers detected:  2\n",
      "Marker:  <Marker id=1 center=(197, 542)>\n",
      "Marker:  <Marker id=1 center=(198, 542)>\n",
      "Goes before check.\n",
      "Goes inside marker check.\n",
      "Successful results.\n",
      "MARKER : 0 , 41.181087493896484 , 0 , 0 , 318.51887702941895 , 2.020120620727539 , 320.5389976501465\n"
     ]
    },
    {
     "name": "stderr",
     "output_type": "stream",
     "text": [
      "150.229.118.204 - - [24/Jul/2018 12:18:54] \"POST / HTTP/1.1\" 200 -\n"
     ]
    },
    {
     "name": "stdout",
     "output_type": "stream",
     "text": [
      "Markers detected:  4\n",
      "Marker:  <Marker id=1 center=(163, 519)>\n",
      "Marker:  <Marker id=1 center=(163, 519)>\n",
      "Marker:  <Marker id=243 center=(201, 201)>\n",
      "Marker:  <Marker id=243 center=(201, 201)>\n",
      "Goes before check.\n",
      "Goes inside marker check.\n",
      "Successful results.\n",
      "MARKER : 0 , 45.736074447631836 , 0 , 0 , 349.47705268859863 , 2.3000240325927734 , 351.7770767211914\n"
     ]
    },
    {
     "name": "stderr",
     "output_type": "stream",
     "text": [
      "150.229.118.204 - - [24/Jul/2018 12:18:54] \"POST / HTTP/1.1\" 200 -\n"
     ]
    },
    {
     "name": "stdout",
     "output_type": "stream",
     "text": [
      "Markers detected:  4\n",
      "Marker:  <Marker id=1 center=(154, 519)>\n",
      "Marker:  <Marker id=1 center=(155, 518)>\n",
      "Marker:  <Marker id=243 center=(192, 199)>\n",
      "Marker:  <Marker id=243 center=(192, 199)>\n",
      "Goes before check.\n",
      "Goes inside marker check.\n",
      "Successful results.\n",
      "MARKER : 0 , 49.08275604248047 , 0 , 0 , 377.6259422302246 , 1.3799667358398438 , 379.00590896606445\n"
     ]
    },
    {
     "name": "stderr",
     "output_type": "stream",
     "text": [
      "150.229.118.204 - - [24/Jul/2018 12:18:55] \"POST / HTTP/1.1\" 200 -\n"
     ]
    },
    {
     "name": "stdout",
     "output_type": "stream",
     "text": [
      "Markers detected:  4\n",
      "Marker:  <Marker id=1 center=(152, 516)>\n",
      "Marker:  <Marker id=1 center=(152, 516)>\n",
      "Marker:  <Marker id=243 center=(189, 197)>\n",
      "Marker:  <Marker id=243 center=(189, 197)>\n",
      "Goes before check.\n",
      "Goes inside marker check.\n",
      "Successful results.\n",
      "MARKER : 0 , 46.64134979248047 , 0 , 0 , 332.4401378631592 , 2.418041229248047 , 334.8581790924072\n"
     ]
    },
    {
     "name": "stderr",
     "output_type": "stream",
     "text": [
      "150.229.118.204 - - [24/Jul/2018 12:18:55] \"POST / HTTP/1.1\" 200 -\n"
     ]
    },
    {
     "name": "stdout",
     "output_type": "stream",
     "text": [
      "Markers detected:  4\n",
      "Marker:  <Marker id=1 center=(151, 517)>\n",
      "Marker:  <Marker id=1 center=(151, 517)>\n",
      "Marker:  <Marker id=243 center=(188, 196)>\n",
      "Marker:  <Marker id=243 center=(188, 196)>\n",
      "Goes before check.\n",
      "Goes inside marker check.\n",
      "Successful results.\n",
      "MARKER : 0 , 46.39911651611328 , 0 , 0 , 325.40416717529297 , 2.1848678588867188 , 327.5890350341797\n"
     ]
    },
    {
     "name": "stderr",
     "output_type": "stream",
     "text": [
      "150.229.118.204 - - [24/Jul/2018 12:18:56] \"POST / HTTP/1.1\" 200 -\n"
     ]
    },
    {
     "name": "stdout",
     "output_type": "stream",
     "text": [
      "Markers detected:  4\n",
      "Marker:  <Marker id=1 center=(150, 521)>\n",
      "Marker:  <Marker id=1 center=(150, 521)>\n",
      "Marker:  <Marker id=243 center=(186, 200)>\n",
      "Marker:  <Marker id=243 center=(186, 200)>\n",
      "Goes before check.\n",
      "Goes inside marker check.\n",
      "Successful results.\n",
      "MARKER : 0 , 48.66909980773926 , 0 , 0 , 366.28079414367676 , 2.177000045776367 , 368.4577941894531\n"
     ]
    },
    {
     "name": "stderr",
     "output_type": "stream",
     "text": [
      "150.229.118.204 - - [24/Jul/2018 12:18:56] \"POST / HTTP/1.1\" 200 -\n"
     ]
    },
    {
     "name": "stdout",
     "output_type": "stream",
     "text": [
      "Markers detected:  4\n",
      "Marker:  <Marker id=1 center=(152, 527)>\n",
      "Marker:  <Marker id=1 center=(152, 527)>\n",
      "Marker:  <Marker id=243 center=(188, 207)>\n",
      "Marker:  <Marker id=243 center=(187, 207)>\n",
      "Goes before check.\n",
      "Goes inside marker check.\n",
      "Successful results.\n",
      "MARKER : 0 , 43.092966079711914 , 0 , 0 , 322.6799964904785 , 2.070903778076172 , 324.7509002685547\n"
     ]
    },
    {
     "name": "stderr",
     "output_type": "stream",
     "text": [
      "150.229.118.204 - - [24/Jul/2018 12:18:57] \"POST / HTTP/1.1\" 200 -\n"
     ]
    },
    {
     "name": "stdout",
     "output_type": "stream",
     "text": [
      "Markers detected:  4\n",
      "Marker:  <Marker id=1 center=(152, 533)>\n",
      "Marker:  <Marker id=1 center=(152, 534)>\n",
      "Marker:  <Marker id=243 center=(188, 212)>\n",
      "Marker:  <Marker id=243 center=(188, 212)>\n",
      "Goes before check.\n",
      "Goes inside marker check.\n",
      "Successful results.\n",
      "MARKER : 0 , 43.64323616027832 , 0 , 0 , 334.58495140075684 , 2.2161006927490234 , 336.80105209350586\n"
     ]
    },
    {
     "name": "stderr",
     "output_type": "stream",
     "text": [
      "150.229.118.204 - - [24/Jul/2018 12:18:57] \"POST / HTTP/1.1\" 200 -\n"
     ]
    },
    {
     "name": "stdout",
     "output_type": "stream",
     "text": [
      "Markers detected:  0\n",
      "Goes before check.\n",
      "Successful results.\n",
      "MARKER : 0 , 40.32111167907715 , 0 , 0 , 274.0139961242676 , 2.2230148315429688 , 276.23701095581055\n"
     ]
    },
    {
     "name": "stderr",
     "output_type": "stream",
     "text": [
      "150.229.118.204 - - [24/Jul/2018 12:18:57] \"POST / HTTP/1.1\" 200 -\n"
     ]
    },
    {
     "name": "stdout",
     "output_type": "stream",
     "text": [
      "Markers detected:  4\n",
      "Marker:  <Marker id=1 center=(482, 364)>\n",
      "Marker:  <Marker id=1 center=(482, 364)>\n",
      "Marker:  <Marker id=243 center=(495, 102)>\n",
      "Marker:  <Marker id=243 center=(495, 102)>\n",
      "Goes before check.\n",
      "Goes inside marker check.\n",
      "Successful results.\n",
      "MARKER : 0 , 48.05612564086914 , 0 , 0 , 344.7401523590088 , 2.08282470703125 , 346.82297706604004\n"
     ]
    },
    {
     "name": "stderr",
     "output_type": "stream",
     "text": [
      "150.229.118.204 - - [24/Jul/2018 12:18:58] \"POST / HTTP/1.1\" 200 -\n"
     ]
    },
    {
     "name": "stdout",
     "output_type": "stream",
     "text": [
      "Markers detected:  2\n",
      "Marker:  <Marker id=1 center=(519, 323)>\n",
      "Marker:  <Marker id=1 center=(519, 323)>\n",
      "Goes before check.\n",
      "Goes inside marker check.\n",
      "Successful results.\n",
      "MARKER : 0 , 48.0501651763916 , 0 , 0 , 372.50304222106934 , 2.023935317993164 , 374.5269775390625\n"
     ]
    },
    {
     "name": "stderr",
     "output_type": "stream",
     "text": [
      "150.229.118.204 - - [24/Jul/2018 12:18:58] \"POST / HTTP/1.1\" 200 -\n"
     ]
    },
    {
     "name": "stdout",
     "output_type": "stream",
     "text": [
      "Markers detected:  2\n",
      "Marker:  <Marker id=1 center=(521, 318)>\n",
      "Marker:  <Marker id=1 center=(521, 318)>\n",
      "Goes before check.\n",
      "Goes inside marker check.\n",
      "Successful results.\n",
      "MARKER : 0 , 47.173261642456055 , 0 , 0 , 420.67980766296387 , 2.2079944610595703 , 422.88780212402344\n"
     ]
    },
    {
     "name": "stderr",
     "output_type": "stream",
     "text": [
      "150.229.118.204 - - [24/Jul/2018 12:18:59] \"POST / HTTP/1.1\" 200 -\n"
     ]
    },
    {
     "name": "stdout",
     "output_type": "stream",
     "text": [
      "Markers detected:  2\n",
      "Marker:  <Marker id=1 center=(516, 319)>\n",
      "Marker:  <Marker id=1 center=(516, 319)>\n",
      "Goes before check.\n",
      "Goes inside marker check.\n",
      "Successful results.\n",
      "MARKER : 0 , 47.31011390686035 , 0 , 0 , 420.1338291168213 , 2.0270347595214844 , 422.1608638763428\n"
     ]
    },
    {
     "name": "stderr",
     "output_type": "stream",
     "text": [
      "150.229.118.204 - - [24/Jul/2018 12:18:59] \"POST / HTTP/1.1\" 200 -\n"
     ]
    },
    {
     "name": "stdout",
     "output_type": "stream",
     "text": [
      "Markers detected:  2\n",
      "Marker:  <Marker id=1 center=(511, 323)>\n",
      "Marker:  <Marker id=1 center=(511, 323)>\n",
      "Goes before check.\n",
      "Goes inside marker check.\n",
      "Successful results.\n",
      "MARKER : 0 , 50.81915855407715 , 0 , 0 , 413.9599800109863 , 1.9600391387939453 , 415.9200191497803\n"
     ]
    },
    {
     "name": "stderr",
     "output_type": "stream",
     "text": [
      "150.229.118.204 - - [24/Jul/2018 12:19:00] \"POST / HTTP/1.1\" 200 -\n"
     ]
    },
    {
     "name": "stdout",
     "output_type": "stream",
     "text": [
      "Markers detected:  2\n",
      "Marker:  <Marker id=1 center=(500, 338)>\n",
      "Marker:  <Marker id=1 center=(500, 339)>\n",
      "Goes before check.\n",
      "Goes inside marker check.\n",
      "Successful results.\n",
      "MARKER : 0 , 48.193931579589844 , 0 , 0 , 409.56974029541016 , 2.0232200622558594 , 411.592960357666\n"
     ]
    },
    {
     "name": "stderr",
     "output_type": "stream",
     "text": [
      "150.229.118.204 - - [24/Jul/2018 12:19:01] \"POST / HTTP/1.1\" 200 -\n"
     ]
    },
    {
     "name": "stdout",
     "output_type": "stream",
     "text": [
      "Markers detected:  4\n",
      "Marker:  <Marker id=1 center=(435, 495)>\n",
      "Marker:  <Marker id=1 center=(435, 495)>\n",
      "Marker:  <Marker id=243 center=(448, 234)>\n",
      "Marker:  <Marker id=243 center=(448, 234)>\n",
      "Goes before check.\n",
      "Goes inside marker check.\n",
      "Successful results.\n",
      "MARKER : 0 , 44.30890083312988 , 0 , 0 , 349.18928146362305 , 2.4161338806152344 , 351.6054153442383\n"
     ]
    },
    {
     "name": "stderr",
     "output_type": "stream",
     "text": [
      "150.229.118.204 - - [24/Jul/2018 12:19:01] \"POST / HTTP/1.1\" 200 -\n"
     ]
    },
    {
     "name": "stdout",
     "output_type": "stream",
     "text": [
      "Markers detected:  4\n",
      "Marker:  <Marker id=1 center=(384, 549)>\n",
      "Marker:  <Marker id=1 center=(384, 549)>\n",
      "Marker:  <Marker id=243 center=(397, 282)>\n",
      "Marker:  <Marker id=243 center=(397, 282)>\n",
      "Goes before check.\n",
      "Goes inside marker check.\n",
      "Successful results.\n",
      "MARKER : 0 , 48.56610298156738 , 0 , 0 , 338.198184967041 , 2.1109580993652344 , 340.30914306640625\n"
     ]
    },
    {
     "name": "stderr",
     "output_type": "stream",
     "text": [
      "150.229.118.204 - - [24/Jul/2018 12:19:01] \"POST / HTTP/1.1\" 200 -\n"
     ]
    },
    {
     "name": "stdout",
     "output_type": "stream",
     "text": [
      "Markers detected:  4\n",
      "Marker:  <Marker id=1 center=(369, 558)>\n",
      "Marker:  <Marker id=1 center=(369, 558)>\n",
      "Marker:  <Marker id=243 center=(381, 289)>\n",
      "Marker:  <Marker id=243 center=(381, 289)>\n",
      "Goes before check.\n",
      "Goes inside marker check.\n",
      "Successful results.\n",
      "MARKER : 0 , 48.32792282104492 , 0 , 0 , 378.22818756103516 , 2.2039413452148438 , 380.43212890625\n"
     ]
    },
    {
     "name": "stderr",
     "output_type": "stream",
     "text": [
      "150.229.118.204 - - [24/Jul/2018 12:19:02] \"POST / HTTP/1.1\" 200 -\n"
     ]
    },
    {
     "name": "stdout",
     "output_type": "stream",
     "text": [
      "Markers detected:  4\n",
      "Marker:  <Marker id=1 center=(354, 565)>\n",
      "Marker:  <Marker id=1 center=(355, 565)>\n",
      "Marker:  <Marker id=243 center=(367, 293)>\n",
      "Marker:  <Marker id=243 center=(368, 293)>\n",
      "Goes before check.\n",
      "Goes inside marker check.\n",
      "Successful results.\n",
      "MARKER : 0 , 45.77779769897461 , 0 , 0 , 347.86486625671387 , 2.2230148315429688 , 350.08788108825684\n"
     ]
    },
    {
     "name": "stderr",
     "output_type": "stream",
     "text": [
      "150.229.118.204 - - [24/Jul/2018 12:19:02] \"POST / HTTP/1.1\" 200 -\n"
     ]
    },
    {
     "name": "stdout",
     "output_type": "stream",
     "text": [
      "Markers detected:  4\n",
      "Marker:  <Marker id=1 center=(350, 528)>\n",
      "Marker:  <Marker id=1 center=(350, 528)>\n",
      "Marker:  <Marker id=243 center=(363, 261)>\n",
      "Marker:  <Marker id=243 center=(362, 261)>\n",
      "Goes before check.\n",
      "Goes inside marker check.\n",
      "Successful results.\n",
      "MARKER : 0 , 43.32590103149414 , 0 , 0 , 353.3470630645752 , 2.179861068725586 , 355.5269241333008\n"
     ]
    },
    {
     "name": "stderr",
     "output_type": "stream",
     "text": [
      "150.229.118.204 - - [24/Jul/2018 12:19:03] \"POST / HTTP/1.1\" 200 -\n"
     ]
    },
    {
     "name": "stdout",
     "output_type": "stream",
     "text": [
      "Markers detected:  4\n",
      "Marker:  <Marker id=1 center=(385, 452)>\n",
      "Marker:  <Marker id=1 center=(385, 452)>\n",
      "Marker:  <Marker id=243 center=(398, 184)>\n",
      "Marker:  <Marker id=243 center=(398, 184)>\n",
      "Goes before check.\n",
      "Goes inside marker check.\n",
      "Successful results.\n",
      "MARKER : 0 , 45.38893699645996 , 0 , 0 , 364.6237850189209 , 2.285003662109375 , 366.9087886810303\n"
     ]
    },
    {
     "name": "stderr",
     "output_type": "stream",
     "text": [
      "150.229.118.204 - - [24/Jul/2018 12:19:03] \"POST / HTTP/1.1\" 200 -\n"
     ]
    },
    {
     "name": "stdout",
     "output_type": "stream",
     "text": [
      "Markers detected:  4\n",
      "Marker:  <Marker id=1 center=(408, 424)>\n",
      "Marker:  <Marker id=1 center=(408, 424)>\n",
      "Marker:  <Marker id=243 center=(422, 155)>\n",
      "Marker:  <Marker id=243 center=(422, 155)>\n",
      "Goes before check.\n",
      "Goes inside marker check.\n",
      "Successful results.\n",
      "MARKER : 0 , 44.41213607788086 , 0 , 0 , 357.57994651794434 , 2.321958541870117 , 359.90190505981445\n"
     ]
    },
    {
     "name": "stderr",
     "output_type": "stream",
     "text": [
      "150.229.118.204 - - [24/Jul/2018 12:19:04] \"POST / HTTP/1.1\" 200 -\n"
     ]
    },
    {
     "name": "stdout",
     "output_type": "stream",
     "text": [
      "Markers detected:  4\n",
      "Marker:  <Marker id=1 center=(412, 408)>\n",
      "Marker:  <Marker id=1 center=(412, 408)>\n",
      "Marker:  <Marker id=243 center=(428, 140)>\n",
      "Marker:  <Marker id=243 center=(428, 140)>\n",
      "Goes before check.\n",
      "Goes inside marker check.\n",
      "Successful results.\n",
      "MARKER : 0 , 45.468807220458984 , 0 , 0 , 360.4757785797119 , 2.457141876220703 , 362.9329204559326\n"
     ]
    },
    {
     "name": "stderr",
     "output_type": "stream",
     "text": [
      "150.229.118.204 - - [24/Jul/2018 12:19:04] \"POST / HTTP/1.1\" 200 -\n"
     ]
    },
    {
     "name": "stdout",
     "output_type": "stream",
     "text": [
      "Markers detected:  4\n",
      "Marker:  <Marker id=1 center=(379, 407)>\n",
      "Marker:  <Marker id=1 center=(379, 407)>\n",
      "Marker:  <Marker id=243 center=(400, 148)>\n",
      "Marker:  <Marker id=243 center=(400, 148)>\n",
      "Goes before check.\n",
      "Goes inside marker check.\n",
      "Successful results.\n",
      "MARKER : 0 , 46.430110931396484 , 0 , 0 , 358.77084732055664 , 2.067089080810547 , 360.8379364013672\n"
     ]
    },
    {
     "name": "stderr",
     "output_type": "stream",
     "text": [
      "150.229.118.204 - - [24/Jul/2018 12:19:05] \"POST / HTTP/1.1\" 200 -\n"
     ]
    },
    {
     "name": "stdout",
     "output_type": "stream",
     "text": [
      "Markers detected:  3\n",
      "Marker:  <Marker id=1 center=(100, 150)>\n",
      "Marker:  <Marker id=243 center=(105, 69)>\n",
      "Marker:  <Marker id=243 center=(105, 69)>\n",
      "Goes before check.\n",
      "Goes inside marker check.\n",
      "Successful results.\n",
      "MARKER : 0 , 10.10584831237793 , 0 , 0 , 17.06695556640625 , 2.0990371704101562 , 19.165992736816406\n",
      "Markers detected:  0\n",
      "Goes before check.\n",
      "Successful results.\n",
      "MARKER : 0 , 8.643865585327148 , 0 , 0 , 18.89824867248535 , 0.8080005645751953 , 19.706249237060547\n",
      "Markers detected:  3\n",
      "Marker:  <Marker id=1 center=(103, 149)>\n",
      "Marker:  <Marker id=243 center=(108, 67)>\n",
      "Marker:  <Marker id=243 center=(108, 67)>\n",
      "Goes before check.\n",
      "Goes inside marker check.\n",
      "Successful results.\n",
      "MARKER : 0 , 10.637998580932617 , 0 , 0 , 19.102811813354492 , 1.5151500701904297 , 20.617961883544922\n",
      "Markers detected:  1\n",
      "Marker:  <Marker id=243 center=(110, 67)>\n",
      "Goes before check.\n",
      "Goes inside marker check.\n",
      "Successful results.\n",
      "MARKER : 0 , 10.206222534179688 , 0 , 0 , 19.437074661254883 , 1.3692378997802734 , 20.806312561035156\n"
     ]
    },
    {
     "name": "stderr",
     "output_type": "stream",
     "text": [
      "150.229.118.204 - - [24/Jul/2018 12:23:16] \"POST / HTTP/1.1\" 200 -\n",
      "150.229.118.204 - - [24/Jul/2018 12:23:16] \"POST / HTTP/1.1\" 200 -\n",
      "150.229.118.204 - - [24/Jul/2018 12:23:16] \"POST / HTTP/1.1\" 200 -\n",
      "150.229.118.204 - - [24/Jul/2018 12:23:16] \"POST / HTTP/1.1\" 200 -\n"
     ]
    },
    {
     "name": "stdout",
     "output_type": "stream",
     "text": [
      "Markers detected:  1\n",
      "Marker:  <Marker id=243 center=(114, 66)>\n",
      "Goes before check.\n",
      "Goes inside marker check.\n",
      "Successful results.\n",
      "MARKER : 0 , 9.39488410949707 , 0 , 0 , 15.49077033996582 , 0.8790493011474609 , 16.36981964111328\n",
      "Markers detected:  1\n",
      "Marker:  <Marker id=243 center=(117, 66)>\n",
      "Goes before check.\n",
      "Goes inside marker check.\n",
      "Successful results.\n",
      "MARKER : 0 , 7.941961288452148 , 0 , 0 , 14.259815216064453 , 0.9000301361083984 , 15.159845352172852\n",
      "Markers detected:  3\n",
      "Marker:  <Marker id=1 center=(112, 147)>\n",
      "Marker:  <Marker id=243 center=(117, 66)>\n",
      "Marker:  <Marker id=243 center=(117, 66)>\n",
      "Goes before check.\n",
      "Goes inside marker check.\n",
      "Successful results.\n",
      "MARKER : 0 , 9.899139404296875 , 0 , 0 , 21.414756774902344 , 2.0771026611328125 , 23.491859436035156\n",
      "Markers detected: "
     ]
    },
    {
     "name": "stderr",
     "output_type": "stream",
     "text": [
      "150.229.118.204 - - [24/Jul/2018 12:23:16] \"POST / HTTP/1.1\" 200 -\n",
      "150.229.118.204 - - [24/Jul/2018 12:23:16] \"POST / HTTP/1.1\" 200 -\n",
      "150.229.118.204 - - [24/Jul/2018 12:23:16] \"POST / HTTP/1.1\" 200 -\n"
     ]
    },
    {
     "name": "stdout",
     "output_type": "stream",
     "text": [
      " 1\n",
      "Marker:  <Marker id=243 center=(117, 64)>\n",
      "Goes before check.\n",
      "Goes inside marker check.\n",
      "Successful results.\n",
      "MARKER : 0 , 7.486104965209961 , 0 , 0 , 15.722990036010742 , 1.2001991271972656 , 16.923189163208008\n",
      "Markers detected:  3\n",
      "Marker:  <Marker id=1 center=(113, 144)>\n",
      "Marker:  <Marker id=243 center=(118, 63)>\n",
      "Marker:  <Marker id=243 center=(118, 63)>\n",
      "Goes before check.\n",
      "Goes inside marker check.\n",
      "Successful results.\n",
      "MARKER : 0 , 6.583690643310547 , 0 , 0 , 14.119148254394531 , 1.1370182037353516 , 15.256166458129883\n",
      "Markers detected:  3\n",
      "Marker:  <Marker id=1 center=(113, 144)>\n",
      "Marker:  <Marker id=243 center=(118, 61)>\n",
      "Marker:  <Marker id=243 center=(117, 61)>\n",
      "Goes before check.\n",
      "Goes inside marker check.\n",
      "Successful results.\n",
      "MARKER : 0 , 9.299278259277344 , 0 , 0 , 17.882108688354492 , 1.9178390502929688 , 19.79994773864746\n",
      "Markers detected:  2\n",
      "Marker:  <Marker id=1 center=(113, 143)>\n",
      "Marker:  <Marker id=243 center=(118, 61)>\n",
      "Goes before check.\n",
      "Goes inside marker check.\n",
      "Successful results.\n",
      "MARKER : 0 , 8.377790451049805 , 0 ,"
     ]
    },
    {
     "name": "stderr",
     "output_type": "stream",
     "text": [
      "150.229.118.204 - - [24/Jul/2018 12:23:17] \"POST / HTTP/1.1\" 200 -\n",
      "150.229.118.204 - - [24/Jul/2018 12:23:17] \"POST / HTTP/1.1\" 200 -\n",
      "150.229.118.204 - - [24/Jul/2018 12:23:17] \"POST / HTTP/1.1\" 200 -\n",
      "150.229.118.204 - - [24/Jul/2018 12:23:17] \"POST / HTTP/1.1\" 200 -\n"
     ]
    },
    {
     "name": "stdout",
     "output_type": "stream",
     "text": [
      " 0 , 14.704227447509766 , 1.7888545989990234 , 16.49308204650879\n",
      "Markers detected:  2\n",
      "Marker:  <Marker id=243 center=(119, 60)>\n",
      "Marker:  <Marker id=243 center=(119, 61)>\n",
      "Goes before check.\n",
      "Goes inside marker check.\n",
      "Successful results.\n",
      "MARKER : 0 , 9.387016296386719 , 0 , 0 , 16.062259674072266 , 0.9069442749023438 , 16.96920394897461\n",
      "Markers detected:  3\n",
      "Marker:  <Marker id=1 center=(115, 143)>\n",
      "Marker:  <Marker id=243 center=(120, 60)>\n",
      "Marker:  <Marker id=243 center=(120, 60)>\n",
      "Goes before check.\n",
      "Goes inside marker check.\n",
      "Successful results.\n",
      "MARKER : 0 , 7.751941680908203 , 0 , 0 , 18.160104751586914 , 2.0170211791992188 , 20.177125930786133\n",
      "Markers detected:  2\n",
      "Marker:  <Marker id=243 center=(121, 60)>\n",
      "Marker:  <Marker id=243 center=(121, 60)>\n",
      "Goes before check.\n",
      "Goes inside marker check.\n",
      "Successful results.\n",
      "MARKER : 0 , 8.379936218261719 , 0 , 0 , 17.309904098510742 , 1.096963882446289 , 18.40686798095703\n"
     ]
    },
    {
     "name": "stderr",
     "output_type": "stream",
     "text": [
      "150.229.118.204 - - [24/Jul/2018 12:23:17] \"POST / HTTP/1.1\" 200 -\n",
      "150.229.118.204 - - [24/Jul/2018 12:23:17] \"POST / HTTP/1.1\" 200 -\n",
      "150.229.118.204 - - [24/Jul/2018 12:23:17] \"POST / HTTP/1.1\" 200 -\n",
      "150.229.118.204 - - [24/Jul/2018 12:23:17] \"POST / HTTP/1.1\" 200 -\n"
     ]
    },
    {
     "name": "stdout",
     "output_type": "stream",
     "text": [
      "Markers detected:  3\n",
      "Marker:  <Marker id=1 center=(117, 142)>\n",
      "Marker:  <Marker id=243 center=(122, 60)>\n",
      "Marker:  <Marker id=243 center=(122, 60)>\n",
      "Goes before check.\n",
      "Goes inside marker check.\n",
      "Successful results.\n",
      "MARKER : 0 , 11.368989944458008 , 0 , 0 , 18.76521110534668 , 1.7011165618896484 , 20.466327667236328\n",
      "Markers detected:  1\n",
      "Marker:  <Marker id=243 center=(123, 60)>\n",
      "Goes before check.\n",
      "Goes inside marker check.\n",
      "Successful results.\n",
      "MARKER : 0 , 9.120941162109375 , 0 , 0 , 16.218900680541992 , 2.050161361694336 , 18.269062042236328\n",
      "Markers detected:  2\n",
      "Marker:  <Marker id=243 center=(124, 61)>\n",
      "Marker:  <Marker id=243 center=(124, 61)>\n",
      "Goes before check.\n",
      "Goes inside marker check.\n",
      "Successful results.\n",
      "MARKER : 0 , 10.807037353515625 , 0 , 0 , 21.242141723632812 , 0.9338855743408203 , 22.176027297973633\n"
     ]
    },
    {
     "name": "stderr",
     "output_type": "stream",
     "text": [
      "150.229.118.204 - - [24/Jul/2018 12:23:17] \"POST / HTTP/1.1\" 200 -\n",
      "150.229.118.204 - - [24/Jul/2018 12:23:17] \"POST / HTTP/1.1\" 200 -\n",
      "150.229.118.204 - - [24/Jul/2018 12:23:17] \"POST / HTTP/1.1\" 200 -\n"
     ]
    },
    {
     "name": "stdout",
     "output_type": "stream",
     "text": [
      "Markers detected:  3\n",
      "Marker:  <Marker id=1 center=(119, 142)>\n",
      "Marker:  <Marker id=243 center=(124, 61)>\n",
      "Marker:  <Marker id=243 center=(125, 61)>\n",
      "Goes before check.\n",
      "Goes inside marker check.\n",
      "Successful results.\n",
      "MARKER : 0 , 7.302999496459961 , 0 , 0 , 54.300785064697266 , 2.351999282836914 , 56.65278434753418\n",
      "Markers detected:  2\n",
      "Marker:  <Marker id=1 center=(121, 141)>\n",
      "Marker:  <Marker id=243 center=(126, 60)>\n",
      "Goes before check.\n",
      "Goes inside marker check.\n",
      "Successful results.\n",
      "MARKER : 0 , 8.136749267578125 , 0 , 0 , 14.785051345825195 , 1.0738372802734375 , 15.858888626098633\n",
      "Markers detected:  3\n",
      "Marker:  <Marker id=1 center=(119, 143)>\n",
      "Marker:  <Marker id=243 center=(125, 61)>\n",
      "Marker:  <Marker id=243 center=(125, 61)>\n",
      "Goes before check.\n",
      "Goes inside marker check.\n",
      "Successful results.\n",
      "MARKER : 0 , 9.676218032836914 , 0 , 0 , 17.63129234313965 , 2.148866653442383 , 19.78015899658203\n",
      "Markers detected:  2\n",
      "Marker:  <Marker id=1 center=(115, 145)>\n",
      "Marker:  <Marker id=243 center=(121, 62)>\n",
      "Goes before check.\n",
      "Goes inside marker check.\n",
      "Successful results.\n",
      "MARKER : 0 , 9.439945220947266 , 0 , 0"
     ]
    },
    {
     "name": "stderr",
     "output_type": "stream",
     "text": [
      "150.229.118.204 - - [24/Jul/2018 12:23:17] \"POST / HTTP/1.1\" 200 -\n",
      "150.229.118.204 - - [24/Jul/2018 12:23:17] \"POST / HTTP/1.1\" 200 -\n",
      "150.229.118.204 - - [24/Jul/2018 12:23:17] \"POST / HTTP/1.1\" 200 -\n"
     ]
    },
    {
     "name": "stdout",
     "output_type": "stream",
     "text": [
      " , 16.664981842041016 , 1.043081283569336 , 17.70806312561035\n",
      "Markers detected:  4\n",
      "Marker:  <Marker id=1 center=(112, 146)>\n",
      "Marker:  <Marker id=1 center=(112, 146)>\n",
      "Marker:  <Marker id=243 center=(118, 63)>\n",
      "Marker:  <Marker id=243 center=(118, 64)>\n",
      "Goes before check.\n",
      "Goes inside marker check.\n",
      "Successful results.\n",
      "MARKER : 0 , 9.614944458007812 , 0 , 0 , 15.34581184387207 , 1.1630058288574219 , 16.508817672729492\n",
      "Markers detected:  1\n",
      "Marker:  <Marker id=243 center=(115, 63)>\n",
      "Goes before check.\n",
      "Goes inside marker check.\n",
      "Successful results.\n",
      "MARKER : 0 , 7.660865783691406 , 0 , 0 , 17.397165298461914 , 0.7789134979248047 , 18.17607879638672\n",
      "Markers detected:  3\n",
      "Marker:  <Marker id=1 center=(104, 147)>\n",
      "Marker:  <Marker id=243 center=(110, 63)>\n",
      "Marker:  <Marker id=243 center=(110, 63)>\n",
      "Goes before check.\n",
      "Goes inside marker check.\n",
      "Successful results.\n",
      "MARKER : 0 , 10.865926742553711 , 0 , 0 , 19.97208595275879 , 1.4867782592773438 , 21.458864212036133\n"
     ]
    },
    {
     "name": "stderr",
     "output_type": "stream",
     "text": [
      "150.229.118.204 - - [24/Jul/2018 12:23:18] \"POST / HTTP/1.1\" 200 -\n",
      "150.229.118.204 - - [24/Jul/2018 12:23:18] \"POST / HTTP/1.1\" 200 -\n",
      "150.229.118.204 - - [24/Jul/2018 12:23:18] \"POST / HTTP/1.1\" 200 -\n",
      "150.229.118.204 - - [24/Jul/2018 12:23:18] \"POST / HTTP/1.1\" 200 -\n"
     ]
    },
    {
     "name": "stdout",
     "output_type": "stream",
     "text": [
      "Markers detected:  3\n",
      "Marker:  <Marker id=1 center=(101, 146)>\n",
      "Marker:  <Marker id=243 center=(108, 61)>\n",
      "Marker:  <Marker id=243 center=(108, 61)>\n",
      "Goes before check.\n",
      "Goes inside marker check.\n",
      "Successful results.\n",
      "MARKER : 0 , 9.86170768737793 , 0 , 0 , 19.501924514770508 , 1.1301040649414062 , 20.632028579711914\n",
      "Markers detected:  2\n",
      "Marker:  <Marker id=243 center=(108, 58)>\n",
      "Marker:  <Marker id=243 center=(107, 58)>\n",
      "Goes before check.\n",
      "Goes inside marker check.\n",
      "Successful results.\n",
      "MARKER : 0 , 8.689165115356445 , 0 , 0 , 16.787052154541016 , 2.129793167114258 , 18.916845321655273\n",
      "Markers detected:  2\n",
      "Marker:  <Marker id=243 center=(106, 57)>\n",
      "Marker:  <Marker id=243 center=(107, 57)>\n",
      "Goes before check.\n",
      "Goes inside marker check.\n",
      "Successful results.\n",
      "MARKER : 0 , 8.002996444702148 , 0 , 0 , 15.334844589233398 , 0.9829998016357422 , 16.31784439086914\n"
     ]
    },
    {
     "name": "stderr",
     "output_type": "stream",
     "text": [
      "150.229.118.204 - - [24/Jul/2018 12:23:18] \"POST / HTTP/1.1\" 200 -\n",
      "150.229.118.204 - - [24/Jul/2018 12:23:18] \"POST / HTTP/1.1\" 200 -\n",
      "150.229.118.204 - - [24/Jul/2018 12:23:18] \"POST / HTTP/1.1\" 200 -\n"
     ]
    },
    {
     "name": "stdout",
     "output_type": "stream",
     "text": [
      "Markers detected:  3\n",
      "Marker:  <Marker id=1 center=(99, 143)>\n",
      "Marker:  <Marker id=243 center=(105, 57)>\n",
      "Marker:  <Marker id=243 center=(105, 57)>\n",
      "Goes before check.\n",
      "Goes inside marker check.\n",
      "Successful results.\n",
      "MARKER : 0 , 9.848833084106445 , 0 , 0 , 17.6849365234375 , 2.2830963134765625 , 19.968032836914062\n",
      "Markers detected:  3\n",
      "Marker:  <Marker id=1 center=(97, 143)>\n",
      "Marker:  <Marker id=243 center=(104, 57)>\n",
      "Marker:  <Marker id=243 center=(104, 57)>\n",
      "Goes before check.\n",
      "Goes inside marker check.\n",
      "Successful results.\n",
      "MARKER : 0 , 10.895967483520508 , 0 , 0 , 20.48802375793457 , 1.4119148254394531 , 21.899938583374023\n",
      "Markers detected:  3\n",
      "Marker:  <Marker id=1 center=(96, 144)>\n",
      "Marker:  <Marker id=243 center=(103, 58)>\n",
      "Marker:  <Marker id=243 center=(103, 58)>\n",
      "Goes before check.\n",
      "Goes inside marker check.\n",
      "Successful results.\n",
      "MARKER : 0 , 8.085012435913086 , 0 , 0 , 18.098831176757812 , 1.8610954284667969 , 19.95992660522461\n",
      "Markers detected:  3\n",
      "Marker:  <Marker id=1 center=(95, 144)>\n",
      "Marker:  <Marker id=243 center=(101, 58)>\n",
      "Marker:  <Marker id=243 center=(101, 58)>\n",
      "Goes before check.\n",
      "Goes inside marker check.\n",
      "Successful results.\n",
      "MARKER : 0 , 9.238004684448242 , 0 , 0 , 17.84992218017578 , 0.9112358093261719 , 18.761157989501953\n"
     ]
    },
    {
     "name": "stderr",
     "output_type": "stream",
     "text": [
      "150.229.118.204 - - [24/Jul/2018 12:23:18] \"POST / HTTP/1.1\" 200 -\n",
      "150.229.118.204 - - [24/Jul/2018 12:23:18] \"POST / HTTP/1.1\" 200 -\n",
      "150.229.118.204 - - [24/Jul/2018 12:23:18] \"POST / HTTP/1.1\" 200 -\n"
     ]
    },
    {
     "name": "stdout",
     "output_type": "stream",
     "text": [
      "Markers detected:  2\n",
      "Marker:  <Marker id=243 center=(98, 59)>\n",
      "Marker:  <Marker id=243 center=(99, 59)>\n",
      "Goes before check.\n",
      "Goes inside marker check.\n",
      "Successful results.\n",
      "MARKER : 0 , 8.90493392944336 , 0 , 0 , 18.512964248657227 , 2.360105514526367 , 20.873069763183594\n",
      "Markers detected:  3\n",
      "Marker:  <Marker id=1 center=(91, 146)>\n",
      "Marker:  <Marker id=243 center=(97, 59)>\n",
      "Marker:  <Marker id=243 center=(97, 59)>\n",
      "Goes before check.\n",
      "Goes inside marker check.\n",
      "Successful results.\n",
      "MARKER : 0 , 9.64808464050293 , 0 , 0 , 19.496917724609375 , 1.0790824890136719 , 20.576000213623047\n",
      "Markers detected:  2\n",
      "Marker:  <Marker id=1 center=(90, 146)>\n",
      "Marker:  <Marker id=243 center=(97, 58)>\n",
      "Goes before check.\n",
      "Goes inside marker check.\n",
      "Successful results.\n",
      "MARKER : 0 , 9.945154190063477 , 0 , 0 , 18.584728240966797 , 1.9609928131103516 , 20.54572105407715\n"
     ]
    },
    {
     "name": "stderr",
     "output_type": "stream",
     "text": [
      "150.229.118.204 - - [24/Jul/2018 12:23:18] \"POST / HTTP/1.1\" 200 -\n",
      "150.229.118.204 - - [24/Jul/2018 12:23:18] \"POST / HTTP/1.1\" 200 -\n",
      "150.229.118.204 - - [24/Jul/2018 12:23:18] \"POST / HTTP/1.1\" 200 -\n"
     ]
    },
    {
     "name": "stdout",
     "output_type": "stream",
     "text": [
      "Markers detected:  1\n",
      "Marker:  <Marker id=243 center=(95, 59)>\n",
      "Goes before check.\n",
      "Goes inside marker check.\n",
      "Successful results.\n",
      "MARKER : 0 , 8.016109466552734 , 0 , 0 , 18.10002326965332 , 0.9810924530029297 , 19.08111572265625\n",
      "Markers detected:  4\n",
      "Marker:  <Marker id=1 center=(87, 147)>\n",
      "Marker:  <Marker id=1 center=(87, 147)>\n",
      "Marker:  <Marker id=243 center=(94, 59)>\n",
      "Marker:  <Marker id=243 center=(94, 59)>\n",
      "Goes before check.\n",
      "Goes inside marker check.\n",
      "Successful results.\n",
      "MARKER : 0 , 9.717941284179688 , 0 , 0 , 19.793987274169922 , 2.1021366119384766 , 21.8961238861084\n",
      "Markers detected:  2\n",
      "Marker:  <Marker id=243 center=(93, 59)>\n",
      "Marker:  <Marker id=243 center=(93, 59)>\n",
      "Goes before check.\n",
      "Goes inside marker check.\n",
      "Successful results.\n",
      "MARKER : 0 , 8.717775344848633 , 0 , 0 , 15.450000762939453 , 1.0089874267578125 , 16.458988189697266\n"
     ]
    },
    {
     "name": "stderr",
     "output_type": "stream",
     "text": [
      "150.229.118.204 - - [24/Jul/2018 12:23:19] \"POST / HTTP/1.1\" 200 -\n",
      "150.229.118.204 - - [24/Jul/2018 12:23:19] \"POST / HTTP/1.1\" 200 -\n",
      "150.229.118.204 - - [24/Jul/2018 12:23:19] \"POST / HTTP/1.1\" 200 -\n"
     ]
    },
    {
     "name": "stdout",
     "output_type": "stream",
     "text": [
      "Markers detected:  3\n",
      "Marker:  <Marker id=1 center=(82, 148)>\n",
      "Marker:  <Marker id=243 center=(90, 58)>\n",
      "Marker:  <Marker id=243 center=(90, 58)>\n",
      "Goes before check.\n",
      "Goes inside marker check.\n",
      "Successful results.\n",
      "MARKER : 0 , 8.081912994384766 , 0 , 0 , 13.441085815429688 , 1.9729137420654297 , 15.413999557495117\n",
      "Markers detected:  4\n",
      "Marker:  <Marker id=1 center=(80, 148)>\n",
      "Marker:  <Marker id=1 center=(80, 148)>\n",
      "Marker:  <Marker id=243 center=(88, 58)>\n",
      "Marker:  <Marker id=243 center=(88, 58)>\n",
      "Goes before check.\n",
      "Goes inside marker check.\n",
      "Successful results.\n",
      "MARKER : 0 , 9.909868240356445 , 0 , 0 , 18.61286163330078 , 1.9540786743164062 , 20.566940307617188\n",
      "Markers detected:  3\n",
      "Marker:  <Marker id=1 center=(77, 149)>\n",
      "Marker:  <Marker id=243 center=(85, 57)>\n",
      "Marker:  <Marker id=243 center=(85, 57)>\n",
      "Goes before check.\n",
      "Goes inside marker check.\n",
      "Successful results.\n",
      "MARKER : 0 , 7.884740829467773 , 0 , 0 , 14.456748962402344 , 1.9462108612060547 , 16.4029598236084\n"
     ]
    },
    {
     "name": "stderr",
     "output_type": "stream",
     "text": [
      "150.229.118.204 - - [24/Jul/2018 12:23:19] \"POST / HTTP/1.1\" 200 -\n",
      "150.229.118.204 - - [24/Jul/2018 12:23:19] \"POST / HTTP/1.1\" 200 -\n",
      "150.229.118.204 - - [24/Jul/2018 12:23:19] \"POST / HTTP/1.1\" 200 -\n"
     ]
    },
    {
     "name": "stdout",
     "output_type": "stream",
     "text": [
      "Markers detected:  3\n",
      "Marker:  <Marker id=1 center=(72, 150)>\n",
      "Marker:  <Marker id=243 center=(81, 57)>\n",
      "Marker:  <Marker id=243 center=(81, 57)>\n",
      "Goes before check.\n",
      "Goes inside marker check.\n",
      "Successful results.\n",
      "MARKER : 0 , 7.689952850341797 , 0 , 0 , 13.54217529296875 , 1.013040542602539 , 14.555215835571289\n",
      "Markers detected:  2\n",
      "Marker:  <Marker id=243 center=(79, 57)>\n",
      "Marker:  <Marker id=243 center=(79, 57)>\n",
      "Goes before check.\n",
      "Goes inside marker check.\n",
      "Successful results.\n",
      "MARKER : 0 , 8.629083633422852 , 0 , 0 , 15.92397689819336 , 2.063751220703125 , 17.987728118896484\n",
      "Markers detected:  4\n",
      "Marker:  <Marker id=1 center=(69, 151)>\n",
      "Marker:  <Marker id=1 center=(69, 151)>\n",
      "Marker:  <Marker id=243 center=(77, 57)>\n",
      "Marker:  <Marker id=243 center=(77, 56)>\n",
      "Goes before check.\n",
      "Goes inside marker check.\n",
      "Successful results.\n",
      "MARKER : 0 , 9.891986846923828 , 0 , 0 , 16.96014404296875 , 2.010822296142578 , 18.970966339111328\n"
     ]
    },
    {
     "name": "stderr",
     "output_type": "stream",
     "text": [
      "150.229.118.204 - - [24/Jul/2018 12:23:19] \"POST / HTTP/1.1\" 200 -\n",
      "150.229.118.204 - - [24/Jul/2018 12:23:19] \"POST / HTTP/1.1\" 200 -\n",
      "150.229.118.204 - - [24/Jul/2018 12:23:19] \"POST / HTTP/1.1\" 200 -\n"
     ]
    },
    {
     "name": "stdout",
     "output_type": "stream",
     "text": [
      "Markers detected:  3\n",
      "Marker:  <Marker id=1 center=(65, 152)>\n",
      "Marker:  <Marker id=243 center=(74, 57)>\n",
      "Marker:  <Marker id=243 center=(73, 57)>\n",
      "Goes before check.\n",
      "Goes inside marker check.\n",
      "Successful results.\n",
      "MARKER : 0 , 8.538961410522461 , 0 , 0 , 18.27406883239746 , 2.2039413452148438 , 20.478010177612305\n",
      "Markers detected:  3\n",
      "Marker:  <Marker id=1 center=(63, 152)>\n",
      "Marker:  <Marker id=243 center=(71, 57)>\n",
      "Marker:  <Marker id=243 center=(71, 57)>\n",
      "Goes before check.\n",
      "Goes inside marker check.\n",
      "Successful results.\n",
      "MARKER : 0 , 9.651899337768555 , 0 , 0 , 16.02792739868164 , 1.0559558868408203 , 17.08388328552246\n",
      "Markers detected:  3\n",
      "Marker:  <Marker id=1 center=(61, 152)>\n",
      "Marker:  <Marker id=243 center=(70, 56)>\n",
      "Marker:  <Marker id=243 center=(69, 56)>\n",
      "Goes before check.\n",
      "Goes inside marker check.\n",
      "Successful results.\n",
      "MARKER : 0 , 8.677005767822266 , 0 , 0 , 15.56086540222168 , 0.9338855743408203 , 16.4947509765625\n",
      "Markers detected:  3\n",
      "Marker:  <Marker id=1 center=(60, 152)>\n"
     ]
    },
    {
     "name": "stderr",
     "output_type": "stream",
     "text": [
      "150.229.118.204 - - [24/Jul/2018 12:23:19] \"POST / HTTP/1.1\" 200 -\n",
      "150.229.118.204 - - [24/Jul/2018 12:23:19] \"POST / HTTP/1.1\" 200 -\n",
      "150.229.118.204 - - [24/Jul/2018 12:23:19] \"POST / HTTP/1.1\" 200 -\n",
      "150.229.118.204 - - [24/Jul/2018 12:23:19] \"POST / HTTP/1.1\" 200 -\n"
     ]
    },
    {
     "name": "stdout",
     "output_type": "stream",
     "text": [
      "Marker:  <Marker id=243 center=(68, 56)>\n",
      "Marker:  <Marker id=243 center=(68, 56)>\n",
      "Goes before check.\n",
      "Goes inside marker check.\n",
      "Successful results.\n",
      "MARKER : 0 , 9.263277053833008 , 0 , 0 , 19.12212371826172 , 2.0608901977539062 , 21.183013916015625\n",
      "Markers detected:  3\n",
      "Marker:  <Marker id=1 center=(58, 152)>\n",
      "Marker:  <Marker id=243 center=(66, 56)>\n",
      "Marker:  <Marker id=243 center=(66, 56)>\n",
      "Goes before check.\n",
      "Goes inside marker check.\n",
      "Successful results.\n",
      "MARKER : 0 , 9.081125259399414 , 0 , 0 , 15.92707633972168 , 0.8969306945800781 , 16.824007034301758\n",
      "Markers detected:  4\n",
      "Marker:  <Marker id=1 center=(57, 152)>\n",
      "Marker:  <Marker id=1 center=(57, 152)>\n",
      "Marker:  <Marker id=243 center=(64, 55)>\n",
      "Marker:  <Marker id=243 center=(65, 55)>\n",
      "Goes before check.\n",
      "Goes inside marker check.\n",
      "Successful results.\n",
      "MARKER : 0 , 9.168863296508789 , 0 , 0 , 17.705917358398438 , 1.2249946594238281 , 18.930912017822266\n",
      "Markers detected:  3\n",
      "Marker:  <Marker id=1 center=(56, 151)>\n",
      "Marker:  <Marker id=243 center=(64, 55)>\n",
      "Marker:  <Marker id=243 center=(64, 55)>\n",
      "Goes before check.\n",
      "Goes inside marker check.\n",
      "Successful results.\n",
      "MARKER : 0 , 8.099794387817383 , 0 , 0 , 14.474868774414062 , 0.9620189666748047 , 15.436887741088867\n"
     ]
    },
    {
     "name": "stderr",
     "output_type": "stream",
     "text": [
      "150.229.118.204 - - [24/Jul/2018 12:23:20] \"POST / HTTP/1.1\" 200 -\n",
      "150.229.118.204 - - [24/Jul/2018 12:23:20] \"POST / HTTP/1.1\" 200 -\n",
      "150.229.118.204 - - [24/Jul/2018 12:23:20] \"POST / HTTP/1.1\" 200 -\n",
      "150.229.118.204 - - [24/Jul/2018 12:23:20] \"POST / HTTP/1.1\" 200 -\n"
     ]
    },
    {
     "name": "stdout",
     "output_type": "stream",
     "text": [
      "Markers detected:  2\n",
      "Marker:  <Marker id=243 center=(62, 54)>\n",
      "Marker:  <Marker id=243 center=(62, 54)>\n",
      "Goes before check.\n",
      "Goes inside marker check.\n",
      "Successful results.\n",
      "MARKER : 0 , 9.361028671264648 , 0 , 0 , 15.475988388061523 , 1.2729167938232422 , 16.748905181884766\n",
      "Markers detected:  4\n",
      "Marker:  <Marker id=1 center=(54, 150)>\n",
      "Marker:  <Marker id=1 center=(54, 150)>\n",
      "Marker:  <Marker id=243 center=(61, 54)>\n",
      "Marker:  <Marker id=243 center=(61, 54)>\n",
      "Goes before check.\n",
      "Goes inside marker check.\n",
      "Successful results.\n",
      "MARKER : 0 , 9.126901626586914 , 0 , 0 , 18.589019775390625 , 2.177000045776367 , 20.766019821166992\n",
      "Markers detected:  3\n",
      "Marker:  <Marker id=1 center=(53, 150)>\n",
      "Marker:  <Marker id=243 center=(61, 54)>\n",
      "Marker:  <Marker id=243 center=(61, 54)>\n",
      "Goes before check.\n",
      "Goes inside marker check.\n",
      "Successful results.\n",
      "MARKER : 0 , 8.285999298095703 , 0 , 0 , 16.94798469543457 , 1.0499954223632812 , 17.99798011779785\n"
     ]
    },
    {
     "name": "stderr",
     "output_type": "stream",
     "text": [
      "150.229.118.204 - - [24/Jul/2018 12:23:20] \"POST / HTTP/1.1\" 200 -\n",
      "150.229.118.204 - - [24/Jul/2018 12:23:20] \"POST / HTTP/1.1\" 200 -\n",
      "150.229.118.204 - - [24/Jul/2018 12:23:20] \"POST / HTTP/1.1\" 200 -\n",
      "150.229.118.204 - - [24/Jul/2018 12:23:20] \"POST / HTTP/1.1\" 200 -\n"
     ]
    },
    {
     "name": "stdout",
     "output_type": "stream",
     "text": [
      "Markers detected:  3\n",
      "Marker:  <Marker id=1 center=(54, 151)>\n",
      "Marker:  <Marker id=243 center=(61, 55)>\n",
      "Marker:  <Marker id=243 center=(61, 55)>\n",
      "Goes before check.\n",
      "Goes inside marker check.\n",
      "Successful results.\n",
      "MARKER : 0 , 10.377883911132812 , 0 , 0 , 20.66493034362793 , 1.4979839324951172 , 22.162914276123047\n",
      "Markers detected:  3\n",
      "Marker:  <Marker id=1 center=(55, 151)>\n",
      "Marker:  <Marker id=243 center=(61, 55)>\n",
      "Marker:  <Marker id=243 center=(61, 55)>\n",
      "Goes before check.\n",
      "Goes inside marker check.\n",
      "Successful results.\n",
      "MARKER : 0 , 7.785797119140625 , 0 , 0 , 16.510963439941406 , 1.0488033294677734 , 17.55976676940918\n",
      "Markers detected:  3\n",
      "Marker:  <Marker id=1 center=(55, 151)>\n",
      "Marker:  <Marker id=243 center=(62, 56)>\n",
      "Marker:  <Marker id=243 center=(62, 55)>\n",
      "Goes before check.\n",
      "Goes inside marker check.\n",
      "Successful results.\n",
      "MARKER : 0 , 9.548187255859375 , 0 , 0 , 19.30689811706543 , 2.221822738647461 , 21.52872085571289\n",
      "Markers detected:  2\n",
      "Marker:  <Marker id=243 center=(62, 56)>\n",
      "Marker:  <Marker id=243 center=(62, 56)>\n",
      "Goes before check.\n",
      "Goes inside marker check.\n",
      "Successful results.\n",
      "MARKER : 0 , 8.085966110229492 , 0 , 0 , 15.35487174987793 , 1.1031627655029297 , 16.45803451538086\n"
     ]
    },
    {
     "name": "stderr",
     "output_type": "stream",
     "text": [
      "150.229.118.204 - - [24/Jul/2018 12:23:20] \"POST / HTTP/1.1\" 200 -\n",
      "150.229.118.204 - - [24/Jul/2018 12:23:20] \"POST / HTTP/1.1\" 200 -\n",
      "150.229.118.204 - - [24/Jul/2018 12:23:20] \"POST / HTTP/1.1\" 200 -\n"
     ]
    },
    {
     "name": "stdout",
     "output_type": "stream",
     "text": [
      "Markers detected:  4\n",
      "Marker:  <Marker id=1 center=(54, 152)>\n",
      "Marker:  <Marker id=1 center=(54, 152)>\n",
      "Marker:  <Marker id=243 center=(61, 55)>\n",
      "Marker:  <Marker id=243 center=(61, 56)>\n",
      "Goes before check.\n",
      "Goes inside marker check.\n",
      "Successful results.\n",
      "MARKER : 0 , 7.707834243774414 , 0 , 0 , 16.975879669189453 , 1.2960433959960938 , 18.271923065185547\n",
      "Markers detected:  3\n",
      "Marker:  <Marker id=1 center=(54, 152)>\n",
      "Marker:  <Marker id=243 center=(61, 55)>\n",
      "Marker:  <Marker id=243 center=(61, 55)>\n",
      "Goes before check.\n",
      "Goes inside marker check.\n",
      "Successful results.\n",
      "MARKER : 0 , 8.838176727294922 , 0 , 0 , 17.327070236206055 , 2.153158187866211 , 19.480228424072266\n",
      "Markers detected:  3\n",
      "Marker:  <Marker id=1 center=(54, 152)>\n",
      "Marker:  <Marker id=243 center=(60, 55)>\n",
      "Marker:  <Marker id=243 center=(60, 55)>\n",
      "Goes before check.\n",
      "Goes inside marker check.\n",
      "Successful results.\n",
      "MARKER : 0 , 8.479118347167969 , 0 , 0 , 14.480829238891602 , 0.9379386901855469 , 15.418767929077148\n"
     ]
    },
    {
     "name": "stderr",
     "output_type": "stream",
     "text": [
      "150.229.118.204 - - [24/Jul/2018 12:23:20] \"POST / HTTP/1.1\" 200 -\n",
      "150.229.118.204 - - [24/Jul/2018 12:23:20] \"POST / HTTP/1.1\" 200 -\n",
      "150.229.118.204 - - [24/Jul/2018 12:23:20] \"POST / HTTP/1.1\" 200 -\n",
      "150.229.118.204 - - [24/Jul/2018 12:23:20] \"POST / HTTP/1.1\" 200 -\n"
     ]
    },
    {
     "name": "stdout",
     "output_type": "stream",
     "text": [
      "Markers detected:  3\n",
      "Marker:  <Marker id=1 center=(54, 151)>\n",
      "Marker:  <Marker id=243 center=(61, 55)>\n",
      "Marker:  <Marker id=243 center=(61, 55)>\n",
      "Goes before check.\n",
      "Goes inside marker check.\n",
      "Successful results.\n",
      "MARKER : 0 , 8.20469856262207 , 0 , 0 , 15.210151672363281 , 1.1570453643798828 , 16.367197036743164\n",
      "Markers detected:  3\n",
      "Marker:  <Marker id=1 center=(55, 151)>\n",
      "Marker:  <Marker id=243 center=(61, 55)>\n",
      "Marker:  <Marker id=243 center=(61, 55)>\n",
      "Goes before check.\n",
      "Goes inside marker check.\n",
      "Successful results.\n",
      "MARKER : 0 , 8.96906852722168 , 0 , 0 , 17.182111740112305 , 2.2919178009033203 , 19.474029541015625\n",
      "Markers detected:  2\n",
      "Marker:  <Marker id=243 center=(61, 54)>\n",
      "Marker:  <Marker id=243 center=(61, 54)>\n",
      "Goes before check.\n",
      "Goes inside marker check.\n",
      "Successful results.\n",
      "MARKER : 0 , 9.140968322753906 , 0 , 0 , 17.457962036132812 , 1.1479854583740234 , 18.605947494506836\n"
     ]
    },
    {
     "name": "stderr",
     "output_type": "stream",
     "text": [
      "150.229.118.204 - - [24/Jul/2018 12:23:21] \"POST / HTTP/1.1\" 200 -\n",
      "150.229.118.204 - - [24/Jul/2018 12:23:21] \"POST / HTTP/1.1\" 200 -\n",
      "150.229.118.204 - - [24/Jul/2018 12:23:21] \"POST / HTTP/1.1\" 200 -\n"
     ]
    },
    {
     "name": "stdout",
     "output_type": "stream",
     "text": [
      "Markers detected:  4\n",
      "Marker:  <Marker id=1 center=(54, 151)>\n",
      "Marker:  <Marker id=1 center=(54, 151)>\n",
      "Marker:  <Marker id=243 center=(61, 54)>\n",
      "Marker:  <Marker id=243 center=(61, 54)>\n",
      "Goes before check.\n",
      "Goes inside marker check.\n",
      "Successful results.\n",
      "MARKER : 0 , 9.388923645019531 , 0 , 0 , 18.507003784179688 , 2.0198822021484375 , 20.526885986328125\n",
      "Markers detected:  3\n",
      "Marker:  <Marker id=1 center=(54, 151)>\n",
      "Marker:  <Marker id=243 center=(61, 55)>\n",
      "Marker:  <Marker id=243 center=(61, 54)>\n",
      "Goes before check.\n",
      "Goes inside marker check.\n",
      "Successful results.\n",
      "MARKER : 0 , 7.613182067871094 , 0 , 0 , 14.108896255493164 , 1.850128173828125 , 15.959024429321289\n",
      "Markers detected:  4\n",
      "Marker:  <Marker id=1 center=(53, 151)>\n",
      "Marker:  <Marker id=1 center=(53, 151)>\n",
      "Marker:  <Marker id=243 center=(60, 54)>\n",
      "Marker:  <Marker id=243 center=(60, 54)>\n",
      "Goes before check.\n",
      "Goes inside marker check.\n",
      "Successful results.\n",
      "MARKER : 0 , 8.545160293579102 , 0 , 0 , 16.124248504638672 , 1.0480880737304688 , 17.17233657836914\n"
     ]
    },
    {
     "name": "stderr",
     "output_type": "stream",
     "text": [
      "150.229.118.204 - - [24/Jul/2018 12:23:21] \"POST / HTTP/1.1\" 200 -\n",
      "150.229.118.204 - - [24/Jul/2018 12:23:21] \"POST / HTTP/1.1\" 200 -\n",
      "150.229.118.204 - - [24/Jul/2018 12:23:21] \"POST / HTTP/1.1\" 200 -\n",
      "150.229.118.204 - - [24/Jul/2018 12:23:21] \"POST / HTTP/1.1\" 200 -\n"
     ]
    },
    {
     "name": "stdout",
     "output_type": "stream",
     "text": [
      "Markers detected:  2\n",
      "Marker:  <Marker id=243 center=(61, 55)>\n",
      "Marker:  <Marker id=243 center=(61, 55)>\n",
      "Goes before check.\n",
      "Goes inside marker check.\n",
      "Successful results.\n",
      "MARKER : 0 , 12.279033660888672 , 0 , 0 , 20.14899253845215 , 1.531839370727539 , 21.680831909179688\n",
      "Markers detected:  4\n",
      "Marker:  <Marker id=1 center=(54, 152)>\n",
      "Marker:  <Marker id=1 center=(54, 152)>\n",
      "Marker:  <Marker id=243 center=(61, 56)>\n",
      "Marker:  <Marker id=243 center=(61, 55)>\n",
      "Goes before check.\n",
      "Goes inside marker check.\n",
      "Successful results.\n",
      "MARKER : 0 , 9.696006774902344 , 0 , 0 , 18.635988235473633 , 1.2331008911132812 , 19.869089126586914\n",
      "Markers detected:  3\n",
      "Marker:  <Marker id=1 center=(54, 153)>\n",
      "Marker:  <Marker id=243 center=(61, 56)>\n",
      "Marker:  <Marker id=243 center=(61, 56)>\n",
      "Goes before check.\n",
      "Goes inside marker check.\n",
      "Successful results.\n",
      "MARKER : 0 , 7.632017135620117 , 0 , 0 , 18.782854080200195 , 1.9960403442382812 , 20.778894424438477\n",
      "Markers detected:  3\n",
      "Marker:  <Marker id=1 center=(53, 153)>\n",
      "Marker:  <Marker id=243 center=(60, 56)>\n",
      "Marker:  <Marker id=243 center=(60, 57)>\n",
      "Goes before check.\n",
      "Goes inside marker check.\n",
      "Successful results.\n",
      "MARKER : 0 , 6.685972213745117 , 0 , 0 , 13.104915618896484 , 0.9729862213134766 , 14.077901840209961\n"
     ]
    },
    {
     "name": "stderr",
     "output_type": "stream",
     "text": [
      "150.229.118.204 - - [24/Jul/2018 12:23:21] \"POST / HTTP/1.1\" 200 -\n",
      "150.229.118.204 - - [24/Jul/2018 12:23:21] \"POST / HTTP/1.1\" 200 -\n",
      "150.229.118.204 - - [24/Jul/2018 12:23:21] \"POST / HTTP/1.1\" 200 -\n"
     ]
    },
    {
     "name": "stdout",
     "output_type": "stream",
     "text": [
      "Markers detected:  4\n",
      "Marker:  <Marker id=1 center=(53, 153)>\n",
      "Marker:  <Marker id=1 center=(53, 153)>\n",
      "Marker:  <Marker id=243 center=(60, 57)>\n",
      "Marker:  <Marker id=243 center=(60, 57)>\n",
      "Goes before check.\n",
      "Goes inside marker check.\n",
      "Successful results.\n",
      "MARKER : 0 , 9.02867317199707 , 0 , 0 , 16.962051391601562 , 1.13677978515625 , 18.098831176757812\n",
      "Markers detected:  2\n",
      "Marker:  <Marker id=243 center=(60, 57)>\n",
      "Marker:  <Marker id=243 center=(60, 57)>\n",
      "Goes before check.\n",
      "Goes inside marker check.\n",
      "Successful results.\n",
      "MARKER : 0 , 6.609201431274414 , 0 , 0 , 15.020132064819336 , 1.8177032470703125 , 16.83783531188965\n",
      "Markers detected:  3\n",
      "Marker:  <Marker id=1 center=(53, 153)>\n",
      "Marker:  <Marker id=243 center=(60, 57)>\n",
      "Marker:  <Marker id=243 center=(60, 57)>\n",
      "Goes before check.\n",
      "Goes inside marker check.\n",
      "Successful results.\n",
      "MARKER : 0 , 9.016990661621094 , 0 , 0 , 16.901254653930664 , 1.3189315795898438 , 18.220186233520508\n"
     ]
    },
    {
     "name": "stderr",
     "output_type": "stream",
     "text": [
      "150.229.118.204 - - [24/Jul/2018 12:23:21] \"POST / HTTP/1.1\" 200 -\n",
      "150.229.118.204 - - [24/Jul/2018 12:23:21] \"POST / HTTP/1.1\" 200 -\n",
      "150.229.118.204 - - [24/Jul/2018 12:23:21] \"POST / HTTP/1.1\" 200 -\n",
      "150.229.118.204 - - [24/Jul/2018 12:23:21] \"POST / HTTP/1.1\" 200 -\n"
     ]
    },
    {
     "name": "stdout",
     "output_type": "stream",
     "text": [
      "Markers detected:  4\n",
      "Marker:  <Marker id=1 center=(53, 153)>\n",
      "Marker:  <Marker id=1 center=(53, 153)>\n",
      "Marker:  <Marker id=243 center=(60, 57)>\n",
      "Marker:  <Marker id=243 center=(60, 57)>\n",
      "Goes before check.\n",
      "Goes inside marker check.\n",
      "Successful results.\n",
      "MARKER : 0 , 9.346961975097656 , 0 , 0 , 18.600940704345703 , 1.2569427490234375 , 19.85788345336914\n",
      "Markers detected:  4\n",
      "Marker:  <Marker id=1 center=(53, 153)>\n",
      "Marker:  <Marker id=1 center=(53, 153)>\n",
      "Marker:  <Marker id=243 center=(60, 57)>\n",
      "Marker:  <Marker id=243 center=(60, 57)>\n",
      "Goes before check.\n",
      "Goes inside marker check.\n",
      "Successful results.\n",
      "MARKER : 0 , 8.498907089233398 , 0 , 0 , 14.438152313232422 , 1.058816909790039 , 15.496969223022461\n",
      "Markers detected:  2\n",
      "Marker:  <Marker id=243 center=(59, 56)>\n",
      "Marker:  <Marker id=243 center=(59, 56)>\n",
      "Goes before check.\n",
      "Goes inside marker check.\n",
      "Successful results.\n",
      "MARKER : 0 , 8.01706314086914 , 0 , 0 , 16.39080047607422 , 1.068115234375 , 17.45891571044922\n",
      "Markers detected:  3\n",
      "Marker:  <Marker id=1 center=(52, 152)>\n",
      "Marker:  <Marker id=243 center=(59, 56)>\n",
      "Marker:  <Marker id=243 center=(59, 56)>\n",
      "Goes before check.\n",
      "Goes inside marker check.\n",
      "Successful results.\n",
      "MARKER : 0 , 7.706165313720703 , 0 , 0 , 13.068199157714844 , 1.4107227325439453 , 14.478921890258789\n"
     ]
    },
    {
     "name": "stderr",
     "output_type": "stream",
     "text": [
      "150.229.118.204 - - [24/Jul/2018 12:23:21] \"POST / HTTP/1.1\" 200 -\n",
      "150.229.118.204 - - [24/Jul/2018 12:23:22] \"POST / HTTP/1.1\" 200 -\n",
      "150.229.118.204 - - [24/Jul/2018 12:23:22] \"POST / HTTP/1.1\" 200 -\n"
     ]
    },
    {
     "name": "stdout",
     "output_type": "stream",
     "text": [
      "Markers detected:  3\n",
      "Marker:  <Marker id=1 center=(53, 152)>\n",
      "Marker:  <Marker id=243 center=(60, 55)>\n",
      "Marker:  <Marker id=243 center=(60, 55)>\n",
      "Goes before check.\n",
      "Goes inside marker check.\n",
      "Successful results.\n",
      "MARKER : 0 , 8.983135223388672 , 0 , 0 , 15.821218490600586 , 1.9497871398925781 , 17.771005630493164\n",
      "Markers detected:  4\n",
      "Marker:  <Marker id=1 center=(54, 152)>\n",
      "Marker:  <Marker id=1 center=(54, 152)>\n",
      "Marker:  <Marker id=243 center=(61, 56)>\n",
      "Marker:  <Marker id=243 center=(61, 56)>\n",
      "Goes before check.\n",
      "Goes inside marker check.\n",
      "Successful results.\n",
      "MARKER : 0 , 9.616851806640625 , 0 , 0 , 17.019987106323242 , 1.2090206146240234 , 18.229007720947266\n",
      "Markers detected:  3\n",
      "Marker:  <Marker id=1 center=(54, 152)>\n",
      "Marker:  <Marker id=243 center=(61, 56)>\n",
      "Marker:  <Marker id=243 center=(61, 56)>\n",
      "Goes before check.\n",
      "Goes inside marker check.\n",
      "Successful results.\n",
      "MARKER : 0 , 8.399724960327148 , 0 , 0 , 14.056921005249023 , 1.1451244354248047 , 15.202045440673828\n",
      "Markers detected: "
     ]
    },
    {
     "name": "stderr",
     "output_type": "stream",
     "text": [
      "150.229.118.204 - - [24/Jul/2018 12:23:22] \"POST / HTTP/1.1\" 200 -\n",
      "150.229.118.204 - - [24/Jul/2018 12:23:22] \"POST / HTTP/1.1\" 200 -\n",
      "150.229.118.204 - - [24/Jul/2018 12:23:22] \"POST / HTTP/1.1\" 200 -\n",
      "150.229.118.204 - - [24/Jul/2018 12:23:22] \"POST / HTTP/1.1\" 200 -\n",
      "150.229.118.204 - - [24/Jul/2018 12:23:22] \"POST / HTTP/1.1\" 200 -\n"
     ]
    },
    {
     "name": "stdout",
     "output_type": "stream",
     "text": [
      " 3\n",
      "Marker:  <Marker id=1 center=(53, 151)>\n",
      "Marker:  <Marker id=243 center=(60, 55)>\n",
      "Marker:  <Marker id=243 center=(60, 55)>\n",
      "Goes before check.\n",
      "Goes inside marker check.\n",
      "Successful results.\n",
      "MARKER : 0 , 7.8277587890625 , 0 , 0 , 16.726970672607422 , 2.3949146270751953 , 19.121885299682617\n",
      "Markers detected:  4\n",
      "Marker:  <Marker id=1 center=(53, 151)>\n",
      "Marker:  <Marker id=1 center=(53, 151)>\n",
      "Marker:  <Marker id=243 center=(60, 55)>\n",
      "Marker:  <Marker id=243 center=(60, 55)>\n",
      "Goes before check.\n",
      "Goes inside marker check.\n",
      "Successful results.\n",
      "MARKER : 0 , 9.638071060180664 , 0 , 0 , 16.11804962158203 , 1.2378692626953125 , 17.355918884277344\n",
      "Markers detected:  4\n",
      "Marker:  <Marker id=1 center=(53, 151)>\n",
      "Marker:  <Marker id=1 center=(53, 151)>\n",
      "Marker:  <Marker id=243 center=(60, 55)>\n",
      "Marker:  <Marker id=243 center=(60, 55)>\n",
      "Goes before check.\n",
      "Goes inside marker check.\n",
      "Successful results.\n",
      "MARKER : 0 , 9.07588005065918 , 0 , 0 , 19.90509033203125 , 1.3289451599121094 , 21.23403549194336\n",
      "Markers detected:  2\n",
      "Marker:  <Marker id=1 center=(54, 151)>\n",
      "Marker:  <Marker id=243 center=(60, 55)>\n",
      "Goes before check.\n",
      "Goes inside marker check.\n",
      "Successful results.\n",
      "MARKER : 0 , 7.447719573974609 , 0 , 0 , 13.715982437133789 , 0.8809566497802734 , 14.596939086914062\n",
      "Markers detected:  4\n",
      "Marker:  <Marker id=1 center=(53, 151)>\n",
      "Marker:  <Marker id=1 center=(53, 151)>\n",
      "Marker:  <Marker id=243 center=(60, 55)>\n",
      "Marker:  <Marker id=243 center=(60, 55)>\n",
      "Goes before check.\n",
      "Goes inside marker check.\n",
      "Successful results.\n",
      "MARKER : 0 , 9.304046630859375 , 0 , 0 , 16.354084014892578 , 1.111745834350586 , 17.465829849243164\n",
      "Markers detected:  2\n",
      "Marker:  <Marker id=1 center=(53, 151)>\n",
      "Marker:  <Marker id=243 center=(60, 55)>\n",
      "Goes before check.\n",
      "Goes inside marker check.\n",
      "Successful results.\n",
      "MARKER : 0 , 9.137868881225586 , 0 , 0 , 24.02496337890625 , 2.3109912872314453 , 26.335954666137695\n"
     ]
    },
    {
     "name": "stderr",
     "output_type": "stream",
     "text": [
      "150.229.118.204 - - [24/Jul/2018 12:23:22] \"POST / HTTP/1.1\" 200 -\n",
      "150.229.118.204 - - [24/Jul/2018 12:23:22] \"POST / HTTP/1.1\" 200 -\n"
     ]
    },
    {
     "name": "stdout",
     "output_type": "stream",
     "text": [
      "Markers detected:  3\n",
      "Marker:  <Marker id=1 center=(54, 152)>\n",
      "Marker:  <Marker id=243 center=(61, 56)>\n",
      "Marker:  <Marker id=243 center=(61, 55)>\n",
      "Goes before check.\n",
      "Goes inside marker check.\n",
      "Successful results.\n",
      "MARKER : 0 , 7.835149765014648 , 0 , 0 , 14.737844467163086 , 2.0411014556884766 , 16.778945922851562\n",
      "Markers detected:  2\n",
      "Marker:  <Marker id=243 center=(61, 57)>\n",
      "Marker:  <Marker id=243 center=(61, 57)>\n",
      "Goes before check.\n",
      "Goes inside marker check.\n",
      "Successful results.\n",
      "MARKER : 0 , 8.064985275268555 , 0 , 0 , 14.973163604736328 , 1.0538101196289062 , 16.026973724365234\n",
      "Markers detected:  4\n",
      "Marker:  <Marker id=1 center=(55, 152)>\n",
      "Marker:  <Marker id=1 center=(55, 153)>\n",
      "Marker:  <Marker id=243 center=(62, 57)>\n",
      "Marker:  <Marker id=243 center=(62, 57)>\n",
      "Goes before check.\n",
      "Goes inside marker check.\n",
      "Successful results.\n",
      "MARKER : 0 , 9.503841400146484 , 0 , 0 , 17.04096794128418 , 2.1219253540039062 , 19.162893295288086\n",
      "Markers detected:  3\n",
      "Marker:  <Marker id=1 center=(55, 153)>\n",
      "Marker:  <Marker id=243 center=(62, 58)>\n",
      "Marker:  <Marker id=243 center=(62, 58)>\n",
      "Goes before check.\n",
      "Goes inside marker check.\n",
      "Successful results.\n",
      "MARKER : 0 , 7.748126983642578 , 0 , 0 , 14.560937881469727 , 0.9169578552246094 , 15.477895736694336\n"
     ]
    },
    {
     "name": "stderr",
     "output_type": "stream",
     "text": [
      "150.229.118.204 - - [24/Jul/2018 12:23:22] \"POST / HTTP/1.1\" 200 -\n",
      "150.229.118.204 - - [24/Jul/2018 12:23:22] \"POST / HTTP/1.1\" 200 -\n",
      "150.229.118.204 - - [24/Jul/2018 12:23:22] \"POST / HTTP/1.1\" 200 -\n",
      "150.229.118.204 - - [24/Jul/2018 12:23:22] \"POST / HTTP/1.1\" 200 -\n"
     ]
    },
    {
     "name": "stdout",
     "output_type": "stream",
     "text": [
      "Markers detected:  2\n",
      "Marker:  <Marker id=1 center=(55, 153)>\n",
      "Marker:  <Marker id=243 center=(62, 58)>\n",
      "Goes before check.\n",
      "Goes inside marker check.\n",
      "Successful results.\n",
      "MARKER : 0 , 8.774757385253906 , 0 , 0 , 15.583038330078125 , 1.035928726196289 , 16.618967056274414\n",
      "Markers detected:  3\n",
      "Marker:  <Marker id=1 center=(56, 153)>\n",
      "Marker:  <Marker id=243 center=(62, 58)>\n",
      "Marker:  <Marker id=243 center=(62, 58)>\n",
      "Goes before check.\n",
      "Goes inside marker check.\n",
      "Successful results.\n",
      "MARKER : 0 , 9.057044982910156 , 0 , 0 , 14.16921615600586 , 2.101898193359375 , 16.271114349365234\n",
      "Markers detected:  3\n",
      "Marker:  <Marker id=1 center=(55, 153)>\n",
      "Marker:  <Marker id=243 center=(61, 58)>\n",
      "Marker:  <Marker id=243 center=(61, 58)>\n",
      "Goes before check.\n",
      "Goes inside marker check.\n",
      "Successful results.\n",
      "MARKER : 0 , 8.919954299926758 , 0 , 0 , 17.36593246459961 , 1.0900497436523438 , 18.455982208251953\n"
     ]
    },
    {
     "name": "stderr",
     "output_type": "stream",
     "text": [
      "150.229.118.204 - - [24/Jul/2018 12:23:23] \"POST / HTTP/1.1\" 200 -\n",
      "150.229.118.204 - - [24/Jul/2018 12:23:23] \"POST / HTTP/1.1\" 200 -\n",
      "150.229.118.204 - - [24/Jul/2018 12:23:23] \"POST / HTTP/1.1\" 200 -\n"
     ]
    },
    {
     "name": "stdout",
     "output_type": "stream",
     "text": [
      "Markers detected:  4\n",
      "Marker:  <Marker id=1 center=(55, 153)>\n",
      "Marker:  <Marker id=1 center=(55, 153)>\n",
      "Marker:  <Marker id=243 center=(61, 58)>\n",
      "Marker:  <Marker id=243 center=(61, 58)>\n",
      "Goes before check.\n",
      "Goes inside marker check.\n",
      "Successful results.\n",
      "MARKER : 0 , 10.818004608154297 , 0 , 0 , 17.734766006469727 , 1.9791126251220703 , 19.713878631591797\n",
      "Markers detected:  3\n",
      "Marker:  <Marker id=1 center=(56, 154)>\n",
      "Marker:  <Marker id=243 center=(62, 58)>\n",
      "Marker:  <Marker id=243 center=(62, 58)>\n",
      "Goes before check.\n",
      "Goes inside marker check.\n",
      "Successful results.\n",
      "MARKER : 0 , 7.648944854736328 , 0 , 0 , 16.504764556884766 , 0.9908676147460938 , 17.49563217163086\n",
      "Markers detected:  3\n",
      "Marker:  <Marker id=1 center=(56, 154)>\n",
      "Marker:  <Marker id=243 center=(63, 58)>\n",
      "Marker:  <Marker id=243 center=(63, 58)>\n",
      "Goes before check.\n",
      "Goes inside marker check.\n",
      "Successful results.\n",
      "MARKER : 0 , 8.276939392089844 , 0 , 0 , 14.30201530456543 , 1.177072525024414 , 15.479087829589844\n",
      "Markers detected:  3"
     ]
    },
    {
     "name": "stderr",
     "output_type": "stream",
     "text": [
      "150.229.118.204 - - [24/Jul/2018 12:23:23] \"POST / HTTP/1.1\" 200 -\n",
      "150.229.118.204 - - [24/Jul/2018 12:23:23] \"POST / HTTP/1.1\" 200 -\n",
      "150.229.118.204 - - [24/Jul/2018 12:23:23] \"POST / HTTP/1.1\" 200 -\n",
      "150.229.118.204 - - [24/Jul/2018 12:23:23] \"POST / HTTP/1.1\" 200 -\n"
     ]
    },
    {
     "name": "stdout",
     "output_type": "stream",
     "text": [
      "\n",
      "Marker:  <Marker id=1 center=(56, 154)>\n",
      "Marker:  <Marker id=243 center=(62, 59)>\n",
      "Marker:  <Marker id=243 center=(62, 59)>\n",
      "Goes before check.\n",
      "Goes inside marker check.\n",
      "Successful results.\n",
      "MARKER : 0 , 8.900880813598633 , 0 , 0 , 15.121936798095703 , 2.1920204162597656 , 17.31395721435547\n",
      "Markers detected:  3\n",
      "Marker:  <Marker id=1 center=(55, 154)>\n",
      "Marker:  <Marker id=243 center=(61, 58)>\n",
      "Marker:  <Marker id=243 center=(62, 58)>\n",
      "Goes before check.\n",
      "Goes inside marker check.\n",
      "Successful results.\n",
      "MARKER : 0 , 9.634017944335938 , 0 , 0 , 16.70694351196289 , 1.0249614715576172 , 17.731904983520508\n",
      "Markers detected:  3\n",
      "Marker:  <Marker id=1 center=(55, 154)>\n",
      "Marker:  <Marker id=243 center=(61, 58)>\n",
      "Marker:  <Marker id=243 center=(61, 58)>\n",
      "Goes before check.\n",
      "Goes inside marker check.\n",
      "Successful results.\n",
      "MARKER : 0 , 8.848190307617188 , 0 , 0 , 16.1590576171875 , 2.0759105682373047 , 18.234968185424805\n",
      "Markers detected:  2\n",
      "Marker:  <Marker id=243 center=(61, 58)>\n",
      "Marker:  <Marker id=243 center=(61, 58)>\n",
      "Goes before check.\n",
      "Goes inside marker check.\n",
      "Successful results.\n",
      "MARKER : 0 , 8.88204574584961 , 0 , 0 , 15.604972839355469 , 1.1031627655029297 , 16.7081356048584\n"
     ]
    },
    {
     "name": "stderr",
     "output_type": "stream",
     "text": [
      "150.229.118.204 - - [24/Jul/2018 12:23:23] \"POST / HTTP/1.1\" 200 -\n",
      "150.229.118.204 - - [24/Jul/2018 12:23:23] \"POST / HTTP/1.1\" 200 -\n",
      "150.229.118.204 - - [24/Jul/2018 12:23:23] \"POST / HTTP/1.1\" 200 -\n"
     ]
    },
    {
     "name": "stdout",
     "output_type": "stream",
     "text": [
      "Markers detected:  3\n",
      "Marker:  <Marker id=1 center=(55, 153)>\n",
      "Marker:  <Marker id=243 center=(61, 58)>\n",
      "Marker:  <Marker id=243 center=(61, 58)>\n",
      "Goes before check.\n",
      "Goes inside marker check.\n",
      "Successful results.\n",
      "MARKER : 0 , 8.748054504394531 , 0 , 0 , 14.132976531982422 , 2.117156982421875 , 16.250133514404297\n",
      "Markers detected:  2\n",
      "Marker:  <Marker id=1 center=(55, 153)>\n",
      "Marker:  <Marker id=243 center=(62, 58)>\n",
      "Goes before check.\n",
      "Goes inside marker check.\n",
      "Successful results.\n",
      "MARKER : 0 , 8.751153945922852 , 0 , 0 , 16.10398292541504 , 1.2080669403076172 , 17.312049865722656\n",
      "Markers detected:  2\n",
      "Marker:  <Marker id=243 center=(61, 58)>\n",
      "Marker:  <Marker id=243 center=(61, 58)>\n",
      "Goes before check.\n",
      "Goes inside marker check.\n",
      "Successful results.\n",
      "MARKER : 0 , 7.665872573852539 , 0 , 0 , 14.597892761230469 , 1.2099742889404297 , 15.807867050170898\n",
      "Markers detected:  3\n",
      "Marker:  <Marker id=1 center=(55, 153)>\n",
      "Marker:  <Marker id=243 center=(61, 58)>\n",
      "Marker:  <Marker id=243 center=(61, 58)>\n",
      "Goes before check.\n",
      "Goes inside marker check.\n",
      "Successful results.\n",
      "MARKER : 0 , 6.545782089233398 , 0 , 0 , 11.719942092895508 , 1.2481212615966797 , 12.968063354492188\n"
     ]
    },
    {
     "name": "stderr",
     "output_type": "stream",
     "text": [
      "150.229.118.204 - - [24/Jul/2018 12:23:23] \"POST / HTTP/1.1\" 200 -\n",
      "150.229.118.204 - - [24/Jul/2018 12:23:23] \"POST / HTTP/1.1\" 200 -\n",
      "150.229.118.204 - - [24/Jul/2018 12:23:23] \"POST / HTTP/1.1\" 200 -\n",
      "150.229.118.204 - - [24/Jul/2018 12:23:23] \"POST / HTTP/1.1\" 200 -\n"
     ]
    },
    {
     "name": "stdout",
     "output_type": "stream",
     "text": [
      "Markers detected:  3\n",
      "Marker:  <Marker id=1 center=(55, 154)>\n",
      "Marker:  <Marker id=243 center=(61, 58)>\n",
      "Marker:  <Marker id=243 center=(61, 58)>\n",
      "Goes before check.\n",
      "Goes inside marker check.\n",
      "Successful results.\n",
      "MARKER : 0 , 8.71133804321289 , 0 , 0 , 15.543937683105469 , 2.1390914916992188 , 17.683029174804688\n",
      "Markers detected:  4\n",
      "Marker:  <Marker id=1 center=(54, 154)>\n",
      "Marker:  <Marker id=1 center=(54, 155)>\n",
      "Marker:  <Marker id=243 center=(61, 59)>\n",
      "Marker:  <Marker id=243 center=(61, 59)>\n",
      "Goes before check.\n",
      "Goes inside marker check.\n",
      "Successful results.\n",
      "MARKER : 0 , 9.183883666992188 , 0 , 0 , 15.92111587524414 , 1.4081001281738281 , 17.32921600341797\n",
      "Markers detected:  4\n",
      "Marker:  <Marker id=1 center=(54, 155)>\n",
      "Marker:  <Marker id=1 center=(54, 155)>\n",
      "Marker:  <Marker id=243 center=(61, 59)>\n",
      "Marker:  <Marker id=243 center=(61, 59)>\n",
      "Goes before check.\n",
      "Goes inside marker check.\n",
      "Successful results.\n",
      "MARKER : 0 , 8.584976196289062 , 0 , 0 , 15.072822570800781 , 0.8640289306640625 , 15.936851501464844\n",
      "Markers detected:  4\n",
      "Marker:  <Marker id=1 center=(55, 155)>\n",
      "Marker:  <Marker id=1 center=(55, 155)>\n",
      "Marker:  <Marker id=243 center=(61, 60)>\n",
      "Marker:  <Marker id=243 center=(61, 60)>\n",
      "Goes before check.\n",
      "Goes inside marker check.\n",
      "Successful results.\n",
      "MARKER : 0 ,"
     ]
    },
    {
     "name": "stderr",
     "output_type": "stream",
     "text": [
      "150.229.118.204 - - [24/Jul/2018 12:23:23] \"POST / HTTP/1.1\" 200 -\n",
      "150.229.118.204 - - [24/Jul/2018 12:23:23] \"POST / HTTP/1.1\" 200 -\n",
      "150.229.118.204 - - [24/Jul/2018 12:23:24] \"POST / HTTP/1.1\" 200 -\n",
      "150.229.118.204 - - [24/Jul/2018 12:23:24] \"POST / HTTP/1.1\" 200 -\n"
     ]
    },
    {
     "name": "stdout",
     "output_type": "stream",
     "text": [
      " 8.72802734375 , 0 , 0 , 13.994216918945312 , 1.0190010070800781 , 15.01321792602539\n",
      "Markers detected:  4\n",
      "Marker:  <Marker id=1 center=(55, 155)>\n",
      "Marker:  <Marker id=1 center=(55, 155)>\n",
      "Marker:  <Marker id=243 center=(61, 60)>\n",
      "Marker:  <Marker id=243 center=(61, 60)>\n",
      "Goes before check.\n",
      "Goes inside marker check.\n",
      "Successful results.\n",
      "MARKER : 0 , 9.365081787109375 , 0 , 0 , 19.287109375 , 2.093076705932617 , 21.380186080932617\n",
      "Markers detected:  2\n",
      "Marker:  <Marker id=1 center=(55, 155)>\n",
      "Marker:  <Marker id=243 center=(61, 60)>\n",
      "Goes before check.\n",
      "Goes inside marker check.\n",
      "Successful results.\n",
      "MARKER : 0 , 9.251117706298828 , 0 , 0 , 16.69001579284668 , 0.8678436279296875 , 17.557859420776367\n",
      "Markers detected:  3\n",
      "Marker:  <Marker id=1 center=(54, 156)>\n",
      "Marker:  <Marker id=243 center=(61, 60)>\n",
      "Marker:  <Marker id=243 center=(61, 60)>\n",
      "Goes before check.\n",
      "Goes inside marker check.\n",
      "Successful results.\n",
      "MARKER : 0 , 9.134769439697266 , 0 , 0 , 17.419099807739258 , 1.3208389282226562 , 18.739938735961914\n"
     ]
    },
    {
     "name": "stderr",
     "output_type": "stream",
     "text": [
      "150.229.118.204 - - [24/Jul/2018 12:23:24] \"POST / HTTP/1.1\" 200 -\n",
      "150.229.118.204 - - [24/Jul/2018 12:23:24] \"POST / HTTP/1.1\" 200 -\n",
      "150.229.118.204 - - [24/Jul/2018 12:23:24] \"POST / HTTP/1.1\" 200 -\n"
     ]
    },
    {
     "name": "stdout",
     "output_type": "stream",
     "text": [
      "Markers detected:  3\n",
      "Marker:  <Marker id=1 center=(55, 156)>\n",
      "Marker:  <Marker id=243 center=(61, 60)>\n",
      "Marker:  <Marker id=243 center=(61, 61)>\n",
      "Goes before check.\n",
      "Goes inside marker check.\n",
      "Successful results.\n",
      "MARKER : 0 , 9.647846221923828 , 0 , 0 , 61.566829681396484 , 2.109050750732422 , 63.675880432128906\n",
      "Markers detected:  3\n",
      "Marker:  <Marker id=1 center=(55, 156)>\n",
      "Marker:  <Marker id=243 center=(61, 61)>\n",
      "Marker:  <Marker id=243 center=(61, 61)>\n",
      "Goes before check.\n",
      "Goes inside marker check.\n",
      "Successful results.\n",
      "MARKER : 0 , 9.141921997070312 , 0 , 0 , 18.409252166748047 , 0.90789794921875 , 19.317150115966797\n",
      "Markers detected:  3\n",
      "Marker:  <Marker id=1 center=(55, 155)>\n",
      "Marker:  <Marker id=243 center=(61, 60)>\n",
      "Marker:  <Marker id=243 center=(61, 60)>\n",
      "Goes before check.\n",
      "Goes inside marker check.\n",
      "Successful results.\n",
      "MARKER : 0 , 8.399724960327148 , 0 , 0 , 20.032882690429688 , 1.9290447235107422 , 21.96192741394043\n",
      "Markers detected:  3\n",
      "Marker:  <Marker id=1 center=(57, 155)>\n",
      "Marker:  <Marker id=243 center=(63, 61)>\n",
      "Marker:  <Marker id=243 center=(63, 61)>\n",
      "Goes before check.\n",
      "Goes inside marker check.\n",
      "Successful results.\n",
      "MARKER : 0 , 8.966922760009766 , 0 , 0 , 16.782283782958984 , 1.0406970977783203 , 17.822980880737305\n"
     ]
    },
    {
     "name": "stderr",
     "output_type": "stream",
     "text": [
      "150.229.118.204 - - [24/Jul/2018 12:23:24] \"POST / HTTP/1.1\" 200 -\n",
      "150.229.118.204 - - [24/Jul/2018 12:23:24] \"POST / HTTP/1.1\" 200 -\n",
      "150.229.118.204 - - [24/Jul/2018 12:23:24] \"POST / HTTP/1.1\" 200 -\n",
      "150.229.118.204 - - [24/Jul/2018 12:23:24] \"POST / HTTP/1.1\" 200 -\n"
     ]
    },
    {
     "name": "stdout",
     "output_type": "stream",
     "text": [
      "Markers detected:  3\n",
      "Marker:  <Marker id=1 center=(68, 150)>\n",
      "Marker:  <Marker id=243 center=(70, 59)>\n",
      "Marker:  <Marker id=243 center=(70, 59)>\n",
      "Goes before check.\n",
      "Goes inside marker check.\n",
      "Successful results.\n",
      "MARKER : 0 , 9.103059768676758 , 0 , 0 , 15.114068984985352 , 2.035856246948242 , 17.149925231933594\n",
      "Markers detected:  2\n",
      "Marker:  <Marker id=243 center=(89, 51)>\n",
      "Marker:  <Marker id=243 center=(89, 51)>\n",
      "Goes before check.\n",
      "Goes inside marker check.\n",
      "Successful results.\n",
      "MARKER : 0 , 8.047819137573242 , 0 , 0 , 14.833211898803711 , 0.7829666137695312 , 15.616178512573242\n",
      "Markers detected:  0\n",
      "Goes before check.\n",
      "Successful results.\n",
      "MARKER : 0 , 6.186008453369141 , 0 , 0 , 15.53201675415039 , 0.8656978607177734 , 16.397714614868164\n",
      "Markers detected: "
     ]
    },
    {
     "name": "stderr",
     "output_type": "stream",
     "text": [
      "150.229.118.204 - - [24/Jul/2018 12:23:24] \"POST / HTTP/1.1\" 200 -\n",
      "150.229.118.204 - - [24/Jul/2018 12:23:24] \"POST / HTTP/1.1\" 200 -\n",
      "150.229.118.204 - - [24/Jul/2018 12:23:24] \"POST / HTTP/1.1\" 200 -\n",
      "150.229.118.204 - - [24/Jul/2018 12:23:24] \"POST / HTTP/1.1\" 200 -\n"
     ]
    },
    {
     "name": "stdout",
     "output_type": "stream",
     "text": [
      " 3\n",
      "Marker:  <Marker id=1 center=(138, 129)>\n",
      "Marker:  <Marker id=243 center=(139, 52)>\n",
      "Marker:  <Marker id=243 center=(139, 52)>\n",
      "Goes before check.\n",
      "Goes inside marker check.\n",
      "Successful results.\n",
      "MARKER : 0 , 9.29880142211914 , 0 , 0 , 17.452001571655273 , 2.374887466430664 , 19.826889038085938\n",
      "Markers detected:  1\n",
      "Marker:  <Marker id=243 center=(149, 56)>\n",
      "Goes before check.\n",
      "Goes inside marker check.\n",
      "Successful results.\n",
      "MARKER : 0 , 8.183956146240234 , 0 , 0 , 14.518022537231445 , 0.9789466857910156 , 15.496969223022461\n",
      "Markers detected:  1\n",
      "Marker:  <Marker id=243 center=(152, 58)>\n",
      "Goes before check.\n",
      "Goes inside marker check.\n",
      "Successful results.\n",
      "MARKER : 0 , 8.428812026977539 , 0 , 0 , 15.661954879760742 , 1.3730525970458984 , 17.03500747680664\n",
      "Markers detected:  1\n",
      "Marker:  <Marker id=243 center=(150, 60)>\n",
      "Goes before check.\n",
      "Goes inside marker check.\n",
      "Successful results.\n",
      "MARKER : 0 , 10.064840316772461 , 0 , 0 , 16.257047653198242 , 0.9808540344238281 , 17.23790168762207\n"
     ]
    },
    {
     "name": "stderr",
     "output_type": "stream",
     "text": [
      "150.229.118.204 - - [24/Jul/2018 12:23:24] \"POST / HTTP/1.1\" 200 -\n",
      "150.229.118.204 - - [24/Jul/2018 12:23:25] \"POST / HTTP/1.1\" 200 -\n",
      "150.229.118.204 - - [24/Jul/2018 12:23:25] \"POST / HTTP/1.1\" 200 -\n"
     ]
    },
    {
     "name": "stdout",
     "output_type": "stream",
     "text": [
      "Markers detected:  2\n",
      "Marker:  <Marker id=1 center=(146, 136)>\n",
      "Marker:  <Marker id=243 center=(148, 61)>\n",
      "Goes before check.\n",
      "Goes inside marker check.\n",
      "Successful results.\n",
      "MARKER : 0 , 10.303258895874023 , 0 , 0 , 17.525196075439453 , 2.1047592163085938 , 19.629955291748047\n",
      "Markers detected:  2\n",
      "Marker:  <Marker id=1 center=(143, 136)>\n",
      "Marker:  <Marker id=243 center=(146, 61)>\n",
      "Goes before check.\n",
      "Goes inside marker check.\n",
      "Successful results.\n",
      "MARKER : 0 , 9.684085845947266 , 0 , 0 , 17.972946166992188 , 1.3082027435302734 , 19.28114891052246\n",
      "Markers detected:  1\n",
      "Marker:  <Marker id=243 center=(145, 61)>\n",
      "Goes before check.\n",
      "Goes inside marker check.\n",
      "Successful results.\n",
      "MARKER : 0 , 10.417938232421875 , 0 , 0 , 16.170978546142578 , 0.9059906005859375 , 17.076969146728516\n",
      "Markers detected:  0\n",
      "Goes before check.\n",
      "Successful results.\n",
      "MARKER : 0 , 8.22305679321289 , 0 , 0 , 16.78180694580078 , 0.7750988006591797 , 17.55690574645996\n"
     ]
    },
    {
     "name": "stderr",
     "output_type": "stream",
     "text": [
      "150.229.118.204 - - [24/Jul/2018 12:23:25] \"POST / HTTP/1.1\" 200 -\n",
      "150.229.118.204 - - [24/Jul/2018 12:23:25] \"POST / HTTP/1.1\" 200 -\n",
      "150.229.118.204 - - [24/Jul/2018 12:23:25] \"POST / HTTP/1.1\" 200 -\n",
      "150.229.118.204 - - [24/Jul/2018 12:23:25] \"POST / HTTP/1.1\" 200 -\n"
     ]
    },
    {
     "name": "stdout",
     "output_type": "stream",
     "text": [
      "Markers detected:  1\n",
      "Marker:  <Marker id=243 center=(144, 61)>\n",
      "Goes before check.\n",
      "Goes inside marker check.\n",
      "Successful results.\n",
      "MARKER : 0 , 9.64212417602539 , 0 , 0 , 16.781091690063477 , 0.8928775787353516 , 17.673969268798828\n",
      "Markers detected:  2\n",
      "Marker:  <Marker id=1 center=(141, 136)>\n",
      "Marker:  <Marker id=243 center=(144, 61)>\n",
      "Goes before check.\n",
      "Goes inside marker check.\n",
      "Successful results.\n",
      "MARKER : 0 , 9.80997085571289 , 0 , 0 , 15.662908554077148 , 0.9729862213134766 , 16.635894775390625\n",
      "Markers detected:  2\n",
      "Marker:  <Marker id=1 center=(141, 136)>\n",
      "Marker:  <Marker id=243 center=(144, 61)>\n",
      "Goes before check.\n",
      "Goes inside marker check.\n",
      "Successful results.\n",
      "MARKER : 0 , 9.540081024169922 , 0 , 0 , 16.77417755126953 , 2.0530223846435547 , 18.827199935913086\n"
     ]
    },
    {
     "name": "stderr",
     "output_type": "stream",
     "text": [
      "150.229.118.204 - - [24/Jul/2018 12:23:25] \"POST / HTTP/1.1\" 200 -\n",
      "150.229.118.204 - - [24/Jul/2018 12:23:25] \"POST / HTTP/1.1\" 200 -\n",
      "150.229.118.204 - - [24/Jul/2018 12:23:25] \"POST / HTTP/1.1\" 200 -\n"
     ]
    },
    {
     "name": "stdout",
     "output_type": "stream",
     "text": [
      "Markers detected:  0\n",
      "Goes before check.\n",
      "Successful results.\n",
      "MARKER : 0 , 10.245084762573242 , 0 , 0 , 21.692991256713867 , 1.15203857421875 , 22.845029830932617\n",
      "Markers detected:  1\n",
      "Marker:  <Marker id=243 center=(143, 61)>\n",
      "Goes before check.\n",
      "Goes inside marker check.\n",
      "Successful results.\n",
      "MARKER : 0 , 10.033845901489258 , 0 , 0 , 20.309925079345703 , 1.0712146759033203 , 21.381139755249023\n",
      "Markers detected:  2\n",
      "Marker:  <Marker id=1 center=(139, 137)>\n",
      "Marker:  <Marker id=243 center=(142, 61)>\n",
      "Goes before check.\n",
      "Goes inside marker check.\n",
      "Successful results.\n",
      "MARKER : 0 , 11.029958724975586 , 0 , 0 , 20.975112915039062 , 1.8749237060546875 , 22.85003662109375\n",
      "Markers detected:  2\n",
      "Marker:  <Marker id=1 center=(139, 138)>"
     ]
    },
    {
     "name": "stderr",
     "output_type": "stream",
     "text": [
      "150.229.118.204 - - [24/Jul/2018 12:23:25] \"POST / HTTP/1.1\" 200 -\n",
      "150.229.118.204 - - [24/Jul/2018 12:23:25] \"POST / HTTP/1.1\" 200 -\n",
      "150.229.118.204 - - [24/Jul/2018 12:23:25] \"POST / HTTP/1.1\" 200 -\n",
      "150.229.118.204 - - [24/Jul/2018 12:23:25] \"POST / HTTP/1.1\" 200 -\n"
     ]
    },
    {
     "name": "stdout",
     "output_type": "stream",
     "text": [
      "\n",
      "Marker:  <Marker id=243 center=(141, 62)>\n",
      "Goes before check.\n",
      "Goes inside marker check.\n",
      "Successful results.\n",
      "MARKER : 0 , 10.582685470581055 , 0 , 0 , 18.442153930664062 , 0.8068084716796875 , 19.24896240234375\n",
      "Markers detected:  1\n",
      "Marker:  <Marker id=243 center=(141, 62)>\n",
      "Goes before check.\n",
      "Goes inside marker check.\n",
      "Successful results.\n",
      "MARKER : 0 , 9.477853775024414 , 0 , 0 , 17.38715171813965 , 0.9088516235351562 , 18.296003341674805\n",
      "Markers detected:  2\n",
      "Marker:  <Marker id=1 center=(138, 138)>\n",
      "Marker:  <Marker id=243 center=(140, 63)>\n",
      "Goes before check.\n",
      "Goes inside marker check.\n",
      "Successful results.\n",
      "MARKER : 0 , 9.070873260498047 , 0 , 0 , 17.838001251220703 , 1.9731521606445312 , 19.811153411865234\n",
      "Markers detected:  3\n",
      "Marker:  <Marker id=1 center=(137, 139)>\n",
      "Marker:  <Marker id=243 center=(140, 63)>\n",
      "Marker:  <Marker id=243 center=(140, 63)>\n",
      "Goes before check.\n",
      "Goes inside marker check.\n",
      "Successful results.\n",
      "MARKER : 0 , 11.399030685424805 , 0 , 0 , 26.098966598510742 , 0.8740425109863281 , 26.97300910949707\n"
     ]
    },
    {
     "name": "stderr",
     "output_type": "stream",
     "text": [
      "150.229.118.204 - - [24/Jul/2018 12:23:25] \"POST / HTTP/1.1\" 200 -\n",
      "150.229.118.204 - - [24/Jul/2018 12:23:25] \"POST / HTTP/1.1\" 200 -\n",
      "150.229.118.204 - - [24/Jul/2018 12:23:26] \"POST / HTTP/1.1\" 200 -\n"
     ]
    },
    {
     "name": "stdout",
     "output_type": "stream",
     "text": [
      "Markers detected:  2\n",
      "Marker:  <Marker id=243 center=(139, 63)>\n",
      "Marker:  <Marker id=243 center=(139, 63)>\n",
      "Goes before check.\n",
      "Goes inside marker check.\n",
      "Successful results.\n",
      "MARKER : 0 , 8.869171142578125 , 0 , 0 , 18.429279327392578 , 2.0117759704589844 , 20.441055297851562\n",
      "Markers detected:  1\n",
      "Marker:  <Marker id=243 center=(139, 63)>\n",
      "Goes before check.\n",
      "Goes inside marker check.\n",
      "Successful results.\n",
      "MARKER : 0 , 10.061025619506836 , 0 , 0 , 18.094778060913086 , 1.0349750518798828 , 19.12975311279297\n",
      "Markers detected:  2\n",
      "Marker:  <Marker id=1 center=(135, 140)>\n",
      "Marker:  <Marker id=243 center=(138, 64)>\n",
      "Goes before check.\n",
      "Goes inside marker check.\n",
      "Successful results.\n",
      "MARKER : 0 , 9.031057357788086 , 0 , 0 , 20.869970321655273 , 0.8177757263183594 , 21.687746047973633\n",
      "Markers detected:  1\n",
      "Marker:  <Marker id=243 center=(136, 64)>\n",
      "Goes before check.\n",
      "Goes inside marker check.\n",
      "Successful results.\n",
      "MARKER : 0 , 6.974935531616211 , 0 , 0 , 17.942190170288086 , 1.0862350463867188 , 19.028425216674805\n"
     ]
    },
    {
     "name": "stderr",
     "output_type": "stream",
     "text": [
      "150.229.118.204 - - [24/Jul/2018 12:23:26] \"POST / HTTP/1.1\" 200 -\n",
      "150.229.118.204 - - [24/Jul/2018 12:23:26] \"POST / HTTP/1.1\" 200 -\n",
      "150.229.118.204 - - [24/Jul/2018 12:23:26] \"POST / HTTP/1.1\" 200 -\n",
      "150.229.118.204 - - [24/Jul/2018 12:23:26] \"POST / HTTP/1.1\" 200 -\n"
     ]
    },
    {
     "name": "stdout",
     "output_type": "stream",
     "text": [
      "Markers detected:  2\n",
      "Marker:  <Marker id=243 center=(129, 68)>\n",
      "Marker:  <Marker id=243 center=(129, 68)>\n",
      "Goes before check.\n",
      "Goes inside marker check.\n",
      "Successful results.\n",
      "MARKER : 0 , 8.542060852050781 , 0 , 0 , 15.753030776977539 , 2.190113067626953 , 17.943143844604492\n",
      "Markers detected:  2\n",
      "Marker:  <Marker id=243 center=(115, 72)>\n",
      "Marker:  <Marker id=243 center=(115, 72)>\n",
      "Goes before check.\n",
      "Goes inside marker check.\n",
      "Successful results.\n",
      "MARKER : 0 , 9.652853012084961 , 0 , 0 , 17.26388931274414 , 1.0418891906738281 , 18.30577850341797\n",
      "Markers detected:  1\n",
      "Marker:  <Marker id=243 center=(93, 74)>\n",
      "Goes before check.\n",
      "Goes inside marker check.\n",
      "Successful results.\n",
      "MARKER : 0 , 7.483959197998047 , 0 , 0 , 14.093875885009766 , 0.8318424224853516 , 14.925718307495117\n",
      "Markers detected: "
     ]
    },
    {
     "name": "stderr",
     "output_type": "stream",
     "text": [
      "150.229.118.204 - - [24/Jul/2018 12:23:26] \"POST / HTTP/1.1\" 200 -\n",
      "150.229.118.204 - - [24/Jul/2018 12:23:26] \"POST / HTTP/1.1\" 200 -\n",
      "150.229.118.204 - - [24/Jul/2018 12:23:26] \"POST / HTTP/1.1\" 200 -\n",
      "150.229.118.204 - - [24/Jul/2018 12:23:26] \"POST / HTTP/1.1\" 200 -\n",
      "150.229.118.204 - - [24/Jul/2018 12:23:26] \"POST / HTTP/1.1\" 200 -\n",
      "150.229.118.204 - - [24/Jul/2018 12:23:26] \"POST / HTTP/1.1\" 200 -\n",
      "150.229.118.204 - - [24/Jul/2018 12:23:26] \"POST / HTTP/1.1\" 200 -\n"
     ]
    },
    {
     "name": "stdout",
     "output_type": "stream",
     "text": [
      " 1\n",
      "Marker:  <Marker id=243 center=(63, 71)>\n",
      "Goes before check.\n",
      "Goes inside marker check.\n",
      "Successful results.\n",
      "MARKER : 0 , 7.848024368286133 , 0 , 0 , 13.94200325012207 , 3.094196319580078 , 17.03619956970215\n",
      "Markers detected:  2\n",
      "Marker:  <Marker id=243 center=(38, 66)>\n",
      "Marker:  <Marker id=243 center=(39, 66)>\n",
      "Goes before check.\n",
      "Goes inside marker check.\n",
      "Successful results.\n",
      "MARKER : 0 , 7.551908493041992 , 0 , 0 , 19.06108856201172 , 1.0118484497070312 , 20.07293701171875\n",
      "Markers detected:  0\n",
      "Goes before check.\n",
      "Successful results.\n",
      "MARKER : 0 , 7.8372955322265625 , 0 , 0 , 19.118785858154297 , 0.9171962738037109 , 20.035982131958008\n",
      "Markers detected:  0\n",
      "Goes before check.\n",
      "Successful results.\n",
      "MARKER : 0 , 7.793188095092773 , 0 , 0 , 17.683982849121094 , 1.0590553283691406 , 18.743038177490234\n",
      "Markers detected:  0\n",
      "Goes before check.\n",
      "Successful results.\n",
      "MARKER : 0 , 7.485389709472656 , 0 , 0 , 13.549089431762695 , 0.8060932159423828 , 14.355182647705078\n",
      "Markers detected:  0\n",
      "Goes before check.\n",
      "Successful results.\n",
      "MARKER : 0 , 8.157968521118164 , 0 , 0 , 14.777183532714844 , 2.149820327758789 , 16.927003860473633\n",
      "Markers detected:  0\n",
      "Goes before check.\n",
      "Successful results.\n",
      "MARKER : 0 , 9.467840194702148 , 0 , 0 , 19.428253173828125 , 0.8549690246582031 , 20.283222198486328\n"
     ]
    },
    {
     "name": "stderr",
     "output_type": "stream",
     "text": [
      "150.229.118.204 - - [24/Jul/2018 12:23:26] \"POST / HTTP/1.1\" 200 -\n",
      "150.229.118.204 - - [24/Jul/2018 12:23:26] \"POST / HTTP/1.1\" 200 -\n",
      "150.229.118.204 - - [24/Jul/2018 12:23:26] \"POST / HTTP/1.1\" 200 -\n"
     ]
    },
    {
     "name": "stdout",
     "output_type": "stream",
     "text": [
      "Markers detected:  0\n",
      "Goes before check.\n",
      "Successful results.\n",
      "MARKER : 0 , 7.637262344360352 , 0 , 0 , 21.85988426208496 , 1.1272430419921875 , 22.98712730407715\n",
      "Markers detected:  0\n",
      "Goes before check.\n",
      "Successful results.\n",
      "MARKER : 0 , 8.093118667602539 , 0 , 0 , 13.28587532043457 , 1.0912418365478516 , 14.377117156982422\n",
      "Markers detected:  0\n",
      "Goes before check.\n",
      "Successful results.\n",
      "MARKER : 0 , 8.038043975830078 , 0 , 0 , 18.033981323242188 , 2.0411014556884766 , 20.075082778930664\n",
      "Markers detected:  0\n",
      "Goes before check.\n",
      "Successful results.\n"
     ]
    },
    {
     "name": "stderr",
     "output_type": "stream",
     "text": [
      "150.229.118.204 - - [24/Jul/2018 12:23:27] \"POST / HTTP/1.1\" 200 -\n",
      "150.229.118.204 - - [24/Jul/2018 12:23:27] \"POST / HTTP/1.1\" 200 -\n",
      "150.229.118.204 - - [24/Jul/2018 12:23:27] \"POST / HTTP/1.1\" 200 -\n",
      "150.229.118.204 - - [24/Jul/2018 12:23:27] \"POST / HTTP/1.1\" 200 -\n"
     ]
    },
    {
     "name": "stdout",
     "output_type": "stream",
     "text": [
      "MARKER : 0 , 7.240772247314453 , 0 , 0 , 15.104055404663086 , 0.8401870727539062 , 15.944242477416992\n",
      "Markers detected:  0\n",
      "Goes before check.\n",
      "Successful results.\n",
      "MARKER : 0 , 7.340908050537109 , 0 , 0 , 11.678934097290039 , 0.9028911590576172 , 12.581825256347656\n",
      "Markers detected:  0\n",
      "Goes before check.\n",
      "Successful results.\n",
      "MARKER : 0 , 7.755041122436523 , 0 , 0 , 13.556957244873047 , 0.9636878967285156 , 14.520645141601562\n",
      "Markers detected:  0\n",
      "Goes before check.\n",
      "Successful results.\n",
      "MARKER : 0 , 7.98797607421875 , 0 , 0 , 15.7470703125 , 1.0638236999511719 , 16.810894012451172\n",
      "Markers detected:  3\n",
      "Marker:  <Marker id=1 center=(35, 151)>\n",
      "Marker:  <Marker id=243 center=(36, 52)>\n",
      "Marker:  <Marker id=243 center=(36, 52)>\n",
      "Goes before check.\n",
      "Goes inside marker check.\n",
      "Successful results.\n",
      "MARKER : 0 , 9.415388107299805 , 0 , 0 , 14.932870864868164 , 2.360105514526367 , 17.29297637939453\n"
     ]
    },
    {
     "name": "stderr",
     "output_type": "stream",
     "text": [
      "150.229.118.204 - - [24/Jul/2018 12:23:27] \"POST / HTTP/1.1\" 200 -\n",
      "150.229.118.204 - - [24/Jul/2018 12:23:27] \"POST / HTTP/1.1\" 200 -\n",
      "150.229.118.204 - - [24/Jul/2018 12:23:27] \"POST / HTTP/1.1\" 200 -\n",
      "150.229.118.204 - - [24/Jul/2018 12:23:27] \"POST / HTTP/1.1\" 200 -\n"
     ]
    },
    {
     "name": "stdout",
     "output_type": "stream",
     "text": [
      "Markers detected:  3\n",
      "Marker:  <Marker id=1 center=(58, 142)>\n",
      "Marker:  <Marker id=1 center=(58, 142)>\n",
      "Marker:  <Marker id=243 center=(59, 48)>\n",
      "Goes before check.\n",
      "Goes inside marker check.\n",
      "Successful results.\n",
      "MARKER : 0 , 7.223844528198242 , 0 , 0 , 13.574838638305664 , 1.071929931640625 , 14.646768569946289\n",
      "Markers detected:  2\n",
      "Marker:  <Marker id=243 center=(83, 48)>\n",
      "Marker:  <Marker id=243 center=(83, 49)>\n",
      "Goes before check.\n",
      "Goes inside marker check.\n",
      "Successful results.\n",
      "MARKER : 0 , 9.695053100585938 , 0 , 0 , 16.2508487701416 , 1.148223876953125 , 17.399072647094727\n",
      "Markers detected:  2\n",
      "Marker:  <Marker id=1 center=(101, 135)>\n",
      "Marker:  <Marker id=243 center=(103, 51)>\n",
      "Goes before check.\n",
      "Goes inside marker check.\n",
      "Successful results.\n",
      "MARKER : 0 , 8.823156356811523 , 0 , 0 , 16.436100006103516 , 2.1669864654541016 , 18.603086471557617\n"
     ]
    },
    {
     "name": "stderr",
     "output_type": "stream",
     "text": [
      "150.229.118.204 - - [24/Jul/2018 12:23:27] \"POST / HTTP/1.1\" 200 -\n",
      "150.229.118.204 - - [24/Jul/2018 12:23:27] \"POST / HTTP/1.1\" 200 -\n",
      "150.229.118.204 - - [24/Jul/2018 12:23:27] \"POST / HTTP/1.1\" 200 -\n"
     ]
    },
    {
     "name": "stdout",
     "output_type": "stream",
     "text": [
      "Markers detected:  2\n",
      "Marker:  <Marker id=1 center=(114, 136)>\n",
      "Marker:  <Marker id=243 center=(117, 55)>\n",
      "Goes before check.\n",
      "Goes inside marker check.\n",
      "Successful results.\n",
      "MARKER : 0 , 11.548995971679688 , 0 , 0 , 20.1570987701416 , 1.3210773468017578 , 21.47817611694336\n",
      "Markers detected:  1\n",
      "Marker:  <Marker id=243 center=(126, 58)>\n",
      "Goes before check.\n",
      "Goes inside marker check.\n",
      "Successful results.\n",
      "MARKER : 0 , 9.900808334350586 , 0 , 0 , 20.519733428955078 , 0.9748935699462891 , 21.494626998901367\n",
      "Markers detected:  2\n",
      "Marker:  <Marker id=1 center=(120, 138)>\n",
      "Marker:  <Marker id=243 center=(125, 59)>\n",
      "Goes before check.\n",
      "Goes inside marker check.\n",
      "Successful results.\n",
      "MARKER : 0 , 8.394956588745117 , 0 , 0 , 16.762971878051758 , 0.8919239044189453 , 17.654895782470703\n"
     ]
    },
    {
     "name": "stderr",
     "output_type": "stream",
     "text": [
      "150.229.118.204 - - [24/Jul/2018 12:23:27] \"POST / HTTP/1.1\" 200 -\n",
      "150.229.118.204 - - [24/Jul/2018 12:23:27] \"POST / HTTP/1.1\" 200 -\n",
      "150.229.118.204 - - [24/Jul/2018 12:23:27] \"POST / HTTP/1.1\" 200 -\n"
     ]
    },
    {
     "name": "stdout",
     "output_type": "stream",
     "text": [
      "Markers detected:  2\n",
      "Marker:  <Marker id=243 center=(121, 58)>\n",
      "Marker:  <Marker id=243 center=(121, 58)>\n",
      "Goes before check.\n",
      "Goes inside marker check.\n",
      "Successful results.\n",
      "MARKER : 0 , 11.64698600769043 , 0 , 0 , 21.934032440185547 , 3.6401748657226562 , 25.574207305908203\n",
      "Markers detected:  1\n",
      "Marker:  <Marker id=243 center=(117, 58)>\n",
      "Goes before check.\n",
      "Goes inside marker check.\n",
      "Successful results.\n",
      "MARKER : 0 , 8.234977722167969 , 0 , 0 , 15.955209732055664 , 0.9636878967285156 , 16.91889762878418\n",
      "Markers detected:  3\n",
      "Marker:  <Marker id=1 center=(110, 139)>\n",
      "Marker:  <Marker id=243 center=(115, 57)>\n",
      "Marker:  <Marker id=243 center=(115, 58)>\n",
      "Goes before check.\n",
      "Goes inside marker check.\n",
      "Successful results.\n",
      "MARKER : 0 , 7.690906524658203 , 0 , 0 , 15.43569564819336 , 2.093076705932617 , 17.528772354125977\n",
      "Markers detected:  3\n",
      "Marker:  <Marker id=1 center=(109, 139)>\n",
      "Marker:  <Marker id=243 center=(114, 58)>\n",
      "Marker:  <Marker id=243 center=(114, 58)>\n",
      "Goes before check.\n",
      "Goes inside marker check.\n",
      "Successful results.\n",
      "MARKER : 0 , 9.044885635375977 , 0 , 0 , 19.788026809692383 , 1.0459423065185547 , 20.833969116210938\n"
     ]
    },
    {
     "name": "stderr",
     "output_type": "stream",
     "text": [
      "150.229.118.204 - - [24/Jul/2018 12:23:27] \"POST / HTTP/1.1\" 200 -\n",
      "150.229.118.204 - - [24/Jul/2018 12:23:27] \"POST / HTTP/1.1\" 200 -\n",
      "150.229.118.204 - - [24/Jul/2018 12:23:28] \"POST / HTTP/1.1\" 200 -\n",
      "150.229.118.204 - - [24/Jul/2018 12:23:28] \"POST / HTTP/1.1\" 200 -\n"
     ]
    },
    {
     "name": "stdout",
     "output_type": "stream",
     "text": [
      "Markers detected:  2\n",
      "Marker:  <Marker id=1 center=(108, 140)>\n",
      "Marker:  <Marker id=243 center=(113, 58)>\n",
      "Goes before check.\n",
      "Goes inside marker check.\n",
      "Successful results.\n",
      "MARKER : 0 , 10.135889053344727 , 0 , 0 , 19.95706558227539 , 2.2308826446533203 , 22.18794822692871\n",
      "Markers detected:  1\n",
      "Marker:  <Marker id=243 center=(112, 57)>\n",
      "Goes before check.\n",
      "Goes inside marker check.\n",
      "Successful results.\n",
      "MARKER : 0 , 7.920980453491211 , 0 , 0 , 17.739057540893555 , 0.8809566497802734 , 18.620014190673828\n",
      "Markers detected:  3\n",
      "Marker:  <Marker id=1 center=(106, 139)>\n",
      "Marker:  <Marker id=243 center=(111, 56)>\n",
      "Marker:  <Marker id=243 center=(111, 56)>\n",
      "Goes before check.\n",
      "Goes inside marker check.\n",
      "Successful results.\n",
      "MARKER : 0 , 10.097026824951172 , 0 , 0 , 19.86837387084961 , 1.1248588562011719 , 20.99323272705078\n",
      "Markers detected:  2\n",
      "Marker:  <Marker id=243 center=(111, 56)>\n",
      "Marker:  <Marker id=243 center=(111, 56)>\n",
      "Goes before check.\n",
      "Goes inside marker check.\n",
      "Successful results.\n",
      "MARKER : 0 , 9.956121444702148 , 0 , 0 "
     ]
    },
    {
     "name": "stderr",
     "output_type": "stream",
     "text": [
      "150.229.118.204 - - [24/Jul/2018 12:23:28] \"POST / HTTP/1.1\" 200 -\n",
      "150.229.118.204 - - [24/Jul/2018 12:23:28] \"POST / HTTP/1.1\" 200 -\n",
      "150.229.118.204 - - [24/Jul/2018 12:23:28] \"POST / HTTP/1.1\" 200 -\n",
      "150.229.118.204 - - [24/Jul/2018 12:23:28] \"POST / HTTP/1.1\" 200 -\n"
     ]
    },
    {
     "name": "stdout",
     "output_type": "stream",
     "text": [
      ", 17.96102523803711 , 1.1458396911621094 , 19.10686492919922\n",
      "Markers detected:  2\n",
      "Marker:  <Marker id=1 center=(103, 139)>\n",
      "Marker:  <Marker id=243 center=(109, 55)>\n",
      "Goes before check.\n",
      "Goes inside marker check.\n",
      "Successful results.\n",
      "MARKER : 0 , 9.605884552001953 , 0 , 0 , 16.325950622558594 , 2.0580291748046875 , 18.38397979736328\n",
      "Markers detected:  3\n",
      "Marker:  <Marker id=1 center=(101, 140)>\n",
      "Marker:  <Marker id=243 center=(108, 56)>\n",
      "Marker:  <Marker id=243 center=(108, 56)>\n",
      "Goes before check.\n",
      "Goes inside marker check.\n",
      "Successful results.\n",
      "MARKER : 0 , 9.730100631713867 , 0 , 0 , 23.035049438476562 , 1.645803451538086 , 24.68085289001465\n",
      "Markers detected:  0\n",
      "Goes before check.\n",
      "Successful results.\n",
      "MARKER : 0 , 8.460044860839844 , 0 , 0 , 14.557838439941406 , 0.9100437164306641 , 15.46788215637207\n",
      "Markers detected:  2\n",
      "Marker:  <Marker id=243 center=(106, 59)>\n",
      "Marker: "
     ]
    },
    {
     "name": "stderr",
     "output_type": "stream",
     "text": [
      "150.229.118.204 - - [24/Jul/2018 12:23:28] \"POST / HTTP/1.1\" 200 -\n",
      "150.229.118.204 - - [24/Jul/2018 12:23:28] \"POST / HTTP/1.1\" 200 -\n",
      "150.229.118.204 - - [24/Jul/2018 12:23:28] \"POST / HTTP/1.1\" 200 -\n",
      "150.229.118.204 - - [24/Jul/2018 12:23:28] \"POST / HTTP/1.1\" 200 -\n"
     ]
    },
    {
     "name": "stdout",
     "output_type": "stream",
     "text": [
      " <Marker id=243 center=(105, 59)>\n",
      "Goes before check.\n",
      "Goes inside marker check.\n",
      "Successful results.\n",
      "MARKER : 0 , 9.362936019897461 , 0 , 0 , 18.37015151977539 , 2.0847320556640625 , 20.454883575439453\n",
      "Markers detected:  2\n",
      "Marker:  <Marker id=1 center=(98, 144)>\n",
      "Marker:  <Marker id=243 center=(104, 60)>\n",
      "Goes before check.\n",
      "Goes inside marker check.\n",
      "Successful results.\n",
      "MARKER : 0 , 9.04703140258789 , 0 , 0 , 16.97707176208496 , 1.870870590209961 , 18.847942352294922\n",
      "Markers detected:  2\n",
      "Marker:  <Marker id=243 center=(104, 60)>\n",
      "Marker:  <Marker id=243 center=(104, 60)>\n",
      "Goes before check.\n",
      "Goes inside marker check.\n",
      "Successful results.\n",
      "MARKER : 0 , 9.11092758178711 , 0 , 0 , 17.664194107055664 , 0.9877681732177734 , 18.651962280273438\n",
      "Markers detected:  3\n",
      "Marker:  <Marker id=1 center=(98, 144)>\n",
      "Marker:  <Marker id=243 center=(105, 60)>\n",
      "Marker:  <Marker id=243 center=(104, 60)>\n",
      "Goes before check.\n",
      "Goes inside marker check.\n",
      "Successful results.\n"
     ]
    },
    {
     "name": "stderr",
     "output_type": "stream",
     "text": [
      "150.229.118.204 - - [24/Jul/2018 12:23:28] \"POST / HTTP/1.1\" 200 -\n",
      "150.229.118.204 - - [24/Jul/2018 12:23:28] \"POST / HTTP/1.1\" 200 -\n",
      "150.229.118.204 - - [24/Jul/2018 12:23:28] \"POST / HTTP/1.1\" 200 -\n"
     ]
    },
    {
     "name": "stdout",
     "output_type": "stream",
     "text": [
      "MARKER : 0 , 10.667085647583008 , 0 , 0 , 17.78101921081543 , 2.156972885131836 , 19.937992095947266\n",
      "Markers detected:  2\n",
      "Marker:  <Marker id=243 center=(104, 60)>\n",
      "Marker:  <Marker id=243 center=(105, 60)>\n",
      "Goes before check.\n",
      "Goes inside marker check.\n",
      "Successful results.\n",
      "MARKER : 0 , 9.317159652709961 , 0 , 0 , 18.57781410217285 , 1.3651847839355469 , 19.9429988861084\n",
      "Markers detected:  3\n",
      "Marker:  <Marker id=1 center=(98, 143)>\n",
      "Marker:  <Marker id=1 center=(98, 143)>\n",
      "Marker:  <Marker id=243 center=(105, 59)>\n",
      "Goes before check.\n",
      "Goes inside marker check.\n",
      "Successful results.\n",
      "MARKER : 0 , 9.31406021118164 , 0 , 0 , 17.192840576171875 , 1.0051727294921875 , 18.198013305664062\n",
      "Markers detected:  2\n",
      "Marker:  <Marker id=1 center=(98, 143)>\n",
      "Marker:  <Marker id=243 center=(105, 60)>\n",
      "Goes before check.\n",
      "Goes inside marker check.\n",
      "Successful results.\n",
      "MARKER : 0 , 9.234905242919922 , 0 , 0 , 15.606164932250977 , 2.1266937255859375 , 17.732858657836914\n",
      "Markers detected:  2\n",
      "Marker:  <Marker id=1 center=(98, 143)>\n",
      "Marker:  <Marker id=243 center=(104, 60)>\n",
      "Goes before check.\n",
      "Goes inside marker check.\n",
      "Successful results.\n",
      "MARKER : 0 , 9.250164031982422 , 0 , 0 , 17.70782470703125 , 0.9059906005859375 , 18.613815307617188\n"
     ]
    },
    {
     "name": "stderr",
     "output_type": "stream",
     "text": [
      "150.229.118.204 - - [24/Jul/2018 12:23:28] \"POST / HTTP/1.1\" 200 -\n",
      "150.229.118.204 - - [24/Jul/2018 12:23:28] \"POST / HTTP/1.1\" 200 -\n",
      "150.229.118.204 - - [24/Jul/2018 12:23:29] \"POST / HTTP/1.1\" 200 -\n",
      "150.229.118.204 - - [24/Jul/2018 12:23:29] \"POST / HTTP/1.1\" 200 -\n"
     ]
    },
    {
     "name": "stdout",
     "output_type": "stream",
     "text": [
      "Markers detected:  2\n",
      "Marker:  <Marker id=1 center=(98, 144)>\n",
      "Marker:  <Marker id=243 center=(104, 61)>\n",
      "Goes before check.\n",
      "Goes inside marker check.\n",
      "Successful results.\n",
      "MARKER : 0 , 8.832931518554688 , 0 , 0 , 21.305084228515625 , 2.1970272064208984 , 23.502111434936523\n",
      "Markers detected:  3\n",
      "Marker:  <Marker id=1 center=(98, 143)>\n",
      "Marker:  <Marker id=243 center=(104, 61)>\n",
      "Marker:  <Marker id=243 center=(104, 60)>\n",
      "Goes before check.\n",
      "Goes inside marker check.\n",
      "Successful results.\n",
      "MARKER : 0 , 9.611845016479492 , 0 , 0 , 15.506267547607422 , 1.5120506286621094 , 17.01831817626953\n",
      "Markers detected:  3\n",
      "Marker:  <Marker id=1 center=(98, 143)>\n",
      "Marker:  <Marker id=243 center=(104, 60)>\n",
      "Marker:  <Marker id=243 center=(104, 60)>\n",
      "Goes before check.\n",
      "Goes inside marker check.\n",
      "Successful results.\n",
      "MARKER : 0 , 10.589361190795898 , 0 , 0 , 16.791820526123047 , 2.0580291748046875 , 18.849849700927734\n",
      "Markers detected:  2\n",
      "Marker:  <Marker id=1 center=(98, 142)>\n",
      "Marker:  <Marker id=243 center=(104, 59)>\n",
      "Goes before check.\n",
      "Goes inside marker check.\n",
      "Successful results.\n",
      "MARKER : 0 , 8.421182632446289 , 0 , "
     ]
    },
    {
     "name": "stderr",
     "output_type": "stream",
     "text": [
      "150.229.118.204 - - [24/Jul/2018 12:23:29] \"POST / HTTP/1.1\" 200 -\n",
      "150.229.118.204 - - [24/Jul/2018 12:23:29] \"POST / HTTP/1.1\" 200 -\n",
      "150.229.118.204 - - [24/Jul/2018 12:23:29] \"POST / HTTP/1.1\" 200 -\n",
      "150.229.118.204 - - [24/Jul/2018 12:23:29] \"POST / HTTP/1.1\" 200 -\n"
     ]
    },
    {
     "name": "stdout",
     "output_type": "stream",
     "text": [
      "0 , 14.611005783081055 , 1.0180473327636719 , 15.629053115844727\n",
      "Markers detected:  2\n",
      "Marker:  <Marker id=243 center=(104, 58)>\n",
      "Marker:  <Marker id=243 center=(104, 59)>\n",
      "Goes before check.\n",
      "Goes inside marker check.\n",
      "Successful results.\n",
      "MARKER : 0 , 10.090112686157227 , 0 , 0 , 16.772031784057617 , 1.2118816375732422 , 17.98391342163086\n",
      "Markers detected:  3\n",
      "Marker:  <Marker id=1 center=(97, 140)>\n",
      "Marker:  <Marker id=243 center=(104, 58)>\n",
      "Marker:  <Marker id=243 center=(104, 57)>\n",
      "Goes before check.\n",
      "Goes inside marker check.\n",
      "Successful results.\n",
      "MARKER : 0 , 8.752107620239258 , 0 , 0 , 17.850160598754883 , 1.9457340240478516 , 19.795894622802734\n",
      "Markers detected:  3\n",
      "Marker:  <Marker id=1 center=(97, 139)>\n",
      "Marker:  <Marker id=243 center=(104, 57)>\n",
      "Marker:  <Marker id=243 center=(104, 57)>\n",
      "Goes before check.\n",
      "Goes inside marker check.\n",
      "Successful results.\n",
      "MARKER : 0 , 10.685920715332031 , 0 , 0 , 18.082857131958008 , 1.4050006866455078 , 19.487857818603516\n"
     ]
    },
    {
     "name": "stderr",
     "output_type": "stream",
     "text": [
      "150.229.118.204 - - [24/Jul/2018 12:23:29] \"POST / HTTP/1.1\" 200 -\n",
      "150.229.118.204 - - [24/Jul/2018 12:23:29] \"POST / HTTP/1.1\" 200 -\n",
      "150.229.118.204 - - [24/Jul/2018 12:23:29] \"POST / HTTP/1.1\" 200 -\n"
     ]
    },
    {
     "name": "stdout",
     "output_type": "stream",
     "text": [
      "Markers detected:  3\n",
      "Marker:  <Marker id=1 center=(95, 140)>\n",
      "Marker:  <Marker id=243 center=(103, 57)>\n",
      "Marker:  <Marker id=243 center=(103, 57)>\n",
      "Goes before check.\n",
      "Goes inside marker check.\n",
      "Successful results.\n",
      "MARKER : 0 , 9.981155395507812 , 0 , 0 , 15.763998031616211 , 1.2969970703125 , 17.06099510192871\n",
      "Markers detected:  2\n",
      "Marker:  <Marker id=243 center=(93, 57)>\n",
      "Marker:  <Marker id=243 center=(93, 57)>\n",
      "Goes before check.\n",
      "Goes inside marker check.\n",
      "Successful results.\n",
      "MARKER : 0 , 9.052276611328125 , 0 , 0 , 16.527175903320312 , 2.234935760498047 , 18.76211166381836\n",
      "Markers detected:  2\n",
      "Marker:  <Marker id=1 center=(80, 136)>\n",
      "Marker:  <Marker id=243 center=(87, 56)>\n",
      "Goes before check.\n",
      "Goes inside marker check.\n",
      "Successful results.\n",
      "MARKER : 0 , 8.60905647277832 , 0 , 0 , 25.906085968017578 , 0.885009765625 , 26.791095733642578\n",
      "Markers detected: "
     ]
    },
    {
     "name": "stderr",
     "output_type": "stream",
     "text": [
      "150.229.118.204 - - [24/Jul/2018 12:23:29] \"POST / HTTP/1.1\" 200 -\n",
      "150.229.118.204 - - [24/Jul/2018 12:23:29] \"POST / HTTP/1.1\" 200 -\n",
      "150.229.118.204 - - [24/Jul/2018 12:23:29] \"POST / HTTP/1.1\" 200 -\n"
     ]
    },
    {
     "name": "stdout",
     "output_type": "stream",
     "text": [
      " 3\n",
      "Marker:  <Marker id=1 center=(77, 133)>\n",
      "Marker:  <Marker id=243 center=(84, 55)>\n",
      "Marker:  <Marker id=243 center=(84, 55)>\n",
      "Goes before check.\n",
      "Goes inside marker check.\n",
      "Successful results.\n",
      "MARKER : 0 , 9.466886520385742 , 0 , 0 , 16.941070556640625 , 1.277923583984375 , 18.218994140625\n",
      "Markers detected:  2\n",
      "Marker:  <Marker id=1 center=(71, 131)>\n",
      "Marker:  <Marker id=243 center=(78, 56)>\n",
      "Goes before check.\n",
      "Goes inside marker check.\n",
      "Successful results.\n",
      "MARKER : 0 , 9.346246719360352 , 0 , 0 , 19.75083351135254 , 2.1941661834716797 , 21.94499969482422\n",
      "Markers detected:  3\n",
      "Marker:  <Marker id=1 center=(65, 133)>\n",
      "Marker:  <Marker id=243 center=(73, 59)>\n",
      "Marker:  <Marker id=243 center=(73, 59)>\n",
      "Goes before check.\n",
      "Goes inside marker check.\n",
      "Successful results.\n",
      "MARKER : 0 , 8.145809173583984 , 0 , 0 , 14.483928680419922 , 0.9241104125976562 , 15.408039093017578\n",
      "Markers detected:  0\n",
      "Goes before check.\n",
      "Successful results.\n",
      "MARKER : 0 , 8.647918701171875 , 0 , 0 , 15.766143798828125 , 1.1281967163085938 , 16.89434051513672\n"
     ]
    },
    {
     "name": "stderr",
     "output_type": "stream",
     "text": [
      "150.229.118.204 - - [24/Jul/2018 12:23:29] \"POST / HTTP/1.1\" 200 -\n",
      "150.229.118.204 - - [24/Jul/2018 12:23:29] \"POST / HTTP/1.1\" 200 -\n",
      "150.229.118.204 - - [24/Jul/2018 12:23:30] \"POST / HTTP/1.1\" 200 -\n",
      "150.229.118.204 - - [24/Jul/2018 12:23:30] \"POST / HTTP/1.1\" 200 -\n"
     ]
    },
    {
     "name": "stdout",
     "output_type": "stream",
     "text": [
      "Markers detected:  1\n",
      "Marker:  <Marker id=243 center=(70, 69)>\n",
      "Goes before check.\n",
      "Goes inside marker check.\n",
      "Successful results.\n",
      "MARKER : 0 , 10.792016983032227 , 0 , 0 , 16.492128372192383 , 2.368927001953125 , 18.861055374145508\n",
      "Markers detected:  2\n",
      "Marker:  <Marker id=1 center=(63, 139)>\n",
      "Marker:  <Marker id=243 center=(70, 71)>\n",
      "Goes before check.\n",
      "Goes inside marker check.\n",
      "Successful results.\n",
      "MARKER : 0 , 9.135961532592773 , 0 , 0 , 17.447948455810547 , 1.1820793151855469 , 18.630027770996094\n",
      "Markers detected:  1\n",
      "Marker:  <Marker id=243 center=(69, 73)>\n",
      "Goes before check.\n",
      "Goes inside marker check.\n",
      "Successful results.\n",
      "MARKER : 0 , 8.391857147216797 , 0 , 0 , 14.552831649780273 , 0.9801387786865234 , 15.532970428466797\n",
      "Markers detected:  1\n",
      "Marker:  <Marker id=243 center=(70, 77)>\n",
      "Goes before check.\n",
      "Goes inside marker check.\n",
      "Successful results.\n",
      "MARKER : 0 , 8.584976196289062 , 0 , 0 , 14.931201934814453 , 1.0118484497070312 , 15.943050384521484\n"
     ]
    },
    {
     "name": "stderr",
     "output_type": "stream",
     "text": [
      "150.229.118.204 - - [24/Jul/2018 12:23:30] \"POST / HTTP/1.1\" 200 -\n",
      "150.229.118.204 - - [24/Jul/2018 12:23:30] \"POST / HTTP/1.1\" 200 -\n",
      "150.229.118.204 - - [24/Jul/2018 12:23:30] \"POST / HTTP/1.1\" 200 -\n",
      "150.229.118.204 - - [24/Jul/2018 12:23:30] \"POST / HTTP/1.1\" 200 -\n"
     ]
    },
    {
     "name": "stdout",
     "output_type": "stream",
     "text": [
      "Markers detected:  1\n",
      "Marker:  <Marker id=243 center=(69, 77)>\n",
      "Goes before check.\n",
      "Goes inside marker check.\n",
      "Successful results.\n",
      "MARKER : 0 , 8.83793830871582 , 0 , 0 , 16.16811752319336 , 0.9238719940185547 , 17.091989517211914\n",
      "Markers detected:  0\n",
      "Goes before check.\n",
      "Successful results.\n",
      "MARKER : 0 , 9.0789794921875 , 0 , 0 , 14.97507095336914 , 0.9288787841796875 , 15.903949737548828\n"
     ]
    },
    {
     "name": "stderr",
     "output_type": "stream",
     "text": [
      "150.229.118.204 - - [24/Jul/2018 12:23:30] \"POST / HTTP/1.1\" 200 -\n",
      "150.229.118.204 - - [24/Jul/2018 12:23:30] \"POST / HTTP/1.1\" 200 -\n"
     ]
    }
   ],
   "source": [
    "# In[5]:\n",
    "\n",
    "run()"
   ]
  },
  {
   "cell_type": "code",
   "execution_count": null,
   "metadata": {
    "collapsed": true
   },
   "outputs": [],
   "source": []
  }
 ],
 "metadata": {
  "kernelspec": {
   "display_name": "Python 3",
   "language": "python",
   "name": "python3"
  },
  "language_info": {
   "codemirror_mode": {
    "name": "ipython",
    "version": 3
   },
   "file_extension": ".py",
   "mimetype": "text/x-python",
   "name": "python",
   "nbconvert_exporter": "python",
   "pygments_lexer": "ipython3",
   "version": "3.6.3"
  }
 },
 "nbformat": 4,
 "nbformat_minor": 2
}
